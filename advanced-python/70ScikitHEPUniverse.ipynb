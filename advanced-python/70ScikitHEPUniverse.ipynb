{
 "cells": [
  {
   "cell_type": "markdown",
   "metadata": {},
   "source": [
    "# 10: Scikit-HEP\n",
    "\n",
    "The [Scikit-HEP project](https://scikit-hep.org/) is a well maintained collection of HEP packages in Python that are useful for analysis. It contains tools ranging from plotting helpers, PDG lookup, DecayLanguage converters over high-performance histogramming libraries and ROOT I/O up to likelihood fitting and statistics libraries.\n",
    "\n",
    "This is a minimal overview over the packages that are available and have not yet been used in the other tutorials."
   ]
  },
  {
   "cell_type": "markdown",
   "metadata": {},
   "source": [
    "## formulate - converting expressions\n",
    "\n",
    "The package [formulate](https://github.com/scikit-hep/formulate) converts between different style of expressions,\n",
    "notably between\n",
    "[ROOT](https://root.cern.ch/doc/master/classTFormula.html) and\n",
    "[numexpr](https://numexpr.readthedocs.io/en/latest/user_guide.html). The former was used in the previous notebooks to apply cuts and create new variables with Pandas DataFrames `query` and `eval` methods.\n",
    "\n",
    "The standard usage is with a `from_style` and `to_style`, but it allows for more as it parses the string such as the variables used can be extracted."
   ]
  },
  {
   "cell_type": "code",
   "execution_count": 1,
   "metadata": {
    "execution": {
     "iopub.execute_input": "2024-01-10T15:12:57.924427Z",
     "iopub.status.busy": "2024-01-10T15:12:57.924270Z",
     "iopub.status.idle": "2024-01-10T15:12:58.250849Z",
     "shell.execute_reply": "2024-01-10T15:12:58.250355Z"
    }
   },
   "outputs": [
    {
     "data": {
      "text/plain": [
       "Expression<SQRT>(Expression<ADD>(Expression<POW>(Variable(X_PX), UnnamedConstant(2)), Expression<POW>(Variable(X_PY), UnnamedConstant(2)), Expression<POW>(Variable(X_PZ), UnnamedConstant(2))))"
      ]
     },
     "execution_count": 1,
     "metadata": {},
     "output_type": "execute_result"
    }
   ],
   "source": [
    "import formulate\n",
    "\n",
    "momentum = formulate.from_root('TMath::Sqrt(X_PX**2 + X_PY**2 + X_PZ**2)')\n",
    "momentum"
   ]
  },
  {
   "cell_type": "code",
   "execution_count": 2,
   "metadata": {
    "execution": {
     "iopub.execute_input": "2024-01-10T15:12:58.253021Z",
     "iopub.status.busy": "2024-01-10T15:12:58.252594Z",
     "iopub.status.idle": "2024-01-10T15:12:58.256208Z",
     "shell.execute_reply": "2024-01-10T15:12:58.255750Z"
    }
   },
   "outputs": [
    {
     "data": {
      "text/plain": [
       "'sqrt(((X_PX ** 2) + (X_PY ** 2) + (X_PZ ** 2)))'"
      ]
     },
     "execution_count": 2,
     "metadata": {},
     "output_type": "execute_result"
    }
   ],
   "source": [
    "momentum.to_numexpr()  # as used in Pandas eval/query"
   ]
  },
  {
   "cell_type": "code",
   "execution_count": 3,
   "metadata": {
    "execution": {
     "iopub.execute_input": "2024-01-10T15:12:58.257847Z",
     "iopub.status.busy": "2024-01-10T15:12:58.257702Z",
     "iopub.status.idle": "2024-01-10T15:12:58.260969Z",
     "shell.execute_reply": "2024-01-10T15:12:58.260566Z"
    }
   },
   "outputs": [
    {
     "data": {
      "text/plain": [
       "'TMath::Sqrt(((X_PX ** 2) + (X_PY ** 2) + (X_PZ ** 2)))'"
      ]
     },
     "execution_count": 3,
     "metadata": {},
     "output_type": "execute_result"
    }
   ],
   "source": [
    "momentum.to_root()  # as used in ROOT"
   ]
  },
  {
   "cell_type": "markdown",
   "metadata": {},
   "source": [
    "## Particle\n",
    "\n",
    "[particle](https://github.com/scikit-hep/particle) provides an easy access to particle properties such as mass and decay width from PDG. One example is to get the actual particle in a `Particle` object which holds all the relevant information."
   ]
  },
  {
   "cell_type": "code",
   "execution_count": 4,
   "metadata": {
    "execution": {
     "iopub.execute_input": "2024-01-10T15:12:58.262907Z",
     "iopub.status.busy": "2024-01-10T15:12:58.262385Z",
     "iopub.status.idle": "2024-01-10T15:12:58.373116Z",
     "shell.execute_reply": "2024-01-10T15:12:58.372678Z"
    }
   },
   "outputs": [],
   "source": [
    "# Particle\n",
    "\n",
    "from particle import Particle\n",
    "\n",
    "piplus = Particle.from_pdgid(211)"
   ]
  },
  {
   "cell_type": "markdown",
   "metadata": {},
   "source": [
    "Here we can access all the properties we wish to such as mass and decay width."
   ]
  },
  {
   "cell_type": "code",
   "execution_count": 5,
   "metadata": {
    "execution": {
     "iopub.execute_input": "2024-01-10T15:12:58.375197Z",
     "iopub.status.busy": "2024-01-10T15:12:58.375040Z",
     "iopub.status.idle": "2024-01-10T15:12:58.378291Z",
     "shell.execute_reply": "2024-01-10T15:12:58.377840Z"
    }
   },
   "outputs": [
    {
     "data": {
      "text/plain": [
       "139.57039"
      ]
     },
     "execution_count": 5,
     "metadata": {},
     "output_type": "execute_result"
    }
   ],
   "source": [
    "piplus.mass"
   ]
  },
  {
   "cell_type": "code",
   "execution_count": 6,
   "metadata": {
    "execution": {
     "iopub.execute_input": "2024-01-10T15:12:58.380134Z",
     "iopub.status.busy": "2024-01-10T15:12:58.379827Z",
     "iopub.status.idle": "2024-01-10T15:12:58.382806Z",
     "shell.execute_reply": "2024-01-10T15:12:58.382371Z"
    }
   },
   "outputs": [
    {
     "data": {
      "text/plain": [
       "1.0"
      ]
     },
     "execution_count": 6,
     "metadata": {},
     "output_type": "execute_result"
    }
   ],
   "source": [
    "piplus.charge"
   ]
  },
  {
   "cell_type": "code",
   "execution_count": 7,
   "metadata": {
    "execution": {
     "iopub.execute_input": "2024-01-10T15:12:58.384418Z",
     "iopub.status.busy": "2024-01-10T15:12:58.384274Z",
     "iopub.status.idle": "2024-01-10T15:12:58.387176Z",
     "shell.execute_reply": "2024-01-10T15:12:58.386767Z"
    }
   },
   "outputs": [
    {
     "data": {
      "text/plain": [
       "2.5284e-14"
      ]
     },
     "execution_count": 7,
     "metadata": {},
     "output_type": "execute_result"
    }
   ],
   "source": [
    "piplus.width"
   ]
  },
  {
   "cell_type": "code",
   "execution_count": 8,
   "metadata": {
    "execution": {
     "iopub.execute_input": "2024-01-10T15:12:58.388776Z",
     "iopub.status.busy": "2024-01-10T15:12:58.388623Z",
     "iopub.status.idle": "2024-01-10T15:12:58.391805Z",
     "shell.execute_reply": "2024-01-10T15:12:58.391381Z"
    }
   },
   "outputs": [
    {
     "data": {
      "text/plain": [
       "'pi+'"
      ]
     },
     "execution_count": 8,
     "metadata": {},
     "output_type": "execute_result"
    }
   ],
   "source": [
    "piplus.name"
   ]
  },
  {
   "cell_type": "markdown",
   "metadata": {},
   "source": [
    "It also serves as a data-base like structure and we can do searches.\n",
    "Let's find all neutral beauty hadrons."
   ]
  },
  {
   "cell_type": "code",
   "execution_count": 9,
   "metadata": {
    "execution": {
     "iopub.execute_input": "2024-01-10T15:12:58.393402Z",
     "iopub.status.busy": "2024-01-10T15:12:58.393259Z",
     "iopub.status.idle": "2024-01-10T15:12:58.423639Z",
     "shell.execute_reply": "2024-01-10T15:12:58.423256Z"
    }
   },
   "outputs": [
    {
     "data": {
      "text/plain": [
       "[<Particle: name=\"B0\", pdgid=511, mass=5279.66 ± 0.12 MeV>,\n",
       " <Particle: name=\"B~0\", pdgid=-511, mass=5279.66 ± 0.12 MeV>,\n",
       " <Particle: name=\"B*0\", pdgid=513, mass=5324.71 ± 0.21 MeV>,\n",
       " <Particle: name=\"B*~0\", pdgid=-513, mass=5324.71 ± 0.21 MeV>,\n",
       " <Particle: name=\"B(2)*(5747)0\", pdgid=515, mass=5739.5 ± 0.7 MeV>,\n",
       " <Particle: name=\"B(2)*(5747)~0\", pdgid=-515, mass=5739.5 ± 0.7 MeV>,\n",
       " <Particle: name=\"B(s)0\", pdgid=531, mass=5366.92 ± 0.10 MeV>,\n",
       " <Particle: name=\"B(s)~0\", pdgid=-531, mass=5366.92 ± 0.10 MeV>,\n",
       " <Particle: name=\"B(s)*0\", pdgid=533, mass=5415.4 + 1.8 - 1.5 MeV>,\n",
       " <Particle: name=\"B(s)*~0\", pdgid=-533, mass=5415.4 + 1.8 - 1.5 MeV>,\n",
       " <Particle: name=\"B(s2)*(5840)0\", pdgid=535, mass=5839.86 ± 0.12 MeV>,\n",
       " <Particle: name=\"B(s2)*(5840)~0\", pdgid=-535, mass=5839.86 ± 0.12 MeV>,\n",
       " <Particle: name=\"eta(b)(1S)\", pdgid=551, mass=9398.7 ± 2.0 MeV>,\n",
       " <Particle: name=\"Upsilon(1S)\", pdgid=553, mass=9460.40 ± 0.10 MeV>,\n",
       " <Particle: name=\"chi(b2)(1P)\", pdgid=555, mass=9912.2 ± 0.4 MeV>,\n",
       " <Particle: name=\"Lambda(b)0\", pdgid=5122, mass=5619.60 ± 0.17 MeV>,\n",
       " <Particle: name=\"Lambda(b)~0\", pdgid=-5122, mass=5619.60 ± 0.17 MeV>,\n",
       " <Particle: name=\"Xi(b)0\", pdgid=5232, mass=5791.9 ± 0.5 MeV>,\n",
       " <Particle: name=\"Xi(b)~0\", pdgid=-5232, mass=5791.9 ± 0.5 MeV>,\n",
       " <Particle: name=\"chi(b0)(1P)\", pdgid=10551, mass=9859.4 ± 0.5 MeV>,\n",
       " <Particle: name=\"h(b)(1P)\", pdgid=10553, mass=9899.3 ± 0.8 MeV>,\n",
       " <Particle: name=\"chi(b1)(1P)\", pdgid=20553, mass=9892.8 ± 0.4 MeV>,\n",
       " <Particle: name=\"Upsilon(2)(1D)\", pdgid=20555, mass=10163.7 ± 1.4 MeV>,\n",
       " <Particle: name=\"Upsilon(2S)\", pdgid=100553, mass=10023.4 ± 0.5 MeV>,\n",
       " <Particle: name=\"chi(b2)(2P)\", pdgid=100555, mass=10268.6 ± 0.5 MeV>,\n",
       " <Particle: name=\"chi(b0)(2P)\", pdgid=110551, mass=10232.5 ± 0.6 MeV>,\n",
       " <Particle: name=\"h(b)(2P)\", pdgid=110553, mass=10259.8 ± 1.2 MeV>,\n",
       " <Particle: name=\"chi(b1)(2P)\", pdgid=120553, mass=10255.5 ± 0.5 MeV>,\n",
       " <Particle: name=\"Upsilon(3S)\", pdgid=200553, mass=10355.1 ± 0.5 MeV>,\n",
       " <Particle: name=\"chi(b2)(3P)\", pdgid=200555, mass=10524.0 ± 0.8 MeV>,\n",
       " <Particle: name=\"chi(b1)(3P)\", pdgid=220553, mass=10513.4 ± 0.7 MeV>,\n",
       " <Particle: name=\"Upsilon(4S)\", pdgid=300553, mass=10579.4 ± 1.2 MeV>,\n",
       " <Particle: name=\"Upsilon(10860)\", pdgid=9000553, mass=10885.2 + 2.6 - 1.6 MeV>,\n",
       " <Particle: name=\"Upsilon(11020)\", pdgid=9010553, mass=11000 ± 4 MeV>]"
      ]
     },
     "execution_count": 9,
     "metadata": {},
     "output_type": "execute_result"
    }
   ],
   "source": [
    "Particle.findall(lambda p: p.pdgid.has_bottom and p.charge==0)"
   ]
  },
  {
   "cell_type": "markdown",
   "metadata": {},
   "source": [
    "## hepunits\n",
    "\n",
    "Ever hardcoded a physics constant? Or needed to manually convert units?\n",
    "That's what the neat [hepunits](https://github.com/scikit-hep/hepunits) package is for.\n",
    "\n",
    "It contains constants as well as units that all get converted into the standard units (e.g. MeV) which allows for calculations without the need to explicitly convert by just adding the unit; furthermore it greatly increases readability"
   ]
  },
  {
   "cell_type": "code",
   "execution_count": 10,
   "metadata": {
    "execution": {
     "iopub.execute_input": "2024-01-10T15:12:58.425247Z",
     "iopub.status.busy": "2024-01-10T15:12:58.425099Z",
     "iopub.status.idle": "2024-01-10T15:12:58.428128Z",
     "shell.execute_reply": "2024-01-10T15:12:58.427665Z"
    }
   },
   "outputs": [
    {
     "data": {
      "text/plain": [
       "299.792458"
      ]
     },
     "execution_count": 10,
     "metadata": {},
     "output_type": "execute_result"
    }
   ],
   "source": [
    "from hepunits.constants import c_light\n",
    "\n",
    "c_light"
   ]
  },
  {
   "cell_type": "code",
   "execution_count": 11,
   "metadata": {
    "execution": {
     "iopub.execute_input": "2024-01-10T15:12:58.429681Z",
     "iopub.status.busy": "2024-01-10T15:12:58.429537Z",
     "iopub.status.idle": "2024-01-10T15:12:58.431681Z",
     "shell.execute_reply": "2024-01-10T15:12:58.431303Z"
    }
   },
   "outputs": [],
   "source": [
    "import hepunits as u  # u for units"
   ]
  },
  {
   "cell_type": "code",
   "execution_count": 12,
   "metadata": {
    "execution": {
     "iopub.execute_input": "2024-01-10T15:12:58.433269Z",
     "iopub.status.busy": "2024-01-10T15:12:58.433126Z",
     "iopub.status.idle": "2024-01-10T15:12:58.436184Z",
     "shell.execute_reply": "2024-01-10T15:12:58.435758Z"
    }
   },
   "outputs": [
    {
     "data": {
      "text/plain": [
       "1250.0"
      ]
     },
     "execution_count": 12,
     "metadata": {},
     "output_type": "execute_result"
    }
   ],
   "source": [
    "150 * u.MeV + 1.1 * u.GeV  # result in MeV"
   ]
  },
  {
   "cell_type": "markdown",
   "metadata": {
    "pycharm": {
     "name": "#%% md\n"
    }
   },
   "source": [
    "## Vector\n",
    "\n",
    "Manipulating and calculation vector quantities can be done using the [vector](https://github.com/scikit-hep/vector) library. It\n",
    "provides functionality to load, combine and work with vectors."
   ]
  },
  {
   "cell_type": "code",
   "execution_count": 13,
   "metadata": {
    "execution": {
     "iopub.execute_input": "2024-01-10T15:12:58.437776Z",
     "iopub.status.busy": "2024-01-10T15:12:58.437633Z",
     "iopub.status.idle": "2024-01-10T15:12:58.506989Z",
     "shell.execute_reply": "2024-01-10T15:12:58.506554Z"
    }
   },
   "outputs": [],
   "source": [
    "import vector"
   ]
  },
  {
   "cell_type": "code",
   "execution_count": 14,
   "metadata": {
    "execution": {
     "iopub.execute_input": "2024-01-10T15:12:58.509143Z",
     "iopub.status.busy": "2024-01-10T15:12:58.508908Z",
     "iopub.status.idle": "2024-01-10T15:12:58.515662Z",
     "shell.execute_reply": "2024-01-10T15:12:58.515255Z"
    },
    "pycharm": {
     "name": "#%%\n"
    }
   },
   "outputs": [
    {
     "data": {
      "text/plain": [
       "MomentumNumpy4D([(1.1, 2.1, 3.1, 4.1), (1.2, 2.2, 3.2, 4.2), (1.3, 2.3, 3.3, 4.3),\n",
       "                 (1.4, 2.4, 3.4, 4.4), (1.5, 2.5, 3.5, 4.5)],\n",
       "                dtype=[('rho', '<f8'), ('phi', '<f8'), ('eta', '<f8'), ('tau', '<f8')])"
      ]
     },
     "execution_count": 14,
     "metadata": {},
     "output_type": "execute_result"
    }
   ],
   "source": [
    "# NumPy-like arguments (literally passed through to NumPy)\n",
    "vector.array([\n",
    "    (1.1, 2.1), (1.2, 2.2), (1.3, 2.3), (1.4, 2.4), (1.5, 2.5)\n",
    "], dtype=[(\"x\", float), (\"y\", float)])\n",
    "\n",
    "# Pandas-like arguments (dict from names to column arrays)\n",
    "vector.array({\"x\": [1.1, 1.2, 1.3, 1.4, 1.5], \"y\": [2.1, 2.2, 2.3, 2.4, 2.5]})\n",
    "\n",
    "# As with objects, the coordinate system and dimension is taken from the names of the fields.\n",
    "vec1 = vector.array({\n",
    "    \"x\": [1.1, 1.2, 1.3, 1.4, 1.5],\n",
    "    \"y\": [2.1, 2.2, 2.3, 2.4, 2.5],\n",
    "    \"z\": [3.1, 3.2, 3.3, 3.4, 3.5],\n",
    "    \"t\": [4.1, 4.2, 4.3, 4.4, 4.5],\n",
    "})\n",
    "\n",
    "vector.array({\n",
    "    \"pt\": [1.1, 1.2, 1.3, 1.4, 1.5],\n",
    "    \"phi\": [2.1, 2.2, 2.3, 2.4, 2.5],\n",
    "    \"eta\": [3.1, 3.2, 3.3, 3.4, 3.5],\n",
    "    \"M\": [4.1, 4.2, 4.3, 4.4, 4.5],\n",
    "})"
   ]
  },
  {
   "cell_type": "markdown",
   "metadata": {},
   "source": [
    "### Vector properties\n",
    "\n",
    "Vectors can have properties and provide quantities as attributes"
   ]
  },
  {
   "cell_type": "code",
   "execution_count": 15,
   "metadata": {
    "execution": {
     "iopub.execute_input": "2024-01-10T15:12:58.517330Z",
     "iopub.status.busy": "2024-01-10T15:12:58.517184Z",
     "iopub.status.idle": "2024-01-10T15:12:58.528210Z",
     "shell.execute_reply": "2024-01-10T15:12:58.527808Z"
    }
   },
   "outputs": [
    {
     "data": {
      "text/plain": [
       "1.1035868415601453"
      ]
     },
     "execution_count": 15,
     "metadata": {},
     "output_type": "execute_result"
    }
   ],
   "source": [
    "vector.obj(x=1, y=2, z=3).theta\n",
    "vector.obj(x=1, y=2, z=3).eta"
   ]
  },
  {
   "cell_type": "code",
   "execution_count": 16,
   "metadata": {
    "execution": {
     "iopub.execute_input": "2024-01-10T15:12:58.529958Z",
     "iopub.status.busy": "2024-01-10T15:12:58.529649Z",
     "iopub.status.idle": "2024-01-10T15:12:58.533091Z",
     "shell.execute_reply": "2024-01-10T15:12:58.532691Z"
    }
   },
   "outputs": [
    {
     "data": {
      "text/plain": [
       "VectorObject4D(x=3, y=4, z=-2, t=10)"
      ]
     },
     "execution_count": 16,
     "metadata": {},
     "output_type": "execute_result"
    }
   ],
   "source": [
    "vector.obj(x=3, y=4, z=-2, t=10)   # Cartesian 4D vector"
   ]
  },
  {
   "cell_type": "code",
   "execution_count": null,
   "metadata": {},
   "outputs": [],
   "source": []
  }
 ],
 "metadata": {
  "kernelspec": {
   "display_name": "Python 3 (ipykernel)",
   "language": "python",
   "name": "python3"
  },
  "language_info": {
   "codemirror_mode": {
    "name": "ipython",
    "version": 3
   },
   "file_extension": ".py",
   "mimetype": "text/x-python",
   "name": "python",
   "nbconvert_exporter": "python",
   "pygments_lexer": "ipython3",
   "version": "3.11.7"
  }
 },
 "nbformat": 4,
 "nbformat_minor": 4
}
