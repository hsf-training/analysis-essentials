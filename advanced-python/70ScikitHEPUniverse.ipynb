{
 "cells": [
  {
   "cell_type": "markdown",
   "metadata": {},
   "source": [
    "# Scikit-HEP\n",
    "\n",
    "The [Scikit-HEP project](https://scikit-hep.org/) is a well maintained collection of HEP packages in Python that are useful for analysis. It contains tools ranging from plotting helpers, PDG lookup, DecayLanguage converters over high-performance histogramming libraries and ROOT I/O up to likelihood fitting and statistics libraries.\n",
    "\n",
    "This is a minimal overview over the packages that are available and have not yet been used in the other tutorials."
   ]
  },
  {
   "cell_type": "markdown",
   "metadata": {},
   "source": [
    "## formulate - converting expressions\n",
    "\n",
    "The package [formulate](https://github.com/scikit-hep/formulate) converts between different style of expressions,\n",
    "notably between\n",
    "[ROOT](https://root.cern.ch/doc/master/classTFormula.html) and\n",
    "[numexpr](https://numexpr.readthedocs.io/en/latest/user_guide.html). The former was used in the previous notebooks to apply cuts and create new variables with Pandas DataFrames `query` and `eval` methods.\n",
    "\n",
    "The standard usage is with a `from_style` and `to_style`, but it allows for more as it parses the string such as the variables used can be extracted."
   ]
  },
  {
   "cell_type": "code",
   "execution_count": null,
   "metadata": {},
   "outputs": [],
   "source": [
    "import formulate\n",
    "\n",
    "momentum = formulate.from_root('TMath::Sqrt(X_PX**2 + X_PY**2 + X_PZ**2)')\n",
    "momentum"
   ]
  },
  {
   "cell_type": "code",
   "execution_count": null,
   "metadata": {},
   "outputs": [],
   "source": [
    "momentum.to_numexpr()  # as used in Pandas eval/query"
   ]
  },
  {
   "cell_type": "code",
   "execution_count": null,
   "metadata": {},
   "outputs": [],
   "source": [
    "momentum.to_root()  # as used in ROOT"
   ]
  },
  {
   "cell_type": "markdown",
   "metadata": {},
   "source": [
    "## Particle\n",
    "\n",
    "[particle](https://github.com/scikit-hep/particle) provides an easy access to particle properties such as mass and decay width from PDG. One example is to get the actual particle in a `Particle` object which holds all the relevant information."
   ]
  },
  {
   "cell_type": "code",
   "execution_count": null,
   "metadata": {},
   "outputs": [],
   "source": [
    "# Particle\n",
    "\n",
    "from particle import Particle\n",
    "\n",
    "piplus = Particle.from_pdgid(211)"
   ]
  },
  {
   "cell_type": "markdown",
   "metadata": {},
   "source": [
    "Here we can access all the properties we wish to such as mass and decay width."
   ]
  },
  {
   "cell_type": "code",
   "execution_count": null,
   "metadata": {},
   "outputs": [],
   "source": [
    "piplus.mass"
   ]
  },
  {
   "cell_type": "code",
   "execution_count": null,
   "metadata": {},
   "outputs": [],
   "source": [
    "piplus.charge"
   ]
  },
  {
   "cell_type": "code",
   "execution_count": null,
   "metadata": {},
   "outputs": [],
   "source": [
    "piplus.width"
   ]
  },
  {
   "cell_type": "code",
   "execution_count": null,
   "metadata": {},
   "outputs": [],
   "source": [
    "piplus.name"
   ]
  },
  {
   "cell_type": "markdown",
   "metadata": {},
   "source": [
    "It also serves as a data-base like structure and we can do searches.\n",
    "Let's find all neutral beauty hadrons."
   ]
  },
  {
   "cell_type": "code",
   "execution_count": null,
   "metadata": {},
   "outputs": [],
   "source": [
    "Particle.findall(lambda p: p.pdgid.has_bottom and p.charge==0)"
   ]
  },
  {
   "cell_type": "markdown",
   "metadata": {},
   "source": [
    "## hepunits\n",
    "\n",
    "Ever hardcoded a physics constant? Or needed to manually convert units?\n",
    "That's what the neat [hepunits](https://github.com/scikit-hep/hepunits) package is for.\n",
    "\n",
    "It contains constants as well as units that all get converted into the standard units (e.g. MeV) which allows for calculations without the need to explicitly convert by just adding the unit; furthermore it greatly increases readability"
   ]
  },
  {
   "cell_type": "code",
   "execution_count": null,
   "metadata": {},
   "outputs": [],
   "source": [
    "from hepunits.constants import c_light\n",
    "\n",
    "c_light"
   ]
  },
  {
   "cell_type": "code",
   "execution_count": null,
   "metadata": {},
   "outputs": [],
   "source": [
    "import hepunits as u  # u for units"
   ]
  },
  {
   "cell_type": "code",
   "execution_count": null,
   "metadata": {},
   "outputs": [],
   "source": [
    "150 * u.MeV + 1.1 * u.GeV  # result in MeV"
   ]
  }
 ],
 "metadata": {
  "kernelspec": {
   "display_name": "Python 3",
   "language": "python",
   "name": "python3"
  },
  "language_info": {
   "codemirror_mode": {
    "name": "ipython",
    "version": 3
   },
   "file_extension": ".py",
   "mimetype": "text/x-python",
   "name": "python",
   "nbconvert_exporter": "python",
   "pygments_lexer": "ipython3",
   "version": "3.8.10"
  }
 },
 "nbformat": 4,
 "nbformat_minor": 4
}
