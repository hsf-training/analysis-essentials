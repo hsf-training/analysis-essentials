{
	"cells": [{
			"cell_type": "markdown",
			"metadata": {},
			"source": [
				"### Model tuning setup"
			]
		},
		{
			"cell_type": "code",
			"metadata": {},
			"source": [
				"#%store -r bkg_df\n",
				"#%store -r mc_df\n",
				"#%store -r data_df"
			],
			"execution_count": null,
			"outputs": []
		},
		{
			"cell_type": "code",
			"metadata": {},
			"source": [
				"#@title\n",
				"#!pip install uproot\n",
				"#!pip install sklearn\n",
				"\n",
				"import time\n",
				"from matplotlib import pyplot as plt\n",
				"import uproot\n",
				"\n",
				"import numpy as np\n",
				"import pandas as pd\n",
				"import xgboost as xgb\n",
				"\n",
				"from xgboost.sklearn import XGBClassifier\n",
				"from sklearn.ensemble import AdaBoostClassifier, GradientBoostingClassifier\n",
				"\n",
				"from sklearn import metrics\n",
				"from sklearn.metrics import roc_curve, auc\n",
				"\n",
				"from sklearn.model_selection import KFold, train_test_split, cross_validate, cross_val_score, GridSearchCV"
			],
			"execution_count": null,
			"outputs": []
		},
		{
			"cell_type": "code",
                        "metadata": {},
                        "source": [
                                "# Time and processing check for the lesson\n",
                                "stt = time.time()\n",
                                "stc = time.clock()"
                        ],
                        "execution_count": null,
                        "outputs": []
                },
		{
			"cell_type": "code",
			"metadata": {},
			"source": [
				"def plot_mass(df):\n",
				"    counts, bins, _ = plt.hist(df['Jpsi_M'], bins=100, range=[2.75, 3.5], histtype='step')\n",
				"    # You can also use LaTeX in the axis label\n",
				"    plt.xlabel('$J/\\\\psi$ mass [GeV]')\n",
				"    plt.xlim(bins[0], bins[-1])"
			],
			"execution_count": null,
			"outputs": []
		},
		{
			"cell_type": "code",
			"metadata": {},
			"source": [
				"def plot_comparision(var, mc_df, bkg_df):\n",
				"    _, bins, _ = plt.hist(mc_df[var], bins=100, histtype='step', label='MC', density=1)\n",
				"    _, bins, _ = plt.hist(bkg_df[var], bins=bins, histtype='step', label='Background', density=1)\n",
				"    plt.xlabel(var)\n",
				"    plt.xlim(bins[0], bins[-1])\n",
				"    plt.legend(loc='best')"
			],
			"execution_count": null,
			"outputs": []
		},
		{
			"cell_type": "code",
			"metadata": {},
			"source": [
				"def plot_roc(bdt, training_data, training_columns, label=None):\n",
				"    y_score = bdt.predict_proba(training_data[training_columns])[:,1]\n",
				"    fpr, tpr, thresholds = roc_curve(training_data['catagory'], y_score)\n",
				"    area = auc(fpr, tpr)\n",
				"\n",
				"    plt.plot([0, 1], [0, 1], color='grey', linestyle='--')\n",
				"    if label:\n",
				"        plt.plot(fpr, tpr, label=f'{label} (area = {area:.2f})')\n",
				"    else:\n",
				"        plt.plot(fpr, tpr, label=f'ROC curve (area = {area:.2f})')\n",
				"    plt.xlim(0.0, 1.0)\n",
				"    plt.ylim(0.0, 1.0)\n",
				"    plt.xlabel('False Positive Rate')\n",
				"    plt.ylabel('True Positive Rate')\n",
				"    plt.legend(loc='lower right')\n",
				"    # We can make the plot look nicer by forcing the grid to be square\n",
				"    plt.gca().set_aspect('equal', adjustable='box')"
			],
			"execution_count": null,
			"outputs": []
		},
		{
			"cell_type": "code",
			"metadata": {},
			"source": [
				"def plot_significance(bdt, training_data, training_columns, label=None):\n",
				"    y_score = bdt.predict_proba(training_data[training_columns])[:,1]\n",
				"    fpr, tpr, thresholds = roc_curve(training_data['catagory'], y_score)\n",
				"\n",
				"    n_sig = 1200\n",
				"    n_bkg = 23000\n",
				"    S = n_sig*tpr\n",
				"    B = n_bkg*fpr\n",
				"    metric = S/np.sqrt(S+B)\n",
				"\n",
				"    plt.plot(thresholds, metric, label=label)\n",
				"    plt.xlabel('BDT cut value')\n",
				"    plt.ylabel('$\\\\frac{S}{\\\\sqrt{S+B}}$')\n",
				"    plt.xlim(0, 1.0)\n",
				"\n",
				"    optimal_cut = thresholds[np.argmax(metric)]\n",
				"    plt.axvline(optimal_cut, color='black', linestyle='--')"
			],
			"execution_count": null,
			"outputs": []
		},
		{
			"cell_type": "code",
			"metadata": {},
			"source": [
				"#max_entries = 1000 # try running with low stats for bug fixing your changes quickly \n",
				"data_df = uproot.open('https://cern.ch/starterkit/data/advanced-python-2018/real_data.root',\n",
				"                    httpsource={'chunkbytes': 1024*1024, 'limitbytes': 33554432, 'parallel': 64}\n",
				"                    )['DecayTree'].pandas.df()#(entrystop=max_entries)\n",
				"mc_df = uproot.open('https://cern.ch/starterkit/data/advanced-python-2018/simulated_data.root',\n",
				"                    httpsource={'chunkbytes': 1024*1024, 'limitbytes': 33554432, 'parallel': 64}\n",
				"                    )['DecayTree'].pandas.df()#(entrystop=max_entries)\n",
				"bkg_df = data_df.query('~(3.0 < Jpsi_M < 3.2)')\n",
				"\n",
				"for df in [mc_df, data_df, bkg_df]:\n",
				"    df.eval('Jpsi_eta = arctanh(Jpsi_PZ/Jpsi_P)', inplace=True)\n",
				"    df.eval('mup_P = sqrt(mum_PX**2 + mum_PY**2 + mum_PZ**2)', inplace=True)\n",
				"    df.eval('mum_P = sqrt(mum_PX**2 + mum_PY**2 + mum_PZ**2)', inplace=True)\n",
				"\n",
				"bkg_df['catagory'] = 0  # Use 0 for background\n",
				"mc_df['catagory'] = 1  # Use 1 for signal\n",
				"training_data = pd.concat([bkg_df, mc_df], copy=True, ignore_index=True)\n",
				"for df in [mc_df, bkg_df, data_df, training_data]:\n",
				"    df['IPdiff'] = np.abs(df['mum_PT'] - df['mup_PT'])\n",
				"                          \n",
				"training_columns = [\n",
				"    'Jpsi_PT',\n",
				"    'mup_PT', 'mup_eta', 'mup_ProbNNmu', 'mup_IP',\n",
				"    'mum_PT', 'mum_eta', 'mum_ProbNNmu', 'mum_IP',\n",
				"]"
			],
			"execution_count": null,
			"outputs": []
		},
		{
			"cell_type": "markdown",
			"metadata": {},
			"source": [
				"Previously we trained an XGBClassifier with the default settings, with learning rate = 0.3 and maximum iterations = 100. This cut off to the training process may be limiting the performance of our model. We can monitor the performance of our model as a function of training iteration and stop the training when the gradient approximates zero. "
			]
		},
		{
			"cell_type": "code",
			"metadata": {},
			"source": [
				"X1, y1 = training_data[training_columns], training_data['catagory']\n",
				"X_train, X_test, y_train, y_test = train_test_split(X1, y1) \n",
				"# default train_size = 0.25, this can be varied to suit your data\n",
				"\n",
				"LR = 0.3 # the coefficient of step size decay, eta, has alias 'learning_rate' with default 0.3\n",
				"\n",
				"stime = time.time()\n",
				"bdt = XGBClassifier(learning_rate = LR, n_estimators=100, seed=123, n_threads=-1)\n",
				"bdt.fit(training_data[training_columns], training_data['catagory'])\n",
				"print(\"XGBoost --- %s seconds ---\" % (time.time() - stime))\n",
				"\n",
				"for df in [mc_df, bkg_df, data_df, training_data]:\n",
				"    df['XGB'] = bdt.predict_proba(df[training_columns])[:,1]"
			],
			"execution_count": null,
			"outputs": []
		},
		{
			"cell_type": "markdown",
			"metadata": {},
			"source": [
				"### Cross-validation\n",
				"\n",
				"Splitting the data into randomised subsets for training allows you to monitor your model's performance on the fly using the statistically independant remainder of your sample - this is called cross-validation (CV). We can see below that at the 100th iteration the metrics still show a trend of improvement."
			]
		},
		{
			"cell_type": "code",
			"metadata": {},
			"source": [
				"def training_monitor(alg): \n",
				"\n",
				"  # A model trained with eval_set and eval_metric will return evals_result\n",
				"  results = alg.evals_result()\n",
				"  epochs = len(results['validation_0']['logloss'])\n",
				"  x_axis = range(0, epochs)\n",
				"\n",
				"  # Plotting logLoss as a function of training iteration\n",
				"  fig, ax = plt.subplots()\n",
				"  ax.plot(x_axis, results['validation_0']['logloss'], label='Train') # for each eval_set\n",
				"  if results['validation_1']: ax.plot(x_axis, results['validation_1']['logloss'], label='Test') \n",
				"  ax.legend()\n",
				"  plt.ylabel('LogLoss')\n",
				"  plt.title('LogLoss')\n",
				"  plt.show()\n",
				"  \n",
				"  # Plotting classification error as a function of training iteration\n",
				"  fig, ax = plt.subplots()\n",
				"  ax.plot(x_axis, results['validation_0']['error'], label='Train')  # for each eval_set\n",
				"  if results['validation_1']: ax.plot(x_axis, results['validation_1']['error'], label='Test')\n",
				"  ax.legend()\n",
				"  plt.ylabel('Error')\n",
				"  plt.title('Error')\n",
				"  plt.show()"
			],
			"execution_count": null,
			"outputs": []
		},
		{
			"cell_type": "markdown",
			"metadata": {},
			"source": [
				"This involves training on less data but allows us to monitor progress to check if the model is becoming over-specific to our training sample. The minimisation of loss and classification error are common metrics for model assessment. As shown below, the cost to performance is negligible. If the test sample gradient were to invert this would be considered overtraining and is why monitoring performance without CV can be a time costly pitfall."
			]
		},
		{
			"cell_type": "code",
			"metadata": {},
			"source": [
				"# Defining a model with multi-threading set to maximum\n",
				"bdt_cv = XGBClassifier(learning_rate = LR, n_estimators=100, seed=123, n_threads=-1)\n",
				"\n",
				"# Model fitting with CV and printing out processing time\n",
				"stime = time.time()\n",
				"bdt_cv.fit(X_train, y_train, eval_metric=[\"logloss\",\"error\"],\n",
				"           eval_set=[(X_train, y_train), (X_test, y_test)], verbose=False)\n",
				"print(\"\\nXGBoost cross-validation --- %s seconds ---\" % (time.time() - stime))\n",
				"\n",
				"# Writing model predictions out for data\n",
				"training_monitor(bdt_cv)\n",
				"for df in [mc_df, bkg_df, data_df, training_data]:\n",
				"    df['XGBcv'] = bdt_cv.predict_proba(df[training_columns])[:,1]\n",
				"\n",
				"# Drawing plot of model respone for signal and background classes\n",
				"plt.figure()\n",
				"plot_comparision('XGB', mc_df, bkg_df)\n",
				"plot_comparision('XGBcv', mc_df, bkg_df)\n",
				"\n",
				"# Drawing signal significance comparison as a function of minimum cut on model response\n",
				"plt.figure()\n",
				"plot_significance(bdt, training_data, training_columns)\n",
				"plot_significance(bdt_cv, training_data, training_columns)\n",
				"\n",
				"# Drawing the signal efficiency vs background rejection curve (ROC)\n",
				"plt.figure()\n",
				"plot_roc(bdt, training_data, training_columns)\n",
				"plot_roc(bdt_cv, training_data, training_columns)"
			],
			"execution_count": null,
			"outputs": []
		},
		{
			"cell_type": "markdown",
			"metadata": {},
			"source": [
				"### $k$-folding & early stopping\n",
				"\n",
				"Performing CV on each of a number, k, of ways to split your data gives you k models to choose from. Some choose to average the performance across the models from each fold as any instability might imply the model will not be reliable. The results below seem stable; each fold provides a consistant performance across multiple metrics, so we'll just choose the best one."
			]
		},
		{
			"cell_type": "code",
			"metadata": {},
			"source": [
				"# Defining the folds with a seed to test consistently \n",
				"splits = 4 # to match 0.25 value of test_train_split default though this may not be optimal\n",
				"kf = KFold(splits, True, random_state=123)\n",
				"\n",
				"# Printing processing time of the kfold cross-validation\n",
				"stime = time.time()\n",
				"for train, test in kf.split(X1):\n",
				"    X_train, X_test = X1.iloc[train], X1.iloc[test]\n",
				"    y_train, y_test = y1.iloc[train], y1.iloc[test]\n",
				"    bdt.fit(X_train,y_train)\n",
				"print(\"\\nXGBoost k-folding --- %s seconds ---\" % (time.time() - stime))\n",
				"\n",
				"# Calculating scores of each fold using variety of CV-metrics\n",
				"cv_acc = cross_val_score(bdt, X_test, y_test, cv=splits, scoring=\"accuracy\", n_jobs=-1)\n",
				"cv_los = cross_val_score(bdt, X_test, y_test, cv=splits, scoring=\"neg_log_loss\", n_jobs=-1)\n",
				"cv_auc = cross_val_score(bdt, X_test, y_test, cv=splits, scoring=\"roc_auc\", n_jobs=-1)\n",
				"\n",
				"# Printing results and indicating best fold\n",
				"print(\"accuracy: \",cv_acc, \" ->  best fold =\", np.argmax(cv_acc) )\n",
				"print(\"-logloss: \",cv_los, \" ->  best fold =\", np.argmax(cv_los) )\n",
				"print(\"roc_auc:  \",cv_auc, \" ->  best fold =\", np.argmax(cv_auc) )\n",
				"bestfold = np.argmax(cv_acc)"
			],
			"execution_count": null,
			"outputs": []
		},
		{
			"cell_type": "markdown",
			"metadata": {},
			"source": [
				"Early stopping defines a maximum number of rounds the cross-validation metric (we'll use 'error'=1-accuracy) is allowed to not improve before training is terminated. As is standard, we will be reverting back to a 'previous best' model based on test sample score, this helps avoid overtraining. Early stopping prevents us training too many of extra models thus saving time. Set the limit too small though and your training might be cut off prematurely."
			]
		},
		{
			"cell_type": "code",
			"metadata": {},
			"source": [
				"def modelfit(alg, metric, params, label, predictors, kfold, fbest, early_stop=10):\n",
				"\n",
				"    # Loading data split inputs providing best fold result\n",
				"    for k, (train, test) in enumerate(kf.split(params)):\n",
				"      if (k==fbest):\n",
				"        X_train, X_test = params.iloc[train], params.iloc[test]\n",
				"        y_train, y_test = label.iloc[train], label.iloc[test]\n",
				"\n",
				"    # Defining data in terms of training variables and class label\n",
				"    xgb_param = alg.get_xgb_params()\n",
				"    data = xgb.DMatrix(params, label=label, feature_names=predictors, nthread=-1)\n",
				"    \n",
				"    # Runs timed CV on our model using early stopping based on our metric\n",
				"    stime = time.time()\n",
				"    cvresult = xgb.cv(xgb_param,\n",
				"                      data,\n",
				"                      num_boost_round=alg.get_params()['n_estimators'],\n",
				"                      #nfold=cv_folds, # to use in build folding\n",
				"                      folds=kfold, # use -> ignores nfold \n",
				"                      metrics=metric,\n",
				"                      early_stopping_rounds=early_stop)\n",
				"    alg.set_params(n_estimators=cvresult.shape[0])\n",
				"    print(\"\\nXGBoost early-stop folding --- %s seconds ---\" % (time.time() - stime))\n",
				"\n",
				"    # Fitting the algorithm on the data with CV evaluation early stopping\n",
				"    stime = time.time()\n",
				"    alg.fit(X_train, y_train, eval_metric=[\"logloss\",\"error\"],\n",
				"            eval_set=[(X_train, y_train), (X_test, y_test)],\n",
				"            verbose=False, early_stopping_rounds=early_stop)\n",
				"    training_monitor(alg)\n",
				"    print(\"XGBoost early-stop limit --- %s seconds ---\" % (time.time() - stime))\n",
				"\n",
				"    # Predicting training set:\n",
				"    train_predictions = alg.predict(X_train)                                                                                                                                          \n",
				"    test_predictions = alg.predict(X_test)\n",
				"\n",
				"    # Printing model report:                                                                                                                                                                               \n",
				"    print(\"\\nModel Report : best iteration \"+str(cvresult.shape[0]))\n",
				"    print(\"Train Accuracy : \"+str(metrics.accuracy_score(y_train, train_predictions)))\n",
				"    print(\"Test Accuracy : \"+str(metrics.accuracy_score(y_test, test_predictions)))\n",
				"    return cvresult.shape[0]"
			],
			"execution_count": null,
			"outputs": []
		},
		{
			"cell_type": "markdown",
			"metadata": {},
			"source": [
				"This function incorporates the k-folding CV and early stopping, saving not only the optimal model but also the index of its training iteration. This means, in our subsequent steps, we can apply an upper limit on training for models based on the convergence of the default hyperparameters, saving us some time. "
			]
		},
		{
			"cell_type": "code",
			"metadata": {},
			"source": [
				"# Defining model with high maximum estimators for use with early stopping\n",
				"bdt_es = XGBClassifier(learning_rate = LR,   n_estimators=1000,\n",
				"                       # Default values of other hyperparamters\n",
				"                       #max_depth=6,          min_child_weight=1,\n",
				"                       #gamma=0,              subsample=0.8,\n",
				"                       #colsample_bytree=0.8, scale_pos_weight=1,\n",
				"                       #objective='binary:logistic', # default for binary classification\n",
				"                       #objective='mutli:softprob', num_class=3, # for multiclassifiers\n",
				"                       seed=123, n_threads=-1)\n",
				"\n",
				"# Timing the CV using early stopping\n",
				"stime = time.time()\n",
				"estimators = modelfit(bdt_es, \"error\", X1, y1, training_columns, kf, bestfold)\n",
				"print(\"\\nmodelfit(bdt_es) --- %s seconds ---\" % (time.time() - stime))\n",
				"\n",
				"# Saving model predictions\n",
				"for df in [mc_df, bkg_df, data_df, training_data]:\n",
				"    df['XGBes'] = bdt_es.predict_proba(df[training_columns])[:,1]"
			],
			"execution_count": null,
			"outputs": []
		},
		{
			"cell_type": "markdown",
			"metadata": {},
			"source": [
				"This provides us with an improved model as well as a benchmark to test against in both performance and training efficiency. When training using new combinations of hyperparameters, the maximum number of estimators from our model report will cut off any new models improving more slowly than our default, while, for more efficient models, the early stopping will kick in."
			]
		},
		{
			"cell_type": "code",
			"metadata": {},
			"source": [
				"# Drawing plot to compare model response for signal and background classes\n",
				"plt.figure()\n",
				"plot_comparision('XGBcv', mc_df, bkg_df)\n",
				"plot_comparision('XGBes', mc_df, bkg_df)\n",
				"\n",
				"# Drawing signal significance comparison as a function of minimum cut on model response\n",
				"plt.figure()\n",
				"plot_significance(bdt_cv, training_data, training_columns)\n",
				"plot_significance(bdt_es, training_data, training_columns)\n",
				"\n",
				"# Drawing comaprison of the signal efficiency vs background rejection curve (ROC)\n",
				"plt.figure()\n",
				"plot_roc(bdt_cv, training_data, training_columns)\n",
				"plot_roc(bdt_es, training_data, training_columns)"
			],
			"execution_count": null,
			"outputs": []
		},
		{
			"cell_type": "markdown",
			"metadata": {},
			"source": [
				"### Hyperameter optimisation\n",
				"\n",
				"Below we provide a \"grid\" of hyperparameters, defining the structure of the trees and constraints on the learning, but there are many more values to choose from and a larger parameter space to be explored. These optimsations are very problem specific and their impact will have to be weighed against the computing resources and timeframe you have at your disposal. For the sake of expedient demonstration we are comparing the default parameters to only one predetermined variation in 2 parameters. "
			]
		},
		{
			"cell_type": "code",
			"metadata": {},
			"source": [
				"# Define a function that performs a gridscan of HPs\n",
				"def hpgridscan(alg, metric, params, label, kfold, fbest, early_stop=10):\n",
				"\n",
				"  # Load data fold with best performance\n",
				"  for k, (train, test) in enumerate(kf.split(params)):\n",
				"    if (k==fbest):\n",
				"      X_train, X_test = params.iloc[train], params.iloc[test]\n",
				"      y_train, y_test = label.iloc[train], label.iloc[test]\n",
				"\n",
				"  # Define a dictionary of numpy arrays for our HPs\n",
				"  params = {\n",
				"      'max_depth':np.array([7]),\n",
				"      'min_child_weight':np.array([3]),\n",
				"      #'max_depth':np.arange(        5,   9,   1   ),\n",
				"      #'min_child_weight':np.arange( 1,   5,   1   ),\n",
				"      ##'gamma':np.arange(            0.0, 1.0, 0.1 ),\n",
				"      ##'colsample_bytree':np.arange( 0.4, 1.0, 0.1 ),\n",
				"      ##'subsample':np.arange(        0.4, 1.0, 0.1 ),\n",
				"      ##'scale_pos_weight':np.arange( 0.4, 1.6, 0.1 )\n",
				"      }\n",
				"\n",
				"  # Perform timed grid scan with established n_estimator cutoff and early stopping\n",
				"  stime = time.time()\n",
				"  gs = GridSearchCV(estimator=alg,\n",
				"                    param_grid=params,\n",
				"                    scoring=metric,\n",
				"                    iid=False,\n",
				"                    cv=kf,\n",
				"                    n_jobs=-1)  \n",
				"  gs.fit(X_train, y_train, eval_metric=[\"logloss\",\"error\"],\n",
				"         eval_set=[(X_train, y_train), (X_test, y_test)],\n",
				"         verbose=False, early_stopping_rounds=early_stop)\n",
				"  print(\"XGBoost grid-scan --- %s seconds ---\" % (time.time() - stime))\n",
				"\n",
				"  # Return suggested parameters, performance and best model\n",
				"  training_monitor(gs.best_estimator_)\n",
				"  print(\"Suggestion:\", gs.best_params_)\n",
				"  print(\"Accuracy:\" ,gs.best_score_)\n",
				"  return gs"
			],
			"execution_count": null,
			"outputs": []
		},
		{
			"cell_type": "code",
			"metadata": {},
			"source": [
				"# Running with estimators maximum for shortened training\n",
				"bdt_st = XGBClassifier( learning_rate = LR, n_estimators=estimators,\n",
				"                        seed=123,           n_threads=-1)\n",
				"\n",
				"# Running timed hyperparameter gridscan\n",
				"stime = time.time()\n",
				"gs = hpgridscan(bdt_st, \"accuracy\", X1, y1, kf, bestfold)\n",
				"bdt_gs = gs.best_estimator_\n",
				"print(\"\\nhpgridscan(bdt_st) --- %s seconds ---\" % (time.time() - stime))\n",
				"\n",
				"# Get model predictions\n",
				"for df in [mc_df, bkg_df, data_df, training_data]:\n",
				"    df['XGBgs'] = bdt_gs.predict_proba(df[training_columns])[:,1]"
			],
			"execution_count": null,
			"outputs": []
		},
		{
			"cell_type": "markdown",
			"metadata": {},
			"source": [
				"Even this naive grid scan, using the same fold as before for fair comparison, can provide significant improvements as demonstrated above. These may be pushed further by including more hyperparameters for a trade off with processing time. However, even with parrallisation these tasks can take hours or longer and might only provide improvement of O(>1%)."
			]
		},
		{
			"cell_type": "code",
			"metadata": {},
			"source": [
				"## We could define a model using optimal hyperparameters from our grid scan\n",
				"#bdt_opt = XGBClassifier( learning_rate = LR, n_estimators=1000, \n",
				"#                         max_depth=gs.best_params_['max_depth'],\n",
				"#                         min_child_weight=gs.best_params_['min_child_weight'],  \n",
				"#                         seed=123, n_threads=-1 )\n",
				"\n",
				"## Run with CV early stopping\n",
				"#stime = time.time()\n",
				"#estimators = modelfit(bdt_opt, 'error', X1, y1, training_columns, kf, bestfold)\n",
				"#print(\"\\nmodelfit(bdt_opt) --- %s seconds ---\" % (time.time() - stime))\n",
				"\n",
				"## Get model predictions\n",
				"#for df in [mc_df, bkg_df, data_df, training_data]:\n",
				"#    df['XGBopt'] = bdt_opt.predict_proba(df[training_columns])[:,1]"
			],
			"execution_count": null,
			"outputs": []
		},
		{
			"cell_type": "code",
			"metadata": {},
			"source": [
				"# Comapring model response from the end of last session to the end of this one\n",
				"plt.figure()\n",
				"plot_comparision('XGB', mc_df, bkg_df)\n",
				"plot_comparision('XGBgs', mc_df, bkg_df)\n",
				"\n",
				"# Comparing the impact on projected performance at each stage of the tutorial\n",
				"plt.figure()\n",
				"plot_significance(bdt, training_data, training_columns)\n",
				"plot_significance(bdt_cv, training_data, training_columns)\n",
				"plot_significance(bdt_es, training_data, training_columns)\n",
				"plot_significance(bdt_gs, training_data, training_columns)\n",
				"#plot_significance(bdt_opt, training_data, training_columns)\n",
				"\n",
				"# Comparing model performance for each level of tuning\n",
				"plt.figure()\n",
				"plot_roc(bdt, training_data, training_columns)\n",
				"plot_roc(bdt_cv, training_data, training_columns)\n",
				"plot_roc(bdt_es, training_data, training_columns)\n",
				"plot_roc(bdt_gs, training_data, training_columns)\n",
				"#plot_roc(bdt_opt, training_data, training_columns)"
			],
			"execution_count": null,
			"outputs": []
		},
		{
			"cell_type": "markdown",
			"metadata": {},
			"source": [
				"You can also choose a higher learning rate to perform course scans of your space and decrease it again to retrain your final model. If you can afford to, it might be best to include learning rate itself as a parameter in your grid. With some libraries you can specify your choice of kernel. Both these choices will impact your optimal maximum number of iterations, so setting it sufficiently high and using early stopping might be a good strategy.\n",
				"\n",
				"For less exhaustive and non-discritised methods try smart combinations of the following to perform adaptive scans or build your own: \n",
				"*   sklearn.model_selection.RandomizedSearchCV\n",
				"*   sklearn.model_selection.GridSearchCV\n",
				"\n",
				"Moving to higher dimentional optimisation problems may require more sophisticated solutions:\n",
				"*   skopt.BayesSearchCV\n",
				"*   hyperopt.tpe"
			]
		},
		{
			"cell_type": "code",
			"metadata": {},
      			"source": [
        			"# Final lesson time and processing time check\n",
        			"print(\"Notebook real time --- %s seconds ---\" % (time.time() - stt))\n",
        			"print(\"Notebook CPU time --- %s seconds ---\" % (time.clock() - stc))"
      				],
      			"execution_count": null,
      			"outputs": []
    		}
	],
	"metadata": {
		"kernelspec": {
			"display_name": "Python 3",
			"language": "python",
			"name": "python3"
		},
		"language_info": {
			"codemirror_mode": {
				"name": "ipython",
				"version": 3
			},
			"file_extension": ".py",
			"mimetype": "text/x-python",
			"name": "python",
			"nbconvert_exporter": "python",
			"pygments_lexer": "ipython3",
			"version": "3.7.3"
		}
	},
	
	"nbformat": 4,
	"nbformat_minor": 4
}
