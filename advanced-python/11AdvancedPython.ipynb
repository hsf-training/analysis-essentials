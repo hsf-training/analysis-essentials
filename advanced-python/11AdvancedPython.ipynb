{
 "cells": [
  {
   "cell_type": "markdown",
   "metadata": {},
   "source": [
    "# Advanced Python Concepts\n",
    "\n",
    "In this tutorial, a few advanced concepts (not class related) are introduced. This includes\n",
    "\n",
    "- packing and unpacking\n",
    "- context manager\n",
    "- decorator and factories\n",
    "- exceptions"
   ]
  },
  {
   "cell_type": "code",
   "execution_count": 1,
   "metadata": {
    "ExecuteTime": {
     "end_time": "2023-11-09T18:21:58.287777986Z",
     "start_time": "2023-11-09T18:21:57.475130307Z"
    },
    "execution": {
     "iopub.execute_input": "2023-11-28T11:03:53.724544Z",
     "iopub.status.busy": "2023-11-28T11:03:53.724384Z",
     "iopub.status.idle": "2023-11-28T11:03:53.729154Z",
     "shell.execute_reply": "2023-11-28T11:03:53.728758Z"
    }
   },
   "outputs": [],
   "source": [
    "import time"
   ]
  },
  {
   "cell_type": "markdown",
   "metadata": {},
   "source": [
    "## Packing and unpacking of values\n",
    "\n",
    "Using `*` or `**` we can pack/unpack list-like objects and dict-like objects, respectively. They act as a \"removal\" of the parenthesis when situated on the right and as an \"adder\" of parenthesis when situated on the left of the assigmenemt operator (`=`).\n",
    "\n",
    "Let's play around..."
   ]
  },
  {
   "cell_type": "code",
   "execution_count": 2,
   "metadata": {
    "ExecuteTime": {
     "end_time": "2023-11-09T18:21:58.288125493Z",
     "start_time": "2023-11-09T18:21:57.475439183Z"
    },
    "execution": {
     "iopub.execute_input": "2023-11-28T11:03:53.730963Z",
     "iopub.status.busy": "2023-11-28T11:03:53.730804Z",
     "iopub.status.idle": "2023-11-28T11:03:53.733413Z",
     "shell.execute_reply": "2023-11-28T11:03:53.732924Z"
    }
   },
   "outputs": [],
   "source": [
    "a, c, *b = [3, 4, 4.5, 5, 6]"
   ]
  },
  {
   "cell_type": "code",
   "execution_count": 3,
   "metadata": {
    "ExecuteTime": {
     "end_time": "2023-11-09T18:21:58.288659478Z",
     "start_time": "2023-11-09T18:21:57.475730863Z"
    },
    "execution": {
     "iopub.execute_input": "2023-11-28T11:03:53.735200Z",
     "iopub.status.busy": "2023-11-28T11:03:53.734904Z",
     "iopub.status.idle": "2023-11-28T11:03:53.739549Z",
     "shell.execute_reply": "2023-11-28T11:03:53.739078Z"
    }
   },
   "outputs": [
    {
     "data": {
      "text/plain": [
       "[4.5, 5, 6]"
      ]
     },
     "execution_count": 3,
     "metadata": {},
     "output_type": "execute_result"
    }
   ],
   "source": [
    "b"
   ]
  },
  {
   "cell_type": "markdown",
   "metadata": {},
   "source": [
    "As can be seen, b catches now all the remaining elements in a list. Interesting to see is also the special case if no element is left."
   ]
  },
  {
   "cell_type": "code",
   "execution_count": 4,
   "metadata": {
    "ExecuteTime": {
     "end_time": "2023-11-09T18:21:58.289024121Z",
     "start_time": "2023-11-09T18:21:57.476020895Z"
    },
    "execution": {
     "iopub.execute_input": "2023-11-28T11:03:53.741411Z",
     "iopub.status.busy": "2023-11-28T11:03:53.741059Z",
     "iopub.status.idle": "2023-11-28T11:03:53.743467Z",
     "shell.execute_reply": "2023-11-28T11:03:53.743069Z"
    }
   },
   "outputs": [],
   "source": [
    "d1, d2, *d3, d4 = [1, 2, 3]  # nothing left for d3"
   ]
  },
  {
   "cell_type": "code",
   "execution_count": 5,
   "metadata": {
    "ExecuteTime": {
     "end_time": "2023-11-09T18:21:58.289770343Z",
     "start_time": "2023-11-09T18:21:57.476279441Z"
    },
    "execution": {
     "iopub.execute_input": "2023-11-28T11:03:53.745288Z",
     "iopub.status.busy": "2023-11-28T11:03:53.744980Z",
     "iopub.status.idle": "2023-11-28T11:03:53.747989Z",
     "shell.execute_reply": "2023-11-28T11:03:53.747616Z"
    }
   },
   "outputs": [
    {
     "data": {
      "text/plain": [
       "[]"
      ]
     },
     "execution_count": 5,
     "metadata": {},
     "output_type": "execute_result"
    }
   ],
   "source": [
    "d3"
   ]
  },
  {
   "cell_type": "markdown",
   "metadata": {},
   "source": [
    "This is simply an empty list. However, this has the advantage that we know that it is _always_ a list."
   ]
  },
  {
   "cell_type": "code",
   "execution_count": 6,
   "metadata": {
    "ExecuteTime": {
     "end_time": "2023-11-09T18:21:58.289972173Z",
     "start_time": "2023-11-09T18:21:57.476626713Z"
    },
    "execution": {
     "iopub.execute_input": "2023-11-28T11:03:53.749879Z",
     "iopub.status.busy": "2023-11-28T11:03:53.749581Z",
     "iopub.status.idle": "2023-11-28T11:03:53.751945Z",
     "shell.execute_reply": "2023-11-28T11:03:53.751534Z"
    }
   },
   "outputs": [],
   "source": [
    "a = [3, 4, 5]"
   ]
  },
  {
   "cell_type": "markdown",
   "metadata": {},
   "source": [
    "Multiple unpackings can be added together (however, the other way around does not work: multiple _packings_ are not possible as it is ill-defined which variable would get how many elements)."
   ]
  },
  {
   "cell_type": "code",
   "execution_count": 7,
   "metadata": {
    "ExecuteTime": {
     "end_time": "2023-11-09T18:21:58.290148105Z",
     "start_time": "2023-11-09T18:21:57.519751245Z"
    },
    "execution": {
     "iopub.execute_input": "2023-11-28T11:03:53.753563Z",
     "iopub.status.busy": "2023-11-28T11:03:53.753420Z",
     "iopub.status.idle": "2023-11-28T11:03:53.755687Z",
     "shell.execute_reply": "2023-11-28T11:03:53.755314Z"
    }
   },
   "outputs": [],
   "source": [
    "d, e, f, g, h, i = *a, *b"
   ]
  },
  {
   "cell_type": "markdown",
   "metadata": {},
   "source": [
    "Now we should be able to understand the `*args` and `**kwargs` for functions. Let's look at it:"
   ]
  },
  {
   "cell_type": "code",
   "execution_count": 8,
   "metadata": {
    "ExecuteTime": {
     "end_time": "2023-11-09T18:21:58.290328424Z",
     "start_time": "2023-11-09T18:21:57.519943991Z"
    },
    "execution": {
     "iopub.execute_input": "2023-11-28T11:03:53.757433Z",
     "iopub.status.busy": "2023-11-28T11:03:53.757131Z",
     "iopub.status.idle": "2023-11-28T11:03:53.759581Z",
     "shell.execute_reply": "2023-11-28T11:03:53.759158Z"
    }
   },
   "outputs": [],
   "source": [
    "def func(*args, **kwargs):\n",
    "    print(f'args are {args}')\n",
    "    print(f\"kwargs are {kwargs}\")"
   ]
  },
  {
   "cell_type": "code",
   "execution_count": 9,
   "metadata": {
    "ExecuteTime": {
     "end_time": "2023-11-09T18:21:58.291657968Z",
     "start_time": "2023-11-09T18:21:57.520119691Z"
    },
    "execution": {
     "iopub.execute_input": "2023-11-28T11:03:53.761380Z",
     "iopub.status.busy": "2023-11-28T11:03:53.761090Z",
     "iopub.status.idle": "2023-11-28T11:03:53.764005Z",
     "shell.execute_reply": "2023-11-28T11:03:53.763530Z"
    }
   },
   "outputs": [
    {
     "name": "stdout",
     "output_type": "stream",
     "text": [
      "args are (1, 3, 4, 'a', 'b')\n",
      "kwargs are {}\n"
     ]
    }
   ],
   "source": [
    "mykwargs = {'a': 5, 'b': 3}\n",
    "myargs = [1, 3, 4]\n",
    "func(*myargs, *mykwargs)"
   ]
  },
  {
   "cell_type": "code",
   "execution_count": 10,
   "metadata": {
    "ExecuteTime": {
     "end_time": "2023-11-09T18:21:58.297387283Z",
     "start_time": "2023-11-09T18:21:57.520366676Z"
    },
    "execution": {
     "iopub.execute_input": "2023-11-28T11:03:53.765847Z",
     "iopub.status.busy": "2023-11-28T11:03:53.765572Z",
     "iopub.status.idle": "2023-11-28T11:03:53.768290Z",
     "shell.execute_reply": "2023-11-28T11:03:53.767792Z"
    }
   },
   "outputs": [
    {
     "name": "stdout",
     "output_type": "stream",
     "text": [
      "args are (5,)\n",
      "kwargs are {'a': 4}\n"
     ]
    }
   ],
   "source": [
    "func(5, a=4)"
   ]
  },
  {
   "cell_type": "code",
   "execution_count": 11,
   "metadata": {
    "ExecuteTime": {
     "end_time": "2023-11-09T18:21:58.297741024Z",
     "start_time": "2023-11-09T18:21:57.520883499Z"
    },
    "execution": {
     "iopub.execute_input": "2023-11-28T11:03:53.770106Z",
     "iopub.status.busy": "2023-11-28T11:03:53.769864Z",
     "iopub.status.idle": "2023-11-28T11:03:53.772145Z",
     "shell.execute_reply": "2023-11-28T11:03:53.771652Z"
    }
   },
   "outputs": [],
   "source": [
    "# play around with it!"
   ]
  },
  {
   "cell_type": "markdown",
   "metadata": {},
   "source": [
    "## Context manager\n",
    "\n",
    "A context manager is an object that responds to a `with` statement. It may returns something. The basic idea is that some action is performed when entering a context and again when exiting it.\n",
    "\n",
    "```\n",
    "with context as var:\n",
    "    # do something\n",
    "```\n",
    "translates to\n",
    "```\n",
    "# execute context entering code\n",
    "var = return_from_context_entering_code\n",
    "# do something\n",
    "# execute context leaving code\n",
    "```\n",
    "\n",
    "The great advantage here is that the \"leaving code\" is automatically executed whenever we step out of the context!\n",
    "\n",
    "This proved to be incredibly useful when operations have cleanup code that we need to execute yet that is tedious to write manually and can be forgotten.\n",
    "\n",
    "### Using `yield`\n",
    "\n",
    "One way to create a context manager is to have a function that has a `yield`.\n",
    "\n",
    "_What is `yield`?_: It's like a return, except that the executioin stops at the `yield`, lets other code execute and, at some point, **continues** again where the yield was. Examples are:\n",
    "- iterator: a function that yields elements. Everytime it is called, it is supposed to yield an element and then continue from there\n",
    "- asynchronous programing: it stops and waits until something else is finished\n",
    "- in the context manager, as we will see"
   ]
  },
  {
   "cell_type": "code",
   "execution_count": 12,
   "metadata": {
    "ExecuteTime": {
     "end_time": "2023-11-09T18:21:58.324668018Z",
     "start_time": "2023-11-09T18:21:57.563095740Z"
    },
    "execution": {
     "iopub.execute_input": "2023-11-28T11:03:53.773837Z",
     "iopub.status.busy": "2023-11-28T11:03:53.773684Z",
     "iopub.status.idle": "2023-11-28T11:03:53.776331Z",
     "shell.execute_reply": "2023-11-28T11:03:53.775853Z"
    }
   },
   "outputs": [],
   "source": [
    "import contextlib\n",
    "\n",
    "\n",
    "@contextlib.contextmanager\n",
    "def printer(x):\n",
    "    print(f'we just entered the context manager and will yield {x}')\n",
    "    yield x\n",
    "    print(f'Finishing the context manager, exiting')"
   ]
  },
  {
   "cell_type": "code",
   "execution_count": 13,
   "metadata": {
    "ExecuteTime": {
     "end_time": "2023-11-09T18:21:58.326374361Z",
     "start_time": "2023-11-09T18:21:57.563347017Z"
    },
    "execution": {
     "iopub.execute_input": "2023-11-28T11:03:53.777952Z",
     "iopub.status.busy": "2023-11-28T11:03:53.777798Z",
     "iopub.status.idle": "2023-11-28T11:03:53.780425Z",
     "shell.execute_reply": "2023-11-28T11:03:53.779971Z"
    }
   },
   "outputs": [
    {
     "name": "stdout",
     "output_type": "stream",
     "text": [
      "we just entered the context manager and will yield 5\n",
      "we're inside, with number=5\n",
      "Finishing the context manager, exiting\n",
      "left manager\n"
     ]
    }
   ],
   "source": [
    "with printer(5) as number:\n",
    "    print(f\"we're inside, with number={number}\")\n",
    "print(\"left manager\")"
   ]
  },
  {
   "cell_type": "markdown",
   "metadata": {},
   "source": [
    "#### Where is this useful\n",
    "\n",
    "Basically with stateful objects. This includes anything that can be set and changed (mutable objects)."
   ]
  },
  {
   "cell_type": "code",
   "execution_count": 14,
   "metadata": {
    "ExecuteTime": {
     "end_time": "2023-11-09T18:21:58.354444565Z",
     "start_time": "2023-11-09T18:21:57.563714577Z"
    },
    "execution": {
     "iopub.execute_input": "2023-11-28T11:03:53.782083Z",
     "iopub.status.busy": "2023-11-28T11:03:53.781930Z",
     "iopub.status.idle": "2023-11-28T11:03:53.784543Z",
     "shell.execute_reply": "2023-11-28T11:03:53.784168Z"
    }
   },
   "outputs": [],
   "source": [
    "with open('tmp.txt', 'w') as textfile:\n",
    "    textfile.write('asdf')"
   ]
  },
  {
   "cell_type": "markdown",
   "metadata": {},
   "source": [
    "The implementation roughly looks like this:"
   ]
  },
  {
   "cell_type": "code",
   "execution_count": 15,
   "metadata": {
    "ExecuteTime": {
     "end_time": "2023-11-09T18:21:58.355126940Z",
     "start_time": "2023-11-09T18:21:57.563857095Z"
    },
    "execution": {
     "iopub.execute_input": "2023-11-28T11:03:53.786147Z",
     "iopub.status.busy": "2023-11-28T11:03:53.786012Z",
     "iopub.status.idle": "2023-11-28T11:03:53.788497Z",
     "shell.execute_reply": "2023-11-28T11:03:53.788128Z"
    }
   },
   "outputs": [],
   "source": [
    "import contextlib\n",
    "\n",
    "\n",
    "@contextlib.contextmanager\n",
    "def myopen(f, mode):\n",
    "    opened = open(f, mode)\n",
    "    yield opened\n",
    "    opened.close()"
   ]
  },
  {
   "cell_type": "markdown",
   "metadata": {},
   "source": [
    "**Exercise**: create a context manager that _temporarily_ sets a `'value'` key to 42 of a dict and switches it back to the old value on exit"
   ]
  },
  {
   "cell_type": "code",
   "execution_count": 16,
   "metadata": {
    "ExecuteTime": {
     "end_time": "2023-11-09T18:21:58.358277200Z",
     "start_time": "2023-11-09T18:21:57.569931680Z"
    },
    "execution": {
     "iopub.execute_input": "2023-11-28T11:03:53.790123Z",
     "iopub.status.busy": "2023-11-28T11:03:53.789985Z",
     "iopub.status.idle": "2023-11-28T11:03:53.792183Z",
     "shell.execute_reply": "2023-11-28T11:03:53.791808Z"
    }
   },
   "outputs": [],
   "source": [
    "testdict = {'value': 11, 'name': 'the answer'}"
   ]
  },
  {
   "cell_type": "markdown",
   "metadata": {},
   "source": [
    "to be invoked like this\n",
    "\n",
    "```python\n",
    "with manager(testdict) as obj:\n",
    "    # here the value is 42\n",
    "# here the value is 11\n",
    "```"
   ]
  },
  {
   "cell_type": "code",
   "execution_count": 17,
   "metadata": {
    "ExecuteTime": {
     "end_time": "2023-11-09T18:21:58.359563889Z",
     "start_time": "2023-11-09T18:21:57.611213702Z"
    },
    "execution": {
     "iopub.execute_input": "2023-11-28T11:03:53.793848Z",
     "iopub.status.busy": "2023-11-28T11:03:53.793710Z",
     "iopub.status.idle": "2023-11-28T11:03:53.796753Z",
     "shell.execute_reply": "2023-11-28T11:03:53.796339Z"
    }
   },
   "outputs": [
    {
     "name": "stdout",
     "output_type": "stream",
     "text": [
      "inside\n",
      "5\n"
     ]
    }
   ],
   "source": [
    "# SOLUTION\n",
    "@contextlib.contextmanager\n",
    "def func(x):\n",
    "    yield x\n",
    "\n",
    "\n",
    "with func(5) as var1:\n",
    "    print('inside')\n",
    "print(var1)"
   ]
  },
  {
   "cell_type": "code",
   "execution_count": 18,
   "metadata": {
    "ExecuteTime": {
     "end_time": "2023-11-09T18:21:58.359882492Z",
     "start_time": "2023-11-09T18:21:57.611718752Z"
    },
    "execution": {
     "iopub.execute_input": "2023-11-28T11:03:53.798367Z",
     "iopub.status.busy": "2023-11-28T11:03:53.798232Z",
     "iopub.status.idle": "2023-11-28T11:03:53.800696Z",
     "shell.execute_reply": "2023-11-28T11:03:53.800295Z"
    }
   },
   "outputs": [],
   "source": [
    "@contextlib.contextmanager\n",
    "def set_answer(obj):\n",
    "    old_value = obj.get('value')\n",
    "    obj['value'] = 42\n",
    "    yield obj\n",
    "    obj['value'] = old_value"
   ]
  },
  {
   "cell_type": "markdown",
   "metadata": {},
   "source": [
    "## Using a class\n",
    "\n",
    "Instead of using the `yield`, we can have advanced control over the enter and exit methods by creating a class and implementing the two methods `__enter__` and `__exit__`"
   ]
  },
  {
   "cell_type": "code",
   "execution_count": 19,
   "metadata": {
    "ExecuteTime": {
     "end_time": "2023-11-09T18:21:58.394698482Z",
     "start_time": "2023-11-09T18:21:57.611948597Z"
    },
    "execution": {
     "iopub.execute_input": "2023-11-28T11:03:53.802375Z",
     "iopub.status.busy": "2023-11-28T11:03:53.802216Z",
     "iopub.status.idle": "2023-11-28T11:03:53.805228Z",
     "shell.execute_reply": "2023-11-28T11:03:53.804836Z"
    }
   },
   "outputs": [],
   "source": [
    "class MyContext:\n",
    "\n",
    "    def __init__(self, x):\n",
    "        self.x = x\n",
    "\n",
    "    def __enter__(self):\n",
    "        x = self.x\n",
    "        print('entered')\n",
    "        return x ** 2\n",
    "\n",
    "    def __exit__(self, type_, value, traceback):  # but let's not go into things in detail here\n",
    "        self.x = 42\n",
    "        print('exited')"
   ]
  },
  {
   "cell_type": "code",
   "execution_count": 20,
   "metadata": {
    "ExecuteTime": {
     "end_time": "2023-11-09T18:21:58.397073702Z",
     "start_time": "2023-11-09T18:21:57.612144179Z"
    },
    "execution": {
     "iopub.execute_input": "2023-11-28T11:03:53.806857Z",
     "iopub.status.busy": "2023-11-28T11:03:53.806715Z",
     "iopub.status.idle": "2023-11-28T11:03:53.809390Z",
     "shell.execute_reply": "2023-11-28T11:03:53.808989Z"
    }
   },
   "outputs": [
    {
     "name": "stdout",
     "output_type": "stream",
     "text": [
      "entered\n",
      "25\n",
      "exited\n"
     ]
    }
   ],
   "source": [
    "with MyContext(5) as x:\n",
    "    print(x)"
   ]
  },
  {
   "cell_type": "markdown",
   "metadata": {},
   "source": [
    "While a class is way more powerful and offers ways to catch exceptions and more in the exit, ususally the functional way is enough and should then be preferred. If it doesn't give you enough flexibility, remember the class, look it up and figure out all the things needed."
   ]
  },
  {
   "cell_type": "markdown",
   "metadata": {},
   "source": [
    "## Decorators and factories\n",
    "\n",
    "Sometimes we can't write a function fully by hand but want to create it programatically. This pattern is called a \"factory\". To achieve this, instead of having a function that returns an integer (an object), a list (an object), a dict (an object) or an array (an object), we return a function (an object). We see that the concept of Python, \"everything is an object\", starts being very useful here."
   ]
  },
  {
   "cell_type": "code",
   "execution_count": 21,
   "metadata": {
    "ExecuteTime": {
     "end_time": "2023-11-09T18:21:58.397374445Z",
     "start_time": "2023-11-09T18:21:57.659281779Z"
    },
    "execution": {
     "iopub.execute_input": "2023-11-28T11:03:53.811133Z",
     "iopub.status.busy": "2023-11-28T11:03:53.810853Z",
     "iopub.status.idle": "2023-11-28T11:03:53.813354Z",
     "shell.execute_reply": "2023-11-28T11:03:53.812877Z"
    }
   },
   "outputs": [],
   "source": [
    "def make_power_func(power):\n",
    "    def func(x):\n",
    "        return x ** power\n",
    "    return func"
   ]
  },
  {
   "cell_type": "code",
   "execution_count": 22,
   "metadata": {
    "ExecuteTime": {
     "end_time": "2023-11-09T18:21:58.397643363Z",
     "start_time": "2023-11-09T18:21:57.659526538Z"
    },
    "execution": {
     "iopub.execute_input": "2023-11-28T11:03:53.815262Z",
     "iopub.status.busy": "2023-11-28T11:03:53.814965Z",
     "iopub.status.idle": "2023-11-28T11:03:53.817263Z",
     "shell.execute_reply": "2023-11-28T11:03:53.816868Z"
    }
   },
   "outputs": [],
   "source": [
    "pow3 = make_power_func(3)"
   ]
  },
  {
   "cell_type": "code",
   "execution_count": 23,
   "metadata": {
    "ExecuteTime": {
     "end_time": "2023-11-09T18:21:58.398133567Z",
     "start_time": "2023-11-09T18:21:57.659712907Z"
    },
    "execution": {
     "iopub.execute_input": "2023-11-28T11:03:53.818845Z",
     "iopub.status.busy": "2023-11-28T11:03:53.818706Z",
     "iopub.status.idle": "2023-11-28T11:03:53.821761Z",
     "shell.execute_reply": "2023-11-28T11:03:53.821322Z"
    }
   },
   "outputs": [
    {
     "data": {
      "text/plain": [
       "8"
      ]
     },
     "execution_count": 23,
     "metadata": {},
     "output_type": "execute_result"
    }
   ],
   "source": [
    "pow3(2)"
   ]
  },
  {
   "cell_type": "code",
   "execution_count": 24,
   "metadata": {
    "ExecuteTime": {
     "end_time": "2023-11-09T18:21:58.398357818Z",
     "start_time": "2023-11-09T18:21:57.659911070Z"
    },
    "execution": {
     "iopub.execute_input": "2023-11-28T11:03:53.823393Z",
     "iopub.status.busy": "2023-11-28T11:03:53.823253Z",
     "iopub.status.idle": "2023-11-28T11:03:53.825631Z",
     "shell.execute_reply": "2023-11-28T11:03:53.825242Z"
    }
   },
   "outputs": [],
   "source": [
    "def make_power_func(power):\n",
    "    def func(x):\n",
    "        return x ** power\n",
    "    power = 42\n",
    "    return func"
   ]
  },
  {
   "cell_type": "code",
   "execution_count": 25,
   "metadata": {
    "ExecuteTime": {
     "end_time": "2023-11-09T18:21:58.404364977Z",
     "start_time": "2023-11-09T18:21:57.660055943Z"
    },
    "execution": {
     "iopub.execute_input": "2023-11-28T11:03:53.827335Z",
     "iopub.status.busy": "2023-11-28T11:03:53.827057Z",
     "iopub.status.idle": "2023-11-28T11:03:53.829474Z",
     "shell.execute_reply": "2023-11-28T11:03:53.828979Z"
    }
   },
   "outputs": [],
   "source": [
    "pow3 = make_power_func(3)"
   ]
  },
  {
   "cell_type": "code",
   "execution_count": 26,
   "metadata": {
    "ExecuteTime": {
     "end_time": "2023-11-09T18:21:58.406575801Z",
     "start_time": "2023-11-09T18:21:57.707103066Z"
    },
    "execution": {
     "iopub.execute_input": "2023-11-28T11:03:53.831115Z",
     "iopub.status.busy": "2023-11-28T11:03:53.830976Z",
     "iopub.status.idle": "2023-11-28T11:03:53.834009Z",
     "shell.execute_reply": "2023-11-28T11:03:53.833562Z"
    }
   },
   "outputs": [
    {
     "data": {
      "text/plain": [
       "4398046511104"
      ]
     },
     "execution_count": 26,
     "metadata": {},
     "output_type": "execute_result"
    }
   ],
   "source": [
    "pow3(2)"
   ]
  },
  {
   "cell_type": "code",
   "execution_count": 27,
   "metadata": {
    "ExecuteTime": {
     "end_time": "2023-11-09T18:21:58.419570582Z",
     "start_time": "2023-11-09T18:21:57.707383203Z"
    },
    "execution": {
     "iopub.execute_input": "2023-11-28T11:03:53.835620Z",
     "iopub.status.busy": "2023-11-28T11:03:53.835480Z",
     "iopub.status.idle": "2023-11-28T11:03:53.837678Z",
     "shell.execute_reply": "2023-11-28T11:03:53.837289Z"
    }
   },
   "outputs": [],
   "source": [
    "# Exercise: test it here"
   ]
  },
  {
   "cell_type": "markdown",
   "metadata": {},
   "source": [
    "Another example is to create a timing wrapper. **Exercise**: create a timing function that can be used as follows\n",
    "\n",
    "```\n",
    "timed_pow3 = fime_func(pow3)\n",
    "pow3(...)\n",
    "```"
   ]
  },
  {
   "cell_type": "markdown",
   "metadata": {},
   "source": [
    "HINT, scetch of solution\n",
    "```python\n",
    "def time_func(func):\n",
    "    def new_func(...):\n",
    "        print('start')\n",
    "        func(...)\n",
    "        print('stop')\n",
    "    return new_func\n",
    "```"
   ]
  },
  {
   "cell_type": "code",
   "execution_count": 28,
   "metadata": {
    "ExecuteTime": {
     "end_time": "2023-11-09T18:21:58.421942708Z",
     "start_time": "2023-11-09T18:21:57.714163427Z"
    },
    "execution": {
     "iopub.execute_input": "2023-11-28T11:03:53.839327Z",
     "iopub.status.busy": "2023-11-28T11:03:53.839190Z",
     "iopub.status.idle": "2023-11-28T11:03:53.841892Z",
     "shell.execute_reply": "2023-11-28T11:03:53.841534Z"
    }
   },
   "outputs": [],
   "source": [
    "# SOLUTION\n",
    "def timed_func(func):\n",
    "    def wrapped_func(*args, **kwargs):\n",
    "        print(args)\n",
    "        print(kwargs)\n",
    "        start = time.time()\n",
    "        func(*args, **kwargs)\n",
    "        end = time.time()\n",
    "        print(f'time needed: {end - start}')\n",
    "    return wrapped_func"
   ]
  },
  {
   "cell_type": "code",
   "execution_count": 29,
   "metadata": {
    "ExecuteTime": {
     "end_time": "2023-11-09T18:21:58.422417608Z",
     "start_time": "2023-11-09T18:21:57.755158988Z"
    },
    "execution": {
     "iopub.execute_input": "2023-11-28T11:03:53.843604Z",
     "iopub.status.busy": "2023-11-28T11:03:53.843462Z",
     "iopub.status.idle": "2023-11-28T11:03:53.846235Z",
     "shell.execute_reply": "2023-11-28T11:03:53.845861Z"
    }
   },
   "outputs": [],
   "source": [
    "def add_notime(x, y):\n",
    "    return x + y"
   ]
  },
  {
   "cell_type": "code",
   "execution_count": 30,
   "metadata": {
    "ExecuteTime": {
     "end_time": "2023-11-09T18:21:58.422731709Z",
     "start_time": "2023-11-09T18:21:57.755389720Z"
    },
    "execution": {
     "iopub.execute_input": "2023-11-28T11:03:53.847923Z",
     "iopub.status.busy": "2023-11-28T11:03:53.847781Z",
     "iopub.status.idle": "2023-11-28T11:03:53.850182Z",
     "shell.execute_reply": "2023-11-28T11:03:53.849645Z"
    }
   },
   "outputs": [],
   "source": [
    "add_timed = timed_func(add_notime)"
   ]
  },
  {
   "cell_type": "code",
   "execution_count": 31,
   "metadata": {
    "ExecuteTime": {
     "end_time": "2023-11-09T18:21:58.422948361Z",
     "start_time": "2023-11-09T18:21:57.755554232Z"
    },
    "execution": {
     "iopub.execute_input": "2023-11-28T11:03:53.852062Z",
     "iopub.status.busy": "2023-11-28T11:03:53.851777Z",
     "iopub.status.idle": "2023-11-28T11:03:53.854021Z",
     "shell.execute_reply": "2023-11-28T11:03:53.853630Z"
    }
   },
   "outputs": [],
   "source": [
    "import time"
   ]
  },
  {
   "cell_type": "code",
   "execution_count": 32,
   "metadata": {
    "ExecuteTime": {
     "end_time": "2023-11-09T18:21:58.425073110Z",
     "start_time": "2023-11-09T18:21:57.755705542Z"
    },
    "execution": {
     "iopub.execute_input": "2023-11-28T11:03:53.855764Z",
     "iopub.status.busy": "2023-11-28T11:03:53.855477Z",
     "iopub.status.idle": "2023-11-28T11:03:53.858184Z",
     "shell.execute_reply": "2023-11-28T11:03:53.857694Z"
    }
   },
   "outputs": [
    {
     "name": "stdout",
     "output_type": "stream",
     "text": [
      "()\n",
      "{'y': 4, 'x': 5}\n",
      "time needed: 1.430511474609375e-06\n"
     ]
    }
   ],
   "source": [
    "add_timed(y=4, x=5)"
   ]
  },
  {
   "cell_type": "code",
   "execution_count": 33,
   "metadata": {
    "ExecuteTime": {
     "end_time": "2023-11-09T18:21:58.425479931Z",
     "start_time": "2023-11-09T18:21:57.756004166Z"
    },
    "execution": {
     "iopub.execute_input": "2023-11-28T11:03:53.860092Z",
     "iopub.status.busy": "2023-11-28T11:03:53.859794Z",
     "iopub.status.idle": "2023-11-28T11:03:53.862049Z",
     "shell.execute_reply": "2023-11-28T11:03:53.861572Z"
    }
   },
   "outputs": [],
   "source": [
    "# test it here"
   ]
  },
  {
   "cell_type": "markdown",
   "metadata": {},
   "source": [
    "### Decorator\n",
    "\n",
    "There is another way, just syntactical sugar, to make this automatic: a decorator. It is invoked as below"
   ]
  },
  {
   "cell_type": "code",
   "execution_count": 34,
   "metadata": {
    "ExecuteTime": {
     "end_time": "2023-11-09T18:21:58.425804868Z",
     "start_time": "2023-11-09T18:21:57.756157832Z"
    },
    "execution": {
     "iopub.execute_input": "2023-11-28T11:03:53.863994Z",
     "iopub.status.busy": "2023-11-28T11:03:53.863638Z",
     "iopub.status.idle": "2023-11-28T11:03:53.866063Z",
     "shell.execute_reply": "2023-11-28T11:03:53.865609Z"
    }
   },
   "outputs": [],
   "source": [
    "@timed_func\n",
    "def add(x, y):\n",
    "    return x + y"
   ]
  },
  {
   "cell_type": "markdown",
   "metadata": {},
   "source": [
    "Again, as for the contextmanager, we can also use a class here to give more flexibility and create a decorator that takes _arguments_."
   ]
  },
  {
   "cell_type": "markdown",
   "metadata": {},
   "source": [
    "## Exceptions\n",
    "\n",
    "Exceptions are used to stop the execution at a certain point and surface to higher stacks in the code, e.g. to go up in the call stack. A typical use-case is when an error is encountered, such as the wrong type of object is given.\n",
    "Exceptions can also be caught in a `try ... except ...` block in order to handle the exception.\n",
    "\n",
    "There are a few built-in exceptions, the most common ones are:\n",
    "- `TypeError`: object has the wrong type, e.g. string instead of float\n",
    "- `ValueError`: the value of the object is illegal, e.g. negative but should be positive\n",
    "- `RuntimeError`: if a function is illegally executed or a status is wrong. E.g. if an object first has to be loaded before it gets parsed. It covers any error that does not fall into an other category.\n",
    "- `KeyError`, `IndexError`: if a key or index is not available, e.g. in a `dict` or `list`\n",
    "\n",
    "An Exception can manually be raised by"
   ]
  },
  {
   "cell_type": "code",
   "execution_count": 35,
   "metadata": {
    "ExecuteTime": {
     "end_time": "2023-11-09T18:21:59.048528979Z",
     "start_time": "2023-11-09T18:21:57.803005602Z"
    },
    "execution": {
     "iopub.execute_input": "2023-11-28T11:03:53.867796Z",
     "iopub.status.busy": "2023-11-28T11:03:53.867653Z",
     "iopub.status.idle": "2023-11-28T11:03:53.988288Z",
     "shell.execute_reply": "2023-11-28T11:03:53.987827Z"
    },
    "tags": [
     "raises-exception"
    ]
   },
   "outputs": [
    {
     "ename": "TypeError",
     "evalue": "Has to be int, not str",
     "output_type": "error",
     "traceback": [
      "\u001b[0;31m---------------------------------------------------------------------------\u001b[0m",
      "\u001b[0;31mTypeError\u001b[0m                                 Traceback (most recent call last)",
      "Cell \u001b[0;32mIn[35], line 1\u001b[0m\n\u001b[0;32m----> 1\u001b[0m \u001b[38;5;28;01mraise\u001b[39;00m \u001b[38;5;167;01mTypeError\u001b[39;00m(\u001b[38;5;124m\"\u001b[39m\u001b[38;5;124mHas to be int, not str\u001b[39m\u001b[38;5;124m\"\u001b[39m)\n",
      "\u001b[0;31mTypeError\u001b[0m: Has to be int, not str"
     ]
    }
   ],
   "source": [
    "raise TypeError(\"Has to be int, not str\")"
   ]
  },
  {
   "cell_type": "markdown",
   "metadata": {},
   "source": [
    "Note that it is often convenient to create an instance such as in the example above where the first argument is the message (as we see in the raised Exception above), but we can also raise an exception by only using the class itself"
   ]
  },
  {
   "cell_type": "code",
   "execution_count": 36,
   "metadata": {
    "ExecuteTime": {
     "start_time": "2023-11-09T18:21:58.751370683Z"
    },
    "execution": {
     "iopub.execute_input": "2023-11-28T11:03:53.990251Z",
     "iopub.status.busy": "2023-11-28T11:03:53.990089Z",
     "iopub.status.idle": "2023-11-28T11:03:53.999660Z",
     "shell.execute_reply": "2023-11-28T11:03:53.999159Z"
    },
    "tags": [
     "raises-exception"
    ]
   },
   "outputs": [
    {
     "ename": "TypeError",
     "evalue": "",
     "output_type": "error",
     "traceback": [
      "\u001b[0;31m---------------------------------------------------------------------------\u001b[0m",
      "\u001b[0;31mTypeError\u001b[0m                                 Traceback (most recent call last)",
      "Cell \u001b[0;32mIn[36], line 1\u001b[0m\n\u001b[0;32m----> 1\u001b[0m \u001b[38;5;28;01mraise\u001b[39;00m \u001b[38;5;167;01mTypeError\u001b[39;00m\n",
      "\u001b[0;31mTypeError\u001b[0m: "
     ]
    }
   ],
   "source": [
    "raise TypeError"
   ]
  },
  {
   "cell_type": "markdown",
   "metadata": {
    "pycharm": {
     "name": "#%% md\n"
    }
   },
   "source": [
    "### Custom Exception\n",
    "\n",
    "In Python, exceptions are simply a class. And as such, we can inherit from it and create our own exception.\n",
    "\n",
    "**Attention**: inherit from `Exception` or subclasses of it such as `TypeError`, `ValueError`, but NEVER from `BaseException`."
   ]
  },
  {
   "cell_type": "code",
   "execution_count": 37,
   "metadata": {
    "ExecuteTime": {
     "start_time": "2023-11-09T18:21:58.795021637Z"
    },
    "execution": {
     "iopub.execute_input": "2023-11-28T11:03:54.001543Z",
     "iopub.status.busy": "2023-11-28T11:03:54.001377Z",
     "iopub.status.idle": "2023-11-28T11:03:54.003886Z",
     "shell.execute_reply": "2023-11-28T11:03:54.003405Z"
    }
   },
   "outputs": [],
   "source": [
    "class MyError(Exception):\n",
    "    pass"
   ]
  },
  {
   "cell_type": "code",
   "execution_count": 38,
   "metadata": {
    "ExecuteTime": {
     "start_time": "2023-11-09T18:21:58.795152334Z"
    },
    "execution": {
     "iopub.execute_input": "2023-11-28T11:03:54.005745Z",
     "iopub.status.busy": "2023-11-28T11:03:54.005459Z",
     "iopub.status.idle": "2023-11-28T11:03:54.015532Z",
     "shell.execute_reply": "2023-11-28T11:03:54.015117Z"
    },
    "tags": [
     "raises-exception"
    ]
   },
   "outputs": [
    {
     "ename": "MyError",
     "evalue": "Hello world",
     "output_type": "error",
     "traceback": [
      "\u001b[0;31m---------------------------------------------------------------------------\u001b[0m",
      "\u001b[0;31mMyError\u001b[0m                                   Traceback (most recent call last)",
      "Cell \u001b[0;32mIn[38], line 1\u001b[0m\n\u001b[0;32m----> 1\u001b[0m \u001b[38;5;28;01mraise\u001b[39;00m MyError(\u001b[38;5;124m\"\u001b[39m\u001b[38;5;124mHello world\u001b[39m\u001b[38;5;124m\"\u001b[39m)\n",
      "\u001b[0;31mMyError\u001b[0m: Hello world"
     ]
    }
   ],
   "source": [
    "raise MyError(\"Hello world\")"
   ]
  },
  {
   "cell_type": "markdown",
   "metadata": {
    "pycharm": {
     "name": "#%% md\n"
    }
   },
   "source": [
    "An exception can also be created by inheriting from an already existing exception if it is more specific and provides hints on the nature of the exception."
   ]
  },
  {
   "cell_type": "code",
   "execution_count": 39,
   "metadata": {
    "ExecuteTime": {
     "start_time": "2023-11-09T18:21:58.795308728Z"
    },
    "execution": {
     "iopub.execute_input": "2023-11-28T11:03:54.017534Z",
     "iopub.status.busy": "2023-11-28T11:03:54.017228Z",
     "iopub.status.idle": "2023-11-28T11:03:54.019939Z",
     "shell.execute_reply": "2023-11-28T11:03:54.019362Z"
    }
   },
   "outputs": [],
   "source": [
    "class NegativeValueError(ValueError):\n",
    "    pass"
   ]
  },
  {
   "cell_type": "markdown",
   "metadata": {
    "pycharm": {
     "name": "#%% md\n"
    }
   },
   "source": [
    "## Catching exceptions\n",
    "\n",
    "An exception can be caught in a `try..except` block. This works as follows:\n",
    "- if an exception is raised in the `try` block, the next `except` is invoked\n",
    "- it is tested whether the raised exception is of type subclass of the exception type specified to be caught. For example, `except TypeError` checks if the raised error is of type `TypeError` or a subclass of it.\n",
    "- if that is not the case, it goes to the next `except` statement (yes, there can be multiple)\n",
    "- ... more below"
   ]
  },
  {
   "cell_type": "code",
   "execution_count": 40,
   "metadata": {
    "ExecuteTime": {
     "start_time": "2023-11-09T18:21:58.795410621Z"
    },
    "execution": {
     "iopub.execute_input": "2023-11-28T11:03:54.021872Z",
     "iopub.status.busy": "2023-11-28T11:03:54.021574Z",
     "iopub.status.idle": "2023-11-28T11:03:54.024951Z",
     "shell.execute_reply": "2023-11-28T11:03:54.024445Z"
    }
   },
   "outputs": [
    {
     "name": "stdout",
     "output_type": "stream",
     "text": [
      "Caught Negative value encountered\n"
     ]
    }
   ],
   "source": [
    "try:\n",
    "    raise NegativeValueError(\"Negative value encountered\")\n",
    "except ValueError as error:\n",
    "    print(f\"Caught {error}\")"
   ]
  },
  {
   "cell_type": "markdown",
   "metadata": {
    "pycharm": {
     "name": "#%% md\n"
    }
   },
   "source": [
    "By using the `as` keyword, the error that is raised is assigned to a variable. We can inspect the error now if we want or, as above, just print it."
   ]
  },
  {
   "cell_type": "markdown",
   "metadata": {
    "pycharm": {
     "name": "#%% md\n"
    }
   },
   "source": [
    "If no error is specified, _any_ error is caught (this should NOT be used, except for special cases"
   ]
  },
  {
   "cell_type": "code",
   "execution_count": 41,
   "metadata": {
    "ExecuteTime": {
     "start_time": "2023-11-09T18:21:58.795520523Z"
    },
    "execution": {
     "iopub.execute_input": "2023-11-28T11:03:54.026843Z",
     "iopub.status.busy": "2023-11-28T11:03:54.026520Z",
     "iopub.status.idle": "2023-11-28T11:03:54.029036Z",
     "shell.execute_reply": "2023-11-28T11:03:54.028511Z"
    }
   },
   "outputs": [],
   "source": [
    "try:\n",
    "    raise TypeError\n",
    "# Anti-pattern, do NOT use in general!\n",
    "except:  # any exception if not specified\n",
    "    pass"
   ]
  },
  {
   "cell_type": "code",
   "execution_count": 42,
   "metadata": {
    "ExecuteTime": {
     "start_time": "2023-11-09T18:21:58.795603420Z"
    },
    "execution": {
     "iopub.execute_input": "2023-11-28T11:03:54.031175Z",
     "iopub.status.busy": "2023-11-28T11:03:54.030874Z",
     "iopub.status.idle": "2023-11-28T11:03:54.044503Z",
     "shell.execute_reply": "2023-11-28T11:03:54.044016Z"
    },
    "tags": [
     "raises-exception"
    ]
   },
   "outputs": [
    {
     "name": "stdout",
     "output_type": "stream",
     "text": [
      "caught TypeError: Type was wrong, unfortunately\n"
     ]
    },
    {
     "ename": "TypeError",
     "evalue": "Type was wrong, unfortunately",
     "output_type": "error",
     "traceback": [
      "\u001b[0;31m---------------------------------------------------------------------------\u001b[0m",
      "\u001b[0;31mTypeError\u001b[0m                                 Traceback (most recent call last)",
      "Cell \u001b[0;32mIn[42], line 2\u001b[0m\n\u001b[1;32m      1\u001b[0m \u001b[38;5;28;01mtry\u001b[39;00m:\n\u001b[0;32m----> 2\u001b[0m     \u001b[38;5;28;01mraise\u001b[39;00m \u001b[38;5;167;01mTypeError\u001b[39;00m(\u001b[38;5;124m\"\u001b[39m\u001b[38;5;124mType was wrong, unfortunately\u001b[39m\u001b[38;5;124m\"\u001b[39m)\n\u001b[1;32m      3\u001b[0m \u001b[38;5;28;01mexcept\u001b[39;00m \u001b[38;5;167;01mTypeError\u001b[39;00m \u001b[38;5;28;01mas\u001b[39;00m error:  \u001b[38;5;66;03m# any exception\u001b[39;00m\n\u001b[1;32m      4\u001b[0m     \u001b[38;5;28mprint\u001b[39m(\u001b[38;5;124mf\u001b[39m\u001b[38;5;124m'\u001b[39m\u001b[38;5;124mcaught TypeError: \u001b[39m\u001b[38;5;132;01m{\u001b[39;00merror\u001b[38;5;132;01m}\u001b[39;00m\u001b[38;5;124m'\u001b[39m)\n",
      "\u001b[0;31mTypeError\u001b[0m: Type was wrong, unfortunately"
     ]
    }
   ],
   "source": [
    "try:\n",
    "    raise TypeError(\"Type was wrong, unfortunately\")\n",
    "except TypeError as error:  # any exception\n",
    "    print(f'caught TypeError: {error}')\n",
    "    raise\n",
    "except ValueError as error:\n",
    "    print(f'caugth ValueError: {error}')"
   ]
  },
  {
   "cell_type": "markdown",
   "metadata": {
    "pycharm": {
     "name": "#%% md\n"
    }
   },
   "source": [
    "To continue from above: after the last `except`, an `else` statement is looked for. The `else` is executed if _no_ exception was raised."
   ]
  },
  {
   "cell_type": "code",
   "execution_count": 43,
   "metadata": {
    "ExecuteTime": {
     "start_time": "2023-11-09T18:21:58.795680122Z"
    },
    "execution": {
     "iopub.execute_input": "2023-11-28T11:03:54.046546Z",
     "iopub.status.busy": "2023-11-28T11:03:54.046244Z",
     "iopub.status.idle": "2023-11-28T11:03:54.050433Z",
     "shell.execute_reply": "2023-11-28T11:03:54.049586Z"
    },
    "pycharm": {
     "name": "#%%\n"
    }
   },
   "outputs": [
    {
     "name": "stdout",
     "output_type": "stream",
     "text": [
      "no error raised\n",
      "No error\n",
      "Executed after block\n"
     ]
    }
   ],
   "source": [
    "try:\n",
    "    print('no error raised')\n",
    "#     raise TypeError(\"Type was wrong, unfortunately\")\n",
    "except TypeError as error:  # any exception\n",
    "    print(f'caught Type {error}')\n",
    "except ValueError as error:\n",
    "    print(f'caugth Value: {error}')\n",
    "else:\n",
    "    print(\"No error\")\n",
    "\n",
    "print(\"Executed after block\")"
   ]
  },
  {
   "cell_type": "markdown",
   "metadata": {},
   "source": [
    "...and finally, after the else, a `finally` block is looked for. This is *guaranteed* to be executed! Whether an exception is raised, whether it is caught or not, whether there is an `else` or not, the `finally` is _always_ executed.\n",
    "\n",
    "Therefore it is suitable for any cleanup code such as closing files, removing temporary files and more."
   ]
  },
  {
   "cell_type": "code",
   "execution_count": 44,
   "metadata": {
    "ExecuteTime": {
     "start_time": "2023-11-09T18:21:58.795985110Z"
    },
    "execution": {
     "iopub.execute_input": "2023-11-28T11:03:54.052563Z",
     "iopub.status.busy": "2023-11-28T11:03:54.052375Z",
     "iopub.status.idle": "2023-11-28T11:03:54.064401Z",
     "shell.execute_reply": "2023-11-28T11:03:54.063870Z"
    },
    "pycharm": {
     "name": "#%%\n"
    },
    "tags": [
     "raises-exception"
    ]
   },
   "outputs": [
    {
     "name": "stdout",
     "output_type": "stream",
     "text": [
      "Finally run\n"
     ]
    },
    {
     "ename": "RuntimeError",
     "evalue": "Type was wrong, unfortunately",
     "output_type": "error",
     "traceback": [
      "\u001b[0;31m---------------------------------------------------------------------------\u001b[0m",
      "\u001b[0;31mRuntimeError\u001b[0m                              Traceback (most recent call last)",
      "Cell \u001b[0;32mIn[44], line 4\u001b[0m\n\u001b[1;32m      1\u001b[0m \u001b[38;5;28;01mtry\u001b[39;00m:\n\u001b[1;32m      2\u001b[0m \u001b[38;5;66;03m#     pass\u001b[39;00m\n\u001b[1;32m      3\u001b[0m \u001b[38;5;66;03m#     raise TypeError(\"Type was wrong, unfortunately\")\u001b[39;00m\n\u001b[0;32m----> 4\u001b[0m     \u001b[38;5;28;01mraise\u001b[39;00m \u001b[38;5;167;01mRuntimeError\u001b[39;00m(\u001b[38;5;124m\"\u001b[39m\u001b[38;5;124mType was wrong, unfortunately\u001b[39m\u001b[38;5;124m\"\u001b[39m)\n\u001b[1;32m      5\u001b[0m \u001b[38;5;28;01mexcept\u001b[39;00m \u001b[38;5;167;01mTypeError\u001b[39;00m \u001b[38;5;28;01mas\u001b[39;00m error:  \u001b[38;5;66;03m# any exception\u001b[39;00m\n\u001b[1;32m      6\u001b[0m     \u001b[38;5;28mprint\u001b[39m(\u001b[38;5;124mf\u001b[39m\u001b[38;5;124m'\u001b[39m\u001b[38;5;124mcaught Type \u001b[39m\u001b[38;5;132;01m{\u001b[39;00merror\u001b[38;5;132;01m}\u001b[39;00m\u001b[38;5;124m'\u001b[39m)\n",
      "\u001b[0;31mRuntimeError\u001b[0m: Type was wrong, unfortunately"
     ]
    }
   ],
   "source": [
    "try:\n",
    "#     pass\n",
    "#     raise TypeError(\"Type was wrong, unfortunately\")\n",
    "    raise RuntimeError(\"Type was wrong, unfortunately\")\n",
    "except TypeError as error:  # any exception\n",
    "    print(f'caught Type {error}')\n",
    "except ValueError as error:\n",
    "    print(f'caugth Value: {error}')\n",
    "else:\n",
    "    print(\"No error\")\n",
    "finally:  # POWERFUL! Guarantied to be executed\n",
    "    print('Finally run')\n",
    "print(\"Executed when passed\")"
   ]
  },
  {
   "cell_type": "markdown",
   "metadata": {},
   "source": [
    "Note that in the above example, the error was _not_ caught! All the other statements could also be omitted and only a `try...finally` block can be created."
   ]
  },
  {
   "cell_type": "code",
   "execution_count": 45,
   "metadata": {
    "ExecuteTime": {
     "start_time": "2023-11-09T18:21:58.796186073Z"
    },
    "execution": {
     "iopub.execute_input": "2023-11-28T11:03:54.066608Z",
     "iopub.status.busy": "2023-11-28T11:03:54.066243Z",
     "iopub.status.idle": "2023-11-28T11:03:54.080558Z",
     "shell.execute_reply": "2023-11-28T11:03:54.080058Z"
    },
    "pycharm": {
     "name": "#%%\n"
    },
    "tags": [
     "raises-exception"
    ]
   },
   "outputs": [
    {
     "name": "stdout",
     "output_type": "stream",
     "text": [
      "raised\n"
     ]
    },
    {
     "ename": "ValueError",
     "evalue": "",
     "output_type": "error",
     "traceback": [
      "\u001b[0;31m---------------------------------------------------------------------------\u001b[0m",
      "\u001b[0;31mValueError\u001b[0m                                Traceback (most recent call last)",
      "Cell \u001b[0;32mIn[45], line 2\u001b[0m\n\u001b[1;32m      1\u001b[0m \u001b[38;5;28;01mtry\u001b[39;00m:\n\u001b[0;32m----> 2\u001b[0m     \u001b[38;5;28;01mraise\u001b[39;00m \u001b[38;5;167;01mValueError\u001b[39;00m\n\u001b[1;32m      3\u001b[0m \u001b[38;5;28;01mfinally\u001b[39;00m:\n\u001b[1;32m      4\u001b[0m     \u001b[38;5;28mprint\u001b[39m(\u001b[38;5;124m'\u001b[39m\u001b[38;5;124mraised\u001b[39m\u001b[38;5;124m'\u001b[39m)\n",
      "\u001b[0;31mValueError\u001b[0m: "
     ]
    }
   ],
   "source": [
    "try:\n",
    "    raise ValueError\n",
    "finally:\n",
    "    print('raised')"
   ]
  },
  {
   "cell_type": "markdown",
   "metadata": {},
   "source": [
    "### pitfall \"guaranteed execution\"\n",
    "\n",
    "As the `finally` is guaranteed to be executed, this can have an odd effect: possible return statements can be ignored _before the finally_ **IF** the `finally` also has a return statement. The logic says here that the `finally` return _must_ be executed, as it is guaranteed to be executed."
   ]
  },
  {
   "cell_type": "code",
   "execution_count": 46,
   "metadata": {
    "ExecuteTime": {
     "start_time": "2023-11-09T18:21:58.796374250Z"
    },
    "execution": {
     "iopub.execute_input": "2023-11-28T11:03:54.082866Z",
     "iopub.status.busy": "2023-11-28T11:03:54.082674Z",
     "iopub.status.idle": "2023-11-28T11:03:54.085939Z",
     "shell.execute_reply": "2023-11-28T11:03:54.085446Z"
    },
    "pycharm": {
     "name": "#%%\n"
    }
   },
   "outputs": [],
   "source": [
    "def func(x):\n",
    "    try:\n",
    "        if x == 5:\n",
    "            raise RuntimeError('called inside func')\n",
    "    except RuntimeError as error:\n",
    "        return error\n",
    "    else:\n",
    "        print('else before 42')\n",
    "        return 42\n",
    "        print('after else 42')\n",
    "    finally:\n",
    "        print(\"cleaned up\")\n",
    "        return 11"
   ]
  },
  {
   "cell_type": "code",
   "execution_count": 47,
   "metadata": {
    "ExecuteTime": {
     "start_time": "2023-11-09T18:21:58.796560001Z"
    },
    "execution": {
     "iopub.execute_input": "2023-11-28T11:03:54.087914Z",
     "iopub.status.busy": "2023-11-28T11:03:54.087694Z",
     "iopub.status.idle": "2023-11-28T11:03:54.091506Z",
     "shell.execute_reply": "2023-11-28T11:03:54.090983Z"
    },
    "pycharm": {
     "name": "#%%\n"
    }
   },
   "outputs": [
    {
     "name": "stdout",
     "output_type": "stream",
     "text": [
      "else before 42\n",
      "cleaned up\n"
     ]
    },
    {
     "data": {
      "text/plain": [
       "11"
      ]
     },
     "execution_count": 47,
     "metadata": {},
     "output_type": "execute_result"
    }
   ],
   "source": [
    "func(6)"
   ]
  },
  {
   "cell_type": "markdown",
   "metadata": {},
   "source": [
    "## Exceptions as control-flow\n",
    "\n",
    "We are used to control-flow elements such as `if...elif...else` blocks. However, exceptions _can_ also be used for this. They do not replace other ways of control-flow, however there are sometimes situations in which they provide a golden solution to steer the execution.\n",
    "\n",
    "As an example, consider an `add` function that _sometimes_ can add three elements - which is, for the sake of a good example, favorable as more performant (real world cases of this exist in larger scale, but too complicated to explain here) - and sometimes not. Also assume that the `add` function is called again maybe inside.\n",
    "A solution is to execute `add` with three elements. If an error is raised, we catch it (the specific one), and run the function again with two arguments and add the third argument by calling `add` again.\n",
    "\n",
    "Note that this also solves the problem if `add` is called deeper nested again: we don't care _where_ it is called, we just try again with only two numbers. The advantage is that we don't need to check the output of the function; this will always be a number (and not a `None` or something like this)."
   ]
  },
  {
   "cell_type": "code",
   "execution_count": 48,
   "metadata": {
    "ExecuteTime": {
     "start_time": "2023-11-09T18:21:58.796721888Z"
    },
    "execution": {
     "iopub.execute_input": "2023-11-28T11:03:54.093388Z",
     "iopub.status.busy": "2023-11-28T11:03:54.093083Z",
     "iopub.status.idle": "2023-11-28T11:03:54.095568Z",
     "shell.execute_reply": "2023-11-28T11:03:54.095182Z"
    },
    "pycharm": {
     "name": "#%%\n"
    }
   },
   "outputs": [],
   "source": [
    "def add(a, b, c=None):\n",
    "    if c is not None:\n",
    "        raise MyError\n",
    "    return a + b"
   ]
  },
  {
   "cell_type": "code",
   "execution_count": 49,
   "metadata": {
    "ExecuteTime": {
     "start_time": "2023-11-09T18:21:58.796792565Z"
    },
    "execution": {
     "iopub.execute_input": "2023-11-28T11:03:54.097253Z",
     "iopub.status.busy": "2023-11-28T11:03:54.097022Z",
     "iopub.status.idle": "2023-11-28T11:03:54.111175Z",
     "shell.execute_reply": "2023-11-28T11:03:54.110782Z"
    },
    "pycharm": {
     "name": "#%%\n"
    },
    "tags": [
     "raises-exception"
    ]
   },
   "outputs": [
    {
     "ename": "MyError",
     "evalue": "",
     "output_type": "error",
     "traceback": [
      "\u001b[0;31m---------------------------------------------------------------------------\u001b[0m",
      "\u001b[0;31mMyError\u001b[0m                                   Traceback (most recent call last)",
      "Cell \u001b[0;32mIn[49], line 1\u001b[0m\n\u001b[0;32m----> 1\u001b[0m \u001b[43madd\u001b[49m\u001b[43m(\u001b[49m\u001b[38;5;241;43m1\u001b[39;49m\u001b[43m,\u001b[49m\u001b[43m \u001b[49m\u001b[38;5;241;43m2\u001b[39;49m\u001b[43m,\u001b[49m\u001b[43m \u001b[49m\u001b[38;5;241;43m3\u001b[39;49m\u001b[43m)\u001b[49m\n",
      "Cell \u001b[0;32mIn[48], line 3\u001b[0m, in \u001b[0;36madd\u001b[0;34m(a, b, c)\u001b[0m\n\u001b[1;32m      1\u001b[0m \u001b[38;5;28;01mdef\u001b[39;00m \u001b[38;5;21madd\u001b[39m(a, b, c\u001b[38;5;241m=\u001b[39m\u001b[38;5;28;01mNone\u001b[39;00m):\n\u001b[1;32m      2\u001b[0m     \u001b[38;5;28;01mif\u001b[39;00m c \u001b[38;5;129;01mis\u001b[39;00m \u001b[38;5;129;01mnot\u001b[39;00m \u001b[38;5;28;01mNone\u001b[39;00m:\n\u001b[0;32m----> 3\u001b[0m         \u001b[38;5;28;01mraise\u001b[39;00m MyError\n\u001b[1;32m      4\u001b[0m     \u001b[38;5;28;01mreturn\u001b[39;00m a \u001b[38;5;241m+\u001b[39m b\n",
      "\u001b[0;31mMyError\u001b[0m: "
     ]
    }
   ],
   "source": [
    "add(1, 2, 3)"
   ]
  },
  {
   "cell_type": "code",
   "execution_count": 50,
   "metadata": {
    "ExecuteTime": {
     "start_time": "2023-11-09T18:21:58.796936035Z"
    },
    "execution": {
     "iopub.execute_input": "2023-11-28T11:03:54.112925Z",
     "iopub.status.busy": "2023-11-28T11:03:54.112645Z",
     "iopub.status.idle": "2023-11-28T11:03:54.116243Z",
     "shell.execute_reply": "2023-11-28T11:03:54.115748Z"
    },
    "pycharm": {
     "name": "#%%\n"
    }
   },
   "outputs": [
    {
     "data": {
      "text/plain": [
       "6"
      ]
     },
     "execution_count": 50,
     "metadata": {},
     "output_type": "execute_result"
    }
   ],
   "source": [
    "try:\n",
    "    result = add(1, 2, 3)\n",
    "except MyError as error:\n",
    "    result = add(add(1, 2), 3)\n",
    "result"
   ]
  }
 ],
 "metadata": {
  "kernelspec": {
   "display_name": "Python 3 (ipykernel)",
   "language": "python",
   "name": "python3"
  },
  "language_info": {
   "codemirror_mode": {
    "name": "ipython",
    "version": 3
   },
   "file_extension": ".py",
   "mimetype": "text/x-python",
   "name": "python",
   "nbconvert_exporter": "python",
   "pygments_lexer": "ipython3",
   "version": "3.11.6"
  }
 },
 "nbformat": 4,
 "nbformat_minor": 4
}
