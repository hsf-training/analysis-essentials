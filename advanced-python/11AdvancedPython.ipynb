{
 "cells": [
  {
   "cell_type": "markdown",
   "metadata": {},
   "source": [
    "# Advanced Python Concepts\n",
    "\n",
    "In this tutorial, a few advanced concepts (not class related) are introduced. This includes\n",
    "\n",
    "- packing and unpacking\n",
    "- context manager\n",
    "- decorator and factories\n",
    "- exceptions"
   ]
  },
  {
   "cell_type": "code",
   "execution_count": 1,
   "metadata": {
    "execution": {
     "iopub.execute_input": "2024-01-10T14:36:34.684429Z",
     "iopub.status.busy": "2024-01-10T14:36:34.684040Z",
     "iopub.status.idle": "2024-01-10T14:36:34.688908Z",
     "shell.execute_reply": "2024-01-10T14:36:34.688490Z"
    }
   },
   "outputs": [],
   "source": [
    "import time"
   ]
  },
  {
   "cell_type": "markdown",
   "metadata": {},
   "source": [
    "## Packing and unpacking of values\n",
    "\n",
    "Using `*` or `**` we can pack/unpack list-like objects and dict-like objects, respectively. They act as a \"removal\" of the parenthesis when situated on the right and as an \"adder\" of parenthesis when situated on the left of the assigmenemt operator (`=`).\n",
    "\n",
    "Let's play around..."
   ]
  },
  {
   "cell_type": "code",
   "execution_count": 2,
   "metadata": {
    "execution": {
     "iopub.execute_input": "2024-01-10T14:36:34.690913Z",
     "iopub.status.busy": "2024-01-10T14:36:34.690522Z",
     "iopub.status.idle": "2024-01-10T14:36:34.693070Z",
     "shell.execute_reply": "2024-01-10T14:36:34.692607Z"
    }
   },
   "outputs": [],
   "source": [
    "a, c, *b = [3, 4, 4.5, 5, 6]"
   ]
  },
  {
   "cell_type": "code",
   "execution_count": 3,
   "metadata": {
    "execution": {
     "iopub.execute_input": "2024-01-10T14:36:34.694918Z",
     "iopub.status.busy": "2024-01-10T14:36:34.694530Z",
     "iopub.status.idle": "2024-01-10T14:36:34.699280Z",
     "shell.execute_reply": "2024-01-10T14:36:34.698820Z"
    }
   },
   "outputs": [
    {
     "data": {
      "text/plain": [
       "[4.5, 5, 6]"
      ]
     },
     "execution_count": 3,
     "metadata": {},
     "output_type": "execute_result"
    }
   ],
   "source": [
    "b"
   ]
  },
  {
   "cell_type": "markdown",
   "metadata": {},
   "source": [
    "As can be seen, b catches now all the remaining elements in a list. Interesting to see is also the special case if no element is left."
   ]
  },
  {
   "cell_type": "code",
   "execution_count": 4,
   "metadata": {
    "execution": {
     "iopub.execute_input": "2024-01-10T14:36:34.701164Z",
     "iopub.status.busy": "2024-01-10T14:36:34.700794Z",
     "iopub.status.idle": "2024-01-10T14:36:34.703285Z",
     "shell.execute_reply": "2024-01-10T14:36:34.702817Z"
    }
   },
   "outputs": [],
   "source": [
    "d1, d2, *d3, d4 = [1, 2, 3]  # nothing left for d3"
   ]
  },
  {
   "cell_type": "code",
   "execution_count": 5,
   "metadata": {
    "execution": {
     "iopub.execute_input": "2024-01-10T14:36:34.704942Z",
     "iopub.status.busy": "2024-01-10T14:36:34.704695Z",
     "iopub.status.idle": "2024-01-10T14:36:34.707788Z",
     "shell.execute_reply": "2024-01-10T14:36:34.707314Z"
    }
   },
   "outputs": [
    {
     "data": {
      "text/plain": [
       "[]"
      ]
     },
     "execution_count": 5,
     "metadata": {},
     "output_type": "execute_result"
    }
   ],
   "source": [
    "d3"
   ]
  },
  {
   "cell_type": "markdown",
   "metadata": {},
   "source": [
    "This is simply an empty list. However, this has the advantage that we know that it is _always_ a list."
   ]
  },
  {
   "cell_type": "code",
   "execution_count": 6,
   "metadata": {
    "execution": {
     "iopub.execute_input": "2024-01-10T14:36:34.709701Z",
     "iopub.status.busy": "2024-01-10T14:36:34.709299Z",
     "iopub.status.idle": "2024-01-10T14:36:34.711916Z",
     "shell.execute_reply": "2024-01-10T14:36:34.711500Z"
    }
   },
   "outputs": [],
   "source": [
    "a = [3, 4, 5]"
   ]
  },
  {
   "cell_type": "markdown",
   "metadata": {},
   "source": [
    "Multiple unpackings can be added together (however, the other way around does not work: multiple _packings_ are not possible as it is ill-defined which variable would get how many elements)."
   ]
  },
  {
   "cell_type": "code",
   "execution_count": 7,
   "metadata": {
    "execution": {
     "iopub.execute_input": "2024-01-10T14:36:34.713567Z",
     "iopub.status.busy": "2024-01-10T14:36:34.713412Z",
     "iopub.status.idle": "2024-01-10T14:36:34.715622Z",
     "shell.execute_reply": "2024-01-10T14:36:34.715256Z"
    }
   },
   "outputs": [],
   "source": [
    "d, e, f, g, h, i = *a, *b"
   ]
  },
  {
   "cell_type": "markdown",
   "metadata": {},
   "source": [
    "Now we should be able to understand the `*args` and `**kwargs` for functions. Let's look at it:"
   ]
  },
  {
   "cell_type": "code",
   "execution_count": 8,
   "metadata": {
    "execution": {
     "iopub.execute_input": "2024-01-10T14:36:34.717420Z",
     "iopub.status.busy": "2024-01-10T14:36:34.717127Z",
     "iopub.status.idle": "2024-01-10T14:36:34.719713Z",
     "shell.execute_reply": "2024-01-10T14:36:34.719240Z"
    }
   },
   "outputs": [],
   "source": [
    "def func(*args, **kwargs):\n",
    "    print(f'args are {args}')\n",
    "    print(f\"kwargs are {kwargs}\")"
   ]
  },
  {
   "cell_type": "code",
   "execution_count": 9,
   "metadata": {
    "execution": {
     "iopub.execute_input": "2024-01-10T14:36:34.721498Z",
     "iopub.status.busy": "2024-01-10T14:36:34.721146Z",
     "iopub.status.idle": "2024-01-10T14:36:34.724127Z",
     "shell.execute_reply": "2024-01-10T14:36:34.723646Z"
    }
   },
   "outputs": [
    {
     "name": "stdout",
     "output_type": "stream",
     "text": [
      "args are (1, 3, 4, 'a', 'b')\n",
      "kwargs are {}\n"
     ]
    }
   ],
   "source": [
    "mykwargs = {'a': 5, 'b': 3}\n",
    "myargs = [1, 3, 4]\n",
    "func(*myargs, *mykwargs)"
   ]
  },
  {
   "cell_type": "code",
   "execution_count": 10,
   "metadata": {
    "execution": {
     "iopub.execute_input": "2024-01-10T14:36:34.725966Z",
     "iopub.status.busy": "2024-01-10T14:36:34.725675Z",
     "iopub.status.idle": "2024-01-10T14:36:34.728320Z",
     "shell.execute_reply": "2024-01-10T14:36:34.727838Z"
    }
   },
   "outputs": [
    {
     "name": "stdout",
     "output_type": "stream",
     "text": [
      "args are (5,)\n",
      "kwargs are {'a': 4}\n"
     ]
    }
   ],
   "source": [
    "func(5, a=4)"
   ]
  },
  {
   "cell_type": "code",
   "execution_count": 11,
   "metadata": {
    "execution": {
     "iopub.execute_input": "2024-01-10T14:36:34.730110Z",
     "iopub.status.busy": "2024-01-10T14:36:34.729813Z",
     "iopub.status.idle": "2024-01-10T14:36:34.731889Z",
     "shell.execute_reply": "2024-01-10T14:36:34.731491Z"
    }
   },
   "outputs": [],
   "source": [
    "# play around with it!"
   ]
  },
  {
   "cell_type": "markdown",
   "metadata": {},
   "source": [
    "## Context manager\n",
    "\n",
    "A context manager is an object that responds to a `with` statement. It may returns something. The basic idea is that some action is performed when entering a context and again when exiting it.\n",
    "\n",
    "```\n",
    "with context as var:\n",
    "    # do something\n",
    "```\n",
    "translates to\n",
    "```\n",
    "# execute context entering code\n",
    "var = return_from_context_entering_code\n",
    "# do something\n",
    "# execute context leaving code\n",
    "```\n",
    "\n",
    "The great advantage here is that the \"leaving code\" is automatically executed whenever we step out of the context!\n",
    "\n",
    "This proved to be incredibly useful when operations have cleanup code that we need to execute yet that is tedious to write manually and can be forgotten.\n",
    "\n",
    "### Using `yield`\n",
    "\n",
    "One way to create a context manager is to have a function that has a `yield`.\n",
    "\n",
    "_What is `yield`?_: It's like a return, except that the executioin stops at the `yield`, lets other code execute and, at some point, **continues** again where the yield was. Examples are:\n",
    "- iterator: a function that yields elements. Everytime it is called, it is supposed to yield an element and then continue from there\n",
    "- asynchronous programing: it stops and waits until something else is finished\n",
    "- in the context manager, as we will see"
   ]
  },
  {
   "cell_type": "code",
   "execution_count": 12,
   "metadata": {
    "execution": {
     "iopub.execute_input": "2024-01-10T14:36:34.733691Z",
     "iopub.status.busy": "2024-01-10T14:36:34.733342Z",
     "iopub.status.idle": "2024-01-10T14:36:34.736005Z",
     "shell.execute_reply": "2024-01-10T14:36:34.735526Z"
    }
   },
   "outputs": [],
   "source": [
    "import contextlib\n",
    "\n",
    "\n",
    "@contextlib.contextmanager\n",
    "def printer(x):\n",
    "    print(f'we just entered the context manager and will yield {x}')\n",
    "    yield x\n",
    "    print(f'Finishing the context manager, exiting')"
   ]
  },
  {
   "cell_type": "code",
   "execution_count": 13,
   "metadata": {
    "execution": {
     "iopub.execute_input": "2024-01-10T14:36:34.737940Z",
     "iopub.status.busy": "2024-01-10T14:36:34.737539Z",
     "iopub.status.idle": "2024-01-10T14:36:34.740453Z",
     "shell.execute_reply": "2024-01-10T14:36:34.739976Z"
    }
   },
   "outputs": [
    {
     "name": "stdout",
     "output_type": "stream",
     "text": [
      "we just entered the context manager and will yield 5\n",
      "we're inside, with number=5\n",
      "Finishing the context manager, exiting\n",
      "left manager\n"
     ]
    }
   ],
   "source": [
    "with printer(5) as number:\n",
    "    print(f\"we're inside, with number={number}\")\n",
    "print(\"left manager\")"
   ]
  },
  {
   "cell_type": "markdown",
   "metadata": {},
   "source": [
    "#### Where is this useful\n",
    "\n",
    "Basically with stateful objects. This includes anything that can be set and changed (mutable objects)."
   ]
  },
  {
   "cell_type": "code",
   "execution_count": 14,
   "metadata": {
    "execution": {
     "iopub.execute_input": "2024-01-10T14:36:34.742170Z",
     "iopub.status.busy": "2024-01-10T14:36:34.741918Z",
     "iopub.status.idle": "2024-01-10T14:36:34.744522Z",
     "shell.execute_reply": "2024-01-10T14:36:34.744072Z"
    }
   },
   "outputs": [],
   "source": [
    "with open('tmp.txt', 'w') as textfile:\n",
    "    textfile.write('asdf')"
   ]
  },
  {
   "cell_type": "markdown",
   "metadata": {},
   "source": [
    "The implementation roughly looks like this:"
   ]
  },
  {
   "cell_type": "code",
   "execution_count": 15,
   "metadata": {
    "execution": {
     "iopub.execute_input": "2024-01-10T14:36:34.746494Z",
     "iopub.status.busy": "2024-01-10T14:36:34.746129Z",
     "iopub.status.idle": "2024-01-10T14:36:34.748772Z",
     "shell.execute_reply": "2024-01-10T14:36:34.748293Z"
    }
   },
   "outputs": [],
   "source": [
    "import contextlib\n",
    "\n",
    "\n",
    "@contextlib.contextmanager\n",
    "def myopen(f, mode):\n",
    "    opened = open(f, mode)\n",
    "    yield opened\n",
    "    opened.close()"
   ]
  },
  {
   "cell_type": "markdown",
   "metadata": {},
   "source": [
    "**Exercise**: create a context manager that _temporarily_ sets a `'value'` key to 42 of a dict and switches it back to the old value on exit"
   ]
  },
  {
   "cell_type": "code",
   "execution_count": 16,
   "metadata": {
    "execution": {
     "iopub.execute_input": "2024-01-10T14:36:34.750734Z",
     "iopub.status.busy": "2024-01-10T14:36:34.750349Z",
     "iopub.status.idle": "2024-01-10T14:36:34.752901Z",
     "shell.execute_reply": "2024-01-10T14:36:34.752515Z"
    }
   },
   "outputs": [],
   "source": [
    "testdict = {'value': 11, 'name': 'the answer'}"
   ]
  },
  {
   "cell_type": "markdown",
   "metadata": {},
   "source": [
    "to be invoked like this\n",
    "\n",
    "```python\n",
    "with manager(testdict) as obj:\n",
    "    # here the value is 42\n",
    "# here the value is 11\n",
    "```"
   ]
  },
  {
   "cell_type": "code",
   "execution_count": 17,
   "metadata": {
    "execution": {
     "iopub.execute_input": "2024-01-10T14:36:34.754734Z",
     "iopub.status.busy": "2024-01-10T14:36:34.754363Z",
     "iopub.status.idle": "2024-01-10T14:36:34.757353Z",
     "shell.execute_reply": "2024-01-10T14:36:34.756957Z"
    }
   },
   "outputs": [
    {
     "name": "stdout",
     "output_type": "stream",
     "text": [
      "inside\n",
      "5\n"
     ]
    }
   ],
   "source": [
    "# SOLUTION\n",
    "@contextlib.contextmanager\n",
    "def func(x):\n",
    "    yield x\n",
    "\n",
    "\n",
    "with func(5) as var1:\n",
    "    print('inside')\n",
    "print(var1)"
   ]
  },
  {
   "cell_type": "code",
   "execution_count": 18,
   "metadata": {
    "execution": {
     "iopub.execute_input": "2024-01-10T14:36:34.759162Z",
     "iopub.status.busy": "2024-01-10T14:36:34.758870Z",
     "iopub.status.idle": "2024-01-10T14:36:34.761343Z",
     "shell.execute_reply": "2024-01-10T14:36:34.760973Z"
    }
   },
   "outputs": [],
   "source": [
    "@contextlib.contextmanager\n",
    "def set_answer(obj):\n",
    "    old_value = obj.get('value')\n",
    "    obj['value'] = 42\n",
    "    yield obj\n",
    "    obj['value'] = old_value"
   ]
  },
  {
   "cell_type": "markdown",
   "metadata": {},
   "source": [
    "## Using a class\n",
    "\n",
    "Instead of using the `yield`, we can have advanced control over the enter and exit methods by creating a class and implementing the two methods `__enter__` and `__exit__`"
   ]
  },
  {
   "cell_type": "code",
   "execution_count": 19,
   "metadata": {
    "execution": {
     "iopub.execute_input": "2024-01-10T14:36:34.763101Z",
     "iopub.status.busy": "2024-01-10T14:36:34.762798Z",
     "iopub.status.idle": "2024-01-10T14:36:34.765644Z",
     "shell.execute_reply": "2024-01-10T14:36:34.765274Z"
    }
   },
   "outputs": [],
   "source": [
    "class MyContext:\n",
    "\n",
    "    def __init__(self, x):\n",
    "        self.x = x\n",
    "\n",
    "    def __enter__(self):\n",
    "        x = self.x\n",
    "        print('entered')\n",
    "        return x ** 2\n",
    "\n",
    "    def __exit__(self, type_, value, traceback):  # but let's not go into things in detail here\n",
    "        self.x = 42\n",
    "        print('exited')"
   ]
  },
  {
   "cell_type": "code",
   "execution_count": 20,
   "metadata": {
    "execution": {
     "iopub.execute_input": "2024-01-10T14:36:34.767493Z",
     "iopub.status.busy": "2024-01-10T14:36:34.767072Z",
     "iopub.status.idle": "2024-01-10T14:36:34.769863Z",
     "shell.execute_reply": "2024-01-10T14:36:34.769390Z"
    }
   },
   "outputs": [
    {
     "name": "stdout",
     "output_type": "stream",
     "text": [
      "entered\n",
      "25\n",
      "exited\n"
     ]
    }
   ],
   "source": [
    "with MyContext(5) as x:\n",
    "    print(x)"
   ]
  },
  {
   "cell_type": "markdown",
   "metadata": {},
   "source": [
    "While a class is way more powerful and offers ways to catch exceptions and more in the exit, ususally the functional way is enough and should then be preferred. If it doesn't give you enough flexibility, remember the class, look it up and figure out all the things needed."
   ]
  },
  {
   "cell_type": "markdown",
   "metadata": {},
   "source": [
    "## Decorators and factories\n",
    "\n",
    "Sometimes we can't write a function fully by hand but want to create it programatically. This pattern is called a \"factory\". To achieve this, instead of having a function that returns an integer (an object), a list (an object), a dict (an object) or an array (an object), we return a function (an object). We see that the concept of Python, \"everything is an object\", starts being very useful here."
   ]
  },
  {
   "cell_type": "code",
   "execution_count": 21,
   "metadata": {
    "execution": {
     "iopub.execute_input": "2024-01-10T14:36:34.771553Z",
     "iopub.status.busy": "2024-01-10T14:36:34.771399Z",
     "iopub.status.idle": "2024-01-10T14:36:34.773718Z",
     "shell.execute_reply": "2024-01-10T14:36:34.773345Z"
    }
   },
   "outputs": [],
   "source": [
    "def make_power_func(power):\n",
    "    def func(x):\n",
    "        return x ** power\n",
    "    return func"
   ]
  },
  {
   "cell_type": "code",
   "execution_count": 22,
   "metadata": {
    "execution": {
     "iopub.execute_input": "2024-01-10T14:36:34.775383Z",
     "iopub.status.busy": "2024-01-10T14:36:34.775104Z",
     "iopub.status.idle": "2024-01-10T14:36:34.777494Z",
     "shell.execute_reply": "2024-01-10T14:36:34.777015Z"
    }
   },
   "outputs": [],
   "source": [
    "pow3 = make_power_func(3)"
   ]
  },
  {
   "cell_type": "code",
   "execution_count": 23,
   "metadata": {
    "execution": {
     "iopub.execute_input": "2024-01-10T14:36:34.779171Z",
     "iopub.status.busy": "2024-01-10T14:36:34.778884Z",
     "iopub.status.idle": "2024-01-10T14:36:34.782072Z",
     "shell.execute_reply": "2024-01-10T14:36:34.781585Z"
    }
   },
   "outputs": [
    {
     "data": {
      "text/plain": [
       "8"
      ]
     },
     "execution_count": 23,
     "metadata": {},
     "output_type": "execute_result"
    }
   ],
   "source": [
    "pow3(2)"
   ]
  },
  {
   "cell_type": "code",
   "execution_count": 24,
   "metadata": {
    "execution": {
     "iopub.execute_input": "2024-01-10T14:36:34.783904Z",
     "iopub.status.busy": "2024-01-10T14:36:34.783527Z",
     "iopub.status.idle": "2024-01-10T14:36:34.785994Z",
     "shell.execute_reply": "2024-01-10T14:36:34.785623Z"
    }
   },
   "outputs": [],
   "source": [
    "def make_power_func(power):\n",
    "    def func(x):\n",
    "        return x ** power\n",
    "    power = 42\n",
    "    return func"
   ]
  },
  {
   "cell_type": "code",
   "execution_count": 25,
   "metadata": {
    "execution": {
     "iopub.execute_input": "2024-01-10T14:36:34.787568Z",
     "iopub.status.busy": "2024-01-10T14:36:34.787415Z",
     "iopub.status.idle": "2024-01-10T14:36:34.789605Z",
     "shell.execute_reply": "2024-01-10T14:36:34.789231Z"
    }
   },
   "outputs": [],
   "source": [
    "pow3 = make_power_func(3)"
   ]
  },
  {
   "cell_type": "code",
   "execution_count": 26,
   "metadata": {
    "execution": {
     "iopub.execute_input": "2024-01-10T14:36:34.791433Z",
     "iopub.status.busy": "2024-01-10T14:36:34.791053Z",
     "iopub.status.idle": "2024-01-10T14:36:34.794264Z",
     "shell.execute_reply": "2024-01-10T14:36:34.793794Z"
    }
   },
   "outputs": [
    {
     "data": {
      "text/plain": [
       "4398046511104"
      ]
     },
     "execution_count": 26,
     "metadata": {},
     "output_type": "execute_result"
    }
   ],
   "source": [
    "pow3(2)"
   ]
  },
  {
   "cell_type": "code",
   "execution_count": 27,
   "metadata": {
    "execution": {
     "iopub.execute_input": "2024-01-10T14:36:34.795875Z",
     "iopub.status.busy": "2024-01-10T14:36:34.795718Z",
     "iopub.status.idle": "2024-01-10T14:36:34.797887Z",
     "shell.execute_reply": "2024-01-10T14:36:34.797503Z"
    }
   },
   "outputs": [],
   "source": [
    "# Exercise: test it here"
   ]
  },
  {
   "cell_type": "markdown",
   "metadata": {},
   "source": [
    "Another example is to create a timing wrapper. **Exercise**: create a timing function that can be used as follows\n",
    "\n",
    "```\n",
    "timed_pow3 = fime_func(pow3)\n",
    "pow3(...)\n",
    "```"
   ]
  },
  {
   "cell_type": "markdown",
   "metadata": {},
   "source": [
    "HINT, scetch of solution\n",
    "```python\n",
    "def time_func(func):\n",
    "    def new_func(...):\n",
    "        print('start')\n",
    "        func(...)\n",
    "        print('stop')\n",
    "    return new_func\n",
    "```"
   ]
  },
  {
   "cell_type": "code",
   "execution_count": 28,
   "metadata": {
    "execution": {
     "iopub.execute_input": "2024-01-10T14:36:34.799663Z",
     "iopub.status.busy": "2024-01-10T14:36:34.799299Z",
     "iopub.status.idle": "2024-01-10T14:36:34.802113Z",
     "shell.execute_reply": "2024-01-10T14:36:34.801729Z"
    }
   },
   "outputs": [],
   "source": [
    "# SOLUTION\n",
    "def timed_func(func):\n",
    "    def wrapped_func(*args, **kwargs):\n",
    "        print(args)\n",
    "        print(kwargs)\n",
    "        start = time.time()\n",
    "        func(*args, **kwargs)\n",
    "        end = time.time()\n",
    "        print(f'time needed: {end - start}')\n",
    "    return wrapped_func"
   ]
  },
  {
   "cell_type": "code",
   "execution_count": 29,
   "metadata": {
    "execution": {
     "iopub.execute_input": "2024-01-10T14:36:34.803749Z",
     "iopub.status.busy": "2024-01-10T14:36:34.803575Z",
     "iopub.status.idle": "2024-01-10T14:36:34.805777Z",
     "shell.execute_reply": "2024-01-10T14:36:34.805411Z"
    }
   },
   "outputs": [],
   "source": [
    "def add_notime(x, y):\n",
    "    return x + y"
   ]
  },
  {
   "cell_type": "code",
   "execution_count": 30,
   "metadata": {
    "execution": {
     "iopub.execute_input": "2024-01-10T14:36:34.807351Z",
     "iopub.status.busy": "2024-01-10T14:36:34.807202Z",
     "iopub.status.idle": "2024-01-10T14:36:34.809375Z",
     "shell.execute_reply": "2024-01-10T14:36:34.809006Z"
    }
   },
   "outputs": [],
   "source": [
    "add_timed = timed_func(add_notime)"
   ]
  },
  {
   "cell_type": "code",
   "execution_count": 31,
   "metadata": {
    "execution": {
     "iopub.execute_input": "2024-01-10T14:36:34.811201Z",
     "iopub.status.busy": "2024-01-10T14:36:34.810829Z",
     "iopub.status.idle": "2024-01-10T14:36:34.813024Z",
     "shell.execute_reply": "2024-01-10T14:36:34.812652Z"
    }
   },
   "outputs": [],
   "source": [
    "import time"
   ]
  },
  {
   "cell_type": "code",
   "execution_count": 32,
   "metadata": {
    "execution": {
     "iopub.execute_input": "2024-01-10T14:36:34.814661Z",
     "iopub.status.busy": "2024-01-10T14:36:34.814508Z",
     "iopub.status.idle": "2024-01-10T14:36:34.817230Z",
     "shell.execute_reply": "2024-01-10T14:36:34.816734Z"
    }
   },
   "outputs": [
    {
     "name": "stdout",
     "output_type": "stream",
     "text": [
      "()\n",
      "{'y': 4, 'x': 5}\n",
      "time needed: 1.1920928955078125e-06\n"
     ]
    }
   ],
   "source": [
    "add_timed(y=4, x=5)"
   ]
  },
  {
   "cell_type": "code",
   "execution_count": 33,
   "metadata": {
    "execution": {
     "iopub.execute_input": "2024-01-10T14:36:34.818915Z",
     "iopub.status.busy": "2024-01-10T14:36:34.818762Z",
     "iopub.status.idle": "2024-01-10T14:36:34.820959Z",
     "shell.execute_reply": "2024-01-10T14:36:34.820570Z"
    }
   },
   "outputs": [],
   "source": [
    "# test it here"
   ]
  },
  {
   "cell_type": "markdown",
   "metadata": {},
   "source": [
    "### Decorator\n",
    "\n",
    "There is another way, just syntactical sugar, to make this automatic: a decorator. It is invoked as below"
   ]
  },
  {
   "cell_type": "code",
   "execution_count": 34,
   "metadata": {
    "execution": {
     "iopub.execute_input": "2024-01-10T14:36:34.822767Z",
     "iopub.status.busy": "2024-01-10T14:36:34.822474Z",
     "iopub.status.idle": "2024-01-10T14:36:34.824876Z",
     "shell.execute_reply": "2024-01-10T14:36:34.824412Z"
    }
   },
   "outputs": [],
   "source": [
    "@timed_func\n",
    "def add(x, y):\n",
    "    return x + y"
   ]
  },
  {
   "cell_type": "markdown",
   "metadata": {},
   "source": [
    "Again, as for the contextmanager, we can also use a class here to give more flexibility and create a decorator that takes _arguments_."
   ]
  },
  {
   "cell_type": "markdown",
   "metadata": {},
   "source": [
    "## Exceptions\n",
    "\n",
    "Exceptions are used to stop the execution at a certain point and surface to higher stacks in the code, e.g. to go up in the call stack. A typical use-case is when an error is encountered, such as the wrong type of object is given.\n",
    "Exceptions can also be caught in a `try ... except ...` block in order to handle the exception.\n",
    "\n",
    "There are a few built-in exceptions, the most common ones are:\n",
    "- `TypeError`: object has the wrong type, e.g. string instead of float\n",
    "- `ValueError`: the value of the object is illegal, e.g. negative but should be positive\n",
    "- `RuntimeError`: if a function is illegally executed or a status is wrong. E.g. if an object first has to be loaded before it gets parsed. It covers any error that does not fall into an other category.\n",
    "- `KeyError`, `IndexError`: if a key or index is not available, e.g. in a `dict` or `list`\n",
    "\n",
    "An Exception can manually be raised by"
   ]
  },
  {
   "cell_type": "code",
   "execution_count": 35,
   "metadata": {
    "execution": {
     "iopub.execute_input": "2024-01-10T14:36:34.826830Z",
     "iopub.status.busy": "2024-01-10T14:36:34.826475Z",
     "iopub.status.idle": "2024-01-10T14:36:34.947927Z",
     "shell.execute_reply": "2024-01-10T14:36:34.947398Z"
    },
    "tags": [
     "raises-exception"
    ]
   },
   "outputs": [
    {
     "ename": "TypeError",
     "evalue": "Has to be int, not str",
     "output_type": "error",
     "traceback": [
      "\u001b[0;31m---------------------------------------------------------------------------\u001b[0m",
      "\u001b[0;31mTypeError\u001b[0m                                 Traceback (most recent call last)",
      "Cell \u001b[0;32mIn[35], line 1\u001b[0m\n\u001b[0;32m----> 1\u001b[0m \u001b[38;5;28;01mraise\u001b[39;00m \u001b[38;5;167;01mTypeError\u001b[39;00m(\u001b[38;5;124m\"\u001b[39m\u001b[38;5;124mHas to be int, not str\u001b[39m\u001b[38;5;124m\"\u001b[39m)\n",
      "\u001b[0;31mTypeError\u001b[0m: Has to be int, not str"
     ]
    }
   ],
   "source": [
    "raise TypeError(\"Has to be int, not str\")"
   ]
  },
  {
   "cell_type": "markdown",
   "metadata": {},
   "source": [
    "Note that it is often convenient to create an instance such as in the example above where the first argument is the message (as we see in the raised Exception above), but we can also raise an exception by only using the class itself"
   ]
  },
  {
   "cell_type": "code",
   "execution_count": 36,
   "metadata": {
    "execution": {
     "iopub.execute_input": "2024-01-10T14:36:34.949982Z",
     "iopub.status.busy": "2024-01-10T14:36:34.949667Z",
     "iopub.status.idle": "2024-01-10T14:36:34.958751Z",
     "shell.execute_reply": "2024-01-10T14:36:34.958362Z"
    },
    "tags": [
     "raises-exception"
    ]
   },
   "outputs": [
    {
     "ename": "TypeError",
     "evalue": "",
     "output_type": "error",
     "traceback": [
      "\u001b[0;31m---------------------------------------------------------------------------\u001b[0m",
      "\u001b[0;31mTypeError\u001b[0m                                 Traceback (most recent call last)",
      "Cell \u001b[0;32mIn[36], line 1\u001b[0m\n\u001b[0;32m----> 1\u001b[0m \u001b[38;5;28;01mraise\u001b[39;00m \u001b[38;5;167;01mTypeError\u001b[39;00m\n",
      "\u001b[0;31mTypeError\u001b[0m: "
     ]
    }
   ],
   "source": [
    "raise TypeError"
   ]
  },
  {
   "cell_type": "markdown",
   "metadata": {
    "pycharm": {
     "name": "#%% md\n"
    }
   },
   "source": [
    "### Custom Exception\n",
    "\n",
    "In Python, exceptions are simply a class. And as such, we can inherit from it and create our own exception.\n",
    "\n",
    "**Attention**: inherit from `Exception` or subclasses of it such as `TypeError`, `ValueError`, but NEVER from `BaseException`."
   ]
  },
  {
   "cell_type": "code",
   "execution_count": 37,
   "metadata": {
    "execution": {
     "iopub.execute_input": "2024-01-10T14:36:34.960372Z",
     "iopub.status.busy": "2024-01-10T14:36:34.960230Z",
     "iopub.status.idle": "2024-01-10T14:36:34.962522Z",
     "shell.execute_reply": "2024-01-10T14:36:34.962135Z"
    }
   },
   "outputs": [],
   "source": [
    "class MyError(Exception):\n",
    "    pass"
   ]
  },
  {
   "cell_type": "code",
   "execution_count": 38,
   "metadata": {
    "execution": {
     "iopub.execute_input": "2024-01-10T14:36:34.964121Z",
     "iopub.status.busy": "2024-01-10T14:36:34.963983Z",
     "iopub.status.idle": "2024-01-10T14:36:34.972974Z",
     "shell.execute_reply": "2024-01-10T14:36:34.972443Z"
    },
    "tags": [
     "raises-exception"
    ]
   },
   "outputs": [
    {
     "ename": "MyError",
     "evalue": "Hello world",
     "output_type": "error",
     "traceback": [
      "\u001b[0;31m---------------------------------------------------------------------------\u001b[0m",
      "\u001b[0;31mMyError\u001b[0m                                   Traceback (most recent call last)",
      "Cell \u001b[0;32mIn[38], line 1\u001b[0m\n\u001b[0;32m----> 1\u001b[0m \u001b[38;5;28;01mraise\u001b[39;00m MyError(\u001b[38;5;124m\"\u001b[39m\u001b[38;5;124mHello world\u001b[39m\u001b[38;5;124m\"\u001b[39m)\n",
      "\u001b[0;31mMyError\u001b[0m: Hello world"
     ]
    }
   ],
   "source": [
    "raise MyError(\"Hello world\")"
   ]
  },
  {
   "cell_type": "markdown",
   "metadata": {
    "pycharm": {
     "name": "#%% md\n"
    }
   },
   "source": [
    "An exception can also be created by inheriting from an already existing exception if it is more specific and provides hints on the nature of the exception."
   ]
  },
  {
   "cell_type": "code",
   "execution_count": 39,
   "metadata": {
    "execution": {
     "iopub.execute_input": "2024-01-10T14:36:34.975108Z",
     "iopub.status.busy": "2024-01-10T14:36:34.974692Z",
     "iopub.status.idle": "2024-01-10T14:36:34.977102Z",
     "shell.execute_reply": "2024-01-10T14:36:34.976711Z"
    }
   },
   "outputs": [],
   "source": [
    "class NegativeValueError(ValueError):\n",
    "    pass"
   ]
  },
  {
   "cell_type": "markdown",
   "metadata": {
    "pycharm": {
     "name": "#%% md\n"
    }
   },
   "source": [
    "## Catching exceptions\n",
    "\n",
    "An exception can be caught in a `try..except` block. This works as follows:\n",
    "- if an exception is raised in the `try` block, the next `except` is invoked\n",
    "- it is tested whether the raised exception is of type subclass of the exception type specified to be caught. For example, `except TypeError` checks if the raised error is of type `TypeError` or a subclass of it.\n",
    "- if that is not the case, it goes to the next `except` statement (yes, there can be multiple)\n",
    "- ... more below"
   ]
  },
  {
   "cell_type": "code",
   "execution_count": 40,
   "metadata": {
    "execution": {
     "iopub.execute_input": "2024-01-10T14:36:34.978717Z",
     "iopub.status.busy": "2024-01-10T14:36:34.978569Z",
     "iopub.status.idle": "2024-01-10T14:36:34.981548Z",
     "shell.execute_reply": "2024-01-10T14:36:34.981013Z"
    }
   },
   "outputs": [
    {
     "name": "stdout",
     "output_type": "stream",
     "text": [
      "Caught Negative value encountered\n"
     ]
    }
   ],
   "source": [
    "try:\n",
    "    raise NegativeValueError(\"Negative value encountered\")\n",
    "except ValueError as error:\n",
    "    print(f\"Caught {error}\")"
   ]
  },
  {
   "cell_type": "markdown",
   "metadata": {
    "pycharm": {
     "name": "#%% md\n"
    }
   },
   "source": [
    "By using the `as` keyword, the error that is raised is assigned to a variable. We can inspect the error now if we want or, as above, just print it."
   ]
  },
  {
   "cell_type": "markdown",
   "metadata": {
    "pycharm": {
     "name": "#%% md\n"
    }
   },
   "source": [
    "If no error is specified, _any_ error is caught (this should NOT be used, except for special cases"
   ]
  },
  {
   "cell_type": "code",
   "execution_count": 41,
   "metadata": {
    "execution": {
     "iopub.execute_input": "2024-01-10T14:36:34.983756Z",
     "iopub.status.busy": "2024-01-10T14:36:34.983460Z",
     "iopub.status.idle": "2024-01-10T14:36:34.985892Z",
     "shell.execute_reply": "2024-01-10T14:36:34.985406Z"
    }
   },
   "outputs": [],
   "source": [
    "try:\n",
    "    raise TypeError\n",
    "# Anti-pattern, do NOT use in general!\n",
    "except:  # any exception if not specified\n",
    "    pass"
   ]
  },
  {
   "cell_type": "code",
   "execution_count": 42,
   "metadata": {
    "execution": {
     "iopub.execute_input": "2024-01-10T14:36:34.988217Z",
     "iopub.status.busy": "2024-01-10T14:36:34.987908Z",
     "iopub.status.idle": "2024-01-10T14:36:34.999194Z",
     "shell.execute_reply": "2024-01-10T14:36:34.998735Z"
    },
    "tags": [
     "raises-exception"
    ]
   },
   "outputs": [
    {
     "name": "stdout",
     "output_type": "stream",
     "text": [
      "caught TypeError: Type was wrong, unfortunately\n"
     ]
    },
    {
     "ename": "TypeError",
     "evalue": "Type was wrong, unfortunately",
     "output_type": "error",
     "traceback": [
      "\u001b[0;31m---------------------------------------------------------------------------\u001b[0m",
      "\u001b[0;31mTypeError\u001b[0m                                 Traceback (most recent call last)",
      "Cell \u001b[0;32mIn[42], line 2\u001b[0m\n\u001b[1;32m      1\u001b[0m \u001b[38;5;28;01mtry\u001b[39;00m:\n\u001b[0;32m----> 2\u001b[0m     \u001b[38;5;28;01mraise\u001b[39;00m \u001b[38;5;167;01mTypeError\u001b[39;00m(\u001b[38;5;124m\"\u001b[39m\u001b[38;5;124mType was wrong, unfortunately\u001b[39m\u001b[38;5;124m\"\u001b[39m)\n\u001b[1;32m      3\u001b[0m \u001b[38;5;28;01mexcept\u001b[39;00m \u001b[38;5;167;01mTypeError\u001b[39;00m \u001b[38;5;28;01mas\u001b[39;00m error:  \u001b[38;5;66;03m# any exception\u001b[39;00m\n\u001b[1;32m      4\u001b[0m     \u001b[38;5;28mprint\u001b[39m(\u001b[38;5;124mf\u001b[39m\u001b[38;5;124m'\u001b[39m\u001b[38;5;124mcaught TypeError: \u001b[39m\u001b[38;5;132;01m{\u001b[39;00merror\u001b[38;5;132;01m}\u001b[39;00m\u001b[38;5;124m'\u001b[39m)\n",
      "\u001b[0;31mTypeError\u001b[0m: Type was wrong, unfortunately"
     ]
    }
   ],
   "source": [
    "try:\n",
    "    raise TypeError(\"Type was wrong, unfortunately\")\n",
    "except TypeError as error:  # any exception\n",
    "    print(f'caught TypeError: {error}')\n",
    "    raise\n",
    "except ValueError as error:\n",
    "    print(f'caugth ValueError: {error}')"
   ]
  },
  {
   "cell_type": "markdown",
   "metadata": {
    "pycharm": {
     "name": "#%% md\n"
    }
   },
   "source": [
    "To continue from above: after the last `except`, an `else` statement is looked for. The `else` is executed if _no_ exception was raised."
   ]
  },
  {
   "cell_type": "code",
   "execution_count": 43,
   "metadata": {
    "execution": {
     "iopub.execute_input": "2024-01-10T14:36:35.000971Z",
     "iopub.status.busy": "2024-01-10T14:36:35.000816Z",
     "iopub.status.idle": "2024-01-10T14:36:35.003911Z",
     "shell.execute_reply": "2024-01-10T14:36:35.003410Z"
    },
    "pycharm": {
     "name": "#%%\n"
    }
   },
   "outputs": [
    {
     "name": "stdout",
     "output_type": "stream",
     "text": [
      "no error raised\n",
      "No error\n",
      "Executed after block\n"
     ]
    }
   ],
   "source": [
    "try:\n",
    "    print('no error raised')\n",
    "#     raise TypeError(\"Type was wrong, unfortunately\")\n",
    "except TypeError as error:  # any exception\n",
    "    print(f'caught Type {error}')\n",
    "except ValueError as error:\n",
    "    print(f'caugth Value: {error}')\n",
    "else:\n",
    "    print(\"No error\")\n",
    "\n",
    "print(\"Executed after block\")"
   ]
  },
  {
   "cell_type": "markdown",
   "metadata": {},
   "source": [
    "...and finally, after the else, a `finally` block is looked for. This is *guaranteed* to be executed! Whether an exception is raised, whether it is caught or not, whether there is an `else` or not, the `finally` is _always_ executed.\n",
    "\n",
    "Therefore it is suitable for any cleanup code such as closing files, removing temporary files and more."
   ]
  },
  {
   "cell_type": "code",
   "execution_count": 44,
   "metadata": {
    "execution": {
     "iopub.execute_input": "2024-01-10T14:36:35.005758Z",
     "iopub.status.busy": "2024-01-10T14:36:35.005472Z",
     "iopub.status.idle": "2024-01-10T14:36:35.016408Z",
     "shell.execute_reply": "2024-01-10T14:36:35.015926Z"
    },
    "pycharm": {
     "name": "#%%\n"
    },
    "tags": [
     "raises-exception"
    ]
   },
   "outputs": [
    {
     "name": "stdout",
     "output_type": "stream",
     "text": [
      "Finally run\n"
     ]
    },
    {
     "ename": "RuntimeError",
     "evalue": "Type was wrong, unfortunately",
     "output_type": "error",
     "traceback": [
      "\u001b[0;31m---------------------------------------------------------------------------\u001b[0m",
      "\u001b[0;31mRuntimeError\u001b[0m                              Traceback (most recent call last)",
      "Cell \u001b[0;32mIn[44], line 4\u001b[0m\n\u001b[1;32m      1\u001b[0m \u001b[38;5;28;01mtry\u001b[39;00m:\n\u001b[1;32m      2\u001b[0m \u001b[38;5;66;03m#     pass\u001b[39;00m\n\u001b[1;32m      3\u001b[0m \u001b[38;5;66;03m#     raise TypeError(\"Type was wrong, unfortunately\")\u001b[39;00m\n\u001b[0;32m----> 4\u001b[0m     \u001b[38;5;28;01mraise\u001b[39;00m \u001b[38;5;167;01mRuntimeError\u001b[39;00m(\u001b[38;5;124m\"\u001b[39m\u001b[38;5;124mType was wrong, unfortunately\u001b[39m\u001b[38;5;124m\"\u001b[39m)\n\u001b[1;32m      5\u001b[0m \u001b[38;5;28;01mexcept\u001b[39;00m \u001b[38;5;167;01mTypeError\u001b[39;00m \u001b[38;5;28;01mas\u001b[39;00m error:  \u001b[38;5;66;03m# any exception\u001b[39;00m\n\u001b[1;32m      6\u001b[0m     \u001b[38;5;28mprint\u001b[39m(\u001b[38;5;124mf\u001b[39m\u001b[38;5;124m'\u001b[39m\u001b[38;5;124mcaught Type \u001b[39m\u001b[38;5;132;01m{\u001b[39;00merror\u001b[38;5;132;01m}\u001b[39;00m\u001b[38;5;124m'\u001b[39m)\n",
      "\u001b[0;31mRuntimeError\u001b[0m: Type was wrong, unfortunately"
     ]
    }
   ],
   "source": [
    "try:\n",
    "#     pass\n",
    "#     raise TypeError(\"Type was wrong, unfortunately\")\n",
    "    raise RuntimeError(\"Type was wrong, unfortunately\")\n",
    "except TypeError as error:  # any exception\n",
    "    print(f'caught Type {error}')\n",
    "except ValueError as error:\n",
    "    print(f'caugth Value: {error}')\n",
    "else:\n",
    "    print(\"No error\")\n",
    "finally:  # POWERFUL! Guarantied to be executed\n",
    "    print('Finally run')\n",
    "print(\"Executed when passed\")"
   ]
  },
  {
   "cell_type": "markdown",
   "metadata": {},
   "source": [
    "Note that in the above example, the error was _not_ caught! All the other statements could also be omitted and only a `try...finally` block can be created."
   ]
  },
  {
   "cell_type": "code",
   "execution_count": 45,
   "metadata": {
    "execution": {
     "iopub.execute_input": "2024-01-10T14:36:35.018244Z",
     "iopub.status.busy": "2024-01-10T14:36:35.017961Z",
     "iopub.status.idle": "2024-01-10T14:36:35.027341Z",
     "shell.execute_reply": "2024-01-10T14:36:35.026938Z"
    },
    "pycharm": {
     "name": "#%%\n"
    },
    "tags": [
     "raises-exception"
    ]
   },
   "outputs": [
    {
     "name": "stdout",
     "output_type": "stream",
     "text": [
      "raised\n"
     ]
    },
    {
     "ename": "ValueError",
     "evalue": "",
     "output_type": "error",
     "traceback": [
      "\u001b[0;31m---------------------------------------------------------------------------\u001b[0m",
      "\u001b[0;31mValueError\u001b[0m                                Traceback (most recent call last)",
      "Cell \u001b[0;32mIn[45], line 2\u001b[0m\n\u001b[1;32m      1\u001b[0m \u001b[38;5;28;01mtry\u001b[39;00m:\n\u001b[0;32m----> 2\u001b[0m     \u001b[38;5;28;01mraise\u001b[39;00m \u001b[38;5;167;01mValueError\u001b[39;00m\n\u001b[1;32m      3\u001b[0m \u001b[38;5;28;01mfinally\u001b[39;00m:\n\u001b[1;32m      4\u001b[0m     \u001b[38;5;28mprint\u001b[39m(\u001b[38;5;124m'\u001b[39m\u001b[38;5;124mraised\u001b[39m\u001b[38;5;124m'\u001b[39m)\n",
      "\u001b[0;31mValueError\u001b[0m: "
     ]
    }
   ],
   "source": [
    "try:\n",
    "    raise ValueError\n",
    "finally:\n",
    "    print('raised')"
   ]
  },
  {
   "cell_type": "markdown",
   "metadata": {},
   "source": [
    "### pitfall \"guaranteed execution\"\n",
    "\n",
    "As the `finally` is guaranteed to be executed, this can have an odd effect: possible return statements can be ignored _before the finally_ **IF** the `finally` also has a return statement. The logic says here that the `finally` return _must_ be executed, as it is guaranteed to be executed."
   ]
  },
  {
   "cell_type": "code",
   "execution_count": 46,
   "metadata": {
    "execution": {
     "iopub.execute_input": "2024-01-10T14:36:35.029014Z",
     "iopub.status.busy": "2024-01-10T14:36:35.028872Z",
     "iopub.status.idle": "2024-01-10T14:36:35.031820Z",
     "shell.execute_reply": "2024-01-10T14:36:35.031395Z"
    },
    "pycharm": {
     "name": "#%%\n"
    }
   },
   "outputs": [],
   "source": [
    "def func(x):\n",
    "    try:\n",
    "        if x == 5:\n",
    "            raise RuntimeError('called inside func')\n",
    "    except RuntimeError as error:\n",
    "        return error\n",
    "    else:\n",
    "        print('else before 42')\n",
    "        return 42\n",
    "        print('after else 42')\n",
    "    finally:\n",
    "        print(\"cleaned up\")\n",
    "        return 11"
   ]
  },
  {
   "cell_type": "code",
   "execution_count": 47,
   "metadata": {
    "execution": {
     "iopub.execute_input": "2024-01-10T14:36:35.033738Z",
     "iopub.status.busy": "2024-01-10T14:36:35.033349Z",
     "iopub.status.idle": "2024-01-10T14:36:35.036949Z",
     "shell.execute_reply": "2024-01-10T14:36:35.036545Z"
    },
    "pycharm": {
     "name": "#%%\n"
    }
   },
   "outputs": [
    {
     "name": "stdout",
     "output_type": "stream",
     "text": [
      "else before 42\n",
      "cleaned up\n"
     ]
    },
    {
     "data": {
      "text/plain": [
       "11"
      ]
     },
     "execution_count": 47,
     "metadata": {},
     "output_type": "execute_result"
    }
   ],
   "source": [
    "func(6)"
   ]
  },
  {
   "cell_type": "markdown",
   "metadata": {},
   "source": [
    "## Exceptions as control-flow\n",
    "\n",
    "We are used to control-flow elements such as `if...elif...else` blocks. However, exceptions _can_ also be used for this. They do not replace other ways of control-flow, however there are sometimes situations in which they provide a golden solution to steer the execution.\n",
    "\n",
    "As an example, consider an `add` function that _sometimes_ can add three elements - which is, for the sake of a good example, favorable as more performant (real world cases of this exist in larger scale, but too complicated to explain here) - and sometimes not. Also assume that the `add` function is called again maybe inside.\n",
    "A solution is to execute `add` with three elements. If an error is raised, we catch it (the specific one), and run the function again with two arguments and add the third argument by calling `add` again.\n",
    "\n",
    "Note that this also solves the problem if `add` is called deeper nested again: we don't care _where_ it is called, we just try again with only two numbers. The advantage is that we don't need to check the output of the function; this will always be a number (and not a `None` or something like this)."
   ]
  },
  {
   "cell_type": "code",
   "execution_count": 48,
   "metadata": {
    "execution": {
     "iopub.execute_input": "2024-01-10T14:36:35.038723Z",
     "iopub.status.busy": "2024-01-10T14:36:35.038368Z",
     "iopub.status.idle": "2024-01-10T14:36:35.040919Z",
     "shell.execute_reply": "2024-01-10T14:36:35.040470Z"
    },
    "pycharm": {
     "name": "#%%\n"
    }
   },
   "outputs": [],
   "source": [
    "def add(a, b, c=None):\n",
    "    if c is not None:\n",
    "        raise MyError\n",
    "    return a + b"
   ]
  },
  {
   "cell_type": "code",
   "execution_count": 49,
   "metadata": {
    "execution": {
     "iopub.execute_input": "2024-01-10T14:36:35.042772Z",
     "iopub.status.busy": "2024-01-10T14:36:35.042461Z",
     "iopub.status.idle": "2024-01-10T14:36:35.056093Z",
     "shell.execute_reply": "2024-01-10T14:36:35.055577Z"
    },
    "pycharm": {
     "name": "#%%\n"
    },
    "tags": [
     "raises-exception"
    ]
   },
   "outputs": [
    {
     "ename": "MyError",
     "evalue": "",
     "output_type": "error",
     "traceback": [
      "\u001b[0;31m---------------------------------------------------------------------------\u001b[0m",
      "\u001b[0;31mMyError\u001b[0m                                   Traceback (most recent call last)",
      "Cell \u001b[0;32mIn[49], line 1\u001b[0m\n\u001b[0;32m----> 1\u001b[0m \u001b[43madd\u001b[49m\u001b[43m(\u001b[49m\u001b[38;5;241;43m1\u001b[39;49m\u001b[43m,\u001b[49m\u001b[43m \u001b[49m\u001b[38;5;241;43m2\u001b[39;49m\u001b[43m,\u001b[49m\u001b[43m \u001b[49m\u001b[38;5;241;43m3\u001b[39;49m\u001b[43m)\u001b[49m\n",
      "Cell \u001b[0;32mIn[48], line 3\u001b[0m, in \u001b[0;36madd\u001b[0;34m(a, b, c)\u001b[0m\n\u001b[1;32m      1\u001b[0m \u001b[38;5;28;01mdef\u001b[39;00m \u001b[38;5;21madd\u001b[39m(a, b, c\u001b[38;5;241m=\u001b[39m\u001b[38;5;28;01mNone\u001b[39;00m):\n\u001b[1;32m      2\u001b[0m     \u001b[38;5;28;01mif\u001b[39;00m c \u001b[38;5;129;01mis\u001b[39;00m \u001b[38;5;129;01mnot\u001b[39;00m \u001b[38;5;28;01mNone\u001b[39;00m:\n\u001b[0;32m----> 3\u001b[0m         \u001b[38;5;28;01mraise\u001b[39;00m MyError\n\u001b[1;32m      4\u001b[0m     \u001b[38;5;28;01mreturn\u001b[39;00m a \u001b[38;5;241m+\u001b[39m b\n",
      "\u001b[0;31mMyError\u001b[0m: "
     ]
    }
   ],
   "source": [
    "add(1, 2, 3)"
   ]
  },
  {
   "cell_type": "code",
   "execution_count": 50,
   "metadata": {
    "execution": {
     "iopub.execute_input": "2024-01-10T14:36:35.057889Z",
     "iopub.status.busy": "2024-01-10T14:36:35.057528Z",
     "iopub.status.idle": "2024-01-10T14:36:35.061046Z",
     "shell.execute_reply": "2024-01-10T14:36:35.060570Z"
    },
    "pycharm": {
     "name": "#%%\n"
    }
   },
   "outputs": [
    {
     "data": {
      "text/plain": [
       "6"
      ]
     },
     "execution_count": 50,
     "metadata": {},
     "output_type": "execute_result"
    }
   ],
   "source": [
    "try:\n",
    "    result = add(1, 2, 3)\n",
    "except MyError as error:\n",
    "    result = add(add(1, 2), 3)\n",
    "result"
   ]
  }
 ],
 "metadata": {
  "kernelspec": {
   "display_name": "Python 3 (ipykernel)",
   "language": "python",
   "name": "python3"
  },
  "language_info": {
   "codemirror_mode": {
    "name": "ipython",
    "version": 3
   },
   "file_extension": ".py",
   "mimetype": "text/x-python",
   "name": "python",
   "nbconvert_exporter": "python",
   "pygments_lexer": "ipython3",
   "version": "3.11.7"
  }
 },
 "nbformat": 4,
 "nbformat_minor": 4
}
