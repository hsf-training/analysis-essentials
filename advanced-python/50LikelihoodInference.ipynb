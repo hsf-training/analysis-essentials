{
 "cells": [
  {
   "cell_type": "markdown",
   "metadata": {},
   "source": [
    "\n",
    "# 8: Likelihood inference\n",
    "\n",
    "*(note: in order to run this notebook, first run 20 creating the data and 30, adding a BDT)*\n",
    "\n",
    "\n",
    "In most analysis, fitting a model to data is a crucial, last step in the chain in order to extract information about the parameters of interest.\n",
    "\n",
    "**Model**: First, this involves building a model that depends on various parameters - some that are of immediate interest to us (Parameter Of Interest, POI) and some that help to describe the observables that we expect in the data but do not have any relevant physical meaning such as detectoreffects (Nuisance Parameter).\n",
    "\n",
    "**Loss**: With the model and the data, a likelihood (or sometimes also a $\\chi^2$ loss) is built. This is a function of the parameters and reflects the _likelihood of finding the data given the parameters_. The most likely parameter combination is retrieved when maximising the likelihood; also called the Maximum Likelihood (ML) estimator. Except for trivial cases, this has to be done numerically.\n",
    "\n",
    "While this procedure returns an estimate of the _best-fit_, it does not say anything about the _uncertainty_ of our measurement. Therefore, advanced statistical methods are needed that perform toy studies; these are fits to generated samples under different conditions such as fixing a parameter to a certain value."
   ]
  },
  {
   "cell_type": "markdown",
   "metadata": {},
   "source": [
    "## Scope of this tutorial\n",
    "\n",
    "Here, we focus on the libraries that are available to perform likelihood fits. For unbinned fits in Python, the libraries that we will consider here are [zfit](https://github.com/zfit/zfit) (likelihood model fitting library) and [hepstats](https://github.com/scikit-hep/hepstats) (higher level statistical inference; can use `zfit` models), both which are relatively young and written in pure Python.\n",
    "\n",
    "An alternative to be mentioned is [RooFit](http://roofit.sourceforge.net/) and [RooStats](https://twiki.cern.ch/twiki/bin/view/RooStats/WebHome), an older, well-proven, reliable C++ framework that has Python bindings and acts as a standard in HEP for this kind of fits.\n",
    "\n",
    "In case your analysis involved pure binned and templated fits, [pyhf](https://github.com/scikit-hep/pyhf) provides a specialized library for this kind of fits.\n",
    "\n",
    "## Getting started\n",
    "\n",
    "In order to get started with `zfit`, it is recommendable to have a look at the [zfit-tutorials](https://zfit-tutorials.readthedocs.io/en/latest/index.html) or the [recorded](https://www.youtube.com/playlist?list=PLAuzjeTfC3tNeP6o2sbCr3Jsa6ATvEYR6) [tutorials](https://www.youtube.com/watch?v=YDW-XxrSbns), which also contains `hepstats` tutorials; more on the latter can be found [here](https://github.com/scikit-hep/hepstats/tree/master/notebooks).\n",
    "\n",
    "Before we continue, it is highly recommended to follow the [zfit introduction tutorial](https://zfit-tutorials.readthedocs.io/en/latest/tutorials/introduction/README.html)"
   ]
  },
  {
   "cell_type": "code",
   "execution_count": 1,
   "metadata": {
    "execution": {
     "iopub.execute_input": "2024-04-04T17:23:54.519577Z",
     "iopub.status.busy": "2024-04-04T17:23:54.519380Z",
     "iopub.status.idle": "2024-04-04T17:23:55.272027Z",
     "shell.execute_reply": "2024-04-04T17:23:55.271418Z"
    }
   },
   "outputs": [],
   "source": [
    "%store -r bkg_df\n",
    "%store -r mc_df\n",
    "%store -r data_df"
   ]
  },
  {
   "cell_type": "code",
   "execution_count": 2,
   "metadata": {
    "execution": {
     "iopub.execute_input": "2024-04-04T17:23:55.274533Z",
     "iopub.status.busy": "2024-04-04T17:23:55.274246Z",
     "iopub.status.idle": "2024-04-04T17:23:58.616564Z",
     "shell.execute_reply": "2024-04-04T17:23:58.615955Z"
    }
   },
   "outputs": [
    {
     "name": "stderr",
     "output_type": "stream",
     "text": [
      "/usr/share/miniconda/envs/analysis-essentials/lib/python3.11/site-packages/zfit/__init__.py:63: UserWarning: TensorFlow warnings are by default suppressed by zfit. In order to show them, set the environment variable ZFIT_DISABLE_TF_WARNINGS=0. In order to suppress the TensorFlow warnings AND this warning, set ZFIT_DISABLE_TF_WARNINGS=1.\n",
      "  warnings.warn(\n"
     ]
    }
   ],
   "source": [
    "import hepstats\n",
    "import matplotlib.pyplot as plt\n",
    "import mplhep\n",
    "import numpy as np\n",
    "import zfit"
   ]
  },
  {
   "cell_type": "code",
   "execution_count": 3,
   "metadata": {
    "execution": {
     "iopub.execute_input": "2024-04-04T17:23:58.619335Z",
     "iopub.status.busy": "2024-04-04T17:23:58.618732Z",
     "iopub.status.idle": "2024-04-04T17:23:58.667541Z",
     "shell.execute_reply": "2024-04-04T17:23:58.667007Z"
    }
   },
   "outputs": [],
   "source": [
    "# apply cuts\n",
    "query = 'BDT > 0.4'\n",
    "data_df.query(query, inplace=True)\n",
    "mc_df.query(query, inplace=True)\n",
    "\n",
    "# reduce the datasize for this example to make the fit more interesting\n",
    "fraction = 0.1  # how much to take of the original data\n",
    "data_df = data_df.sample(frac=0.1)"
   ]
  },
  {
   "cell_type": "markdown",
   "metadata": {},
   "source": [
    "**Exercise**: write a fit to the data using `zfit`"
   ]
  },
  {
   "cell_type": "code",
   "execution_count": 4,
   "metadata": {
    "execution": {
     "iopub.execute_input": "2024-04-04T17:23:58.670070Z",
     "iopub.status.busy": "2024-04-04T17:23:58.669672Z",
     "iopub.status.idle": "2024-04-04T17:23:58.689029Z",
     "shell.execute_reply": "2024-04-04T17:23:58.688569Z"
    }
   },
   "outputs": [],
   "source": [
    "obs = zfit.Space('Jpsi_M', limits=(2.8, 3.5))  # defining the observable"
   ]
  },
  {
   "cell_type": "code",
   "execution_count": 5,
   "metadata": {
    "execution": {
     "iopub.execute_input": "2024-04-04T17:23:58.690944Z",
     "iopub.status.busy": "2024-04-04T17:23:58.690756Z",
     "iopub.status.idle": "2024-04-04T17:23:58.693109Z",
     "shell.execute_reply": "2024-04-04T17:23:58.692716Z"
    }
   },
   "outputs": [],
   "source": [
    "# bkg = zfit.Data.from_pandas(bkg_df['Jpsi_M'], obs=obs)\n",
    "# OR\n",
    "# obs_bkg = zfit.Space('Jpsi_M', limits=(2.8, 3.0)) + zfit.Space('Jpsi_M', limits=(3.2, 3.5))\n",
    "# bkg_two = zfit.Data.from_pandas(data_df['Jpsi_M'], obs=obs_bkg)"
   ]
  },
  {
   "cell_type": "code",
   "execution_count": 6,
   "metadata": {
    "execution": {
     "iopub.execute_input": "2024-04-04T17:23:58.694866Z",
     "iopub.status.busy": "2024-04-04T17:23:58.694697Z",
     "iopub.status.idle": "2024-04-04T17:23:58.763917Z",
     "shell.execute_reply": "2024-04-04T17:23:58.763457Z"
    }
   },
   "outputs": [],
   "source": [
    "mc = zfit.Data.from_pandas(mc_df['Jpsi_M'], obs=obs)\n",
    "data = zfit.Data.from_pandas(data_df['Jpsi_M'], obs=obs)"
   ]
  },
  {
   "cell_type": "markdown",
   "metadata": {},
   "source": [
    "## Difference of the two spaces\n",
    "\n",
    "While the first space is defined over the whole space from 2.8 to 3.5, the second consists of two distinct regions. Therefore we can use the original space and zfit applies the cut, the same as we did before to the `bkg_df`.\n",
    "\n",
    "The difference comes when using the normalization in the PDF: we can either normalize it over the whole range or only over part of it."
   ]
  },
  {
   "cell_type": "code",
   "execution_count": 7,
   "metadata": {
    "execution": {
     "iopub.execute_input": "2024-04-04T17:23:58.766302Z",
     "iopub.status.busy": "2024-04-04T17:23:58.765959Z",
     "iopub.status.idle": "2024-04-04T17:23:58.794754Z",
     "shell.execute_reply": "2024-04-04T17:23:58.794303Z"
    }
   },
   "outputs": [],
   "source": [
    "lambd = zfit.Parameter('lambda', -0.1, -2, 2)\n",
    "bkg_yield = zfit.Parameter('bkg_yield', 5000, 0, 200000, step_size=1)\n",
    "\n",
    "mu = zfit.Parameter('mu', 3.1, 2.9, 3.3)\n",
    "sigma = zfit.Parameter('sigma', 0.1, 0, 0.5)\n",
    "sig_yield = zfit.Parameter('sig_yield', 200, 0, 10000, step_size=1)"
   ]
  },
  {
   "cell_type": "code",
   "execution_count": 8,
   "metadata": {
    "execution": {
     "iopub.execute_input": "2024-04-04T17:23:58.797149Z",
     "iopub.status.busy": "2024-04-04T17:23:58.796762Z",
     "iopub.status.idle": "2024-04-04T17:23:58.799943Z",
     "shell.execute_reply": "2024-04-04T17:23:58.799555Z"
    }
   },
   "outputs": [],
   "source": [
    "bkg_pdf = zfit.pdf.Exponential(lambd, obs=obs)\n",
    "bkg_pdf.set_yield(bkg_yield)"
   ]
  },
  {
   "cell_type": "code",
   "execution_count": 9,
   "metadata": {
    "execution": {
     "iopub.execute_input": "2024-04-04T17:23:58.801890Z",
     "iopub.status.busy": "2024-04-04T17:23:58.801577Z",
     "iopub.status.idle": "2024-04-04T17:23:58.804459Z",
     "shell.execute_reply": "2024-04-04T17:23:58.803985Z"
    }
   },
   "outputs": [],
   "source": [
    "sig_pdf = zfit.pdf.Gauss(obs=obs, mu=mu, sigma=sigma)\n",
    "sig_pdf.set_yield(sig_yield)"
   ]
  },
  {
   "cell_type": "code",
   "execution_count": 10,
   "metadata": {
    "execution": {
     "iopub.execute_input": "2024-04-04T17:23:58.806159Z",
     "iopub.status.busy": "2024-04-04T17:23:58.805993Z",
     "iopub.status.idle": "2024-04-04T17:23:58.811434Z",
     "shell.execute_reply": "2024-04-04T17:23:58.811041Z"
    }
   },
   "outputs": [],
   "source": [
    "model = zfit.pdf.SumPDF([bkg_pdf, sig_pdf])"
   ]
  },
  {
   "cell_type": "markdown",
   "metadata": {},
   "source": [
    "## Plotting\n",
    "\n",
    "Plots can simply be made with `matplotlib` and `mplhep`."
   ]
  },
  {
   "cell_type": "code",
   "execution_count": 11,
   "metadata": {
    "execution": {
     "iopub.execute_input": "2024-04-04T17:23:58.813317Z",
     "iopub.status.busy": "2024-04-04T17:23:58.813016Z",
     "iopub.status.idle": "2024-04-04T17:23:58.817741Z",
     "shell.execute_reply": "2024-04-04T17:23:58.817249Z"
    }
   },
   "outputs": [],
   "source": [
    "def plot_fit(model, data, nbins=30, ax=None):\n",
    "    # The function will be reused.\n",
    "    if ax is None:\n",
    "        ax = plt.gca()\n",
    "\n",
    "    lower, upper = data.space.limit1d\n",
    "\n",
    "    # Creates and histogram of the data and plots it with mplhep.\n",
    "    counts, bin_edges = np.histogram(data.unstack_x(), bins=nbins)\n",
    "    mplhep.histplot(counts, bins=bin_edges, histtype=\"errorbar\", yerr=True,\n",
    "                    label=\"Data\", ax=ax, color=\"black\")\n",
    "\n",
    "    binwidth = np.diff(bin_edges)[0]\n",
    "    x = np.linspace(lower, upper, num=1000)  # or tf.linspace\n",
    "\n",
    "    # Line plots of the total pdf and the sub-pdfs.\n",
    "    y = model.ext_pdf(x) * binwidth\n",
    "    ax.plot(x, y, label=\"total\", color=\"royalblue\")\n",
    "    for m, l, c in zip(model.get_models(), [\"background\", \"signal\"], [\"forestgreen\", \"crimson\"]):\n",
    "        ym = m.ext_pdf(x) * binwidth\n",
    "        ax.plot(x, ym, label=l, color=c)\n",
    "\n",
    "    plt.xlabel('$J/\\\\psi$ mass [GeV]')\n",
    "    ax.set_title(data.data_range.obs[0])\n",
    "    ax.set_xlim(lower, upper)\n",
    "    ax.legend(fontsize=15)\n",
    "\n",
    "    return ax"
   ]
  },
  {
   "cell_type": "code",
   "execution_count": 12,
   "metadata": {
    "execution": {
     "iopub.execute_input": "2024-04-04T17:23:58.819529Z",
     "iopub.status.busy": "2024-04-04T17:23:58.819280Z",
     "iopub.status.idle": "2024-04-04T17:23:59.103870Z",
     "shell.execute_reply": "2024-04-04T17:23:59.103299Z"
    }
   },
   "outputs": [
    {
     "data": {
      "text/plain": [
       "<Axes: title={'center': 'Jpsi_M'}, xlabel='$J/\\\\psi$ mass [GeV]'>"
      ]
     },
     "execution_count": 12,
     "metadata": {},
     "output_type": "execute_result"
    },
    {
     "data": {
      "image/png": "[encoded data removed]",
      "text/plain": [
       "<Figure size 640x480 with 1 Axes>"
      ]
     },
     "metadata": {},
     "output_type": "display_data"
    }
   ],
   "source": [
    "plot_fit(model, data)  # before the fit"
   ]
  },
  {
   "cell_type": "markdown",
   "metadata": {},
   "source": [
    "## Loss\n",
    "\n",
    "Since we have now the models and the datasets, we can e.g. pre-fit the signal PDF to the simulation."
   ]
  },
  {
   "cell_type": "code",
   "execution_count": 13,
   "metadata": {
    "execution": {
     "iopub.execute_input": "2024-04-04T17:23:59.106130Z",
     "iopub.status.busy": "2024-04-04T17:23:59.105706Z",
     "iopub.status.idle": "2024-04-04T17:23:59.118408Z",
     "shell.execute_reply": "2024-04-04T17:23:59.117910Z"
    }
   },
   "outputs": [
    {
     "name": "stderr",
     "output_type": "stream",
     "text": [
      "/usr/share/miniconda/envs/analysis-essentials/lib/python3.11/site-packages/zfit/core/loss.py:955: AdvancedFeatureWarning: Either you're using an advanced feature OR causing unwanted behavior. To turn this warning off, use `zfit.settings.advanced_warnings['extended_in_UnbinnedNLL'] = False`  or 'all' (use with care) with `zfit.settings.advanced_warnings['all'] = False\n",
      "Extended PDFs ([<zfit.<class 'zfit.models.dist_tfp.Gauss'>  params=[mu, sigma]]) are given to a normal UnbinnedNLL.  This won't take the yield into account and simply treat the PDFs as non-extended PDFs. To create an extended NLL, use the `ExtendedUnbinnedNLL`.\n",
      "  warn_advanced_feature(\n"
     ]
    }
   ],
   "source": [
    "sig_nll = zfit.loss.UnbinnedNLL(sig_pdf, mc)"
   ]
  },
  {
   "cell_type": "markdown",
   "metadata": {},
   "source": [
    "It warns us that we are using a non-extended loss. The extended loss also includes to fit the yield while the normal one does not. Since we want to fit the _shape_ here only, we use the non-extended one."
   ]
  },
  {
   "cell_type": "code",
   "execution_count": 14,
   "metadata": {
    "execution": {
     "iopub.execute_input": "2024-04-04T17:23:59.120588Z",
     "iopub.status.busy": "2024-04-04T17:23:59.120201Z",
     "iopub.status.idle": "2024-04-04T17:23:59.122845Z",
     "shell.execute_reply": "2024-04-04T17:23:59.122383Z"
    }
   },
   "outputs": [],
   "source": [
    "minimizer = zfit.minimize.Minuit()\n",
    "# minimizer = zfit.minimize.NLoptLBFGSV1()  # can be changed but maybe not as powerful as iminuit\n",
    "# minimizer = zfit.minimize.ScipySLSQPV1()"
   ]
  },
  {
   "cell_type": "code",
   "execution_count": 15,
   "metadata": {
    "execution": {
     "iopub.execute_input": "2024-04-04T17:23:59.124575Z",
     "iopub.status.busy": "2024-04-04T17:23:59.124409Z",
     "iopub.status.idle": "2024-04-04T17:23:59.637679Z",
     "shell.execute_reply": "2024-04-04T17:23:59.637196Z"
    }
   },
   "outputs": [
    {
     "data": {
      "text/plain": [
       "\u001b[1mFitResult\u001b[22m of\n",
       "<UnbinnedNLL model=[<zfit.<class 'zfit.models.dist_tfp.Gauss'>  params=[mu, sigma]] data=[<zfit.core.data.Data object at 0x7f7e57b12810>] constraints=[]> \n",
       "with\n",
       "<Minuit Minuit tol=0.001>\n",
       "\n",
       "╒═════════╤═════════════╤══════════════════╤═════════╤══════════════════════════════════╕\n",
       "│  valid  │  converged  │  param at limit  │   edm   │   approx. fmin (full | internal) │\n",
       "╞═════════╪═════════════╪══════════════════╪═════════╪══════════════════════════════════╡\n",
       "│  \u001b[48;5;10mTrue\u001b[0m   │    True\u001b[0m     │      False\u001b[0m       │ 5.2e-06 │             -275181.55 | -129185 │\n",
       "╘═════════╧═════════════╧══════════════════╧═════════╧══════════════════════════════════╛\n",
       "\n",
       "\u001b[1mParameters\n",
       "\u001b[22mname      value  (rounded)    at limit\n",
       "------  ------------------  ----------\n",
       "mu                 3.09692       False\u001b[0m\n",
       "sigma            0.0150308       False\u001b[0m"
      ]
     },
     "execution_count": 15,
     "metadata": {},
     "output_type": "execute_result"
    }
   ],
   "source": [
    "minimizer.minimize(sig_nll)"
   ]
  },
  {
   "cell_type": "markdown",
   "metadata": {},
   "source": [
    "### Fixing parameters\n",
    "\n",
    "Sometimes we want to fix parameters obtained from MC, such as tailes. Here we will fix the `sigma`, just for demonstration purpose."
   ]
  },
  {
   "cell_type": "code",
   "execution_count": 16,
   "metadata": {
    "execution": {
     "iopub.execute_input": "2024-04-04T17:23:59.639569Z",
     "iopub.status.busy": "2024-04-04T17:23:59.639389Z",
     "iopub.status.idle": "2024-04-04T17:23:59.641955Z",
     "shell.execute_reply": "2024-04-04T17:23:59.641478Z"
    }
   },
   "outputs": [],
   "source": [
    "sigma.floating = False"
   ]
  },
  {
   "cell_type": "code",
   "execution_count": 17,
   "metadata": {
    "execution": {
     "iopub.execute_input": "2024-04-04T17:23:59.643838Z",
     "iopub.status.busy": "2024-04-04T17:23:59.643528Z",
     "iopub.status.idle": "2024-04-04T17:23:59.650859Z",
     "shell.execute_reply": "2024-04-04T17:23:59.650472Z"
    }
   },
   "outputs": [],
   "source": [
    "nll = zfit.loss.ExtendedUnbinnedNLL(model, data)"
   ]
  },
  {
   "cell_type": "code",
   "execution_count": 18,
   "metadata": {
    "execution": {
     "iopub.execute_input": "2024-04-04T17:23:59.652553Z",
     "iopub.status.busy": "2024-04-04T17:23:59.652406Z",
     "iopub.status.idle": "2024-04-04T17:24:00.142260Z",
     "shell.execute_reply": "2024-04-04T17:24:00.141822Z"
    }
   },
   "outputs": [],
   "source": [
    "result = minimizer.minimize(nll)"
   ]
  },
  {
   "cell_type": "code",
   "execution_count": 19,
   "metadata": {
    "execution": {
     "iopub.execute_input": "2024-04-04T17:24:00.144357Z",
     "iopub.status.busy": "2024-04-04T17:24:00.144181Z",
     "iopub.status.idle": "2024-04-04T17:24:00.153947Z",
     "shell.execute_reply": "2024-04-04T17:24:00.153515Z"
    }
   },
   "outputs": [
    {
     "data": {
      "text/plain": [
       "\u001b[1mFitResult\u001b[22m of\n",
       "<ExtendedUnbinnedNLL model=[<zfit.<class 'zfit.models.functor.SumPDF'>  params=[Composed_autoparam_1, Composed_autoparam_2]] data=[<zfit.core.data.Data object at 0x7f7e8c7d04d0>] constraints=[]> \n",
       "with\n",
       "<Minuit Minuit tol=0.001>\n",
       "\n",
       "╒═════════╤═════════════╤══════════════════╤═════════╤══════════════════════════════════╕\n",
       "│  valid  │  converged  │  param at limit  │   edm   │   approx. fmin (full | internal) │\n",
       "╞═════════╪═════════════╪══════════════════╪═════════╪══════════════════════════════════╡\n",
       "│  \u001b[48;5;10mTrue\u001b[0m   │    True\u001b[0m     │      False\u001b[0m       │ 1.7e-05 │            -49723.55 |  9828.313 │\n",
       "╘═════════╧═════════════╧══════════════════╧═════════╧══════════════════════════════════╛\n",
       "\n",
       "\u001b[1mParameters\n",
       "\u001b[22mname         value  (rounded)    at limit\n",
       "---------  ------------------  ----------\n",
       "bkg_yield             6014.71       False\u001b[0m\n",
       "sig_yield             123.234       False\u001b[0m\n",
       "lambda              -0.985693       False\u001b[0m\n",
       "mu                    3.09807       False\u001b[0m"
      ]
     },
     "execution_count": 19,
     "metadata": {},
     "output_type": "execute_result"
    }
   ],
   "source": [
    "result"
   ]
  },
  {
   "cell_type": "code",
   "execution_count": 20,
   "metadata": {
    "execution": {
     "iopub.execute_input": "2024-04-04T17:24:00.155742Z",
     "iopub.status.busy": "2024-04-04T17:24:00.155578Z",
     "iopub.status.idle": "2024-04-04T17:24:00.655624Z",
     "shell.execute_reply": "2024-04-04T17:24:00.655057Z"
    }
   },
   "outputs": [
    {
     "name": "stderr",
     "output_type": "stream",
     "text": [
      "/usr/share/miniconda/envs/analysis-essentials/lib/python3.11/site-packages/zfit/minimizers/fitresult.py:1204: ChangedFeatureWarning: The behavior of this functionality recently changed.To turn this warning off, use `zfit.settings.changed_warnings.hesse_name = False`  or 'all' with `zfit.settings.changed_warnings.all = False\n",
      "Default name of hesse (which is currently the method name such as `minuit_hesse`or `hesse_np`) has changed to `hesse` (it still adds the old one as well. This will be removed in the future). INSTRUCTIONS: to stay compatible,  change wherever you access the error to 'hesse' (if you don't explicitly specify the name in hesse(...).\n",
      "  warn_changed_feature(message, \"hesse_name\")\n"
     ]
    },
    {
     "name": "stderr",
     "output_type": "stream",
     "text": [
      "/usr/share/miniconda/envs/analysis-essentials/lib/python3.11/site-packages/zfit/minimizers/fitresult.py:1342: FutureWarning: 'minuit_minos' will be changed as the default errors method to a custom implementationwith the same functionality. If you want to make sure that 'minuit_minos' will be used in the future, add it explicitly as in `errors(method='minuit_minos')`\n",
      "  warnings.warn(\n"
     ]
    },
    {
     "name": "stderr",
     "output_type": "stream",
     "text": [
      "/usr/share/miniconda/envs/analysis-essentials/lib/python3.11/site-packages/zfit/minimizers/fitresult.py:1363: ChangedFeatureWarning: The behavior of this functionality recently changed.To turn this warning off, use `zfit.settings.changed_warnings.errors_name = False`  or 'all' with `zfit.settings.changed_warnings.all = False\n",
      "Default name of errors (which is currently the method name such as `minuit_minos`or `zfit_errors`) has changed to `errors`. Old names are still added as well for compatibility but will be removed in the future. INSTRUCTIONS: to stay compatible, change wherever you access the error to 'errors' or specify the name explicitly in errors(...).\n",
      "  warn_changed_feature(message, \"errors_name\")\n"
     ]
    },
    {
     "name": "stdout",
     "output_type": "stream",
     "text": [
      "FitResult"
     ]
    },
    {
     "name": "stdout",
     "output_type": "stream",
     "text": [
      " of\n",
      "<ExtendedUnbinnedNLL model=[<zfit.<class 'zfit.models.functor.SumPDF'>  params=[Composed_autoparam_1, Composed_autoparam_2]] data=[<zfit.core.data.Data object at 0x7f7e8c7d04d0>] constraints=[]> \n",
      "with\n",
      "<Minuit Minuit tol=0.001>\n",
      "\n",
      "╒═════════╤═════════════╤══════════════════╤═════════╤══════════════════════════════════╕\n",
      "│  valid  │  converged  │  param at limit  │   edm   │   approx. fmin (full | internal) │\n",
      "╞═════════╪═════════════╪══════════════════╪═════════╪══════════════════════════════════╡\n",
      "│  "
     ]
    },
    {
     "name": "stdout",
     "output_type": "stream",
     "text": [
      "True"
     ]
    },
    {
     "name": "stdout",
     "output_type": "stream",
     "text": [
      "   │    True"
     ]
    },
    {
     "name": "stdout",
     "output_type": "stream",
     "text": [
      "     │      False"
     ]
    },
    {
     "name": "stdout",
     "output_type": "stream",
     "text": [
      "       │ 1.7e-05 │            -49723.55 |  9828.313 │\n",
      "╘═════════╧═════════════╧══════════════════╧═════════╧══════════════════════════════════╛\n",
      "\n"
     ]
    },
    {
     "name": "stdout",
     "output_type": "stream",
     "text": [
      "Parameters\n"
     ]
    },
    {
     "name": "stdout",
     "output_type": "stream",
     "text": [
      "name         value  (rounded)        hesse               errors         minuit_minos    at limit\n",
      "---------  ------------------  -----------  -------------------  -------------------  ----------\n",
      "bkg_yield             6014.71  +/-      81  -     80   +     82  -     80   +     82       False"
     ]
    },
    {
     "name": "stdout",
     "output_type": "stream",
     "text": [
      "\n",
      "sig_yield             123.234  +/-      26  -     26   +     26  -     26   +     26       False"
     ]
    },
    {
     "name": "stdout",
     "output_type": "stream",
     "text": [
      "\n",
      "lambda              -0.985693  +/-   0.065  -  0.065   +  0.064  -  0.065   +  0.064       False"
     ]
    },
    {
     "name": "stdout",
     "output_type": "stream",
     "text": [
      "\n",
      "mu                    3.09807  +/-  0.0053  - 0.0053   + 0.0054  - 0.0053   + 0.0054       False"
     ]
    },
    {
     "name": "stdout",
     "output_type": "stream",
     "text": [
      "\n"
     ]
    }
   ],
   "source": [
    "result.hesse()  # calculate hessian error\n",
    "result.errors()  # profile, using minos like uncertainty\n",
    "print(result)"
   ]
  },
  {
   "cell_type": "code",
   "execution_count": 21,
   "metadata": {
    "execution": {
     "iopub.execute_input": "2024-04-04T17:24:00.657627Z",
     "iopub.status.busy": "2024-04-04T17:24:00.657467Z",
     "iopub.status.idle": "2024-04-04T17:24:00.853829Z",
     "shell.execute_reply": "2024-04-04T17:24:00.853320Z"
    }
   },
   "outputs": [
    {
     "data": {
      "text/plain": [
       "<Axes: title={'center': 'Jpsi_M'}, xlabel='$J/\\\\psi$ mass [GeV]'>"
      ]
     },
     "execution_count": 21,
     "metadata": {},
     "output_type": "execute_result"
    },
    {
     "data": {
      "image/png": "[encoded data removed]",
      "text/plain": [
       "<Figure size 640x480 with 1 Axes>"
      ]
     },
     "metadata": {},
     "output_type": "display_data"
    }
   ],
   "source": [
    "plot_fit(model, data)"
   ]
  },
  {
   "cell_type": "markdown",
   "metadata": {},
   "source": [
    "**Exercise**: use `hepstats` to check the significance of our signal"
   ]
  },
  {
   "cell_type": "code",
   "execution_count": 22,
   "metadata": {
    "execution": {
     "iopub.execute_input": "2024-04-04T17:24:00.855923Z",
     "iopub.status.busy": "2024-04-04T17:24:00.855593Z",
     "iopub.status.idle": "2024-04-04T17:24:00.932962Z",
     "shell.execute_reply": "2024-04-04T17:24:00.932428Z"
    }
   },
   "outputs": [
    {
     "name": "stderr",
     "output_type": "stream",
     "text": [
      "/usr/share/miniconda/envs/analysis-essentials/lib/python3.11/site-packages/tqdm/auto.py:21: TqdmWarning: IProgress not found. Please update jupyter and ipywidgets. See https://ipywidgets.readthedocs.io/en/stable/user_install.html\n",
      "  from .autonotebook import tqdm as notebook_tqdm\n"
     ]
    }
   ],
   "source": [
    "from hepstats.hypotests.calculators import AsymptoticCalculator\n",
    "from hepstats.hypotests.parameters import POI\n",
    "\n",
    "# the null hypothesis\n",
    "sig_yield_poi = POI(sig_yield, 0)\n",
    "calculator = AsymptoticCalculator(input=result, minimizer=minimizer)"
   ]
  },
  {
   "cell_type": "markdown",
   "metadata": {},
   "source": [
    "There is another calculator in `hepstats` called `FrequentistCalculator` which constructs the test statistic distribution $f(q_{0} |H_{0})$ with pseudo-experiments (toys), but it takes more time.\n",
    "\n",
    "The `Discovery` class is a high-level class that takes as input a calculator and a `POI` instance representing the null hypothesis, it basically asks the calculator to compute the p-value and also computes the signifance as\n",
    "\n",
    "\\begin{equation}\n",
    "Z = \\Phi^{-1}(1 - p_0).\n",
    "\\end{equation}"
   ]
  },
  {
   "cell_type": "code",
   "execution_count": 23,
   "metadata": {
    "execution": {
     "iopub.execute_input": "2024-04-04T17:24:00.935292Z",
     "iopub.status.busy": "2024-04-04T17:24:00.934924Z",
     "iopub.status.idle": "2024-04-04T17:24:01.278780Z",
     "shell.execute_reply": "2024-04-04T17:24:01.278368Z"
    }
   },
   "outputs": [
    {
     "name": "stdout",
     "output_type": "stream",
     "text": [
      "\n",
      "p_value for the Null hypothesis = 1.3264286058412011e-07"
     ]
    },
    {
     "name": "stdout",
     "output_type": "stream",
     "text": [
      "\n"
     ]
    },
    {
     "name": "stdout",
     "output_type": "stream",
     "text": [
      "Significance (in units of sigma) = 5.146574792473764"
     ]
    },
    {
     "name": "stdout",
     "output_type": "stream",
     "text": [
      "\n"
     ]
    },
    {
     "data": {
      "text/plain": [
       "(1.3264286058412011e-07, 5.146574792473764)"
      ]
     },
     "execution_count": 23,
     "metadata": {},
     "output_type": "execute_result"
    }
   ],
   "source": [
    "from hepstats.hypotests import Discovery\n",
    "\n",
    "discovery = Discovery(calculator=calculator, poinull=sig_yield_poi)\n",
    "discovery.result()"
   ]
  },
  {
   "cell_type": "markdown",
   "metadata": {},
   "source": [
    "**Exercise** play around! First things first: repeat the fit. The difference we will see is statistical fluctuation from the resampling of the data; we take only a fraction at random.\n",
    "\n",
    "Change the fraction of data that we have, the BDT cut, the signal model...\n",
    "\n",
    "Attention: it is easy to have a significance of `inf` here"
   ]
  }
 ],
 "metadata": {
  "kernelspec": {
   "display_name": "Python 3 (ipykernel)",
   "language": "python",
   "name": "python3"
  },
  "language_info": {
   "codemirror_mode": {
    "name": "ipython",
    "version": 3
   },
   "file_extension": ".py",
   "mimetype": "text/x-python",
   "name": "python",
   "nbconvert_exporter": "python",
   "pygments_lexer": "ipython3",
   "version": "3.11.8"
  }
 },
 "nbformat": 4,
 "nbformat_minor": 4
}
