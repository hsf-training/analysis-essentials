{
 "cells": [
  {
   "cell_type": "markdown",
   "metadata": {},
   "source": [
    "# Advanced Classes\n",
    "\n",
    "This tutorial focuses on the invocation of dunder methods and demystifies the operators in Python.\n",
    "\n",
    "## Dunder\n",
    "\n",
    "Dunder (**D**ouble **under**score) methods `__meth__` are names which are reserved for Python only and should not be invented by us (implemented; yes). Just to be precise, `__meth` is fine.\n",
    "\n",
    "These methods are used to delegate the actual operator call. When we invoke any operator (`+`, `==`, but also `()` and so on), the object that this is applied on is checked for a corresponding method. For the `+`, the object (on the left) is checked for a `__add__` method. If this is not found or return a `NotImplemented` either alternatives are tried or an error is raised if all possibilities are tried.\n",
    "\n",
    "Alternatives involve in this case to call the `__radd__` (**r**ight **add**) on the _object on the right_ **IF** the objects are of different types."
   ]
  },
  {
   "cell_type": "code",
   "execution_count": 1,
   "metadata": {
    "ExecuteTime": {
     "end_time": "2023-11-09T18:22:02.090086512Z",
     "start_time": "2023-11-09T18:22:01.447375824Z"
    },
    "execution": {
     "iopub.execute_input": "2023-11-28T11:03:56.083276Z",
     "iopub.status.busy": "2023-11-28T11:03:56.083118Z",
     "iopub.status.idle": "2023-11-28T11:03:56.088967Z",
     "shell.execute_reply": "2023-11-28T11:03:56.088475Z"
    }
   },
   "outputs": [],
   "source": [
    "class NamedValue:\n",
    "    def __init__(self, name):\n",
    "        self.name = name\n",
    "\n",
    "\n",
    "class ValueLeft(NamedValue):    \n",
    "    def __add__(self, other):\n",
    "        print(f\"add called on {self.name}\")\n",
    "        return 42\n",
    "    \n",
    "\n",
    "class ValueRight(NamedValue):\n",
    "    def __radd__(self, other):\n",
    "        print(\"radd called on {self.name}\")\n",
    "        return 24\n",
    "    \n",
    "\n",
    "class Value(ValueRight, ValueLeft):\n",
    "    pass"
   ]
  },
  {
   "cell_type": "markdown",
   "metadata": {},
   "source": [
    "**Exercise**: which one can we add and which raise an error? Think or try it out!"
   ]
  },
  {
   "cell_type": "code",
   "execution_count": 2,
   "metadata": {
    "ExecuteTime": {
     "end_time": "2023-11-09T18:22:02.096491782Z",
     "start_time": "2023-11-09T18:22:01.447622989Z"
    },
    "execution": {
     "iopub.execute_input": "2023-11-28T11:03:56.090882Z",
     "iopub.status.busy": "2023-11-28T11:03:56.090560Z",
     "iopub.status.idle": "2023-11-28T11:03:56.093047Z",
     "shell.execute_reply": "2023-11-28T11:03:56.092632Z"
    }
   },
   "outputs": [],
   "source": [
    "valleft = ValueLeft('val left')\n",
    "valleft2 = ValueLeft('val left2')"
   ]
  },
  {
   "cell_type": "code",
   "execution_count": 3,
   "metadata": {
    "ExecuteTime": {
     "end_time": "2023-11-09T18:22:02.097446715Z",
     "start_time": "2023-11-09T18:22:01.447833842Z"
    },
    "execution": {
     "iopub.execute_input": "2023-11-28T11:03:56.094679Z",
     "iopub.status.busy": "2023-11-28T11:03:56.094500Z",
     "iopub.status.idle": "2023-11-28T11:03:56.099919Z",
     "shell.execute_reply": "2023-11-28T11:03:56.099446Z"
    }
   },
   "outputs": [
    {
     "name": "stdout",
     "output_type": "stream",
     "text": [
      "add called on val left\n"
     ]
    },
    {
     "data": {
      "text/plain": [
       "42"
      ]
     },
     "execution_count": 3,
     "metadata": {},
     "output_type": "execute_result"
    }
   ],
   "source": [
    "valleft + valleft2"
   ]
  },
  {
   "cell_type": "markdown",
   "metadata": {},
   "source": [
    "## len\n",
    "\n",
    "The `len` method simply checks if there is a `__len__` implemented."
   ]
  },
  {
   "cell_type": "markdown",
   "metadata": {},
   "source": [
    "## str\n",
    "\n",
    "To have a nice, representable, human readable string, `__str__` should be implemented. There is a similar one, which is `__repr__`. This is also a string representation of the object, yet more targeted towards the developers.\n",
    "\n",
    "If no `__str__` is provided, it falls back to `__repr__`, which, if not provided, uses a default implementation."
   ]
  },
  {
   "cell_type": "code",
   "execution_count": 4,
   "metadata": {
    "ExecuteTime": {
     "end_time": "2023-11-09T18:22:02.097894774Z",
     "start_time": "2023-11-09T18:22:01.448096154Z"
    },
    "execution": {
     "iopub.execute_input": "2023-11-28T11:03:56.101904Z",
     "iopub.status.busy": "2023-11-28T11:03:56.101492Z",
     "iopub.status.idle": "2023-11-28T11:03:56.104601Z",
     "shell.execute_reply": "2023-11-28T11:03:56.104228Z"
    }
   },
   "outputs": [],
   "source": [
    "class Name:\n",
    "    def __init__(self, name):\n",
    "        self.name = name\n",
    "        \n",
    "\n",
    "class NameRepr(Name):\n",
    "    def __repr__(self):\n",
    "        return self.name\n",
    "\n",
    "\n",
    "class NameStr(Name):\n",
    "    def __str__(self):\n",
    "        return f'I am {self.name}'\n",
    "    \n",
    "\n",
    "class NameStrRepr(NameStr, NameRepr):\n",
    "    pass"
   ]
  },
  {
   "cell_type": "markdown",
   "metadata": {},
   "source": [
    "**Exercise**: try it out by using `str(...)` and `repr(...)`"
   ]
  },
  {
   "cell_type": "markdown",
   "metadata": {},
   "source": [
    "## Callable\n",
    "\n",
    "In Python, a callable is any object that can be called. Calling an object means to have `(...)` attached behind it. This operator looks for a `__call__` method."
   ]
  },
  {
   "cell_type": "code",
   "execution_count": 5,
   "metadata": {
    "ExecuteTime": {
     "end_time": "2023-11-09T18:22:02.098105946Z",
     "start_time": "2023-11-09T18:22:01.491308102Z"
    },
    "execution": {
     "iopub.execute_input": "2023-11-28T11:03:56.106264Z",
     "iopub.status.busy": "2023-11-28T11:03:56.106111Z",
     "iopub.status.idle": "2023-11-28T11:03:56.108667Z",
     "shell.execute_reply": "2023-11-28T11:03:56.108290Z"
    }
   },
   "outputs": [],
   "source": [
    "class Callable:\n",
    "    def __call__(self, *args, **kwargs):\n",
    "        print(f\"called with args {args} and kwargs {kwargs}\")\n",
    "        \n",
    "\n",
    "class NotCallable:\n",
    "    pass"
   ]
  },
  {
   "cell_type": "code",
   "execution_count": 6,
   "metadata": {
    "ExecuteTime": {
     "end_time": "2023-11-09T18:22:02.098275992Z",
     "start_time": "2023-11-09T18:22:01.491619526Z"
    },
    "execution": {
     "iopub.execute_input": "2023-11-28T11:03:56.110554Z",
     "iopub.status.busy": "2023-11-28T11:03:56.110239Z",
     "iopub.status.idle": "2023-11-28T11:03:56.112660Z",
     "shell.execute_reply": "2023-11-28T11:03:56.112247Z"
    }
   },
   "outputs": [],
   "source": [
    "call = Callable()\n",
    "noncall = NotCallable()"
   ]
  },
  {
   "cell_type": "code",
   "execution_count": 7,
   "metadata": {
    "ExecuteTime": {
     "end_time": "2023-11-09T18:22:02.098786414Z",
     "start_time": "2023-11-09T18:22:01.491851791Z"
    },
    "execution": {
     "iopub.execute_input": "2023-11-28T11:03:56.114250Z",
     "iopub.status.busy": "2023-11-28T11:03:56.114100Z",
     "iopub.status.idle": "2023-11-28T11:03:56.116834Z",
     "shell.execute_reply": "2023-11-28T11:03:56.116426Z"
    }
   },
   "outputs": [
    {
     "name": "stdout",
     "output_type": "stream",
     "text": [
      "called with args () and kwargs {}\n"
     ]
    }
   ],
   "source": [
    "call()"
   ]
  },
  {
   "cell_type": "code",
   "execution_count": 8,
   "metadata": {
    "ExecuteTime": {
     "end_time": "2023-11-09T18:22:02.099302008Z",
     "start_time": "2023-11-09T18:22:01.492017010Z"
    },
    "execution": {
     "iopub.execute_input": "2023-11-28T11:03:56.118392Z",
     "iopub.status.busy": "2023-11-28T11:03:56.118236Z",
     "iopub.status.idle": "2023-11-28T11:03:56.120799Z",
     "shell.execute_reply": "2023-11-28T11:03:56.120330Z"
    }
   },
   "outputs": [
    {
     "name": "stdout",
     "output_type": "stream",
     "text": [
      "'NotCallable' object is not callable\n"
     ]
    }
   ],
   "source": [
    "try:\n",
    "    noncall()\n",
    "except TypeError as error:\n",
    "    print(error)"
   ]
  },
  {
   "cell_type": "markdown",
   "metadata": {},
   "source": [
    "`TypeError: 'NotCallable' object is not callable` translates to `has no __call__ method`"
   ]
  },
  {
   "cell_type": "markdown",
   "metadata": {},
   "source": [
    "## Indexing (iterating)\n",
    "\n",
    "There are a few methods when it comes down to iteration. However, we won't go into these details but rather look at the normal indexing. That is controlled via `__getitem__` and `__setitem__` and invoked with the `[]` operator."
   ]
  },
  {
   "cell_type": "code",
   "execution_count": 9,
   "metadata": {
    "ExecuteTime": {
     "end_time": "2023-11-09T18:22:02.099478261Z",
     "start_time": "2023-11-09T18:22:01.498433654Z"
    },
    "execution": {
     "iopub.execute_input": "2023-11-28T11:03:56.122492Z",
     "iopub.status.busy": "2023-11-28T11:03:56.122337Z",
     "iopub.status.idle": "2023-11-28T11:03:56.125582Z",
     "shell.execute_reply": "2023-11-28T11:03:56.125167Z"
    }
   },
   "outputs": [],
   "source": [
    "class Storage:\n",
    "    def __init__(self, name):\n",
    "        self.name = name\n",
    "        self.container = [1, 5, 4]  # just for demonstration\n",
    "        \n",
    "    def __getitem__(self, index):\n",
    "        print(f\"getitem of {self.name} invoked with index {index}\")\n",
    "        return self.container[index]\n",
    "    \n",
    "    def __setitem__(self, index, item):\n",
    "        print(f\"setitem of {self.name} invoked with index {index} and item {item}\")\n",
    "        self.container[index] = item"
   ]
  },
  {
   "cell_type": "code",
   "execution_count": 10,
   "metadata": {
    "ExecuteTime": {
     "end_time": "2023-11-09T18:22:02.099727280Z",
     "start_time": "2023-11-09T18:22:01.503944286Z"
    },
    "execution": {
     "iopub.execute_input": "2023-11-28T11:03:56.127419Z",
     "iopub.status.busy": "2023-11-28T11:03:56.126996Z",
     "iopub.status.idle": "2023-11-28T11:03:56.129539Z",
     "shell.execute_reply": "2023-11-28T11:03:56.129052Z"
    }
   },
   "outputs": [],
   "source": [
    "storage = Storage('one')"
   ]
  },
  {
   "cell_type": "code",
   "execution_count": 11,
   "metadata": {
    "ExecuteTime": {
     "end_time": "2023-11-09T18:22:02.100369605Z",
     "start_time": "2023-11-09T18:22:01.513503176Z"
    },
    "execution": {
     "iopub.execute_input": "2023-11-28T11:03:56.131501Z",
     "iopub.status.busy": "2023-11-28T11:03:56.131182Z",
     "iopub.status.idle": "2023-11-28T11:03:56.134814Z",
     "shell.execute_reply": "2023-11-28T11:03:56.134341Z"
    }
   },
   "outputs": [
    {
     "name": "stdout",
     "output_type": "stream",
     "text": [
      "getitem of one invoked with index 2\n"
     ]
    },
    {
     "data": {
      "text/plain": [
       "4"
      ]
     },
     "execution_count": 11,
     "metadata": {},
     "output_type": "execute_result"
    }
   ],
   "source": [
    "storage[2]"
   ]
  },
  {
   "cell_type": "code",
   "execution_count": 12,
   "metadata": {
    "ExecuteTime": {
     "end_time": "2023-11-09T18:22:02.100965196Z",
     "start_time": "2023-11-09T18:22:01.555278832Z"
    },
    "execution": {
     "iopub.execute_input": "2023-11-28T11:03:56.136643Z",
     "iopub.status.busy": "2023-11-28T11:03:56.136346Z",
     "iopub.status.idle": "2023-11-28T11:03:56.138791Z",
     "shell.execute_reply": "2023-11-28T11:03:56.138294Z"
    }
   },
   "outputs": [
    {
     "name": "stdout",
     "output_type": "stream",
     "text": [
      "setitem of one invoked with index 2 and item 3\n"
     ]
    }
   ],
   "source": [
    "storage[2] = 3"
   ]
  },
  {
   "cell_type": "markdown",
   "metadata": {},
   "source": [
    "## self\n",
    "\n",
    "What is actually self? Nothing else than the object itself. However, we can rename it however we like.\n",
    "\n",
    "*Read the following well*\n",
    "If an instance is create of a class and a method is called on that instance, the _first_ argument to the method is the instance itself.\n",
    "**Fullstop**\n",
    "\n",
    "What are the consequences of this?"
   ]
  },
  {
   "cell_type": "code",
   "execution_count": 13,
   "metadata": {
    "ExecuteTime": {
     "end_time": "2023-11-09T18:22:02.101169939Z",
     "start_time": "2023-11-09T18:22:01.555519700Z"
    },
    "execution": {
     "iopub.execute_input": "2023-11-28T11:03:56.140579Z",
     "iopub.status.busy": "2023-11-28T11:03:56.140282Z",
     "iopub.status.idle": "2023-11-28T11:03:56.143003Z",
     "shell.execute_reply": "2023-11-28T11:03:56.142497Z"
    }
   },
   "outputs": [],
   "source": [
    "class A:\n",
    "    def __init__(self, value):\n",
    "        self.value = value\n",
    "    \n",
    "    def add(self, y):\n",
    "        return self.value + y.value"
   ]
  },
  {
   "cell_type": "code",
   "execution_count": 14,
   "metadata": {
    "ExecuteTime": {
     "end_time": "2023-11-09T18:22:02.101370435Z",
     "start_time": "2023-11-09T18:22:01.555728122Z"
    },
    "execution": {
     "iopub.execute_input": "2023-11-28T11:03:56.144775Z",
     "iopub.status.busy": "2023-11-28T11:03:56.144490Z",
     "iopub.status.idle": "2023-11-28T11:03:56.146819Z",
     "shell.execute_reply": "2023-11-28T11:03:56.146413Z"
    }
   },
   "outputs": [],
   "source": [
    "a = A(4)\n",
    "b = A(38)"
   ]
  },
  {
   "cell_type": "code",
   "execution_count": 15,
   "metadata": {
    "ExecuteTime": {
     "end_time": "2023-11-09T18:22:02.101792662Z",
     "start_time": "2023-11-09T18:22:01.599103966Z"
    },
    "execution": {
     "iopub.execute_input": "2023-11-28T11:03:56.148746Z",
     "iopub.status.busy": "2023-11-28T11:03:56.148302Z",
     "iopub.status.idle": "2023-11-28T11:03:56.151624Z",
     "shell.execute_reply": "2023-11-28T11:03:56.151138Z"
    }
   },
   "outputs": [
    {
     "data": {
      "text/plain": [
       "42"
      ]
     },
     "execution_count": 15,
     "metadata": {},
     "output_type": "execute_result"
    }
   ],
   "source": [
    "a.add(b)"
   ]
  },
  {
   "cell_type": "code",
   "execution_count": 16,
   "metadata": {
    "ExecuteTime": {
     "end_time": "2023-11-09T18:22:02.104487019Z",
     "start_time": "2023-11-09T18:22:01.599306619Z"
    },
    "execution": {
     "iopub.execute_input": "2023-11-28T11:03:56.153400Z",
     "iopub.status.busy": "2023-11-28T11:03:56.153111Z",
     "iopub.status.idle": "2023-11-28T11:03:56.156379Z",
     "shell.execute_reply": "2023-11-28T11:03:56.155889Z"
    }
   },
   "outputs": [
    {
     "data": {
      "text/plain": [
       "42"
      ]
     },
     "execution_count": 16,
     "metadata": {},
     "output_type": "execute_result"
    }
   ],
   "source": [
    "A.add(a, b)"
   ]
  },
  {
   "cell_type": "markdown",
   "metadata": {},
   "source": [
    "The latter works as well! Why not? `add` is a method that we call and we give it two arguments. Forgetting about class dynamics, it makes actually complete sense."
   ]
  },
  {
   "cell_type": "markdown",
   "metadata": {},
   "source": [
    "# Danger zone\n",
    "\n",
    "The following is only for fun and should _not_ be used in real live, except you do _really_ know what you're doing and at least two independent colleagues agree that this is the right way to go"
   ]
  },
  {
   "cell_type": "markdown",
   "metadata": {},
   "source": [
    "We have seen that basically everything is an operator and it has a dunder method. Everything? Quiz: what did we miss?"
   ]
  },
  {
   "cell_type": "markdown",
   "metadata": {},
   "source": [
    "Solution: the `.` the access operator. Yes, you guessed right. Let's override it"
   ]
  },
  {
   "cell_type": "markdown",
   "metadata": {},
   "source": [
    "First, where are actually all the attributes stored in a class?\n",
    "Answer: in the `__dict__` attribute."
   ]
  },
  {
   "cell_type": "code",
   "execution_count": 17,
   "metadata": {
    "ExecuteTime": {
     "end_time": "2023-11-09T18:22:02.104939450Z",
     "start_time": "2023-11-09T18:22:01.599476172Z"
    },
    "execution": {
     "iopub.execute_input": "2023-11-28T11:03:56.158393Z",
     "iopub.status.busy": "2023-11-28T11:03:56.158047Z",
     "iopub.status.idle": "2023-11-28T11:03:56.161375Z",
     "shell.execute_reply": "2023-11-28T11:03:56.160888Z"
    }
   },
   "outputs": [
    {
     "data": {
      "text/plain": [
       "{'value': 4}"
      ]
     },
     "execution_count": 17,
     "metadata": {},
     "output_type": "execute_result"
    }
   ],
   "source": [
    "a.__dict__"
   ]
  },
  {
   "cell_type": "markdown",
   "metadata": {},
   "source": [
    "Next quiz: where are the methods (_remark open_) stored?"
   ]
  },
  {
   "cell_type": "code",
   "execution_count": 18,
   "metadata": {
    "ExecuteTime": {
     "end_time": "2023-11-09T18:22:02.106823366Z",
     "start_time": "2023-11-09T18:22:01.599607114Z"
    },
    "execution": {
     "iopub.execute_input": "2023-11-28T11:03:56.163212Z",
     "iopub.status.busy": "2023-11-28T11:03:56.162927Z",
     "iopub.status.idle": "2023-11-28T11:03:56.166363Z",
     "shell.execute_reply": "2023-11-28T11:03:56.165871Z"
    }
   },
   "outputs": [
    {
     "data": {
      "text/plain": [
       "mappingproxy({'__module__': '__main__',\n",
       "              '__init__': <function __main__.A.__init__(self, value)>,\n",
       "              'add': <function __main__.A.add(self, y)>,\n",
       "              '__dict__': <attribute '__dict__' of 'A' objects>,\n",
       "              '__weakref__': <attribute '__weakref__' of 'A' objects>,\n",
       "              '__doc__': None})"
      ]
     },
     "execution_count": 18,
     "metadata": {},
     "output_type": "execute_result"
    }
   ],
   "source": [
    "a.__class__.__dict__"
   ]
  },
  {
   "cell_type": "code",
   "execution_count": 19,
   "metadata": {
    "ExecuteTime": {
     "end_time": "2023-11-09T18:22:02.107525732Z",
     "start_time": "2023-11-09T18:22:01.643176331Z"
    },
    "execution": {
     "iopub.execute_input": "2023-11-28T11:03:56.168220Z",
     "iopub.status.busy": "2023-11-28T11:03:56.167823Z",
     "iopub.status.idle": "2023-11-28T11:03:56.171076Z",
     "shell.execute_reply": "2023-11-28T11:03:56.170690Z"
    }
   },
   "outputs": [
    {
     "data": {
      "text/plain": [
       "mappingproxy({'__module__': '__main__',\n",
       "              '__init__': <function __main__.A.__init__(self, value)>,\n",
       "              'add': <function __main__.A.add(self, y)>,\n",
       "              '__dict__': <attribute '__dict__' of 'A' objects>,\n",
       "              '__weakref__': <attribute '__weakref__' of 'A' objects>,\n",
       "              '__doc__': None})"
      ]
     },
     "execution_count": 19,
     "metadata": {},
     "output_type": "execute_result"
    }
   ],
   "source": [
    "A.__dict__"
   ]
  },
  {
   "cell_type": "markdown",
   "metadata": {},
   "source": [
    "To be clear, there is nothing special about a value attribute and a method: the value attribute happened to be set on the _instance_ while the method happened to be set on the class. But we can have class attributes as well as (not really occuring in reality though) instance methods."
   ]
  },
  {
   "cell_type": "markdown",
   "metadata": {},
   "source": [
    "**Disclaimer: the following is EXTREMELY BAD CODING practices and should NEVER be seen in ANY real used code**"
   ]
  },
  {
   "cell_type": "code",
   "execution_count": 20,
   "metadata": {
    "ExecuteTime": {
     "end_time": "2023-11-09T18:22:02.107832669Z",
     "start_time": "2023-11-09T18:22:01.643423445Z"
    },
    "execution": {
     "iopub.execute_input": "2023-11-28T11:03:56.172978Z",
     "iopub.status.busy": "2023-11-28T11:03:56.172616Z",
     "iopub.status.idle": "2023-11-28T11:03:56.175874Z",
     "shell.execute_reply": "2023-11-28T11:03:56.175415Z"
    }
   },
   "outputs": [],
   "source": [
    "class GetAndSet:\n",
    "    def __init__(self):\n",
    "        self.values = [1, 2, 3, 4, 5]\n",
    "    \n",
    "    def add(self, y):\n",
    "        return self.values[0] + y.values[1]\n",
    "    \n",
    "    def __getattr__(self, name):\n",
    "        if name in ('add', 'addition'):\n",
    "            return self.add\n",
    "        if name == 'hello':\n",
    "            print('I am 42')\n",
    "            \n",
    "    # we omit the __setattr__, but the game is the same\n",
    "    "
   ]
  },
  {
   "cell_type": "code",
   "execution_count": 21,
   "metadata": {
    "ExecuteTime": {
     "end_time": "2023-11-09T18:22:02.108062078Z",
     "start_time": "2023-11-09T18:22:01.643613141Z"
    },
    "execution": {
     "iopub.execute_input": "2023-11-28T11:03:56.177730Z",
     "iopub.status.busy": "2023-11-28T11:03:56.177373Z",
     "iopub.status.idle": "2023-11-28T11:03:56.179690Z",
     "shell.execute_reply": "2023-11-28T11:03:56.179291Z"
    }
   },
   "outputs": [],
   "source": [
    "get = GetAndSet()"
   ]
  },
  {
   "cell_type": "code",
   "execution_count": 22,
   "metadata": {
    "ExecuteTime": {
     "end_time": "2023-11-09T18:22:02.108503703Z",
     "start_time": "2023-11-09T18:22:01.643815676Z"
    },
    "execution": {
     "iopub.execute_input": "2023-11-28T11:03:56.181454Z",
     "iopub.status.busy": "2023-11-28T11:03:56.181209Z",
     "iopub.status.idle": "2023-11-28T11:03:56.184404Z",
     "shell.execute_reply": "2023-11-28T11:03:56.183941Z"
    }
   },
   "outputs": [
    {
     "data": {
      "text/plain": [
       "3"
      ]
     },
     "execution_count": 22,
     "metadata": {},
     "output_type": "execute_result"
    }
   ],
   "source": [
    "get.add(get)"
   ]
  },
  {
   "cell_type": "code",
   "execution_count": 23,
   "metadata": {
    "ExecuteTime": {
     "end_time": "2023-11-09T18:22:02.108799427Z",
     "start_time": "2023-11-09T18:22:01.644071731Z"
    },
    "execution": {
     "iopub.execute_input": "2023-11-28T11:03:56.186344Z",
     "iopub.status.busy": "2023-11-28T11:03:56.186010Z",
     "iopub.status.idle": "2023-11-28T11:03:56.189318Z",
     "shell.execute_reply": "2023-11-28T11:03:56.188834Z"
    }
   },
   "outputs": [
    {
     "data": {
      "text/plain": [
       "3"
      ]
     },
     "execution_count": 23,
     "metadata": {},
     "output_type": "execute_result"
    }
   ],
   "source": [
    "get.addition(get)"
   ]
  },
  {
   "cell_type": "code",
   "execution_count": 24,
   "metadata": {
    "ExecuteTime": {
     "end_time": "2023-11-09T18:22:02.109426819Z",
     "start_time": "2023-11-09T18:22:01.655190658Z"
    },
    "execution": {
     "iopub.execute_input": "2023-11-28T11:03:56.191127Z",
     "iopub.status.busy": "2023-11-28T11:03:56.190860Z",
     "iopub.status.idle": "2023-11-28T11:03:56.193481Z",
     "shell.execute_reply": "2023-11-28T11:03:56.192988Z"
    }
   },
   "outputs": [
    {
     "name": "stdout",
     "output_type": "stream",
     "text": [
      "I am 42\n"
     ]
    }
   ],
   "source": [
    "get.hello"
   ]
  },
  {
   "cell_type": "markdown",
   "metadata": {},
   "source": [
    "We can also provoke the same behavior by using the function `getattr` (or `setattr` respectively)"
   ]
  },
  {
   "cell_type": "code",
   "execution_count": 25,
   "metadata": {
    "ExecuteTime": {
     "end_time": "2023-11-09T18:22:02.110263772Z",
     "start_time": "2023-11-09T18:22:01.662211437Z"
    },
    "execution": {
     "iopub.execute_input": "2023-11-28T11:03:56.195510Z",
     "iopub.status.busy": "2023-11-28T11:03:56.195140Z",
     "iopub.status.idle": "2023-11-28T11:03:56.197839Z",
     "shell.execute_reply": "2023-11-28T11:03:56.197447Z"
    }
   },
   "outputs": [
    {
     "name": "stdout",
     "output_type": "stream",
     "text": [
      "I am 42\n"
     ]
    }
   ],
   "source": [
    "getattr(get, 'hello')"
   ]
  },
  {
   "cell_type": "code",
   "execution_count": 26,
   "metadata": {
    "ExecuteTime": {
     "end_time": "2023-11-09T18:22:02.110508234Z",
     "start_time": "2023-11-09T18:22:01.679854902Z"
    },
    "execution": {
     "iopub.execute_input": "2023-11-28T11:03:56.199671Z",
     "iopub.status.busy": "2023-11-28T11:03:56.199374Z",
     "iopub.status.idle": "2023-11-28T11:03:56.201599Z",
     "shell.execute_reply": "2023-11-28T11:03:56.201209Z"
    }
   },
   "outputs": [],
   "source": [
    "get.hi"
   ]
  },
  {
   "cell_type": "markdown",
   "metadata": {},
   "source": [
    "Quiz: why the above?"
   ]
  },
  {
   "cell_type": "markdown",
   "metadata": {},
   "source": [
    "Answer: Because the `__getattr__` that we called returns `None` (as any function/method does without an explicit `return`)"
   ]
  },
  {
   "cell_type": "code",
   "execution_count": 27,
   "metadata": {
    "ExecuteTime": {
     "end_time": "2023-11-09T18:22:02.111369769Z",
     "start_time": "2023-11-09T18:22:01.685831397Z"
    },
    "execution": {
     "iopub.execute_input": "2023-11-28T11:03:56.203475Z",
     "iopub.status.busy": "2023-11-28T11:03:56.203167Z",
     "iopub.status.idle": "2023-11-28T11:03:56.206140Z",
     "shell.execute_reply": "2023-11-28T11:03:56.205734Z"
    }
   },
   "outputs": [
    {
     "name": "stdout",
     "output_type": "stream",
     "text": [
      "The Zen of Python, by Tim Peters\n",
      "\n",
      "Beautiful is better than ugly.\n",
      "Explicit is better than implicit.\n",
      "Simple is better than complex.\n",
      "Complex is better than complicated.\n",
      "Flat is better than nested.\n",
      "Sparse is better than dense.\n",
      "Readability counts.\n",
      "Special cases aren't special enough to break the rules.\n",
      "Although practicality beats purity.\n",
      "Errors should never pass silently.\n",
      "Unless explicitly silenced.\n",
      "In the face of ambiguity, refuse the temptation to guess.\n",
      "There should be one-- and preferably only one --obvious way to do it.\n",
      "Although that way may not be obvious at first unless you're Dutch.\n",
      "Now is better than never.\n",
      "Although never is often better than *right* now.\n",
      "If the implementation is hard to explain, it's a bad idea.\n",
      "If the implementation is easy to explain, it may be a good idea.\n",
      "Namespaces are one honking great idea -- let's do more of those!\n"
     ]
    }
   ],
   "source": [
    "import this"
   ]
  },
  {
   "cell_type": "markdown",
   "metadata": {},
   "source": [
    "And then there is the maybe most important sentence of all in Python:\n",
    "\n",
    "**We're all adults here.**\n",
    "\n",
    "Behave like one when coding ;)"
   ]
  }
 ],
 "metadata": {
  "kernelspec": {
   "display_name": "Python 3 (ipykernel)",
   "language": "python",
   "name": "python3"
  },
  "language_info": {
   "codemirror_mode": {
    "name": "ipython",
    "version": 3
   },
   "file_extension": ".py",
   "mimetype": "text/x-python",
   "name": "python",
   "nbconvert_exporter": "python",
   "pygments_lexer": "ipython3",
   "version": "3.11.6"
  }
 },
 "nbformat": 4,
 "nbformat_minor": 4
}
