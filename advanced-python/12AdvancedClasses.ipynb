{
 "cells": [
  {
   "cell_type": "markdown",
   "metadata": {},
   "source": [
    "# Advanced Classes\n",
    "\n",
    "This tutorial focuses on the invocation of dunder methods and demystifies the operators in Python.\n",
    "\n",
    "## Dunder\n",
    "\n",
    "Dunder (**D**ouble **under**score) methods `__meth__` are names which are reserved for Python only and should not be invented by us (implemented; yes). Just to be precise, `__meth` is fine.\n",
    "\n",
    "These methods are used to delegate the actual operator call. When we invoke any operator (`+`, `==`, but also `()` and so on), the object that this is applied on is checked for a corresponding method. For the `+`, the object (on the left) is checked for a `__add__` method. If this is not found or return a `NotImplemented` either alternatives are tried or an error is raised if all possibilities are tried.\n",
    "\n",
    "Alternatives involve in this case to call the `__radd__` (**r**ight **add**) on the _object on the right_ **IF** the objects are of different types."
   ]
  },
  {
   "cell_type": "code",
   "execution_count": 1,
   "metadata": {
    "execution": {
     "iopub.execute_input": "2025-04-04T10:34:52.064057Z",
     "iopub.status.busy": "2025-04-04T10:34:52.063901Z",
     "iopub.status.idle": "2025-04-04T10:34:52.069482Z",
     "shell.execute_reply": "2025-04-04T10:34:52.069105Z"
    }
   },
   "outputs": [],
   "source": [
    "class NamedValue:\n",
    "    def __init__(self, name):\n",
    "        self.name = name\n",
    "\n",
    "\n",
    "class ValueLeft(NamedValue):    \n",
    "    def __add__(self, other):\n",
    "        print(f\"add called on {self.name}\")\n",
    "        return 42\n",
    "    \n",
    "\n",
    "class ValueRight(NamedValue):\n",
    "    def __radd__(self, other):\n",
    "        print(\"radd called on {self.name}\")\n",
    "        return 24\n",
    "    \n",
    "\n",
    "class Value(ValueRight, ValueLeft):\n",
    "    pass"
   ]
  },
  {
   "cell_type": "markdown",
   "metadata": {},
   "source": [
    "**Exercise**: which one can we add and which raise an error? Think or try it out!"
   ]
  },
  {
   "cell_type": "code",
   "execution_count": 2,
   "metadata": {
    "execution": {
     "iopub.execute_input": "2025-04-04T10:34:52.071654Z",
     "iopub.status.busy": "2025-04-04T10:34:52.071114Z",
     "iopub.status.idle": "2025-04-04T10:34:52.073854Z",
     "shell.execute_reply": "2025-04-04T10:34:52.073370Z"
    }
   },
   "outputs": [],
   "source": [
    "valleft = ValueLeft('val left')\n",
    "valleft2 = ValueLeft('val left2')"
   ]
  },
  {
   "cell_type": "code",
   "execution_count": 3,
   "metadata": {
    "execution": {
     "iopub.execute_input": "2025-04-04T10:34:52.075853Z",
     "iopub.status.busy": "2025-04-04T10:34:52.075457Z",
     "iopub.status.idle": "2025-04-04T10:34:52.080499Z",
     "shell.execute_reply": "2025-04-04T10:34:52.080025Z"
    }
   },
   "outputs": [
    {
     "name": "stdout",
     "output_type": "stream",
     "text": [
      "add called on val left\n"
     ]
    },
    {
     "data": {
      "text/plain": [
       "42"
      ]
     },
     "execution_count": 3,
     "metadata": {},
     "output_type": "execute_result"
    }
   ],
   "source": [
    "valleft + valleft2"
   ]
  },
  {
   "cell_type": "markdown",
   "metadata": {},
   "source": [
    "### len\n",
    "\n",
    "The `len` method simply checks if there is a `__len__` implemented."
   ]
  },
  {
   "cell_type": "markdown",
   "metadata": {},
   "source": [
    "### str\n",
    "\n",
    "To have a nice, representable, human readable string, `__str__` should be implemented. There is a similar one, which is `__repr__`. This is also a string representation of the object, yet more targeted towards the developers.\n",
    "\n",
    "If no `__str__` is provided, it falls back to `__repr__`, which, if not provided, uses a default implementation."
   ]
  },
  {
   "cell_type": "code",
   "execution_count": 4,
   "metadata": {
    "execution": {
     "iopub.execute_input": "2025-04-04T10:34:52.082431Z",
     "iopub.status.busy": "2025-04-04T10:34:52.082185Z",
     "iopub.status.idle": "2025-04-04T10:34:52.085416Z",
     "shell.execute_reply": "2025-04-04T10:34:52.084931Z"
    }
   },
   "outputs": [],
   "source": [
    "class Name:\n",
    "    def __init__(self, name):\n",
    "        self.name = name\n",
    "        \n",
    "\n",
    "class NameRepr(Name):\n",
    "    def __repr__(self):\n",
    "        return self.name\n",
    "\n",
    "\n",
    "class NameStr(Name):\n",
    "    def __str__(self):\n",
    "        return f'I am {self.name}'\n",
    "    \n",
    "\n",
    "class NameStrRepr(NameStr, NameRepr):\n",
    "    pass"
   ]
  },
  {
   "cell_type": "markdown",
   "metadata": {},
   "source": [
    "**Exercise**: try it out by using `str(...)` and `repr(...)`"
   ]
  },
  {
   "cell_type": "markdown",
   "metadata": {},
   "source": [
    "### Callable\n",
    "\n",
    "In Python, a callable is any object that can be called. Calling an object means to have `(...)` attached behind it. This operator looks for a `__call__` method."
   ]
  },
  {
   "cell_type": "code",
   "execution_count": 5,
   "metadata": {
    "execution": {
     "iopub.execute_input": "2025-04-04T10:34:52.087207Z",
     "iopub.status.busy": "2025-04-04T10:34:52.086918Z",
     "iopub.status.idle": "2025-04-04T10:34:52.089475Z",
     "shell.execute_reply": "2025-04-04T10:34:52.089078Z"
    }
   },
   "outputs": [],
   "source": [
    "class Callable:\n",
    "    def __call__(self, *args, **kwargs):\n",
    "        print(f\"called with args {args} and kwargs {kwargs}\")\n",
    "        \n",
    "\n",
    "class NotCallable:\n",
    "    pass"
   ]
  },
  {
   "cell_type": "code",
   "execution_count": 6,
   "metadata": {
    "execution": {
     "iopub.execute_input": "2025-04-04T10:34:52.091243Z",
     "iopub.status.busy": "2025-04-04T10:34:52.091084Z",
     "iopub.status.idle": "2025-04-04T10:34:52.093337Z",
     "shell.execute_reply": "2025-04-04T10:34:52.092945Z"
    }
   },
   "outputs": [],
   "source": [
    "call = Callable()\n",
    "noncall = NotCallable()"
   ]
  },
  {
   "cell_type": "code",
   "execution_count": 7,
   "metadata": {
    "execution": {
     "iopub.execute_input": "2025-04-04T10:34:52.094983Z",
     "iopub.status.busy": "2025-04-04T10:34:52.094830Z",
     "iopub.status.idle": "2025-04-04T10:34:52.097601Z",
     "shell.execute_reply": "2025-04-04T10:34:52.097107Z"
    }
   },
   "outputs": [
    {
     "name": "stdout",
     "output_type": "stream",
     "text": [
      "called with args () and kwargs {}\n"
     ]
    }
   ],
   "source": [
    "call()"
   ]
  },
  {
   "cell_type": "code",
   "execution_count": 8,
   "metadata": {
    "execution": {
     "iopub.execute_input": "2025-04-04T10:34:52.100009Z",
     "iopub.status.busy": "2025-04-04T10:34:52.099549Z",
     "iopub.status.idle": "2025-04-04T10:34:52.102198Z",
     "shell.execute_reply": "2025-04-04T10:34:52.101825Z"
    }
   },
   "outputs": [
    {
     "name": "stdout",
     "output_type": "stream",
     "text": [
      "'NotCallable' object is not callable\n"
     ]
    }
   ],
   "source": [
    "try:\n",
    "    noncall()\n",
    "except TypeError as error:\n",
    "    print(error)"
   ]
  },
  {
   "cell_type": "markdown",
   "metadata": {},
   "source": [
    "`TypeError: 'NotCallable' object is not callable` translates to `has no __call__ method`"
   ]
  },
  {
   "cell_type": "markdown",
   "metadata": {},
   "source": [
    "### Indexing (iterating)\n",
    "\n",
    "There are a few methods when it comes down to iteration. However, we won't go into these details but rather look at the normal indexing. That is controlled via `__getitem__` and `__setitem__` and invoked with the `[]` operator."
   ]
  },
  {
   "cell_type": "code",
   "execution_count": 9,
   "metadata": {
    "execution": {
     "iopub.execute_input": "2025-04-04T10:34:52.104034Z",
     "iopub.status.busy": "2025-04-04T10:34:52.103753Z",
     "iopub.status.idle": "2025-04-04T10:34:52.107072Z",
     "shell.execute_reply": "2025-04-04T10:34:52.106598Z"
    }
   },
   "outputs": [],
   "source": [
    "class Storage:\n",
    "    def __init__(self, name):\n",
    "        self.name = name\n",
    "        self.container = [1, 5, 4]  # just for demonstration\n",
    "        \n",
    "    def __getitem__(self, index):\n",
    "        print(f\"getitem of {self.name} invoked with index {index}\")\n",
    "        return self.container[index]\n",
    "    \n",
    "    def __setitem__(self, index, item):\n",
    "        print(f\"setitem of {self.name} invoked with index {index} and item {item}\")\n",
    "        self.container[index] = item"
   ]
  },
  {
   "cell_type": "code",
   "execution_count": 10,
   "metadata": {
    "execution": {
     "iopub.execute_input": "2025-04-04T10:34:52.109164Z",
     "iopub.status.busy": "2025-04-04T10:34:52.108704Z",
     "iopub.status.idle": "2025-04-04T10:34:52.111350Z",
     "shell.execute_reply": "2025-04-04T10:34:52.110875Z"
    }
   },
   "outputs": [],
   "source": [
    "storage = Storage('one')"
   ]
  },
  {
   "cell_type": "code",
   "execution_count": 11,
   "metadata": {
    "execution": {
     "iopub.execute_input": "2025-04-04T10:34:52.113288Z",
     "iopub.status.busy": "2025-04-04T10:34:52.112925Z",
     "iopub.status.idle": "2025-04-04T10:34:52.116453Z",
     "shell.execute_reply": "2025-04-04T10:34:52.115978Z"
    }
   },
   "outputs": [
    {
     "name": "stdout",
     "output_type": "stream",
     "text": [
      "getitem of one invoked with index 2\n"
     ]
    },
    {
     "data": {
      "text/plain": [
       "4"
      ]
     },
     "execution_count": 11,
     "metadata": {},
     "output_type": "execute_result"
    }
   ],
   "source": [
    "storage[2]"
   ]
  },
  {
   "cell_type": "code",
   "execution_count": 12,
   "metadata": {
    "execution": {
     "iopub.execute_input": "2025-04-04T10:34:52.118365Z",
     "iopub.status.busy": "2025-04-04T10:34:52.117988Z",
     "iopub.status.idle": "2025-04-04T10:34:52.120732Z",
     "shell.execute_reply": "2025-04-04T10:34:52.120316Z"
    }
   },
   "outputs": [
    {
     "name": "stdout",
     "output_type": "stream",
     "text": [
      "setitem of one invoked with index 2 and item 3\n"
     ]
    }
   ],
   "source": [
    "storage[2] = 3"
   ]
  },
  {
   "cell_type": "markdown",
   "metadata": {},
   "source": [
    "## self\n",
    "\n",
    "What is actually self? Nothing else than the object itself. However, we can rename it however we like.\n",
    "\n",
    "*Read the following well*\n",
    "If an instance is create of a class and a method is called on that instance, the _first_ argument to the method is the instance itself.\n",
    "**Fullstop**\n",
    "\n",
    "What are the consequences of this?"
   ]
  },
  {
   "cell_type": "code",
   "execution_count": 13,
   "metadata": {
    "execution": {
     "iopub.execute_input": "2025-04-04T10:34:52.122422Z",
     "iopub.status.busy": "2025-04-04T10:34:52.122271Z",
     "iopub.status.idle": "2025-04-04T10:34:52.125013Z",
     "shell.execute_reply": "2025-04-04T10:34:52.124523Z"
    }
   },
   "outputs": [],
   "source": [
    "class A:\n",
    "    def __init__(self, value):\n",
    "        self.value = value\n",
    "    \n",
    "    def add(self, y):\n",
    "        return self.value + y.value"
   ]
  },
  {
   "cell_type": "code",
   "execution_count": 14,
   "metadata": {
    "execution": {
     "iopub.execute_input": "2025-04-04T10:34:52.126631Z",
     "iopub.status.busy": "2025-04-04T10:34:52.126464Z",
     "iopub.status.idle": "2025-04-04T10:34:52.128849Z",
     "shell.execute_reply": "2025-04-04T10:34:52.128436Z"
    }
   },
   "outputs": [],
   "source": [
    "a = A(4)\n",
    "b = A(38)"
   ]
  },
  {
   "cell_type": "code",
   "execution_count": 15,
   "metadata": {
    "execution": {
     "iopub.execute_input": "2025-04-04T10:34:52.130442Z",
     "iopub.status.busy": "2025-04-04T10:34:52.130296Z",
     "iopub.status.idle": "2025-04-04T10:34:52.133514Z",
     "shell.execute_reply": "2025-04-04T10:34:52.133122Z"
    }
   },
   "outputs": [
    {
     "data": {
      "text/plain": [
       "42"
      ]
     },
     "execution_count": 15,
     "metadata": {},
     "output_type": "execute_result"
    }
   ],
   "source": [
    "a.add(b)"
   ]
  },
  {
   "cell_type": "code",
   "execution_count": 16,
   "metadata": {
    "execution": {
     "iopub.execute_input": "2025-04-04T10:34:52.135084Z",
     "iopub.status.busy": "2025-04-04T10:34:52.134933Z",
     "iopub.status.idle": "2025-04-04T10:34:52.138105Z",
     "shell.execute_reply": "2025-04-04T10:34:52.137692Z"
    }
   },
   "outputs": [
    {
     "data": {
      "text/plain": [
       "42"
      ]
     },
     "execution_count": 16,
     "metadata": {},
     "output_type": "execute_result"
    }
   ],
   "source": [
    "A.add(a, b)"
   ]
  },
  {
   "cell_type": "markdown",
   "metadata": {},
   "source": [
    "The latter works as well! Why not? `add` is a method that we call and we give it two arguments. Forgetting about class dynamics, it makes actually complete sense."
   ]
  },
  {
   "cell_type": "markdown",
   "metadata": {},
   "source": [
    "## Danger zone\n",
    "\n",
    "The following is only for fun and should _not_ be used in real live, except you do _really_ know what you're doing and at least two independent colleagues agree that this is the right way to go"
   ]
  },
  {
   "cell_type": "markdown",
   "metadata": {},
   "source": [
    "We have seen that basically everything is an operator and it has a dunder method. Everything? Quiz: what did we miss?"
   ]
  },
  {
   "cell_type": "markdown",
   "metadata": {},
   "source": [
    "Solution: the `.` the access operator. Yes, you guessed right. Let's override it"
   ]
  },
  {
   "cell_type": "markdown",
   "metadata": {},
   "source": [
    "First, where are actually all the attributes stored in a class?\n",
    "Answer: in the `__dict__` attribute."
   ]
  },
  {
   "cell_type": "code",
   "execution_count": 17,
   "metadata": {
    "execution": {
     "iopub.execute_input": "2025-04-04T10:34:52.140012Z",
     "iopub.status.busy": "2025-04-04T10:34:52.139711Z",
     "iopub.status.idle": "2025-04-04T10:34:52.142863Z",
     "shell.execute_reply": "2025-04-04T10:34:52.142381Z"
    }
   },
   "outputs": [
    {
     "data": {
      "text/plain": [
       "{'value': 4}"
      ]
     },
     "execution_count": 17,
     "metadata": {},
     "output_type": "execute_result"
    }
   ],
   "source": [
    "a.__dict__"
   ]
  },
  {
   "cell_type": "markdown",
   "metadata": {},
   "source": [
    "Next quiz: where are the methods (_remark open_) stored?"
   ]
  },
  {
   "cell_type": "code",
   "execution_count": 18,
   "metadata": {
    "execution": {
     "iopub.execute_input": "2025-04-04T10:34:52.144660Z",
     "iopub.status.busy": "2025-04-04T10:34:52.144489Z",
     "iopub.status.idle": "2025-04-04T10:34:52.147703Z",
     "shell.execute_reply": "2025-04-04T10:34:52.147277Z"
    }
   },
   "outputs": [
    {
     "data": {
      "text/plain": [
       "mappingproxy({'__module__': '__main__',\n",
       "              '__init__': <function __main__.A.__init__(self, value)>,\n",
       "              'add': <function __main__.A.add(self, y)>,\n",
       "              '__dict__': <attribute '__dict__' of 'A' objects>,\n",
       "              '__weakref__': <attribute '__weakref__' of 'A' objects>,\n",
       "              '__doc__': None})"
      ]
     },
     "execution_count": 18,
     "metadata": {},
     "output_type": "execute_result"
    }
   ],
   "source": [
    "a.__class__.__dict__"
   ]
  },
  {
   "cell_type": "code",
   "execution_count": 19,
   "metadata": {
    "execution": {
     "iopub.execute_input": "2025-04-04T10:34:52.149321Z",
     "iopub.status.busy": "2025-04-04T10:34:52.149173Z",
     "iopub.status.idle": "2025-04-04T10:34:52.152328Z",
     "shell.execute_reply": "2025-04-04T10:34:52.151924Z"
    }
   },
   "outputs": [
    {
     "data": {
      "text/plain": [
       "mappingproxy({'__module__': '__main__',\n",
       "              '__init__': <function __main__.A.__init__(self, value)>,\n",
       "              'add': <function __main__.A.add(self, y)>,\n",
       "              '__dict__': <attribute '__dict__' of 'A' objects>,\n",
       "              '__weakref__': <attribute '__weakref__' of 'A' objects>,\n",
       "              '__doc__': None})"
      ]
     },
     "execution_count": 19,
     "metadata": {},
     "output_type": "execute_result"
    }
   ],
   "source": [
    "A.__dict__"
   ]
  },
  {
   "cell_type": "markdown",
   "metadata": {},
   "source": [
    "To be clear, there is nothing special about a value attribute and a method: the value attribute happened to be set on the _instance_ while the method happened to be set on the class. But we can have class attributes as well as (not really occuring in reality though) instance methods."
   ]
  },
  {
   "cell_type": "markdown",
   "metadata": {},
   "source": [
    "**Disclaimer: the following is EXTREMELY BAD CODING practices and should NEVER be seen in ANY real used code**"
   ]
  },
  {
   "cell_type": "code",
   "execution_count": 20,
   "metadata": {
    "execution": {
     "iopub.execute_input": "2025-04-04T10:34:52.154036Z",
     "iopub.status.busy": "2025-04-04T10:34:52.153890Z",
     "iopub.status.idle": "2025-04-04T10:34:52.156942Z",
     "shell.execute_reply": "2025-04-04T10:34:52.156550Z"
    }
   },
   "outputs": [],
   "source": [
    "class GetAndSet:\n",
    "    def __init__(self):\n",
    "        self.values = [1, 2, 3, 4, 5]\n",
    "    \n",
    "    def add(self, y):\n",
    "        return self.values[0] + y.values[1]\n",
    "    \n",
    "    def __getattr__(self, name):\n",
    "        if name in ('add', 'addition'):\n",
    "            return self.add\n",
    "        if name == 'hello':\n",
    "            print('I am 42')\n",
    "            \n",
    "    # we omit the __setattr__, but the game is the same\n",
    "    "
   ]
  },
  {
   "cell_type": "code",
   "execution_count": 21,
   "metadata": {
    "execution": {
     "iopub.execute_input": "2025-04-04T10:34:52.158637Z",
     "iopub.status.busy": "2025-04-04T10:34:52.158453Z",
     "iopub.status.idle": "2025-04-04T10:34:52.160690Z",
     "shell.execute_reply": "2025-04-04T10:34:52.160297Z"
    }
   },
   "outputs": [],
   "source": [
    "get = GetAndSet()"
   ]
  },
  {
   "cell_type": "code",
   "execution_count": 22,
   "metadata": {
    "execution": {
     "iopub.execute_input": "2025-04-04T10:34:52.162394Z",
     "iopub.status.busy": "2025-04-04T10:34:52.162245Z",
     "iopub.status.idle": "2025-04-04T10:34:52.165343Z",
     "shell.execute_reply": "2025-04-04T10:34:52.164874Z"
    }
   },
   "outputs": [
    {
     "data": {
      "text/plain": [
       "3"
      ]
     },
     "execution_count": 22,
     "metadata": {},
     "output_type": "execute_result"
    }
   ],
   "source": [
    "get.add(get)"
   ]
  },
  {
   "cell_type": "code",
   "execution_count": 23,
   "metadata": {
    "execution": {
     "iopub.execute_input": "2025-04-04T10:34:52.167068Z",
     "iopub.status.busy": "2025-04-04T10:34:52.166917Z",
     "iopub.status.idle": "2025-04-04T10:34:52.170089Z",
     "shell.execute_reply": "2025-04-04T10:34:52.169701Z"
    }
   },
   "outputs": [
    {
     "data": {
      "text/plain": [
       "3"
      ]
     },
     "execution_count": 23,
     "metadata": {},
     "output_type": "execute_result"
    }
   ],
   "source": [
    "get.addition(get)"
   ]
  },
  {
   "cell_type": "code",
   "execution_count": 24,
   "metadata": {
    "execution": {
     "iopub.execute_input": "2025-04-04T10:34:52.171730Z",
     "iopub.status.busy": "2025-04-04T10:34:52.171562Z",
     "iopub.status.idle": "2025-04-04T10:34:52.174039Z",
     "shell.execute_reply": "2025-04-04T10:34:52.173600Z"
    }
   },
   "outputs": [
    {
     "name": "stdout",
     "output_type": "stream",
     "text": [
      "I am 42\n"
     ]
    }
   ],
   "source": [
    "get.hello"
   ]
  },
  {
   "cell_type": "markdown",
   "metadata": {},
   "source": [
    "We can also provoke the same behavior by using the function `getattr` (or `setattr` respectively)"
   ]
  },
  {
   "cell_type": "code",
   "execution_count": 25,
   "metadata": {
    "execution": {
     "iopub.execute_input": "2025-04-04T10:34:52.175741Z",
     "iopub.status.busy": "2025-04-04T10:34:52.175593Z",
     "iopub.status.idle": "2025-04-04T10:34:52.178094Z",
     "shell.execute_reply": "2025-04-04T10:34:52.177643Z"
    }
   },
   "outputs": [
    {
     "name": "stdout",
     "output_type": "stream",
     "text": [
      "I am 42\n"
     ]
    }
   ],
   "source": [
    "getattr(get, 'hello')"
   ]
  },
  {
   "cell_type": "code",
   "execution_count": 26,
   "metadata": {
    "execution": {
     "iopub.execute_input": "2025-04-04T10:34:52.179734Z",
     "iopub.status.busy": "2025-04-04T10:34:52.179566Z",
     "iopub.status.idle": "2025-04-04T10:34:52.181641Z",
     "shell.execute_reply": "2025-04-04T10:34:52.181231Z"
    }
   },
   "outputs": [],
   "source": [
    "get.hi"
   ]
  },
  {
   "cell_type": "markdown",
   "metadata": {},
   "source": [
    "Quiz: why the above?"
   ]
  },
  {
   "cell_type": "markdown",
   "metadata": {},
   "source": [
    "Answer: Because the `__getattr__` that we called returns `None` (as any function/method does without an explicit `return`)"
   ]
  },
  {
   "cell_type": "code",
   "execution_count": 27,
   "metadata": {
    "execution": {
     "iopub.execute_input": "2025-04-04T10:34:52.183279Z",
     "iopub.status.busy": "2025-04-04T10:34:52.183132Z",
     "iopub.status.idle": "2025-04-04T10:34:52.185915Z",
     "shell.execute_reply": "2025-04-04T10:34:52.185531Z"
    }
   },
   "outputs": [
    {
     "name": "stdout",
     "output_type": "stream",
     "text": [
      "The Zen of Python, by Tim Peters\n",
      "\n",
      "Beautiful is better than ugly.\n",
      "Explicit is better than implicit.\n",
      "Simple is better than complex.\n",
      "Complex is better than complicated.\n",
      "Flat is better than nested.\n",
      "Sparse is better than dense.\n",
      "Readability counts.\n",
      "Special cases aren't special enough to break the rules.\n",
      "Although practicality beats purity.\n",
      "Errors should never pass silently.\n",
      "Unless explicitly silenced.\n",
      "In the face of ambiguity, refuse the temptation to guess.\n",
      "There should be one-- and preferably only one --obvious way to do it.\n",
      "Although that way may not be obvious at first unless you're Dutch.\n",
      "Now is better than never.\n",
      "Although never is often better than *right* now.\n",
      "If the implementation is hard to explain, it's a bad idea.\n",
      "If the implementation is easy to explain, it may be a good idea.\n",
      "Namespaces are one honking great idea -- let's do more of those!\n"
     ]
    }
   ],
   "source": [
    "import this"
   ]
  },
  {
   "cell_type": "markdown",
   "metadata": {},
   "source": [
    "And then there is the maybe most important sentence of all in Python:\n",
    "\n",
    "**We're all adults here.**\n",
    "\n",
    "Behave like one when coding ;)"
   ]
  }
 ],
 "metadata": {
  "language_info": {
   "codemirror_mode": {
    "name": "ipython",
    "version": 3
   },
   "file_extension": ".py",
   "mimetype": "text/x-python",
   "name": "python",
   "nbconvert_exporter": "python",
   "pygments_lexer": "ipython3",
   "version": "3.11.11"
  }
 },
 "nbformat": 4,
 "nbformat_minor": 4
}
