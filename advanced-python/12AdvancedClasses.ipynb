{
 "cells": [
  {
   "cell_type": "markdown",
   "metadata": {},
   "source": [
    "# Advanced Classes\n",
    "\n",
    "This tutorial focuses on the invocation of dunder methods and demystifies the operators in Python.\n",
    "\n",
    "## Dunder\n",
    "\n",
    "Dunder (**D**ouble **under**score) methods `__meth__` are names which are reserved for Python only and should not be invented by us (implemented; yes). Just to be precise, `__meth` is fine.\n",
    "\n",
    "These methods are used to delegate the actual operator call. When we invoke any operator (`+`, `==`, but also `()` and so on), the object that this is applied on is checked for a corresponding method. For the `+`, the object (on the left) is checked for a `__add__` method. If this is not found or return a `NotImplemented` either alternatives are tried or an error is raised if all possibilities are tried.\n",
    "\n",
    "Alternatives involve in this case to call the `__radd__` (**r**ight **add**) on the _object on the right_ **IF** the objects are of different types."
   ]
  },
  {
   "cell_type": "code",
   "execution_count": 1,
   "metadata": {
    "ExecuteTime": {
     "end_time": "2023-11-09T18:22:02.090086512Z",
     "start_time": "2023-11-09T18:22:01.447375824Z"
    },
    "execution": {
     "iopub.execute_input": "2023-11-14T17:07:45.167678Z",
     "iopub.status.busy": "2023-11-14T17:07:45.167497Z",
     "iopub.status.idle": "2023-11-14T17:07:45.174604Z",
     "shell.execute_reply": "2023-11-14T17:07:45.174177Z"
    }
   },
   "outputs": [],
   "source": [
    "class NamedValue:\n",
    "    def __init__(self, name):\n",
    "        self.name = name\n",
    "\n",
    "\n",
    "class ValueLeft(NamedValue):    \n",
    "    def __add__(self, other):\n",
    "        print(f\"add called on {self.name}\")\n",
    "        return 42\n",
    "    \n",
    "\n",
    "class ValueRight(NamedValue):\n",
    "    def __radd__(self, other):\n",
    "        print(\"radd called on {self.name}\")\n",
    "        return 24\n",
    "    \n",
    "\n",
    "class Value(ValueRight, ValueLeft):\n",
    "    pass"
   ]
  },
  {
   "cell_type": "markdown",
   "metadata": {},
   "source": [
    "**Exercise**: which one can we add and which raise an error? Think or try it out!"
   ]
  },
  {
   "cell_type": "code",
   "execution_count": 2,
   "metadata": {
    "ExecuteTime": {
     "end_time": "2023-11-09T18:22:02.096491782Z",
     "start_time": "2023-11-09T18:22:01.447622989Z"
    },
    "execution": {
     "iopub.execute_input": "2023-11-14T17:07:45.176661Z",
     "iopub.status.busy": "2023-11-14T17:07:45.176356Z",
     "iopub.status.idle": "2023-11-14T17:07:45.178881Z",
     "shell.execute_reply": "2023-11-14T17:07:45.178380Z"
    }
   },
   "outputs": [],
   "source": [
    "valleft = ValueLeft('val left')\n",
    "valleft2 = ValueLeft('val left2')"
   ]
  },
  {
   "cell_type": "code",
   "execution_count": 3,
   "metadata": {
    "ExecuteTime": {
     "end_time": "2023-11-09T18:22:02.097446715Z",
     "start_time": "2023-11-09T18:22:01.447833842Z"
    },
    "execution": {
     "iopub.execute_input": "2023-11-14T17:07:45.180865Z",
     "iopub.status.busy": "2023-11-14T17:07:45.180544Z",
     "iopub.status.idle": "2023-11-14T17:07:45.185663Z",
     "shell.execute_reply": "2023-11-14T17:07:45.185150Z"
    }
   },
   "outputs": [
    {
     "name": "stdout",
     "output_type": "stream",
     "text": [
      "add called on val left\n"
     ]
    },
    {
     "data": {
      "text/plain": [
       "42"
      ]
     },
     "execution_count": 3,
     "metadata": {},
     "output_type": "execute_result"
    }
   ],
   "source": [
    "valleft + valleft2"
   ]
  },
  {
   "cell_type": "markdown",
   "metadata": {},
   "source": [
    "## len\n",
    "\n",
    "The `len` method simply checks if there is a `__len__` implemented."
   ]
  },
  {
   "cell_type": "markdown",
   "metadata": {},
   "source": [
    "## str\n",
    "\n",
    "To have a nice, representable, human readable string, `__str__` should be implemented. There is a similar one, which is `__repr__`. This is also a string representation of the object, yet more targeted towards the developers.\n",
    "\n",
    "If no `__str__` is provided, it falls back to `__repr__`, which, if not provided, uses a default implementation."
   ]
  },
  {
   "cell_type": "code",
   "execution_count": 4,
   "metadata": {
    "ExecuteTime": {
     "end_time": "2023-11-09T18:22:02.097894774Z",
     "start_time": "2023-11-09T18:22:01.448096154Z"
    },
    "execution": {
     "iopub.execute_input": "2023-11-14T17:07:45.187765Z",
     "iopub.status.busy": "2023-11-14T17:07:45.187509Z",
     "iopub.status.idle": "2023-11-14T17:07:45.190793Z",
     "shell.execute_reply": "2023-11-14T17:07:45.190292Z"
    }
   },
   "outputs": [],
   "source": [
    "class Name:\n",
    "    def __init__(self, name):\n",
    "        self.name = name\n",
    "        \n",
    "\n",
    "class NameRepr(Name):\n",
    "    def __repr__(self):\n",
    "        return self.name\n",
    "\n",
    "\n",
    "class NameStr(Name):\n",
    "    def __str__(self):\n",
    "        return f'I am {self.name}'\n",
    "    \n",
    "\n",
    "class NameStrRepr(NameStr, NameRepr):\n",
    "    pass"
   ]
  },
  {
   "cell_type": "markdown",
   "metadata": {},
   "source": [
    "**Exercise**: try it out by using `str(...)` and `repr(...)`"
   ]
  },
  {
   "cell_type": "markdown",
   "metadata": {},
   "source": [
    "## Callable\n",
    "\n",
    "In Python, a callable is any object that can be called. Calling an object means to have `(...)` attached behind it. This operator looks for a `__call__` method."
   ]
  },
  {
   "cell_type": "code",
   "execution_count": 5,
   "metadata": {
    "ExecuteTime": {
     "end_time": "2023-11-09T18:22:02.098105946Z",
     "start_time": "2023-11-09T18:22:01.491308102Z"
    },
    "execution": {
     "iopub.execute_input": "2023-11-14T17:07:45.192836Z",
     "iopub.status.busy": "2023-11-14T17:07:45.192468Z",
     "iopub.status.idle": "2023-11-14T17:07:45.195134Z",
     "shell.execute_reply": "2023-11-14T17:07:45.194736Z"
    }
   },
   "outputs": [],
   "source": [
    "class Callable:\n",
    "    def __call__(self, *args, **kwargs):\n",
    "        print(f\"called with args {args} and kwargs {kwargs}\")\n",
    "        \n",
    "\n",
    "class NotCallable:\n",
    "    pass"
   ]
  },
  {
   "cell_type": "code",
   "execution_count": 6,
   "metadata": {
    "ExecuteTime": {
     "end_time": "2023-11-09T18:22:02.098275992Z",
     "start_time": "2023-11-09T18:22:01.491619526Z"
    },
    "execution": {
     "iopub.execute_input": "2023-11-14T17:07:45.196902Z",
     "iopub.status.busy": "2023-11-14T17:07:45.196645Z",
     "iopub.status.idle": "2023-11-14T17:07:45.199119Z",
     "shell.execute_reply": "2023-11-14T17:07:45.198628Z"
    }
   },
   "outputs": [],
   "source": [
    "call = Callable()\n",
    "noncall = NotCallable()"
   ]
  },
  {
   "cell_type": "code",
   "execution_count": 7,
   "metadata": {
    "ExecuteTime": {
     "end_time": "2023-11-09T18:22:02.098786414Z",
     "start_time": "2023-11-09T18:22:01.491851791Z"
    },
    "execution": {
     "iopub.execute_input": "2023-11-14T17:07:45.201128Z",
     "iopub.status.busy": "2023-11-14T17:07:45.200690Z",
     "iopub.status.idle": "2023-11-14T17:07:45.203483Z",
     "shell.execute_reply": "2023-11-14T17:07:45.202995Z"
    }
   },
   "outputs": [
    {
     "name": "stdout",
     "output_type": "stream",
     "text": [
      "called with args () and kwargs {}\n"
     ]
    }
   ],
   "source": [
    "call()"
   ]
  },
  {
   "cell_type": "code",
   "execution_count": 8,
   "metadata": {
    "ExecuteTime": {
     "end_time": "2023-11-09T18:22:02.099302008Z",
     "start_time": "2023-11-09T18:22:01.492017010Z"
    },
    "execution": {
     "iopub.execute_input": "2023-11-14T17:07:45.205387Z",
     "iopub.status.busy": "2023-11-14T17:07:45.204957Z",
     "iopub.status.idle": "2023-11-14T17:07:45.207618Z",
     "shell.execute_reply": "2023-11-14T17:07:45.207233Z"
    }
   },
   "outputs": [
    {
     "name": "stdout",
     "output_type": "stream",
     "text": [
      "'NotCallable' object is not callable\n"
     ]
    }
   ],
   "source": [
    "try:\n",
    "    noncall()\n",
    "except TypeError as error:\n",
    "    print(error)"
   ]
  },
  {
   "cell_type": "markdown",
   "metadata": {},
   "source": [
    "`TypeError: 'NotCallable' object is not callable` translates to `has no __call__ method`"
   ]
  },
  {
   "cell_type": "markdown",
   "metadata": {},
   "source": [
    "## Indexing (iterating)\n",
    "\n",
    "There are a few methods when it comes down to iteration. However, we won't go into these details but rather look at the normal indexing. That is controlled via `__getitem__` and `__setitem__` and invoked with the `[]` operator."
   ]
  },
  {
   "cell_type": "code",
   "execution_count": 9,
   "metadata": {
    "ExecuteTime": {
     "end_time": "2023-11-09T18:22:02.099478261Z",
     "start_time": "2023-11-09T18:22:01.498433654Z"
    },
    "execution": {
     "iopub.execute_input": "2023-11-14T17:07:45.209430Z",
     "iopub.status.busy": "2023-11-14T17:07:45.209272Z",
     "iopub.status.idle": "2023-11-14T17:07:45.213286Z",
     "shell.execute_reply": "2023-11-14T17:07:45.212765Z"
    }
   },
   "outputs": [],
   "source": [
    "class Storage:\n",
    "    def __init__(self, name):\n",
    "        self.name = name\n",
    "        self.container = [1, 5, 4]  # just for demonstration\n",
    "        \n",
    "    def __getitem__(self, index):\n",
    "        print(f\"getitem of {self.name} invoked with index {index}\")\n",
    "        return self.container[index]\n",
    "    \n",
    "    def __setitem__(self, index, item):\n",
    "        print(f\"setitem of {self.name} invoked with index {index} and item {item}\")\n",
    "        self.container[index] = item"
   ]
  },
  {
   "cell_type": "code",
   "execution_count": 10,
   "metadata": {
    "ExecuteTime": {
     "end_time": "2023-11-09T18:22:02.099727280Z",
     "start_time": "2023-11-09T18:22:01.503944286Z"
    },
    "execution": {
     "iopub.execute_input": "2023-11-14T17:07:45.215413Z",
     "iopub.status.busy": "2023-11-14T17:07:45.215226Z",
     "iopub.status.idle": "2023-11-14T17:07:45.218596Z",
     "shell.execute_reply": "2023-11-14T17:07:45.218078Z"
    }
   },
   "outputs": [],
   "source": [
    "storage = Storage('one')"
   ]
  },
  {
   "cell_type": "code",
   "execution_count": 11,
   "metadata": {
    "ExecuteTime": {
     "end_time": "2023-11-09T18:22:02.100369605Z",
     "start_time": "2023-11-09T18:22:01.513503176Z"
    },
    "execution": {
     "iopub.execute_input": "2023-11-14T17:07:45.220906Z",
     "iopub.status.busy": "2023-11-14T17:07:45.220742Z",
     "iopub.status.idle": "2023-11-14T17:07:45.224767Z",
     "shell.execute_reply": "2023-11-14T17:07:45.224173Z"
    }
   },
   "outputs": [
    {
     "name": "stdout",
     "output_type": "stream",
     "text": [
      "getitem of one invoked with index 2\n"
     ]
    },
    {
     "data": {
      "text/plain": [
       "4"
      ]
     },
     "execution_count": 11,
     "metadata": {},
     "output_type": "execute_result"
    }
   ],
   "source": [
    "storage[2]"
   ]
  },
  {
   "cell_type": "code",
   "execution_count": 12,
   "metadata": {
    "ExecuteTime": {
     "end_time": "2023-11-09T18:22:02.100965196Z",
     "start_time": "2023-11-09T18:22:01.555278832Z"
    },
    "execution": {
     "iopub.execute_input": "2023-11-14T17:07:45.226721Z",
     "iopub.status.busy": "2023-11-14T17:07:45.226558Z",
     "iopub.status.idle": "2023-11-14T17:07:45.229584Z",
     "shell.execute_reply": "2023-11-14T17:07:45.228987Z"
    }
   },
   "outputs": [
    {
     "name": "stdout",
     "output_type": "stream",
     "text": [
      "setitem of one invoked with index 2 and item 3\n"
     ]
    }
   ],
   "source": [
    "storage[2] = 3"
   ]
  },
  {
   "cell_type": "markdown",
   "metadata": {},
   "source": [
    "## self\n",
    "\n",
    "What is actually self? Nothing else than the object itself. However, we can rename it however we like.\n",
    "\n",
    "*Read the following well*\n",
    "If an instance is create of a class and a method is called on that instance, the _first_ argument to the method is the instance itself.\n",
    "**Fullstop**\n",
    "\n",
    "What are the consequences of this?"
   ]
  },
  {
   "cell_type": "code",
   "execution_count": 13,
   "metadata": {
    "ExecuteTime": {
     "end_time": "2023-11-09T18:22:02.101169939Z",
     "start_time": "2023-11-09T18:22:01.555519700Z"
    },
    "execution": {
     "iopub.execute_input": "2023-11-14T17:07:45.231672Z",
     "iopub.status.busy": "2023-11-14T17:07:45.231508Z",
     "iopub.status.idle": "2023-11-14T17:07:45.234346Z",
     "shell.execute_reply": "2023-11-14T17:07:45.233779Z"
    }
   },
   "outputs": [],
   "source": [
    "class A:\n",
    "    def __init__(self, value):\n",
    "        self.value = value\n",
    "    \n",
    "    def add(self, y):\n",
    "        return self.value + y.value"
   ]
  },
  {
   "cell_type": "code",
   "execution_count": 14,
   "metadata": {
    "ExecuteTime": {
     "end_time": "2023-11-09T18:22:02.101370435Z",
     "start_time": "2023-11-09T18:22:01.555728122Z"
    },
    "execution": {
     "iopub.execute_input": "2023-11-14T17:07:45.236651Z",
     "iopub.status.busy": "2023-11-14T17:07:45.236274Z",
     "iopub.status.idle": "2023-11-14T17:07:45.239308Z",
     "shell.execute_reply": "2023-11-14T17:07:45.238814Z"
    }
   },
   "outputs": [],
   "source": [
    "a = A(4)\n",
    "b = A(38)"
   ]
  },
  {
   "cell_type": "code",
   "execution_count": 15,
   "metadata": {
    "ExecuteTime": {
     "end_time": "2023-11-09T18:22:02.101792662Z",
     "start_time": "2023-11-09T18:22:01.599103966Z"
    },
    "execution": {
     "iopub.execute_input": "2023-11-14T17:07:45.241093Z",
     "iopub.status.busy": "2023-11-14T17:07:45.240936Z",
     "iopub.status.idle": "2023-11-14T17:07:45.244398Z",
     "shell.execute_reply": "2023-11-14T17:07:45.243878Z"
    }
   },
   "outputs": [
    {
     "data": {
      "text/plain": [
       "42"
      ]
     },
     "execution_count": 15,
     "metadata": {},
     "output_type": "execute_result"
    }
   ],
   "source": [
    "a.add(b)"
   ]
  },
  {
   "cell_type": "code",
   "execution_count": 16,
   "metadata": {
    "ExecuteTime": {
     "end_time": "2023-11-09T18:22:02.104487019Z",
     "start_time": "2023-11-09T18:22:01.599306619Z"
    },
    "execution": {
     "iopub.execute_input": "2023-11-14T17:07:45.246547Z",
     "iopub.status.busy": "2023-11-14T17:07:45.246218Z",
     "iopub.status.idle": "2023-11-14T17:07:45.250449Z",
     "shell.execute_reply": "2023-11-14T17:07:45.249877Z"
    }
   },
   "outputs": [
    {
     "data": {
      "text/plain": [
       "42"
      ]
     },
     "execution_count": 16,
     "metadata": {},
     "output_type": "execute_result"
    }
   ],
   "source": [
    "A.add(a, b)"
   ]
  },
  {
   "cell_type": "markdown",
   "metadata": {},
   "source": [
    "The latter works as well! Why not? `add` is a method that we call and we give it two arguments. Forgetting about class dynamics, it makes actually complete sense."
   ]
  },
  {
   "cell_type": "markdown",
   "metadata": {},
   "source": [
    "# Danger zone\n",
    "\n",
    "The following is only for fun and should _not_ be used in real live, except you do _really_ know what you're doing and at least two independent colleagues agree that this is the right way to go"
   ]
  },
  {
   "cell_type": "markdown",
   "metadata": {},
   "source": [
    "We have seen that basically everything is an operator and it has a dunder method. Everything? Quiz: what did we miss?"
   ]
  },
  {
   "cell_type": "markdown",
   "metadata": {},
   "source": [
    "Solution: the `.` the access operator. Yes, you guessed right. Let's override it"
   ]
  },
  {
   "cell_type": "markdown",
   "metadata": {},
   "source": [
    "First, where are actually all the attributes stored in a class?\n",
    "Answer: in the `__dict__` attribute."
   ]
  },
  {
   "cell_type": "code",
   "execution_count": 17,
   "metadata": {
    "ExecuteTime": {
     "end_time": "2023-11-09T18:22:02.104939450Z",
     "start_time": "2023-11-09T18:22:01.599476172Z"
    },
    "execution": {
     "iopub.execute_input": "2023-11-14T17:07:45.252736Z",
     "iopub.status.busy": "2023-11-14T17:07:45.252586Z",
     "iopub.status.idle": "2023-11-14T17:07:45.255802Z",
     "shell.execute_reply": "2023-11-14T17:07:45.255322Z"
    }
   },
   "outputs": [
    {
     "data": {
      "text/plain": [
       "{'value': 4}"
      ]
     },
     "execution_count": 17,
     "metadata": {},
     "output_type": "execute_result"
    }
   ],
   "source": [
    "a.__dict__"
   ]
  },
  {
   "cell_type": "markdown",
   "metadata": {},
   "source": [
    "Next quiz: where are the methods (_remark open_) stored?"
   ]
  },
  {
   "cell_type": "code",
   "execution_count": 18,
   "metadata": {
    "ExecuteTime": {
     "end_time": "2023-11-09T18:22:02.106823366Z",
     "start_time": "2023-11-09T18:22:01.599607114Z"
    },
    "execution": {
     "iopub.execute_input": "2023-11-14T17:07:45.257902Z",
     "iopub.status.busy": "2023-11-14T17:07:45.257762Z",
     "iopub.status.idle": "2023-11-14T17:07:45.261199Z",
     "shell.execute_reply": "2023-11-14T17:07:45.260630Z"
    }
   },
   "outputs": [
    {
     "data": {
      "text/plain": [
       "mappingproxy({'__module__': '__main__',\n",
       "              '__init__': <function __main__.A.__init__(self, value)>,\n",
       "              'add': <function __main__.A.add(self, y)>,\n",
       "              '__dict__': <attribute '__dict__' of 'A' objects>,\n",
       "              '__weakref__': <attribute '__weakref__' of 'A' objects>,\n",
       "              '__doc__': None})"
      ]
     },
     "execution_count": 18,
     "metadata": {},
     "output_type": "execute_result"
    }
   ],
   "source": [
    "a.__class__.__dict__"
   ]
  },
  {
   "cell_type": "code",
   "execution_count": 19,
   "metadata": {
    "ExecuteTime": {
     "end_time": "2023-11-09T18:22:02.107525732Z",
     "start_time": "2023-11-09T18:22:01.643176331Z"
    },
    "execution": {
     "iopub.execute_input": "2023-11-14T17:07:45.263389Z",
     "iopub.status.busy": "2023-11-14T17:07:45.263239Z",
     "iopub.status.idle": "2023-11-14T17:07:45.267335Z",
     "shell.execute_reply": "2023-11-14T17:07:45.266850Z"
    }
   },
   "outputs": [
    {
     "data": {
      "text/plain": [
       "mappingproxy({'__module__': '__main__',\n",
       "              '__init__': <function __main__.A.__init__(self, value)>,\n",
       "              'add': <function __main__.A.add(self, y)>,\n",
       "              '__dict__': <attribute '__dict__' of 'A' objects>,\n",
       "              '__weakref__': <attribute '__weakref__' of 'A' objects>,\n",
       "              '__doc__': None})"
      ]
     },
     "execution_count": 19,
     "metadata": {},
     "output_type": "execute_result"
    }
   ],
   "source": [
    "A.__dict__"
   ]
  },
  {
   "cell_type": "markdown",
   "metadata": {},
   "source": [
    "To be clear, there is nothing special about a value attribute and a method: the value attribute happened to be set on the _instance_ while the method happened to be set on the class. But we can have class attributes as well as (not really occuring in reality though) instance methods."
   ]
  },
  {
   "cell_type": "markdown",
   "metadata": {},
   "source": [
    "**Disclaimer: the following is EXTREMELY BAD CODING practices and should NEVER be seen in ANY real used code**"
   ]
  },
  {
   "cell_type": "code",
   "execution_count": 20,
   "metadata": {
    "ExecuteTime": {
     "end_time": "2023-11-09T18:22:02.107832669Z",
     "start_time": "2023-11-09T18:22:01.643423445Z"
    },
    "execution": {
     "iopub.execute_input": "2023-11-14T17:07:45.269753Z",
     "iopub.status.busy": "2023-11-14T17:07:45.269212Z",
     "iopub.status.idle": "2023-11-14T17:07:45.273215Z",
     "shell.execute_reply": "2023-11-14T17:07:45.272738Z"
    }
   },
   "outputs": [],
   "source": [
    "class GetAndSet:\n",
    "    def __init__(self):\n",
    "        self.values = [1, 2, 3, 4, 5]\n",
    "    \n",
    "    def add(self, y):\n",
    "        return self.values[0] + y.values[1]\n",
    "    \n",
    "    def __getattr__(self, name):\n",
    "        if name in ('add', 'addition'):\n",
    "            return self.add\n",
    "        if name == 'hello':\n",
    "            print('I am 42')\n",
    "            \n",
    "    # we omit the __setattr__, but the game is the same\n",
    "    "
   ]
  },
  {
   "cell_type": "code",
   "execution_count": 21,
   "metadata": {
    "ExecuteTime": {
     "end_time": "2023-11-09T18:22:02.108062078Z",
     "start_time": "2023-11-09T18:22:01.643613141Z"
    },
    "execution": {
     "iopub.execute_input": "2023-11-14T17:07:45.275404Z",
     "iopub.status.busy": "2023-11-14T17:07:45.275253Z",
     "iopub.status.idle": "2023-11-14T17:07:45.278409Z",
     "shell.execute_reply": "2023-11-14T17:07:45.277819Z"
    }
   },
   "outputs": [],
   "source": [
    "get = GetAndSet()"
   ]
  },
  {
   "cell_type": "code",
   "execution_count": 22,
   "metadata": {
    "ExecuteTime": {
     "end_time": "2023-11-09T18:22:02.108503703Z",
     "start_time": "2023-11-09T18:22:01.643815676Z"
    },
    "execution": {
     "iopub.execute_input": "2023-11-14T17:07:45.280546Z",
     "iopub.status.busy": "2023-11-14T17:07:45.280143Z",
     "iopub.status.idle": "2023-11-14T17:07:45.283914Z",
     "shell.execute_reply": "2023-11-14T17:07:45.283361Z"
    }
   },
   "outputs": [
    {
     "data": {
      "text/plain": [
       "3"
      ]
     },
     "execution_count": 22,
     "metadata": {},
     "output_type": "execute_result"
    }
   ],
   "source": [
    "get.add(get)"
   ]
  },
  {
   "cell_type": "code",
   "execution_count": 23,
   "metadata": {
    "ExecuteTime": {
     "end_time": "2023-11-09T18:22:02.108799427Z",
     "start_time": "2023-11-09T18:22:01.644071731Z"
    },
    "execution": {
     "iopub.execute_input": "2023-11-14T17:07:45.285966Z",
     "iopub.status.busy": "2023-11-14T17:07:45.285616Z",
     "iopub.status.idle": "2023-11-14T17:07:45.289234Z",
     "shell.execute_reply": "2023-11-14T17:07:45.288773Z"
    }
   },
   "outputs": [
    {
     "data": {
      "text/plain": [
       "3"
      ]
     },
     "execution_count": 23,
     "metadata": {},
     "output_type": "execute_result"
    }
   ],
   "source": [
    "get.addition(get)"
   ]
  },
  {
   "cell_type": "code",
   "execution_count": 24,
   "metadata": {
    "ExecuteTime": {
     "end_time": "2023-11-09T18:22:02.109426819Z",
     "start_time": "2023-11-09T18:22:01.655190658Z"
    },
    "execution": {
     "iopub.execute_input": "2023-11-14T17:07:45.290956Z",
     "iopub.status.busy": "2023-11-14T17:07:45.290801Z",
     "iopub.status.idle": "2023-11-14T17:07:45.293427Z",
     "shell.execute_reply": "2023-11-14T17:07:45.292975Z"
    }
   },
   "outputs": [
    {
     "name": "stdout",
     "output_type": "stream",
     "text": [
      "I am 42\n"
     ]
    }
   ],
   "source": [
    "get.hello"
   ]
  },
  {
   "cell_type": "markdown",
   "metadata": {},
   "source": [
    "We can also provoke the same behavior by using the function `getattr` (or `setattr` respectively)"
   ]
  },
  {
   "cell_type": "code",
   "execution_count": 25,
   "metadata": {
    "ExecuteTime": {
     "end_time": "2023-11-09T18:22:02.110263772Z",
     "start_time": "2023-11-09T18:22:01.662211437Z"
    },
    "execution": {
     "iopub.execute_input": "2023-11-14T17:07:45.295105Z",
     "iopub.status.busy": "2023-11-14T17:07:45.294955Z",
     "iopub.status.idle": "2023-11-14T17:07:45.297634Z",
     "shell.execute_reply": "2023-11-14T17:07:45.297164Z"
    }
   },
   "outputs": [
    {
     "name": "stdout",
     "output_type": "stream",
     "text": [
      "I am 42\n"
     ]
    }
   ],
   "source": [
    "getattr(get, 'hello')"
   ]
  },
  {
   "cell_type": "code",
   "execution_count": 26,
   "metadata": {
    "ExecuteTime": {
     "end_time": "2023-11-09T18:22:02.110508234Z",
     "start_time": "2023-11-09T18:22:01.679854902Z"
    },
    "execution": {
     "iopub.execute_input": "2023-11-14T17:07:45.299495Z",
     "iopub.status.busy": "2023-11-14T17:07:45.299140Z",
     "iopub.status.idle": "2023-11-14T17:07:45.301567Z",
     "shell.execute_reply": "2023-11-14T17:07:45.301078Z"
    }
   },
   "outputs": [],
   "source": [
    "get.hi"
   ]
  },
  {
   "cell_type": "markdown",
   "metadata": {},
   "source": [
    "Quiz: why the above?"
   ]
  },
  {
   "cell_type": "markdown",
   "metadata": {},
   "source": [
    "Answer: Because the `__getattr__` that we called returns `None` (as any function/method does without an explicit `return`)"
   ]
  },
  {
   "cell_type": "code",
   "execution_count": 27,
   "metadata": {
    "ExecuteTime": {
     "end_time": "2023-11-09T18:22:02.111369769Z",
     "start_time": "2023-11-09T18:22:01.685831397Z"
    },
    "execution": {
     "iopub.execute_input": "2023-11-14T17:07:45.303445Z",
     "iopub.status.busy": "2023-11-14T17:07:45.303179Z",
     "iopub.status.idle": "2023-11-14T17:07:45.305918Z",
     "shell.execute_reply": "2023-11-14T17:07:45.305540Z"
    }
   },
   "outputs": [
    {
     "name": "stdout",
     "output_type": "stream",
     "text": [
      "The Zen of Python, by Tim Peters\n",
      "\n",
      "Beautiful is better than ugly.\n",
      "Explicit is better than implicit.\n",
      "Simple is better than complex.\n",
      "Complex is better than complicated.\n",
      "Flat is better than nested.\n",
      "Sparse is better than dense.\n",
      "Readability counts.\n",
      "Special cases aren't special enough to break the rules.\n",
      "Although practicality beats purity.\n",
      "Errors should never pass silently.\n",
      "Unless explicitly silenced.\n",
      "In the face of ambiguity, refuse the temptation to guess.\n",
      "There should be one-- and preferably only one --obvious way to do it.\n",
      "Although that way may not be obvious at first unless you're Dutch.\n",
      "Now is better than never.\n",
      "Although never is often better than *right* now.\n",
      "If the implementation is hard to explain, it's a bad idea.\n",
      "If the implementation is easy to explain, it may be a good idea.\n",
      "Namespaces are one honking great idea -- let's do more of those!\n"
     ]
    }
   ],
   "source": [
    "import this"
   ]
  },
  {
   "cell_type": "markdown",
   "metadata": {},
   "source": [
    "And then there is the maybe most important sentence of all in Python:\n",
    "\n",
    "**We're all adults here.**\n",
    "\n",
    "Behave like one when coding ;)"
   ]
  }
 ],
 "metadata": {
  "kernelspec": {
   "display_name": "Python 3 (ipykernel)",
   "language": "python",
   "name": "python3"
  },
  "language_info": {
   "codemirror_mode": {
    "name": "ipython",
    "version": 3
   },
   "file_extension": ".py",
   "mimetype": "text/x-python",
   "name": "python",
   "nbconvert_exporter": "python",
   "pygments_lexer": "ipython3",
   "version": "3.11.6"
  }
 },
 "nbformat": 4,
 "nbformat_minor": 4
}
