{
 "cells": [
  {
   "cell_type": "markdown",
   "metadata": {},
   "source": [
    "# Advanced Classes\n",
    "\n",
    "This tutorial focuses on the invocation of dunder methods and demystifies the operators in Python.\n",
    "\n",
    "## Dunder\n",
    "\n",
    "Dunder (**D**ouble **under**score) methods `__meth__` are names which are reserved for Python only and should not be invented by us (implemented; yes). Just to be precise, `__meth` is fine.\n",
    "\n",
    "These methods are used to delegate the actual operator call. When we invoke any operator (`+`, `==`, but also `()` and so on), the object that this is applied on is checked for a corresponding method. For the `+`, the object (on the left) is checked for a `__add__` method. If this is not found or return a `NotImplemented` either alternatives are tried or an error is raised if all possibilities are tried.\n",
    "\n",
    "Alternatives involve in this case to call the `__radd__` (**r**ight **add**) on the _object on the right_ **IF** the objects are of different types."
   ]
  },
  {
   "cell_type": "code",
   "execution_count": null,
   "metadata": {
    "ExecuteTime": {
     "end_time": "2023-11-09T18:22:02.090086512Z",
     "start_time": "2023-11-09T18:22:01.447375824Z"
    }
   },
   "outputs": [],
   "source": [
    "class NamedValue:\n",
    "    def __init__(self, name):\n",
    "        self.name = name\n",
    "\n",
    "\n",
    "class ValueLeft(NamedValue):    \n",
    "    def __add__(self, other):\n",
    "        print(f\"add called on {self.name}\")\n",
    "        return 42\n",
    "    \n",
    "\n",
    "class ValueRight(NamedValue):\n",
    "    def __radd__(self, other):\n",
    "        print(\"radd called on {self.name}\")\n",
    "        return 24\n",
    "    \n",
    "\n",
    "class Value(ValueRight, ValueLeft):\n",
    "    pass"
   ]
  },
  {
   "cell_type": "markdown",
   "metadata": {},
   "source": [
    "**Exercise**: which one can we add and which raise an error? Think or try it out!"
   ]
  },
  {
   "cell_type": "code",
   "execution_count": null,
   "metadata": {
    "ExecuteTime": {
     "end_time": "2023-11-09T18:22:02.096491782Z",
     "start_time": "2023-11-09T18:22:01.447622989Z"
    }
   },
   "outputs": [],
   "source": [
    "valleft = ValueLeft('val left')\n",
    "valleft2 = ValueLeft('val left2')"
   ]
  },
  {
   "cell_type": "code",
   "execution_count": null,
   "metadata": {
    "ExecuteTime": {
     "end_time": "2023-11-09T18:22:02.097446715Z",
     "start_time": "2023-11-09T18:22:01.447833842Z"
    }
   },
   "outputs": [],
   "source": [
    "valleft + valleft2"
   ]
  },
  {
   "cell_type": "markdown",
   "metadata": {},
   "source": [
    "## len\n",
    "\n",
    "The `len` method simply checks if there is a `__len__` implemented."
   ]
  },
  {
   "cell_type": "markdown",
   "metadata": {},
   "source": [
    "## str\n",
    "\n",
    "To have a nice, representable, human readable string, `__str__` should be implemented. There is a similar one, which is `__repr__`. This is also a string representation of the object, yet more targeted towards the developers.\n",
    "\n",
    "If no `__str__` is provided, it falls back to `__repr__`, which, if not provided, uses a default implementation."
   ]
  },
  {
   "cell_type": "code",
   "execution_count": null,
   "metadata": {
    "ExecuteTime": {
     "end_time": "2023-11-09T18:22:02.097894774Z",
     "start_time": "2023-11-09T18:22:01.448096154Z"
    }
   },
   "outputs": [],
   "source": [
    "class Name:\n",
    "    def __init__(self, name):\n",
    "        self.name = name\n",
    "        \n",
    "\n",
    "class NameRepr(Name):\n",
    "    def __repr__(self):\n",
    "        return self.name\n",
    "\n",
    "\n",
    "class NameStr(Name):\n",
    "    def __str__(self):\n",
    "        return f'I am {self.name}'\n",
    "    \n",
    "\n",
    "class NameStrRepr(NameStr, NameRepr):\n",
    "    pass"
   ]
  },
  {
   "cell_type": "markdown",
   "metadata": {},
   "source": [
    "**Exercise**: try it out by using `str(...)` and `repr(...)`"
   ]
  },
  {
   "cell_type": "markdown",
   "metadata": {},
   "source": [
    "## Callable\n",
    "\n",
    "In Python, a callable is any object that can be called. Calling an object means to have `(...)` attached behind it. This operator looks for a `__call__` method."
   ]
  },
  {
   "cell_type": "code",
   "execution_count": null,
   "metadata": {
    "ExecuteTime": {
     "end_time": "2023-11-09T18:22:02.098105946Z",
     "start_time": "2023-11-09T18:22:01.491308102Z"
    }
   },
   "outputs": [],
   "source": [
    "class Callable:\n",
    "    def __call__(self, *args, **kwargs):\n",
    "        print(f\"called with args {args} and kwargs {kwargs}\")\n",
    "        \n",
    "\n",
    "class NotCallable:\n",
    "    pass"
   ]
  },
  {
   "cell_type": "code",
   "execution_count": null,
   "metadata": {
    "ExecuteTime": {
     "end_time": "2023-11-09T18:22:02.098275992Z",
     "start_time": "2023-11-09T18:22:01.491619526Z"
    }
   },
   "outputs": [],
   "source": [
    "call = Callable()\n",
    "noncall = NotCallable()"
   ]
  },
  {
   "cell_type": "code",
   "execution_count": null,
   "metadata": {
    "ExecuteTime": {
     "end_time": "2023-11-09T18:22:02.098786414Z",
     "start_time": "2023-11-09T18:22:01.491851791Z"
    }
   },
   "outputs": [],
   "source": [
    "call()"
   ]
  },
  {
   "cell_type": "code",
   "execution_count": null,
   "metadata": {
    "ExecuteTime": {
     "end_time": "2023-11-09T18:22:02.099302008Z",
     "start_time": "2023-11-09T18:22:01.492017010Z"
    }
   },
   "outputs": [],
   "source": [
    "try:\n",
    "    noncall()\n",
    "except TypeError as error:\n",
    "    print(error)"
   ]
  },
  {
   "cell_type": "markdown",
   "metadata": {},
   "source": [
    "`TypeError: 'NotCallable' object is not callable` translates to `has no __call__ method`"
   ]
  },
  {
   "cell_type": "markdown",
   "metadata": {},
   "source": [
    "## Indexing (iterating)\n",
    "\n",
    "There are a few methods when it comes down to iteration. However, we won't go into these details but rather look at the normal indexing. That is controlled via `__getitem__` and `__setitem__` and invoked with the `[]` operator."
   ]
  },
  {
   "cell_type": "code",
   "execution_count": null,
   "metadata": {
    "ExecuteTime": {
     "end_time": "2023-11-09T18:22:02.099478261Z",
     "start_time": "2023-11-09T18:22:01.498433654Z"
    }
   },
   "outputs": [],
   "source": [
    "class Storage:\n",
    "    def __init__(self, name):\n",
    "        self.name = name\n",
    "        self.container = [1, 5, 4]  # just for demonstration\n",
    "        \n",
    "    def __getitem__(self, index):\n",
    "        print(f\"getitem of {self.name} invoked with index {index}\")\n",
    "        return self.container[index]\n",
    "    \n",
    "    def __setitem__(self, index, item):\n",
    "        print(f\"setitem of {self.name} invoked with index {index} and item {item}\")\n",
    "        self.container[index] = item"
   ]
  },
  {
   "cell_type": "code",
   "execution_count": null,
   "metadata": {
    "ExecuteTime": {
     "end_time": "2023-11-09T18:22:02.099727280Z",
     "start_time": "2023-11-09T18:22:01.503944286Z"
    }
   },
   "outputs": [],
   "source": [
    "storage = Storage('one')"
   ]
  },
  {
   "cell_type": "code",
   "execution_count": null,
   "metadata": {
    "ExecuteTime": {
     "end_time": "2023-11-09T18:22:02.100369605Z",
     "start_time": "2023-11-09T18:22:01.513503176Z"
    }
   },
   "outputs": [],
   "source": [
    "storage[2]"
   ]
  },
  {
   "cell_type": "code",
   "execution_count": null,
   "metadata": {
    "ExecuteTime": {
     "end_time": "2023-11-09T18:22:02.100965196Z",
     "start_time": "2023-11-09T18:22:01.555278832Z"
    }
   },
   "outputs": [],
   "source": [
    "storage[2] = 3"
   ]
  },
  {
   "cell_type": "markdown",
   "metadata": {},
   "source": [
    "## self\n",
    "\n",
    "What is actually self? Nothing else than the object itself. However, we can rename it however we like.\n",
    "\n",
    "*Read the following well*\n",
    "If an instance is create of a class and a method is called on that instance, the _first_ argument to the method is the instance itself.\n",
    "**Fullstop**\n",
    "\n",
    "What are the consequences of this?"
   ]
  },
  {
   "cell_type": "code",
   "execution_count": null,
   "metadata": {
    "ExecuteTime": {
     "end_time": "2023-11-09T18:22:02.101169939Z",
     "start_time": "2023-11-09T18:22:01.555519700Z"
    }
   },
   "outputs": [],
   "source": [
    "class A:\n",
    "    def __init__(self, value):\n",
    "        self.value = value\n",
    "    \n",
    "    def add(self, y):\n",
    "        return self.value + y.value"
   ]
  },
  {
   "cell_type": "code",
   "execution_count": null,
   "metadata": {
    "ExecuteTime": {
     "end_time": "2023-11-09T18:22:02.101370435Z",
     "start_time": "2023-11-09T18:22:01.555728122Z"
    }
   },
   "outputs": [],
   "source": [
    "a = A(4)\n",
    "b = A(38)"
   ]
  },
  {
   "cell_type": "code",
   "execution_count": null,
   "metadata": {
    "ExecuteTime": {
     "end_time": "2023-11-09T18:22:02.101792662Z",
     "start_time": "2023-11-09T18:22:01.599103966Z"
    }
   },
   "outputs": [],
   "source": [
    "a.add(b)"
   ]
  },
  {
   "cell_type": "code",
   "execution_count": null,
   "metadata": {
    "ExecuteTime": {
     "end_time": "2023-11-09T18:22:02.104487019Z",
     "start_time": "2023-11-09T18:22:01.599306619Z"
    }
   },
   "outputs": [],
   "source": [
    "A.add(a, b)"
   ]
  },
  {
   "cell_type": "markdown",
   "metadata": {},
   "source": [
    "The latter works as well! Why not? `add` is a method that we call and we give it two arguments. Forgetting about class dynamics, it makes actually complete sense."
   ]
  },
  {
   "cell_type": "markdown",
   "metadata": {},
   "source": [
    "# Danger zone\n",
    "\n",
    "The following is only for fun and should _not_ be used in real live, except you do _really_ know what you're doing and at least two independent colleagues agree that this is the right way to go"
   ]
  },
  {
   "cell_type": "markdown",
   "metadata": {},
   "source": [
    "We have seen that basically everything is an operator and it has a dunder method. Everything? Quiz: what did we miss?"
   ]
  },
  {
   "cell_type": "markdown",
   "metadata": {},
   "source": [
    "Solution: the `.` the access operator. Yes, you guessed right. Let's override it"
   ]
  },
  {
   "cell_type": "markdown",
   "metadata": {},
   "source": [
    "First, where are actually all the attributes stored in a class?\n",
    "Answer: in the `__dict__` attribute."
   ]
  },
  {
   "cell_type": "code",
   "execution_count": null,
   "metadata": {
    "ExecuteTime": {
     "end_time": "2023-11-09T18:22:02.104939450Z",
     "start_time": "2023-11-09T18:22:01.599476172Z"
    }
   },
   "outputs": [],
   "source": [
    "a.__dict__"
   ]
  },
  {
   "cell_type": "markdown",
   "metadata": {},
   "source": [
    "Next quiz: where are the methods (_remark open_) stored?"
   ]
  },
  {
   "cell_type": "code",
   "execution_count": null,
   "metadata": {
    "ExecuteTime": {
     "end_time": "2023-11-09T18:22:02.106823366Z",
     "start_time": "2023-11-09T18:22:01.599607114Z"
    }
   },
   "outputs": [],
   "source": [
    "a.__class__.__dict__"
   ]
  },
  {
   "cell_type": "code",
   "execution_count": null,
   "metadata": {
    "ExecuteTime": {
     "end_time": "2023-11-09T18:22:02.107525732Z",
     "start_time": "2023-11-09T18:22:01.643176331Z"
    }
   },
   "outputs": [],
   "source": [
    "A.__dict__"
   ]
  },
  {
   "cell_type": "markdown",
   "metadata": {},
   "source": [
    "To be clear, there is nothing special about a value attribute and a method: the value attribute happened to be set on the _instance_ while the method happened to be set on the class. But we can have class attributes as well as (not really occuring in reality though) instance methods."
   ]
  },
  {
   "cell_type": "markdown",
   "metadata": {},
   "source": [
    "**Disclaimer: the following is EXTREMELY BAD CODING practices and should NEVER be seen in ANY real used code**"
   ]
  },
  {
   "cell_type": "code",
   "execution_count": null,
   "metadata": {
    "ExecuteTime": {
     "end_time": "2023-11-09T18:22:02.107832669Z",
     "start_time": "2023-11-09T18:22:01.643423445Z"
    }
   },
   "outputs": [],
   "source": [
    "class GetAndSet:\n",
    "    def __init__(self):\n",
    "        self.values = [1, 2, 3, 4, 5]\n",
    "    \n",
    "    def add(self, y):\n",
    "        return self.values[0] + y.values[1]\n",
    "    \n",
    "    def __getattr__(self, name):\n",
    "        if name in ('add', 'addition'):\n",
    "            return self.add\n",
    "        if name == 'hello':\n",
    "            print('I am 42')\n",
    "            \n",
    "    # we omit the __setattr__, but the game is the same\n",
    "    "
   ]
  },
  {
   "cell_type": "code",
   "execution_count": null,
   "metadata": {
    "ExecuteTime": {
     "end_time": "2023-11-09T18:22:02.108062078Z",
     "start_time": "2023-11-09T18:22:01.643613141Z"
    }
   },
   "outputs": [],
   "source": [
    "get = GetAndSet()"
   ]
  },
  {
   "cell_type": "code",
   "execution_count": null,
   "metadata": {
    "ExecuteTime": {
     "end_time": "2023-11-09T18:22:02.108503703Z",
     "start_time": "2023-11-09T18:22:01.643815676Z"
    }
   },
   "outputs": [],
   "source": [
    "get.add(get)"
   ]
  },
  {
   "cell_type": "code",
   "execution_count": null,
   "metadata": {
    "ExecuteTime": {
     "end_time": "2023-11-09T18:22:02.108799427Z",
     "start_time": "2023-11-09T18:22:01.644071731Z"
    }
   },
   "outputs": [],
   "source": [
    "get.addition(get)"
   ]
  },
  {
   "cell_type": "code",
   "execution_count": null,
   "metadata": {
    "ExecuteTime": {
     "end_time": "2023-11-09T18:22:02.109426819Z",
     "start_time": "2023-11-09T18:22:01.655190658Z"
    }
   },
   "outputs": [],
   "source": [
    "get.hello"
   ]
  },
  {
   "cell_type": "markdown",
   "metadata": {},
   "source": [
    "We can also provoke the same behavior by using the function `getattr` (or `setattr` respectively)"
   ]
  },
  {
   "cell_type": "code",
   "execution_count": null,
   "metadata": {
    "ExecuteTime": {
     "end_time": "2023-11-09T18:22:02.110263772Z",
     "start_time": "2023-11-09T18:22:01.662211437Z"
    }
   },
   "outputs": [],
   "source": [
    "getattr(get, 'hello')"
   ]
  },
  {
   "cell_type": "code",
   "execution_count": null,
   "metadata": {
    "ExecuteTime": {
     "end_time": "2023-11-09T18:22:02.110508234Z",
     "start_time": "2023-11-09T18:22:01.679854902Z"
    }
   },
   "outputs": [],
   "source": [
    "get.hi"
   ]
  },
  {
   "cell_type": "markdown",
   "metadata": {},
   "source": [
    "Quiz: why the above?"
   ]
  },
  {
   "cell_type": "markdown",
   "metadata": {},
   "source": [
    "Answer: Because the `__getattr__` that we called returns `None` (as any function/method does without an explicit `return`)"
   ]
  },
  {
   "cell_type": "code",
   "execution_count": null,
   "metadata": {
    "ExecuteTime": {
     "end_time": "2023-11-09T18:22:02.111369769Z",
     "start_time": "2023-11-09T18:22:01.685831397Z"
    }
   },
   "outputs": [],
   "source": [
    "import this"
   ]
  },
  {
   "cell_type": "markdown",
   "metadata": {},
   "source": [
    "And then there is the maybe most important sentence of all in Python:\n",
    "\n",
    "**We're all adults here.**\n",
    "\n",
    "Behave like one when coding ;)"
   ]
  }
 ],
 "metadata": {
  "kernelspec": {
   "display_name": "Python 3 (ipykernel)",
   "language": "python",
   "name": "python3"
  },
  "language_info": {
   "codemirror_mode": {
    "name": "ipython",
    "version": 3
   },
   "file_extension": ".py",
   "mimetype": "text/x-python",
   "name": "python",
   "nbconvert_exporter": "python",
   "pygments_lexer": "ipython3",
   "version": "3.9.7"
  }
 },
 "nbformat": 4,
 "nbformat_minor": 4
}
