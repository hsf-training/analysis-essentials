{
 "cells": [
  {
   "cell_type": "markdown",
   "metadata": {},
   "source": [
    "# Advanced Classes\n",
    "\n",
    "This tutorial focuses on the invocation of decorators, dunder methods and demystifies the operators in Python."
   ]
  },
  {
   "cell_type": "markdown",
   "metadata": {},
   "source": [
    "## Decorators"
   ]
  },
  {
   "cell_type": "markdown",
   "metadata": {},
   "source": [
    "Consider the following modification of our `Student` class:"
   ]
  },
  {
   "cell_type": "code",
   "execution_count": null,
   "metadata": {
    "jupyter": {
     "is_executing": true
    }
   },
   "outputs": [],
   "source": [
    "class Student:\n",
    "    \"\"\"Stores information about students.\"\"\"\n",
    "\n",
    "    def __init__(self, name):\n",
    "        self.name = name\n",
    "        self.homework_grades = []\n",
    "        self.exam_grades = []\n",
    "        self.extra_credit = None\n",
    "\n",
    "    @classmethod\n",
    "    def from_dict(cls, sdict):\n",
    "        \"\"\"Initialize a Student using the given dictionary.\"\"\"\n",
    "        student = cls(sdict['name'])\n",
    "        if 'homework_grades' in sdict:\n",
    "            student.homework_grades = sdict['homework_grades']\n",
    "        if 'exam_grades' in sdict:\n",
    "            student.exam_grades = sdict['exam_grades']\n",
    "        if 'extra_credit' in sdict:\n",
    "            student.extra_credit = sdict['extra_credit']\n",
    "        return student\n",
    "\n",
    "    @staticmethod\n",
    "    def avg(values):\n",
    "        return sum(values)/float(len(values))\n",
    "\n",
    "    @property\n",
    "    def homework_avg(self):\n",
    "        \"\"\"Average homework grade.\"\"\"\n",
    "        return self.avg(self.homework_grades)\n",
    "\n",
    "    @property\n",
    "    def exam_avg(self):\n",
    "        \"\"\"Average exam grade.\"\"\"\n",
    "        return self.avg(self.exam_grades)\n",
    "\n",
    "    @property\n",
    "    def gpa(self):\n",
    "        \"\"\"GPA (on a 4.0 scale).\"\"\"\n",
    "        scores = [self.homework_avg, self.exam_avg]\n",
    "        if self.extra_credit is not None:\n",
    "            scores.append(self.extra_credit)\n",
    "        return 4.0 * self.avg(scores)/100."
   ]
  },
  {
   "cell_type": "markdown",
   "metadata": {},
   "source": [
    "What are all of those things with `@` before the function definitions? And why don't the `from_dict` and `avg` methods not have `self` as their first arguments?!?\n",
    "\n",
    "The names beginning with `@`, such as `@classmethod`, are called *decorators*. Essentially, decorators are wrappers around functions that modify the behavior of that function. They can be used on any Python function, but they are most often seen in classes.\n",
    "\n",
    "Using and creating decorators is a large topic itself, the details of which we won't get into here (if you're interested, see [here](https://realpython.com/primer-on-python-decorators/) for an excellent tutorial). However, there are three predefined decorators in the Python `builtins` that often come up in class definitions that I want highlight here: `@classmethod`, `@staticmethod`, and `@property`."
   ]
  },
  {
   "cell_type": "markdown",
   "metadata": {},
   "source": [
    "### @classmethod"
   ]
  },
  {
   "cell_type": "markdown",
   "metadata": {},
   "source": [
    "The `@classmethod` decorator modifies methods so that instead of taking an *instance* of a class as the first argument (what we normally call `self`) it takes the *class itself* (which we normally call `cls`). This is typically used to provide a way to instantiate a class using alternate input arguments than what is defined in `__init__`. For example, say we had a dictionary that specifies all of the information about Susie:"
   ]
  },
  {
   "cell_type": "code",
   "execution_count": null,
   "metadata": {},
   "outputs": [],
   "source": [
    "susie_dict = {}\n",
    "susie_dict['name'] = 'Susie'\n",
    "susie_dict['homework_grades'] = [80., 73., 77., 50., 0.]\n",
    "susie_dict['exam_grades'] = [70., 63., 50.]"
   ]
  },
  {
   "cell_type": "markdown",
   "metadata": {},
   "source": [
    "We can now instantiate a `Student` representation of Susie using the `from_dict` method:"
   ]
  },
  {
   "cell_type": "code",
   "execution_count": null,
   "metadata": {},
   "outputs": [],
   "source": [
    "susie = Student.from_dict(susie_dict)\n",
    "\n",
    "print(susie.name)\n",
    "print(susie.homework_grades)\n",
    "print(susie.exam_grades)"
   ]
  },
  {
   "cell_type": "markdown",
   "metadata": {},
   "source": [
    "Notice that when we used `from_dict` we only provided the dictionary, even though the definition of `from_dict` had two arguments, `cls` and `sdict`. As with normal methods, `@classmethod` automatically adds in the class as the first argument."
   ]
  },
  {
   "cell_type": "markdown",
   "metadata": {},
   "source": [
    "### @staticmethod"
   ]
  },
  {
   "cell_type": "markdown",
   "metadata": {},
   "source": [
    "The `@staticmethod` decorator modifies methods so that the class instance `self` is *not* automatically added when the method is called. As a result, we do not need to reserve the first argument in the definition of a `@staticmethod`. We see that in the above example: `avg` takes a single argument `values`, which is a list of values to calculate an average for.\n",
    "\n",
    "Since methods wrapped with `@staticmethod` do not do any automatic substitutions, it's possible to use them without needing to create a class instance. For example:"
   ]
  },
  {
   "cell_type": "code",
   "execution_count": null,
   "metadata": {},
   "outputs": [],
   "source": [
    "Student.avg([60., 70.])"
   ]
  },
  {
   "cell_type": "markdown",
   "metadata": {},
   "source": [
    "In fact, we could have just defined `avg` outside of `Student` in the global namespace. In that case we would of called `avg(...)` instead of `self.avg(...)` inside of `Student`.\n",
    "\n",
    "So why use `@staticmethod`? Its main purpose is to provide a function that is heavily used by a class, but may have little meaning outside of the class. This can make code a easier to read and understand (\"[syntactic sugar](https://en.wikipedia.org/wiki/Syntactic_sugar)\"). Basically, `@staticmethod` is a way of logically organizing functions."
   ]
  },
  {
   "cell_type": "markdown",
   "metadata": {},
   "source": [
    "### @property"
   ]
  },
  {
   "cell_type": "markdown",
   "metadata": {},
   "source": [
    "The `@property` decorator is another form of syntactic sugar that modifies how a method is called. Basically, it makes a method look like an attribute.\n",
    "\n",
    "For example, in the above `homework_avg`, `exam_avg`, and `gpa` were all methods. Normally you would call them like `susie.gpa()` (as we did in the [Classes](#III.-Classes) section). However, because we stuck the `@property` decorator on each of these methods, we instead do:"
   ]
  },
  {
   "cell_type": "code",
   "execution_count": null,
   "metadata": {},
   "outputs": [],
   "source": [
    "susie.gpa"
   ]
  },
  {
   "cell_type": "markdown",
   "metadata": {},
   "source": [
    "In other words, we no longer include the `()` after the name. Note that `@property` **only works with methods that take no arguments.**\n",
    "\n",
    "The `@property` is used when we want to run some additional code under the hood when an attribute is accessed. It is typically paired with a \"setter\", which allows us to also run some code when an attribute is set. For example:"
   ]
  },
  {
   "cell_type": "code",
   "execution_count": null,
   "metadata": {},
   "outputs": [],
   "source": [
    "class Star:\n",
    "    _mass = None\n",
    "\n",
    "    @property\n",
    "    def mass(self):\n",
    "        if self._mass is None:\n",
    "            raise ValueError(\"no mass set\")\n",
    "        return self._mass\n",
    "\n",
    "    @mass.setter\n",
    "    def mass(self, value):\n",
    "        if value <= 0:\n",
    "            raise ValueError(\"mass must be > 0\")\n",
    "        self._mass = value"
   ]
  },
  {
   "cell_type": "code",
   "execution_count": null,
   "metadata": {},
   "outputs": [],
   "source": [
    "star = Star()"
   ]
  },
  {
   "cell_type": "code",
   "execution_count": null,
   "metadata": {},
   "outputs": [],
   "source": [
    "print(star.mass)"
   ]
  },
  {
   "cell_type": "code",
   "execution_count": null,
   "metadata": {},
   "outputs": [],
   "source": [
    "star.mass = 10.\n",
    "print(star.mass)"
   ]
  },
  {
   "cell_type": "code",
   "execution_count": null,
   "metadata": {},
   "outputs": [],
   "source": [
    "star2 = Star()\n",
    "star2.mass = -3"
   ]
  },
  {
   "cell_type": "markdown",
   "metadata": {},
   "source": [
    "## Dunder\n",
    "\n",
    "Dunder (**D**ouble **under**score) methods `__meth__` are names which are reserved for Python only and should not be invented by us (implemented; yes). Just to be precise, `__meth` is fine.\n",
    "\n",
    "These methods are used to delegate the actual operator call. When we invoke any operator (`+`, `==`, but also `()` and so on), the object that this is applied on is checked for a corresponding method. For the `+`, the object (on the left) is checked for a `__add__` method. If this is not found or return a `NotImplemented` either alternatives are tried or an error is raised if all possibilities are tried.\n",
    "\n",
    "Alternatives involve in this case to call the `__radd__` (**r**ight **add**) on the _object on the right_ **IF** the objects are of different types."
   ]
  },
  {
   "cell_type": "markdown",
   "metadata": {},
   "source": [
    "### len\n",
    "\n",
    "The `len` method simply checks if there is a `__len__` implemented."
   ]
  },
  {
   "cell_type": "markdown",
   "metadata": {},
   "source": [
    "### str\n",
    "\n",
    "To have a nice, representable, human readable string, `__str__` should be implemented. There is a similar one, which is `__repr__`. This is also a string representation of the object, yet more targeted towards the developers.\n",
    "\n",
    "If no `__str__` is provided, it falls back to `__repr__`, which, if not provided, uses a default implementation."
   ]
  },
  {
   "cell_type": "code",
   "execution_count": null,
   "metadata": {},
   "outputs": [],
   "source": [
    "class Name:\n",
    "    def __init__(self, name):\n",
    "        self.name = name\n",
    "        \n",
    "\n",
    "class NameRepr(Name):\n",
    "    def __repr__(self):\n",
    "        return self.name\n",
    "\n",
    "\n",
    "class NameStr(Name):\n",
    "    def __str__(self):\n",
    "        return f'I am {self.name}'\n",
    "    \n",
    "\n",
    "class NameStrRepr(NameStr, NameRepr):\n",
    "    pass"
   ]
  },
  {
   "cell_type": "markdown",
   "metadata": {},
   "source": [
    "**Exercise**: try it out by using `str(...)` and `repr(...)`"
   ]
  },
  {
   "cell_type": "markdown",
   "metadata": {},
   "source": [
    "### Callable\n",
    "\n",
    "In Python, a callable is any object that can be called. Calling an object means to have `(...)` attached behind it. This operator looks for a `__call__` method."
   ]
  },
  {
   "cell_type": "code",
   "execution_count": null,
   "metadata": {},
   "outputs": [],
   "source": [
    "class Callable:\n",
    "    def __call__(self, *args, **kwargs):\n",
    "        print(f\"called with args {args} and kwargs {kwargs}\")\n",
    "        \n",
    "\n",
    "class NotCallable:\n",
    "    pass"
   ]
  },
  {
   "cell_type": "code",
   "execution_count": null,
   "metadata": {},
   "outputs": [],
   "source": [
    "call = Callable()\n",
    "noncall = NotCallable()"
   ]
  },
  {
   "cell_type": "code",
   "execution_count": null,
   "metadata": {},
   "outputs": [],
   "source": [
    "call()"
   ]
  },
  {
   "cell_type": "code",
   "execution_count": null,
   "metadata": {},
   "outputs": [],
   "source": [
    "try:\n",
    "    noncall()\n",
    "except TypeError as error:\n",
    "    print(error)"
   ]
  },
  {
   "cell_type": "markdown",
   "metadata": {},
   "source": [
    "`TypeError: 'NotCallable' object is not callable` translates to `has no __call__ method`"
   ]
  },
  {
   "cell_type": "markdown",
   "metadata": {},
   "source": [
    "### Indexing (iterating)\n",
    "\n",
    "There are a few methods when it comes down to iteration. However, we won't go into these details but rather look at the normal indexing. That is controlled via `__getitem__` and `__setitem__` and invoked with the `[]` operator."
   ]
  },
  {
   "cell_type": "code",
   "execution_count": null,
   "metadata": {},
   "outputs": [],
   "source": [
    "class Storage:\n",
    "    def __init__(self, name):\n",
    "        self.name = name\n",
    "        self.container = [1, 5, 4]  # just for demonstration\n",
    "        \n",
    "    def __getitem__(self, index):\n",
    "        print(f\"getitem of {self.name} invoked with index {index}\")\n",
    "        return self.container[index]\n",
    "    \n",
    "    def __setitem__(self, index, item):\n",
    "        print(f\"setitem of {self.name} invoked with index {index} and item {item}\")\n",
    "        self.container[index] = item"
   ]
  },
  {
   "cell_type": "code",
   "execution_count": null,
   "metadata": {},
   "outputs": [],
   "source": [
    "storage = Storage('one')"
   ]
  },
  {
   "cell_type": "code",
   "execution_count": null,
   "metadata": {},
   "outputs": [],
   "source": [
    "storage[2]"
   ]
  },
  {
   "cell_type": "code",
   "execution_count": null,
   "metadata": {},
   "outputs": [],
   "source": [
    "storage[2] = 3"
   ]
  },
  {
   "cell_type": "markdown",
   "metadata": {},
   "source": [
    "## self\n",
    "\n",
    "What is actually self? Nothing else than the object itself. However, we can rename it however we like.\n",
    "\n",
    "*Read the following well*\n",
    "If an instance is create of a class and a method is called on that instance, the _first_ argument to the method is the instance itself.\n",
    "**Fullstop**\n",
    "\n",
    "What are the consequences of this?"
   ]
  },
  {
   "cell_type": "code",
   "execution_count": null,
   "metadata": {},
   "outputs": [],
   "source": [
    "class A:\n",
    "    def __init__(self, value):\n",
    "        self.value = value\n",
    "    \n",
    "    def add(self, y):\n",
    "        return self.value + y.value"
   ]
  },
  {
   "cell_type": "code",
   "execution_count": null,
   "metadata": {},
   "outputs": [],
   "source": [
    "a = A(4)\n",
    "b = A(38)"
   ]
  },
  {
   "cell_type": "code",
   "execution_count": null,
   "metadata": {},
   "outputs": [],
   "source": [
    "a.add(b)"
   ]
  },
  {
   "cell_type": "code",
   "execution_count": null,
   "metadata": {},
   "outputs": [],
   "source": [
    "A.add(a, b)"
   ]
  },
  {
   "cell_type": "markdown",
   "metadata": {},
   "source": [
    "The latter works as well! Why not? `add` is a method that we call and we give it two arguments. Forgetting about class dynamics, it makes actually complete sense."
   ]
  },
  {
   "cell_type": "markdown",
   "metadata": {},
   "source": [
    "## Naming conventions\n",
    "\n",
    "\n",
    "In Python, there are a number of conventions for naming variables, functions, and classes. These are not enforced by the Python interpreter, but are used to make code more readable and understandable.\n",
    "\n",
    "1. **Class names** should be in CamelCase (e.g., `MyClass`).\n",
    "2. **Constant names** should be in all caps with underscores separating words (e.g., `MY_CONSTANT`).\n",
    "3. Everything else should be in snake_case, that is, all lowercase with underscores separating words (e.g., `my_function`).\n",
    "\n",
    "For more details, see [PEP 8](https://www.python.org/dev/peps/pep-0008/), the official Python style guide."
   ]
  },
  {
   "cell_type": "markdown",
   "metadata": {},
   "source": [
    "Methods of classes have their own naming conventions, some of which have an actual effect on how the method is treated by Python. There are four types:\n",
    "  - **Public methods** are those that are part of the class's public API. These should be in snake_case, for example, `A.my_method()`.\n",
    "  - **Private methods** are those that are only to be used within the class. These should begin with an underscore, for example, `_my_private_method()`. This is a convention only; Python does not enforce privacy. These methods should not be used as they can be changed without notice. The use-case to _actually_ use them is usually to \"hack\" something.\n",
    "  - **Double private** are methods that begin and end with double underscores. These are not only private but their name is mangled (with a `_class` prepended, where `class` is the actual class name), which is a way of making it difficult to override a method in a subclass. They can, technically, still be called, but it is made purposefully difficult. For example, `__my_double_private_method()` (calling it from the _outside_ will be `_MyClass__my_double_private_method()`).\n",
    "  -  **Dunder or magic methods** are methods that are called by Python in response to certain events. They always begin *and* end with double underscores. For example, `__init__` is called when an instance of a class is created. Others include `__str__`, `__add__`, `__len__`, etc. For more on these, see [here](https://rszalski.github.io/magicmethods/). They are reserved for Python's internal use and should not be defined by the user."
   ]
  },
  {
   "cell_type": "code",
   "execution_count": null,
   "metadata": {},
   "outputs": [],
   "source": [
    "class A:\n",
    "    def plus(self):\n",
    "        print(\"plus\")\n",
    "\n",
    "    def _plus(self):\n",
    "        print(\"_plus\")\n",
    "\n",
    "    def __plus(self):\n",
    "        print(\"__plus\")\n",
    "\n",
    "    def __init__(self):\n",
    "        print(\"init\")\n",
    "\n",
    "    def __str__(self):\n",
    "        return \"HELLO\""
   ]
  },
  {
   "cell_type": "code",
   "execution_count": null,
   "metadata": {},
   "outputs": [],
   "source": [
    "a = A()\n",
    "a.plus()\n",
    "a._plus()\n",
    "a._A__plus()  # notice the mangled name! a.__plus() would not work"
   ]
  },
  {
   "cell_type": "code",
   "execution_count": null,
   "metadata": {},
   "outputs": [],
   "source": [
    "class NamedValue:\n",
    "    def __init__(self, name):\n",
    "        self.name = name\n",
    "\n",
    "\n",
    "class ValueLeft(NamedValue):\n",
    "    def __add__(self, other):\n",
    "        print(f\"add called on {self.name}\")\n",
    "        return 42\n",
    "\n",
    "\n",
    "class ValueRight(NamedValue):\n",
    "    def __radd__(self, other):\n",
    "        print(f\"radd called on {self.name}\")\n",
    "        return 24\n",
    "\n",
    "\n",
    "class Value(ValueRight, ValueLeft):\n",
    "    pass"
   ]
  },
  {
   "cell_type": "markdown",
   "metadata": {},
   "source": [
    "**Exercise**: which one can we add and which raise an error? Think or try it out!"
   ]
  },
  {
   "cell_type": "code",
   "execution_count": null,
   "metadata": {},
   "outputs": [],
   "source": [
    "valleft = ValueLeft('val left')\n",
    "valleft2 = ValueLeft('val left2')"
   ]
  },
  {
   "cell_type": "code",
   "execution_count": null,
   "metadata": {},
   "outputs": [],
   "source": [
    "valleft + valleft2"
   ]
  },
  {
   "cell_type": "markdown",
   "metadata": {},
   "source": [
    "## Danger zone\n",
    "\n",
    "The following is only for fun and should _not_ be used in real live, except you do _really_ know what you're doing and at least two independent colleagues agree that this is the right way to go"
   ]
  },
  {
   "cell_type": "markdown",
   "metadata": {},
   "source": [
    "We have seen that basically everything is an operator and it has a dunder method. Everything? Quiz: what did we miss?"
   ]
  },
  {
   "cell_type": "markdown",
   "metadata": {},
   "source": [
    "Solution: the `.` the access operator. Yes, you guessed right. Let's override it"
   ]
  },
  {
   "cell_type": "markdown",
   "metadata": {},
   "source": [
    "First, where are actually all the attributes stored in a class?\n",
    "Answer: in the `__dict__` attribute."
   ]
  },
  {
   "cell_type": "code",
   "execution_count": null,
   "metadata": {},
   "outputs": [],
   "source": [
    "a.__dict__"
   ]
  },
  {
   "cell_type": "markdown",
   "metadata": {},
   "source": [
    "Next quiz: where are the methods (_remark open_) stored?"
   ]
  },
  {
   "cell_type": "code",
   "execution_count": null,
   "metadata": {},
   "outputs": [],
   "source": [
    "a.__class__.__dict__"
   ]
  },
  {
   "cell_type": "code",
   "execution_count": null,
   "metadata": {},
   "outputs": [],
   "source": [
    "A.__dict__"
   ]
  },
  {
   "cell_type": "markdown",
   "metadata": {},
   "source": [
    "To be clear, there is nothing special about a value attribute and a method: the value attribute happened to be set on the _instance_ while the method happened to be set on the class. But we can have class attributes as well as (not really occuring in reality though) instance methods."
   ]
  },
  {
   "cell_type": "markdown",
   "metadata": {},
   "source": [
    "**Disclaimer: the following is EXTREMELY BAD CODING practices and should NEVER be seen in ANY real used code**"
   ]
  },
  {
   "cell_type": "code",
   "execution_count": null,
   "metadata": {},
   "outputs": [],
   "source": [
    "class GetAndSet:\n",
    "    def __init__(self):\n",
    "        self.values = [1, 2, 3, 4, 5]\n",
    "    \n",
    "    def add(self, y):\n",
    "        return self.values[0] + y.values[1]\n",
    "    \n",
    "    def __getattr__(self, name):\n",
    "        if name in ('add', 'addition'):\n",
    "            return self.add\n",
    "        if name == 'hello':\n",
    "            print('I am 42')\n",
    "            \n",
    "    # we omit the __setattr__, but the game is the same\n",
    "    "
   ]
  },
  {
   "cell_type": "code",
   "execution_count": null,
   "metadata": {},
   "outputs": [],
   "source": [
    "get = GetAndSet()"
   ]
  },
  {
   "cell_type": "code",
   "execution_count": null,
   "metadata": {},
   "outputs": [],
   "source": [
    "get.add(get)"
   ]
  },
  {
   "cell_type": "code",
   "execution_count": null,
   "metadata": {},
   "outputs": [],
   "source": [
    "get.addition(get)"
   ]
  },
  {
   "cell_type": "code",
   "execution_count": null,
   "metadata": {},
   "outputs": [],
   "source": [
    "get.hello"
   ]
  },
  {
   "cell_type": "markdown",
   "metadata": {},
   "source": [
    "We can also provoke the same behavior by using the function `getattr` (or `setattr` respectively)"
   ]
  },
  {
   "cell_type": "code",
   "execution_count": null,
   "metadata": {},
   "outputs": [],
   "source": [
    "getattr(get, 'hello')"
   ]
  },
  {
   "cell_type": "code",
   "execution_count": null,
   "metadata": {},
   "outputs": [],
   "source": [
    "get.hi"
   ]
  },
  {
   "cell_type": "markdown",
   "metadata": {},
   "source": [
    "Quiz: why the above?"
   ]
  },
  {
   "cell_type": "markdown",
   "metadata": {},
   "source": [
    "Answer: Because the `__getattr__` that we called returns `None` (as any function/method does without an explicit `return`)"
   ]
  },
  {
   "cell_type": "code",
   "execution_count": null,
   "metadata": {},
   "outputs": [],
   "source": [
    "import this"
   ]
  },
  {
   "cell_type": "markdown",
   "metadata": {},
   "source": [
    "And then there is the maybe most important sentence of all in Python:\n",
    "\n",
    "**We're all adults here.**\n",
    "\n",
    "Behave like one when coding ;)"
   ]
  }
 ],
 "metadata": {
  "language_info": {
   "codemirror_mode": {
    "name": "ipython"
   },
   "file_extension": ".py",
   "mimetype": "text/x-python",
   "name": "python",
   "nbconvert_exporter": "python"
  }
 },
 "nbformat": 4,
 "nbformat_minor": 4
}
