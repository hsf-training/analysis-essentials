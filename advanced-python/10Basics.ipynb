{
 "cells": [
  {
   "cell_type": "markdown",
   "metadata": {},
   "source": [
    "# 1: Basics"
   ]
  },
  {
   "cell_type": "markdown",
   "metadata": {},
   "source": [
    "In this Advanced Python Tutorial we will cover some useful python skills and tips. The lessons are as follows:\n",
    "\n",
    "* Basics\n",
    "* Loading data and plotting with matplotlib\n",
    "* Cut based selction\n",
    "* Multivariate Analysis with Scikit Learn\n",
    "* uBoost with hep_ml\n",
    "* Neural Network Demo\n",
    "* Mutivariate kinematic reweighting\n",
    "* The sPlot technique\n",
    "\n",
    "The first lesson will be on some python basics:\n",
    "\n",
    "* Mutable and immutable objects in python\n",
    "* List and dictionaries and comprehensions\n",
    "* Writing code in markdown\n",
    "* Jupyter notebook basics\n",
    "* Importing moduels"
   ]
  },
  {
   "cell_type": "markdown",
   "metadata": {},
   "source": [
    "## Basics"
   ]
  },
  {
   "cell_type": "markdown",
   "metadata": {},
   "source": [
    "**Mutability**\n",
    "\n",
    "* Let's start by comparing some **mutable** and **immutable** objects.\n",
    "* In python lists and strings are **mutable** and tuples are **immutable**.\n",
    "* What happens when you run the code below?"
   ]
  },
  {
   "cell_type": "code",
   "execution_count": 1,
   "metadata": {
    "execution": {
     "iopub.execute_input": "2024-02-14T15:59:15.579597Z",
     "iopub.status.busy": "2024-02-14T15:59:15.579438Z",
     "iopub.status.idle": "2024-02-14T15:59:15.585012Z",
     "shell.execute_reply": "2024-02-14T15:59:15.584516Z"
    }
   },
   "outputs": [
    {
     "name": "stdout",
     "output_type": "stream",
     "text": [
      "['a', 'hello', 'c']\n",
      "['a', 'hello', 'c']\n"
     ]
    }
   ],
   "source": [
    "a = ['a', 'b', 'c']\n",
    "b = a\n",
    "b[1] = 'hello'\n",
    "\n",
    "print(a)\n",
    "print(b)"
   ]
  },
  {
   "cell_type": "code",
   "execution_count": 2,
   "metadata": {
    "execution": {
     "iopub.execute_input": "2024-02-14T15:59:15.611268Z",
     "iopub.status.busy": "2024-02-14T15:59:15.610943Z",
     "iopub.status.idle": "2024-02-14T15:59:15.613814Z",
     "shell.execute_reply": "2024-02-14T15:59:15.613322Z"
    }
   },
   "outputs": [
    {
     "name": "stdout",
     "output_type": "stream",
     "text": [
      "{'a': '0', 'b': 'hello', 'c': '2'}\n",
      "{'a': '0', 'b': 'hello', 'c': '2'}\n"
     ]
    }
   ],
   "source": [
    "a = {'a': '0', 'b': '1', 'c': '2'}\n",
    "b = a\n",
    "b['b'] = 'hello'\n",
    "\n",
    "print(a)\n",
    "print(b)"
   ]
  },
  {
   "cell_type": "code",
   "execution_count": 3,
   "metadata": {
    "execution": {
     "iopub.execute_input": "2024-02-14T15:59:15.615670Z",
     "iopub.status.busy": "2024-02-14T15:59:15.615372Z",
     "iopub.status.idle": "2024-02-14T15:59:15.618106Z",
     "shell.execute_reply": "2024-02-14T15:59:15.617652Z"
    }
   },
   "outputs": [
    {
     "name": "stdout",
     "output_type": "stream",
     "text": [
      "foo\n",
      "bar\n"
     ]
    }
   ],
   "source": [
    "a = 'foo'\n",
    "b = 'bar'\n",
    "for c in [a, b]:\n",
    "    c += '!'\n",
    "\n",
    "print(a)\n",
    "print(b)"
   ]
  },
  {
   "cell_type": "markdown",
   "metadata": {},
   "source": [
    "**List comprehensions**"
   ]
  },
  {
   "cell_type": "code",
   "execution_count": 4,
   "metadata": {
    "execution": {
     "iopub.execute_input": "2024-02-14T15:59:15.619877Z",
     "iopub.status.busy": "2024-02-14T15:59:15.619582Z",
     "iopub.status.idle": "2024-02-14T15:59:15.622577Z",
     "shell.execute_reply": "2024-02-14T15:59:15.622180Z"
    }
   },
   "outputs": [
    {
     "name": "stdout",
     "output_type": "stream",
     "text": [
      "Sum of squares for 10 is 285\n"
     ]
    }
   ],
   "source": [
    "N = 10\n",
    "\n",
    "list_of_squares = [i**2 for i in range(N)]\n",
    "sum_of_squares = sum(list_of_squares)\n",
    "\n",
    "print('Sum of squares for', N, 'is', sum_of_squares)"
   ]
  },
  {
   "cell_type": "markdown",
   "metadata": {},
   "source": [
    "**Dictionary comprehensions**"
   ]
  },
  {
   "cell_type": "code",
   "execution_count": 5,
   "metadata": {
    "execution": {
     "iopub.execute_input": "2024-02-14T15:59:15.624410Z",
     "iopub.status.busy": "2024-02-14T15:59:15.624009Z",
     "iopub.status.idle": "2024-02-14T15:59:15.626937Z",
     "shell.execute_reply": "2024-02-14T15:59:15.626541Z"
    }
   },
   "outputs": [
    {
     "name": "stdout",
     "output_type": "stream",
     "text": [
      "{0: 0, 1: 1, 2: 4, 3: 9, 4: 16, 5: 25, 6: 36, 7: 49, 8: 64, 9: 81}\n"
     ]
    }
   ],
   "source": [
    "squares = {i: i**2 for i in range(10)}\n",
    "print(squares)"
   ]
  },
  {
   "cell_type": "code",
   "execution_count": 6,
   "metadata": {
    "execution": {
     "iopub.execute_input": "2024-02-14T15:59:15.628543Z",
     "iopub.status.busy": "2024-02-14T15:59:15.628385Z",
     "iopub.status.idle": "2024-02-14T15:59:15.630993Z",
     "shell.execute_reply": "2024-02-14T15:59:15.630549Z"
    }
   },
   "outputs": [
    {
     "name": "stdout",
     "output_type": "stream",
     "text": [
      "The square of 5 is 25\n"
     ]
    }
   ],
   "source": [
    "N = 5\n",
    "print('The square of', N, 'is', squares[N])"
   ]
  },
  {
   "cell_type": "markdown",
   "metadata": {},
   "source": [
    "## Markdown"
   ]
  },
  {
   "cell_type": "markdown",
   "metadata": {},
   "source": [
    "Write comments inline about your code:\n",
    "\n",
    "Use LaTeX:\n",
    "\n",
    "$A = \\frac{1}{B+C}$\n",
    "\n",
    "Show lists:\n",
    "\n",
    "* A wonderful\n",
    "* List\n",
    "* This is\n",
    "\n",
    "Show code with syntax highlighting:\n",
    "\n",
    "**Python:** (but in a sad grey world)\n",
    "\n",
    "```\n",
    "print('Hello world')\n",
    "```\n",
    "\n",
    "**Python:**\n",
    "\n",
    "```python\n",
    "print('Hello world')\n",
    "```\n",
    "\n",
    "**C++:**\n",
    "\n",
    "```cpp\n",
    "#include <iostream>\n",
    "\n",
    "std::cout << \"Hello world\" << std::endl;\n",
    "```\n",
    "\n",
    "**Bash:**\n",
    "\n",
    "```bash\n",
    "echo \"Hello world\"\n",
    "```"
   ]
  },
  {
   "cell_type": "markdown",
   "metadata": {},
   "source": [
    "**f-strings**"
   ]
  },
  {
   "cell_type": "code",
   "execution_count": 7,
   "metadata": {
    "execution": {
     "iopub.execute_input": "2024-02-14T15:59:15.632662Z",
     "iopub.status.busy": "2024-02-14T15:59:15.632508Z",
     "iopub.status.idle": "2024-02-14T15:59:15.635436Z",
     "shell.execute_reply": "2024-02-14T15:59:15.635044Z"
    }
   },
   "outputs": [
    {
     "name": "stdout",
     "output_type": "stream",
     "text": [
      "(PT > 1789.23) & (2 < ETA < 5)\n"
     ]
    }
   ],
   "source": [
    "pt_cut = 1789.234567890987654\n",
    "eta_low = 2\n",
    "eta_high = 5\n",
    "\n",
    "cut_string = f'(PT > {pt_cut:.2f}) & ({eta_low} < ETA < {eta_high})'\n",
    "print(cut_string)"
   ]
  },
  {
   "cell_type": "markdown",
   "metadata": {},
   "source": [
    "## Jupyter\n",
    "\n",
    "Jupyter has some very useful features included that can help make trying things out faster..."
   ]
  },
  {
   "cell_type": "markdown",
   "metadata": {},
   "source": [
    "Cells have a return value which is shown after the finish runing if it's not `None`:"
   ]
  },
  {
   "cell_type": "code",
   "execution_count": 8,
   "metadata": {
    "execution": {
     "iopub.execute_input": "2024-02-14T15:59:15.637024Z",
     "iopub.status.busy": "2024-02-14T15:59:15.636865Z",
     "iopub.status.idle": "2024-02-14T15:59:15.641430Z",
     "shell.execute_reply": "2024-02-14T15:59:15.640999Z"
    }
   },
   "outputs": [
    {
     "data": {
      "text/plain": [
       "'Hello starterkitters'"
      ]
     },
     "execution_count": 8,
     "metadata": {},
     "output_type": "execute_result"
    }
   ],
   "source": [
    "\"Hello starterkitters\""
   ]
  },
  {
   "cell_type": "code",
   "execution_count": 9,
   "metadata": {
    "execution": {
     "iopub.execute_input": "2024-02-14T15:59:15.643320Z",
     "iopub.status.busy": "2024-02-14T15:59:15.642981Z",
     "iopub.status.idle": "2024-02-14T15:59:15.645195Z",
     "shell.execute_reply": "2024-02-14T15:59:15.644837Z"
    }
   },
   "outputs": [],
   "source": [
    "None"
   ]
  },
  {
   "cell_type": "markdown",
   "metadata": {},
   "source": [
    "Run a shell command:"
   ]
  },
  {
   "cell_type": "code",
   "execution_count": 10,
   "metadata": {
    "execution": {
     "iopub.execute_input": "2024-02-14T15:59:15.646853Z",
     "iopub.status.busy": "2024-02-14T15:59:15.646697Z",
     "iopub.status.idle": "2024-02-14T15:59:15.774722Z",
     "shell.execute_reply": "2024-02-14T15:59:15.774210Z"
    }
   },
   "outputs": [
    {
     "name": "stdout",
     "output_type": "stream",
     "text": [
      "10Basics.ipynb\t\t\t 33ModelTuning.ipynb\r\n",
      "11AdvancedPython.ipynb\t\t 40Histograms.ipynb\r\n",
      "12AdvancedClasses.ipynb\t\t 45DemoReweighting.ipynb\r\n",
      "20DataAndPlotting.ipynb\t\t 50LikelihoodInference.ipynb\r\n",
      "30Classification.ipynb\t\t 60sPlot.ipynb\r\n",
      "31ClassificationExtension.ipynb  70ScikitHEPUniverse.ipynb\r\n",
      "32BoostingToUniformity.ipynb\t README.md\r\n"
     ]
    }
   ],
   "source": [
    "!ls"
   ]
  },
  {
   "cell_type": "code",
   "execution_count": 11,
   "metadata": {
    "execution": {
     "iopub.execute_input": "2024-02-14T15:59:15.777048Z",
     "iopub.status.busy": "2024-02-14T15:59:15.776701Z",
     "iopub.status.idle": "2024-02-14T15:59:15.941462Z",
     "shell.execute_reply": "2024-02-14T15:59:15.940839Z"
    }
   },
   "outputs": [
    {
     "name": "stdout",
     "output_type": "stream",
     "text": [
      "--2024-02-14 15:59:15--  https://example.com/index.html\r\n",
      "Resolving example.com (example.com)... 93.184.216.34, 2606:2800:220:1:248:1893:25c8:1946\r\n",
      "Connecting to example.com (example.com)|93.184.216.34|:443... connected.\r\n",
      "HTTP request sent, awaiting response... 200 OK\r\n",
      "Length: 1256 (1.2K) [text/html]\r\n",
      "Saving to: ‘index.html’\r\n",
      "\r\n",
      "\r",
      "index.html            0%[                    ]       0  --.-KB/s               \r",
      "index.html          100%[===================>]   1.23K  --.-KB/s    in 0s      \r\n",
      "\r\n",
      "2024-02-14 15:59:15 (75.1 MB/s) - ‘index.html’ saved [1256/1256]\r\n",
      "\r\n"
     ]
    }
   ],
   "source": [
    "!wget https://example.com/index.html"
   ]
  },
  {
   "cell_type": "markdown",
   "metadata": {},
   "source": [
    "Time how long something takes for one line:"
   ]
  },
  {
   "cell_type": "code",
   "execution_count": 12,
   "metadata": {
    "execution": {
     "iopub.execute_input": "2024-02-14T15:59:15.944157Z",
     "iopub.status.busy": "2024-02-14T15:59:15.943725Z",
     "iopub.status.idle": "2024-02-14T15:59:15.948969Z",
     "shell.execute_reply": "2024-02-14T15:59:15.948488Z"
    }
   },
   "outputs": [
    {
     "name": "stdout",
     "output_type": "stream",
     "text": [
      "CPU times: user 597 µs, sys: 0 ns, total: 597 µs\n",
      "Wall time: 602 µs\n"
     ]
    },
    {
     "data": {
      "text/plain": [
       "333283335000"
      ]
     },
     "execution_count": 12,
     "metadata": {},
     "output_type": "execute_result"
    }
   ],
   "source": [
    "%time sum([i**2 for i in range(10000)])"
   ]
  },
  {
   "cell_type": "markdown",
   "metadata": {},
   "source": [
    "Time how long an entire cell takes:"
   ]
  },
  {
   "cell_type": "code",
   "execution_count": 13,
   "metadata": {
    "execution": {
     "iopub.execute_input": "2024-02-14T15:59:15.950835Z",
     "iopub.status.busy": "2024-02-14T15:59:15.950520Z",
     "iopub.status.idle": "2024-02-14T15:59:15.955403Z",
     "shell.execute_reply": "2024-02-14T15:59:15.954999Z"
    }
   },
   "outputs": [
    {
     "name": "stdout",
     "output_type": "stream",
     "text": [
      "CPU times: user 1.08 ms, sys: 223 µs, total: 1.3 ms\n",
      "Wall time: 1.31 ms\n"
     ]
    }
   ],
   "source": [
    "%%time\n",
    "a = sum([i**2 for i in range(10000)])\n",
    "b = sum([i**2 for i in range(10000)])\n",
    "c = sum([i**2 for i in range(10000)])"
   ]
  },
  {
   "cell_type": "markdown",
   "metadata": {
    "slideshow": {
     "slide_type": "slide"
    }
   },
   "source": [
    "If something takes longer than you expect, you can profile it to find out where it spends it's time:"
   ]
  },
  {
   "cell_type": "raw",
   "metadata": {},
   "source": [
    "# Maybe skip this\n",
    "%%prun -s cumtime\n",
    "a = sum([np.sqrt(i) for i in range(100000)])"
   ]
  },
  {
   "cell_type": "markdown",
   "metadata": {},
   "source": [
    "Jupyter also makes it easy to look at documentation, just add a question mark to the end of the line"
   ]
  },
  {
   "cell_type": "code",
   "execution_count": 14,
   "metadata": {
    "execution": {
     "iopub.execute_input": "2024-02-14T15:59:15.957202Z",
     "iopub.status.busy": "2024-02-14T15:59:15.957053Z",
     "iopub.status.idle": "2024-02-14T15:59:15.959257Z",
     "shell.execute_reply": "2024-02-14T15:59:15.958903Z"
    }
   },
   "outputs": [],
   "source": [
    "def my_print(my_string):\n",
    "    print(my_string)"
   ]
  },
  {
   "cell_type": "code",
   "execution_count": 15,
   "metadata": {
    "execution": {
     "iopub.execute_input": "2024-02-14T15:59:15.960935Z",
     "iopub.status.busy": "2024-02-14T15:59:15.960652Z",
     "iopub.status.idle": "2024-02-14T15:59:15.988192Z",
     "shell.execute_reply": "2024-02-14T15:59:15.987734Z"
    }
   },
   "outputs": [],
   "source": [
    "my_print?"
   ]
  },
  {
   "cell_type": "markdown",
   "metadata": {},
   "source": [
    "Two question marks allows you to see the code that is in the function"
   ]
  },
  {
   "cell_type": "code",
   "execution_count": 16,
   "metadata": {
    "execution": {
     "iopub.execute_input": "2024-02-14T15:59:15.990258Z",
     "iopub.status.busy": "2024-02-14T15:59:15.989977Z",
     "iopub.status.idle": "2024-02-14T15:59:15.993842Z",
     "shell.execute_reply": "2024-02-14T15:59:15.993346Z"
    }
   },
   "outputs": [],
   "source": [
    "my_print??"
   ]
  },
  {
   "cell_type": "code",
   "execution_count": 17,
   "metadata": {
    "execution": {
     "iopub.execute_input": "2024-02-14T15:59:15.995704Z",
     "iopub.status.busy": "2024-02-14T15:59:15.995337Z",
     "iopub.status.idle": "2024-02-14T15:59:15.999026Z",
     "shell.execute_reply": "2024-02-14T15:59:15.998619Z"
    }
   },
   "outputs": [],
   "source": [
    "range?"
   ]
  },
  {
   "cell_type": "markdown",
   "metadata": {},
   "source": [
    "Note that this is done without running the actual line of code so sometimes you need to use a junk variable to make it work"
   ]
  },
  {
   "cell_type": "code",
   "execution_count": 18,
   "metadata": {
    "execution": {
     "iopub.execute_input": "2024-02-14T15:59:16.000778Z",
     "iopub.status.busy": "2024-02-14T15:59:16.000496Z",
     "iopub.status.idle": "2024-02-14T15:59:16.003363Z",
     "shell.execute_reply": "2024-02-14T15:59:16.002953Z"
    }
   },
   "outputs": [
    {
     "name": "stdout",
     "output_type": "stream",
     "text": [
      "Object `get` not found.\n"
     ]
    }
   ],
   "source": [
    "{'a': 'b'}.get?"
   ]
  },
  {
   "cell_type": "code",
   "execution_count": 19,
   "metadata": {
    "execution": {
     "iopub.execute_input": "2024-02-14T15:59:16.005190Z",
     "iopub.status.busy": "2024-02-14T15:59:16.004830Z",
     "iopub.status.idle": "2024-02-14T15:59:16.008339Z",
     "shell.execute_reply": "2024-02-14T15:59:16.007952Z"
    }
   },
   "outputs": [
    {
     "data": {
      "text/plain": [
       "<function dict.get(key, default=None, /)>"
      ]
     },
     "execution_count": 19,
     "metadata": {},
     "output_type": "execute_result"
    }
   ],
   "source": [
    "{'a': 'b'}.get"
   ]
  },
  {
   "cell_type": "code",
   "execution_count": 20,
   "metadata": {
    "execution": {
     "iopub.execute_input": "2024-02-14T15:59:16.010037Z",
     "iopub.status.busy": "2024-02-14T15:59:16.009777Z",
     "iopub.status.idle": "2024-02-14T15:59:16.013056Z",
     "shell.execute_reply": "2024-02-14T15:59:16.012589Z"
    }
   },
   "outputs": [],
   "source": [
    "junk = {'a': 'b'}.get\n",
    "junk?"
   ]
  },
  {
   "cell_type": "markdown",
   "metadata": {},
   "source": [
    "## Importing modules"
   ]
  },
  {
   "cell_type": "markdown",
   "metadata": {},
   "source": [
    "* It is good practice to import all modules at the beginning of your python script or notebook\n",
    "* Avoid using **wildcard imports** as you it makes it unclear where things come from: for example ```from math import *```\n",
    "* Below we now have two ```max``` functions and trying to use ```max``` will return an error"
   ]
  },
  {
   "cell_type": "code",
   "execution_count": 21,
   "metadata": {
    "execution": {
     "iopub.execute_input": "2024-02-14T15:59:16.014885Z",
     "iopub.status.busy": "2024-02-14T15:59:16.014586Z",
     "iopub.status.idle": "2024-02-14T15:59:16.017830Z",
     "shell.execute_reply": "2024-02-14T15:59:16.017352Z"
    }
   },
   "outputs": [
    {
     "data": {
      "text/plain": [
       "15"
      ]
     },
     "execution_count": 21,
     "metadata": {},
     "output_type": "execute_result"
    }
   ],
   "source": [
    "max(10, 15)"
   ]
  },
  {
   "cell_type": "code",
   "execution_count": 22,
   "metadata": {
    "execution": {
     "iopub.execute_input": "2024-02-14T15:59:16.019702Z",
     "iopub.status.busy": "2024-02-14T15:59:16.019402Z",
     "iopub.status.idle": "2024-02-14T15:59:16.260062Z",
     "shell.execute_reply": "2024-02-14T15:59:16.259622Z"
    },
    "tags": [
     "raises-exception"
    ]
   },
   "outputs": [
    {
     "ename": "AxisError",
     "evalue": "axis 15 is out of bounds for array of dimension 0",
     "output_type": "error",
     "traceback": [
      "\u001b[0;31m---------------------------------------------------------------------------\u001b[0m",
      "\u001b[0;31mAxisError\u001b[0m                                 Traceback (most recent call last)",
      "Cell \u001b[0;32mIn[22], line 3\u001b[0m\n\u001b[1;32m      1\u001b[0m \u001b[38;5;28;01mfrom\u001b[39;00m \u001b[38;5;21;01mnumpy\u001b[39;00m \u001b[38;5;28;01mimport\u001b[39;00m \u001b[38;5;28mmax\u001b[39m\n\u001b[0;32m----> 3\u001b[0m \u001b[38;5;28;43mmax\u001b[39;49m\u001b[43m(\u001b[49m\u001b[38;5;241;43m10\u001b[39;49m\u001b[43m,\u001b[49m\u001b[43m \u001b[49m\u001b[38;5;241;43m15\u001b[39;49m\u001b[43m)\u001b[49m\n",
      "File \u001b[0;32m/usr/share/miniconda/envs/analysis-essentials/lib/python3.11/site-packages/numpy/core/fromnumeric.py:2810\u001b[0m, in \u001b[0;36mmax\u001b[0;34m(a, axis, out, keepdims, initial, where)\u001b[0m\n\u001b[1;32m   2692\u001b[0m \u001b[38;5;129m@array_function_dispatch\u001b[39m(_max_dispatcher)\n\u001b[1;32m   2693\u001b[0m \u001b[38;5;129m@set_module\u001b[39m(\u001b[38;5;124m'\u001b[39m\u001b[38;5;124mnumpy\u001b[39m\u001b[38;5;124m'\u001b[39m)\n\u001b[1;32m   2694\u001b[0m \u001b[38;5;28;01mdef\u001b[39;00m \u001b[38;5;21mmax\u001b[39m(a, axis\u001b[38;5;241m=\u001b[39m\u001b[38;5;28;01mNone\u001b[39;00m, out\u001b[38;5;241m=\u001b[39m\u001b[38;5;28;01mNone\u001b[39;00m, keepdims\u001b[38;5;241m=\u001b[39mnp\u001b[38;5;241m.\u001b[39m_NoValue, initial\u001b[38;5;241m=\u001b[39mnp\u001b[38;5;241m.\u001b[39m_NoValue,\n\u001b[1;32m   2695\u001b[0m          where\u001b[38;5;241m=\u001b[39mnp\u001b[38;5;241m.\u001b[39m_NoValue):\n\u001b[1;32m   2696\u001b[0m \u001b[38;5;250m    \u001b[39m\u001b[38;5;124;03m\"\"\"\u001b[39;00m\n\u001b[1;32m   2697\u001b[0m \u001b[38;5;124;03m    Return the maximum of an array or maximum along an axis.\u001b[39;00m\n\u001b[1;32m   2698\u001b[0m \n\u001b[0;32m   (...)\u001b[0m\n\u001b[1;32m   2808\u001b[0m \u001b[38;5;124;03m    5\u001b[39;00m\n\u001b[1;32m   2809\u001b[0m \u001b[38;5;124;03m    \"\"\"\u001b[39;00m\n\u001b[0;32m-> 2810\u001b[0m     \u001b[38;5;28;01mreturn\u001b[39;00m \u001b[43m_wrapreduction\u001b[49m\u001b[43m(\u001b[49m\u001b[43ma\u001b[49m\u001b[43m,\u001b[49m\u001b[43m \u001b[49m\u001b[43mnp\u001b[49m\u001b[38;5;241;43m.\u001b[39;49m\u001b[43mmaximum\u001b[49m\u001b[43m,\u001b[49m\u001b[43m \u001b[49m\u001b[38;5;124;43m'\u001b[39;49m\u001b[38;5;124;43mmax\u001b[39;49m\u001b[38;5;124;43m'\u001b[39;49m\u001b[43m,\u001b[49m\u001b[43m \u001b[49m\u001b[43maxis\u001b[49m\u001b[43m,\u001b[49m\u001b[43m \u001b[49m\u001b[38;5;28;43;01mNone\u001b[39;49;00m\u001b[43m,\u001b[49m\u001b[43m \u001b[49m\u001b[43mout\u001b[49m\u001b[43m,\u001b[49m\n\u001b[1;32m   2811\u001b[0m \u001b[43m                          \u001b[49m\u001b[43mkeepdims\u001b[49m\u001b[38;5;241;43m=\u001b[39;49m\u001b[43mkeepdims\u001b[49m\u001b[43m,\u001b[49m\u001b[43m \u001b[49m\u001b[43minitial\u001b[49m\u001b[38;5;241;43m=\u001b[39;49m\u001b[43minitial\u001b[49m\u001b[43m,\u001b[49m\u001b[43m \u001b[49m\u001b[43mwhere\u001b[49m\u001b[38;5;241;43m=\u001b[39;49m\u001b[43mwhere\u001b[49m\u001b[43m)\u001b[49m\n",
      "File \u001b[0;32m/usr/share/miniconda/envs/analysis-essentials/lib/python3.11/site-packages/numpy/core/fromnumeric.py:88\u001b[0m, in \u001b[0;36m_wrapreduction\u001b[0;34m(obj, ufunc, method, axis, dtype, out, **kwargs)\u001b[0m\n\u001b[1;32m     85\u001b[0m         \u001b[38;5;28;01melse\u001b[39;00m:\n\u001b[1;32m     86\u001b[0m             \u001b[38;5;28;01mreturn\u001b[39;00m reduction(axis\u001b[38;5;241m=\u001b[39maxis, out\u001b[38;5;241m=\u001b[39mout, \u001b[38;5;241m*\u001b[39m\u001b[38;5;241m*\u001b[39mpasskwargs)\n\u001b[0;32m---> 88\u001b[0m \u001b[38;5;28;01mreturn\u001b[39;00m \u001b[43mufunc\u001b[49m\u001b[38;5;241;43m.\u001b[39;49m\u001b[43mreduce\u001b[49m\u001b[43m(\u001b[49m\u001b[43mobj\u001b[49m\u001b[43m,\u001b[49m\u001b[43m \u001b[49m\u001b[43maxis\u001b[49m\u001b[43m,\u001b[49m\u001b[43m \u001b[49m\u001b[43mdtype\u001b[49m\u001b[43m,\u001b[49m\u001b[43m \u001b[49m\u001b[43mout\u001b[49m\u001b[43m,\u001b[49m\u001b[43m \u001b[49m\u001b[38;5;241;43m*\u001b[39;49m\u001b[38;5;241;43m*\u001b[39;49m\u001b[43mpasskwargs\u001b[49m\u001b[43m)\u001b[49m\n",
      "\u001b[0;31mAxisError\u001b[0m: axis 15 is out of bounds for array of dimension 0"
     ]
    }
   ],
   "source": [
    "from numpy import max\n",
    "\n",
    "max(10, 15)"
   ]
  },
  {
   "cell_type": "markdown",
   "metadata": {},
   "source": [
    "To avoid this, import `numpy as np` and then use `np.max`."
   ]
  },
  {
   "cell_type": "code",
   "execution_count": 23,
   "metadata": {
    "execution": {
     "iopub.execute_input": "2024-02-14T15:59:16.262108Z",
     "iopub.status.busy": "2024-02-14T15:59:16.261846Z",
     "iopub.status.idle": "2024-02-14T15:59:16.265334Z",
     "shell.execute_reply": "2024-02-14T15:59:16.264878Z"
    }
   },
   "outputs": [
    {
     "data": {
      "text/plain": [
       "2"
      ]
     },
     "execution_count": 23,
     "metadata": {},
     "output_type": "execute_result"
    }
   ],
   "source": [
    "import numpy as np\n",
    "\n",
    "np.max([0, 1, 2])"
   ]
  },
  {
   "cell_type": "markdown",
   "metadata": {},
   "source": [
    "Some common abrivations for packages are:\n",
    "\n",
    "```python\n",
    "import numpy as np\n",
    "import pandas as pd\n",
    "from matplotlib import pyplot as plt\n",
    "import ROOT as R\n",
    "```\n",
    "\n",
    "Typially the nicest code uses a mixture of `import X` and `from X import Y` like we have above.\n",
    "\n",
    "If you're interested in following best practices for style look there is an offical style guide called [PEP8](https://www.python.org/dev/peps/pep-0008/). The document itself is quite long but you can also get automated sytle checkers called 'linters'. Look into [flake8](https://gitlab.com/pycqa/flake8/), either as a command line application or as a plugin for your favourite text editor. Take care though, it's occasionally better to break style rules to make code easier to read!\n",
    "\n",
    "* Restart the kernal to fix ```max```"
   ]
  },
  {
   "cell_type": "code",
   "execution_count": 24,
   "metadata": {
    "execution": {
     "iopub.execute_input": "2024-02-14T15:59:16.267171Z",
     "iopub.status.busy": "2024-02-14T15:59:16.266808Z",
     "iopub.status.idle": "2024-02-14T15:59:16.285004Z",
     "shell.execute_reply": "2024-02-14T15:59:16.284488Z"
    },
    "tags": [
     "raises-exception"
    ]
   },
   "outputs": [
    {
     "ename": "AxisError",
     "evalue": "axis 15 is out of bounds for array of dimension 0",
     "output_type": "error",
     "traceback": [
      "\u001b[0;31m---------------------------------------------------------------------------\u001b[0m",
      "\u001b[0;31mAxisError\u001b[0m                                 Traceback (most recent call last)",
      "Cell \u001b[0;32mIn[24], line 1\u001b[0m\n\u001b[0;32m----> 1\u001b[0m \u001b[38;5;28;43mmax\u001b[39;49m\u001b[43m(\u001b[49m\u001b[38;5;241;43m10\u001b[39;49m\u001b[43m,\u001b[49m\u001b[43m \u001b[49m\u001b[38;5;241;43m15\u001b[39;49m\u001b[43m)\u001b[49m\n",
      "File \u001b[0;32m/usr/share/miniconda/envs/analysis-essentials/lib/python3.11/site-packages/numpy/core/fromnumeric.py:2810\u001b[0m, in \u001b[0;36mmax\u001b[0;34m(a, axis, out, keepdims, initial, where)\u001b[0m\n\u001b[1;32m   2692\u001b[0m \u001b[38;5;129m@array_function_dispatch\u001b[39m(_max_dispatcher)\n\u001b[1;32m   2693\u001b[0m \u001b[38;5;129m@set_module\u001b[39m(\u001b[38;5;124m'\u001b[39m\u001b[38;5;124mnumpy\u001b[39m\u001b[38;5;124m'\u001b[39m)\n\u001b[1;32m   2694\u001b[0m \u001b[38;5;28;01mdef\u001b[39;00m \u001b[38;5;21mmax\u001b[39m(a, axis\u001b[38;5;241m=\u001b[39m\u001b[38;5;28;01mNone\u001b[39;00m, out\u001b[38;5;241m=\u001b[39m\u001b[38;5;28;01mNone\u001b[39;00m, keepdims\u001b[38;5;241m=\u001b[39mnp\u001b[38;5;241m.\u001b[39m_NoValue, initial\u001b[38;5;241m=\u001b[39mnp\u001b[38;5;241m.\u001b[39m_NoValue,\n\u001b[1;32m   2695\u001b[0m          where\u001b[38;5;241m=\u001b[39mnp\u001b[38;5;241m.\u001b[39m_NoValue):\n\u001b[1;32m   2696\u001b[0m \u001b[38;5;250m    \u001b[39m\u001b[38;5;124;03m\"\"\"\u001b[39;00m\n\u001b[1;32m   2697\u001b[0m \u001b[38;5;124;03m    Return the maximum of an array or maximum along an axis.\u001b[39;00m\n\u001b[1;32m   2698\u001b[0m \n\u001b[0;32m   (...)\u001b[0m\n\u001b[1;32m   2808\u001b[0m \u001b[38;5;124;03m    5\u001b[39;00m\n\u001b[1;32m   2809\u001b[0m \u001b[38;5;124;03m    \"\"\"\u001b[39;00m\n\u001b[0;32m-> 2810\u001b[0m     \u001b[38;5;28;01mreturn\u001b[39;00m \u001b[43m_wrapreduction\u001b[49m\u001b[43m(\u001b[49m\u001b[43ma\u001b[49m\u001b[43m,\u001b[49m\u001b[43m \u001b[49m\u001b[43mnp\u001b[49m\u001b[38;5;241;43m.\u001b[39;49m\u001b[43mmaximum\u001b[49m\u001b[43m,\u001b[49m\u001b[43m \u001b[49m\u001b[38;5;124;43m'\u001b[39;49m\u001b[38;5;124;43mmax\u001b[39;49m\u001b[38;5;124;43m'\u001b[39;49m\u001b[43m,\u001b[49m\u001b[43m \u001b[49m\u001b[43maxis\u001b[49m\u001b[43m,\u001b[49m\u001b[43m \u001b[49m\u001b[38;5;28;43;01mNone\u001b[39;49;00m\u001b[43m,\u001b[49m\u001b[43m \u001b[49m\u001b[43mout\u001b[49m\u001b[43m,\u001b[49m\n\u001b[1;32m   2811\u001b[0m \u001b[43m                          \u001b[49m\u001b[43mkeepdims\u001b[49m\u001b[38;5;241;43m=\u001b[39;49m\u001b[43mkeepdims\u001b[49m\u001b[43m,\u001b[49m\u001b[43m \u001b[49m\u001b[43minitial\u001b[49m\u001b[38;5;241;43m=\u001b[39;49m\u001b[43minitial\u001b[49m\u001b[43m,\u001b[49m\u001b[43m \u001b[49m\u001b[43mwhere\u001b[49m\u001b[38;5;241;43m=\u001b[39;49m\u001b[43mwhere\u001b[49m\u001b[43m)\u001b[49m\n",
      "File \u001b[0;32m/usr/share/miniconda/envs/analysis-essentials/lib/python3.11/site-packages/numpy/core/fromnumeric.py:88\u001b[0m, in \u001b[0;36m_wrapreduction\u001b[0;34m(obj, ufunc, method, axis, dtype, out, **kwargs)\u001b[0m\n\u001b[1;32m     85\u001b[0m         \u001b[38;5;28;01melse\u001b[39;00m:\n\u001b[1;32m     86\u001b[0m             \u001b[38;5;28;01mreturn\u001b[39;00m reduction(axis\u001b[38;5;241m=\u001b[39maxis, out\u001b[38;5;241m=\u001b[39mout, \u001b[38;5;241m*\u001b[39m\u001b[38;5;241m*\u001b[39mpasskwargs)\n\u001b[0;32m---> 88\u001b[0m \u001b[38;5;28;01mreturn\u001b[39;00m \u001b[43mufunc\u001b[49m\u001b[38;5;241;43m.\u001b[39;49m\u001b[43mreduce\u001b[49m\u001b[43m(\u001b[49m\u001b[43mobj\u001b[49m\u001b[43m,\u001b[49m\u001b[43m \u001b[49m\u001b[43maxis\u001b[49m\u001b[43m,\u001b[49m\u001b[43m \u001b[49m\u001b[43mdtype\u001b[49m\u001b[43m,\u001b[49m\u001b[43m \u001b[49m\u001b[43mout\u001b[49m\u001b[43m,\u001b[49m\u001b[43m \u001b[49m\u001b[38;5;241;43m*\u001b[39;49m\u001b[38;5;241;43m*\u001b[39;49m\u001b[43mpasskwargs\u001b[49m\u001b[43m)\u001b[49m\n",
      "\u001b[0;31mAxisError\u001b[0m: axis 15 is out of bounds for array of dimension 0"
     ]
    }
   ],
   "source": [
    "max(10, 15)"
   ]
  }
 ],
 "metadata": {
  "kernelspec": {
   "display_name": "Python 3 (ipykernel)",
   "language": "python",
   "name": "python3"
  },
  "language_info": {
   "codemirror_mode": {
    "name": "ipython",
    "version": 3
   },
   "file_extension": ".py",
   "mimetype": "text/x-python",
   "name": "python",
   "nbconvert_exporter": "python",
   "pygments_lexer": "ipython3",
   "version": "3.11.7"
  },
  "nbsphinx": {
   "execute": "auto"
  }
 },
 "nbformat": 4,
 "nbformat_minor": 4
}
