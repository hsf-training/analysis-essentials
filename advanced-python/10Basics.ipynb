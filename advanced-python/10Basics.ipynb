{
 "cells": [
  {
   "cell_type": "markdown",
   "metadata": {},
   "source": [
    "# 1: Basics"
   ]
  },
  {
   "cell_type": "markdown",
   "metadata": {},
   "source": [
    "In this Advanced Python Tutorial we will cover some useful python skills and tips. The lessons are as follows:\n",
    "\n",
    "* Basics\n",
    "* Loading data and plotting with matplotlib\n",
    "* Cut based selction\n",
    "* Multivariate Analysis with Scikit Learn\n",
    "* uBoost with hep_ml\n",
    "* Neural Network Demo\n",
    "* Mutivariate kinematic reweighting\n",
    "* The sPlot technique\n",
    "\n",
    "The first lesson will be on some python basics:\n",
    "\n",
    "* Mutable and immutable objects in python\n",
    "* List and dictionaries and comprehensions\n",
    "* Writing code in markdown\n",
    "* Jupyter notebook basics\n",
    "* Importing moduels"
   ]
  },
  {
   "cell_type": "markdown",
   "metadata": {},
   "source": [
    "## Basics"
   ]
  },
  {
   "cell_type": "markdown",
   "metadata": {},
   "source": [
    "**Mutability**\n",
    "\n",
    "* Let's start by comparing some **mutable** and **immutable** objects.\n",
    "* In python lists and strings are **mutable** and tuples are **immutable**.\n",
    "* What happens when you run the code below?"
   ]
  },
  {
   "cell_type": "code",
   "execution_count": 1,
   "metadata": {
    "ExecuteTime": {
     "end_time": "2023-11-09T18:21:55.162938280Z",
     "start_time": "2023-11-09T18:21:54.591214759Z"
    },
    "execution": {
     "iopub.execute_input": "2023-11-28T11:03:51.105711Z",
     "iopub.status.busy": "2023-11-28T11:03:51.105552Z",
     "iopub.status.idle": "2023-11-28T11:03:51.111063Z",
     "shell.execute_reply": "2023-11-28T11:03:51.110547Z"
    }
   },
   "outputs": [
    {
     "name": "stdout",
     "output_type": "stream",
     "text": [
      "['a', 'hello', 'c']\n",
      "['a', 'hello', 'c']\n"
     ]
    }
   ],
   "source": [
    "a = ['a', 'b', 'c']\n",
    "b = a\n",
    "b[1] = 'hello'\n",
    "\n",
    "print(a)\n",
    "print(b)"
   ]
  },
  {
   "cell_type": "code",
   "execution_count": 2,
   "metadata": {
    "ExecuteTime": {
     "end_time": "2023-11-09T18:21:55.164206324Z",
     "start_time": "2023-11-09T18:21:54.591634409Z"
    },
    "execution": {
     "iopub.execute_input": "2023-11-28T11:03:51.138154Z",
     "iopub.status.busy": "2023-11-28T11:03:51.137785Z",
     "iopub.status.idle": "2023-11-28T11:03:51.141016Z",
     "shell.execute_reply": "2023-11-28T11:03:51.140597Z"
    }
   },
   "outputs": [
    {
     "name": "stdout",
     "output_type": "stream",
     "text": [
      "{'a': '0', 'b': 'hello', 'c': '2'}\n",
      "{'a': '0', 'b': 'hello', 'c': '2'}\n"
     ]
    }
   ],
   "source": [
    "a = {'a': '0', 'b': '1', 'c': '2'}\n",
    "b = a\n",
    "b['b'] = 'hello'\n",
    "\n",
    "print(a)\n",
    "print(b)"
   ]
  },
  {
   "cell_type": "code",
   "execution_count": 3,
   "metadata": {
    "ExecuteTime": {
     "end_time": "2023-11-09T18:21:55.165379338Z",
     "start_time": "2023-11-09T18:21:54.592201956Z"
    },
    "execution": {
     "iopub.execute_input": "2023-11-28T11:03:51.142800Z",
     "iopub.status.busy": "2023-11-28T11:03:51.142481Z",
     "iopub.status.idle": "2023-11-28T11:03:51.145429Z",
     "shell.execute_reply": "2023-11-28T11:03:51.145033Z"
    }
   },
   "outputs": [
    {
     "name": "stdout",
     "output_type": "stream",
     "text": [
      "foo\n",
      "bar\n"
     ]
    }
   ],
   "source": [
    "a = 'foo'\n",
    "b = 'bar'\n",
    "for c in [a, b]:\n",
    "    c += '!'\n",
    "\n",
    "print(a)\n",
    "print(b)"
   ]
  },
  {
   "cell_type": "markdown",
   "metadata": {},
   "source": [
    "**List comprehensions**"
   ]
  },
  {
   "cell_type": "code",
   "execution_count": 4,
   "metadata": {
    "ExecuteTime": {
     "end_time": "2023-11-09T18:21:55.174086165Z",
     "start_time": "2023-11-09T18:21:54.592801793Z"
    },
    "execution": {
     "iopub.execute_input": "2023-11-28T11:03:51.147377Z",
     "iopub.status.busy": "2023-11-28T11:03:51.147050Z",
     "iopub.status.idle": "2023-11-28T11:03:51.150180Z",
     "shell.execute_reply": "2023-11-28T11:03:51.149749Z"
    }
   },
   "outputs": [
    {
     "name": "stdout",
     "output_type": "stream",
     "text": [
      "Sum of squares for 10 is 285\n"
     ]
    }
   ],
   "source": [
    "N = 10\n",
    "\n",
    "list_of_squares = [i**2 for i in range(N)]\n",
    "sum_of_squares = sum(list_of_squares)\n",
    "\n",
    "print('Sum of squares for', N, 'is', sum_of_squares)"
   ]
  },
  {
   "cell_type": "markdown",
   "metadata": {},
   "source": [
    "**Dictionary comprehensions**"
   ]
  },
  {
   "cell_type": "code",
   "execution_count": 5,
   "metadata": {
    "ExecuteTime": {
     "end_time": "2023-11-09T18:21:55.174961405Z",
     "start_time": "2023-11-09T18:21:54.639862013Z"
    },
    "execution": {
     "iopub.execute_input": "2023-11-28T11:03:51.151950Z",
     "iopub.status.busy": "2023-11-28T11:03:51.151796Z",
     "iopub.status.idle": "2023-11-28T11:03:51.154454Z",
     "shell.execute_reply": "2023-11-28T11:03:51.153999Z"
    }
   },
   "outputs": [
    {
     "name": "stdout",
     "output_type": "stream",
     "text": [
      "{0: 0, 1: 1, 2: 4, 3: 9, 4: 16, 5: 25, 6: 36, 7: 49, 8: 64, 9: 81}\n"
     ]
    }
   ],
   "source": [
    "squares = {i: i**2 for i in range(10)}\n",
    "print(squares)"
   ]
  },
  {
   "cell_type": "code",
   "execution_count": 6,
   "metadata": {
    "ExecuteTime": {
     "end_time": "2023-11-09T18:21:55.177083872Z",
     "start_time": "2023-11-09T18:21:54.640208754Z"
    },
    "execution": {
     "iopub.execute_input": "2023-11-28T11:03:51.156306Z",
     "iopub.status.busy": "2023-11-28T11:03:51.155950Z",
     "iopub.status.idle": "2023-11-28T11:03:51.158809Z",
     "shell.execute_reply": "2023-11-28T11:03:51.158384Z"
    }
   },
   "outputs": [
    {
     "name": "stdout",
     "output_type": "stream",
     "text": [
      "The square of 5 is 25\n"
     ]
    }
   ],
   "source": [
    "N = 5\n",
    "print('The square of', N, 'is', squares[N])"
   ]
  },
  {
   "cell_type": "markdown",
   "metadata": {},
   "source": [
    "## Markdown"
   ]
  },
  {
   "cell_type": "markdown",
   "metadata": {},
   "source": [
    "Write comments inline about your code:\n",
    "\n",
    "Use LaTeX:\n",
    "\n",
    "$A = \\frac{1}{B+C}$\n",
    "\n",
    "Show lists:\n",
    "\n",
    "* A wonderful\n",
    "* List\n",
    "* This is\n",
    "\n",
    "Show code with syntax highlighting:\n",
    "\n",
    "**Python:** (but in a sad grey world)\n",
    "\n",
    "```\n",
    "print('Hello world')\n",
    "```\n",
    "\n",
    "**Python:**\n",
    "\n",
    "```python\n",
    "print('Hello world')\n",
    "```\n",
    "\n",
    "**C++:**\n",
    "\n",
    "```cpp\n",
    "#include <iostream>\n",
    "\n",
    "std::cout << \"Hello world\" << std::endl;\n",
    "```\n",
    "\n",
    "**Bash:**\n",
    "\n",
    "```bash\n",
    "echo \"Hello world\"\n",
    "```"
   ]
  },
  {
   "cell_type": "markdown",
   "metadata": {},
   "source": [
    "**f-strings**"
   ]
  },
  {
   "cell_type": "code",
   "execution_count": 7,
   "metadata": {
    "ExecuteTime": {
     "end_time": "2023-11-09T18:21:55.178900927Z",
     "start_time": "2023-11-09T18:21:54.640684978Z"
    },
    "execution": {
     "iopub.execute_input": "2023-11-28T11:03:51.160513Z",
     "iopub.status.busy": "2023-11-28T11:03:51.160362Z",
     "iopub.status.idle": "2023-11-28T11:03:51.163282Z",
     "shell.execute_reply": "2023-11-28T11:03:51.162886Z"
    }
   },
   "outputs": [
    {
     "name": "stdout",
     "output_type": "stream",
     "text": [
      "(PT > 1789.23) & (2 < ETA < 5)\n"
     ]
    }
   ],
   "source": [
    "pt_cut = 1789.234567890987654\n",
    "eta_low = 2\n",
    "eta_high = 5\n",
    "\n",
    "cut_string = f'(PT > {pt_cut:.2f}) & ({eta_low} < ETA < {eta_high})'\n",
    "print(cut_string)"
   ]
  },
  {
   "cell_type": "markdown",
   "metadata": {},
   "source": [
    "## Jupyter\n",
    "\n",
    "Jupyter has some very useful features included that can help make trying things out faster..."
   ]
  },
  {
   "cell_type": "markdown",
   "metadata": {},
   "source": [
    "Cells have a return value which is shown after the finish runing if it's not `None`:"
   ]
  },
  {
   "cell_type": "code",
   "execution_count": 8,
   "metadata": {
    "ExecuteTime": {
     "end_time": "2023-11-09T18:21:55.179761160Z",
     "start_time": "2023-11-09T18:21:54.683193413Z"
    },
    "execution": {
     "iopub.execute_input": "2023-11-28T11:03:51.165090Z",
     "iopub.status.busy": "2023-11-28T11:03:51.164801Z",
     "iopub.status.idle": "2023-11-28T11:03:51.169599Z",
     "shell.execute_reply": "2023-11-28T11:03:51.169100Z"
    }
   },
   "outputs": [
    {
     "data": {
      "text/plain": [
       "'Hello starterkitters'"
      ]
     },
     "execution_count": 8,
     "metadata": {},
     "output_type": "execute_result"
    }
   ],
   "source": [
    "\"Hello starterkitters\""
   ]
  },
  {
   "cell_type": "code",
   "execution_count": 9,
   "metadata": {
    "ExecuteTime": {
     "end_time": "2023-11-09T18:21:55.180074403Z",
     "start_time": "2023-11-09T18:21:54.683507163Z"
    },
    "execution": {
     "iopub.execute_input": "2023-11-28T11:03:51.171445Z",
     "iopub.status.busy": "2023-11-28T11:03:51.171093Z",
     "iopub.status.idle": "2023-11-28T11:03:51.173442Z",
     "shell.execute_reply": "2023-11-28T11:03:51.173017Z"
    }
   },
   "outputs": [],
   "source": [
    "None"
   ]
  },
  {
   "cell_type": "markdown",
   "metadata": {},
   "source": [
    "Run a shell command:"
   ]
  },
  {
   "cell_type": "code",
   "execution_count": 10,
   "metadata": {
    "ExecuteTime": {
     "end_time": "2023-11-09T18:21:55.708097724Z",
     "start_time": "2023-11-09T18:21:54.683700759Z"
    },
    "execution": {
     "iopub.execute_input": "2023-11-28T11:03:51.175211Z",
     "iopub.status.busy": "2023-11-28T11:03:51.174931Z",
     "iopub.status.idle": "2023-11-28T11:03:51.299593Z",
     "shell.execute_reply": "2023-11-28T11:03:51.299070Z"
    }
   },
   "outputs": [
    {
     "name": "stdout",
     "output_type": "stream",
     "text": [
      "10Basics.ipynb\t\t\t 40Histograms.ipynb\r\n",
      "11AdvancedPython.ipynb\t\t 45DemoReweighting.ipynb\r\n",
      "12AdvancedClasses.ipynb\t\t 50LikelihoodInference.ipynb\r\n",
      "20DataAndPlotting.ipynb\t\t 60sPlot.ipynb\r\n",
      "30Classification.ipynb\t\t 70ScikitHEPUniverse.ipynb\r\n",
      "31ClassificationExtension.ipynb  README.md\r\n",
      "32BoostingToUniformity.ipynb\r\n"
     ]
    }
   ],
   "source": [
    "!ls"
   ]
  },
  {
   "cell_type": "code",
   "execution_count": 11,
   "metadata": {
    "ExecuteTime": {
     "end_time": "2023-11-09T18:21:57.188240198Z",
     "start_time": "2023-11-09T18:21:55.712286379Z"
    },
    "execution": {
     "iopub.execute_input": "2023-11-28T11:03:51.301874Z",
     "iopub.status.busy": "2023-11-28T11:03:51.301695Z",
     "iopub.status.idle": "2023-11-28T11:03:51.476168Z",
     "shell.execute_reply": "2023-11-28T11:03:51.475568Z"
    }
   },
   "outputs": [
    {
     "name": "stdout",
     "output_type": "stream",
     "text": [
      "--2023-11-28 11:03:51--  https://example.com/index.html\r\n",
      "Resolving example.com (example.com)... 93.184.216.34, 2606:2800:220:1:248:1893:25c8:1946\r\n",
      "Connecting to example.com (example.com)|93.184.216.34|:443... connected.\r\n",
      "HTTP request sent, awaiting response... "
     ]
    },
    {
     "name": "stdout",
     "output_type": "stream",
     "text": [
      "200 OK\r\n",
      "Length: 1256 (1.2K) [text/html]\r\n",
      "Saving to: ‘index.html’\r\n",
      "\r\n",
      "\r",
      "index.html            0%[                    ]       0  --.-KB/s               \r",
      "index.html          100%[===================>]   1.23K  --.-KB/s    in 0s      \r\n",
      "\r\n",
      "2023-11-28 11:03:51 (57.3 MB/s) - ‘index.html’ saved [1256/1256]\r\n",
      "\r\n"
     ]
    }
   ],
   "source": [
    "!wget https://example.com/index.html"
   ]
  },
  {
   "cell_type": "markdown",
   "metadata": {},
   "source": [
    "Time how long something takes for one line:"
   ]
  },
  {
   "cell_type": "code",
   "execution_count": 12,
   "metadata": {
    "ExecuteTime": {
     "end_time": "2023-11-09T18:21:57.209109687Z",
     "start_time": "2023-11-09T18:21:57.194328587Z"
    },
    "execution": {
     "iopub.execute_input": "2023-11-28T11:03:51.478547Z",
     "iopub.status.busy": "2023-11-28T11:03:51.478214Z",
     "iopub.status.idle": "2023-11-28T11:03:51.483402Z",
     "shell.execute_reply": "2023-11-28T11:03:51.482883Z"
    }
   },
   "outputs": [
    {
     "name": "stdout",
     "output_type": "stream",
     "text": [
      "CPU times: user 497 µs, sys: 104 µs, total: 601 µs\n",
      "Wall time: 605 µs\n"
     ]
    },
    {
     "data": {
      "text/plain": [
       "333283335000"
      ]
     },
     "execution_count": 12,
     "metadata": {},
     "output_type": "execute_result"
    }
   ],
   "source": [
    "%time sum([i**2 for i in range(10000)])"
   ]
  },
  {
   "cell_type": "markdown",
   "metadata": {},
   "source": [
    "Time how long an entire cell takes:"
   ]
  },
  {
   "cell_type": "code",
   "execution_count": 13,
   "metadata": {
    "ExecuteTime": {
     "end_time": "2023-11-09T18:21:57.268821159Z",
     "start_time": "2023-11-09T18:21:57.208320012Z"
    },
    "execution": {
     "iopub.execute_input": "2023-11-28T11:03:51.485199Z",
     "iopub.status.busy": "2023-11-28T11:03:51.485041Z",
     "iopub.status.idle": "2023-11-28T11:03:51.489766Z",
     "shell.execute_reply": "2023-11-28T11:03:51.489288Z"
    }
   },
   "outputs": [
    {
     "name": "stdout",
     "output_type": "stream",
     "text": [
      "CPU times: user 1.31 ms, sys: 0 ns, total: 1.31 ms\n",
      "Wall time: 1.31 ms\n"
     ]
    }
   ],
   "source": [
    "%%time\n",
    "a = sum([i**2 for i in range(10000)])\n",
    "b = sum([i**2 for i in range(10000)])\n",
    "c = sum([i**2 for i in range(10000)])"
   ]
  },
  {
   "cell_type": "markdown",
   "metadata": {
    "slideshow": {
     "slide_type": "slide"
    }
   },
   "source": [
    "If something takes longer than you expect, you can profile it to find out where it spends it's time:"
   ]
  },
  {
   "cell_type": "raw",
   "metadata": {},
   "source": [
    "# Maybe skip this\n",
    "%%prun -s cumtime\n",
    "a = sum([np.sqrt(i) for i in range(100000)])"
   ]
  },
  {
   "cell_type": "markdown",
   "metadata": {},
   "source": [
    "Jupyter also makes it easy to look at documentation, just add a question mark to the end of the line"
   ]
  },
  {
   "cell_type": "code",
   "execution_count": 14,
   "metadata": {
    "ExecuteTime": {
     "end_time": "2023-11-09T18:21:57.269768775Z",
     "start_time": "2023-11-09T18:21:57.263045210Z"
    },
    "execution": {
     "iopub.execute_input": "2023-11-28T11:03:51.491606Z",
     "iopub.status.busy": "2023-11-28T11:03:51.491448Z",
     "iopub.status.idle": "2023-11-28T11:03:51.493886Z",
     "shell.execute_reply": "2023-11-28T11:03:51.493472Z"
    }
   },
   "outputs": [],
   "source": [
    "def my_print(my_string):\n",
    "    print(my_string)"
   ]
  },
  {
   "cell_type": "code",
   "execution_count": 15,
   "metadata": {
    "ExecuteTime": {
     "end_time": "2023-11-09T18:21:58.320620623Z",
     "start_time": "2023-11-09T18:21:57.263292639Z"
    },
    "execution": {
     "iopub.execute_input": "2023-11-28T11:03:51.495664Z",
     "iopub.status.busy": "2023-11-28T11:03:51.495508Z",
     "iopub.status.idle": "2023-11-28T11:03:51.521827Z",
     "shell.execute_reply": "2023-11-28T11:03:51.521453Z"
    }
   },
   "outputs": [],
   "source": [
    "my_print?"
   ]
  },
  {
   "cell_type": "markdown",
   "metadata": {},
   "source": [
    "Two question marks allows you to see the code that is in the function"
   ]
  },
  {
   "cell_type": "code",
   "execution_count": 16,
   "metadata": {
    "ExecuteTime": {
     "end_time": "2023-11-09T18:21:58.324026004Z",
     "start_time": "2023-11-09T18:21:57.541042260Z"
    },
    "execution": {
     "iopub.execute_input": "2023-11-28T11:03:51.523559Z",
     "iopub.status.busy": "2023-11-28T11:03:51.523407Z",
     "iopub.status.idle": "2023-11-28T11:03:51.527254Z",
     "shell.execute_reply": "2023-11-28T11:03:51.526835Z"
    }
   },
   "outputs": [],
   "source": [
    "my_print??"
   ]
  },
  {
   "cell_type": "code",
   "execution_count": 17,
   "metadata": {
    "ExecuteTime": {
     "end_time": "2023-11-09T18:21:58.357805971Z",
     "start_time": "2023-11-09T18:21:57.552034854Z"
    },
    "execution": {
     "iopub.execute_input": "2023-11-28T11:03:51.528860Z",
     "iopub.status.busy": "2023-11-28T11:03:51.528708Z",
     "iopub.status.idle": "2023-11-28T11:03:51.532588Z",
     "shell.execute_reply": "2023-11-28T11:03:51.532086Z"
    }
   },
   "outputs": [],
   "source": [
    "range?"
   ]
  },
  {
   "cell_type": "markdown",
   "metadata": {},
   "source": [
    "Note that this is done without running the actual line of code so sometimes you need to use a junk variable to make it work"
   ]
  },
  {
   "cell_type": "code",
   "execution_count": 18,
   "metadata": {
    "ExecuteTime": {
     "end_time": "2023-11-09T18:21:58.396066090Z",
     "start_time": "2023-11-09T18:21:57.647040419Z"
    },
    "execution": {
     "iopub.execute_input": "2023-11-28T11:03:51.534397Z",
     "iopub.status.busy": "2023-11-28T11:03:51.534156Z",
     "iopub.status.idle": "2023-11-28T11:03:51.537024Z",
     "shell.execute_reply": "2023-11-28T11:03:51.536539Z"
    }
   },
   "outputs": [
    {
     "name": "stdout",
     "output_type": "stream",
     "text": [
      "Object `get` not found.\n"
     ]
    }
   ],
   "source": [
    "{'a': 'b'}.get?"
   ]
  },
  {
   "cell_type": "code",
   "execution_count": 19,
   "metadata": {
    "ExecuteTime": {
     "end_time": "2023-11-09T18:21:58.398964659Z",
     "start_time": "2023-11-09T18:21:57.695017046Z"
    },
    "execution": {
     "iopub.execute_input": "2023-11-28T11:03:51.538847Z",
     "iopub.status.busy": "2023-11-28T11:03:51.538550Z",
     "iopub.status.idle": "2023-11-28T11:03:51.541986Z",
     "shell.execute_reply": "2023-11-28T11:03:51.541522Z"
    }
   },
   "outputs": [
    {
     "data": {
      "text/plain": [
       "<function dict.get(key, default=None, /)>"
      ]
     },
     "execution_count": 19,
     "metadata": {},
     "output_type": "execute_result"
    }
   ],
   "source": [
    "{'a': 'b'}.get"
   ]
  },
  {
   "cell_type": "code",
   "execution_count": 20,
   "metadata": {
    "ExecuteTime": {
     "end_time": "2023-11-09T18:21:58.401053224Z",
     "start_time": "2023-11-09T18:21:57.695273312Z"
    },
    "execution": {
     "iopub.execute_input": "2023-11-28T11:03:51.543916Z",
     "iopub.status.busy": "2023-11-28T11:03:51.543527Z",
     "iopub.status.idle": "2023-11-28T11:03:51.546780Z",
     "shell.execute_reply": "2023-11-28T11:03:51.546335Z"
    }
   },
   "outputs": [],
   "source": [
    "junk = {'a': 'b'}.get\n",
    "junk?"
   ]
  },
  {
   "cell_type": "markdown",
   "metadata": {},
   "source": [
    "## Importing modules"
   ]
  },
  {
   "cell_type": "markdown",
   "metadata": {},
   "source": [
    "* It is good practice to import all modules at the beginning of your python script or notebook\n",
    "* Avoid using **wildcard imports** as you it makes it unclear where things come from: for example ```from math import *```\n",
    "* Below we now have two ```max``` functions and trying to use ```max``` will return an error"
   ]
  },
  {
   "cell_type": "code",
   "execution_count": 21,
   "metadata": {
    "ExecuteTime": {
     "end_time": "2023-11-09T18:21:58.404008533Z",
     "start_time": "2023-11-09T18:21:57.695446136Z"
    },
    "execution": {
     "iopub.execute_input": "2023-11-28T11:03:51.548601Z",
     "iopub.status.busy": "2023-11-28T11:03:51.548313Z",
     "iopub.status.idle": "2023-11-28T11:03:51.551502Z",
     "shell.execute_reply": "2023-11-28T11:03:51.551037Z"
    }
   },
   "outputs": [
    {
     "data": {
      "text/plain": [
       "15"
      ]
     },
     "execution_count": 21,
     "metadata": {},
     "output_type": "execute_result"
    }
   ],
   "source": [
    "max(10, 15)"
   ]
  },
  {
   "cell_type": "code",
   "execution_count": 22,
   "metadata": {
    "ExecuteTime": {
     "end_time": "2023-11-09T18:21:59.040701073Z",
     "start_time": "2023-11-09T18:21:57.695622001Z"
    },
    "execution": {
     "iopub.execute_input": "2023-11-28T11:03:51.553192Z",
     "iopub.status.busy": "2023-11-28T11:03:51.553031Z",
     "iopub.status.idle": "2023-11-28T11:03:51.792450Z",
     "shell.execute_reply": "2023-11-28T11:03:51.792010Z"
    },
    "tags": [
     "raises-exception"
    ]
   },
   "outputs": [
    {
     "ename": "AxisError",
     "evalue": "axis 15 is out of bounds for array of dimension 0",
     "output_type": "error",
     "traceback": [
      "\u001b[0;31m---------------------------------------------------------------------------\u001b[0m",
      "\u001b[0;31mAxisError\u001b[0m                                 Traceback (most recent call last)",
      "Cell \u001b[0;32mIn[22], line 3\u001b[0m\n\u001b[1;32m      1\u001b[0m \u001b[38;5;28;01mfrom\u001b[39;00m \u001b[38;5;21;01mnumpy\u001b[39;00m \u001b[38;5;28;01mimport\u001b[39;00m \u001b[38;5;28mmax\u001b[39m\n\u001b[0;32m----> 3\u001b[0m \u001b[38;5;28;43mmax\u001b[39;49m\u001b[43m(\u001b[49m\u001b[38;5;241;43m10\u001b[39;49m\u001b[43m,\u001b[49m\u001b[43m \u001b[49m\u001b[38;5;241;43m15\u001b[39;49m\u001b[43m)\u001b[49m\n",
      "File \u001b[0;32m/usr/share/miniconda/envs/analysis-essentials/lib/python3.11/site-packages/numpy/core/fromnumeric.py:2810\u001b[0m, in \u001b[0;36mmax\u001b[0;34m(a, axis, out, keepdims, initial, where)\u001b[0m\n\u001b[1;32m   2692\u001b[0m \u001b[38;5;129m@array_function_dispatch\u001b[39m(_max_dispatcher)\n\u001b[1;32m   2693\u001b[0m \u001b[38;5;129m@set_module\u001b[39m(\u001b[38;5;124m'\u001b[39m\u001b[38;5;124mnumpy\u001b[39m\u001b[38;5;124m'\u001b[39m)\n\u001b[1;32m   2694\u001b[0m \u001b[38;5;28;01mdef\u001b[39;00m \u001b[38;5;21mmax\u001b[39m(a, axis\u001b[38;5;241m=\u001b[39m\u001b[38;5;28;01mNone\u001b[39;00m, out\u001b[38;5;241m=\u001b[39m\u001b[38;5;28;01mNone\u001b[39;00m, keepdims\u001b[38;5;241m=\u001b[39mnp\u001b[38;5;241m.\u001b[39m_NoValue, initial\u001b[38;5;241m=\u001b[39mnp\u001b[38;5;241m.\u001b[39m_NoValue,\n\u001b[1;32m   2695\u001b[0m          where\u001b[38;5;241m=\u001b[39mnp\u001b[38;5;241m.\u001b[39m_NoValue):\n\u001b[1;32m   2696\u001b[0m \u001b[38;5;250m    \u001b[39m\u001b[38;5;124;03m\"\"\"\u001b[39;00m\n\u001b[1;32m   2697\u001b[0m \u001b[38;5;124;03m    Return the maximum of an array or maximum along an axis.\u001b[39;00m\n\u001b[1;32m   2698\u001b[0m \n\u001b[0;32m   (...)\u001b[0m\n\u001b[1;32m   2808\u001b[0m \u001b[38;5;124;03m    5\u001b[39;00m\n\u001b[1;32m   2809\u001b[0m \u001b[38;5;124;03m    \"\"\"\u001b[39;00m\n\u001b[0;32m-> 2810\u001b[0m     \u001b[38;5;28;01mreturn\u001b[39;00m \u001b[43m_wrapreduction\u001b[49m\u001b[43m(\u001b[49m\u001b[43ma\u001b[49m\u001b[43m,\u001b[49m\u001b[43m \u001b[49m\u001b[43mnp\u001b[49m\u001b[38;5;241;43m.\u001b[39;49m\u001b[43mmaximum\u001b[49m\u001b[43m,\u001b[49m\u001b[43m \u001b[49m\u001b[38;5;124;43m'\u001b[39;49m\u001b[38;5;124;43mmax\u001b[39;49m\u001b[38;5;124;43m'\u001b[39;49m\u001b[43m,\u001b[49m\u001b[43m \u001b[49m\u001b[43maxis\u001b[49m\u001b[43m,\u001b[49m\u001b[43m \u001b[49m\u001b[38;5;28;43;01mNone\u001b[39;49;00m\u001b[43m,\u001b[49m\u001b[43m \u001b[49m\u001b[43mout\u001b[49m\u001b[43m,\u001b[49m\n\u001b[1;32m   2811\u001b[0m \u001b[43m                          \u001b[49m\u001b[43mkeepdims\u001b[49m\u001b[38;5;241;43m=\u001b[39;49m\u001b[43mkeepdims\u001b[49m\u001b[43m,\u001b[49m\u001b[43m \u001b[49m\u001b[43minitial\u001b[49m\u001b[38;5;241;43m=\u001b[39;49m\u001b[43minitial\u001b[49m\u001b[43m,\u001b[49m\u001b[43m \u001b[49m\u001b[43mwhere\u001b[49m\u001b[38;5;241;43m=\u001b[39;49m\u001b[43mwhere\u001b[49m\u001b[43m)\u001b[49m\n",
      "File \u001b[0;32m/usr/share/miniconda/envs/analysis-essentials/lib/python3.11/site-packages/numpy/core/fromnumeric.py:88\u001b[0m, in \u001b[0;36m_wrapreduction\u001b[0;34m(obj, ufunc, method, axis, dtype, out, **kwargs)\u001b[0m\n\u001b[1;32m     85\u001b[0m         \u001b[38;5;28;01melse\u001b[39;00m:\n\u001b[1;32m     86\u001b[0m             \u001b[38;5;28;01mreturn\u001b[39;00m reduction(axis\u001b[38;5;241m=\u001b[39maxis, out\u001b[38;5;241m=\u001b[39mout, \u001b[38;5;241m*\u001b[39m\u001b[38;5;241m*\u001b[39mpasskwargs)\n\u001b[0;32m---> 88\u001b[0m \u001b[38;5;28;01mreturn\u001b[39;00m \u001b[43mufunc\u001b[49m\u001b[38;5;241;43m.\u001b[39;49m\u001b[43mreduce\u001b[49m\u001b[43m(\u001b[49m\u001b[43mobj\u001b[49m\u001b[43m,\u001b[49m\u001b[43m \u001b[49m\u001b[43maxis\u001b[49m\u001b[43m,\u001b[49m\u001b[43m \u001b[49m\u001b[43mdtype\u001b[49m\u001b[43m,\u001b[49m\u001b[43m \u001b[49m\u001b[43mout\u001b[49m\u001b[43m,\u001b[49m\u001b[43m \u001b[49m\u001b[38;5;241;43m*\u001b[39;49m\u001b[38;5;241;43m*\u001b[39;49m\u001b[43mpasskwargs\u001b[49m\u001b[43m)\u001b[49m\n",
      "\u001b[0;31mAxisError\u001b[0m: axis 15 is out of bounds for array of dimension 0"
     ]
    }
   ],
   "source": [
    "from numpy import max\n",
    "\n",
    "max(10, 15)"
   ]
  },
  {
   "cell_type": "markdown",
   "metadata": {},
   "source": [
    "To avoid this, import `numpy as np` and then use `np.max`."
   ]
  },
  {
   "cell_type": "code",
   "execution_count": 23,
   "metadata": {
    "ExecuteTime": {
     "start_time": "2023-11-09T18:21:58.564441476Z"
    },
    "execution": {
     "iopub.execute_input": "2023-11-28T11:03:51.794434Z",
     "iopub.status.busy": "2023-11-28T11:03:51.794265Z",
     "iopub.status.idle": "2023-11-28T11:03:51.797995Z",
     "shell.execute_reply": "2023-11-28T11:03:51.797577Z"
    }
   },
   "outputs": [
    {
     "data": {
      "text/plain": [
       "2"
      ]
     },
     "execution_count": 23,
     "metadata": {},
     "output_type": "execute_result"
    }
   ],
   "source": [
    "import numpy as np\n",
    "\n",
    "np.max([0, 1, 2])"
   ]
  },
  {
   "cell_type": "markdown",
   "metadata": {},
   "source": [
    "Some common abrivations for packages are:\n",
    "\n",
    "```python\n",
    "import numpy as np\n",
    "import pandas as pd\n",
    "from matplotlib import pyplot as plt\n",
    "import ROOT as R\n",
    "```\n",
    "\n",
    "Typially the nicest code uses a mixture of `import X` and `from X import Y` like we have above.\n",
    "\n",
    "If you're interested in following best practices for style look there is an offical style guide called [PEP8](https://www.python.org/dev/peps/pep-0008/). The document itself is quite long but you can also get automated sytle checkers called 'linters'. Look into [flake8](https://gitlab.com/pycqa/flake8/), either as a command line application or as a plugin for your favourite text editor. Take care though, it's occasionally better to break style rules to make code easier to read!\n",
    "\n",
    "* Restart the kernal to fix ```max```"
   ]
  },
  {
   "cell_type": "code",
   "execution_count": 24,
   "metadata": {
    "ExecuteTime": {
     "start_time": "2023-11-09T18:21:58.606952947Z"
    },
    "execution": {
     "iopub.execute_input": "2023-11-28T11:03:51.799710Z",
     "iopub.status.busy": "2023-11-28T11:03:51.799550Z",
     "iopub.status.idle": "2023-11-28T11:03:51.818074Z",
     "shell.execute_reply": "2023-11-28T11:03:51.817649Z"
    },
    "tags": [
     "raises-exception"
    ]
   },
   "outputs": [
    {
     "ename": "AxisError",
     "evalue": "axis 15 is out of bounds for array of dimension 0",
     "output_type": "error",
     "traceback": [
      "\u001b[0;31m---------------------------------------------------------------------------\u001b[0m",
      "\u001b[0;31mAxisError\u001b[0m                                 Traceback (most recent call last)",
      "Cell \u001b[0;32mIn[24], line 1\u001b[0m\n\u001b[0;32m----> 1\u001b[0m \u001b[38;5;28;43mmax\u001b[39;49m\u001b[43m(\u001b[49m\u001b[38;5;241;43m10\u001b[39;49m\u001b[43m,\u001b[49m\u001b[43m \u001b[49m\u001b[38;5;241;43m15\u001b[39;49m\u001b[43m)\u001b[49m\n",
      "File \u001b[0;32m/usr/share/miniconda/envs/analysis-essentials/lib/python3.11/site-packages/numpy/core/fromnumeric.py:2810\u001b[0m, in \u001b[0;36mmax\u001b[0;34m(a, axis, out, keepdims, initial, where)\u001b[0m\n\u001b[1;32m   2692\u001b[0m \u001b[38;5;129m@array_function_dispatch\u001b[39m(_max_dispatcher)\n\u001b[1;32m   2693\u001b[0m \u001b[38;5;129m@set_module\u001b[39m(\u001b[38;5;124m'\u001b[39m\u001b[38;5;124mnumpy\u001b[39m\u001b[38;5;124m'\u001b[39m)\n\u001b[1;32m   2694\u001b[0m \u001b[38;5;28;01mdef\u001b[39;00m \u001b[38;5;21mmax\u001b[39m(a, axis\u001b[38;5;241m=\u001b[39m\u001b[38;5;28;01mNone\u001b[39;00m, out\u001b[38;5;241m=\u001b[39m\u001b[38;5;28;01mNone\u001b[39;00m, keepdims\u001b[38;5;241m=\u001b[39mnp\u001b[38;5;241m.\u001b[39m_NoValue, initial\u001b[38;5;241m=\u001b[39mnp\u001b[38;5;241m.\u001b[39m_NoValue,\n\u001b[1;32m   2695\u001b[0m          where\u001b[38;5;241m=\u001b[39mnp\u001b[38;5;241m.\u001b[39m_NoValue):\n\u001b[1;32m   2696\u001b[0m \u001b[38;5;250m    \u001b[39m\u001b[38;5;124;03m\"\"\"\u001b[39;00m\n\u001b[1;32m   2697\u001b[0m \u001b[38;5;124;03m    Return the maximum of an array or maximum along an axis.\u001b[39;00m\n\u001b[1;32m   2698\u001b[0m \n\u001b[0;32m   (...)\u001b[0m\n\u001b[1;32m   2808\u001b[0m \u001b[38;5;124;03m    5\u001b[39;00m\n\u001b[1;32m   2809\u001b[0m \u001b[38;5;124;03m    \"\"\"\u001b[39;00m\n\u001b[0;32m-> 2810\u001b[0m     \u001b[38;5;28;01mreturn\u001b[39;00m \u001b[43m_wrapreduction\u001b[49m\u001b[43m(\u001b[49m\u001b[43ma\u001b[49m\u001b[43m,\u001b[49m\u001b[43m \u001b[49m\u001b[43mnp\u001b[49m\u001b[38;5;241;43m.\u001b[39;49m\u001b[43mmaximum\u001b[49m\u001b[43m,\u001b[49m\u001b[43m \u001b[49m\u001b[38;5;124;43m'\u001b[39;49m\u001b[38;5;124;43mmax\u001b[39;49m\u001b[38;5;124;43m'\u001b[39;49m\u001b[43m,\u001b[49m\u001b[43m \u001b[49m\u001b[43maxis\u001b[49m\u001b[43m,\u001b[49m\u001b[43m \u001b[49m\u001b[38;5;28;43;01mNone\u001b[39;49;00m\u001b[43m,\u001b[49m\u001b[43m \u001b[49m\u001b[43mout\u001b[49m\u001b[43m,\u001b[49m\n\u001b[1;32m   2811\u001b[0m \u001b[43m                          \u001b[49m\u001b[43mkeepdims\u001b[49m\u001b[38;5;241;43m=\u001b[39;49m\u001b[43mkeepdims\u001b[49m\u001b[43m,\u001b[49m\u001b[43m \u001b[49m\u001b[43minitial\u001b[49m\u001b[38;5;241;43m=\u001b[39;49m\u001b[43minitial\u001b[49m\u001b[43m,\u001b[49m\u001b[43m \u001b[49m\u001b[43mwhere\u001b[49m\u001b[38;5;241;43m=\u001b[39;49m\u001b[43mwhere\u001b[49m\u001b[43m)\u001b[49m\n",
      "File \u001b[0;32m/usr/share/miniconda/envs/analysis-essentials/lib/python3.11/site-packages/numpy/core/fromnumeric.py:88\u001b[0m, in \u001b[0;36m_wrapreduction\u001b[0;34m(obj, ufunc, method, axis, dtype, out, **kwargs)\u001b[0m\n\u001b[1;32m     85\u001b[0m         \u001b[38;5;28;01melse\u001b[39;00m:\n\u001b[1;32m     86\u001b[0m             \u001b[38;5;28;01mreturn\u001b[39;00m reduction(axis\u001b[38;5;241m=\u001b[39maxis, out\u001b[38;5;241m=\u001b[39mout, \u001b[38;5;241m*\u001b[39m\u001b[38;5;241m*\u001b[39mpasskwargs)\n\u001b[0;32m---> 88\u001b[0m \u001b[38;5;28;01mreturn\u001b[39;00m \u001b[43mufunc\u001b[49m\u001b[38;5;241;43m.\u001b[39;49m\u001b[43mreduce\u001b[49m\u001b[43m(\u001b[49m\u001b[43mobj\u001b[49m\u001b[43m,\u001b[49m\u001b[43m \u001b[49m\u001b[43maxis\u001b[49m\u001b[43m,\u001b[49m\u001b[43m \u001b[49m\u001b[43mdtype\u001b[49m\u001b[43m,\u001b[49m\u001b[43m \u001b[49m\u001b[43mout\u001b[49m\u001b[43m,\u001b[49m\u001b[43m \u001b[49m\u001b[38;5;241;43m*\u001b[39;49m\u001b[38;5;241;43m*\u001b[39;49m\u001b[43mpasskwargs\u001b[49m\u001b[43m)\u001b[49m\n",
      "\u001b[0;31mAxisError\u001b[0m: axis 15 is out of bounds for array of dimension 0"
     ]
    }
   ],
   "source": [
    "max(10, 15)"
   ]
  }
 ],
 "metadata": {
  "kernelspec": {
   "display_name": "Python 3 (ipykernel)",
   "language": "python",
   "name": "python3"
  },
  "language_info": {
   "codemirror_mode": {
    "name": "ipython",
    "version": 3
   },
   "file_extension": ".py",
   "mimetype": "text/x-python",
   "name": "python",
   "nbconvert_exporter": "python",
   "pygments_lexer": "ipython3",
   "version": "3.11.6"
  },
  "nbsphinx": {
   "execute": "auto"
  }
 },
 "nbformat": 4,
 "nbformat_minor": 4
}
