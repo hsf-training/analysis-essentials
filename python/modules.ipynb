{
 "cells": [
  {
   "cell_type": "markdown",
   "metadata": {
    "editable": true,
    "slideshow": {
     "slide_type": ""
    },
    "tags": []
   },
   "source": [
    "# Modules\n",
    "\n",
    "Python comes with lots of useful stuff, which is provided with modules\n",
    "(and submodules, see later).\n",
    "We have already met the maths module, but did not talk about how we started using it."
   ]
  },
  {
   "cell_type": "code",
   "execution_count": 1,
   "metadata": {
    "editable": true,
    "execution": {
     "iopub.execute_input": "2025-04-04T10:42:58.717408Z",
     "iopub.status.busy": "2025-04-04T10:42:58.717254Z",
     "iopub.status.idle": "2025-04-04T10:42:58.721836Z",
     "shell.execute_reply": "2025-04-04T10:42:58.721357Z"
    },
    "slideshow": {
     "slide_type": ""
    },
    "tags": []
   },
   "outputs": [],
   "source": [
    "import math"
   ]
  },
  {
   "cell_type": "code",
   "execution_count": 2,
   "metadata": {
    "editable": true,
    "execution": {
     "iopub.execute_input": "2025-04-04T10:42:58.723655Z",
     "iopub.status.busy": "2025-04-04T10:42:58.723321Z",
     "iopub.status.idle": "2025-04-04T10:42:58.727856Z",
     "shell.execute_reply": "2025-04-04T10:42:58.727417Z"
    },
    "slideshow": {
     "slide_type": ""
    },
    "tags": []
   },
   "outputs": [
    {
     "data": {
      "text/plain": [
       "<module 'math' from '/usr/share/miniconda/envs/analysis-essentials/lib/python3.11/lib-dynload/math.cpython-311-x86_64-linux-gnu.so'>"
      ]
     },
     "execution_count": 2,
     "metadata": {},
     "output_type": "execute_result"
    }
   ],
   "source": [
    "math"
   ]
  },
  {
   "cell_type": "code",
   "execution_count": 3,
   "metadata": {
    "editable": true,
    "execution": {
     "iopub.execute_input": "2025-04-04T10:42:58.729690Z",
     "iopub.status.busy": "2025-04-04T10:42:58.729304Z",
     "iopub.status.idle": "2025-04-04T10:42:58.732498Z",
     "shell.execute_reply": "2025-04-04T10:42:58.732038Z"
    },
    "slideshow": {
     "slide_type": ""
    },
    "tags": []
   },
   "outputs": [
    {
     "data": {
      "text/plain": [
       "3.141592653589793"
      ]
     },
     "execution_count": 3,
     "metadata": {},
     "output_type": "execute_result"
    }
   ],
   "source": [
    "math.pi"
   ]
  },
  {
   "cell_type": "code",
   "execution_count": 4,
   "metadata": {
    "editable": true,
    "execution": {
     "iopub.execute_input": "2025-04-04T10:42:58.734244Z",
     "iopub.status.busy": "2025-04-04T10:42:58.733950Z",
     "iopub.status.idle": "2025-04-04T10:42:58.737145Z",
     "shell.execute_reply": "2025-04-04T10:42:58.736697Z"
    },
    "slideshow": {
     "slide_type": ""
    },
    "tags": []
   },
   "outputs": [
    {
     "data": {
      "text/plain": [
       "0.8414709848078965"
      ]
     },
     "execution_count": 4,
     "metadata": {},
     "output_type": "execute_result"
    }
   ],
   "source": [
    "math.sin(1)"
   ]
  },
  {
   "cell_type": "markdown",
   "metadata": {
    "editable": true,
    "slideshow": {
     "slide_type": ""
    },
    "tags": []
   },
   "source": [
    "The path after `from` might look different on your computer.\n",
    "\n",
    "So, `math` is a _module_, and this seems to behave a lot like other objects we\n",
    "have met: it is a container with properties and methods attached that we can\n",
    "access with the dot operator `.`. Actually, that is pretty much all there is to\n",
    "them."
   ]
  },
  {
   "cell_type": "markdown",
   "metadata": {
    "editable": true,
    "slideshow": {
     "slide_type": ""
    },
    "tags": []
   },
   "source": [
    "## Using modules into your code: import\n",
    "\n",
    "The keyword `import`, usually specified at the beginning of your source code, is\n",
    "used to tell Python what modules you want to make available to your current\n",
    "code.\n",
    "\n",
    "There are different ways of specifying an import. The one we have seen already\n",
    "simply makes the module available to you:"
   ]
  },
  {
   "cell_type": "code",
   "execution_count": 5,
   "metadata": {
    "editable": true,
    "execution": {
     "iopub.execute_input": "2025-04-04T10:42:58.738976Z",
     "iopub.status.busy": "2025-04-04T10:42:58.738681Z",
     "iopub.status.idle": "2025-04-04T10:42:58.740998Z",
     "shell.execute_reply": "2025-04-04T10:42:58.740519Z"
    },
    "slideshow": {
     "slide_type": ""
    },
    "tags": []
   },
   "outputs": [],
   "source": [
    "import random"
   ]
  },
  {
   "cell_type": "code",
   "execution_count": 6,
   "metadata": {
    "editable": true,
    "execution": {
     "iopub.execute_input": "2025-04-04T10:42:58.742996Z",
     "iopub.status.busy": "2025-04-04T10:42:58.742616Z",
     "iopub.status.idle": "2025-04-04T10:42:58.746081Z",
     "shell.execute_reply": "2025-04-04T10:42:58.745595Z"
    },
    "slideshow": {
     "slide_type": ""
    },
    "tags": []
   },
   "outputs": [
    {
     "data": {
      "text/plain": [
       "0.3230880253003595"
      ]
     },
     "execution_count": 6,
     "metadata": {},
     "output_type": "execute_result"
    }
   ],
   "source": [
    "random.uniform(0, 1)"
   ]
  },
  {
   "cell_type": "markdown",
   "metadata": {
    "editable": true,
    "slideshow": {
     "slide_type": ""
    },
    "tags": []
   },
   "source": [
    "The module `random` contains functions useful for random number generation: with\n",
    "the `import` above, we have made the `random` module accessible, and everything\n",
    "within that module is accessible via the syntax `random.<name>`. For the record,\n",
    "the `uniform(x,y)` method returns a pseudo-random number within the range\n",
    "`$ [x,y] $`.\n",
    "\n",
    "Sometimes you want to make only one or more things from a given module\n",
    "accessible: Python gives you the ability to import just those:"
   ]
  },
  {
   "cell_type": "code",
   "execution_count": 7,
   "metadata": {
    "editable": true,
    "execution": {
     "iopub.execute_input": "2025-04-04T10:42:58.747776Z",
     "iopub.status.busy": "2025-04-04T10:42:58.747621Z",
     "iopub.status.idle": "2025-04-04T10:42:58.750038Z",
     "shell.execute_reply": "2025-04-04T10:42:58.749649Z"
    },
    "slideshow": {
     "slide_type": ""
    },
    "tags": []
   },
   "outputs": [],
   "source": [
    "from random import choice, uniform"
   ]
  },
  {
   "cell_type": "code",
   "execution_count": 8,
   "metadata": {
    "editable": true,
    "execution": {
     "iopub.execute_input": "2025-04-04T10:42:58.751833Z",
     "iopub.status.busy": "2025-04-04T10:42:58.751514Z",
     "iopub.status.idle": "2025-04-04T10:42:58.754597Z",
     "shell.execute_reply": "2025-04-04T10:42:58.754210Z"
    },
    "slideshow": {
     "slide_type": ""
    },
    "tags": []
   },
   "outputs": [
    {
     "data": {
      "text/plain": [
       "0.9404137314411893"
      ]
     },
     "execution_count": 8,
     "metadata": {},
     "output_type": "execute_result"
    }
   ],
   "source": [
    "uniform(0, 1)"
   ]
  },
  {
   "cell_type": "code",
   "execution_count": 9,
   "metadata": {
    "editable": true,
    "execution": {
     "iopub.execute_input": "2025-04-04T10:42:58.756202Z",
     "iopub.status.busy": "2025-04-04T10:42:58.756048Z",
     "iopub.status.idle": "2025-04-04T10:42:58.759379Z",
     "shell.execute_reply": "2025-04-04T10:42:58.759003Z"
    },
    "slideshow": {
     "slide_type": ""
    },
    "tags": []
   },
   "outputs": [
    {
     "data": {
      "text/plain": [
       "-1"
      ]
     },
     "execution_count": 9,
     "metadata": {},
     "output_type": "execute_result"
    }
   ],
   "source": [
    "choice([ 33, 56, 42, -1 ])"
   ]
  },
  {
   "cell_type": "markdown",
   "metadata": {
    "editable": true,
    "slideshow": {
     "slide_type": ""
    },
    "tags": []
   },
   "source": [
    "\n",
    "In this case the `uniform` and `choice` names are available _directly_, _i.e._\n",
    "without using the `random` prefix. All other functions in the `random` module\n",
    "are not available in this case. For the record, the `choice` function returns a\n",
    "random element from a given collection.\n",
    "\n",
    "Another option is to import _all_ functions of a certain module and make them\n",
    "available without a prefix, which you should *never* do (except in very special cases if you're writing a library)"
   ]
  },
  {
   "cell_type": "code",
   "execution_count": 10,
   "metadata": {
    "editable": true,
    "execution": {
     "iopub.execute_input": "2025-04-04T10:42:58.761024Z",
     "iopub.status.busy": "2025-04-04T10:42:58.760874Z",
     "iopub.status.idle": "2025-04-04T10:42:58.763072Z",
     "shell.execute_reply": "2025-04-04T10:42:58.762690Z"
    },
    "slideshow": {
     "slide_type": ""
    },
    "tags": []
   },
   "outputs": [],
   "source": [
    "# from random import *  # don't run this :) never"
   ]
  },
  {
   "cell_type": "markdown",
   "metadata": {
    "editable": true,
    "slideshow": {
     "slide_type": ""
    },
    "tags": []
   },
   "source": [
    "This is not that recommended as you generally do not know what is the extent\n",
    "of what you are importing and you might end up with name clashes between your\n",
    "current code and the imported module, as it will all be in the same namespace,\n",
    "meaning directly available with no need for a `.<name>` syntax. \n",
    "\n",
    "Lastly, it is possible to import modules, or specific names from a module,\n",
    "under an alias."
   ]
  },
  {
   "cell_type": "code",
   "execution_count": 11,
   "metadata": {
    "editable": true,
    "execution": {
     "iopub.execute_input": "2025-04-04T10:42:58.764846Z",
     "iopub.status.busy": "2025-04-04T10:42:58.764692Z",
     "iopub.status.idle": "2025-04-04T10:42:58.767031Z",
     "shell.execute_reply": "2025-04-04T10:42:58.766645Z"
    },
    "slideshow": {
     "slide_type": ""
    },
    "tags": []
   },
   "outputs": [],
   "source": [
    "from random import uniform as uni"
   ]
  },
  {
   "cell_type": "code",
   "execution_count": 12,
   "metadata": {
    "editable": true,
    "execution": {
     "iopub.execute_input": "2025-04-04T10:42:58.768679Z",
     "iopub.status.busy": "2025-04-04T10:42:58.768517Z",
     "iopub.status.idle": "2025-04-04T10:42:58.771760Z",
     "shell.execute_reply": "2025-04-04T10:42:58.771340Z"
    },
    "slideshow": {
     "slide_type": ""
    },
    "tags": []
   },
   "outputs": [
    {
     "data": {
      "text/plain": [
       "0.8047876397887317"
      ]
     },
     "execution_count": 12,
     "metadata": {},
     "output_type": "execute_result"
    }
   ],
   "source": [
    "uni(0, 1)"
   ]
  },
  {
   "cell_type": "code",
   "execution_count": 13,
   "metadata": {
    "editable": true,
    "execution": {
     "iopub.execute_input": "2025-04-04T10:42:58.773526Z",
     "iopub.status.busy": "2025-04-04T10:42:58.773229Z",
     "iopub.status.idle": "2025-04-04T10:42:58.816821Z",
     "shell.execute_reply": "2025-04-04T10:42:58.816402Z"
    },
    "slideshow": {
     "slide_type": ""
    },
    "tags": []
   },
   "outputs": [],
   "source": [
    "import numpy as np"
   ]
  },
  {
   "cell_type": "code",
   "execution_count": 14,
   "metadata": {
    "editable": true,
    "execution": {
     "iopub.execute_input": "2025-04-04T10:42:58.819088Z",
     "iopub.status.busy": "2025-04-04T10:42:58.818871Z",
     "iopub.status.idle": "2025-04-04T10:42:58.823350Z",
     "shell.execute_reply": "2025-04-04T10:42:58.822937Z"
    },
    "slideshow": {
     "slide_type": ""
    },
    "tags": []
   },
   "outputs": [
    {
     "data": {
      "text/plain": [
       "np.float64(0.0)"
      ]
     },
     "execution_count": 14,
     "metadata": {},
     "output_type": "execute_result"
    }
   ],
   "source": [
    "np.arccos(1)"
   ]
  },
  {
   "cell_type": "markdown",
   "metadata": {
    "editable": true,
    "slideshow": {
     "slide_type": ""
    },
    "tags": []
   },
   "source": [
    "This option is useful when you need to assign shorter aliases to names you will\n",
    "use frequently. In particular, the alias `np` for the `numpy` module will be\n",
    "encountered a lot.\n",
    "\n",
    "Note that modules can have submodules, specified with extra dots `.`:"
   ]
  },
  {
   "cell_type": "code",
   "execution_count": 15,
   "metadata": {
    "editable": true,
    "execution": {
     "iopub.execute_input": "2025-04-04T10:42:58.826023Z",
     "iopub.status.busy": "2025-04-04T10:42:58.825726Z",
     "iopub.status.idle": "2025-04-04T10:42:58.828146Z",
     "shell.execute_reply": "2025-04-04T10:42:58.827709Z"
    },
    "slideshow": {
     "slide_type": ""
    },
    "tags": []
   },
   "outputs": [],
   "source": [
    "from pathlib import Path"
   ]
  },
  {
   "cell_type": "code",
   "execution_count": 16,
   "metadata": {
    "editable": true,
    "execution": {
     "iopub.execute_input": "2025-04-04T10:42:58.831339Z",
     "iopub.status.busy": "2025-04-04T10:42:58.830327Z",
     "iopub.status.idle": "2025-04-04T10:42:58.835535Z",
     "shell.execute_reply": "2025-04-04T10:42:58.835143Z"
    },
    "slideshow": {
     "slide_type": ""
    },
    "tags": []
   },
   "outputs": [
    {
     "data": {
      "text/plain": [
       "PosixPath('/home/runner/work/analysis-essentials/analysis-essentials/python/..')"
      ]
     },
     "execution_count": 16,
     "metadata": {},
     "output_type": "execute_result"
    }
   ],
   "source": [
    "Path('..').absolute()"
   ]
  },
  {
   "cell_type": "markdown",
   "metadata": {
    "editable": true,
    "slideshow": {
     "slide_type": ""
    },
    "tags": []
   },
   "source": [
    "When importing a module, its **submodules are not available by default and you\n",
    "must import them explicitly**:"
   ]
  },
  {
   "cell_type": "code",
   "execution_count": 17,
   "metadata": {
    "editable": true,
    "execution": {
     "iopub.execute_input": "2025-04-04T10:42:58.838524Z",
     "iopub.status.busy": "2025-04-04T10:42:58.837661Z",
     "iopub.status.idle": "2025-04-04T10:42:58.841017Z",
     "shell.execute_reply": "2025-04-04T10:42:58.840599Z"
    },
    "slideshow": {
     "slide_type": ""
    },
    "tags": []
   },
   "outputs": [],
   "source": [
    "import os"
   ]
  },
  {
   "cell_type": "code",
   "execution_count": 18,
   "metadata": {
    "editable": true,
    "execution": {
     "iopub.execute_input": "2025-04-04T10:42:58.843926Z",
     "iopub.status.busy": "2025-04-04T10:42:58.842926Z",
     "iopub.status.idle": "2025-04-04T10:42:58.847994Z",
     "shell.execute_reply": "2025-04-04T10:42:58.847607Z"
    },
    "slideshow": {
     "slide_type": ""
    },
    "tags": []
   },
   "outputs": [
    {
     "data": {
      "text/plain": [
       "'/home/runner/work/analysis-essentials/analysis-essentials/python'"
      ]
     },
     "execution_count": 18,
     "metadata": {},
     "output_type": "execute_result"
    }
   ],
   "source": [
    "os.getcwd()"
   ]
  },
  {
   "cell_type": "markdown",
   "metadata": {
    "editable": true,
    "slideshow": {
     "slide_type": ""
    },
    "tags": []
   },
   "source": [
    "It is also possible to import several modules with a single import command:"
   ]
  },
  {
   "cell_type": "code",
   "execution_count": 19,
   "metadata": {
    "editable": true,
    "execution": {
     "iopub.execute_input": "2025-04-04T10:42:58.850250Z",
     "iopub.status.busy": "2025-04-04T10:42:58.849940Z",
     "iopub.status.idle": "2025-04-04T10:42:58.853340Z",
     "shell.execute_reply": "2025-04-04T10:42:58.852889Z"
    },
    "slideshow": {
     "slide_type": ""
    },
    "tags": []
   },
   "outputs": [],
   "source": [
    "import math\n",
    "import os\n",
    "import sys"
   ]
  },
  {
   "cell_type": "markdown",
   "metadata": {
    "editable": true,
    "slideshow": {
     "slide_type": ""
    },
    "tags": []
   },
   "source": [
    "but this is [not recommended by the Python style guide][https://www.python.org/dev/peps/pep-0008/#imports], which\n",
    "suggests to use several import statements, one per module, as it improves\n",
    "readability:"
   ]
  },
  {
   "cell_type": "code",
   "execution_count": 20,
   "metadata": {
    "editable": true,
    "execution": {
     "iopub.execute_input": "2025-04-04T10:42:58.856301Z",
     "iopub.status.busy": "2025-04-04T10:42:58.855406Z",
     "iopub.status.idle": "2025-04-04T10:42:58.858867Z",
     "shell.execute_reply": "2025-04-04T10:42:58.858436Z"
    },
    "slideshow": {
     "slide_type": ""
    },
    "tags": []
   },
   "outputs": [],
   "source": [
    "import math\n",
    "import os\n",
    "import sys"
   ]
  },
  {
   "cell_type": "markdown",
   "metadata": {
    "editable": true,
    "slideshow": {
     "slide_type": ""
    },
    "tags": []
   },
   "source": [
    "If you need to import several names from a single module, you can split an import\n",
    "function over multiple lines:"
   ]
  },
  {
   "cell_type": "code",
   "execution_count": 21,
   "metadata": {
    "editable": true,
    "execution": {
     "iopub.execute_input": "2025-04-04T10:42:58.861793Z",
     "iopub.status.busy": "2025-04-04T10:42:58.860805Z",
     "iopub.status.idle": "2025-04-04T10:42:58.864306Z",
     "shell.execute_reply": "2025-04-04T10:42:58.863918Z"
    },
    "slideshow": {
     "slide_type": ""
    },
    "tags": []
   },
   "outputs": [],
   "source": [
    "from math import e, exp, floor, log"
   ]
  },
  {
   "cell_type": "code",
   "execution_count": 22,
   "metadata": {
    "editable": true,
    "execution": {
     "iopub.execute_input": "2025-04-04T10:42:58.867347Z",
     "iopub.status.busy": "2025-04-04T10:42:58.866436Z",
     "iopub.status.idle": "2025-04-04T10:42:58.871524Z",
     "shell.execute_reply": "2025-04-04T10:42:58.871106Z"
    },
    "slideshow": {
     "slide_type": ""
    },
    "tags": []
   },
   "outputs": [
    {
     "data": {
      "text/plain": [
       "2"
      ]
     },
     "execution_count": 22,
     "metadata": {},
     "output_type": "execute_result"
    }
   ],
   "source": [
    "floor(exp(log(e)))"
   ]
  },
  {
   "cell_type": "markdown",
   "metadata": {
    "editable": true,
    "slideshow": {
     "slide_type": ""
    },
    "tags": []
   },
   "source": [
    "However, while these are possibilities, importing the modules is the usual way to go. If you're unsure, just look around for good examples; remember, consistency is the key!"
   ]
  },
  {
   "cell_type": "markdown",
   "metadata": {
    "editable": true,
    "slideshow": {
     "slide_type": ""
    },
    "tags": []
   },
   "source": [
    "## The standard library\n",
    "\n",
    "The set of things that Python comes with, from all of the types of objects to\n",
    "all of the different modules, is called the [standard library][stl]. It is\n",
    "recommended to browse through the standard library documentation to see what is\n",
    "available: Python is rich of standard modules, and you should reuse them as much\n",
    "as possible instead of rewriting code on your own.\n",
    "\n",
    "Some of the categories for which standard modules are available are:\n",
    "\n",
    "* processing paths\n",
    "* date and time manipulation\n",
    "* mathematical functions\n",
    "* parsing of certain file formats\n",
    "* support for multiple processes and threads\n",
    "* ...\n",
    "\n",
    "Use standard Python library modules with confidence: being part of any standard\n",
    "Python distribution, your code will be easily portable."
   ]
  },
  {
   "cell_type": "markdown",
   "metadata": {
    "editable": true,
    "slideshow": {
     "slide_type": ""
    },
    "tags": []
   },
   "source": [
    "## Modules from PyPi\n",
    "\n",
    "Many external modules can be found on [PyPi][pypi], the Python Package Index repository.\n",
    "\n",
    "If a certain module you need is not available on your distribution you can\n",
    "easily install it with the `pip` shell command as seen in the previous lectures."
   ]
  },
  {
   "cell_type": "markdown",
   "metadata": {
    "editable": true,
    "slideshow": {
     "slide_type": ""
    },
    "tags": []
   },
   "source": [
    "## (Advanced) Write your first Python module\n",
    "\n",
    "The simplest Python module you can write is just a `.py` file with some\n",
    "functions inside:\n",
    "\n",
    "\n",
    "```python\n",
    "# myfirstmodule.py\n",
    "\n",
    "def one():\n",
    "    print('this is my first function')\n",
    "\n",
    "def two():\n",
    "    print('this is my second function')\n",
    "```\n",
    "\n",
    "You can now fire an `ipython` shell and use those functions right away (because it automatically picks up modules aka `.py` files inside the working directory)"
   ]
  },
  {
   "cell_type": "markdown",
   "metadata": {
    "editable": true,
    "slideshow": {
     "slide_type": ""
    },
    "tags": []
   },
   "source": [
    "```python\n",
    ">>> import myfirstmodule\n",
    ">>> myfirstmodule.one()\n",
    "this is my first function\n",
    ">>> myfirstmodule.two()\n",
    "this is my second function\n",
    "```\n",
    "\n",
    "By simply calling the file `myfirstmodule.py` we have made it available as a\n",
    "module named `myfirstmodule` - given that the file is in the same directory\n",
    "where we have launched the Python interpreter.\n",
    "\n",
    "### Module name restrictions\n",
    "\n",
    "Note that you cannot pick any name you want for a module! From the\n",
    "[Python style guide][https://www.python.org/dev/peps/pep-0008/#package-and-module-names\n",
    "], we gather that we should use \"short,\n",
    "all-lowercase names\". As a matter of fact, if we used dashes in the file name,\n",
    "we would have ended up with a syntax error while trying to load it:"
   ]
  },
  {
   "cell_type": "markdown",
   "metadata": {
    "editable": true,
    "slideshow": {
     "slide_type": ""
    },
    "tags": []
   },
   "source": [
    "```python\n",
    ">>> import my-first-module\n",
    "  File \"<ipython-input-1-ef292d9e19fe>\", line 1\n",
    "    import my-first-module\n",
    "             ^\n",
    "SyntaxError: invalid syntax\n",
    "```\n",
    "\n",
    "Python treats `-` as a minus and does not understand your intentions."
   ]
  },
  {
   "cell_type": "code",
   "execution_count": null,
   "metadata": {
    "editable": true,
    "slideshow": {
     "slide_type": ""
    },
    "tags": []
   },
   "outputs": [],
   "source": []
  },
  {
   "cell_type": "code",
   "execution_count": null,
   "metadata": {
    "editable": true,
    "slideshow": {
     "slide_type": ""
    },
    "tags": []
   },
   "outputs": [],
   "source": []
  },
  {
   "cell_type": "code",
   "execution_count": null,
   "metadata": {
    "editable": true,
    "slideshow": {
     "slide_type": ""
    },
    "tags": []
   },
   "outputs": [],
   "source": []
  },
  {
   "cell_type": "markdown",
   "metadata": {
    "editable": true,
    "slideshow": {
     "slide_type": ""
    },
    "tags": []
   },
   "source": [
    "\n",
    "\n",
    "\n",
    "\n",
    "\n",
    "\n",
    "{% endcallout %}\n",
    "\n",
    "\n",
    "## Write a structured module\n",
    "\n",
    "Let's now create a more structured module, with submodules and different files.\n",
    "We can start from the `myfirstmodule.py` file and create a directory structure:\n",
    "\n",
    "```bash\n",
    "$ mkdir yabba\n",
    "$ cp myfirstmodule.py yabba/__init__.py\n",
    "```\n",
    "\n",
    "We have reused the same file created before, copied it into a directory called\n",
    "`yabba` and renamed it to `__init__.py`. The double underscore should ring a\n",
    "bell: this is a Python special name, and it represents the \"main file\" within\n",
    "a module, whereas the directory name now represents the module name.\n",
    "\n",
    "This means that our module is called `yabba`, and if we import it, functions\n",
    "from `__init__.py` will be available:\n",
    "\n",
    "```python\n",
    ">>> import yabba\n",
    ">>> yabba.one()\n",
    "this is my first function\n",
    ">>> yabba.two()\n",
    "this is my second function\n",
    "```\n",
    "\n",
    "We can create an additional file inside the `yabba` directory, say\n",
    "`yabba/extra.py` and have more functions there:\n",
    "\n",
    "```python\n",
    "# yabba/extra.py\n",
    "\n",
    "def three():\n",
    "  print 'this function will return the number three'\n",
    "  return 3\n",
    "```\n",
    "\n",
    "We have effectively made `extra` a submodule of `yabba`. Let's try:\n",
    "\n",
    "```python\n",
    ">>> import yabba\n",
    ">>> filter(lambda x: not x.startswith('__'), dir(yabba))\n",
    "['one', 'two']\n",
    ">>> import yabba.extra\n",
    ">>> yabba.extra.three()\n",
    "yabba.extra.three()\n",
    "this function will return the number three\n",
    "3\n",
    "```\n",
    "\n",
    "{% challenge \"What have I done with the filter function?\" %}\n",
    "\n",
    "We have used the filter function above to list the functions we have defined\n",
    "in our module. Can you describe in detail what the commands above do?\n",
    "{% solution \"Solution\" %}\n",
    "\n",
    "The `dir(module)` command lists all _names_ (not necessarily functions, not\n",
    "necessarily defined by us) contained in a given imported module. We have used the\n",
    "`filter()` command to filter out all names starting with two underscores. Every\n",
    "item returned by `dir()` is passed as `x` to the lambda function which returns\n",
    "`True` or `False`, determining whether the `filter()` function should keep or\n",
    "discard the current element.\n",
    "\n",
    "{% endsolution %}\n",
    "\n",
    "{% endchallenge %}\n",
    "\n",
    "\n",
    "## Run a module\n",
    "\n",
    "We can make a Python module that can be easily imported by other Python\n",
    "programs, but we can also make it in a way that it can be run directly as a\n",
    "Python script.\n",
    "\n",
    "Let's write this special module and call it `runnable.py`:\n",
    "\n",
    "```python\n",
    "#!/usr/bin/env python\n",
    "\n",
    "long_format = False\n",
    "\n",
    "def print_label(label, msg):\n",
    "    if long_format:\n",
    "        out = '{0}: {1}'.format(label.upper(), str(msg))\n",
    "    else:\n",
    "        out = '{0}-{1}'.format(label[0].upper(), str(msg))\n",
    "    print out\n",
    "\n",
    "def debug(msg):\n",
    "    print_label('debug', msg)\n",
    "\n",
    "def warning(msg):\n",
    "    print_label('warning', msg)\n",
    "\n",
    "if __name__ == '__main__':\n",
    "    print '*** Testing print functions ***'\n",
    "    debug('This is a debug message')\n",
    "    long_format = True\n",
    "    warning('This is a warning message with a long label')\n",
    "else:\n",
    "    print 'Module {0} is being imported'.format(__name__)\n",
    "```\n",
    "\n",
    "Now let's make it executable:\n",
    "\n",
    "```bash\n",
    "$ chmod +x runnable.py\n",
    "```\n",
    "\n",
    "It can be now run as a normal executable from your shell:\n",
    "\n",
    "```\n",
    "$ ./runnable.py\n",
    "*** Testing print functions ***\n",
    "D-This is a debug message\n",
    "WARNING: This is a warning message with a long label\n",
    "```\n",
    "\n",
    "There are two outstanding notions here. First off, the first line is a\n",
    "\"shebang\": it really has to be the _first_ line in a file (it cannot be the\n",
    "second, or \"one of the first\", or the first non-empty) and it basically tells\n",
    "your shell that your executable text file has to be interpreted by the current\n",
    "Python interpreter. Just use this line as it is.\n",
    "\n",
    "Secondly, we notice we have a peculiar `if` condition with a block that gets\n",
    "executed when we run the file. `__name__` is a special internal Python variable\n",
    "which is set to the module name in case the module is imported. When the module\n",
    "is ran, it is set to the special value `\"__main__\"`.\n",
    "\n",
    "The `else:` condition we have added is just to show what happens when you import\n",
    "the module instead:\n",
    "\n",
    "```python\n",
    ">>> import runnable\n",
    "Module runnable is being imported\n",
    ">>> runnable.warning('hey I can use it from here too')\n",
    "W-hey I can use it from here too\n",
    "```\n",
    "\n",
    "Now, the `if` condition is not necessary when you want to run the module - those\n",
    "lines in the `if` block will be executed anyway. It is however used to _prevent_\n",
    "some lines from being executed when you import the file as a module.\n",
    "\n",
    "Please also note that module imports are typically _silent_, so the `else:`\n",
    "condition with a printout would not exist in real life.\n",
    "\n",
    "\n",
    "[stl]: https://docs.python.org/2/library/index.html\n",
    "[pep8-import]: https://www.python.org/dev/peps/pep-0008/#imports\n",
    "[pep8-modulenames]: https://www.python.org/dev/peps/pep-0008/#package-and-module-names\n",
    "[pypi]: https://pypi.org/\n",
    "[anaconda]: https://www.anaconda.com/distribution/\n",
    "[lcg_virtualenv]: https://gitlab.cern.ch/cburr/lcg_virtualenv/\n"
   ]
  }
 ],
 "metadata": {
  "language_info": {
   "codemirror_mode": {
    "name": "ipython",
    "version": 3
   },
   "file_extension": ".py",
   "mimetype": "text/x-python",
   "name": "python",
   "nbconvert_exporter": "python",
   "pygments_lexer": "ipython3",
   "version": "3.11.11"
  }
 },
 "nbformat": 4,
 "nbformat_minor": 4
}
