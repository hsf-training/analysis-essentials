{
 "cells": [
  {
   "cell_type": "markdown",
   "metadata": {
    "editable": true,
    "slideshow": {
     "slide_type": ""
    },
    "tags": []
   },
   "source": [
    "# Functions\n",
    "Functions, or methods if they are associated with a class, take some input and return some output. \n",
    "\n",
    "They are the equivalent of a mathematical function $f(x) = y$, where the function `f` takes zero or more aruments and returns zero or more values. The best way to think about a function is that it is executed and _replaced_ by the return value, like a mathematical function. `f` is a function, `x` are values. `f(x)` is not a function anymore and isn't `x` either, it's whatever `y` is, the return value. Like mathematical functions, you could \"copy-paste\" the code-block of the function in the place (technically).\n",
    "\n",
    "We have already used lots of *functions*, like `len`, `abs` and `print` as well as *methods* like `append` from `list`, `get` from `dict` or `replace` from `str`. In this lesson we will start creating our own.\n",
    "\n",
    "As we have seen, methods can do a lot of stuff with very little typing. Methods are normally used to encapsulate small pieces of code that we want to reuse.\n",
    "\n",
    "Let’s rewrite len as an example."
   ]
  },
  {
   "cell_type": "code",
   "execution_count": null,
   "metadata": {
    "editable": true,
    "slideshow": {
     "slide_type": ""
    },
    "tags": []
   },
   "outputs": [],
   "source": [
    "def length(obj):\n",
    "    \"\"\"Return the number of elements in `obj`.\n",
    "    Args\n",
    "    ----\n",
    "        obj (iterable): Object the length will be calculated from.\n",
    "    Return\n",
    "    ------\n",
    "        int: number of elements in `obj`.\n",
    "    \"\"\"\n",
    "    i = 0\n",
    "    for _ in obj:\n",
    "        i += 1\n",
    "    return i"
   ]
  },
  {
   "cell_type": "code",
   "execution_count": null,
   "metadata": {},
   "outputs": [],
   "source": [
    "length"
   ]
  },
  {
   "cell_type": "code",
   "execution_count": null,
   "metadata": {},
   "outputs": [],
   "source": [
    "help(length)"
   ]
  },
  {
   "cell_type": "markdown",
   "metadata": {},
   "source": [
    "or viewing the docs view in your preferred editor."
   ]
  },
  {
   "cell_type": "code",
   "execution_count": null,
   "metadata": {},
   "outputs": [],
   "source": [
    "length('A b c!')"
   ]
  },
  {
   "cell_type": "code",
   "execution_count": null,
   "metadata": {},
   "outputs": [],
   "source": [
    "length(range(5))"
   ]
  },
  {
   "cell_type": "markdown",
   "metadata": {
    "editable": true,
    "slideshow": {
     "slide_type": ""
    },
    "tags": []
   },
   "source": [
    "There’s a lot going on here, so we will break it down line-by-line.\n",
    "\n",
    "1. `def length(obj)`: methods are _defined_ using `def`, followed by a space,\n",
    "   and then the name you want to give the method. Inside the parentheses\n",
    "   after the name, we list the inputs, or _arguments_, that we want our method\n",
    "   to accept.  In this case, we only need a single input: the thing we want to\n",
    "   compute the length of.  Finally, there’s a colon at the end, just like with\n",
    "   a `for` or `if`, which means a _block_ of code follows (which must be\n",
    "   indented).\n",
    "   Names are conventionally in lowercase, with underscores separating words - snakecase.\n",
    "3. `\"\"\"Return the number of elements in obj.\"\"\"`: This is the _docstring_. It’s\n",
    "   just a documentation string, defined literally with three double quotes so that we can\n",
    "   include linebreaks. By placing a string here, Python makes the string\n",
    "   available to use when we pass our function to `help` and in a lot of other places\n",
    "   like docs viewer of a decent editor or even allows to automatically generate \n",
    "   documents including HTML with the docs. Documenting your\n",
    "   functions is a very good idea! It makes it clear to others, and to\n",
    "   future-you, what the method is supposed to do.\n",
    "   The formatting of docstrings is standardized (there are 2-3 different ones).\n",
    "   As for code style, do not invent your own but make it easier for everyone\n",
    "   (including your future self).\n",
    "4. The method block. This is the code that will run whenever you _call_ your\n",
    "   method, like `length([1])`. The code in the block has access to the\n",
    "   arguments and to any variables defined _before_ the method definition."
   ]
  },
  {
   "cell_type": "markdown",
   "metadata": {
    "editable": true,
    "slideshow": {
     "slide_type": ""
    },
    "tags": []
   },
   "source": [
    "Remark: there are comments (with `#`) and docstrings. Both serve a very different purpose\n",
    "\n",
    " - comments `#` are for people who _read_ the code. Other developers that don't want to just\n",
    "   use your function but _change_ it. They can be short and serve the purpose to make the\n",
    "   code more readable. Typical example: adding a comment on a `- 1` or `+ 1` added somewhere,\n",
    "   such as ` len(x) - 1  # we don't need the border`. If a block of code implements a hard\n",
    "   to read algorithm, it is also appropriate to use several `#` lines to explain beforehand\n",
    "   what is going to happen.\n",
    "   _Never_ use tripple quotes `\"\"\"` to make a large comment! Use always `#`, any decent\n",
    "   editor is able to (un)comment several lines at once. (usually ctrl + /)\n",
    " - Docstrings are for users. If someone imports your function, the docstrings tells\n",
    "   _how to use it_ and what it does exactly. It does, however, not contain any (unnecessary)\n",
    "   information about the implementation. It's for someone who will _not_ read the source code.\n",
    "   Example are functions that we used, like `len`: we never looked at the source code, but the\n",
    "   `help(len)` gave us all the information that we needed to *use* it."
   ]
  },
  {
   "cell_type": "code",
   "execution_count": null,
   "metadata": {
    "editable": true,
    "slideshow": {
     "slide_type": ""
    },
    "tags": []
   },
   "outputs": [],
   "source": [
    "x = 1"
   ]
  },
  {
   "cell_type": "code",
   "execution_count": null,
   "metadata": {
    "editable": true,
    "slideshow": {
     "slide_type": ""
    },
    "tags": []
   },
   "outputs": [],
   "source": [
    "def top_function():\n",
    "   \"\"\"Do something silly.\"\"\"\n",
    "   print(x)\n",
    "   print(y)"
   ]
  },
  {
   "cell_type": "code",
   "execution_count": null,
   "metadata": {
    "editable": true,
    "slideshow": {
     "slide_type": ""
    },
    "tags": [
     "raises-exception"
    ]
   },
   "outputs": [],
   "source": [
    "top_function()"
   ]
  },
  {
   "cell_type": "code",
   "execution_count": null,
   "metadata": {
    "editable": true,
    "slideshow": {
     "slide_type": ""
    },
    "tags": []
   },
   "outputs": [],
   "source": [
    "y = 2"
   ]
  },
  {
   "cell_type": "code",
   "execution_count": null,
   "metadata": {
    "editable": true,
    "slideshow": {
     "slide_type": ""
    },
    "tags": []
   },
   "outputs": [],
   "source": [
    "top_function()"
   ]
  },
  {
   "cell_type": "markdown",
   "metadata": {
    "editable": true,
    "slideshow": {
     "slide_type": ""
    },
    "tags": []
   },
   "source": [
    "In general, you should try to minimise the number of variables outside your\n",
    "  method that you use inside. It makes figuring out what the method does much\n",
    "  harder, as you have to look elsewhere in the code to find things out.\n",
    "  \n",
    "4. `return i`: This defines the _output_ of the method, the thing that you get\n",
    "   back when you call the method. You don’t have to return anything, in which\n",
    "   case Python will implicitly make your function return `None`, or you can\n",
    "   return multiple things at once."
   ]
  },
  {
   "cell_type": "code",
   "execution_count": null,
   "metadata": {
    "editable": true,
    "slideshow": {
     "slide_type": ""
    },
    "tags": []
   },
   "outputs": [],
   "source": [
    "def no_return():\n",
    "    1 + 1"
   ]
  },
  {
   "cell_type": "code",
   "execution_count": null,
   "metadata": {
    "editable": true,
    "slideshow": {
     "slide_type": ""
    },
    "tags": []
   },
   "outputs": [],
   "source": [
    "no_return()"
   ]
  },
  {
   "cell_type": "code",
   "execution_count": null,
   "metadata": {
    "editable": true,
    "slideshow": {
     "slide_type": ""
    },
    "tags": []
   },
   "outputs": [],
   "source": [
    "no_return() is None"
   ]
  },
  {
   "cell_type": "code",
   "execution_count": null,
   "metadata": {
    "editable": true,
    "slideshow": {
     "slide_type": ""
    },
    "tags": []
   },
   "outputs": [],
   "source": [
    "def such_output():\n",
    "    return 'wow', 'much clever', 213  # equivalent to (return 'wow', 'much clever', 213)"
   ]
  },
  {
   "cell_type": "markdown",
   "metadata": {
    "editable": true,
    "slideshow": {
     "slide_type": ""
    },
    "tags": []
   },
   "source": [
    "You can see that returning multiple things implicitly means returning a tuple, so we can choose to assign one variable per value while calling the method."
   ]
  },
  {
   "cell_type": "code",
   "execution_count": null,
   "metadata": {
    "editable": true,
    "slideshow": {
     "slide_type": ""
    },
    "tags": []
   },
   "outputs": [],
   "source": [
    "help(len)"
   ]
  },
  {
   "cell_type": "code",
   "execution_count": null,
   "metadata": {
    "editable": true,
    "slideshow": {
     "slide_type": ""
    },
    "tags": []
   },
   "outputs": [],
   "source": [
    "def add(x, y):\n",
    "   \"\"\"Return the sum of x and y.\"\"\"\n",
    "   return x + y"
   ]
  },
  {
   "cell_type": "code",
   "execution_count": null,
   "metadata": {
    "editable": true,
    "slideshow": {
     "slide_type": ""
    },
    "tags": []
   },
   "outputs": [],
   "source": [
    "add(1, 2)"
   ]
  },
  {
   "cell_type": "code",
   "execution_count": null,
   "metadata": {
    "editable": true,
    "slideshow": {
     "slide_type": ""
    },
    "tags": []
   },
   "outputs": [],
   "source": [
    "add(x=1, y=2)"
   ]
  },
  {
   "cell_type": "code",
   "execution_count": null,
   "metadata": {
    "editable": true,
    "slideshow": {
     "slide_type": ""
    },
    "tags": []
   },
   "outputs": [],
   "source": [
    "add(1, y=2)"
   ]
  },
  {
   "cell_type": "code",
   "execution_count": null,
   "metadata": {
    "editable": true,
    "slideshow": {
     "slide_type": ""
    },
    "tags": []
   },
   "outputs": [],
   "source": [
    "add(y=2, x=1)"
   ]
  },
  {
   "cell_type": "code",
   "execution_count": null,
   "metadata": {
    "editable": true,
    "slideshow": {
     "slide_type": ""
    },
    "tags": [
     "raises-exception"
    ]
   },
   "outputs": [],
   "source": [
    "add(y=2, 1)"
   ]
  },
  {
   "cell_type": "markdown",
   "metadata": {
    "editable": true,
    "slideshow": {
     "slide_type": ""
    },
    "tags": []
   },
   "source": [
    "Specifying the argument’s name explicitly when calling a method is nice because\n",
    "it reminds you what the argument is supposed to do. It also means you don’t\n",
    "have to remember the order in which the arguments were defined, you can specify\n",
    "_keyword arguments_ in any order. You can even mix _positional arguments_ with\n",
    "keyword arguments, but any keyword arguments must come last.\n",
    "The rule is simply: is it unambigious? You can do it. Otherwise, it's not allowed.\n",
    "\n",
    "Using keyword arguments is particularly useful for arguments which act as\n",
    "on/off flags, because it’s often not obvious what your `True` or `False` is\n",
    "doing."
   ]
  },
  {
   "cell_type": "code",
   "execution_count": null,
   "metadata": {
    "editable": true,
    "slideshow": {
     "slide_type": ""
    },
    "tags": []
   },
   "outputs": [],
   "source": [
    "def add(x, y, show):\n",
    "   \"\"\"Return the sum of x and y.\n",
    "   Optionally print the result before returning it.\n",
    "   \"\"\"\n",
    "   if show:\n",
    "       print(x + y)\n",
    "   return x + y"
   ]
  },
  {
   "cell_type": "code",
   "execution_count": null,
   "metadata": {
    "editable": true,
    "slideshow": {
     "slide_type": ""
    },
    "tags": []
   },
   "outputs": [],
   "source": [
    "_ = add(1, 2, True) # Hmm, what is True doing again?"
   ]
  },
  {
   "cell_type": "code",
   "execution_count": null,
   "metadata": {
    "editable": true,
    "slideshow": {
     "slide_type": ""
    },
    "tags": []
   },
   "outputs": [],
   "source": [
    "_ = add(1, 2, show=True) # Aha! Much clearer"
   ]
  },
  {
   "cell_type": "markdown",
   "metadata": {
    "editable": true,
    "slideshow": {
     "slide_type": ""
    },
    "tags": []
   },
   "source": [
    "_remark on `_`: the character `_` is just a variable like any other. By convention, this is used in places where there is a return value but it signals, that it is **deliberately** ignored, as it won't be used. Contrary, just calling `add(...)` without the assignement is a \"code smell\": a possible bug, because why would someone call it and not use it's value?_"
   ]
  },
  {
   "cell_type": "markdown",
   "metadata": {
    "editable": true,
    "slideshow": {
     "slide_type": ""
    },
    "tags": []
   },
   "source": [
    "Always having to specify that flag is annoying. It would be much nicer if\n",
    "`show` had a _default value_, so that we don’t _have_ to provide a value when\n",
    "calling the method, but can optionally override it."
   ]
  },
  {
   "cell_type": "code",
   "execution_count": null,
   "metadata": {
    "editable": true,
    "slideshow": {
     "slide_type": ""
    },
    "tags": []
   },
   "outputs": [],
   "source": [
    "def add(x, y, show=False):\n",
    "   \"\"\"Return the sum of x and y.\n",
    "   Optionally print the result before returning it.\n",
    "   \"\"\"\n",
    "   if show:\n",
    "       print(x + y)\n",
    "   return x + y"
   ]
  },
  {
   "cell_type": "code",
   "execution_count": null,
   "metadata": {
    "editable": true,
    "slideshow": {
     "slide_type": ""
    },
    "tags": []
   },
   "outputs": [],
   "source": [
    "_ = add(1, 2) # No printing!"
   ]
  },
  {
   "cell_type": "code",
   "execution_count": null,
   "metadata": {
    "editable": true,
    "slideshow": {
     "slide_type": ""
    },
    "tags": []
   },
   "outputs": [],
   "source": [
    "_ = add(1, 2, show=True)"
   ]
  },
  {
   "cell_type": "markdown",
   "metadata": {
    "editable": true,
    "slideshow": {
     "slide_type": ""
    },
    "tags": []
   },
   "source": [
    "Perfect.\n",
    "\n",
    "Of course, function arguments can be anything, even other functions!"
   ]
  },
  {
   "cell_type": "code",
   "execution_count": null,
   "metadata": {
    "editable": true,
    "slideshow": {
     "slide_type": ""
    },
    "tags": []
   },
   "outputs": [],
   "source": [
    "def run_method(method, x):\n",
    "    \"\"\"Call `method` with `x`.\"\"\"\n",
    "    return method(x)"
   ]
  },
  {
   "cell_type": "code",
   "execution_count": null,
   "metadata": {
    "editable": true,
    "slideshow": {
     "slide_type": ""
    },
    "tags": []
   },
   "outputs": [],
   "source": [
    "run_method(len, [1, 2, 3])"
   ]
  },
  {
   "cell_type": "markdown",
   "metadata": {
    "editable": true,
    "slideshow": {
     "slide_type": ""
    },
    "tags": []
   },
   "source": [
    "**Exercise**\n",
    "Methods returning methods\n",
    "\n",
    "What does this method do? Think about it, what _exactly_ happens. Be precise, discuss with your neighbours."
   ]
  },
  {
   "cell_type": "code",
   "execution_count": null,
   "metadata": {
    "editable": true,
    "slideshow": {
     "slide_type": ""
    },
    "tags": []
   },
   "outputs": [],
   "source": [
    "def make_incrementor(increment):\n",
    "    def func(var):\n",
    "        return var + increment\n",
    "    return func"
   ]
  },
  {
   "cell_type": "markdown",
   "metadata": {
    "editable": true,
    "slideshow": {
     "slide_type": ""
    },
    "tags": []
   },
   "source": [
    "**Solution**\n",
    "\n",
    "It returns a function whose `increment` value has been filled by the argument\n",
    "to `make_incrementor`. If we called `make_incrementor(3)`, then `increment` has\n",
    "the value 3, and we can fill in the returned method in our heads."
   ]
  },
  {
   "cell_type": "code",
   "execution_count": null,
   "metadata": {
    "editable": true,
    "slideshow": {
     "slide_type": ""
    },
    "tags": []
   },
   "outputs": [],
   "source": [
    "def func(var):\n",
    "    return var + 3"
   ]
  },
  {
   "cell_type": "markdown",
   "metadata": {
    "editable": true,
    "slideshow": {
     "slide_type": ""
    },
    "tags": []
   },
   "source": [
    "So when we call _this_ method, we’ll get back what we put in, but plus 3."
   ]
  },
  {
   "cell_type": "code",
   "execution_count": null,
   "metadata": {
    "editable": true,
    "slideshow": {
     "slide_type": ""
    },
    "tags": []
   },
   "outputs": [],
   "source": [
    "increment_one = make_incrementor(1)"
   ]
  },
  {
   "cell_type": "code",
   "execution_count": null,
   "metadata": {
    "editable": true,
    "slideshow": {
     "slide_type": ""
    },
    "tags": []
   },
   "outputs": [],
   "source": [
    "increment_two = make_incrementor(2)"
   ]
  },
  {
   "cell_type": "code",
   "execution_count": null,
   "metadata": {
    "editable": true,
    "slideshow": {
     "slide_type": ""
    },
    "tags": []
   },
   "outputs": [],
   "source": [
    "print(increment_one(42), increment_two(42))"
   ]
  },
  {
   "cell_type": "code",
   "execution_count": null,
   "metadata": {
    "editable": true,
    "slideshow": {
     "slide_type": ""
    },
    "tags": []
   },
   "outputs": [],
   "source": [
    "print(make_incrementor(3)(42)) # Do it in one go!"
   ]
  },
  {
   "cell_type": "markdown",
   "metadata": {
    "editable": true,
    "slideshow": {
     "slide_type": ""
    },
    "tags": []
   },
   "source": [
    "## *args and **kwargs\n",
    "\n",
    "This is a brief introduction, for a more detailed explanation on the packing and unpacking of arguments, [see here](https://hsf-training.github.io/analysis-essentials/advanced-python/11AdvancedPython.html#Packing-and-unpacking-of-values)\n",
    "\n",
    "What if you like to accept an arbitrary number of arguments? For example, we\n",
    "can also write a `total` method that takes two arguments."
   ]
  },
  {
   "cell_type": "code",
   "execution_count": null,
   "metadata": {
    "editable": true,
    "slideshow": {
     "slide_type": ""
    },
    "tags": []
   },
   "outputs": [],
   "source": [
    "def total(x, y):\n",
    "    \"\"\"Return the sum of the arguments.\"\"\"\n",
    "    return x + y"
   ]
  },
  {
   "cell_type": "markdown",
   "metadata": {
    "editable": true,
    "slideshow": {
     "slide_type": ""
    },
    "tags": []
   },
   "source": [
    "But what if we want to allow the caller to pass more than two arguments? It\n",
    "would be tedious to define many arguments explicitly."
   ]
  },
  {
   "cell_type": "code",
   "execution_count": null,
   "metadata": {
    "editable": true,
    "slideshow": {
     "slide_type": ""
    },
    "tags": []
   },
   "outputs": [],
   "source": [
    "def total(*args):\n",
    "    \"\"\"Return the sum of the arguments.\"\"\"\n",
    "    # For seeing what `*` does\n",
    "    print(f'Got {len(args)} arguments: {args}')\n",
    "    return sum(args)"
   ]
  },
  {
   "cell_type": "code",
   "execution_count": null,
   "metadata": {
    "editable": true,
    "slideshow": {
     "slide_type": ""
    },
    "tags": []
   },
   "outputs": [],
   "source": [
    "total(1)"
   ]
  },
  {
   "cell_type": "code",
   "execution_count": null,
   "metadata": {
    "editable": true,
    "slideshow": {
     "slide_type": ""
    },
    "tags": []
   },
   "outputs": [],
   "source": [
    "total(1, 2)"
   ]
  },
  {
   "cell_type": "code",
   "execution_count": null,
   "metadata": {
    "editable": true,
    "slideshow": {
     "slide_type": ""
    },
    "tags": []
   },
   "outputs": [],
   "source": [
    "total(1, 2, 3)"
   ]
  },
  {
   "cell_type": "markdown",
   "metadata": {
    "editable": true,
    "slideshow": {
     "slide_type": ""
    },
    "tags": []
   },
   "source": [
    "The `*args` syntax says “stuff any arguments into a tuple and call it `args`”.\n",
    "This let’s us capture any number of arguments. As `args` is a tuple, one could\n",
    "loop over it, access a specific element, and so on.\n",
    "\n",
    "*remark: `args`, like `_`, is just a name that by convention is used in this way, but has no special function*\n",
    "\n",
    "We can also _expand_ lists into separate arguments with the same syntax when\n",
    "_calling_ a method."
   ]
  },
  {
   "cell_type": "code",
   "execution_count": null,
   "metadata": {
    "editable": true,
    "slideshow": {
     "slide_type": ""
    },
    "tags": []
   },
   "outputs": [],
   "source": [
    "def reverse_args(x, y):\n",
    "    return y, x"
   ]
  },
  {
   "cell_type": "code",
   "execution_count": null,
   "metadata": {
    "editable": true,
    "slideshow": {
     "slide_type": ""
    },
    "tags": []
   },
   "outputs": [],
   "source": [
    "l = ['a', 'b']"
   ]
  },
  {
   "cell_type": "code",
   "execution_count": null,
   "metadata": {
    "editable": true,
    "slideshow": {
     "slide_type": ""
    },
    "tags": [
     "raises-exception"
    ]
   },
   "outputs": [],
   "source": [
    "reverse_args(l)"
   ]
  },
  {
   "cell_type": "code",
   "execution_count": null,
   "metadata": {
    "editable": true,
    "slideshow": {
     "slide_type": ""
    },
    "tags": []
   },
   "outputs": [],
   "source": [
    "reverse_args(*l)"
   ]
  },
  {
   "cell_type": "markdown",
   "metadata": {
    "editable": true,
    "slideshow": {
     "slide_type": ""
    },
    "tags": []
   },
   "source": [
    "A similar syntax exists for keyword arguments."
   ]
  },
  {
   "cell_type": "code",
   "execution_count": null,
   "metadata": {
    "editable": true,
    "slideshow": {
     "slide_type": ""
    },
    "tags": []
   },
   "outputs": [],
   "source": [
    "def ages(**people):\n",
    "    \"\"\"Print people's information.\"\"\"\n",
    "    # For seeing what `**` does\n",
    "    print(f'Got {len(people)} arguments: {people}')\n",
    "    for person in people:\n",
    "        print(f'Person {person} is {people[person]}')"
   ]
  },
  {
   "cell_type": "code",
   "execution_count": null,
   "metadata": {
    "editable": true,
    "slideshow": {
     "slide_type": ""
    },
    "tags": []
   },
   "outputs": [],
   "source": [
    "ages(steve=31)"
   ]
  },
  {
   "cell_type": "code",
   "execution_count": null,
   "metadata": {
    "editable": true,
    "slideshow": {
     "slide_type": ""
    },
    "tags": []
   },
   "outputs": [],
   "source": [
    "ages(steve=31, helen=70, zorblax=9963)"
   ]
  },
  {
   "cell_type": "markdown",
   "metadata": {
    "editable": true,
    "slideshow": {
     "slide_type": ""
    },
    "tags": []
   },
   "source": [
    "As you can see from the debug print statement, `**people` is a dictionary\n",
    "containing the keyword arguments we passed to the `ages` method. The keys of\n",
    "the dictionary are the names of the argument as strings, and the values are the\n",
    "values of the arguments. Just like for the `*` syntax, `**` can also be used to\n",
    "expand a dictionary into keyword arguments."
   ]
  },
  {
   "cell_type": "code",
   "execution_count": null,
   "metadata": {
    "editable": true,
    "slideshow": {
     "slide_type": ""
    },
    "tags": []
   },
   "outputs": [],
   "source": [
    "data = {'thor': 5000, 'yoda': -1}"
   ]
  },
  {
   "cell_type": "code",
   "execution_count": null,
   "metadata": {
    "editable": true,
    "slideshow": {
     "slide_type": ""
    },
    "tags": []
   },
   "outputs": [],
   "source": [
    "ages(**data)"
   ]
  },
  {
   "cell_type": "markdown",
   "metadata": {
    "editable": true,
    "slideshow": {
     "slide_type": ""
    },
    "tags": []
   },
   "source": [
    "The order of the keyword arguments used to call the method are not necessarily\n",
    "the same as those that the function block sees!\n",
    "This is because dictionaries are unordered, and the `**` syntax effectively creates a dictionary."
   ]
  },
  {
   "cell_type": "markdown",
   "metadata": {
    "editable": true,
    "slideshow": {
     "slide_type": ""
    },
    "tags": []
   },
   "source": [
    "**Exercise**\n",
    "The most generic method\n",
    "\n",
    "The most generic method would take any number of positional arguments _and_ any\n",
    "number of keyword arguments. What would this method look like?"
   ]
  },
  {
   "cell_type": "code",
   "execution_count": null,
   "metadata": {
    "editable": true,
    "slideshow": {
     "slide_type": ""
    },
    "tags": []
   },
   "outputs": [],
   "source": []
  },
  {
   "cell_type": "markdown",
   "metadata": {
    "editable": true,
    "slideshow": {
     "slide_type": ""
    },
    "tags": []
   },
   "source": [
    "**Solution**\n",
    "\n",
    "It would use both `*` and `**` syntax in defining the arguments."
   ]
  },
  {
   "cell_type": "code",
   "execution_count": null,
   "metadata": {
    "editable": true,
    "slideshow": {
     "slide_type": ""
    },
    "tags": []
   },
   "outputs": [],
   "source": [
    "def generic(*args, **kwargs):\n",
    "    print(f'Got args: {args}')\n",
    "    print(f'Got kwargs: {kwargs}')"
   ]
  },
  {
   "cell_type": "code",
   "execution_count": null,
   "metadata": {
    "editable": true,
    "slideshow": {
     "slide_type": ""
    },
    "tags": []
   },
   "outputs": [],
   "source": [
    "data = {'bing': 'baz'}\n",
    "generic(1, 2, 'abc', foo='bar', **data)"
   ]
  },
  {
   "cell_type": "markdown",
   "metadata": {
    "editable": true,
    "slideshow": {
     "slide_type": ""
    },
    "tags": []
   },
   "source": [
    "## Inline methods\n",
    "\n",
    "Some methods take other methods as arguments, like the built-in `map` method."
   ]
  },
  {
   "cell_type": "code",
   "execution_count": null,
   "metadata": {
    "editable": true,
    "slideshow": {
     "slide_type": ""
    },
    "tags": []
   },
   "outputs": [],
   "source": [
    "map(str, range(5))"
   ]
  },
  {
   "cell_type": "markdown",
   "metadata": {
    "editable": true,
    "slideshow": {
     "slide_type": ""
    },
    "tags": []
   },
   "source": [
    "`map` takes a function and an iterable, and applies the function to each element in\n",
    "the iterable. It returs however an generator, an object that is, for advanced reasons, not actually evaluated yet. In most cases, you can treat this `list` or `tuple`-like.\n",
    "\n",
    "To make sure it is evaluated, we can explicitly convert it to a container, _i.e._ a list with the results. We can define and then pass our own functions."
   ]
  },
  {
   "cell_type": "code",
   "execution_count": null,
   "metadata": {
    "editable": true,
    "slideshow": {
     "slide_type": ""
    },
    "tags": []
   },
   "outputs": [],
   "source": [
    "list(map(str, range(5)))"
   ]
  },
  {
   "cell_type": "code",
   "execution_count": null,
   "metadata": {
    "editable": true,
    "slideshow": {
     "slide_type": ""
    },
    "tags": []
   },
   "outputs": [],
   "source": [
    "def cube(x):\n",
    "    \"\"\"Return the third power of x.\"\"\"\n",
    "    return x*x*x"
   ]
  },
  {
   "cell_type": "code",
   "execution_count": null,
   "metadata": {
    "editable": true,
    "slideshow": {
     "slide_type": ""
    },
    "tags": []
   },
   "outputs": [],
   "source": [
    "list(map(cube, range(5)))"
   ]
  },
  {
   "cell_type": "markdown",
   "metadata": {
    "editable": true,
    "slideshow": {
     "slide_type": ""
    },
    "tags": []
   },
   "source": [
    "For such a simple method, this is a lot of typing! We can use a `lambda` function to\n",
    "define such simple methods inline."
   ]
  },
  {
   "cell_type": "code",
   "execution_count": null,
   "metadata": {
    "editable": true,
    "slideshow": {
     "slide_type": ""
    },
    "tags": []
   },
   "outputs": [],
   "source": [
    "list(map(lambda x: x*x*x, range(5)))"
   ]
  },
  {
   "cell_type": "markdown",
   "metadata": {
    "editable": true,
    "slideshow": {
     "slide_type": ""
    },
    "tags": []
   },
   "source": [
    "The syntax of defining a `lambda` is like this:\n",
    "```\n",
    "lambda <args>: <return expression>\n",
    "```\n",
    "`<args>` is a command-separate set of variables that the `lambda` can take as\n",
    "arguments, and `<return expression>` is the code that is run. A `lambda`\n",
    "automatically returns whatever the result of the expression is, you don’t need\n",
    "a `return` (the `return` is _implicit_).\n",
    "\n",
    "Writing a `lambda` statement defines a method, which you can capture as a\n",
    "variable just like any other object."
   ]
  },
  {
   "cell_type": "code",
   "execution_count": null,
   "metadata": {
    "editable": true,
    "slideshow": {
     "slide_type": ""
    },
    "tags": []
   },
   "outputs": [],
   "source": [
    "div2 = lambda x: x / 2"
   ]
  },
  {
   "cell_type": "code",
   "execution_count": null,
   "metadata": {
    "editable": true,
    "slideshow": {
     "slide_type": ""
    },
    "tags": []
   },
   "outputs": [],
   "source": [
    "div2"
   ]
  },
  {
   "cell_type": "code",
   "execution_count": null,
   "metadata": {
    "editable": true,
    "slideshow": {
     "slide_type": ""
    },
    "tags": []
   },
   "outputs": [],
   "source": [
    "list(map(div2, range(5)))"
   ]
  },
  {
   "cell_type": "markdown",
   "metadata": {
    "editable": true,
    "slideshow": {
     "slide_type": ""
    },
    "tags": []
   },
   "source": [
    "Note however that _if we assing the function to a variable_, the general preferred way to do is using the normal function definition."
   ]
  },
  {
   "cell_type": "code",
   "execution_count": null,
   "metadata": {
    "editable": true,
    "slideshow": {
     "slide_type": ""
    },
    "tags": []
   },
   "outputs": [],
   "source": [
    "def div2(x):\n",
    "    return x / 2"
   ]
  },
  {
   "cell_type": "markdown",
   "metadata": {
    "editable": true,
    "slideshow": {
     "slide_type": ""
    },
    "tags": []
   },
   "source": [
    "**Exercise**\n",
    "Sum in quadrature\n",
    "\n",
    "Write a method that accepts an arbitrary number of arguments, and returns the\n",
    "sum of the arguments computed in quadrature. A “sum in quadrature” is the\n",
    "square root of the sum of the squares of each number. You should use `lambda`\n",
    "to define a squaring and a square root function, and `map` to apply the\n",
    "squaring method."
   ]
  },
  {
   "cell_type": "code",
   "execution_count": null,
   "metadata": {
    "editable": true,
    "slideshow": {
     "slide_type": ""
    },
    "tags": []
   },
   "outputs": [],
   "source": []
  },
  {
   "cell_type": "markdown",
   "metadata": {
    "editable": true,
    "slideshow": {
     "slide_type": ""
    },
    "tags": []
   },
   "source": [
    "**Solution**\n",
    "We need a little square root method and a method to square its input."
   ]
  },
  {
   "cell_type": "code",
   "execution_count": null,
   "metadata": {
    "editable": true,
    "slideshow": {
     "slide_type": ""
    },
    "tags": []
   },
   "outputs": [],
   "source": [
    "square = lambda x: x*x\n",
    "sqrt = lambda x: x**0.5"
   ]
  },
  {
   "cell_type": "markdown",
   "metadata": {
    "editable": true,
    "slideshow": {
     "slide_type": ""
    },
    "tags": []
   },
   "source": [
    "We then define a method that can accept any number of arguments using the\n",
    "`*args` syntax, and use `map` to call the `square` method on the list of\n",
    "arguments. Then we can call `sum` on the result, and then `sqrt`."
   ]
  },
  {
   "cell_type": "code",
   "execution_count": null,
   "metadata": {
    "editable": true,
    "slideshow": {
     "slide_type": ""
    },
    "tags": []
   },
   "outputs": [],
   "source": [
    "def quadrature(*args):\n",
    "    \"\"\"Return the sum in quadrature of the arguments.\"\"\"\n",
    "    return sqrt(sum(map(square, args)))"
   ]
  },
  {
   "cell_type": "code",
   "execution_count": null,
   "metadata": {
    "editable": true,
    "slideshow": {
     "slide_type": ""
    },
    "tags": []
   },
   "outputs": [],
   "source": [
    "quadrature(1, 1) # should be equal to sqrt(2)"
   ]
  },
  {
   "cell_type": "code",
   "execution_count": null,
   "metadata": {
    "editable": true,
    "slideshow": {
     "slide_type": ""
    },
    "tags": []
   },
   "outputs": [],
   "source": [
    "2**0.5"
   ]
  },
  {
   "cell_type": "markdown",
   "metadata": {
    "editable": true,
    "slideshow": {
     "slide_type": ""
    },
    "tags": []
   },
   "source": [
    "Another good use case for `lambda` (remember, we can just define the function, it's more of a \"nice-to-have\") is the built-in `filter` method (see:\n",
    "`help(filter)`)."
   ]
  },
  {
   "cell_type": "code",
   "execution_count": null,
   "metadata": {
    "editable": true,
    "slideshow": {
     "slide_type": ""
    },
    "tags": []
   },
   "outputs": [],
   "source": [
    "# filter and return the even numbers only\n",
    "filter(lambda x: x % 2 == 0, range(10))  # returns again a generator"
   ]
  },
  {
   "cell_type": "code",
   "execution_count": null,
   "metadata": {
    "editable": true,
    "slideshow": {
     "slide_type": ""
    },
    "tags": []
   },
   "outputs": [],
   "source": [
    "list(filter(lambda x: x % 2 == 0, range(10)))"
   ]
  },
  {
   "cell_type": "markdown",
   "metadata": {
    "editable": true,
    "slideshow": {
     "slide_type": ""
    },
    "tags": []
   },
   "source": [
    "**Exercise**\n",
    "List comprehension\n",
    "\n",
    "How would you rewrite the `filter` example above using a list comprehension?"
   ]
  },
  {
   "cell_type": "code",
   "execution_count": null,
   "metadata": {
    "editable": true,
    "slideshow": {
     "slide_type": ""
    },
    "tags": []
   },
   "outputs": [],
   "source": []
  },
  {
   "cell_type": "markdown",
   "metadata": {
    "editable": true,
    "slideshow": {
     "slide_type": ""
    },
    "tags": []
   },
   "source": [
    "**Solution**"
   ]
  },
  {
   "cell_type": "code",
   "execution_count": null,
   "metadata": {
    "editable": true,
    "slideshow": {
     "slide_type": ""
    },
    "tags": []
   },
   "outputs": [],
   "source": [
    "[ x for x in range(10) if x % 2 == 0 ]"
   ]
  },
  {
   "cell_type": "markdown",
   "metadata": {
    "editable": true,
    "slideshow": {
     "slide_type": ""
    },
    "tags": []
   },
   "source": [
    "Generally, you should only use `lambda` methods to define little throw-away\n",
    "methods. The main downside with using them is that you can’t attach a docstring\n",
    "to them, and they become unwieldy when there’s complex logic.\n",
    "\n",
    "Golden rules:\n",
    " - Make functions idempotent where possible (stateless, the same input values will return the same output). This is of course different for classes.\n",
    " - Don't use globals (if anyhow avoidable).\n",
    " - Do not alter the input argument if they are mutable. If it's convenient, make a copy of the object first (remember copies of lists?)\n",
    " - Put a docstring there. Probably even before you implement your function. This makes it\n",
    "   not only to everyone else but also to you clear what comes in and what comes out.\n"
   ]
  },
  {
   "cell_type": "code",
   "execution_count": null,
   "metadata": {
    "editable": true,
    "slideshow": {
     "slide_type": ""
    },
    "tags": []
   },
   "outputs": [],
   "source": []
  }
 ],
 "metadata": {
  "kernelspec": {
   "display_name": "Python [conda env:101python]",
   "language": "python",
   "name": "conda-env-101python-py"
  },
  "language_info": {
   "codemirror_mode": {
    "name": "ipython",
    "version": 3
   },
   "file_extension": ".py",
   "mimetype": "text/x-python",
   "name": "python",
   "nbconvert_exporter": "python",
   "pygments_lexer": "ipython3",
   "version": "3.11.9"
  }
 },
 "nbformat": 4,
 "nbformat_minor": 4
}
