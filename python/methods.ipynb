{
 "cells": [
  {
   "cell_type": "markdown",
   "metadata": {
    "editable": true,
    "slideshow": {
     "slide_type": ""
    },
    "tags": []
   },
   "source": [
    "# Functions\n",
    "Functions, or methods if they are associated with a class, take some input and return some output. \n",
    "\n",
    "They are the equivalent of a mathematical function $f(x) = y$, where the function `f` takes zero or more aruments and returns zero or more values. The best way to think about a function is that it is executed and _replaced_ by the return value, like a mathematical function. `f` is a function, `x` are values. `f(x)` is not a function anymore and isn't `x` either, it's whatever `y` is, the return value. Like mathematical functions, you could \"copy-paste\" the code-block of the function in the place (technically).\n",
    "\n",
    "We have already used lots of *functions*, like `len`, `abs` and `print` as well as *methods* like `append` from `list`, `get` from `dict` or `replace` from `str`. In this lesson we will start creating our own.\n",
    "\n",
    "As we have seen, methods can do a lot of stuff with very little typing. Methods are normally used to encapsulate small pieces of code that we want to reuse.\n",
    "\n",
    "Let’s rewrite len as an example."
   ]
  },
  {
   "cell_type": "code",
   "execution_count": 1,
   "metadata": {
    "editable": true,
    "execution": {
     "iopub.execute_input": "2025-02-10T17:09:24.001209Z",
     "iopub.status.busy": "2025-02-10T17:09:24.001025Z",
     "iopub.status.idle": "2025-02-10T17:09:24.006346Z",
     "shell.execute_reply": "2025-02-10T17:09:24.005952Z"
    },
    "slideshow": {
     "slide_type": ""
    },
    "tags": []
   },
   "outputs": [],
   "source": [
    "def length(obj):\n",
    "    \"\"\"Return the number of elements in `obj`.\n",
    "    Args\n",
    "    ----\n",
    "        obj (iterable): Object the length will be calculated from.\n",
    "    Return\n",
    "    ------\n",
    "        int: number of elements in `obj`.\n",
    "    \"\"\"\n",
    "    i = 0\n",
    "    for _ in obj:\n",
    "        i += 1\n",
    "    return i"
   ]
  },
  {
   "cell_type": "code",
   "execution_count": 2,
   "metadata": {
    "execution": {
     "iopub.execute_input": "2025-02-10T17:09:24.008101Z",
     "iopub.status.busy": "2025-02-10T17:09:24.007922Z",
     "iopub.status.idle": "2025-02-10T17:09:24.012735Z",
     "shell.execute_reply": "2025-02-10T17:09:24.012254Z"
    }
   },
   "outputs": [
    {
     "data": {
      "text/plain": [
       "<function __main__.length(obj)>"
      ]
     },
     "execution_count": 2,
     "metadata": {},
     "output_type": "execute_result"
    }
   ],
   "source": [
    "length"
   ]
  },
  {
   "cell_type": "code",
   "execution_count": 3,
   "metadata": {
    "execution": {
     "iopub.execute_input": "2025-02-10T17:09:24.014609Z",
     "iopub.status.busy": "2025-02-10T17:09:24.014356Z",
     "iopub.status.idle": "2025-02-10T17:09:24.017395Z",
     "shell.execute_reply": "2025-02-10T17:09:24.016872Z"
    }
   },
   "outputs": [
    {
     "name": "stdout",
     "output_type": "stream",
     "text": [
      "Help on function length in module __main__:\n",
      "\n",
      "length(obj)\n",
      "    Return the number of elements in `obj`.\n",
      "    Args\n",
      "    ----\n",
      "        obj (iterable): Object the length will be calculated from.\n",
      "    Return\n",
      "    ------\n",
      "        int: number of elements in `obj`.\n",
      "\n"
     ]
    }
   ],
   "source": [
    "help(length)"
   ]
  },
  {
   "cell_type": "markdown",
   "metadata": {},
   "source": [
    "or viewing the docs view in your preferred editor."
   ]
  },
  {
   "cell_type": "code",
   "execution_count": 4,
   "metadata": {
    "execution": {
     "iopub.execute_input": "2025-02-10T17:09:24.019338Z",
     "iopub.status.busy": "2025-02-10T17:09:24.019000Z",
     "iopub.status.idle": "2025-02-10T17:09:24.022291Z",
     "shell.execute_reply": "2025-02-10T17:09:24.021784Z"
    }
   },
   "outputs": [
    {
     "data": {
      "text/plain": [
       "6"
      ]
     },
     "execution_count": 4,
     "metadata": {},
     "output_type": "execute_result"
    }
   ],
   "source": [
    "length('A b c!')"
   ]
  },
  {
   "cell_type": "code",
   "execution_count": 5,
   "metadata": {
    "execution": {
     "iopub.execute_input": "2025-02-10T17:09:24.024232Z",
     "iopub.status.busy": "2025-02-10T17:09:24.023920Z",
     "iopub.status.idle": "2025-02-10T17:09:24.027406Z",
     "shell.execute_reply": "2025-02-10T17:09:24.026903Z"
    }
   },
   "outputs": [
    {
     "data": {
      "text/plain": [
       "5"
      ]
     },
     "execution_count": 5,
     "metadata": {},
     "output_type": "execute_result"
    }
   ],
   "source": [
    "length(range(5))"
   ]
  },
  {
   "cell_type": "markdown",
   "metadata": {
    "editable": true,
    "slideshow": {
     "slide_type": ""
    },
    "tags": []
   },
   "source": [
    "There’s a lot going on here, so we will break it down line-by-line.\n",
    "\n",
    "1. `def length(obj)`: methods are _defined_ using `def`, followed by a space,\n",
    "   and then the name you want to give the method. Inside the parentheses\n",
    "   after the name, we list the inputs, or _arguments_, that we want our method\n",
    "   to accept.  In this case, we only need a single input: the thing we want to\n",
    "   compute the length of.  Finally, there’s a colon at the end, just like with\n",
    "   a `for` or `if`, which means a _block_ of code follows (which must be\n",
    "   indented).\n",
    "   Names are conventionally in lowercase, with underscores separating words - snakecase.\n",
    "3. `\"\"\"Return the number of elements in obj.\"\"\"`: This is the _docstring_. It’s\n",
    "   just a documentation string, defined literally with three double quotes so that we can\n",
    "   include linebreaks. By placing a string here, Python makes the string\n",
    "   available to use when we pass our function to `help` and in a lot of other places\n",
    "   like docs viewer of a decent editor or even allows to automatically generate \n",
    "   documents including HTML with the docs. Documenting your\n",
    "   functions is a very good idea! It makes it clear to others, and to\n",
    "   future-you, what the method is supposed to do.\n",
    "   The formatting of docstrings is standardized (there are 2-3 different ones).\n",
    "   As for code style, do not invent your own but make it easier for everyone\n",
    "   (including your future self).\n",
    "4. The method block. This is the code that will run whenever you _call_ your\n",
    "   method, like `length([1])`. The code in the block has access to the\n",
    "   arguments and to any variables defined _before_ the method definition."
   ]
  },
  {
   "cell_type": "markdown",
   "metadata": {
    "editable": true,
    "slideshow": {
     "slide_type": ""
    },
    "tags": []
   },
   "source": [
    "Remark: there are comments (with `#`) and docstrings. Both serve a very different purpose\n",
    "\n",
    " - comments `#` are for people who _read_ the code. Other developers that don't want to just\n",
    "   use your function but _change_ it. They can be short and serve the purpose to make the\n",
    "   code more readable. Typical example: adding a comment on a `- 1` or `+ 1` added somewhere,\n",
    "   such as ` len(x) - 1  # we don't need the border`. If a block of code implements a hard\n",
    "   to read algorithm, it is also appropriate to use several `#` lines to explain beforehand\n",
    "   what is going to happen.\n",
    "   _Never_ use tripple quotes `\"\"\"` to make a large comment! Use always `#`, any decent\n",
    "   editor is able to (un)comment several lines at once. (usually ctrl + /)\n",
    " - Docstrings are for users. If someone imports your function, the docstrings tells\n",
    "   _how to use it_ and what it does exactly. It does, however, not contain any (unnecessary)\n",
    "   information about the implementation. It's for someone who will _not_ read the source code.\n",
    "   Example are functions that we used, like `len`: we never looked at the source code, but the\n",
    "   `help(len)` gave us all the information that we needed to *use* it."
   ]
  },
  {
   "cell_type": "code",
   "execution_count": 6,
   "metadata": {
    "editable": true,
    "execution": {
     "iopub.execute_input": "2025-02-10T17:09:24.029317Z",
     "iopub.status.busy": "2025-02-10T17:09:24.028992Z",
     "iopub.status.idle": "2025-02-10T17:09:24.031239Z",
     "shell.execute_reply": "2025-02-10T17:09:24.030824Z"
    },
    "slideshow": {
     "slide_type": ""
    },
    "tags": []
   },
   "outputs": [],
   "source": [
    "x = 1"
   ]
  },
  {
   "cell_type": "code",
   "execution_count": 7,
   "metadata": {
    "editable": true,
    "execution": {
     "iopub.execute_input": "2025-02-10T17:09:24.032821Z",
     "iopub.status.busy": "2025-02-10T17:09:24.032680Z",
     "iopub.status.idle": "2025-02-10T17:09:24.034985Z",
     "shell.execute_reply": "2025-02-10T17:09:24.034618Z"
    },
    "slideshow": {
     "slide_type": ""
    },
    "tags": []
   },
   "outputs": [],
   "source": [
    "def top_function():\n",
    "   \"\"\"Do something silly.\"\"\"\n",
    "   print(x)\n",
    "   print(y)"
   ]
  },
  {
   "cell_type": "code",
   "execution_count": 8,
   "metadata": {
    "editable": true,
    "execution": {
     "iopub.execute_input": "2025-02-10T17:09:24.036552Z",
     "iopub.status.busy": "2025-02-10T17:09:24.036407Z",
     "iopub.status.idle": "2025-02-10T17:09:24.163974Z",
     "shell.execute_reply": "2025-02-10T17:09:24.163469Z"
    },
    "slideshow": {
     "slide_type": ""
    },
    "tags": [
     "raises-exception"
    ]
   },
   "outputs": [
    {
     "name": "stdout",
     "output_type": "stream",
     "text": [
      "1\n"
     ]
    },
    {
     "ename": "NameError",
     "evalue": "name 'y' is not defined",
     "output_type": "error",
     "traceback": [
      "\u001b[0;31m---------------------------------------------------------------------------\u001b[0m",
      "\u001b[0;31mNameError\u001b[0m                                 Traceback (most recent call last)",
      "Cell \u001b[0;32mIn[8], line 1\u001b[0m\n\u001b[0;32m----> 1\u001b[0m \u001b[43mtop_function\u001b[49m\u001b[43m(\u001b[49m\u001b[43m)\u001b[49m\n",
      "Cell \u001b[0;32mIn[7], line 4\u001b[0m, in \u001b[0;36mtop_function\u001b[0;34m()\u001b[0m\n\u001b[1;32m      2\u001b[0m \u001b[38;5;250m\u001b[39m\u001b[38;5;124;03m\"\"\"Do something silly.\"\"\"\u001b[39;00m\n\u001b[1;32m      3\u001b[0m \u001b[38;5;28mprint\u001b[39m(x)\n\u001b[0;32m----> 4\u001b[0m \u001b[38;5;28mprint\u001b[39m(\u001b[43my\u001b[49m)\n",
      "\u001b[0;31mNameError\u001b[0m: name 'y' is not defined"
     ]
    }
   ],
   "source": [
    "top_function()"
   ]
  },
  {
   "cell_type": "code",
   "execution_count": 9,
   "metadata": {
    "editable": true,
    "execution": {
     "iopub.execute_input": "2025-02-10T17:09:24.165823Z",
     "iopub.status.busy": "2025-02-10T17:09:24.165664Z",
     "iopub.status.idle": "2025-02-10T17:09:24.168209Z",
     "shell.execute_reply": "2025-02-10T17:09:24.167779Z"
    },
    "slideshow": {
     "slide_type": ""
    },
    "tags": []
   },
   "outputs": [],
   "source": [
    "y = 2"
   ]
  },
  {
   "cell_type": "code",
   "execution_count": 10,
   "metadata": {
    "editable": true,
    "execution": {
     "iopub.execute_input": "2025-02-10T17:09:24.169852Z",
     "iopub.status.busy": "2025-02-10T17:09:24.169699Z",
     "iopub.status.idle": "2025-02-10T17:09:24.172423Z",
     "shell.execute_reply": "2025-02-10T17:09:24.171998Z"
    },
    "slideshow": {
     "slide_type": ""
    },
    "tags": []
   },
   "outputs": [
    {
     "name": "stdout",
     "output_type": "stream",
     "text": [
      "1\n",
      "2\n"
     ]
    }
   ],
   "source": [
    "top_function()"
   ]
  },
  {
   "cell_type": "markdown",
   "metadata": {
    "editable": true,
    "slideshow": {
     "slide_type": ""
    },
    "tags": []
   },
   "source": [
    "In general, you should try to minimise the number of variables outside your\n",
    "  method that you use inside. It makes figuring out what the method does much\n",
    "  harder, as you have to look elsewhere in the code to find things out.\n",
    "  \n",
    "4. `return i`: This defines the _output_ of the method, the thing that you get\n",
    "   back when you call the method. You don’t have to return anything, in which\n",
    "   case Python will implicitly make your function return `None`, or you can\n",
    "   return multiple things at once."
   ]
  },
  {
   "cell_type": "code",
   "execution_count": 11,
   "metadata": {
    "editable": true,
    "execution": {
     "iopub.execute_input": "2025-02-10T17:09:24.174249Z",
     "iopub.status.busy": "2025-02-10T17:09:24.174098Z",
     "iopub.status.idle": "2025-02-10T17:09:24.176365Z",
     "shell.execute_reply": "2025-02-10T17:09:24.175961Z"
    },
    "slideshow": {
     "slide_type": ""
    },
    "tags": []
   },
   "outputs": [],
   "source": [
    "def no_return():\n",
    "    1 + 1"
   ]
  },
  {
   "cell_type": "code",
   "execution_count": 12,
   "metadata": {
    "editable": true,
    "execution": {
     "iopub.execute_input": "2025-02-10T17:09:24.178098Z",
     "iopub.status.busy": "2025-02-10T17:09:24.177931Z",
     "iopub.status.idle": "2025-02-10T17:09:24.180157Z",
     "shell.execute_reply": "2025-02-10T17:09:24.179770Z"
    },
    "slideshow": {
     "slide_type": ""
    },
    "tags": []
   },
   "outputs": [],
   "source": [
    "no_return()"
   ]
  },
  {
   "cell_type": "code",
   "execution_count": 13,
   "metadata": {
    "editable": true,
    "execution": {
     "iopub.execute_input": "2025-02-10T17:09:24.181778Z",
     "iopub.status.busy": "2025-02-10T17:09:24.181629Z",
     "iopub.status.idle": "2025-02-10T17:09:24.184898Z",
     "shell.execute_reply": "2025-02-10T17:09:24.184498Z"
    },
    "slideshow": {
     "slide_type": ""
    },
    "tags": []
   },
   "outputs": [
    {
     "data": {
      "text/plain": [
       "True"
      ]
     },
     "execution_count": 13,
     "metadata": {},
     "output_type": "execute_result"
    }
   ],
   "source": [
    "no_return() is None"
   ]
  },
  {
   "cell_type": "code",
   "execution_count": 14,
   "metadata": {
    "editable": true,
    "execution": {
     "iopub.execute_input": "2025-02-10T17:09:24.186587Z",
     "iopub.status.busy": "2025-02-10T17:09:24.186433Z",
     "iopub.status.idle": "2025-02-10T17:09:24.188873Z",
     "shell.execute_reply": "2025-02-10T17:09:24.188477Z"
    },
    "slideshow": {
     "slide_type": ""
    },
    "tags": []
   },
   "outputs": [],
   "source": [
    "def such_output():\n",
    "    return 'wow', 'much clever', 213  # equivalent to (return 'wow', 'much clever', 213)"
   ]
  },
  {
   "cell_type": "markdown",
   "metadata": {
    "editable": true,
    "slideshow": {
     "slide_type": ""
    },
    "tags": []
   },
   "source": [
    "You can see that returning multiple things implicitly means returning a tuple, so we can choose to assign one variable per value while calling the method."
   ]
  },
  {
   "cell_type": "code",
   "execution_count": 15,
   "metadata": {
    "editable": true,
    "execution": {
     "iopub.execute_input": "2025-02-10T17:09:24.190616Z",
     "iopub.status.busy": "2025-02-10T17:09:24.190313Z",
     "iopub.status.idle": "2025-02-10T17:09:24.193379Z",
     "shell.execute_reply": "2025-02-10T17:09:24.192937Z"
    },
    "slideshow": {
     "slide_type": ""
    },
    "tags": []
   },
   "outputs": [
    {
     "name": "stdout",
     "output_type": "stream",
     "text": [
      "Help on built-in function len in module builtins:\n",
      "\n",
      "len(obj, /)\n",
      "    Return the number of items in a container.\n",
      "\n"
     ]
    }
   ],
   "source": [
    "help(len)"
   ]
  },
  {
   "cell_type": "code",
   "execution_count": 16,
   "metadata": {
    "editable": true,
    "execution": {
     "iopub.execute_input": "2025-02-10T17:09:24.195143Z",
     "iopub.status.busy": "2025-02-10T17:09:24.194825Z",
     "iopub.status.idle": "2025-02-10T17:09:24.197302Z",
     "shell.execute_reply": "2025-02-10T17:09:24.196820Z"
    },
    "slideshow": {
     "slide_type": ""
    },
    "tags": []
   },
   "outputs": [],
   "source": [
    "def add(x, y):\n",
    "   \"\"\"Return the sum of x and y.\"\"\"\n",
    "   return x + y"
   ]
  },
  {
   "cell_type": "code",
   "execution_count": 17,
   "metadata": {
    "editable": true,
    "execution": {
     "iopub.execute_input": "2025-02-10T17:09:24.199203Z",
     "iopub.status.busy": "2025-02-10T17:09:24.198904Z",
     "iopub.status.idle": "2025-02-10T17:09:24.202082Z",
     "shell.execute_reply": "2025-02-10T17:09:24.201709Z"
    },
    "slideshow": {
     "slide_type": ""
    },
    "tags": []
   },
   "outputs": [
    {
     "data": {
      "text/plain": [
       "3"
      ]
     },
     "execution_count": 17,
     "metadata": {},
     "output_type": "execute_result"
    }
   ],
   "source": [
    "add(1, 2)"
   ]
  },
  {
   "cell_type": "code",
   "execution_count": 18,
   "metadata": {
    "editable": true,
    "execution": {
     "iopub.execute_input": "2025-02-10T17:09:24.204091Z",
     "iopub.status.busy": "2025-02-10T17:09:24.203590Z",
     "iopub.status.idle": "2025-02-10T17:09:24.207027Z",
     "shell.execute_reply": "2025-02-10T17:09:24.206662Z"
    },
    "slideshow": {
     "slide_type": ""
    },
    "tags": []
   },
   "outputs": [
    {
     "data": {
      "text/plain": [
       "3"
      ]
     },
     "execution_count": 18,
     "metadata": {},
     "output_type": "execute_result"
    }
   ],
   "source": [
    "add(x=1, y=2)"
   ]
  },
  {
   "cell_type": "code",
   "execution_count": 19,
   "metadata": {
    "editable": true,
    "execution": {
     "iopub.execute_input": "2025-02-10T17:09:24.208642Z",
     "iopub.status.busy": "2025-02-10T17:09:24.208503Z",
     "iopub.status.idle": "2025-02-10T17:09:24.211695Z",
     "shell.execute_reply": "2025-02-10T17:09:24.211213Z"
    },
    "slideshow": {
     "slide_type": ""
    },
    "tags": []
   },
   "outputs": [
    {
     "data": {
      "text/plain": [
       "3"
      ]
     },
     "execution_count": 19,
     "metadata": {},
     "output_type": "execute_result"
    }
   ],
   "source": [
    "add(1, y=2)"
   ]
  },
  {
   "cell_type": "code",
   "execution_count": 20,
   "metadata": {
    "editable": true,
    "execution": {
     "iopub.execute_input": "2025-02-10T17:09:24.213552Z",
     "iopub.status.busy": "2025-02-10T17:09:24.213182Z",
     "iopub.status.idle": "2025-02-10T17:09:24.216624Z",
     "shell.execute_reply": "2025-02-10T17:09:24.216162Z"
    },
    "slideshow": {
     "slide_type": ""
    },
    "tags": []
   },
   "outputs": [
    {
     "data": {
      "text/plain": [
       "3"
      ]
     },
     "execution_count": 20,
     "metadata": {},
     "output_type": "execute_result"
    }
   ],
   "source": [
    "add(y=2, x=1)"
   ]
  },
  {
   "cell_type": "code",
   "execution_count": 21,
   "metadata": {
    "editable": true,
    "execution": {
     "iopub.execute_input": "2025-02-10T17:09:24.218674Z",
     "iopub.status.busy": "2025-02-10T17:09:24.218221Z",
     "iopub.status.idle": "2025-02-10T17:09:24.221647Z",
     "shell.execute_reply": "2025-02-10T17:09:24.221153Z"
    },
    "slideshow": {
     "slide_type": ""
    },
    "tags": [
     "raises-exception"
    ]
   },
   "outputs": [
    {
     "ename": "SyntaxError",
     "evalue": "positional argument follows keyword argument (191757191.py, line 1)",
     "output_type": "error",
     "traceback": [
      "\u001b[0;36m  Cell \u001b[0;32mIn[21], line 1\u001b[0;36m\u001b[0m\n\u001b[0;31m    add(y=2, 1)\u001b[0m\n\u001b[0m              ^\u001b[0m\n\u001b[0;31mSyntaxError\u001b[0m\u001b[0;31m:\u001b[0m positional argument follows keyword argument\n"
     ]
    }
   ],
   "source": [
    "add(y=2, 1)"
   ]
  },
  {
   "cell_type": "markdown",
   "metadata": {
    "editable": true,
    "slideshow": {
     "slide_type": ""
    },
    "tags": []
   },
   "source": [
    "Specifying the argument’s name explicitly when calling a method is nice because\n",
    "it reminds you what the argument is supposed to do. It also means you don’t\n",
    "have to remember the order in which the arguments were defined, you can specify\n",
    "_keyword arguments_ in any order. You can even mix _positional arguments_ with\n",
    "keyword arguments, but any keyword arguments must come last.\n",
    "The rule is simply: is it unambigious? You can do it. Otherwise, it's not allowed.\n",
    "\n",
    "Using keyword arguments is particularly useful for arguments which act as\n",
    "on/off flags, because it’s often not obvious what your `True` or `False` is\n",
    "doing."
   ]
  },
  {
   "cell_type": "code",
   "execution_count": 22,
   "metadata": {
    "editable": true,
    "execution": {
     "iopub.execute_input": "2025-02-10T17:09:24.223551Z",
     "iopub.status.busy": "2025-02-10T17:09:24.223390Z",
     "iopub.status.idle": "2025-02-10T17:09:24.226096Z",
     "shell.execute_reply": "2025-02-10T17:09:24.225644Z"
    },
    "slideshow": {
     "slide_type": ""
    },
    "tags": []
   },
   "outputs": [],
   "source": [
    "def add(x, y, show):\n",
    "   \"\"\"Return the sum of x and y.\n",
    "   Optionally print the result before returning it.\n",
    "   \"\"\"\n",
    "   if show:\n",
    "       print(x + y)\n",
    "   return x + y"
   ]
  },
  {
   "cell_type": "code",
   "execution_count": 23,
   "metadata": {
    "editable": true,
    "execution": {
     "iopub.execute_input": "2025-02-10T17:09:24.228027Z",
     "iopub.status.busy": "2025-02-10T17:09:24.227642Z",
     "iopub.status.idle": "2025-02-10T17:09:24.230370Z",
     "shell.execute_reply": "2025-02-10T17:09:24.229948Z"
    },
    "slideshow": {
     "slide_type": ""
    },
    "tags": []
   },
   "outputs": [
    {
     "name": "stdout",
     "output_type": "stream",
     "text": [
      "3\n"
     ]
    }
   ],
   "source": [
    "_ = add(1, 2, True) # Hmm, what is True doing again?"
   ]
  },
  {
   "cell_type": "code",
   "execution_count": 24,
   "metadata": {
    "editable": true,
    "execution": {
     "iopub.execute_input": "2025-02-10T17:09:24.232094Z",
     "iopub.status.busy": "2025-02-10T17:09:24.231923Z",
     "iopub.status.idle": "2025-02-10T17:09:24.234691Z",
     "shell.execute_reply": "2025-02-10T17:09:24.234092Z"
    },
    "slideshow": {
     "slide_type": ""
    },
    "tags": []
   },
   "outputs": [
    {
     "name": "stdout",
     "output_type": "stream",
     "text": [
      "3\n"
     ]
    }
   ],
   "source": [
    "_ = add(1, 2, show=True) # Aha! Much clearer"
   ]
  },
  {
   "cell_type": "markdown",
   "metadata": {
    "editable": true,
    "slideshow": {
     "slide_type": ""
    },
    "tags": []
   },
   "source": [
    "_remark on `_`: the character `_` is just a variable like any other. By convention, this is used in places where there is a return value but it signals, that it is **deliberately** ignored, as it won't be used. Contrary, just calling `add(...)` without the assignement is a \"code smell\": a possible bug, because why would someone call it and not use it's value?_"
   ]
  },
  {
   "cell_type": "markdown",
   "metadata": {
    "editable": true,
    "slideshow": {
     "slide_type": ""
    },
    "tags": []
   },
   "source": [
    "Always having to specify that flag is annoying. It would be much nicer if\n",
    "`show` had a _default value_, so that we don’t _have_ to provide a value when\n",
    "calling the method, but can optionally override it."
   ]
  },
  {
   "cell_type": "code",
   "execution_count": 25,
   "metadata": {
    "editable": true,
    "execution": {
     "iopub.execute_input": "2025-02-10T17:09:24.236387Z",
     "iopub.status.busy": "2025-02-10T17:09:24.236232Z",
     "iopub.status.idle": "2025-02-10T17:09:24.238927Z",
     "shell.execute_reply": "2025-02-10T17:09:24.238527Z"
    },
    "slideshow": {
     "slide_type": ""
    },
    "tags": []
   },
   "outputs": [],
   "source": [
    "def add(x, y, show=False):\n",
    "   \"\"\"Return the sum of x and y.\n",
    "   Optionally print the result before returning it.\n",
    "   \"\"\"\n",
    "   if show:\n",
    "       print(x + y)\n",
    "   return x + y"
   ]
  },
  {
   "cell_type": "code",
   "execution_count": 26,
   "metadata": {
    "editable": true,
    "execution": {
     "iopub.execute_input": "2025-02-10T17:09:24.240526Z",
     "iopub.status.busy": "2025-02-10T17:09:24.240384Z",
     "iopub.status.idle": "2025-02-10T17:09:24.242753Z",
     "shell.execute_reply": "2025-02-10T17:09:24.242350Z"
    },
    "slideshow": {
     "slide_type": ""
    },
    "tags": []
   },
   "outputs": [],
   "source": [
    "_ = add(1, 2) # No printing!"
   ]
  },
  {
   "cell_type": "code",
   "execution_count": 27,
   "metadata": {
    "editable": true,
    "execution": {
     "iopub.execute_input": "2025-02-10T17:09:24.244483Z",
     "iopub.status.busy": "2025-02-10T17:09:24.244183Z",
     "iopub.status.idle": "2025-02-10T17:09:24.246884Z",
     "shell.execute_reply": "2025-02-10T17:09:24.246413Z"
    },
    "slideshow": {
     "slide_type": ""
    },
    "tags": []
   },
   "outputs": [
    {
     "name": "stdout",
     "output_type": "stream",
     "text": [
      "3\n"
     ]
    }
   ],
   "source": [
    "_ = add(1, 2, show=True)"
   ]
  },
  {
   "cell_type": "markdown",
   "metadata": {
    "editable": true,
    "slideshow": {
     "slide_type": ""
    },
    "tags": []
   },
   "source": [
    "Perfect.\n",
    "\n",
    "Of course, function arguments can be anything, even other functions!"
   ]
  },
  {
   "cell_type": "code",
   "execution_count": 28,
   "metadata": {
    "editable": true,
    "execution": {
     "iopub.execute_input": "2025-02-10T17:09:24.248585Z",
     "iopub.status.busy": "2025-02-10T17:09:24.248429Z",
     "iopub.status.idle": "2025-02-10T17:09:24.250897Z",
     "shell.execute_reply": "2025-02-10T17:09:24.250504Z"
    },
    "slideshow": {
     "slide_type": ""
    },
    "tags": []
   },
   "outputs": [],
   "source": [
    "def run_method(method, x):\n",
    "    \"\"\"Call `method` with `x`.\"\"\"\n",
    "    return method(x)"
   ]
  },
  {
   "cell_type": "code",
   "execution_count": 29,
   "metadata": {
    "editable": true,
    "execution": {
     "iopub.execute_input": "2025-02-10T17:09:24.252645Z",
     "iopub.status.busy": "2025-02-10T17:09:24.252492Z",
     "iopub.status.idle": "2025-02-10T17:09:24.255870Z",
     "shell.execute_reply": "2025-02-10T17:09:24.255474Z"
    },
    "slideshow": {
     "slide_type": ""
    },
    "tags": []
   },
   "outputs": [
    {
     "data": {
      "text/plain": [
       "3"
      ]
     },
     "execution_count": 29,
     "metadata": {},
     "output_type": "execute_result"
    }
   ],
   "source": [
    "run_method(len, [1, 2, 3])"
   ]
  },
  {
   "cell_type": "markdown",
   "metadata": {
    "editable": true,
    "slideshow": {
     "slide_type": ""
    },
    "tags": []
   },
   "source": [
    "**Exercise**\n",
    "Methods returning methods\n",
    "\n",
    "What does this method do? Think about it, what _exactly_ happens. Be precise, discuss with your neighbours."
   ]
  },
  {
   "cell_type": "code",
   "execution_count": 30,
   "metadata": {
    "editable": true,
    "execution": {
     "iopub.execute_input": "2025-02-10T17:09:24.257480Z",
     "iopub.status.busy": "2025-02-10T17:09:24.257332Z",
     "iopub.status.idle": "2025-02-10T17:09:24.259833Z",
     "shell.execute_reply": "2025-02-10T17:09:24.259442Z"
    },
    "slideshow": {
     "slide_type": ""
    },
    "tags": []
   },
   "outputs": [],
   "source": [
    "def make_incrementor(increment):\n",
    "    def func(var):\n",
    "        return var + increment\n",
    "    return func"
   ]
  },
  {
   "cell_type": "markdown",
   "metadata": {
    "editable": true,
    "slideshow": {
     "slide_type": ""
    },
    "tags": []
   },
   "source": [
    "**Solution**\n",
    "\n",
    "It returns a function whose `increment` value has been filled by the argument\n",
    "to `make_incrementor`. If we called `make_incrementor(3)`, then `increment` has\n",
    "the value 3, and we can fill in the returned method in our heads."
   ]
  },
  {
   "cell_type": "code",
   "execution_count": 31,
   "metadata": {
    "editable": true,
    "execution": {
     "iopub.execute_input": "2025-02-10T17:09:24.261425Z",
     "iopub.status.busy": "2025-02-10T17:09:24.261276Z",
     "iopub.status.idle": "2025-02-10T17:09:24.263473Z",
     "shell.execute_reply": "2025-02-10T17:09:24.263101Z"
    },
    "slideshow": {
     "slide_type": ""
    },
    "tags": []
   },
   "outputs": [],
   "source": [
    "def func(var):\n",
    "    return var + 3"
   ]
  },
  {
   "cell_type": "markdown",
   "metadata": {
    "editable": true,
    "slideshow": {
     "slide_type": ""
    },
    "tags": []
   },
   "source": [
    "So when we call _this_ method, we’ll get back what we put in, but plus 3."
   ]
  },
  {
   "cell_type": "code",
   "execution_count": 32,
   "metadata": {
    "editable": true,
    "execution": {
     "iopub.execute_input": "2025-02-10T17:09:24.265224Z",
     "iopub.status.busy": "2025-02-10T17:09:24.265052Z",
     "iopub.status.idle": "2025-02-10T17:09:24.267282Z",
     "shell.execute_reply": "2025-02-10T17:09:24.266883Z"
    },
    "slideshow": {
     "slide_type": ""
    },
    "tags": []
   },
   "outputs": [],
   "source": [
    "increment_one = make_incrementor(1)"
   ]
  },
  {
   "cell_type": "code",
   "execution_count": 33,
   "metadata": {
    "editable": true,
    "execution": {
     "iopub.execute_input": "2025-02-10T17:09:24.269032Z",
     "iopub.status.busy": "2025-02-10T17:09:24.268732Z",
     "iopub.status.idle": "2025-02-10T17:09:24.270967Z",
     "shell.execute_reply": "2025-02-10T17:09:24.270584Z"
    },
    "slideshow": {
     "slide_type": ""
    },
    "tags": []
   },
   "outputs": [],
   "source": [
    "increment_two = make_incrementor(2)"
   ]
  },
  {
   "cell_type": "code",
   "execution_count": 34,
   "metadata": {
    "editable": true,
    "execution": {
     "iopub.execute_input": "2025-02-10T17:09:24.272703Z",
     "iopub.status.busy": "2025-02-10T17:09:24.272409Z",
     "iopub.status.idle": "2025-02-10T17:09:24.275253Z",
     "shell.execute_reply": "2025-02-10T17:09:24.274760Z"
    },
    "slideshow": {
     "slide_type": ""
    },
    "tags": []
   },
   "outputs": [
    {
     "name": "stdout",
     "output_type": "stream",
     "text": [
      "43 44\n"
     ]
    }
   ],
   "source": [
    "print(increment_one(42), increment_two(42))"
   ]
  },
  {
   "cell_type": "code",
   "execution_count": 35,
   "metadata": {
    "editable": true,
    "execution": {
     "iopub.execute_input": "2025-02-10T17:09:24.277104Z",
     "iopub.status.busy": "2025-02-10T17:09:24.276699Z",
     "iopub.status.idle": "2025-02-10T17:09:24.279504Z",
     "shell.execute_reply": "2025-02-10T17:09:24.279023Z"
    },
    "slideshow": {
     "slide_type": ""
    },
    "tags": []
   },
   "outputs": [
    {
     "name": "stdout",
     "output_type": "stream",
     "text": [
      "45\n"
     ]
    }
   ],
   "source": [
    "print(make_incrementor(3)(42)) # Do it in one go!"
   ]
  },
  {
   "cell_type": "markdown",
   "metadata": {
    "editable": true,
    "slideshow": {
     "slide_type": ""
    },
    "tags": []
   },
   "source": [
    "## *args and **kwargs\n",
    "\n",
    "This is a brief introduction, for a more detailed explanation on the packing and unpacking of arguments, [see here](https://hsf-training.github.io/analysis-essentials/advanced-python/11AdvancedPython.html#Packing-and-unpacking-of-values)\n",
    "\n",
    "What if you like to accept an arbitrary number of arguments? For example, we\n",
    "can also write a `total` method that takes two arguments."
   ]
  },
  {
   "cell_type": "code",
   "execution_count": 36,
   "metadata": {
    "editable": true,
    "execution": {
     "iopub.execute_input": "2025-02-10T17:09:24.281381Z",
     "iopub.status.busy": "2025-02-10T17:09:24.280977Z",
     "iopub.status.idle": "2025-02-10T17:09:24.283534Z",
     "shell.execute_reply": "2025-02-10T17:09:24.283016Z"
    },
    "slideshow": {
     "slide_type": ""
    },
    "tags": []
   },
   "outputs": [],
   "source": [
    "def total(x, y):\n",
    "    \"\"\"Return the sum of the arguments.\"\"\"\n",
    "    return x + y"
   ]
  },
  {
   "cell_type": "markdown",
   "metadata": {
    "editable": true,
    "slideshow": {
     "slide_type": ""
    },
    "tags": []
   },
   "source": [
    "But what if we want to allow the caller to pass more than two arguments? It\n",
    "would be tedious to define many arguments explicitly."
   ]
  },
  {
   "cell_type": "code",
   "execution_count": 37,
   "metadata": {
    "editable": true,
    "execution": {
     "iopub.execute_input": "2025-02-10T17:09:24.285449Z",
     "iopub.status.busy": "2025-02-10T17:09:24.285170Z",
     "iopub.status.idle": "2025-02-10T17:09:24.287779Z",
     "shell.execute_reply": "2025-02-10T17:09:24.287352Z"
    },
    "slideshow": {
     "slide_type": ""
    },
    "tags": []
   },
   "outputs": [],
   "source": [
    "def total(*args):\n",
    "    \"\"\"Return the sum of the arguments.\"\"\"\n",
    "    # For seeing what `*` does\n",
    "    print(f'Got {len(args)} arguments: {args}')\n",
    "    return sum(args)"
   ]
  },
  {
   "cell_type": "code",
   "execution_count": 38,
   "metadata": {
    "editable": true,
    "execution": {
     "iopub.execute_input": "2025-02-10T17:09:24.289388Z",
     "iopub.status.busy": "2025-02-10T17:09:24.289235Z",
     "iopub.status.idle": "2025-02-10T17:09:24.292782Z",
     "shell.execute_reply": "2025-02-10T17:09:24.292311Z"
    },
    "slideshow": {
     "slide_type": ""
    },
    "tags": []
   },
   "outputs": [
    {
     "name": "stdout",
     "output_type": "stream",
     "text": [
      "Got 1 arguments: (1,)\n"
     ]
    },
    {
     "data": {
      "text/plain": [
       "1"
      ]
     },
     "execution_count": 38,
     "metadata": {},
     "output_type": "execute_result"
    }
   ],
   "source": [
    "total(1)"
   ]
  },
  {
   "cell_type": "code",
   "execution_count": 39,
   "metadata": {
    "editable": true,
    "execution": {
     "iopub.execute_input": "2025-02-10T17:09:24.294924Z",
     "iopub.status.busy": "2025-02-10T17:09:24.294553Z",
     "iopub.status.idle": "2025-02-10T17:09:24.298176Z",
     "shell.execute_reply": "2025-02-10T17:09:24.297673Z"
    },
    "slideshow": {
     "slide_type": ""
    },
    "tags": []
   },
   "outputs": [
    {
     "name": "stdout",
     "output_type": "stream",
     "text": [
      "Got 2 arguments: (1, 2)\n"
     ]
    },
    {
     "data": {
      "text/plain": [
       "3"
      ]
     },
     "execution_count": 39,
     "metadata": {},
     "output_type": "execute_result"
    }
   ],
   "source": [
    "total(1, 2)"
   ]
  },
  {
   "cell_type": "code",
   "execution_count": 40,
   "metadata": {
    "editable": true,
    "execution": {
     "iopub.execute_input": "2025-02-10T17:09:24.299833Z",
     "iopub.status.busy": "2025-02-10T17:09:24.299696Z",
     "iopub.status.idle": "2025-02-10T17:09:24.303352Z",
     "shell.execute_reply": "2025-02-10T17:09:24.302916Z"
    },
    "slideshow": {
     "slide_type": ""
    },
    "tags": []
   },
   "outputs": [
    {
     "name": "stdout",
     "output_type": "stream",
     "text": [
      "Got 3 arguments: (1, 2, 3)\n"
     ]
    },
    {
     "data": {
      "text/plain": [
       "6"
      ]
     },
     "execution_count": 40,
     "metadata": {},
     "output_type": "execute_result"
    }
   ],
   "source": [
    "total(1, 2, 3)"
   ]
  },
  {
   "cell_type": "markdown",
   "metadata": {
    "editable": true,
    "slideshow": {
     "slide_type": ""
    },
    "tags": []
   },
   "source": [
    "The `*args` syntax says “stuff any arguments into a tuple and call it `args`”.\n",
    "This let’s us capture any number of arguments. As `args` is a tuple, one could\n",
    "loop over it, access a specific element, and so on.\n",
    "\n",
    "*remark: `args`, like `_`, is just a name that by convention is used in this way, but has no special function*\n",
    "\n",
    "We can also _expand_ lists into separate arguments with the same syntax when\n",
    "_calling_ a method."
   ]
  },
  {
   "cell_type": "code",
   "execution_count": 41,
   "metadata": {
    "editable": true,
    "execution": {
     "iopub.execute_input": "2025-02-10T17:09:24.304989Z",
     "iopub.status.busy": "2025-02-10T17:09:24.304855Z",
     "iopub.status.idle": "2025-02-10T17:09:24.307167Z",
     "shell.execute_reply": "2025-02-10T17:09:24.306774Z"
    },
    "slideshow": {
     "slide_type": ""
    },
    "tags": []
   },
   "outputs": [],
   "source": [
    "def reverse_args(x, y):\n",
    "    return y, x"
   ]
  },
  {
   "cell_type": "code",
   "execution_count": 42,
   "metadata": {
    "editable": true,
    "execution": {
     "iopub.execute_input": "2025-02-10T17:09:24.308724Z",
     "iopub.status.busy": "2025-02-10T17:09:24.308587Z",
     "iopub.status.idle": "2025-02-10T17:09:24.310778Z",
     "shell.execute_reply": "2025-02-10T17:09:24.310375Z"
    },
    "slideshow": {
     "slide_type": ""
    },
    "tags": []
   },
   "outputs": [],
   "source": [
    "l = ['a', 'b']"
   ]
  },
  {
   "cell_type": "code",
   "execution_count": 43,
   "metadata": {
    "editable": true,
    "execution": {
     "iopub.execute_input": "2025-02-10T17:09:24.312634Z",
     "iopub.status.busy": "2025-02-10T17:09:24.312326Z",
     "iopub.status.idle": "2025-02-10T17:09:24.322048Z",
     "shell.execute_reply": "2025-02-10T17:09:24.321661Z"
    },
    "slideshow": {
     "slide_type": ""
    },
    "tags": [
     "raises-exception"
    ]
   },
   "outputs": [
    {
     "ename": "TypeError",
     "evalue": "reverse_args() missing 1 required positional argument: 'y'",
     "output_type": "error",
     "traceback": [
      "\u001b[0;31m---------------------------------------------------------------------------\u001b[0m",
      "\u001b[0;31mTypeError\u001b[0m                                 Traceback (most recent call last)",
      "Cell \u001b[0;32mIn[43], line 1\u001b[0m\n\u001b[0;32m----> 1\u001b[0m \u001b[43mreverse_args\u001b[49m\u001b[43m(\u001b[49m\u001b[43ml\u001b[49m\u001b[43m)\u001b[49m\n",
      "\u001b[0;31mTypeError\u001b[0m: reverse_args() missing 1 required positional argument: 'y'"
     ]
    }
   ],
   "source": [
    "reverse_args(l)"
   ]
  },
  {
   "cell_type": "code",
   "execution_count": 44,
   "metadata": {
    "editable": true,
    "execution": {
     "iopub.execute_input": "2025-02-10T17:09:24.324019Z",
     "iopub.status.busy": "2025-02-10T17:09:24.323648Z",
     "iopub.status.idle": "2025-02-10T17:09:24.326967Z",
     "shell.execute_reply": "2025-02-10T17:09:24.326474Z"
    },
    "slideshow": {
     "slide_type": ""
    },
    "tags": []
   },
   "outputs": [
    {
     "data": {
      "text/plain": [
       "('b', 'a')"
      ]
     },
     "execution_count": 44,
     "metadata": {},
     "output_type": "execute_result"
    }
   ],
   "source": [
    "reverse_args(*l)"
   ]
  },
  {
   "cell_type": "markdown",
   "metadata": {
    "editable": true,
    "slideshow": {
     "slide_type": ""
    },
    "tags": []
   },
   "source": [
    "A similar syntax exists for keyword arguments."
   ]
  },
  {
   "cell_type": "code",
   "execution_count": 45,
   "metadata": {
    "editable": true,
    "execution": {
     "iopub.execute_input": "2025-02-10T17:09:24.328598Z",
     "iopub.status.busy": "2025-02-10T17:09:24.328444Z",
     "iopub.status.idle": "2025-02-10T17:09:24.331219Z",
     "shell.execute_reply": "2025-02-10T17:09:24.330798Z"
    },
    "slideshow": {
     "slide_type": ""
    },
    "tags": []
   },
   "outputs": [],
   "source": [
    "def ages(**people):\n",
    "    \"\"\"Print people's information.\"\"\"\n",
    "    # For seeing what `**` does\n",
    "    print(f'Got {len(people)} arguments: {people}')\n",
    "    for person in people:\n",
    "        print(f'Person {person} is {people[person]}')"
   ]
  },
  {
   "cell_type": "code",
   "execution_count": 46,
   "metadata": {
    "editable": true,
    "execution": {
     "iopub.execute_input": "2025-02-10T17:09:24.332858Z",
     "iopub.status.busy": "2025-02-10T17:09:24.332709Z",
     "iopub.status.idle": "2025-02-10T17:09:24.335485Z",
     "shell.execute_reply": "2025-02-10T17:09:24.335087Z"
    },
    "slideshow": {
     "slide_type": ""
    },
    "tags": []
   },
   "outputs": [
    {
     "name": "stdout",
     "output_type": "stream",
     "text": [
      "Got 1 arguments: {'steve': 31}\n",
      "Person steve is 31\n"
     ]
    }
   ],
   "source": [
    "ages(steve=31)"
   ]
  },
  {
   "cell_type": "code",
   "execution_count": 47,
   "metadata": {
    "editable": true,
    "execution": {
     "iopub.execute_input": "2025-02-10T17:09:24.337093Z",
     "iopub.status.busy": "2025-02-10T17:09:24.336923Z",
     "iopub.status.idle": "2025-02-10T17:09:24.339738Z",
     "shell.execute_reply": "2025-02-10T17:09:24.339341Z"
    },
    "slideshow": {
     "slide_type": ""
    },
    "tags": []
   },
   "outputs": [
    {
     "name": "stdout",
     "output_type": "stream",
     "text": [
      "Got 3 arguments: {'steve': 31, 'helen': 70, 'zorblax': 9963}\n",
      "Person steve is 31\n",
      "Person helen is 70\n",
      "Person zorblax is 9963\n"
     ]
    }
   ],
   "source": [
    "ages(steve=31, helen=70, zorblax=9963)"
   ]
  },
  {
   "cell_type": "markdown",
   "metadata": {
    "editable": true,
    "slideshow": {
     "slide_type": ""
    },
    "tags": []
   },
   "source": [
    "As you can see from the debug print statement, `**people` is a dictionary\n",
    "containing the keyword arguments we passed to the `ages` method. The keys of\n",
    "the dictionary are the names of the argument as strings, and the values are the\n",
    "values of the arguments. Just like for the `*` syntax, `**` can also be used to\n",
    "expand a dictionary into keyword arguments."
   ]
  },
  {
   "cell_type": "code",
   "execution_count": 48,
   "metadata": {
    "editable": true,
    "execution": {
     "iopub.execute_input": "2025-02-10T17:09:24.341338Z",
     "iopub.status.busy": "2025-02-10T17:09:24.341187Z",
     "iopub.status.idle": "2025-02-10T17:09:24.343660Z",
     "shell.execute_reply": "2025-02-10T17:09:24.343161Z"
    },
    "slideshow": {
     "slide_type": ""
    },
    "tags": []
   },
   "outputs": [],
   "source": [
    "data = {'thor': 5000, 'yoda': -1}"
   ]
  },
  {
   "cell_type": "code",
   "execution_count": 49,
   "metadata": {
    "editable": true,
    "execution": {
     "iopub.execute_input": "2025-02-10T17:09:24.345615Z",
     "iopub.status.busy": "2025-02-10T17:09:24.345245Z",
     "iopub.status.idle": "2025-02-10T17:09:24.348132Z",
     "shell.execute_reply": "2025-02-10T17:09:24.347617Z"
    },
    "slideshow": {
     "slide_type": ""
    },
    "tags": []
   },
   "outputs": [
    {
     "name": "stdout",
     "output_type": "stream",
     "text": [
      "Got 2 arguments: {'thor': 5000, 'yoda': -1}\n",
      "Person thor is 5000\n",
      "Person yoda is -1\n"
     ]
    }
   ],
   "source": [
    "ages(**data)"
   ]
  },
  {
   "cell_type": "markdown",
   "metadata": {
    "editable": true,
    "slideshow": {
     "slide_type": ""
    },
    "tags": []
   },
   "source": [
    "The order of the keyword arguments used to call the method are not necessarily\n",
    "the same as those that the function block sees!\n",
    "This is because dictionaries are unordered, and the `**` syntax effectively creates a dictionary."
   ]
  },
  {
   "cell_type": "markdown",
   "metadata": {
    "editable": true,
    "slideshow": {
     "slide_type": ""
    },
    "tags": []
   },
   "source": [
    "**Exercise**\n",
    "The most generic method\n",
    "\n",
    "The most generic method would take any number of positional arguments _and_ any\n",
    "number of keyword arguments. What would this method look like?"
   ]
  },
  {
   "cell_type": "code",
   "execution_count": null,
   "metadata": {
    "editable": true,
    "slideshow": {
     "slide_type": ""
    },
    "tags": []
   },
   "outputs": [],
   "source": []
  },
  {
   "cell_type": "markdown",
   "metadata": {
    "editable": true,
    "slideshow": {
     "slide_type": ""
    },
    "tags": []
   },
   "source": [
    "**Solution**\n",
    "\n",
    "It would use both `*` and `**` syntax in defining the arguments."
   ]
  },
  {
   "cell_type": "code",
   "execution_count": 50,
   "metadata": {
    "editable": true,
    "execution": {
     "iopub.execute_input": "2025-02-10T17:09:24.349973Z",
     "iopub.status.busy": "2025-02-10T17:09:24.349822Z",
     "iopub.status.idle": "2025-02-10T17:09:24.352417Z",
     "shell.execute_reply": "2025-02-10T17:09:24.352006Z"
    },
    "slideshow": {
     "slide_type": ""
    },
    "tags": []
   },
   "outputs": [],
   "source": [
    "def generic(*args, **kwargs):\n",
    "    print(f'Got args: {args}')\n",
    "    print(f'Got kwargs: {kwargs}')"
   ]
  },
  {
   "cell_type": "code",
   "execution_count": 51,
   "metadata": {
    "editable": true,
    "execution": {
     "iopub.execute_input": "2025-02-10T17:09:24.354119Z",
     "iopub.status.busy": "2025-02-10T17:09:24.353948Z",
     "iopub.status.idle": "2025-02-10T17:09:24.356884Z",
     "shell.execute_reply": "2025-02-10T17:09:24.356461Z"
    },
    "slideshow": {
     "slide_type": ""
    },
    "tags": []
   },
   "outputs": [
    {
     "name": "stdout",
     "output_type": "stream",
     "text": [
      "Got args: (1, 2, 'abc')\n",
      "Got kwargs: {'foo': 'bar', 'bing': 'baz'}\n"
     ]
    }
   ],
   "source": [
    "data = {'bing': 'baz'}\n",
    "generic(1, 2, 'abc', foo='bar', **data)"
   ]
  },
  {
   "cell_type": "markdown",
   "metadata": {
    "editable": true,
    "slideshow": {
     "slide_type": ""
    },
    "tags": []
   },
   "source": [
    "## Inline methods\n",
    "\n",
    "Some methods take other methods as arguments, like the built-in `map` method."
   ]
  },
  {
   "cell_type": "code",
   "execution_count": 52,
   "metadata": {
    "editable": true,
    "execution": {
     "iopub.execute_input": "2025-02-10T17:09:24.358627Z",
     "iopub.status.busy": "2025-02-10T17:09:24.358471Z",
     "iopub.status.idle": "2025-02-10T17:09:24.361625Z",
     "shell.execute_reply": "2025-02-10T17:09:24.361199Z"
    },
    "slideshow": {
     "slide_type": ""
    },
    "tags": []
   },
   "outputs": [
    {
     "data": {
      "text/plain": [
       "<map at 0x7fdd0484af50>"
      ]
     },
     "execution_count": 52,
     "metadata": {},
     "output_type": "execute_result"
    }
   ],
   "source": [
    "map(str, range(5))"
   ]
  },
  {
   "cell_type": "markdown",
   "metadata": {
    "editable": true,
    "slideshow": {
     "slide_type": ""
    },
    "tags": []
   },
   "source": [
    "`map` takes a function and an iterable, and applies the function to each element in\n",
    "the iterable. It returs however an generator, an object that is, for advanced reasons, not actually evaluated yet. In most cases, you can treat this `list` or `tuple`-like.\n",
    "\n",
    "To make sure it is evaluated, we can explicitly convert it to a container, _i.e._ a list with the results. We can define and then pass our own functions."
   ]
  },
  {
   "cell_type": "code",
   "execution_count": 53,
   "metadata": {
    "editable": true,
    "execution": {
     "iopub.execute_input": "2025-02-10T17:09:24.363308Z",
     "iopub.status.busy": "2025-02-10T17:09:24.363158Z",
     "iopub.status.idle": "2025-02-10T17:09:24.366348Z",
     "shell.execute_reply": "2025-02-10T17:09:24.365924Z"
    },
    "slideshow": {
     "slide_type": ""
    },
    "tags": []
   },
   "outputs": [
    {
     "data": {
      "text/plain": [
       "['0', '1', '2', '3', '4']"
      ]
     },
     "execution_count": 53,
     "metadata": {},
     "output_type": "execute_result"
    }
   ],
   "source": [
    "list(map(str, range(5)))"
   ]
  },
  {
   "cell_type": "code",
   "execution_count": 54,
   "metadata": {
    "editable": true,
    "execution": {
     "iopub.execute_input": "2025-02-10T17:09:24.367988Z",
     "iopub.status.busy": "2025-02-10T17:09:24.367836Z",
     "iopub.status.idle": "2025-02-10T17:09:24.370319Z",
     "shell.execute_reply": "2025-02-10T17:09:24.369909Z"
    },
    "slideshow": {
     "slide_type": ""
    },
    "tags": []
   },
   "outputs": [],
   "source": [
    "def cube(x):\n",
    "    \"\"\"Return the third power of x.\"\"\"\n",
    "    return x*x*x"
   ]
  },
  {
   "cell_type": "code",
   "execution_count": 55,
   "metadata": {
    "editable": true,
    "execution": {
     "iopub.execute_input": "2025-02-10T17:09:24.372046Z",
     "iopub.status.busy": "2025-02-10T17:09:24.371894Z",
     "iopub.status.idle": "2025-02-10T17:09:24.375032Z",
     "shell.execute_reply": "2025-02-10T17:09:24.374613Z"
    },
    "slideshow": {
     "slide_type": ""
    },
    "tags": []
   },
   "outputs": [
    {
     "data": {
      "text/plain": [
       "[0, 1, 8, 27, 64]"
      ]
     },
     "execution_count": 55,
     "metadata": {},
     "output_type": "execute_result"
    }
   ],
   "source": [
    "list(map(cube, range(5)))"
   ]
  },
  {
   "cell_type": "markdown",
   "metadata": {
    "editable": true,
    "slideshow": {
     "slide_type": ""
    },
    "tags": []
   },
   "source": [
    "For such a simple method, this is a lot of typing! We can use a `lambda` function to\n",
    "define such simple methods inline."
   ]
  },
  {
   "cell_type": "code",
   "execution_count": 56,
   "metadata": {
    "editable": true,
    "execution": {
     "iopub.execute_input": "2025-02-10T17:09:24.376714Z",
     "iopub.status.busy": "2025-02-10T17:09:24.376563Z",
     "iopub.status.idle": "2025-02-10T17:09:24.380112Z",
     "shell.execute_reply": "2025-02-10T17:09:24.379687Z"
    },
    "slideshow": {
     "slide_type": ""
    },
    "tags": []
   },
   "outputs": [
    {
     "data": {
      "text/plain": [
       "[0, 1, 8, 27, 64]"
      ]
     },
     "execution_count": 56,
     "metadata": {},
     "output_type": "execute_result"
    }
   ],
   "source": [
    "list(map(lambda x: x*x*x, range(5)))"
   ]
  },
  {
   "cell_type": "markdown",
   "metadata": {
    "editable": true,
    "slideshow": {
     "slide_type": ""
    },
    "tags": []
   },
   "source": [
    "The syntax of defining a `lambda` is like this:\n",
    "```\n",
    "lambda <args>: <return expression>\n",
    "```\n",
    "`<args>` is a command-separate set of variables that the `lambda` can take as\n",
    "arguments, and `<return expression>` is the code that is run. A `lambda`\n",
    "automatically returns whatever the result of the expression is, you don’t need\n",
    "a `return` (the `return` is _implicit_).\n",
    "\n",
    "Writing a `lambda` statement defines a method, which you can capture as a\n",
    "variable just like any other object."
   ]
  },
  {
   "cell_type": "code",
   "execution_count": 57,
   "metadata": {
    "editable": true,
    "execution": {
     "iopub.execute_input": "2025-02-10T17:09:24.381788Z",
     "iopub.status.busy": "2025-02-10T17:09:24.381638Z",
     "iopub.status.idle": "2025-02-10T17:09:24.384083Z",
     "shell.execute_reply": "2025-02-10T17:09:24.383674Z"
    },
    "slideshow": {
     "slide_type": ""
    },
    "tags": []
   },
   "outputs": [],
   "source": [
    "div2 = lambda x: x / 2"
   ]
  },
  {
   "cell_type": "code",
   "execution_count": 58,
   "metadata": {
    "editable": true,
    "execution": {
     "iopub.execute_input": "2025-02-10T17:09:24.385700Z",
     "iopub.status.busy": "2025-02-10T17:09:24.385548Z",
     "iopub.status.idle": "2025-02-10T17:09:24.388762Z",
     "shell.execute_reply": "2025-02-10T17:09:24.388373Z"
    },
    "slideshow": {
     "slide_type": ""
    },
    "tags": []
   },
   "outputs": [
    {
     "data": {
      "text/plain": [
       "<function __main__.<lambda>(x)>"
      ]
     },
     "execution_count": 58,
     "metadata": {},
     "output_type": "execute_result"
    }
   ],
   "source": [
    "div2"
   ]
  },
  {
   "cell_type": "code",
   "execution_count": 59,
   "metadata": {
    "editable": true,
    "execution": {
     "iopub.execute_input": "2025-02-10T17:09:24.390368Z",
     "iopub.status.busy": "2025-02-10T17:09:24.390217Z",
     "iopub.status.idle": "2025-02-10T17:09:24.393525Z",
     "shell.execute_reply": "2025-02-10T17:09:24.393137Z"
    },
    "slideshow": {
     "slide_type": ""
    },
    "tags": []
   },
   "outputs": [
    {
     "data": {
      "text/plain": [
       "[0.0, 0.5, 1.0, 1.5, 2.0]"
      ]
     },
     "execution_count": 59,
     "metadata": {},
     "output_type": "execute_result"
    }
   ],
   "source": [
    "list(map(div2, range(5)))"
   ]
  },
  {
   "cell_type": "markdown",
   "metadata": {
    "editable": true,
    "slideshow": {
     "slide_type": ""
    },
    "tags": []
   },
   "source": [
    "Note however that _if we assing the function to a variable_, the general preferred way to do is using the normal function definition."
   ]
  },
  {
   "cell_type": "code",
   "execution_count": 60,
   "metadata": {
    "editable": true,
    "execution": {
     "iopub.execute_input": "2025-02-10T17:09:24.395142Z",
     "iopub.status.busy": "2025-02-10T17:09:24.394973Z",
     "iopub.status.idle": "2025-02-10T17:09:24.397287Z",
     "shell.execute_reply": "2025-02-10T17:09:24.396860Z"
    },
    "slideshow": {
     "slide_type": ""
    },
    "tags": []
   },
   "outputs": [],
   "source": [
    "def div2(x):\n",
    "    return x / 2"
   ]
  },
  {
   "cell_type": "markdown",
   "metadata": {
    "editable": true,
    "slideshow": {
     "slide_type": ""
    },
    "tags": []
   },
   "source": [
    "**Exercise**\n",
    "Sum in quadrature\n",
    "\n",
    "Write a method that accepts an arbitrary number of arguments, and returns the\n",
    "sum of the arguments computed in quadrature. A “sum in quadrature” is the\n",
    "square root of the sum of the squares of each number. You should use `lambda`\n",
    "to define a squaring and a square root function, and `map` to apply the\n",
    "squaring method."
   ]
  },
  {
   "cell_type": "code",
   "execution_count": null,
   "metadata": {
    "editable": true,
    "slideshow": {
     "slide_type": ""
    },
    "tags": []
   },
   "outputs": [],
   "source": []
  },
  {
   "cell_type": "markdown",
   "metadata": {
    "editable": true,
    "slideshow": {
     "slide_type": ""
    },
    "tags": []
   },
   "source": [
    "**Solution**\n",
    "We need a little square root method and a method to square its input."
   ]
  },
  {
   "cell_type": "code",
   "execution_count": 61,
   "metadata": {
    "editable": true,
    "execution": {
     "iopub.execute_input": "2025-02-10T17:09:24.399168Z",
     "iopub.status.busy": "2025-02-10T17:09:24.398860Z",
     "iopub.status.idle": "2025-02-10T17:09:24.401382Z",
     "shell.execute_reply": "2025-02-10T17:09:24.400900Z"
    },
    "slideshow": {
     "slide_type": ""
    },
    "tags": []
   },
   "outputs": [],
   "source": [
    "square = lambda x: x*x\n",
    "sqrt = lambda x: x**0.5"
   ]
  },
  {
   "cell_type": "markdown",
   "metadata": {
    "editable": true,
    "slideshow": {
     "slide_type": ""
    },
    "tags": []
   },
   "source": [
    "We then define a method that can accept any number of arguments using the\n",
    "`*args` syntax, and use `map` to call the `square` method on the list of\n",
    "arguments. Then we can call `sum` on the result, and then `sqrt`."
   ]
  },
  {
   "cell_type": "code",
   "execution_count": 62,
   "metadata": {
    "editable": true,
    "execution": {
     "iopub.execute_input": "2025-02-10T17:09:24.403127Z",
     "iopub.status.busy": "2025-02-10T17:09:24.402865Z",
     "iopub.status.idle": "2025-02-10T17:09:24.405461Z",
     "shell.execute_reply": "2025-02-10T17:09:24.404961Z"
    },
    "slideshow": {
     "slide_type": ""
    },
    "tags": []
   },
   "outputs": [],
   "source": [
    "def quadrature(*args):\n",
    "    \"\"\"Return the sum in quadrature of the arguments.\"\"\"\n",
    "    return sqrt(sum(map(square, args)))"
   ]
  },
  {
   "cell_type": "code",
   "execution_count": 63,
   "metadata": {
    "editable": true,
    "execution": {
     "iopub.execute_input": "2025-02-10T17:09:24.407156Z",
     "iopub.status.busy": "2025-02-10T17:09:24.406887Z",
     "iopub.status.idle": "2025-02-10T17:09:24.410207Z",
     "shell.execute_reply": "2025-02-10T17:09:24.409791Z"
    },
    "slideshow": {
     "slide_type": ""
    },
    "tags": []
   },
   "outputs": [
    {
     "data": {
      "text/plain": [
       "1.4142135623730951"
      ]
     },
     "execution_count": 63,
     "metadata": {},
     "output_type": "execute_result"
    }
   ],
   "source": [
    "quadrature(1, 1) # should be equal to sqrt(2)"
   ]
  },
  {
   "cell_type": "code",
   "execution_count": 64,
   "metadata": {
    "editable": true,
    "execution": {
     "iopub.execute_input": "2025-02-10T17:09:24.411810Z",
     "iopub.status.busy": "2025-02-10T17:09:24.411659Z",
     "iopub.status.idle": "2025-02-10T17:09:24.414927Z",
     "shell.execute_reply": "2025-02-10T17:09:24.414450Z"
    },
    "slideshow": {
     "slide_type": ""
    },
    "tags": []
   },
   "outputs": [
    {
     "data": {
      "text/plain": [
       "1.4142135623730951"
      ]
     },
     "execution_count": 64,
     "metadata": {},
     "output_type": "execute_result"
    }
   ],
   "source": [
    "2**0.5"
   ]
  },
  {
   "cell_type": "markdown",
   "metadata": {
    "editable": true,
    "slideshow": {
     "slide_type": ""
    },
    "tags": []
   },
   "source": [
    "Another good use case for `lambda` (remember, we can just define the function, it's more of a \"nice-to-have\") is the built-in `filter` method (see:\n",
    "`help(filter)`)."
   ]
  },
  {
   "cell_type": "code",
   "execution_count": 65,
   "metadata": {
    "editable": true,
    "execution": {
     "iopub.execute_input": "2025-02-10T17:09:24.416694Z",
     "iopub.status.busy": "2025-02-10T17:09:24.416397Z",
     "iopub.status.idle": "2025-02-10T17:09:24.419779Z",
     "shell.execute_reply": "2025-02-10T17:09:24.419386Z"
    },
    "slideshow": {
     "slide_type": ""
    },
    "tags": []
   },
   "outputs": [
    {
     "data": {
      "text/plain": [
       "<filter at 0x7fdd0484a5f0>"
      ]
     },
     "execution_count": 65,
     "metadata": {},
     "output_type": "execute_result"
    }
   ],
   "source": [
    "# filter and return the even numbers only\n",
    "filter(lambda x: x % 2 == 0, range(10))  # returns again a generator"
   ]
  },
  {
   "cell_type": "code",
   "execution_count": 66,
   "metadata": {
    "editable": true,
    "execution": {
     "iopub.execute_input": "2025-02-10T17:09:24.421403Z",
     "iopub.status.busy": "2025-02-10T17:09:24.421249Z",
     "iopub.status.idle": "2025-02-10T17:09:24.424695Z",
     "shell.execute_reply": "2025-02-10T17:09:24.424307Z"
    },
    "slideshow": {
     "slide_type": ""
    },
    "tags": []
   },
   "outputs": [
    {
     "data": {
      "text/plain": [
       "[0, 2, 4, 6, 8]"
      ]
     },
     "execution_count": 66,
     "metadata": {},
     "output_type": "execute_result"
    }
   ],
   "source": [
    "list(filter(lambda x: x % 2 == 0, range(10)))"
   ]
  },
  {
   "cell_type": "markdown",
   "metadata": {
    "editable": true,
    "slideshow": {
     "slide_type": ""
    },
    "tags": []
   },
   "source": [
    "**Exercise**\n",
    "List comprehension\n",
    "\n",
    "How would you rewrite the `filter` example above using a list comprehension?"
   ]
  },
  {
   "cell_type": "code",
   "execution_count": null,
   "metadata": {
    "editable": true,
    "slideshow": {
     "slide_type": ""
    },
    "tags": []
   },
   "outputs": [],
   "source": []
  },
  {
   "cell_type": "markdown",
   "metadata": {
    "editable": true,
    "slideshow": {
     "slide_type": ""
    },
    "tags": []
   },
   "source": [
    "**Solution**"
   ]
  },
  {
   "cell_type": "code",
   "execution_count": 67,
   "metadata": {
    "editable": true,
    "execution": {
     "iopub.execute_input": "2025-02-10T17:09:24.426459Z",
     "iopub.status.busy": "2025-02-10T17:09:24.426315Z",
     "iopub.status.idle": "2025-02-10T17:09:24.429717Z",
     "shell.execute_reply": "2025-02-10T17:09:24.429215Z"
    },
    "slideshow": {
     "slide_type": ""
    },
    "tags": []
   },
   "outputs": [
    {
     "data": {
      "text/plain": [
       "[0, 2, 4, 6, 8]"
      ]
     },
     "execution_count": 67,
     "metadata": {},
     "output_type": "execute_result"
    }
   ],
   "source": [
    "[ x for x in range(10) if x % 2 == 0 ]"
   ]
  },
  {
   "cell_type": "markdown",
   "metadata": {
    "editable": true,
    "slideshow": {
     "slide_type": ""
    },
    "tags": []
   },
   "source": [
    "Generally, you should only use `lambda` methods to define little throw-away\n",
    "methods. The main downside with using them is that you can’t attach a docstring\n",
    "to them, and they become unwieldy when there’s complex logic.\n",
    "\n",
    "Golden rules:\n",
    " - Make functions idempotent where possible (stateless, the same input values will return the same output). This is of course different for classes.\n",
    " - Don't use globals (if anyhow avoidable).\n",
    " - Do not alter the input argument if they are mutable. If it's convenient, make a copy of the object first (remember copies of lists?)\n",
    " - Put a docstring there. Probably even before you implement your function. This makes it\n",
    "   not only to everyone else but also to you clear what comes in and what comes out.\n"
   ]
  },
  {
   "cell_type": "code",
   "execution_count": null,
   "metadata": {
    "editable": true,
    "slideshow": {
     "slide_type": ""
    },
    "tags": []
   },
   "outputs": [],
   "source": []
  }
 ],
 "metadata": {
  "language_info": {
   "codemirror_mode": {
    "name": "ipython",
    "version": 3
   },
   "file_extension": ".py",
   "mimetype": "text/x-python",
   "name": "python",
   "nbconvert_exporter": "python",
   "pygments_lexer": "ipython3",
   "version": "3.11.11"
  }
 },
 "nbformat": 4,
 "nbformat_minor": 4
}
