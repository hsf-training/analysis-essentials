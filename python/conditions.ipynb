{
 "cells": [
  {
   "cell_type": "markdown",
   "metadata": {},
   "source": [
    "# Conditions\n",
    "\n",
    "Sometimes, often while looping, you only want to do things depending on\n",
    "something’s value. Specifying _conditions_ like this is pretty simple in Python.\n"
   ]
  },
  {
   "cell_type": "code",
   "execution_count": 1,
   "metadata": {
    "execution": {
     "iopub.execute_input": "2025-02-10T17:09:17.153912Z",
     "iopub.status.busy": "2025-02-10T17:09:17.153749Z",
     "iopub.status.idle": "2025-02-10T17:09:17.159409Z",
     "shell.execute_reply": "2025-02-10T17:09:17.158989Z"
    }
   },
   "outputs": [
    {
     "name": "stdout",
     "output_type": "stream",
     "text": [
      "Weird pizza.\n",
      "Nice pizza!\n",
      "Amazing pizza!\n",
      "Weird pizza.\n"
     ]
    }
   ],
   "source": [
    "pizzas = [\"Pineapple\", \"Cheese\", \"Pepperoni\", \"Hot dog\"]\n",
    "for p in pizzas:\n",
    "    if p == \"Cheese\":\n",
    "        print(\"Nice pizza!\")\n",
    "    elif p == \"Pepperoni\":\n",
    "        print(\"Amazing pizza!\")\n",
    "    else:\n",
    "        print(\"Weird pizza.\")"
   ]
  },
  {
   "cell_type": "markdown",
   "metadata": {},
   "source": [
    "Like the \"body\" of the `for` loop, called a _block_, the block in the `if`,\n",
    "`elif`, and `else` statements must be indented. The convention we adopt is to\n",
    "use four spaces for indentation.\n",
    "\n",
    "The `if` statement starts with `if` (duh!) and what follows is a _condition_.\n",
    "If this condition isn’t met, the next `elif` (for \"else-if\") condition is\n",
    "evaluated. If this also isn’t met, the `else` block is run. You can use as many\n",
    "`elif` conditions as you like, or none at all, and the `else` block is optional.\n",
    "\n",
    "\n",
    "Python evaluates a condition and sees whether it is truth-like or not. If it is\n",
    "truth-like, the code in the block is run.\n",
    "\n"
   ]
  },
  {
   "cell_type": "code",
   "execution_count": 2,
   "metadata": {
    "execution": {
     "iopub.execute_input": "2025-02-10T17:09:17.161130Z",
     "iopub.status.busy": "2025-02-10T17:09:17.160952Z",
     "iopub.status.idle": "2025-02-10T17:09:17.163405Z",
     "shell.execute_reply": "2025-02-10T17:09:17.162987Z"
    }
   },
   "outputs": [],
   "source": [
    "if pizzas[0] == \"Cheese\":\n",
    "    print(\"It is cheese, my dudes.\")"
   ]
  },
  {
   "cell_type": "code",
   "execution_count": 3,
   "metadata": {
    "execution": {
     "iopub.execute_input": "2025-02-10T17:09:17.165127Z",
     "iopub.status.busy": "2025-02-10T17:09:17.164950Z",
     "iopub.status.idle": "2025-02-10T17:09:17.169774Z",
     "shell.execute_reply": "2025-02-10T17:09:17.169290Z"
    }
   },
   "outputs": [
    {
     "data": {
      "text/plain": [
       "False"
      ]
     },
     "execution_count": 3,
     "metadata": {},
     "output_type": "execute_result"
    }
   ],
   "source": [
    "pizzas[0] == \"Cheese\""
   ]
  },
  {
   "cell_type": "code",
   "execution_count": 4,
   "metadata": {
    "execution": {
     "iopub.execute_input": "2025-02-10T17:09:17.171721Z",
     "iopub.status.busy": "2025-02-10T17:09:17.171335Z",
     "iopub.status.idle": "2025-02-10T17:09:17.174669Z",
     "shell.execute_reply": "2025-02-10T17:09:17.174199Z"
    }
   },
   "outputs": [
    {
     "data": {
      "text/plain": [
       "True"
      ]
     },
     "execution_count": 4,
     "metadata": {},
     "output_type": "execute_result"
    }
   ],
   "source": [
    "pizzas[1] == \"Cheese\""
   ]
  },
  {
   "cell_type": "markdown",
   "metadata": {},
   "source": [
    "`False` and `True` are variables. They\n",
    "correspond to the possible values a boolean variable can have.\n",
    "\n",
    "The result of a comparison is `True` or `False`, and we can perform comparisons\n",
    "using several operators, like `==` for equality, `!=` for inequality, `>` and\n",
    "`<` for relative magnitude, and so on."
   ]
  },
  {
   "cell_type": "code",
   "execution_count": 5,
   "metadata": {
    "execution": {
     "iopub.execute_input": "2025-02-10T17:09:17.176527Z",
     "iopub.status.busy": "2025-02-10T17:09:17.176226Z",
     "iopub.status.idle": "2025-02-10T17:09:17.179457Z",
     "shell.execute_reply": "2025-02-10T17:09:17.178976Z"
    }
   },
   "outputs": [
    {
     "data": {
      "text/plain": [
       "False"
      ]
     },
     "execution_count": 5,
     "metadata": {},
     "output_type": "execute_result"
    }
   ],
   "source": [
    "True is False"
   ]
  },
  {
   "cell_type": "code",
   "execution_count": 6,
   "metadata": {
    "execution": {
     "iopub.execute_input": "2025-02-10T17:09:17.181053Z",
     "iopub.status.busy": "2025-02-10T17:09:17.180915Z",
     "iopub.status.idle": "2025-02-10T17:09:17.184136Z",
     "shell.execute_reply": "2025-02-10T17:09:17.183719Z"
    }
   },
   "outputs": [
    {
     "data": {
      "text/plain": [
       "True"
      ]
     },
     "execution_count": 6,
     "metadata": {},
     "output_type": "execute_result"
    }
   ],
   "source": [
    "True is not False"
   ]
  },
  {
   "cell_type": "code",
   "execution_count": 7,
   "metadata": {
    "execution": {
     "iopub.execute_input": "2025-02-10T17:09:17.185731Z",
     "iopub.status.busy": "2025-02-10T17:09:17.185594Z",
     "iopub.status.idle": "2025-02-10T17:09:17.188720Z",
     "shell.execute_reply": "2025-02-10T17:09:17.188227Z"
    }
   },
   "outputs": [
    {
     "data": {
      "text/plain": [
       "False"
      ]
     },
     "execution_count": 7,
     "metadata": {},
     "output_type": "execute_result"
    }
   ],
   "source": [
    "1 > 2"
   ]
  },
  {
   "cell_type": "code",
   "execution_count": 8,
   "metadata": {
    "execution": {
     "iopub.execute_input": "2025-02-10T17:09:17.190531Z",
     "iopub.status.busy": "2025-02-10T17:09:17.190354Z",
     "iopub.status.idle": "2025-02-10T17:09:17.193602Z",
     "shell.execute_reply": "2025-02-10T17:09:17.193136Z"
    }
   },
   "outputs": [
    {
     "data": {
      "text/plain": [
       "True"
      ]
     },
     "execution_count": 8,
     "metadata": {},
     "output_type": "execute_result"
    }
   ],
   "source": [
    "(1 > 2) is False"
   ]
  },
  {
   "cell_type": "markdown",
   "metadata": {},
   "source": [
    "This shows that we can combine comparison operators, just like with `+` and\n",
    "friends. We can also use `and` to require multiple conditions, `or` to require\n",
    "at least one, and `not` to negate a result.\n"
   ]
  },
  {
   "cell_type": "code",
   "execution_count": 9,
   "metadata": {
    "execution": {
     "iopub.execute_input": "2025-02-10T17:09:17.195637Z",
     "iopub.status.busy": "2025-02-10T17:09:17.195259Z",
     "iopub.status.idle": "2025-02-10T17:09:17.197668Z",
     "shell.execute_reply": "2025-02-10T17:09:17.197192Z"
    }
   },
   "outputs": [],
   "source": [
    "x = 2"
   ]
  },
  {
   "cell_type": "code",
   "execution_count": 10,
   "metadata": {
    "execution": {
     "iopub.execute_input": "2025-02-10T17:09:17.199345Z",
     "iopub.status.busy": "2025-02-10T17:09:17.199189Z",
     "iopub.status.idle": "2025-02-10T17:09:17.202500Z",
     "shell.execute_reply": "2025-02-10T17:09:17.202106Z"
    }
   },
   "outputs": [
    {
     "data": {
      "text/plain": [
       "True"
      ]
     },
     "execution_count": 10,
     "metadata": {},
     "output_type": "execute_result"
    }
   ],
   "source": [
    "1 < x and x < 3"
   ]
  },
  {
   "cell_type": "code",
   "execution_count": 11,
   "metadata": {
    "execution": {
     "iopub.execute_input": "2025-02-10T17:09:17.204298Z",
     "iopub.status.busy": "2025-02-10T17:09:17.203963Z",
     "iopub.status.idle": "2025-02-10T17:09:17.207049Z",
     "shell.execute_reply": "2025-02-10T17:09:17.206640Z"
    }
   },
   "outputs": [
    {
     "data": {
      "text/plain": [
       "True"
      ]
     },
     "execution_count": 11,
     "metadata": {},
     "output_type": "execute_result"
    }
   ],
   "source": [
    "3 < x or 1 < x"
   ]
  },
  {
   "cell_type": "code",
   "execution_count": 12,
   "metadata": {
    "execution": {
     "iopub.execute_input": "2025-02-10T17:09:17.208647Z",
     "iopub.status.busy": "2025-02-10T17:09:17.208510Z",
     "iopub.status.idle": "2025-02-10T17:09:17.211564Z",
     "shell.execute_reply": "2025-02-10T17:09:17.211131Z"
    }
   },
   "outputs": [
    {
     "data": {
      "text/plain": [
       "False"
      ]
     },
     "execution_count": 12,
     "metadata": {},
     "output_type": "execute_result"
    }
   ],
   "source": [
    "not 1 < x"
   ]
  },
  {
   "cell_type": "markdown",
   "metadata": {},
   "source": [
    "Note that `and`, `or` and `not` have lower precedence than `>`, `<` and `==`, but\n",
    "you can (and in general should) use parentheses to be more explicit.\n",
    "\n",
    "**Exercise**\n",
    "\n",
    "Play around with the booleans and try to answer the following! Can you do\n",
    " - double negotiations\n",
    " - convert a boolean to an integer\n",
    " - use parentheses to create a more complicated expression"
   ]
  },
  {
   "cell_type": "markdown",
   "metadata": {},
   "source": [
    "Of course, we can compare everything we have played around with so far."
   ]
  },
  {
   "cell_type": "code",
   "execution_count": 13,
   "metadata": {
    "execution": {
     "iopub.execute_input": "2025-02-10T17:09:17.213278Z",
     "iopub.status.busy": "2025-02-10T17:09:17.213125Z",
     "iopub.status.idle": "2025-02-10T17:09:17.215516Z",
     "shell.execute_reply": "2025-02-10T17:09:17.215129Z"
    }
   },
   "outputs": [],
   "source": [
    "x = [1, 2]\n",
    "y = [1, 2]\n",
    "z = {\"hero\": \"thor\"}"
   ]
  },
  {
   "cell_type": "code",
   "execution_count": 14,
   "metadata": {
    "execution": {
     "iopub.execute_input": "2025-02-10T17:09:17.217322Z",
     "iopub.status.busy": "2025-02-10T17:09:17.217008Z",
     "iopub.status.idle": "2025-02-10T17:09:17.220235Z",
     "shell.execute_reply": "2025-02-10T17:09:17.219746Z"
    }
   },
   "outputs": [
    {
     "data": {
      "text/plain": [
       "True"
      ]
     },
     "execution_count": 14,
     "metadata": {},
     "output_type": "execute_result"
    }
   ],
   "source": [
    "x == y"
   ]
  },
  {
   "cell_type": "code",
   "execution_count": 15,
   "metadata": {
    "execution": {
     "iopub.execute_input": "2025-02-10T17:09:17.221906Z",
     "iopub.status.busy": "2025-02-10T17:09:17.221754Z",
     "iopub.status.idle": "2025-02-10T17:09:17.224879Z",
     "shell.execute_reply": "2025-02-10T17:09:17.224395Z"
    }
   },
   "outputs": [
    {
     "data": {
      "text/plain": [
       "False"
      ]
     },
     "execution_count": 15,
     "metadata": {},
     "output_type": "execute_result"
    }
   ],
   "source": [
    "y == z"
   ]
  },
  {
   "cell_type": "markdown",
   "metadata": {},
   "source": [
    "For collection objects like lists, tuples, and dictionaries, we can easily ask\n",
    "them if they contain something in particular using the `in` operator."
   ]
  },
  {
   "cell_type": "code",
   "execution_count": 16,
   "metadata": {
    "execution": {
     "iopub.execute_input": "2025-02-10T17:09:17.226610Z",
     "iopub.status.busy": "2025-02-10T17:09:17.226470Z",
     "iopub.status.idle": "2025-02-10T17:09:17.229665Z",
     "shell.execute_reply": "2025-02-10T17:09:17.229190Z"
    }
   },
   "outputs": [
    {
     "data": {
      "text/plain": [
       "False"
      ]
     },
     "execution_count": 16,
     "metadata": {},
     "output_type": "execute_result"
    }
   ],
   "source": [
    "3 in x"
   ]
  },
  {
   "cell_type": "code",
   "execution_count": 17,
   "metadata": {
    "execution": {
     "iopub.execute_input": "2025-02-10T17:09:17.231490Z",
     "iopub.status.busy": "2025-02-10T17:09:17.231183Z",
     "iopub.status.idle": "2025-02-10T17:09:17.234226Z",
     "shell.execute_reply": "2025-02-10T17:09:17.233792Z"
    }
   },
   "outputs": [
    {
     "data": {
      "text/plain": [
       "True"
      ]
     },
     "execution_count": 17,
     "metadata": {},
     "output_type": "execute_result"
    }
   ],
   "source": [
    "2 in y"
   ]
  },
  {
   "cell_type": "code",
   "execution_count": 18,
   "metadata": {
    "execution": {
     "iopub.execute_input": "2025-02-10T17:09:17.235900Z",
     "iopub.status.busy": "2025-02-10T17:09:17.235757Z",
     "iopub.status.idle": "2025-02-10T17:09:17.238868Z",
     "shell.execute_reply": "2025-02-10T17:09:17.238401Z"
    }
   },
   "outputs": [
    {
     "data": {
      "text/plain": [
       "False"
      ]
     },
     "execution_count": 18,
     "metadata": {},
     "output_type": "execute_result"
    }
   ],
   "source": [
    "\"thor\" in z"
   ]
  },
  {
   "cell_type": "markdown",
   "metadata": {},
   "source": [
    "The last statement is `False` because `in` queries a dictionaries _keys_, not \n",
    "its values. This is useful if you want to access a key in a dictionary that \n",
    "might not exist:"
   ]
  },
  {
   "cell_type": "code",
   "execution_count": 19,
   "metadata": {
    "editable": true,
    "execution": {
     "iopub.execute_input": "2025-02-10T17:09:17.240612Z",
     "iopub.status.busy": "2025-02-10T17:09:17.240471Z",
     "iopub.status.idle": "2025-02-10T17:09:17.363921Z",
     "shell.execute_reply": "2025-02-10T17:09:17.363481Z"
    },
    "slideshow": {
     "slide_type": ""
    },
    "tags": [
     "raises-exception"
    ]
   },
   "outputs": [
    {
     "ename": "KeyError",
     "evalue": "'pizza'",
     "output_type": "error",
     "traceback": [
      "\u001b[0;31m---------------------------------------------------------------------------\u001b[0m",
      "\u001b[0;31mKeyError\u001b[0m                                  Traceback (most recent call last)",
      "Cell \u001b[0;32mIn[19], line 1\u001b[0m\n\u001b[0;32m----> 1\u001b[0m \u001b[43mz\u001b[49m\u001b[43m[\u001b[49m\u001b[38;5;124;43m\"\u001b[39;49m\u001b[38;5;124;43mpizza\u001b[39;49m\u001b[38;5;124;43m\"\u001b[39;49m\u001b[43m]\u001b[49m\n",
      "\u001b[0;31mKeyError\u001b[0m: 'pizza'"
     ]
    }
   ],
   "source": [
    "z[\"pizza\"]"
   ]
  },
  {
   "cell_type": "code",
   "execution_count": 20,
   "metadata": {
    "editable": true,
    "execution": {
     "iopub.execute_input": "2025-02-10T17:09:17.365852Z",
     "iopub.status.busy": "2025-02-10T17:09:17.365681Z",
     "iopub.status.idle": "2025-02-10T17:09:17.368775Z",
     "shell.execute_reply": "2025-02-10T17:09:17.368369Z"
    },
    "slideshow": {
     "slide_type": ""
    },
    "tags": []
   },
   "outputs": [
    {
     "name": "stdout",
     "output_type": "stream",
     "text": [
      "No pizza :(\n"
     ]
    }
   ],
   "source": [
    "if \"pizza\" in z:\n",
    "    print(\"We have pizza\", z[\"pizza\"])\n",
    "else:\n",
    "    print(\"No pizza :(\")"
   ]
  },
  {
   "cell_type": "markdown",
   "metadata": {
    "editable": true,
    "slideshow": {
     "slide_type": ""
    },
    "tags": []
   },
   "source": [
    "Note that `in` doesn’t dive into nested collections, but only looks at the top\n",
    "level."
   ]
  },
  {
   "cell_type": "code",
   "execution_count": 21,
   "metadata": {
    "editable": true,
    "execution": {
     "iopub.execute_input": "2025-02-10T17:09:17.370427Z",
     "iopub.status.busy": "2025-02-10T17:09:17.370275Z",
     "iopub.status.idle": "2025-02-10T17:09:17.373759Z",
     "shell.execute_reply": "2025-02-10T17:09:17.373360Z"
    },
    "slideshow": {
     "slide_type": ""
    },
    "tags": []
   },
   "outputs": [
    {
     "data": {
      "text/plain": [
       "False"
      ]
     },
     "execution_count": 21,
     "metadata": {},
     "output_type": "execute_result"
    }
   ],
   "source": [
    "1 in [[1, 2], [3, 4]]  # the elements are two lists"
   ]
  },
  {
   "cell_type": "code",
   "execution_count": 22,
   "metadata": {
    "editable": true,
    "execution": {
     "iopub.execute_input": "2025-02-10T17:09:17.375373Z",
     "iopub.status.busy": "2025-02-10T17:09:17.375223Z",
     "iopub.status.idle": "2025-02-10T17:09:17.378584Z",
     "shell.execute_reply": "2025-02-10T17:09:17.378186Z"
    },
    "slideshow": {
     "slide_type": ""
    },
    "tags": []
   },
   "outputs": [
    {
     "data": {
      "text/plain": [
       "True"
      ]
     },
     "execution_count": 22,
     "metadata": {},
     "output_type": "execute_result"
    }
   ],
   "source": [
    "[1, 2] in [[1, 2], [3, 4]]"
   ]
  },
  {
   "cell_type": "markdown",
   "metadata": {
    "editable": true,
    "slideshow": {
     "slide_type": ""
    },
    "tags": []
   },
   "source": [
    "\n",
    "**Advanced (skip on first read)**\n",
    "\n",
    "Find the double-underscore method on lists and dictionaries that corresponds to\n",
    "the `in` operator, and check that it does the same thing as the operator.\n",
    "\n",
    "**Solutions**\n",
    "\n",
    "Taking lists as an example, the `dir` method can tell us what methods are\n",
    "available. The `__contains__` method sounds promising."
   ]
  },
  {
   "cell_type": "code",
   "execution_count": 23,
   "metadata": {
    "editable": true,
    "execution": {
     "iopub.execute_input": "2025-02-10T17:09:17.380242Z",
     "iopub.status.busy": "2025-02-10T17:09:17.380103Z",
     "iopub.status.idle": "2025-02-10T17:09:17.382259Z",
     "shell.execute_reply": "2025-02-10T17:09:17.381849Z"
    },
    "slideshow": {
     "slide_type": ""
    },
    "tags": []
   },
   "outputs": [],
   "source": [
    "x = [1]"
   ]
  },
  {
   "cell_type": "code",
   "execution_count": 24,
   "metadata": {
    "editable": true,
    "execution": {
     "iopub.execute_input": "2025-02-10T17:09:17.383816Z",
     "iopub.status.busy": "2025-02-10T17:09:17.383680Z",
     "iopub.status.idle": "2025-02-10T17:09:17.386700Z",
     "shell.execute_reply": "2025-02-10T17:09:17.386294Z"
    },
    "slideshow": {
     "slide_type": ""
    },
    "tags": []
   },
   "outputs": [
    {
     "data": {
      "text/plain": [
       "True"
      ]
     },
     "execution_count": 24,
     "metadata": {},
     "output_type": "execute_result"
    }
   ],
   "source": [
    "x.__contains__(1)"
   ]
  },
  {
   "cell_type": "code",
   "execution_count": 25,
   "metadata": {
    "editable": true,
    "execution": {
     "iopub.execute_input": "2025-02-10T17:09:17.388546Z",
     "iopub.status.busy": "2025-02-10T17:09:17.388163Z",
     "iopub.status.idle": "2025-02-10T17:09:17.391428Z",
     "shell.execute_reply": "2025-02-10T17:09:17.390932Z"
    },
    "slideshow": {
     "slide_type": ""
    },
    "tags": []
   },
   "outputs": [
    {
     "data": {
      "text/plain": [
       "False"
      ]
     },
     "execution_count": 25,
     "metadata": {},
     "output_type": "execute_result"
    }
   ],
   "source": [
    "x.__contains__(2)"
   ]
  },
  {
   "cell_type": "markdown",
   "metadata": {
    "editable": true,
    "slideshow": {
     "slide_type": ""
    },
    "tags": []
   },
   "source": [
    "Strings work a lot like lists, which makes sense because they are effectively\n",
    "collections of single characters. This means we can also query string contents\n",
    "with `in`."
   ]
  },
  {
   "cell_type": "code",
   "execution_count": 26,
   "metadata": {
    "editable": true,
    "execution": {
     "iopub.execute_input": "2025-02-10T17:09:17.393274Z",
     "iopub.status.busy": "2025-02-10T17:09:17.392958Z",
     "iopub.status.idle": "2025-02-10T17:09:17.395357Z",
     "shell.execute_reply": "2025-02-10T17:09:17.394852Z"
    },
    "slideshow": {
     "slide_type": ""
    },
    "tags": []
   },
   "outputs": [],
   "source": [
    "fact = \"The best hero is Thor.\""
   ]
  },
  {
   "cell_type": "code",
   "execution_count": 27,
   "metadata": {
    "editable": true,
    "execution": {
     "iopub.execute_input": "2025-02-10T17:09:17.397121Z",
     "iopub.status.busy": "2025-02-10T17:09:17.396936Z",
     "iopub.status.idle": "2025-02-10T17:09:17.400227Z",
     "shell.execute_reply": "2025-02-10T17:09:17.399782Z"
    },
    "slideshow": {
     "slide_type": ""
    },
    "tags": []
   },
   "outputs": [
    {
     "data": {
      "text/plain": [
       "True"
      ]
     },
     "execution_count": 27,
     "metadata": {},
     "output_type": "execute_result"
    }
   ],
   "source": [
    "\"Thor\" in fact"
   ]
  },
  {
   "cell_type": "code",
   "execution_count": 28,
   "metadata": {
    "editable": true,
    "execution": {
     "iopub.execute_input": "2025-02-10T17:09:17.402044Z",
     "iopub.status.busy": "2025-02-10T17:09:17.401655Z",
     "iopub.status.idle": "2025-02-10T17:09:17.404931Z",
     "shell.execute_reply": "2025-02-10T17:09:17.404448Z"
    },
    "slideshow": {
     "slide_type": ""
    },
    "tags": []
   },
   "outputs": [
    {
     "data": {
      "text/plain": [
       "False"
      ]
     },
     "execution_count": 28,
     "metadata": {},
     "output_type": "execute_result"
    }
   ],
   "source": [
    "\"Iron Man\" in fact"
   ]
  },
  {
   "cell_type": "markdown",
   "metadata": {
    "editable": true,
    "slideshow": {
     "slide_type": ""
    },
    "tags": []
   },
   "source": [
    "## Truthiness\n",
    "\n",
    "It’s conventional not to explicitly compare a condition to `True`, because the\n",
    "`if` statement already does that for us."
   ]
  },
  {
   "cell_type": "code",
   "execution_count": 29,
   "metadata": {
    "editable": true,
    "execution": {
     "iopub.execute_input": "2025-02-10T17:09:17.406626Z",
     "iopub.status.busy": "2025-02-10T17:09:17.406483Z",
     "iopub.status.idle": "2025-02-10T17:09:17.409310Z",
     "shell.execute_reply": "2025-02-10T17:09:17.408799Z"
    },
    "slideshow": {
     "slide_type": ""
    },
    "tags": []
   },
   "outputs": [
    {
     "name": "stdout",
     "output_type": "stream",
     "text": [
      "Weird.\n"
     ]
    }
   ],
   "source": [
    "if (\"Pineapple\" in pizzas) is True:\n",
    "    print(\"Weird.\")"
   ]
  },
  {
   "cell_type": "code",
   "execution_count": 30,
   "metadata": {
    "editable": true,
    "execution": {
     "iopub.execute_input": "2025-02-10T17:09:17.411012Z",
     "iopub.status.busy": "2025-02-10T17:09:17.410855Z",
     "iopub.status.idle": "2025-02-10T17:09:17.413644Z",
     "shell.execute_reply": "2025-02-10T17:09:17.413235Z"
    },
    "slideshow": {
     "slide_type": ""
    },
    "tags": []
   },
   "outputs": [
    {
     "name": "stdout",
     "output_type": "stream",
     "text": [
      "Not weird.\n"
     ]
    }
   ],
   "source": [
    "if \"Pineapple\" in pizzas:\n",
    "    print(\"Not weird.\")"
   ]
  },
  {
   "cell_type": "markdown",
   "metadata": {
    "editable": true,
    "slideshow": {
     "slide_type": ""
    },
    "tags": []
   },
   "source": [
    "Likewise, rather than comparing for False, we just use `not`."
   ]
  },
  {
   "cell_type": "code",
   "execution_count": 31,
   "metadata": {
    "editable": true,
    "execution": {
     "iopub.execute_input": "2025-02-10T17:09:17.415299Z",
     "iopub.status.busy": "2025-02-10T17:09:17.415158Z",
     "iopub.status.idle": "2025-02-10T17:09:17.417406Z",
     "shell.execute_reply": "2025-02-10T17:09:17.416999Z"
    },
    "slideshow": {
     "slide_type": ""
    },
    "tags": []
   },
   "outputs": [],
   "source": [
    "if (\"Pineapple\" in pizzas) is False:\n",
    "    print(\"Weird.\")"
   ]
  },
  {
   "cell_type": "code",
   "execution_count": 32,
   "metadata": {
    "editable": true,
    "execution": {
     "iopub.execute_input": "2025-02-10T17:09:17.419143Z",
     "iopub.status.busy": "2025-02-10T17:09:17.418966Z",
     "iopub.status.idle": "2025-02-10T17:09:17.421232Z",
     "shell.execute_reply": "2025-02-10T17:09:17.420826Z"
    },
    "slideshow": {
     "slide_type": ""
    },
    "tags": []
   },
   "outputs": [],
   "source": [
    "if \"Pineapple\" not in pizzas:\n",
    "    print(\"Not weird.\")"
   ]
  },
  {
   "cell_type": "code",
   "execution_count": 33,
   "metadata": {
    "editable": true,
    "execution": {
     "iopub.execute_input": "2025-02-10T17:09:17.422849Z",
     "iopub.status.busy": "2025-02-10T17:09:17.422698Z",
     "iopub.status.idle": "2025-02-10T17:09:17.425792Z",
     "shell.execute_reply": "2025-02-10T17:09:17.425375Z"
    },
    "slideshow": {
     "slide_type": ""
    },
    "tags": []
   },
   "outputs": [
    {
     "data": {
      "text/plain": [
       "False"
      ]
     },
     "execution_count": 33,
     "metadata": {},
     "output_type": "execute_result"
    }
   ],
   "source": [
    "\"Pineapple\" not in pizzas  # not ('Pineapple' in pizzas)"
   ]
  },
  {
   "cell_type": "code",
   "execution_count": 34,
   "metadata": {
    "editable": true,
    "execution": {
     "iopub.execute_input": "2025-02-10T17:09:17.427403Z",
     "iopub.status.busy": "2025-02-10T17:09:17.427262Z",
     "iopub.status.idle": "2025-02-10T17:09:17.430408Z",
     "shell.execute_reply": "2025-02-10T17:09:17.429908Z"
    },
    "slideshow": {
     "slide_type": ""
    },
    "tags": []
   },
   "outputs": [
    {
     "data": {
      "text/plain": [
       "False"
      ]
     },
     "execution_count": 34,
     "metadata": {},
     "output_type": "execute_result"
    }
   ],
   "source": [
    "\"Pineapple\" not in pizzas"
   ]
  },
  {
   "cell_type": "markdown",
   "metadata": {
    "editable": true,
    "slideshow": {
     "slide_type": ""
    },
    "tags": []
   },
   "source": [
    "The last two lines show that we can use `not in` for checking that something\n",
    "_is not_ in a collection. This reads more naturally."
   ]
  },
  {
   "cell_type": "markdown",
   "metadata": {
    "editable": true,
    "slideshow": {
     "slide_type": ""
    },
    "tags": []
   },
   "source": [
    "All Python objects are truth-like unless they are the value `False`, the value\n",
    "`None`, or are empty collections (such as `\"\"`, `[]`, `()`, `{}`)."
   ]
  },
  {
   "cell_type": "code",
   "execution_count": 35,
   "metadata": {
    "editable": true,
    "execution": {
     "iopub.execute_input": "2025-02-10T17:09:17.432095Z",
     "iopub.status.busy": "2025-02-10T17:09:17.431919Z",
     "iopub.status.idle": "2025-02-10T17:09:17.434501Z",
     "shell.execute_reply": "2025-02-10T17:09:17.434099Z"
    },
    "slideshow": {
     "slide_type": ""
    },
    "tags": []
   },
   "outputs": [],
   "source": [
    "if list() or dict() or tuple() or \"\":\n",
    "    print(\"You won’t see me!\")"
   ]
  },
  {
   "cell_type": "markdown",
   "metadata": {
    "editable": true,
    "slideshow": {
     "slide_type": ""
    },
    "tags": []
   },
   "source": [
    "The value `None`, which is available as the variable named `None`, is often\n",
    "used as placeholder for an empty value."
   ]
  },
  {
   "cell_type": "code",
   "execution_count": 36,
   "metadata": {
    "editable": true,
    "execution": {
     "iopub.execute_input": "2025-02-10T17:09:17.436283Z",
     "iopub.status.busy": "2025-02-10T17:09:17.436138Z",
     "iopub.status.idle": "2025-02-10T17:09:17.438484Z",
     "shell.execute_reply": "2025-02-10T17:09:17.438087Z"
    },
    "slideshow": {
     "slide_type": ""
    },
    "tags": []
   },
   "outputs": [],
   "source": [
    "favourite = None\n",
    "for p in pizzas:\n",
    "    if \"Olives\" in p:\n",
    "        favourite = p"
   ]
  },
  {
   "cell_type": "code",
   "execution_count": 37,
   "metadata": {
    "editable": true,
    "execution": {
     "iopub.execute_input": "2025-02-10T17:09:17.440239Z",
     "iopub.status.busy": "2025-02-10T17:09:17.439935Z",
     "iopub.status.idle": "2025-02-10T17:09:17.442757Z",
     "shell.execute_reply": "2025-02-10T17:09:17.442284Z"
    },
    "slideshow": {
     "slide_type": ""
    },
    "tags": []
   },
   "outputs": [
    {
     "name": "stdout",
     "output_type": "stream",
     "text": [
      "No favourite :(\n"
     ]
    }
   ],
   "source": [
    "if favourite:\n",
    "    print(f\"Found favourite: {favourite}\")\n",
    "else:\n",
    "    print(\"No favourite :(\")"
   ]
  },
  {
   "cell_type": "markdown",
   "metadata": {
    "editable": true,
    "slideshow": {
     "slide_type": ""
    },
    "tags": []
   },
   "source": [
    "It behaves as false-y value in conditions."
   ]
  },
  {
   "cell_type": "markdown",
   "metadata": {
    "editable": true,
    "slideshow": {
     "slide_type": ""
    },
    "tags": []
   },
   "source": [
    "## Conditions in loops\n",
    "\n",
    "`for` loops and comprehensions are the most common ways of iterating in Python.\n",
    "We’ve already seen that using conditions in these can be useful."
   ]
  },
  {
   "cell_type": "code",
   "execution_count": 38,
   "metadata": {
    "editable": true,
    "execution": {
     "iopub.execute_input": "2025-02-10T17:09:17.444697Z",
     "iopub.status.busy": "2025-02-10T17:09:17.444314Z",
     "iopub.status.idle": "2025-02-10T17:09:17.447894Z",
     "shell.execute_reply": "2025-02-10T17:09:17.447403Z"
    },
    "slideshow": {
     "slide_type": ""
    },
    "tags": []
   },
   "outputs": [
    {
     "data": {
      "text/plain": [
       "['Pineapple', 'Pepperoni', 'Hot dog']"
      ]
     },
     "execution_count": 38,
     "metadata": {},
     "output_type": "execute_result"
    }
   ],
   "source": [
    "not_cheesy = [p for p in pizzas if \"cheese\" not in p.lower()]\n",
    "not_cheesy"
   ]
  },
  {
   "cell_type": "markdown",
   "metadata": {
    "editable": true,
    "slideshow": {
     "slide_type": ""
    },
    "tags": []
   },
   "source": [
    "Another way of iterating is with `while`."
   ]
  },
  {
   "cell_type": "code",
   "execution_count": 39,
   "metadata": {
    "editable": true,
    "execution": {
     "iopub.execute_input": "2025-02-10T17:09:17.449678Z",
     "iopub.status.busy": "2025-02-10T17:09:17.449383Z",
     "iopub.status.idle": "2025-02-10T17:09:17.452456Z",
     "shell.execute_reply": "2025-02-10T17:09:17.451940Z"
    },
    "slideshow": {
     "slide_type": ""
    },
    "tags": []
   },
   "outputs": [
    {
     "name": "stdout",
     "output_type": "stream",
     "text": [
      "T-minus 5 seconds\n",
      "T-minus 4 seconds\n",
      "T-minus 3 seconds\n",
      "T-minus 2 seconds\n",
      "T-minus 1 seconds\n",
      "Blast off!\n"
     ]
    }
   ],
   "source": [
    "i = 5\n",
    "while i > 0:\n",
    "    print(f\"T-minus {i} seconds\")\n",
    "    # Equivalent to `i = i - 1`\n",
    "    i -= 1\n",
    "print(\"Blast off!\")"
   ]
  },
  {
   "cell_type": "markdown",
   "metadata": {
    "editable": true,
    "slideshow": {
     "slide_type": ""
    },
    "tags": []
   },
   "source": [
    "The `while` loop checks the condition, runs the block, and then re-checks the\n",
    "condition. If we don’t do something in the loop to change the result of the\n",
    "condition, we will end up looping forever!\n",
    "\n",
    "You can uncomment and run the below, you may need to stop the kernel manually with the stop button."
   ]
  },
  {
   "cell_type": "code",
   "execution_count": 40,
   "metadata": {
    "editable": true,
    "execution": {
     "iopub.execute_input": "2025-02-10T17:09:17.454215Z",
     "iopub.status.busy": "2025-02-10T17:09:17.454034Z",
     "iopub.status.idle": "2025-02-10T17:09:17.456382Z",
     "shell.execute_reply": "2025-02-10T17:09:17.455871Z"
    },
    "slideshow": {
     "slide_type": ""
    },
    "tags": []
   },
   "outputs": [],
   "source": [
    "# i = 5\n",
    "# while i > 0:\n",
    "# print('All work and no play makes Jack a dull boy')"
   ]
  },
  {
   "cell_type": "markdown",
   "metadata": {
    "editable": true,
    "slideshow": {
     "slide_type": ""
    },
    "tags": []
   },
   "source": [
    "Because we do not change the value of `i` in the loop, the condition always\n",
    "evaluates to `True`, so we’re stuck. You can stop Python running the code by\n",
    "typing the `Ctrl-c` key combination."
   ]
  },
  {
   "cell_type": "markdown",
   "metadata": {
    "editable": true,
    "slideshow": {
     "slide_type": ""
    },
    "tags": []
   },
   "source": [
    "Sometimes you want to stop iterating when some condition is met. You could\n",
    "achieve this with a `while` loop."
   ]
  },
  {
   "cell_type": "code",
   "execution_count": 41,
   "metadata": {
    "editable": true,
    "execution": {
     "iopub.execute_input": "2025-02-10T17:09:17.458231Z",
     "iopub.status.busy": "2025-02-10T17:09:17.457935Z",
     "iopub.status.idle": "2025-02-10T17:09:17.460588Z",
     "shell.execute_reply": "2025-02-10T17:09:17.460104Z"
    },
    "slideshow": {
     "slide_type": ""
    },
    "tags": []
   },
   "outputs": [],
   "source": [
    "ok = False\n",
    "i = 0\n",
    "while not ok:\n",
    "    ok = \"cheese\" in pizzas[i].lower()\n",
    "    # Equivalent to `i = i + 1`\n",
    "    i += 1"
   ]
  },
  {
   "cell_type": "code",
   "execution_count": 42,
   "metadata": {
    "editable": true,
    "execution": {
     "iopub.execute_input": "2025-02-10T17:09:17.462421Z",
     "iopub.status.busy": "2025-02-10T17:09:17.462038Z",
     "iopub.status.idle": "2025-02-10T17:09:17.465375Z",
     "shell.execute_reply": "2025-02-10T17:09:17.464937Z"
    },
    "slideshow": {
     "slide_type": ""
    },
    "tags": []
   },
   "outputs": [
    {
     "data": {
      "text/plain": [
       "2"
      ]
     },
     "execution_count": 42,
     "metadata": {},
     "output_type": "execute_result"
    }
   ],
   "source": [
    "i"
   ]
  },
  {
   "cell_type": "code",
   "execution_count": 43,
   "metadata": {
    "editable": true,
    "execution": {
     "iopub.execute_input": "2025-02-10T17:09:17.467119Z",
     "iopub.status.busy": "2025-02-10T17:09:17.466803Z",
     "iopub.status.idle": "2025-02-10T17:09:17.470034Z",
     "shell.execute_reply": "2025-02-10T17:09:17.469544Z"
    },
    "slideshow": {
     "slide_type": ""
    },
    "tags": []
   },
   "outputs": [
    {
     "data": {
      "text/plain": [
       "'Cheese'"
      ]
     },
     "execution_count": 43,
     "metadata": {},
     "output_type": "execute_result"
    }
   ],
   "source": [
    "pizzas[i - 1]"
   ]
  },
  {
   "cell_type": "markdown",
   "metadata": {
    "editable": true,
    "slideshow": {
     "slide_type": ""
    },
    "tags": []
   },
   "source": [
    "It is not nice to have to keep track of these `ok` and `i` variables. Instead,\n",
    "we can use a `for` loop, which feels much more natural when iterating over a\n",
    "collection, and `break` to stop looping (we can also use a break with a `while` loop)."
   ]
  },
  {
   "cell_type": "code",
   "execution_count": 44,
   "metadata": {
    "editable": true,
    "execution": {
     "iopub.execute_input": "2025-02-10T17:09:17.471750Z",
     "iopub.status.busy": "2025-02-10T17:09:17.471614Z",
     "iopub.status.idle": "2025-02-10T17:09:17.473954Z",
     "shell.execute_reply": "2025-02-10T17:09:17.473584Z"
    },
    "slideshow": {
     "slide_type": ""
    },
    "tags": []
   },
   "outputs": [],
   "source": [
    "for pizza in pizzas:\n",
    "    if \"cheese\" in pizza.lower():\n",
    "        yum = pizza\n",
    "        break"
   ]
  },
  {
   "cell_type": "code",
   "execution_count": 45,
   "metadata": {
    "editable": true,
    "execution": {
     "iopub.execute_input": "2025-02-10T17:09:17.475578Z",
     "iopub.status.busy": "2025-02-10T17:09:17.475439Z",
     "iopub.status.idle": "2025-02-10T17:09:17.478545Z",
     "shell.execute_reply": "2025-02-10T17:09:17.478037Z"
    },
    "slideshow": {
     "slide_type": ""
    },
    "tags": []
   },
   "outputs": [
    {
     "data": {
      "text/plain": [
       "'Cheese'"
      ]
     },
     "execution_count": 45,
     "metadata": {},
     "output_type": "execute_result"
    }
   ],
   "source": [
    "yum"
   ]
  },
  {
   "cell_type": "code",
   "execution_count": null,
   "metadata": {
    "editable": true,
    "slideshow": {
     "slide_type": ""
    },
    "tags": []
   },
   "outputs": [],
   "source": []
  },
  {
   "cell_type": "code",
   "execution_count": null,
   "metadata": {
    "editable": true,
    "slideshow": {
     "slide_type": ""
    },
    "tags": []
   },
   "outputs": [],
   "source": []
  }
 ],
 "metadata": {
  "language_info": {
   "codemirror_mode": {
    "name": "ipython",
    "version": 3
   },
   "file_extension": ".py",
   "mimetype": "text/x-python",
   "name": "python",
   "nbconvert_exporter": "python",
   "pygments_lexer": "ipython3",
   "version": "3.11.11"
  }
 },
 "nbformat": 4,
 "nbformat_minor": 4
}
