{
 "cells": [
  {
   "cell_type": "markdown",
   "metadata": {},
   "source": [
    "# Conditions\n",
    "\n",
    "Sometimes, often while looping, you only want to do things depending on\n",
    "something’s value. Specifying _conditions_ like this is pretty simple in Python.\n"
   ]
  },
  {
   "cell_type": "code",
   "execution_count": 1,
   "metadata": {
    "execution": {
     "iopub.execute_input": "2025-02-10T16:39:02.552520Z",
     "iopub.status.busy": "2025-02-10T16:39:02.552360Z",
     "iopub.status.idle": "2025-02-10T16:39:02.558024Z",
     "shell.execute_reply": "2025-02-10T16:39:02.557638Z"
    }
   },
   "outputs": [
    {
     "name": "stdout",
     "output_type": "stream",
     "text": [
      "Weird pizza.\n",
      "Nice pizza!\n",
      "Amazing pizza!\n",
      "Weird pizza.\n"
     ]
    }
   ],
   "source": [
    "pizzas = [\"Pineapple\", \"Cheese\", \"Pepperoni\", \"Hot dog\"]\n",
    "for p in pizzas:\n",
    "    if p == \"Cheese\":\n",
    "        print(\"Nice pizza!\")\n",
    "    elif p == \"Pepperoni\":\n",
    "        print(\"Amazing pizza!\")\n",
    "    else:\n",
    "        print(\"Weird pizza.\")"
   ]
  },
  {
   "cell_type": "markdown",
   "metadata": {},
   "source": [
    "Like the \"body\" of the `for` loop, called a _block_, the block in the `if`,\n",
    "`elif`, and `else` statements must be indented. The convention we adopt is to\n",
    "use four spaces for indentation.\n",
    "\n",
    "The `if` statement starts with `if` (duh!) and what follows is a _condition_.\n",
    "If this condition isn’t met, the next `elif` (for \"else-if\") condition is\n",
    "evaluated. If this also isn’t met, the `else` block is run. You can use as many\n",
    "`elif` conditions as you like, or none at all, and the `else` block is optional.\n",
    "\n",
    "\n",
    "Python evaluates a condition and sees whether it is truth-like or not. If it is\n",
    "truth-like, the code in the block is run.\n",
    "\n"
   ]
  },
  {
   "cell_type": "code",
   "execution_count": 2,
   "metadata": {
    "execution": {
     "iopub.execute_input": "2025-02-10T16:39:02.559779Z",
     "iopub.status.busy": "2025-02-10T16:39:02.559634Z",
     "iopub.status.idle": "2025-02-10T16:39:02.562086Z",
     "shell.execute_reply": "2025-02-10T16:39:02.561684Z"
    }
   },
   "outputs": [],
   "source": [
    "if pizzas[0] == \"Cheese\":\n",
    "    print(\"It is cheese, my dudes.\")"
   ]
  },
  {
   "cell_type": "code",
   "execution_count": 3,
   "metadata": {
    "execution": {
     "iopub.execute_input": "2025-02-10T16:39:02.563702Z",
     "iopub.status.busy": "2025-02-10T16:39:02.563562Z",
     "iopub.status.idle": "2025-02-10T16:39:02.568526Z",
     "shell.execute_reply": "2025-02-10T16:39:02.568053Z"
    }
   },
   "outputs": [
    {
     "data": {
      "text/plain": [
       "False"
      ]
     },
     "execution_count": 3,
     "metadata": {},
     "output_type": "execute_result"
    }
   ],
   "source": [
    "pizzas[0] == \"Cheese\""
   ]
  },
  {
   "cell_type": "code",
   "execution_count": 4,
   "metadata": {
    "execution": {
     "iopub.execute_input": "2025-02-10T16:39:02.570431Z",
     "iopub.status.busy": "2025-02-10T16:39:02.570132Z",
     "iopub.status.idle": "2025-02-10T16:39:02.573295Z",
     "shell.execute_reply": "2025-02-10T16:39:02.572899Z"
    }
   },
   "outputs": [
    {
     "data": {
      "text/plain": [
       "True"
      ]
     },
     "execution_count": 4,
     "metadata": {},
     "output_type": "execute_result"
    }
   ],
   "source": [
    "pizzas[1] == \"Cheese\""
   ]
  },
  {
   "cell_type": "markdown",
   "metadata": {},
   "source": [
    "`False` and `True` are variables. They\n",
    "correspond to the possible values a boolean variable can have.\n",
    "\n",
    "The result of a comparison is `True` or `False`, and we can perform comparisons\n",
    "using several operators, like `==` for equality, `!=` for inequality, `>` and\n",
    "`<` for relative magnitude, and so on."
   ]
  },
  {
   "cell_type": "code",
   "execution_count": 5,
   "metadata": {
    "execution": {
     "iopub.execute_input": "2025-02-10T16:39:02.575211Z",
     "iopub.status.busy": "2025-02-10T16:39:02.574795Z",
     "iopub.status.idle": "2025-02-10T16:39:02.578312Z",
     "shell.execute_reply": "2025-02-10T16:39:02.577802Z"
    }
   },
   "outputs": [
    {
     "data": {
      "text/plain": [
       "False"
      ]
     },
     "execution_count": 5,
     "metadata": {},
     "output_type": "execute_result"
    }
   ],
   "source": [
    "True is False"
   ]
  },
  {
   "cell_type": "code",
   "execution_count": 6,
   "metadata": {
    "execution": {
     "iopub.execute_input": "2025-02-10T16:39:02.580196Z",
     "iopub.status.busy": "2025-02-10T16:39:02.579796Z",
     "iopub.status.idle": "2025-02-10T16:39:02.583141Z",
     "shell.execute_reply": "2025-02-10T16:39:02.582635Z"
    }
   },
   "outputs": [
    {
     "data": {
      "text/plain": [
       "True"
      ]
     },
     "execution_count": 6,
     "metadata": {},
     "output_type": "execute_result"
    }
   ],
   "source": [
    "True is not False"
   ]
  },
  {
   "cell_type": "code",
   "execution_count": 7,
   "metadata": {
    "execution": {
     "iopub.execute_input": "2025-02-10T16:39:02.584742Z",
     "iopub.status.busy": "2025-02-10T16:39:02.584594Z",
     "iopub.status.idle": "2025-02-10T16:39:02.587712Z",
     "shell.execute_reply": "2025-02-10T16:39:02.587227Z"
    }
   },
   "outputs": [
    {
     "data": {
      "text/plain": [
       "False"
      ]
     },
     "execution_count": 7,
     "metadata": {},
     "output_type": "execute_result"
    }
   ],
   "source": [
    "1 > 2"
   ]
  },
  {
   "cell_type": "code",
   "execution_count": 8,
   "metadata": {
    "execution": {
     "iopub.execute_input": "2025-02-10T16:39:02.589558Z",
     "iopub.status.busy": "2025-02-10T16:39:02.589402Z",
     "iopub.status.idle": "2025-02-10T16:39:02.592609Z",
     "shell.execute_reply": "2025-02-10T16:39:02.592119Z"
    }
   },
   "outputs": [
    {
     "data": {
      "text/plain": [
       "True"
      ]
     },
     "execution_count": 8,
     "metadata": {},
     "output_type": "execute_result"
    }
   ],
   "source": [
    "(1 > 2) is False"
   ]
  },
  {
   "cell_type": "markdown",
   "metadata": {},
   "source": [
    "This shows that we can combine comparison operators, just like with `+` and\n",
    "friends. We can also use `and` to require multiple conditions, `or` to require\n",
    "at least one, and `not` to negate a result.\n"
   ]
  },
  {
   "cell_type": "code",
   "execution_count": 9,
   "metadata": {
    "execution": {
     "iopub.execute_input": "2025-02-10T16:39:02.594347Z",
     "iopub.status.busy": "2025-02-10T16:39:02.594203Z",
     "iopub.status.idle": "2025-02-10T16:39:02.596237Z",
     "shell.execute_reply": "2025-02-10T16:39:02.595840Z"
    }
   },
   "outputs": [],
   "source": [
    "x = 2"
   ]
  },
  {
   "cell_type": "code",
   "execution_count": 10,
   "metadata": {
    "execution": {
     "iopub.execute_input": "2025-02-10T16:39:02.597979Z",
     "iopub.status.busy": "2025-02-10T16:39:02.597688Z",
     "iopub.status.idle": "2025-02-10T16:39:02.600870Z",
     "shell.execute_reply": "2025-02-10T16:39:02.600405Z"
    }
   },
   "outputs": [
    {
     "data": {
      "text/plain": [
       "True"
      ]
     },
     "execution_count": 10,
     "metadata": {},
     "output_type": "execute_result"
    }
   ],
   "source": [
    "1 < x and x < 3"
   ]
  },
  {
   "cell_type": "code",
   "execution_count": 11,
   "metadata": {
    "execution": {
     "iopub.execute_input": "2025-02-10T16:39:02.602621Z",
     "iopub.status.busy": "2025-02-10T16:39:02.602324Z",
     "iopub.status.idle": "2025-02-10T16:39:02.605486Z",
     "shell.execute_reply": "2025-02-10T16:39:02.605012Z"
    }
   },
   "outputs": [
    {
     "data": {
      "text/plain": [
       "True"
      ]
     },
     "execution_count": 11,
     "metadata": {},
     "output_type": "execute_result"
    }
   ],
   "source": [
    "3 < x or 1 < x"
   ]
  },
  {
   "cell_type": "code",
   "execution_count": 12,
   "metadata": {
    "execution": {
     "iopub.execute_input": "2025-02-10T16:39:02.607499Z",
     "iopub.status.busy": "2025-02-10T16:39:02.607091Z",
     "iopub.status.idle": "2025-02-10T16:39:02.610568Z",
     "shell.execute_reply": "2025-02-10T16:39:02.610182Z"
    }
   },
   "outputs": [
    {
     "data": {
      "text/plain": [
       "False"
      ]
     },
     "execution_count": 12,
     "metadata": {},
     "output_type": "execute_result"
    }
   ],
   "source": [
    "not 1 < x"
   ]
  },
  {
   "cell_type": "markdown",
   "metadata": {},
   "source": [
    "Note that `and`, `or` and `not` have lower precedence than `>`, `<` and `==`, but\n",
    "you can (and in general should) use parentheses to be more explicit.\n",
    "\n",
    "**Exercise**\n",
    "\n",
    "Play around with the booleans and try to answer the following! Can you do\n",
    " - double negotiations\n",
    " - convert a boolean to an integer\n",
    " - use parentheses to create a more complicated expression"
   ]
  },
  {
   "cell_type": "markdown",
   "metadata": {},
   "source": [
    "Of course, we can compare everything we have played around with so far."
   ]
  },
  {
   "cell_type": "code",
   "execution_count": 13,
   "metadata": {
    "execution": {
     "iopub.execute_input": "2025-02-10T16:39:02.612358Z",
     "iopub.status.busy": "2025-02-10T16:39:02.612056Z",
     "iopub.status.idle": "2025-02-10T16:39:02.614541Z",
     "shell.execute_reply": "2025-02-10T16:39:02.614068Z"
    }
   },
   "outputs": [],
   "source": [
    "x = [1, 2]\n",
    "y = [1, 2]\n",
    "z = {\"hero\": \"thor\"}"
   ]
  },
  {
   "cell_type": "code",
   "execution_count": 14,
   "metadata": {
    "execution": {
     "iopub.execute_input": "2025-02-10T16:39:02.616373Z",
     "iopub.status.busy": "2025-02-10T16:39:02.615958Z",
     "iopub.status.idle": "2025-02-10T16:39:02.619211Z",
     "shell.execute_reply": "2025-02-10T16:39:02.618699Z"
    }
   },
   "outputs": [
    {
     "data": {
      "text/plain": [
       "True"
      ]
     },
     "execution_count": 14,
     "metadata": {},
     "output_type": "execute_result"
    }
   ],
   "source": [
    "x == y"
   ]
  },
  {
   "cell_type": "code",
   "execution_count": 15,
   "metadata": {
    "execution": {
     "iopub.execute_input": "2025-02-10T16:39:02.621130Z",
     "iopub.status.busy": "2025-02-10T16:39:02.620808Z",
     "iopub.status.idle": "2025-02-10T16:39:02.624055Z",
     "shell.execute_reply": "2025-02-10T16:39:02.623561Z"
    }
   },
   "outputs": [
    {
     "data": {
      "text/plain": [
       "False"
      ]
     },
     "execution_count": 15,
     "metadata": {},
     "output_type": "execute_result"
    }
   ],
   "source": [
    "y == z"
   ]
  },
  {
   "cell_type": "markdown",
   "metadata": {},
   "source": [
    "For collection objects like lists, tuples, and dictionaries, we can easily ask\n",
    "them if they contain something in particular using the `in` operator."
   ]
  },
  {
   "cell_type": "code",
   "execution_count": 16,
   "metadata": {
    "execution": {
     "iopub.execute_input": "2025-02-10T16:39:02.626087Z",
     "iopub.status.busy": "2025-02-10T16:39:02.625684Z",
     "iopub.status.idle": "2025-02-10T16:39:02.629166Z",
     "shell.execute_reply": "2025-02-10T16:39:02.628662Z"
    }
   },
   "outputs": [
    {
     "data": {
      "text/plain": [
       "False"
      ]
     },
     "execution_count": 16,
     "metadata": {},
     "output_type": "execute_result"
    }
   ],
   "source": [
    "3 in x"
   ]
  },
  {
   "cell_type": "code",
   "execution_count": 17,
   "metadata": {
    "execution": {
     "iopub.execute_input": "2025-02-10T16:39:02.630802Z",
     "iopub.status.busy": "2025-02-10T16:39:02.630661Z",
     "iopub.status.idle": "2025-02-10T16:39:02.633749Z",
     "shell.execute_reply": "2025-02-10T16:39:02.633253Z"
    }
   },
   "outputs": [
    {
     "data": {
      "text/plain": [
       "True"
      ]
     },
     "execution_count": 17,
     "metadata": {},
     "output_type": "execute_result"
    }
   ],
   "source": [
    "2 in y"
   ]
  },
  {
   "cell_type": "code",
   "execution_count": 18,
   "metadata": {
    "execution": {
     "iopub.execute_input": "2025-02-10T16:39:02.635821Z",
     "iopub.status.busy": "2025-02-10T16:39:02.635351Z",
     "iopub.status.idle": "2025-02-10T16:39:02.638857Z",
     "shell.execute_reply": "2025-02-10T16:39:02.638378Z"
    }
   },
   "outputs": [
    {
     "data": {
      "text/plain": [
       "False"
      ]
     },
     "execution_count": 18,
     "metadata": {},
     "output_type": "execute_result"
    }
   ],
   "source": [
    "\"thor\" in z"
   ]
  },
  {
   "cell_type": "markdown",
   "metadata": {},
   "source": [
    "The last statement is `False` because `in` queries a dictionaries _keys_, not \n",
    "its values. This is useful if you want to access a key in a dictionary that \n",
    "might not exist:"
   ]
  },
  {
   "cell_type": "code",
   "execution_count": 19,
   "metadata": {
    "editable": true,
    "execution": {
     "iopub.execute_input": "2025-02-10T16:39:02.640754Z",
     "iopub.status.busy": "2025-02-10T16:39:02.640381Z",
     "iopub.status.idle": "2025-02-10T16:39:02.762950Z",
     "shell.execute_reply": "2025-02-10T16:39:02.762452Z"
    },
    "slideshow": {
     "slide_type": ""
    },
    "tags": [
     "raises-exception"
    ]
   },
   "outputs": [
    {
     "ename": "KeyError",
     "evalue": "'pizza'",
     "output_type": "error",
     "traceback": [
      "\u001b[0;31m---------------------------------------------------------------------------\u001b[0m",
      "\u001b[0;31mKeyError\u001b[0m                                  Traceback (most recent call last)",
      "Cell \u001b[0;32mIn[19], line 1\u001b[0m\n\u001b[0;32m----> 1\u001b[0m \u001b[43mz\u001b[49m\u001b[43m[\u001b[49m\u001b[38;5;124;43m\"\u001b[39;49m\u001b[38;5;124;43mpizza\u001b[39;49m\u001b[38;5;124;43m\"\u001b[39;49m\u001b[43m]\u001b[49m\n",
      "\u001b[0;31mKeyError\u001b[0m: 'pizza'"
     ]
    }
   ],
   "source": [
    "z[\"pizza\"]"
   ]
  },
  {
   "cell_type": "code",
   "execution_count": 20,
   "metadata": {
    "editable": true,
    "execution": {
     "iopub.execute_input": "2025-02-10T16:39:02.765129Z",
     "iopub.status.busy": "2025-02-10T16:39:02.764796Z",
     "iopub.status.idle": "2025-02-10T16:39:02.767891Z",
     "shell.execute_reply": "2025-02-10T16:39:02.767477Z"
    },
    "slideshow": {
     "slide_type": ""
    },
    "tags": []
   },
   "outputs": [
    {
     "name": "stdout",
     "output_type": "stream",
     "text": [
      "No pizza :(\n"
     ]
    }
   ],
   "source": [
    "if \"pizza\" in z:\n",
    "    print(\"We have pizza\", z[\"pizza\"])\n",
    "else:\n",
    "    print(\"No pizza :(\")"
   ]
  },
  {
   "cell_type": "markdown",
   "metadata": {
    "editable": true,
    "slideshow": {
     "slide_type": ""
    },
    "tags": []
   },
   "source": [
    "Note that `in` doesn’t dive into nested collections, but only looks at the top\n",
    "level."
   ]
  },
  {
   "cell_type": "code",
   "execution_count": 21,
   "metadata": {
    "editable": true,
    "execution": {
     "iopub.execute_input": "2025-02-10T16:39:02.769747Z",
     "iopub.status.busy": "2025-02-10T16:39:02.769440Z",
     "iopub.status.idle": "2025-02-10T16:39:02.772838Z",
     "shell.execute_reply": "2025-02-10T16:39:02.772348Z"
    },
    "slideshow": {
     "slide_type": ""
    },
    "tags": []
   },
   "outputs": [
    {
     "data": {
      "text/plain": [
       "False"
      ]
     },
     "execution_count": 21,
     "metadata": {},
     "output_type": "execute_result"
    }
   ],
   "source": [
    "1 in [[1, 2], [3, 4]]  # the elements are two lists"
   ]
  },
  {
   "cell_type": "code",
   "execution_count": 22,
   "metadata": {
    "editable": true,
    "execution": {
     "iopub.execute_input": "2025-02-10T16:39:02.774487Z",
     "iopub.status.busy": "2025-02-10T16:39:02.774347Z",
     "iopub.status.idle": "2025-02-10T16:39:02.777559Z",
     "shell.execute_reply": "2025-02-10T16:39:02.777122Z"
    },
    "slideshow": {
     "slide_type": ""
    },
    "tags": []
   },
   "outputs": [
    {
     "data": {
      "text/plain": [
       "True"
      ]
     },
     "execution_count": 22,
     "metadata": {},
     "output_type": "execute_result"
    }
   ],
   "source": [
    "[1, 2] in [[1, 2], [3, 4]]"
   ]
  },
  {
   "cell_type": "markdown",
   "metadata": {
    "editable": true,
    "slideshow": {
     "slide_type": ""
    },
    "tags": []
   },
   "source": [
    "\n",
    "**Advanced (skip on first read)**\n",
    "\n",
    "Find the double-underscore method on lists and dictionaries that corresponds to\n",
    "the `in` operator, and check that it does the same thing as the operator.\n",
    "\n",
    "**Solutions**\n",
    "\n",
    "Taking lists as an example, the `dir` method can tell us what methods are\n",
    "available. The `__contains__` method sounds promising."
   ]
  },
  {
   "cell_type": "code",
   "execution_count": 23,
   "metadata": {
    "editable": true,
    "execution": {
     "iopub.execute_input": "2025-02-10T16:39:02.779450Z",
     "iopub.status.busy": "2025-02-10T16:39:02.779039Z",
     "iopub.status.idle": "2025-02-10T16:39:02.781487Z",
     "shell.execute_reply": "2025-02-10T16:39:02.780984Z"
    },
    "slideshow": {
     "slide_type": ""
    },
    "tags": []
   },
   "outputs": [],
   "source": [
    "x = [1]"
   ]
  },
  {
   "cell_type": "code",
   "execution_count": 24,
   "metadata": {
    "editable": true,
    "execution": {
     "iopub.execute_input": "2025-02-10T16:39:02.783208Z",
     "iopub.status.busy": "2025-02-10T16:39:02.783037Z",
     "iopub.status.idle": "2025-02-10T16:39:02.786213Z",
     "shell.execute_reply": "2025-02-10T16:39:02.785704Z"
    },
    "slideshow": {
     "slide_type": ""
    },
    "tags": []
   },
   "outputs": [
    {
     "data": {
      "text/plain": [
       "True"
      ]
     },
     "execution_count": 24,
     "metadata": {},
     "output_type": "execute_result"
    }
   ],
   "source": [
    "x.__contains__(1)"
   ]
  },
  {
   "cell_type": "code",
   "execution_count": 25,
   "metadata": {
    "editable": true,
    "execution": {
     "iopub.execute_input": "2025-02-10T16:39:02.788068Z",
     "iopub.status.busy": "2025-02-10T16:39:02.787827Z",
     "iopub.status.idle": "2025-02-10T16:39:02.790968Z",
     "shell.execute_reply": "2025-02-10T16:39:02.790598Z"
    },
    "slideshow": {
     "slide_type": ""
    },
    "tags": []
   },
   "outputs": [
    {
     "data": {
      "text/plain": [
       "False"
      ]
     },
     "execution_count": 25,
     "metadata": {},
     "output_type": "execute_result"
    }
   ],
   "source": [
    "x.__contains__(2)"
   ]
  },
  {
   "cell_type": "markdown",
   "metadata": {
    "editable": true,
    "slideshow": {
     "slide_type": ""
    },
    "tags": []
   },
   "source": [
    "Strings work a lot like lists, which makes sense because they are effectively\n",
    "collections of single characters. This means we can also query string contents\n",
    "with `in`."
   ]
  },
  {
   "cell_type": "code",
   "execution_count": 26,
   "metadata": {
    "editable": true,
    "execution": {
     "iopub.execute_input": "2025-02-10T16:39:02.792691Z",
     "iopub.status.busy": "2025-02-10T16:39:02.792538Z",
     "iopub.status.idle": "2025-02-10T16:39:02.794880Z",
     "shell.execute_reply": "2025-02-10T16:39:02.794482Z"
    },
    "slideshow": {
     "slide_type": ""
    },
    "tags": []
   },
   "outputs": [],
   "source": [
    "fact = \"The best hero is Thor.\""
   ]
  },
  {
   "cell_type": "code",
   "execution_count": 27,
   "metadata": {
    "editable": true,
    "execution": {
     "iopub.execute_input": "2025-02-10T16:39:02.796491Z",
     "iopub.status.busy": "2025-02-10T16:39:02.796354Z",
     "iopub.status.idle": "2025-02-10T16:39:02.799494Z",
     "shell.execute_reply": "2025-02-10T16:39:02.799107Z"
    },
    "slideshow": {
     "slide_type": ""
    },
    "tags": []
   },
   "outputs": [
    {
     "data": {
      "text/plain": [
       "True"
      ]
     },
     "execution_count": 27,
     "metadata": {},
     "output_type": "execute_result"
    }
   ],
   "source": [
    "\"Thor\" in fact"
   ]
  },
  {
   "cell_type": "code",
   "execution_count": 28,
   "metadata": {
    "editable": true,
    "execution": {
     "iopub.execute_input": "2025-02-10T16:39:02.801080Z",
     "iopub.status.busy": "2025-02-10T16:39:02.800944Z",
     "iopub.status.idle": "2025-02-10T16:39:02.804064Z",
     "shell.execute_reply": "2025-02-10T16:39:02.803574Z"
    },
    "slideshow": {
     "slide_type": ""
    },
    "tags": []
   },
   "outputs": [
    {
     "data": {
      "text/plain": [
       "False"
      ]
     },
     "execution_count": 28,
     "metadata": {},
     "output_type": "execute_result"
    }
   ],
   "source": [
    "\"Iron Man\" in fact"
   ]
  },
  {
   "cell_type": "markdown",
   "metadata": {
    "editable": true,
    "slideshow": {
     "slide_type": ""
    },
    "tags": []
   },
   "source": [
    "## Truthiness\n",
    "\n",
    "It’s conventional not to explicitly compare a condition to `True`, because the\n",
    "`if` statement already does that for us."
   ]
  },
  {
   "cell_type": "code",
   "execution_count": 29,
   "metadata": {
    "editable": true,
    "execution": {
     "iopub.execute_input": "2025-02-10T16:39:02.806482Z",
     "iopub.status.busy": "2025-02-10T16:39:02.805952Z",
     "iopub.status.idle": "2025-02-10T16:39:02.808770Z",
     "shell.execute_reply": "2025-02-10T16:39:02.808381Z"
    },
    "slideshow": {
     "slide_type": ""
    },
    "tags": []
   },
   "outputs": [
    {
     "name": "stdout",
     "output_type": "stream",
     "text": [
      "Weird.\n"
     ]
    }
   ],
   "source": [
    "if (\"Pineapple\" in pizzas) is True:\n",
    "    print(\"Weird.\")"
   ]
  },
  {
   "cell_type": "code",
   "execution_count": 30,
   "metadata": {
    "editable": true,
    "execution": {
     "iopub.execute_input": "2025-02-10T16:39:02.810911Z",
     "iopub.status.busy": "2025-02-10T16:39:02.810453Z",
     "iopub.status.idle": "2025-02-10T16:39:02.813414Z",
     "shell.execute_reply": "2025-02-10T16:39:02.812989Z"
    },
    "slideshow": {
     "slide_type": ""
    },
    "tags": []
   },
   "outputs": [
    {
     "name": "stdout",
     "output_type": "stream",
     "text": [
      "Not weird.\n"
     ]
    }
   ],
   "source": [
    "if \"Pineapple\" in pizzas:\n",
    "    print(\"Not weird.\")"
   ]
  },
  {
   "cell_type": "markdown",
   "metadata": {
    "editable": true,
    "slideshow": {
     "slide_type": ""
    },
    "tags": []
   },
   "source": [
    "Likewise, rather than comparing for False, we just use `not`."
   ]
  },
  {
   "cell_type": "code",
   "execution_count": 31,
   "metadata": {
    "editable": true,
    "execution": {
     "iopub.execute_input": "2025-02-10T16:39:02.815306Z",
     "iopub.status.busy": "2025-02-10T16:39:02.814978Z",
     "iopub.status.idle": "2025-02-10T16:39:02.817434Z",
     "shell.execute_reply": "2025-02-10T16:39:02.817031Z"
    },
    "slideshow": {
     "slide_type": ""
    },
    "tags": []
   },
   "outputs": [],
   "source": [
    "if (\"Pineapple\" in pizzas) is False:\n",
    "    print(\"Weird.\")"
   ]
  },
  {
   "cell_type": "code",
   "execution_count": 32,
   "metadata": {
    "editable": true,
    "execution": {
     "iopub.execute_input": "2025-02-10T16:39:02.819055Z",
     "iopub.status.busy": "2025-02-10T16:39:02.818919Z",
     "iopub.status.idle": "2025-02-10T16:39:02.821138Z",
     "shell.execute_reply": "2025-02-10T16:39:02.820754Z"
    },
    "slideshow": {
     "slide_type": ""
    },
    "tags": []
   },
   "outputs": [],
   "source": [
    "if \"Pineapple\" not in pizzas:\n",
    "    print(\"Not weird.\")"
   ]
  },
  {
   "cell_type": "code",
   "execution_count": 33,
   "metadata": {
    "editable": true,
    "execution": {
     "iopub.execute_input": "2025-02-10T16:39:02.822773Z",
     "iopub.status.busy": "2025-02-10T16:39:02.822617Z",
     "iopub.status.idle": "2025-02-10T16:39:02.825913Z",
     "shell.execute_reply": "2025-02-10T16:39:02.825510Z"
    },
    "slideshow": {
     "slide_type": ""
    },
    "tags": []
   },
   "outputs": [
    {
     "data": {
      "text/plain": [
       "False"
      ]
     },
     "execution_count": 33,
     "metadata": {},
     "output_type": "execute_result"
    }
   ],
   "source": [
    "\"Pineapple\" not in pizzas  # not ('Pineapple' in pizzas)"
   ]
  },
  {
   "cell_type": "code",
   "execution_count": 34,
   "metadata": {
    "editable": true,
    "execution": {
     "iopub.execute_input": "2025-02-10T16:39:02.827505Z",
     "iopub.status.busy": "2025-02-10T16:39:02.827356Z",
     "iopub.status.idle": "2025-02-10T16:39:02.830413Z",
     "shell.execute_reply": "2025-02-10T16:39:02.829987Z"
    },
    "slideshow": {
     "slide_type": ""
    },
    "tags": []
   },
   "outputs": [
    {
     "data": {
      "text/plain": [
       "False"
      ]
     },
     "execution_count": 34,
     "metadata": {},
     "output_type": "execute_result"
    }
   ],
   "source": [
    "\"Pineapple\" not in pizzas"
   ]
  },
  {
   "cell_type": "markdown",
   "metadata": {
    "editable": true,
    "slideshow": {
     "slide_type": ""
    },
    "tags": []
   },
   "source": [
    "The last two lines show that we can use `not in` for checking that something\n",
    "_is not_ in a collection. This reads more naturally."
   ]
  },
  {
   "cell_type": "markdown",
   "metadata": {
    "editable": true,
    "slideshow": {
     "slide_type": ""
    },
    "tags": []
   },
   "source": [
    "All Python objects are truth-like unless they are the value `False`, the value\n",
    "`None`, or are empty collections (such as `\"\"`, `[]`, `()`, `{}`)."
   ]
  },
  {
   "cell_type": "code",
   "execution_count": 35,
   "metadata": {
    "editable": true,
    "execution": {
     "iopub.execute_input": "2025-02-10T16:39:02.832125Z",
     "iopub.status.busy": "2025-02-10T16:39:02.831952Z",
     "iopub.status.idle": "2025-02-10T16:39:02.834486Z",
     "shell.execute_reply": "2025-02-10T16:39:02.834072Z"
    },
    "slideshow": {
     "slide_type": ""
    },
    "tags": []
   },
   "outputs": [],
   "source": [
    "if list() or dict() or tuple() or \"\":\n",
    "    print(\"You won’t see me!\")"
   ]
  },
  {
   "cell_type": "markdown",
   "metadata": {
    "editable": true,
    "slideshow": {
     "slide_type": ""
    },
    "tags": []
   },
   "source": [
    "The value `None`, which is available as the variable named `None`, is often\n",
    "used as placeholder for an empty value."
   ]
  },
  {
   "cell_type": "code",
   "execution_count": 36,
   "metadata": {
    "editable": true,
    "execution": {
     "iopub.execute_input": "2025-02-10T16:39:02.836068Z",
     "iopub.status.busy": "2025-02-10T16:39:02.835920Z",
     "iopub.status.idle": "2025-02-10T16:39:02.838479Z",
     "shell.execute_reply": "2025-02-10T16:39:02.838069Z"
    },
    "slideshow": {
     "slide_type": ""
    },
    "tags": []
   },
   "outputs": [],
   "source": [
    "favourite = None\n",
    "for p in pizzas:\n",
    "    if \"Olives\" in p:\n",
    "        favourite = p"
   ]
  },
  {
   "cell_type": "code",
   "execution_count": 37,
   "metadata": {
    "editable": true,
    "execution": {
     "iopub.execute_input": "2025-02-10T16:39:02.840071Z",
     "iopub.status.busy": "2025-02-10T16:39:02.839921Z",
     "iopub.status.idle": "2025-02-10T16:39:02.842802Z",
     "shell.execute_reply": "2025-02-10T16:39:02.842404Z"
    },
    "slideshow": {
     "slide_type": ""
    },
    "tags": []
   },
   "outputs": [
    {
     "name": "stdout",
     "output_type": "stream",
     "text": [
      "No favourite :(\n"
     ]
    }
   ],
   "source": [
    "if favourite:\n",
    "    print(f\"Found favourite: {favourite}\")\n",
    "else:\n",
    "    print(\"No favourite :(\")"
   ]
  },
  {
   "cell_type": "markdown",
   "metadata": {
    "editable": true,
    "slideshow": {
     "slide_type": ""
    },
    "tags": []
   },
   "source": [
    "It behaves as false-y value in conditions."
   ]
  },
  {
   "cell_type": "markdown",
   "metadata": {
    "editable": true,
    "slideshow": {
     "slide_type": ""
    },
    "tags": []
   },
   "source": [
    "## Conditions in loops\n",
    "\n",
    "`for` loops and comprehensions are the most common ways of iterating in Python.\n",
    "We’ve already seen that using conditions in these can be useful."
   ]
  },
  {
   "cell_type": "code",
   "execution_count": 38,
   "metadata": {
    "editable": true,
    "execution": {
     "iopub.execute_input": "2025-02-10T16:39:02.844476Z",
     "iopub.status.busy": "2025-02-10T16:39:02.844328Z",
     "iopub.status.idle": "2025-02-10T16:39:02.847710Z",
     "shell.execute_reply": "2025-02-10T16:39:02.847321Z"
    },
    "slideshow": {
     "slide_type": ""
    },
    "tags": []
   },
   "outputs": [
    {
     "data": {
      "text/plain": [
       "['Pineapple', 'Pepperoni', 'Hot dog']"
      ]
     },
     "execution_count": 38,
     "metadata": {},
     "output_type": "execute_result"
    }
   ],
   "source": [
    "not_cheesy = [p for p in pizzas if \"cheese\" not in p.lower()]\n",
    "not_cheesy"
   ]
  },
  {
   "cell_type": "markdown",
   "metadata": {
    "editable": true,
    "slideshow": {
     "slide_type": ""
    },
    "tags": []
   },
   "source": [
    "Another way of iterating is with `while`."
   ]
  },
  {
   "cell_type": "code",
   "execution_count": 39,
   "metadata": {
    "editable": true,
    "execution": {
     "iopub.execute_input": "2025-02-10T16:39:02.849357Z",
     "iopub.status.busy": "2025-02-10T16:39:02.849208Z",
     "iopub.status.idle": "2025-02-10T16:39:02.852228Z",
     "shell.execute_reply": "2025-02-10T16:39:02.851807Z"
    },
    "slideshow": {
     "slide_type": ""
    },
    "tags": []
   },
   "outputs": [
    {
     "name": "stdout",
     "output_type": "stream",
     "text": [
      "T-minus 5 seconds\n",
      "T-minus 4 seconds\n",
      "T-minus 3 seconds\n",
      "T-minus 2 seconds\n",
      "T-minus 1 seconds\n",
      "Blast off!\n"
     ]
    }
   ],
   "source": [
    "i = 5\n",
    "while i > 0:\n",
    "    print(f\"T-minus {i} seconds\")\n",
    "    # Equivalent to `i = i - 1`\n",
    "    i -= 1\n",
    "print(\"Blast off!\")"
   ]
  },
  {
   "cell_type": "markdown",
   "metadata": {
    "editable": true,
    "slideshow": {
     "slide_type": ""
    },
    "tags": []
   },
   "source": [
    "The `while` loop checks the condition, runs the block, and then re-checks the\n",
    "condition. If we don’t do something in the loop to change the result of the\n",
    "condition, we will end up looping forever!\n",
    "\n",
    "You can uncomment and run the below, you may need to stop the kernel manually with the stop button."
   ]
  },
  {
   "cell_type": "code",
   "execution_count": 40,
   "metadata": {
    "editable": true,
    "execution": {
     "iopub.execute_input": "2025-02-10T16:39:02.853886Z",
     "iopub.status.busy": "2025-02-10T16:39:02.853736Z",
     "iopub.status.idle": "2025-02-10T16:39:02.855812Z",
     "shell.execute_reply": "2025-02-10T16:39:02.855440Z"
    },
    "slideshow": {
     "slide_type": ""
    },
    "tags": []
   },
   "outputs": [],
   "source": [
    "# i = 5\n",
    "# while i > 0:\n",
    "# print('All work and no play makes Jack a dull boy')"
   ]
  },
  {
   "cell_type": "markdown",
   "metadata": {
    "editable": true,
    "slideshow": {
     "slide_type": ""
    },
    "tags": []
   },
   "source": [
    "Because we do not change the value of `i` in the loop, the condition always\n",
    "evaluates to `True`, so we’re stuck. You can stop Python running the code by\n",
    "typing the `Ctrl-c` key combination."
   ]
  },
  {
   "cell_type": "markdown",
   "metadata": {
    "editable": true,
    "slideshow": {
     "slide_type": ""
    },
    "tags": []
   },
   "source": [
    "Sometimes you want to stop iterating when some condition is met. You could\n",
    "achieve this with a `while` loop."
   ]
  },
  {
   "cell_type": "code",
   "execution_count": 41,
   "metadata": {
    "editable": true,
    "execution": {
     "iopub.execute_input": "2025-02-10T16:39:02.857609Z",
     "iopub.status.busy": "2025-02-10T16:39:02.857459Z",
     "iopub.status.idle": "2025-02-10T16:39:02.860482Z",
     "shell.execute_reply": "2025-02-10T16:39:02.860114Z"
    },
    "slideshow": {
     "slide_type": ""
    },
    "tags": []
   },
   "outputs": [],
   "source": [
    "ok = False\n",
    "i = 0\n",
    "while not ok:\n",
    "    ok = \"cheese\" in pizzas[i].lower()\n",
    "    # Equivalent to `i = i + 1`\n",
    "    i += 1"
   ]
  },
  {
   "cell_type": "code",
   "execution_count": 42,
   "metadata": {
    "editable": true,
    "execution": {
     "iopub.execute_input": "2025-02-10T16:39:02.862217Z",
     "iopub.status.busy": "2025-02-10T16:39:02.862047Z",
     "iopub.status.idle": "2025-02-10T16:39:02.864934Z",
     "shell.execute_reply": "2025-02-10T16:39:02.864500Z"
    },
    "slideshow": {
     "slide_type": ""
    },
    "tags": []
   },
   "outputs": [
    {
     "data": {
      "text/plain": [
       "2"
      ]
     },
     "execution_count": 42,
     "metadata": {},
     "output_type": "execute_result"
    }
   ],
   "source": [
    "i"
   ]
  },
  {
   "cell_type": "code",
   "execution_count": 43,
   "metadata": {
    "editable": true,
    "execution": {
     "iopub.execute_input": "2025-02-10T16:39:02.866602Z",
     "iopub.status.busy": "2025-02-10T16:39:02.866450Z",
     "iopub.status.idle": "2025-02-10T16:39:02.869513Z",
     "shell.execute_reply": "2025-02-10T16:39:02.869093Z"
    },
    "slideshow": {
     "slide_type": ""
    },
    "tags": []
   },
   "outputs": [
    {
     "data": {
      "text/plain": [
       "'Cheese'"
      ]
     },
     "execution_count": 43,
     "metadata": {},
     "output_type": "execute_result"
    }
   ],
   "source": [
    "pizzas[i - 1]"
   ]
  },
  {
   "cell_type": "markdown",
   "metadata": {
    "editable": true,
    "slideshow": {
     "slide_type": ""
    },
    "tags": []
   },
   "source": [
    "It is not nice to have to keep track of these `ok` and `i` variables. Instead,\n",
    "we can use a `for` loop, which feels much more natural when iterating over a\n",
    "collection, and `break` to stop looping (we can also use a break with a `while` loop)."
   ]
  },
  {
   "cell_type": "code",
   "execution_count": 44,
   "metadata": {
    "editable": true,
    "execution": {
     "iopub.execute_input": "2025-02-10T16:39:02.871174Z",
     "iopub.status.busy": "2025-02-10T16:39:02.871001Z",
     "iopub.status.idle": "2025-02-10T16:39:02.873559Z",
     "shell.execute_reply": "2025-02-10T16:39:02.873168Z"
    },
    "slideshow": {
     "slide_type": ""
    },
    "tags": []
   },
   "outputs": [],
   "source": [
    "for pizza in pizzas:\n",
    "    if \"cheese\" in pizza.lower():\n",
    "        yum = pizza\n",
    "        break"
   ]
  },
  {
   "cell_type": "code",
   "execution_count": 45,
   "metadata": {
    "editable": true,
    "execution": {
     "iopub.execute_input": "2025-02-10T16:39:02.875215Z",
     "iopub.status.busy": "2025-02-10T16:39:02.875046Z",
     "iopub.status.idle": "2025-02-10T16:39:02.878252Z",
     "shell.execute_reply": "2025-02-10T16:39:02.877826Z"
    },
    "slideshow": {
     "slide_type": ""
    },
    "tags": []
   },
   "outputs": [
    {
     "data": {
      "text/plain": [
       "'Cheese'"
      ]
     },
     "execution_count": 45,
     "metadata": {},
     "output_type": "execute_result"
    }
   ],
   "source": [
    "yum"
   ]
  },
  {
   "cell_type": "code",
   "execution_count": null,
   "metadata": {
    "editable": true,
    "slideshow": {
     "slide_type": ""
    },
    "tags": []
   },
   "outputs": [],
   "source": []
  },
  {
   "cell_type": "code",
   "execution_count": null,
   "metadata": {
    "editable": true,
    "slideshow": {
     "slide_type": ""
    },
    "tags": []
   },
   "outputs": [],
   "source": []
  }
 ],
 "metadata": {
  "language_info": {
   "codemirror_mode": {
    "name": "ipython",
    "version": 3
   },
   "file_extension": ".py",
   "mimetype": "text/x-python",
   "name": "python",
   "nbconvert_exporter": "python",
   "pygments_lexer": "ipython3",
   "version": "3.11.11"
  }
 },
 "nbformat": 4,
 "nbformat_minor": 4
}
