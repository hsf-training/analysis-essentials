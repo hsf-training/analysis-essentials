{
 "cells": [
  {
   "cell_type": "markdown",
   "metadata": {},
   "source": [
    "# Conditions\n",
    "\n",
    "Sometimes, often while looping, you only want to do things depending on\n",
    "something’s value. Specifying _conditions_ like this is pretty simple in Python.\n"
   ]
  },
  {
   "cell_type": "code",
   "execution_count": 1,
   "metadata": {
    "execution": {
     "iopub.execute_input": "2025-04-04T10:42:49.474465Z",
     "iopub.status.busy": "2025-04-04T10:42:49.474312Z",
     "iopub.status.idle": "2025-04-04T10:42:49.479804Z",
     "shell.execute_reply": "2025-04-04T10:42:49.479373Z"
    }
   },
   "outputs": [
    {
     "name": "stdout",
     "output_type": "stream",
     "text": [
      "Weird pizza.\n",
      "Nice pizza!\n",
      "Amazing pizza!\n",
      "Weird pizza.\n"
     ]
    }
   ],
   "source": [
    "pizzas = [\"Pineapple\", \"Cheese\", \"Pepperoni\", \"Hot dog\"]\n",
    "for p in pizzas:\n",
    "    if p == \"Cheese\":\n",
    "        print(\"Nice pizza!\")\n",
    "    elif p == \"Pepperoni\":\n",
    "        print(\"Amazing pizza!\")\n",
    "    else:\n",
    "        print(\"Weird pizza.\")"
   ]
  },
  {
   "cell_type": "markdown",
   "metadata": {},
   "source": [
    "Like the \"body\" of the `for` loop, called a _block_, the block in the `if`,\n",
    "`elif`, and `else` statements must be indented. The convention we adopt is to\n",
    "use four spaces for indentation.\n",
    "\n",
    "The `if` statement starts with `if` (duh!) and what follows is a _condition_.\n",
    "If this condition isn’t met, the next `elif` (for \"else-if\") condition is\n",
    "evaluated. If this also isn’t met, the `else` block is run. You can use as many\n",
    "`elif` conditions as you like, or none at all, and the `else` block is optional.\n",
    "\n",
    "\n",
    "Python evaluates a condition and sees whether it is truth-like or not. If it is\n",
    "truth-like, the code in the block is run.\n",
    "\n"
   ]
  },
  {
   "cell_type": "code",
   "execution_count": 2,
   "metadata": {
    "execution": {
     "iopub.execute_input": "2025-04-04T10:42:49.481463Z",
     "iopub.status.busy": "2025-04-04T10:42:49.481321Z",
     "iopub.status.idle": "2025-04-04T10:42:49.483620Z",
     "shell.execute_reply": "2025-04-04T10:42:49.483218Z"
    }
   },
   "outputs": [],
   "source": [
    "if pizzas[0] == \"Cheese\":\n",
    "    print(\"It is cheese, my dudes.\")"
   ]
  },
  {
   "cell_type": "code",
   "execution_count": 3,
   "metadata": {
    "execution": {
     "iopub.execute_input": "2025-04-04T10:42:49.485259Z",
     "iopub.status.busy": "2025-04-04T10:42:49.485116Z",
     "iopub.status.idle": "2025-04-04T10:42:49.489763Z",
     "shell.execute_reply": "2025-04-04T10:42:49.489269Z"
    }
   },
   "outputs": [
    {
     "data": {
      "text/plain": [
       "False"
      ]
     },
     "execution_count": 3,
     "metadata": {},
     "output_type": "execute_result"
    }
   ],
   "source": [
    "pizzas[0] == \"Cheese\""
   ]
  },
  {
   "cell_type": "code",
   "execution_count": 4,
   "metadata": {
    "execution": {
     "iopub.execute_input": "2025-04-04T10:42:49.491376Z",
     "iopub.status.busy": "2025-04-04T10:42:49.491224Z",
     "iopub.status.idle": "2025-04-04T10:42:49.494555Z",
     "shell.execute_reply": "2025-04-04T10:42:49.494155Z"
    }
   },
   "outputs": [
    {
     "data": {
      "text/plain": [
       "True"
      ]
     },
     "execution_count": 4,
     "metadata": {},
     "output_type": "execute_result"
    }
   ],
   "source": [
    "pizzas[1] == \"Cheese\""
   ]
  },
  {
   "cell_type": "markdown",
   "metadata": {},
   "source": [
    "`False` and `True` are variables. They\n",
    "correspond to the possible values a boolean variable can have.\n",
    "\n",
    "The result of a comparison is `True` or `False`, and we can perform comparisons\n",
    "using several operators, like `==` for equality, `!=` for inequality, `>` and\n",
    "`<` for relative magnitude, and so on."
   ]
  },
  {
   "cell_type": "code",
   "execution_count": 5,
   "metadata": {
    "execution": {
     "iopub.execute_input": "2025-04-04T10:42:49.496513Z",
     "iopub.status.busy": "2025-04-04T10:42:49.496127Z",
     "iopub.status.idle": "2025-04-04T10:42:49.499418Z",
     "shell.execute_reply": "2025-04-04T10:42:49.498933Z"
    }
   },
   "outputs": [
    {
     "data": {
      "text/plain": [
       "False"
      ]
     },
     "execution_count": 5,
     "metadata": {},
     "output_type": "execute_result"
    }
   ],
   "source": [
    "True is False"
   ]
  },
  {
   "cell_type": "code",
   "execution_count": 6,
   "metadata": {
    "execution": {
     "iopub.execute_input": "2025-04-04T10:42:49.501320Z",
     "iopub.status.busy": "2025-04-04T10:42:49.501024Z",
     "iopub.status.idle": "2025-04-04T10:42:49.504264Z",
     "shell.execute_reply": "2025-04-04T10:42:49.503803Z"
    }
   },
   "outputs": [
    {
     "data": {
      "text/plain": [
       "True"
      ]
     },
     "execution_count": 6,
     "metadata": {},
     "output_type": "execute_result"
    }
   ],
   "source": [
    "True is not False"
   ]
  },
  {
   "cell_type": "code",
   "execution_count": 7,
   "metadata": {
    "execution": {
     "iopub.execute_input": "2025-04-04T10:42:49.506024Z",
     "iopub.status.busy": "2025-04-04T10:42:49.505888Z",
     "iopub.status.idle": "2025-04-04T10:42:49.509012Z",
     "shell.execute_reply": "2025-04-04T10:42:49.508526Z"
    }
   },
   "outputs": [
    {
     "data": {
      "text/plain": [
       "False"
      ]
     },
     "execution_count": 7,
     "metadata": {},
     "output_type": "execute_result"
    }
   ],
   "source": [
    "1 > 2"
   ]
  },
  {
   "cell_type": "code",
   "execution_count": 8,
   "metadata": {
    "execution": {
     "iopub.execute_input": "2025-04-04T10:42:49.510862Z",
     "iopub.status.busy": "2025-04-04T10:42:49.510720Z",
     "iopub.status.idle": "2025-04-04T10:42:49.513818Z",
     "shell.execute_reply": "2025-04-04T10:42:49.513396Z"
    }
   },
   "outputs": [
    {
     "data": {
      "text/plain": [
       "True"
      ]
     },
     "execution_count": 8,
     "metadata": {},
     "output_type": "execute_result"
    }
   ],
   "source": [
    "(1 > 2) is False"
   ]
  },
  {
   "cell_type": "markdown",
   "metadata": {},
   "source": [
    "This shows that we can combine comparison operators, just like with `+` and\n",
    "friends. We can also use `and` to require multiple conditions, `or` to require\n",
    "at least one, and `not` to negate a result.\n"
   ]
  },
  {
   "cell_type": "code",
   "execution_count": 9,
   "metadata": {
    "execution": {
     "iopub.execute_input": "2025-04-04T10:42:49.515449Z",
     "iopub.status.busy": "2025-04-04T10:42:49.515311Z",
     "iopub.status.idle": "2025-04-04T10:42:49.517655Z",
     "shell.execute_reply": "2025-04-04T10:42:49.517137Z"
    }
   },
   "outputs": [],
   "source": [
    "x = 2"
   ]
  },
  {
   "cell_type": "code",
   "execution_count": 10,
   "metadata": {
    "execution": {
     "iopub.execute_input": "2025-04-04T10:42:49.519650Z",
     "iopub.status.busy": "2025-04-04T10:42:49.519263Z",
     "iopub.status.idle": "2025-04-04T10:42:49.522630Z",
     "shell.execute_reply": "2025-04-04T10:42:49.522130Z"
    }
   },
   "outputs": [
    {
     "data": {
      "text/plain": [
       "True"
      ]
     },
     "execution_count": 10,
     "metadata": {},
     "output_type": "execute_result"
    }
   ],
   "source": [
    "1 < x and x < 3"
   ]
  },
  {
   "cell_type": "code",
   "execution_count": 11,
   "metadata": {
    "execution": {
     "iopub.execute_input": "2025-04-04T10:42:49.524679Z",
     "iopub.status.busy": "2025-04-04T10:42:49.524207Z",
     "iopub.status.idle": "2025-04-04T10:42:49.527741Z",
     "shell.execute_reply": "2025-04-04T10:42:49.527258Z"
    }
   },
   "outputs": [
    {
     "data": {
      "text/plain": [
       "True"
      ]
     },
     "execution_count": 11,
     "metadata": {},
     "output_type": "execute_result"
    }
   ],
   "source": [
    "3 < x or 1 < x"
   ]
  },
  {
   "cell_type": "code",
   "execution_count": 12,
   "metadata": {
    "execution": {
     "iopub.execute_input": "2025-04-04T10:42:49.529694Z",
     "iopub.status.busy": "2025-04-04T10:42:49.529314Z",
     "iopub.status.idle": "2025-04-04T10:42:49.532533Z",
     "shell.execute_reply": "2025-04-04T10:42:49.532052Z"
    }
   },
   "outputs": [
    {
     "data": {
      "text/plain": [
       "False"
      ]
     },
     "execution_count": 12,
     "metadata": {},
     "output_type": "execute_result"
    }
   ],
   "source": [
    "not 1 < x"
   ]
  },
  {
   "cell_type": "markdown",
   "metadata": {},
   "source": [
    "Note that `and`, `or` and `not` have lower precedence than `>`, `<` and `==`, but\n",
    "you can (and in general should) use parentheses to be more explicit.\n",
    "\n",
    "**Exercise**\n",
    "\n",
    "Play around with the booleans and try to answer the following! Can you do\n",
    " - double negotiations\n",
    " - convert a boolean to an integer\n",
    " - use parentheses to create a more complicated expression"
   ]
  },
  {
   "cell_type": "markdown",
   "metadata": {},
   "source": [
    "Of course, we can compare everything we have played around with so far."
   ]
  },
  {
   "cell_type": "code",
   "execution_count": 13,
   "metadata": {
    "execution": {
     "iopub.execute_input": "2025-04-04T10:42:49.534386Z",
     "iopub.status.busy": "2025-04-04T10:42:49.534143Z",
     "iopub.status.idle": "2025-04-04T10:42:49.536676Z",
     "shell.execute_reply": "2025-04-04T10:42:49.536179Z"
    }
   },
   "outputs": [],
   "source": [
    "x = [1, 2]\n",
    "y = [1, 2]\n",
    "z = {\"hero\": \"thor\"}"
   ]
  },
  {
   "cell_type": "code",
   "execution_count": 14,
   "metadata": {
    "execution": {
     "iopub.execute_input": "2025-04-04T10:42:49.538512Z",
     "iopub.status.busy": "2025-04-04T10:42:49.538134Z",
     "iopub.status.idle": "2025-04-04T10:42:49.541290Z",
     "shell.execute_reply": "2025-04-04T10:42:49.540832Z"
    }
   },
   "outputs": [
    {
     "data": {
      "text/plain": [
       "True"
      ]
     },
     "execution_count": 14,
     "metadata": {},
     "output_type": "execute_result"
    }
   ],
   "source": [
    "x == y"
   ]
  },
  {
   "cell_type": "code",
   "execution_count": 15,
   "metadata": {
    "execution": {
     "iopub.execute_input": "2025-04-04T10:42:49.543155Z",
     "iopub.status.busy": "2025-04-04T10:42:49.542867Z",
     "iopub.status.idle": "2025-04-04T10:42:49.545851Z",
     "shell.execute_reply": "2025-04-04T10:42:49.545467Z"
    }
   },
   "outputs": [
    {
     "data": {
      "text/plain": [
       "False"
      ]
     },
     "execution_count": 15,
     "metadata": {},
     "output_type": "execute_result"
    }
   ],
   "source": [
    "y == z"
   ]
  },
  {
   "cell_type": "markdown",
   "metadata": {},
   "source": [
    "For collection objects like lists, tuples, and dictionaries, we can easily ask\n",
    "them if they contain something in particular using the `in` operator."
   ]
  },
  {
   "cell_type": "code",
   "execution_count": 16,
   "metadata": {
    "execution": {
     "iopub.execute_input": "2025-04-04T10:42:49.547481Z",
     "iopub.status.busy": "2025-04-04T10:42:49.547340Z",
     "iopub.status.idle": "2025-04-04T10:42:49.550296Z",
     "shell.execute_reply": "2025-04-04T10:42:49.549857Z"
    }
   },
   "outputs": [
    {
     "data": {
      "text/plain": [
       "False"
      ]
     },
     "execution_count": 16,
     "metadata": {},
     "output_type": "execute_result"
    }
   ],
   "source": [
    "3 in x"
   ]
  },
  {
   "cell_type": "code",
   "execution_count": 17,
   "metadata": {
    "execution": {
     "iopub.execute_input": "2025-04-04T10:42:49.551913Z",
     "iopub.status.busy": "2025-04-04T10:42:49.551771Z",
     "iopub.status.idle": "2025-04-04T10:42:49.554857Z",
     "shell.execute_reply": "2025-04-04T10:42:49.554360Z"
    }
   },
   "outputs": [
    {
     "data": {
      "text/plain": [
       "True"
      ]
     },
     "execution_count": 17,
     "metadata": {},
     "output_type": "execute_result"
    }
   ],
   "source": [
    "2 in y"
   ]
  },
  {
   "cell_type": "code",
   "execution_count": 18,
   "metadata": {
    "execution": {
     "iopub.execute_input": "2025-04-04T10:42:49.556656Z",
     "iopub.status.busy": "2025-04-04T10:42:49.556362Z",
     "iopub.status.idle": "2025-04-04T10:42:49.559406Z",
     "shell.execute_reply": "2025-04-04T10:42:49.558950Z"
    }
   },
   "outputs": [
    {
     "data": {
      "text/plain": [
       "False"
      ]
     },
     "execution_count": 18,
     "metadata": {},
     "output_type": "execute_result"
    }
   ],
   "source": [
    "\"thor\" in z"
   ]
  },
  {
   "cell_type": "markdown",
   "metadata": {},
   "source": [
    "The last statement is `False` because `in` queries a dictionaries _keys_, not \n",
    "its values. This is useful if you want to access a key in a dictionary that \n",
    "might not exist:"
   ]
  },
  {
   "cell_type": "code",
   "execution_count": 19,
   "metadata": {
    "editable": true,
    "execution": {
     "iopub.execute_input": "2025-04-04T10:42:49.561075Z",
     "iopub.status.busy": "2025-04-04T10:42:49.560933Z",
     "iopub.status.idle": "2025-04-04T10:42:49.686106Z",
     "shell.execute_reply": "2025-04-04T10:42:49.685711Z"
    },
    "slideshow": {
     "slide_type": ""
    },
    "tags": [
     "raises-exception"
    ]
   },
   "outputs": [
    {
     "ename": "KeyError",
     "evalue": "'pizza'",
     "output_type": "error",
     "traceback": [
      "\u001b[31m---------------------------------------------------------------------------\u001b[39m",
      "\u001b[31mKeyError\u001b[39m                                  Traceback (most recent call last)",
      "\u001b[36mCell\u001b[39m\u001b[36m \u001b[39m\u001b[32mIn[19]\u001b[39m\u001b[32m, line 1\u001b[39m\n\u001b[32m----> \u001b[39m\u001b[32m1\u001b[39m \u001b[43mz\u001b[49m\u001b[43m[\u001b[49m\u001b[33;43m\"\u001b[39;49m\u001b[33;43mpizza\u001b[39;49m\u001b[33;43m\"\u001b[39;49m\u001b[43m]\u001b[49m\n",
      "\u001b[31mKeyError\u001b[39m: 'pizza'"
     ]
    }
   ],
   "source": [
    "z[\"pizza\"]"
   ]
  },
  {
   "cell_type": "code",
   "execution_count": 20,
   "metadata": {
    "editable": true,
    "execution": {
     "iopub.execute_input": "2025-04-04T10:42:49.687828Z",
     "iopub.status.busy": "2025-04-04T10:42:49.687675Z",
     "iopub.status.idle": "2025-04-04T10:42:49.690427Z",
     "shell.execute_reply": "2025-04-04T10:42:49.689978Z"
    },
    "slideshow": {
     "slide_type": ""
    },
    "tags": []
   },
   "outputs": [
    {
     "name": "stdout",
     "output_type": "stream",
     "text": [
      "No pizza :(\n"
     ]
    }
   ],
   "source": [
    "if \"pizza\" in z:\n",
    "    print(\"We have pizza\", z[\"pizza\"])\n",
    "else:\n",
    "    print(\"No pizza :(\")"
   ]
  },
  {
   "cell_type": "markdown",
   "metadata": {
    "editable": true,
    "slideshow": {
     "slide_type": ""
    },
    "tags": []
   },
   "source": [
    "Note that `in` doesn’t dive into nested collections, but only looks at the top\n",
    "level."
   ]
  },
  {
   "cell_type": "code",
   "execution_count": 21,
   "metadata": {
    "editable": true,
    "execution": {
     "iopub.execute_input": "2025-04-04T10:42:49.692170Z",
     "iopub.status.busy": "2025-04-04T10:42:49.691883Z",
     "iopub.status.idle": "2025-04-04T10:42:49.695240Z",
     "shell.execute_reply": "2025-04-04T10:42:49.694837Z"
    },
    "slideshow": {
     "slide_type": ""
    },
    "tags": []
   },
   "outputs": [
    {
     "data": {
      "text/plain": [
       "False"
      ]
     },
     "execution_count": 21,
     "metadata": {},
     "output_type": "execute_result"
    }
   ],
   "source": [
    "1 in [[1, 2], [3, 4]]  # the elements are two lists"
   ]
  },
  {
   "cell_type": "code",
   "execution_count": 22,
   "metadata": {
    "editable": true,
    "execution": {
     "iopub.execute_input": "2025-04-04T10:42:49.696827Z",
     "iopub.status.busy": "2025-04-04T10:42:49.696676Z",
     "iopub.status.idle": "2025-04-04T10:42:49.700038Z",
     "shell.execute_reply": "2025-04-04T10:42:49.699643Z"
    },
    "slideshow": {
     "slide_type": ""
    },
    "tags": []
   },
   "outputs": [
    {
     "data": {
      "text/plain": [
       "True"
      ]
     },
     "execution_count": 22,
     "metadata": {},
     "output_type": "execute_result"
    }
   ],
   "source": [
    "[1, 2] in [[1, 2], [3, 4]]"
   ]
  },
  {
   "cell_type": "markdown",
   "metadata": {
    "editable": true,
    "slideshow": {
     "slide_type": ""
    },
    "tags": []
   },
   "source": [
    "\n",
    "**Advanced (skip on first read)**\n",
    "\n",
    "Find the double-underscore method on lists and dictionaries that corresponds to\n",
    "the `in` operator, and check that it does the same thing as the operator.\n",
    "\n",
    "**Solutions**\n",
    "\n",
    "Taking lists as an example, the `dir` method can tell us what methods are\n",
    "available. The `__contains__` method sounds promising."
   ]
  },
  {
   "cell_type": "code",
   "execution_count": 23,
   "metadata": {
    "editable": true,
    "execution": {
     "iopub.execute_input": "2025-04-04T10:42:49.701695Z",
     "iopub.status.busy": "2025-04-04T10:42:49.701525Z",
     "iopub.status.idle": "2025-04-04T10:42:49.704031Z",
     "shell.execute_reply": "2025-04-04T10:42:49.703524Z"
    },
    "slideshow": {
     "slide_type": ""
    },
    "tags": []
   },
   "outputs": [],
   "source": [
    "x = [1]"
   ]
  },
  {
   "cell_type": "code",
   "execution_count": 24,
   "metadata": {
    "editable": true,
    "execution": {
     "iopub.execute_input": "2025-04-04T10:42:49.705819Z",
     "iopub.status.busy": "2025-04-04T10:42:49.705667Z",
     "iopub.status.idle": "2025-04-04T10:42:49.708840Z",
     "shell.execute_reply": "2025-04-04T10:42:49.708329Z"
    },
    "slideshow": {
     "slide_type": ""
    },
    "tags": []
   },
   "outputs": [
    {
     "data": {
      "text/plain": [
       "True"
      ]
     },
     "execution_count": 24,
     "metadata": {},
     "output_type": "execute_result"
    }
   ],
   "source": [
    "x.__contains__(1)"
   ]
  },
  {
   "cell_type": "code",
   "execution_count": 25,
   "metadata": {
    "editable": true,
    "execution": {
     "iopub.execute_input": "2025-04-04T10:42:49.710509Z",
     "iopub.status.busy": "2025-04-04T10:42:49.710356Z",
     "iopub.status.idle": "2025-04-04T10:42:49.713513Z",
     "shell.execute_reply": "2025-04-04T10:42:49.713031Z"
    },
    "slideshow": {
     "slide_type": ""
    },
    "tags": []
   },
   "outputs": [
    {
     "data": {
      "text/plain": [
       "False"
      ]
     },
     "execution_count": 25,
     "metadata": {},
     "output_type": "execute_result"
    }
   ],
   "source": [
    "x.__contains__(2)"
   ]
  },
  {
   "cell_type": "markdown",
   "metadata": {
    "editable": true,
    "slideshow": {
     "slide_type": ""
    },
    "tags": []
   },
   "source": [
    "Strings work a lot like lists, which makes sense because they are effectively\n",
    "collections of single characters. This means we can also query string contents\n",
    "with `in`."
   ]
  },
  {
   "cell_type": "code",
   "execution_count": 26,
   "metadata": {
    "editable": true,
    "execution": {
     "iopub.execute_input": "2025-04-04T10:42:49.715295Z",
     "iopub.status.busy": "2025-04-04T10:42:49.715141Z",
     "iopub.status.idle": "2025-04-04T10:42:49.717298Z",
     "shell.execute_reply": "2025-04-04T10:42:49.716923Z"
    },
    "slideshow": {
     "slide_type": ""
    },
    "tags": []
   },
   "outputs": [],
   "source": [
    "fact = \"The best hero is Thor.\""
   ]
  },
  {
   "cell_type": "code",
   "execution_count": 27,
   "metadata": {
    "editable": true,
    "execution": {
     "iopub.execute_input": "2025-04-04T10:42:49.718902Z",
     "iopub.status.busy": "2025-04-04T10:42:49.718752Z",
     "iopub.status.idle": "2025-04-04T10:42:49.721864Z",
     "shell.execute_reply": "2025-04-04T10:42:49.721355Z"
    },
    "slideshow": {
     "slide_type": ""
    },
    "tags": []
   },
   "outputs": [
    {
     "data": {
      "text/plain": [
       "True"
      ]
     },
     "execution_count": 27,
     "metadata": {},
     "output_type": "execute_result"
    }
   ],
   "source": [
    "\"Thor\" in fact"
   ]
  },
  {
   "cell_type": "code",
   "execution_count": 28,
   "metadata": {
    "editable": true,
    "execution": {
     "iopub.execute_input": "2025-04-04T10:42:49.723542Z",
     "iopub.status.busy": "2025-04-04T10:42:49.723390Z",
     "iopub.status.idle": "2025-04-04T10:42:49.726522Z",
     "shell.execute_reply": "2025-04-04T10:42:49.726060Z"
    },
    "slideshow": {
     "slide_type": ""
    },
    "tags": []
   },
   "outputs": [
    {
     "data": {
      "text/plain": [
       "False"
      ]
     },
     "execution_count": 28,
     "metadata": {},
     "output_type": "execute_result"
    }
   ],
   "source": [
    "\"Iron Man\" in fact"
   ]
  },
  {
   "cell_type": "markdown",
   "metadata": {
    "editable": true,
    "slideshow": {
     "slide_type": ""
    },
    "tags": []
   },
   "source": [
    "## Truthiness\n",
    "\n",
    "It’s conventional not to explicitly compare a condition to `True`, because the\n",
    "`if` statement already does that for us."
   ]
  },
  {
   "cell_type": "code",
   "execution_count": 29,
   "metadata": {
    "editable": true,
    "execution": {
     "iopub.execute_input": "2025-04-04T10:42:49.728237Z",
     "iopub.status.busy": "2025-04-04T10:42:49.728087Z",
     "iopub.status.idle": "2025-04-04T10:42:49.730942Z",
     "shell.execute_reply": "2025-04-04T10:42:49.730511Z"
    },
    "slideshow": {
     "slide_type": ""
    },
    "tags": []
   },
   "outputs": [
    {
     "name": "stdout",
     "output_type": "stream",
     "text": [
      "Weird.\n"
     ]
    }
   ],
   "source": [
    "if (\"Pineapple\" in pizzas) is True:\n",
    "    print(\"Weird.\")"
   ]
  },
  {
   "cell_type": "code",
   "execution_count": 30,
   "metadata": {
    "editable": true,
    "execution": {
     "iopub.execute_input": "2025-04-04T10:42:49.732527Z",
     "iopub.status.busy": "2025-04-04T10:42:49.732378Z",
     "iopub.status.idle": "2025-04-04T10:42:49.735126Z",
     "shell.execute_reply": "2025-04-04T10:42:49.734644Z"
    },
    "slideshow": {
     "slide_type": ""
    },
    "tags": []
   },
   "outputs": [
    {
     "name": "stdout",
     "output_type": "stream",
     "text": [
      "Not weird.\n"
     ]
    }
   ],
   "source": [
    "if \"Pineapple\" in pizzas:\n",
    "    print(\"Not weird.\")"
   ]
  },
  {
   "cell_type": "markdown",
   "metadata": {
    "editable": true,
    "slideshow": {
     "slide_type": ""
    },
    "tags": []
   },
   "source": [
    "Likewise, rather than comparing for False, we just use `not`."
   ]
  },
  {
   "cell_type": "code",
   "execution_count": 31,
   "metadata": {
    "editable": true,
    "execution": {
     "iopub.execute_input": "2025-04-04T10:42:49.736797Z",
     "iopub.status.busy": "2025-04-04T10:42:49.736648Z",
     "iopub.status.idle": "2025-04-04T10:42:49.739118Z",
     "shell.execute_reply": "2025-04-04T10:42:49.738725Z"
    },
    "slideshow": {
     "slide_type": ""
    },
    "tags": []
   },
   "outputs": [],
   "source": [
    "if (\"Pineapple\" in pizzas) is False:\n",
    "    print(\"Weird.\")"
   ]
  },
  {
   "cell_type": "code",
   "execution_count": 32,
   "metadata": {
    "editable": true,
    "execution": {
     "iopub.execute_input": "2025-04-04T10:42:49.740736Z",
     "iopub.status.busy": "2025-04-04T10:42:49.740565Z",
     "iopub.status.idle": "2025-04-04T10:42:49.742999Z",
     "shell.execute_reply": "2025-04-04T10:42:49.742601Z"
    },
    "slideshow": {
     "slide_type": ""
    },
    "tags": []
   },
   "outputs": [],
   "source": [
    "if \"Pineapple\" not in pizzas:\n",
    "    print(\"Not weird.\")"
   ]
  },
  {
   "cell_type": "code",
   "execution_count": 33,
   "metadata": {
    "editable": true,
    "execution": {
     "iopub.execute_input": "2025-04-04T10:42:49.744618Z",
     "iopub.status.busy": "2025-04-04T10:42:49.744447Z",
     "iopub.status.idle": "2025-04-04T10:42:49.747570Z",
     "shell.execute_reply": "2025-04-04T10:42:49.747104Z"
    },
    "slideshow": {
     "slide_type": ""
    },
    "tags": []
   },
   "outputs": [
    {
     "data": {
      "text/plain": [
       "False"
      ]
     },
     "execution_count": 33,
     "metadata": {},
     "output_type": "execute_result"
    }
   ],
   "source": [
    "\"Pineapple\" not in pizzas  # not ('Pineapple' in pizzas)"
   ]
  },
  {
   "cell_type": "code",
   "execution_count": 34,
   "metadata": {
    "editable": true,
    "execution": {
     "iopub.execute_input": "2025-04-04T10:42:49.749412Z",
     "iopub.status.busy": "2025-04-04T10:42:49.749019Z",
     "iopub.status.idle": "2025-04-04T10:42:49.752263Z",
     "shell.execute_reply": "2025-04-04T10:42:49.751863Z"
    },
    "slideshow": {
     "slide_type": ""
    },
    "tags": []
   },
   "outputs": [
    {
     "data": {
      "text/plain": [
       "False"
      ]
     },
     "execution_count": 34,
     "metadata": {},
     "output_type": "execute_result"
    }
   ],
   "source": [
    "\"Pineapple\" not in pizzas"
   ]
  },
  {
   "cell_type": "markdown",
   "metadata": {
    "editable": true,
    "slideshow": {
     "slide_type": ""
    },
    "tags": []
   },
   "source": [
    "The last two lines show that we can use `not in` for checking that something\n",
    "_is not_ in a collection. This reads more naturally."
   ]
  },
  {
   "cell_type": "markdown",
   "metadata": {
    "editable": true,
    "slideshow": {
     "slide_type": ""
    },
    "tags": []
   },
   "source": [
    "All Python objects are truth-like unless they are the value `False`, the value\n",
    "`None`, or are empty collections (such as `\"\"`, `[]`, `()`, `{}`)."
   ]
  },
  {
   "cell_type": "code",
   "execution_count": 35,
   "metadata": {
    "editable": true,
    "execution": {
     "iopub.execute_input": "2025-04-04T10:42:49.753958Z",
     "iopub.status.busy": "2025-04-04T10:42:49.753805Z",
     "iopub.status.idle": "2025-04-04T10:42:49.756345Z",
     "shell.execute_reply": "2025-04-04T10:42:49.755941Z"
    },
    "slideshow": {
     "slide_type": ""
    },
    "tags": []
   },
   "outputs": [],
   "source": [
    "if list() or dict() or tuple() or \"\":\n",
    "    print(\"You won’t see me!\")"
   ]
  },
  {
   "cell_type": "markdown",
   "metadata": {
    "editable": true,
    "slideshow": {
     "slide_type": ""
    },
    "tags": []
   },
   "source": [
    "The value `None`, which is available as the variable named `None`, is often\n",
    "used as placeholder for an empty value."
   ]
  },
  {
   "cell_type": "code",
   "execution_count": 36,
   "metadata": {
    "editable": true,
    "execution": {
     "iopub.execute_input": "2025-04-04T10:42:49.757993Z",
     "iopub.status.busy": "2025-04-04T10:42:49.757854Z",
     "iopub.status.idle": "2025-04-04T10:42:49.760075Z",
     "shell.execute_reply": "2025-04-04T10:42:49.759681Z"
    },
    "slideshow": {
     "slide_type": ""
    },
    "tags": []
   },
   "outputs": [],
   "source": [
    "favourite = None\n",
    "for p in pizzas:\n",
    "    if \"Olives\" in p:\n",
    "        favourite = p"
   ]
  },
  {
   "cell_type": "code",
   "execution_count": 37,
   "metadata": {
    "editable": true,
    "execution": {
     "iopub.execute_input": "2025-04-04T10:42:49.761663Z",
     "iopub.status.busy": "2025-04-04T10:42:49.761503Z",
     "iopub.status.idle": "2025-04-04T10:42:49.764431Z",
     "shell.execute_reply": "2025-04-04T10:42:49.764031Z"
    },
    "slideshow": {
     "slide_type": ""
    },
    "tags": []
   },
   "outputs": [
    {
     "name": "stdout",
     "output_type": "stream",
     "text": [
      "No favourite :(\n"
     ]
    }
   ],
   "source": [
    "if favourite:\n",
    "    print(f\"Found favourite: {favourite}\")\n",
    "else:\n",
    "    print(\"No favourite :(\")"
   ]
  },
  {
   "cell_type": "markdown",
   "metadata": {
    "editable": true,
    "slideshow": {
     "slide_type": ""
    },
    "tags": []
   },
   "source": [
    "It behaves as false-y value in conditions."
   ]
  },
  {
   "cell_type": "markdown",
   "metadata": {
    "editable": true,
    "slideshow": {
     "slide_type": ""
    },
    "tags": []
   },
   "source": [
    "## Conditions in loops\n",
    "\n",
    "`for` loops and comprehensions are the most common ways of iterating in Python.\n",
    "We’ve already seen that using conditions in these can be useful."
   ]
  },
  {
   "cell_type": "code",
   "execution_count": 38,
   "metadata": {
    "editable": true,
    "execution": {
     "iopub.execute_input": "2025-04-04T10:42:49.766202Z",
     "iopub.status.busy": "2025-04-04T10:42:49.765898Z",
     "iopub.status.idle": "2025-04-04T10:42:49.769277Z",
     "shell.execute_reply": "2025-04-04T10:42:49.768799Z"
    },
    "slideshow": {
     "slide_type": ""
    },
    "tags": []
   },
   "outputs": [
    {
     "data": {
      "text/plain": [
       "['Pineapple', 'Pepperoni', 'Hot dog']"
      ]
     },
     "execution_count": 38,
     "metadata": {},
     "output_type": "execute_result"
    }
   ],
   "source": [
    "not_cheesy = [p for p in pizzas if \"cheese\" not in p.lower()]\n",
    "not_cheesy"
   ]
  },
  {
   "cell_type": "markdown",
   "metadata": {
    "editable": true,
    "slideshow": {
     "slide_type": ""
    },
    "tags": []
   },
   "source": [
    "Another way of iterating is with `while`."
   ]
  },
  {
   "cell_type": "code",
   "execution_count": 39,
   "metadata": {
    "editable": true,
    "execution": {
     "iopub.execute_input": "2025-04-04T10:42:49.771178Z",
     "iopub.status.busy": "2025-04-04T10:42:49.770886Z",
     "iopub.status.idle": "2025-04-04T10:42:49.773965Z",
     "shell.execute_reply": "2025-04-04T10:42:49.773530Z"
    },
    "slideshow": {
     "slide_type": ""
    },
    "tags": []
   },
   "outputs": [
    {
     "name": "stdout",
     "output_type": "stream",
     "text": [
      "T-minus 5 seconds\n",
      "T-minus 4 seconds\n",
      "T-minus 3 seconds\n",
      "T-minus 2 seconds\n",
      "T-minus 1 seconds\n",
      "Blast off!\n"
     ]
    }
   ],
   "source": [
    "i = 5\n",
    "while i > 0:\n",
    "    print(f\"T-minus {i} seconds\")\n",
    "    # Equivalent to `i = i - 1`\n",
    "    i -= 1\n",
    "print(\"Blast off!\")"
   ]
  },
  {
   "cell_type": "markdown",
   "metadata": {
    "editable": true,
    "slideshow": {
     "slide_type": ""
    },
    "tags": []
   },
   "source": [
    "The `while` loop checks the condition, runs the block, and then re-checks the\n",
    "condition. If we don’t do something in the loop to change the result of the\n",
    "condition, we will end up looping forever!\n",
    "\n",
    "You can uncomment and run the below, you may need to stop the kernel manually with the stop button."
   ]
  },
  {
   "cell_type": "code",
   "execution_count": 40,
   "metadata": {
    "editable": true,
    "execution": {
     "iopub.execute_input": "2025-04-04T10:42:49.775688Z",
     "iopub.status.busy": "2025-04-04T10:42:49.775517Z",
     "iopub.status.idle": "2025-04-04T10:42:49.777829Z",
     "shell.execute_reply": "2025-04-04T10:42:49.777421Z"
    },
    "slideshow": {
     "slide_type": ""
    },
    "tags": []
   },
   "outputs": [],
   "source": [
    "# i = 5\n",
    "# while i > 0:\n",
    "# print('All work and no play makes Jack a dull boy')"
   ]
  },
  {
   "cell_type": "markdown",
   "metadata": {
    "editable": true,
    "slideshow": {
     "slide_type": ""
    },
    "tags": []
   },
   "source": [
    "Because we do not change the value of `i` in the loop, the condition always\n",
    "evaluates to `True`, so we’re stuck. You can stop Python running the code by\n",
    "typing the `Ctrl-c` key combination."
   ]
  },
  {
   "cell_type": "markdown",
   "metadata": {
    "editable": true,
    "slideshow": {
     "slide_type": ""
    },
    "tags": []
   },
   "source": [
    "Sometimes you want to stop iterating when some condition is met. You could\n",
    "achieve this with a `while` loop."
   ]
  },
  {
   "cell_type": "code",
   "execution_count": 41,
   "metadata": {
    "editable": true,
    "execution": {
     "iopub.execute_input": "2025-04-04T10:42:49.779481Z",
     "iopub.status.busy": "2025-04-04T10:42:49.779343Z",
     "iopub.status.idle": "2025-04-04T10:42:49.781845Z",
     "shell.execute_reply": "2025-04-04T10:42:49.781391Z"
    },
    "slideshow": {
     "slide_type": ""
    },
    "tags": []
   },
   "outputs": [],
   "source": [
    "ok = False\n",
    "i = 0\n",
    "while not ok:\n",
    "    ok = \"cheese\" in pizzas[i].lower()\n",
    "    # Equivalent to `i = i + 1`\n",
    "    i += 1"
   ]
  },
  {
   "cell_type": "code",
   "execution_count": 42,
   "metadata": {
    "editable": true,
    "execution": {
     "iopub.execute_input": "2025-04-04T10:42:49.783720Z",
     "iopub.status.busy": "2025-04-04T10:42:49.783330Z",
     "iopub.status.idle": "2025-04-04T10:42:49.786554Z",
     "shell.execute_reply": "2025-04-04T10:42:49.786069Z"
    },
    "slideshow": {
     "slide_type": ""
    },
    "tags": []
   },
   "outputs": [
    {
     "data": {
      "text/plain": [
       "2"
      ]
     },
     "execution_count": 42,
     "metadata": {},
     "output_type": "execute_result"
    }
   ],
   "source": [
    "i"
   ]
  },
  {
   "cell_type": "code",
   "execution_count": 43,
   "metadata": {
    "editable": true,
    "execution": {
     "iopub.execute_input": "2025-04-04T10:42:49.788462Z",
     "iopub.status.busy": "2025-04-04T10:42:49.788096Z",
     "iopub.status.idle": "2025-04-04T10:42:49.791356Z",
     "shell.execute_reply": "2025-04-04T10:42:49.790880Z"
    },
    "slideshow": {
     "slide_type": ""
    },
    "tags": []
   },
   "outputs": [
    {
     "data": {
      "text/plain": [
       "'Cheese'"
      ]
     },
     "execution_count": 43,
     "metadata": {},
     "output_type": "execute_result"
    }
   ],
   "source": [
    "pizzas[i - 1]"
   ]
  },
  {
   "cell_type": "markdown",
   "metadata": {
    "editable": true,
    "slideshow": {
     "slide_type": ""
    },
    "tags": []
   },
   "source": [
    "It is not nice to have to keep track of these `ok` and `i` variables. Instead,\n",
    "we can use a `for` loop, which feels much more natural when iterating over a\n",
    "collection, and `break` to stop looping (we can also use a break with a `while` loop)."
   ]
  },
  {
   "cell_type": "code",
   "execution_count": 44,
   "metadata": {
    "editable": true,
    "execution": {
     "iopub.execute_input": "2025-04-04T10:42:49.793233Z",
     "iopub.status.busy": "2025-04-04T10:42:49.792950Z",
     "iopub.status.idle": "2025-04-04T10:42:49.795477Z",
     "shell.execute_reply": "2025-04-04T10:42:49.795069Z"
    },
    "slideshow": {
     "slide_type": ""
    },
    "tags": []
   },
   "outputs": [],
   "source": [
    "for pizza in pizzas:\n",
    "    if \"cheese\" in pizza.lower():\n",
    "        yum = pizza\n",
    "        break"
   ]
  },
  {
   "cell_type": "code",
   "execution_count": 45,
   "metadata": {
    "editable": true,
    "execution": {
     "iopub.execute_input": "2025-04-04T10:42:49.797083Z",
     "iopub.status.busy": "2025-04-04T10:42:49.796933Z",
     "iopub.status.idle": "2025-04-04T10:42:49.800043Z",
     "shell.execute_reply": "2025-04-04T10:42:49.799549Z"
    },
    "slideshow": {
     "slide_type": ""
    },
    "tags": []
   },
   "outputs": [
    {
     "data": {
      "text/plain": [
       "'Cheese'"
      ]
     },
     "execution_count": 45,
     "metadata": {},
     "output_type": "execute_result"
    }
   ],
   "source": [
    "yum"
   ]
  },
  {
   "cell_type": "code",
   "execution_count": null,
   "metadata": {
    "editable": true,
    "slideshow": {
     "slide_type": ""
    },
    "tags": []
   },
   "outputs": [],
   "source": []
  },
  {
   "cell_type": "code",
   "execution_count": null,
   "metadata": {
    "editable": true,
    "slideshow": {
     "slide_type": ""
    },
    "tags": []
   },
   "outputs": [],
   "source": []
  }
 ],
 "metadata": {
  "language_info": {
   "codemirror_mode": {
    "name": "ipython",
    "version": 3
   },
   "file_extension": ".py",
   "mimetype": "text/x-python",
   "name": "python",
   "nbconvert_exporter": "python",
   "pygments_lexer": "ipython3",
   "version": "3.11.11"
  }
 },
 "nbformat": 4,
 "nbformat_minor": 4
}
