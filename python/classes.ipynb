{
 "cells": [
  {
   "cell_type": "markdown",
   "metadata": {},
   "source": [
    "# Classes\n",
    "\n",
    "In programming, classes, or more general OOP (Object Oriented Programing) is a fundamental paradigm (next to others, e.g. functional programming). It is powerful and e.g. Java is fully based on it. Python is a multi-paradigm (and multi-everything anyway) language, meaning there are classes, functions etc.\n",
    "\n",
    "However, classes play in Python an extremely important role - although one does not directly have to know about it - since actually every object in Python \"comes from a class\". But we're going ahead of things.\n",
    "\n",
    "Let's start with an example problem"
   ]
  },
  {
   "cell_type": "markdown",
   "metadata": {},
   "source": [
    "We want to do some calculations with particles and their momenta, e.g. to calculate their invariant mass.\n",
    "(we focus on just one particle here, sure we could use lists but this means to keep track of which entry is which etc.)"
   ]
  },
  {
   "cell_type": "code",
   "execution_count": 1,
   "metadata": {
    "execution": {
     "iopub.execute_input": "2024-02-06T01:09:54.708732Z",
     "iopub.status.busy": "2024-02-06T01:09:54.708357Z",
     "iopub.status.idle": "2024-02-06T01:09:54.767599Z",
     "shell.execute_reply": "2024-02-06T01:09:54.767123Z"
    }
   },
   "outputs": [],
   "source": [
    "import numpy as np"
   ]
  },
  {
   "cell_type": "code",
   "execution_count": 2,
   "metadata": {
    "execution": {
     "iopub.execute_input": "2024-02-06T01:09:54.770984Z",
     "iopub.status.busy": "2024-02-06T01:09:54.770079Z",
     "iopub.status.idle": "2024-02-06T01:09:54.774291Z",
     "shell.execute_reply": "2024-02-06T01:09:54.773875Z"
    }
   },
   "outputs": [],
   "source": [
    "# particle 'pi1'\n",
    "pi1_px = 10\n",
    "pi1_py = 20\n",
    "pi1_pz = 30\n",
    "pi1_E = 100\n",
    "\n",
    "\n",
    "def calc_mass_simple(px, py, pz, E):\n",
    "    return np.sqrt(E ** 2 - (px ** 2 + py ** 2 + pz ** 2))"
   ]
  },
  {
   "cell_type": "code",
   "execution_count": 3,
   "metadata": {
    "execution": {
     "iopub.execute_input": "2024-02-06T01:09:54.777302Z",
     "iopub.status.busy": "2024-02-06T01:09:54.776498Z",
     "iopub.status.idle": "2024-02-06T01:09:54.783862Z",
     "shell.execute_reply": "2024-02-06T01:09:54.783438Z"
    }
   },
   "outputs": [
    {
     "data": {
      "text/plain": [
       "92.73618495495704"
      ]
     },
     "execution_count": 3,
     "metadata": {},
     "output_type": "execute_result"
    }
   ],
   "source": [
    "calc_mass_simple(pi1_px, pi1_py, pi1_pz, pi1_E)"
   ]
  },
  {
   "cell_type": "markdown",
   "metadata": {},
   "source": [
    "Alright, but clearly cumbersome. Better: if we could stick it together. Let's use a dict!"
   ]
  },
  {
   "cell_type": "code",
   "execution_count": 4,
   "metadata": {
    "execution": {
     "iopub.execute_input": "2024-02-06T01:09:54.786886Z",
     "iopub.status.busy": "2024-02-06T01:09:54.786061Z",
     "iopub.status.idle": "2024-02-06T01:09:54.790224Z",
     "shell.execute_reply": "2024-02-06T01:09:54.789808Z"
    }
   },
   "outputs": [],
   "source": [
    "pi1 = {'px': 10,\n",
    "       'py': 20,\n",
    "       'pz': 30,\n",
    "       'E': 100}\n",
    "\n",
    "\n",
    "def calc_mass(particle):\n",
    "    momentum = particle['px'] ** 2 + particle['py'] ** 2 + particle['pz'] ** 2\n",
    "    return np.sqrt(particle['E'] ** 2 - momentum)"
   ]
  },
  {
   "cell_type": "code",
   "execution_count": 5,
   "metadata": {
    "execution": {
     "iopub.execute_input": "2024-02-06T01:09:54.793217Z",
     "iopub.status.busy": "2024-02-06T01:09:54.792404Z",
     "iopub.status.idle": "2024-02-06T01:09:54.797454Z",
     "shell.execute_reply": "2024-02-06T01:09:54.797039Z"
    }
   },
   "outputs": [
    {
     "data": {
      "text/plain": [
       "92.73618495495704"
      ]
     },
     "execution_count": 5,
     "metadata": {},
     "output_type": "execute_result"
    }
   ],
   "source": [
    "calc_mass(particle=pi1)"
   ]
  },
  {
   "cell_type": "markdown",
   "metadata": {},
   "source": [
    "That looks better! But now, `calc_mass` critically depends on the structure of `pi1` if we e.g. want to create new particles. How can we \"communicate\" that well? (sure, docstrings, but is there a more \"formal way\"?)"
   ]
  },
  {
   "cell_type": "markdown",
   "metadata": {},
   "source": [
    "Furthermore: calc_mass somehow \"belongs\" to pi1, we want to calculate the mass of it. We always use `calc_mass` together with a particle dict."
   ]
  },
  {
   "cell_type": "code",
   "execution_count": 6,
   "metadata": {
    "execution": {
     "iopub.execute_input": "2024-02-06T01:09:54.800562Z",
     "iopub.status.busy": "2024-02-06T01:09:54.799754Z",
     "iopub.status.idle": "2024-02-06T01:09:54.803325Z",
     "shell.execute_reply": "2024-02-06T01:09:54.802899Z"
    }
   },
   "outputs": [],
   "source": [
    "# trial to connect together\n",
    "pi1 = {'px': 10,\n",
    "       'py': 20,\n",
    "       'pz': 30,\n",
    "       'E': 100,\n",
    "       'mass': calc_mass}  # why not call it mass? it's the mass of the particle"
   ]
  },
  {
   "cell_type": "code",
   "execution_count": 7,
   "metadata": {
    "execution": {
     "iopub.execute_input": "2024-02-06T01:09:54.807560Z",
     "iopub.status.busy": "2024-02-06T01:09:54.805466Z",
     "iopub.status.idle": "2024-02-06T01:09:54.811827Z",
     "shell.execute_reply": "2024-02-06T01:09:54.811418Z"
    }
   },
   "outputs": [
    {
     "data": {
      "text/plain": [
       "92.73618495495704"
      ]
     },
     "execution_count": 7,
     "metadata": {},
     "output_type": "execute_result"
    }
   ],
   "source": [
    "pi1['mass'](pi1)"
   ]
  },
  {
   "cell_type": "markdown",
   "metadata": {},
   "source": [
    "Cumbersome, but better, we get there! For the communication, what we want is a \"template\"/blueprint dict. So that if we want to create a new particle, we have to make sure to specify px, py, pz and E in the dict (so that it is valid). And then to also add the `calc_mass` function."
   ]
  },
  {
   "cell_type": "code",
   "execution_count": 8,
   "metadata": {
    "execution": {
     "iopub.execute_input": "2024-02-06T01:09:54.814836Z",
     "iopub.status.busy": "2024-02-06T01:09:54.814003Z",
     "iopub.status.idle": "2024-02-06T01:09:54.817735Z",
     "shell.execute_reply": "2024-02-06T01:09:54.817315Z"
    }
   },
   "outputs": [],
   "source": [
    "def make_particle(px, py, pz, E):\n",
    "    return {'px': px,\n",
    "            'py': py,\n",
    "            'pz': pz,\n",
    "            'E': E,\n",
    "            'mass': calc_mass}"
   ]
  },
  {
   "cell_type": "code",
   "execution_count": 9,
   "metadata": {
    "execution": {
     "iopub.execute_input": "2024-02-06T01:09:54.820709Z",
     "iopub.status.busy": "2024-02-06T01:09:54.819914Z",
     "iopub.status.idle": "2024-02-06T01:09:54.825172Z",
     "shell.execute_reply": "2024-02-06T01:09:54.824758Z"
    }
   },
   "outputs": [
    {
     "data": {
      "text/plain": [
       "0.5113475212892835"
      ]
     },
     "execution_count": 9,
     "metadata": {},
     "output_type": "execute_result"
    }
   ],
   "source": [
    "e1 = make_particle(20, 30, 20, E=41.234227)\n",
    "e1['mass'](e1)"
   ]
  },
  {
   "cell_type": "markdown",
   "metadata": {},
   "source": [
    "Ok, no we get picky: let's split the above even more (just one last time)"
   ]
  },
  {
   "cell_type": "code",
   "execution_count": 10,
   "metadata": {
    "execution": {
     "iopub.execute_input": "2024-02-06T01:09:54.828004Z",
     "iopub.status.busy": "2024-02-06T01:09:54.827339Z",
     "iopub.status.idle": "2024-02-06T01:09:54.831053Z",
     "shell.execute_reply": "2024-02-06T01:09:54.830711Z"
    }
   },
   "outputs": [],
   "source": [
    "def make_particle():\n",
    "    return {'px': None,\n",
    "            'py': None,\n",
    "            'pz': None,\n",
    "            'E': None,\n",
    "            'mass': calc_mass}\n",
    "\n",
    "\n",
    "def initialize_particle(particle, px, py, pz, E):\n",
    "    particle['px'] = px\n",
    "    particle['py'] = py\n",
    "    particle['pz'] = pz\n",
    "    particle['E'] = E\n",
    "    return particle\n",
    "\n",
    "\n",
    "particle1 = initialize_particle(make_particle(), px=20, py=30, pz=20, E=50)"
   ]
  },
  {
   "cell_type": "code",
   "execution_count": 11,
   "metadata": {
    "execution": {
     "iopub.execute_input": "2024-02-06T01:09:54.833127Z",
     "iopub.status.busy": "2024-02-06T01:09:54.832824Z",
     "iopub.status.idle": "2024-02-06T01:09:54.835892Z",
     "shell.execute_reply": "2024-02-06T01:09:54.835408Z"
    }
   },
   "outputs": [
    {
     "data": {
      "text/plain": [
       "28.284271247461902"
      ]
     },
     "execution_count": 11,
     "metadata": {},
     "output_type": "execute_result"
    }
   ],
   "source": [
    "# \"magic line\"\n",
    "particle1['mass'](particle1)"
   ]
  },
  {
   "cell_type": "code",
   "execution_count": null,
   "metadata": {},
   "outputs": [],
   "source": []
  },
  {
   "cell_type": "markdown",
   "metadata": {},
   "source": [
    "The call to calculate the mass is still not perfect: We want something that \n",
    "- \"feeds itself to the function called\".\n",
    "- is created through a function (\"constructor\")\n",
    "- has attributes (better then this ['...'] accesing would be with the dot)\n",
    "\n",
    "...more like this:\n",
    "`particle1.calc_mass()`"
   ]
  },
  {
   "cell_type": "markdown",
   "metadata": {},
   "source": [
    "## Welcome to classes\n",
    "\n",
    "**A class is a blueprint of an object**"
   ]
  },
  {
   "cell_type": "code",
   "execution_count": 12,
   "metadata": {
    "execution": {
     "iopub.execute_input": "2024-02-06T01:09:54.837474Z",
     "iopub.status.busy": "2024-02-06T01:09:54.837318Z",
     "iopub.status.idle": "2024-02-06T01:09:54.840287Z",
     "shell.execute_reply": "2024-02-06T01:09:54.839826Z"
    }
   },
   "outputs": [],
   "source": [
    "class SimpleParticle:\n",
    "    # what we don't see: before the __init__, there is a (automatic) make_particle. Normally we don't need it\n",
    "    # the initialiser, basically initialize_particle\n",
    "    def __init__(self, px, py, pz, E):  # self is the instance, the future object.\n",
    "        self.px = px\n",
    "        self.py = py\n",
    "        self.pz = pz\n",
    "        self.E = E\n",
    "        \n",
    "    def calc_mass(self):\n",
    "        # why not reuse the one from above?\n",
    "        return calc_mass_simple(px=self.px, py=self.py, pz=self.pz, E=self.E)"
   ]
  },
  {
   "cell_type": "markdown",
   "metadata": {},
   "source": [
    "Let's use it!"
   ]
  },
  {
   "cell_type": "code",
   "execution_count": 13,
   "metadata": {
    "execution": {
     "iopub.execute_input": "2024-02-06T01:09:54.841816Z",
     "iopub.status.busy": "2024-02-06T01:09:54.841666Z",
     "iopub.status.idle": "2024-02-06T01:09:54.844094Z",
     "shell.execute_reply": "2024-02-06T01:09:54.843628Z"
    }
   },
   "outputs": [],
   "source": [
    "# where is __init__ called? (magic method again)\n",
    "# answer: when calling the class\n",
    "particle1 = SimpleParticle(20, 30, pz=40, E=80)  # NOT equivalent to Particle.__init__(), because\n",
    "                                      # it calls a constructor before (make_particle)"
   ]
  },
  {
   "cell_type": "code",
   "execution_count": 14,
   "metadata": {
    "execution": {
     "iopub.execute_input": "2024-02-06T01:09:54.845880Z",
     "iopub.status.busy": "2024-02-06T01:09:54.845599Z",
     "iopub.status.idle": "2024-02-06T01:09:54.848851Z",
     "shell.execute_reply": "2024-02-06T01:09:54.848394Z"
    }
   },
   "outputs": [
    {
     "data": {
      "text/plain": [
       "59.16079783099616"
      ]
     },
     "execution_count": 14,
     "metadata": {},
     "output_type": "execute_result"
    }
   ],
   "source": [
    "particle1.calc_mass()  # where did self go?"
   ]
  },
  {
   "cell_type": "markdown",
   "metadata": {},
   "source": [
    "In a class, `self` is given _automatically_ as the first argument! Hereby, we solved our odd problem from above."
   ]
  },
  {
   "cell_type": "markdown",
   "metadata": {},
   "source": [
    "Furthermore, we can now access attributes instead of using the `[...]`"
   ]
  },
  {
   "cell_type": "code",
   "execution_count": 15,
   "metadata": {
    "execution": {
     "iopub.execute_input": "2024-02-06T01:09:54.850599Z",
     "iopub.status.busy": "2024-02-06T01:09:54.850277Z",
     "iopub.status.idle": "2024-02-06T01:09:54.853347Z",
     "shell.execute_reply": "2024-02-06T01:09:54.852876Z"
    }
   },
   "outputs": [
    {
     "data": {
      "text/plain": [
       "40"
      ]
     },
     "execution_count": 15,
     "metadata": {},
     "output_type": "execute_result"
    }
   ],
   "source": [
    "particle1.pz"
   ]
  },
  {
   "cell_type": "markdown",
   "metadata": {},
   "source": [
    "That's what we want!"
   ]
  },
  {
   "cell_type": "markdown",
   "metadata": {},
   "source": [
    "Exercise: override the `__add__` method to make two particle addable. Name it `Particle`\n",
    "Hint: you need to construct a new Particle\n",
    "\n",
    "STOP SCROLLING, SOLUTION AHEAD!\n",
    "\n",
    "\n",
    "\n",
    "\n",
    "\n",
    "\n",
    "\n",
    "STOP SCROLLING, SOLUTION AHEAD!\n",
    "\n",
    "\n",
    "\n",
    "\n",
    "\n",
    "\n",
    "\n",
    "STOP SCROLLING, SOLUTION AHEAD!\n",
    "\n",
    "\n",
    "\n",
    "\n",
    "\n",
    "\n",
    "\n",
    "STOP SCROLLING, SOLUTION AHEAD!"
   ]
  },
  {
   "cell_type": "code",
   "execution_count": 16,
   "metadata": {
    "execution": {
     "iopub.execute_input": "2024-02-06T01:09:54.855164Z",
     "iopub.status.busy": "2024-02-06T01:09:54.854881Z",
     "iopub.status.idle": "2024-02-06T01:09:54.858543Z",
     "shell.execute_reply": "2024-02-06T01:09:54.858027Z"
    }
   },
   "outputs": [],
   "source": [
    "class Particle:\n",
    "    # what we don't see: before the __init__, there is a (automatic) make_particle. Normally we don't need it.\n",
    "\n",
    "    # This is the initialiser, basically initialize_particle\n",
    "    def __init__(self, px, py, pz, E):  # self is the instance, the future object.\n",
    "        self.px = px\n",
    "        self.py = py\n",
    "        self.pz = pz\n",
    "        self.E = E\n",
    "        \n",
    "    def calc_mass(self):\n",
    "        # why not reuse the one from above?\n",
    "        return calc_mass_simple(px=self.px, py=self.py, pz=self.pz, E=self.E)\n",
    "    \n",
    "    def __add__(self, other):\n",
    "        new_px = self.px + other.px\n",
    "        new_py = self.py + other.py\n",
    "        new_pz = self.pz + other.pz\n",
    "        new_E = self.E + other.E\n",
    "        return Particle(new_px, new_py, new_pz, new_E)"
   ]
  },
  {
   "cell_type": "code",
   "execution_count": 17,
   "metadata": {
    "execution": {
     "iopub.execute_input": "2024-02-06T01:09:54.860226Z",
     "iopub.status.busy": "2024-02-06T01:09:54.859923Z",
     "iopub.status.idle": "2024-02-06T01:09:54.862295Z",
     "shell.execute_reply": "2024-02-06T01:09:54.861923Z"
    }
   },
   "outputs": [],
   "source": [
    "particle1 = Particle(10, 20, 30, 100)\n",
    "particle2 = Particle(50, 10, 20, 200)\n",
    "\n",
    "# test it here\n",
    "new_particle = particle1 + particle2"
   ]
  },
  {
   "cell_type": "markdown",
   "metadata": {
    "slideshow": {
     "slide_type": "slide"
    }
   },
   "source": [
    "## Inheritance: a glance"
   ]
  },
  {
   "cell_type": "markdown",
   "metadata": {},
   "source": [
    "Instead of completely rewriting `Particle`, we can also inherit the class from it. This means we \"overtake\" the parent class and add/replace certain fields."
   ]
  },
  {
   "cell_type": "code",
   "execution_count": 18,
   "metadata": {
    "execution": {
     "iopub.execute_input": "2024-02-06T01:09:54.864133Z",
     "iopub.status.busy": "2024-02-06T01:09:54.863840Z",
     "iopub.status.idle": "2024-02-06T01:09:54.866319Z",
     "shell.execute_reply": "2024-02-06T01:09:54.865934Z"
    }
   },
   "outputs": [],
   "source": [
    "class VerboseParticle(Particle):  # This is inheritance\n",
    "    \n",
    "    def momentum_text(self):\n",
    "        return f\"px: {self.px}, py: {self.py}, pz: {self.pz}\"\n",
    "    "
   ]
  },
  {
   "cell_type": "code",
   "execution_count": 19,
   "metadata": {
    "execution": {
     "iopub.execute_input": "2024-02-06T01:09:54.868135Z",
     "iopub.status.busy": "2024-02-06T01:09:54.867825Z",
     "iopub.status.idle": "2024-02-06T01:09:54.870377Z",
     "shell.execute_reply": "2024-02-06T01:09:54.869916Z"
    }
   },
   "outputs": [],
   "source": [
    "# test it here again\n",
    "particle1 = VerboseParticle(10, 10, 10, 50)\n",
    "particle2 = VerboseParticle(10, 10, 10, 50)\n",
    "new_particle = particle1 + particle2"
   ]
  },
  {
   "cell_type": "code",
   "execution_count": 20,
   "metadata": {
    "execution": {
     "iopub.execute_input": "2024-02-06T01:09:54.872129Z",
     "iopub.status.busy": "2024-02-06T01:09:54.871838Z",
     "iopub.status.idle": "2024-02-06T01:09:54.874882Z",
     "shell.execute_reply": "2024-02-06T01:09:54.874468Z"
    }
   },
   "outputs": [
    {
     "data": {
      "text/plain": [
       "__main__.Particle"
      ]
     },
     "execution_count": 20,
     "metadata": {},
     "output_type": "execute_result"
    }
   ],
   "source": [
    "type(new_particle)"
   ]
  },
  {
   "cell_type": "markdown",
   "metadata": {
    "pycharm": {
     "name": "#%% md\n"
    }
   },
   "source": [
    "We have one problem now: the particle is again a `Particle`, not a `VerboseParticle`. This is because we \"hardcoded\"\n",
    "the name into the `__add__` method.\n",
    "\n",
    "### How to fix\n",
    "Let's first step back. We have seen quite a few things in this lecture. This was an introduction into classes in a\n",
    "minimal time. Classes are a powerful yet non-trivial concept that require to know a lot more than the simple behavior\n",
    "that we just looked at. There are many concepts - interfaces, multiple inheritance and MRO, inheritance vs composition,\n",
    "private vs public, getter and setter, stateful/stateless, classmethods and staticmethods, ... - that we just did not\n",
    "cover here, as it takes a full fledged course on OOP to master these things.\n",
    "\n",
    "The problem above should make one thing clear: it is a powerful, yet difficult tool to use and without the proper\n",
    "knowledge, things can go wrong in completely unexpected corners; that's why good software practices are not just\n",
    "a nice-to-have but a mandatory asset to guarantee the best-possible (most bugfree) codebase.\n",
    "\n",
    "How to actually fix it: instead of `Particle`, we can use the class dynamically itself.\n",
    "`type` comes in handy: this may has been encountered as a tool to return the type of an object. But this type\n",
    "_is exactly the class we need!_.\n",
    "\n",
    "(Sidenote: be aware of `isinstance` vs `type`, use the former if not explicitly type has to be used.)\n",
    "\n",
    "So we can replace the call in `__add__` as follows. Instead of\n",
    "```return Particle(new_px, new_py, new_pz, new_E)```\n",
    "we have\n",
    "```return type(self)(new_px, new_py, new_pz, new_E)```\n",
    "\n",
    "\n"
   ]
  },
  {
   "cell_type": "code",
   "execution_count": 21,
   "metadata": {
    "execution": {
     "iopub.execute_input": "2024-02-06T01:09:54.876455Z",
     "iopub.status.busy": "2024-02-06T01:09:54.876314Z",
     "iopub.status.idle": "2024-02-06T01:09:54.878978Z",
     "shell.execute_reply": "2024-02-06T01:09:54.878585Z"
    }
   },
   "outputs": [],
   "source": [
    "class BetterParticle(Particle):\n",
    "    def __init__(self, px, py, pz, E, superpower=42):\n",
    "        super().__init__(px, py, pz, E)\n",
    "        self.superpower = superpower\n",
    "        "
   ]
  }
 ],
 "metadata": {
  "kernelspec": {
   "display_name": "Python 3",
   "language": "python",
   "name": "python3"
  },
  "language_info": {
   "codemirror_mode": {
    "name": "ipython",
    "version": 3
   },
   "file_extension": ".py",
   "mimetype": "text/x-python",
   "name": "python",
   "nbconvert_exporter": "python",
   "pygments_lexer": "ipython3",
   "version": "3.11.7"
  }
 },
 "nbformat": 4,
 "nbformat_minor": 2
}
