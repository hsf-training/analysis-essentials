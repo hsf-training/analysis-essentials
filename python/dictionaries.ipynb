{
 "cells": [
  {
   "cell_type": "markdown",
   "metadata": {
    "editable": true,
    "slideshow": {
     "slide_type": ""
    },
    "tags": []
   },
   "source": [
    "# Dictionaries\n",
    "\n",
    "You can think of lists as a _mapping_ from indices to values. The indices are\n",
    "always integers and go from `0` to `len(the_list) - 1`, and the values are the\n",
    "items.\n",
    "\n",
    "Dictionaries are collections, just like lists, but they have important\n",
    "differences:\n",
    "\n",
    "* lists map sequential numeric indices to items, whereas dictionaries can map\n",
    "  most object types to any object,\n",
    "* lists are _ordered_ collections of items, whereas dictionaries have no\n",
    "  ordering.\n",
    "\n",
    "Since anything can be used as index for an item, indices must be always\n",
    "specified when creating a dictionary:"
   ]
  },
  {
   "cell_type": "code",
   "execution_count": 1,
   "metadata": {
    "editable": true,
    "execution": {
     "iopub.execute_input": "2025-02-10T16:39:04.755407Z",
     "iopub.status.busy": "2025-02-10T16:39:04.755243Z",
     "iopub.status.idle": "2025-02-10T16:39:04.760264Z",
     "shell.execute_reply": "2025-02-10T16:39:04.759758Z"
    },
    "slideshow": {
     "slide_type": ""
    },
    "tags": []
   },
   "outputs": [],
   "source": [
    "import math"
   ]
  },
  {
   "cell_type": "code",
   "execution_count": 2,
   "metadata": {
    "editable": true,
    "execution": {
     "iopub.execute_input": "2025-02-10T16:39:04.761997Z",
     "iopub.status.busy": "2025-02-10T16:39:04.761837Z",
     "iopub.status.idle": "2025-02-10T16:39:04.766859Z",
     "shell.execute_reply": "2025-02-10T16:39:04.766377Z"
    },
    "slideshow": {
     "slide_type": ""
    },
    "tags": []
   },
   "outputs": [
    {
     "data": {
      "text/plain": [
       "0.5"
      ]
     },
     "execution_count": 2,
     "metadata": {},
     "output_type": "execute_result"
    }
   ],
   "source": [
    "d = {1: 0.5, 'excellent index': math.sin, 0.1: 2}\n",
    "d[1]"
   ]
  },
  {
   "cell_type": "code",
   "execution_count": 3,
   "metadata": {
    "editable": true,
    "execution": {
     "iopub.execute_input": "2025-02-10T16:39:04.768760Z",
     "iopub.status.busy": "2025-02-10T16:39:04.768464Z",
     "iopub.status.idle": "2025-02-10T16:39:04.771906Z",
     "shell.execute_reply": "2025-02-10T16:39:04.771435Z"
    },
    "slideshow": {
     "slide_type": ""
    },
    "tags": []
   },
   "outputs": [
    {
     "data": {
      "text/plain": [
       "<function math.sin(x, /)>"
      ]
     },
     "execution_count": 3,
     "metadata": {},
     "output_type": "execute_result"
    }
   ],
   "source": [
    "d['excellent index']"
   ]
  },
  {
   "cell_type": "code",
   "execution_count": 4,
   "metadata": {
    "editable": true,
    "execution": {
     "iopub.execute_input": "2025-02-10T16:39:04.773769Z",
     "iopub.status.busy": "2025-02-10T16:39:04.773468Z",
     "iopub.status.idle": "2025-02-10T16:39:04.775924Z",
     "shell.execute_reply": "2025-02-10T16:39:04.775512Z"
    },
    "slideshow": {
     "slide_type": ""
    },
    "tags": []
   },
   "outputs": [],
   "source": [
    "d[0.1] = 3"
   ]
  },
  {
   "cell_type": "markdown",
   "metadata": {
    "editable": true,
    "slideshow": {
     "slide_type": ""
    },
    "tags": []
   },
   "source": [
    "The \"indices\" of a dictionary are called **keys**, and the things they map to\n",
    "are **values**. Together, each key-value pair is an **item**."
   ]
  },
  {
   "cell_type": "code",
   "execution_count": 5,
   "metadata": {
    "editable": true,
    "execution": {
     "iopub.execute_input": "2025-02-10T16:39:04.777889Z",
     "iopub.status.busy": "2025-02-10T16:39:04.777454Z",
     "iopub.status.idle": "2025-02-10T16:39:04.780898Z",
     "shell.execute_reply": "2025-02-10T16:39:04.780410Z"
    },
    "slideshow": {
     "slide_type": ""
    },
    "tags": []
   },
   "outputs": [
    {
     "data": {
      "text/plain": [
       "dict_keys([1, 'excellent index', 0.1])"
      ]
     },
     "execution_count": 5,
     "metadata": {},
     "output_type": "execute_result"
    }
   ],
   "source": [
    "d.keys()"
   ]
  },
  {
   "cell_type": "code",
   "execution_count": 6,
   "metadata": {
    "editable": true,
    "execution": {
     "iopub.execute_input": "2025-02-10T16:39:04.782800Z",
     "iopub.status.busy": "2025-02-10T16:39:04.782405Z",
     "iopub.status.idle": "2025-02-10T16:39:04.785782Z",
     "shell.execute_reply": "2025-02-10T16:39:04.785309Z"
    },
    "slideshow": {
     "slide_type": ""
    },
    "tags": []
   },
   "outputs": [
    {
     "data": {
      "text/plain": [
       "dict_values([0.5, <built-in function sin>, 3])"
      ]
     },
     "execution_count": 6,
     "metadata": {},
     "output_type": "execute_result"
    }
   ],
   "source": [
    "d.values()"
   ]
  },
  {
   "cell_type": "code",
   "execution_count": 7,
   "metadata": {
    "editable": true,
    "execution": {
     "iopub.execute_input": "2025-02-10T16:39:04.787571Z",
     "iopub.status.busy": "2025-02-10T16:39:04.787418Z",
     "iopub.status.idle": "2025-02-10T16:39:04.790803Z",
     "shell.execute_reply": "2025-02-10T16:39:04.790397Z"
    },
    "slideshow": {
     "slide_type": ""
    },
    "tags": []
   },
   "outputs": [
    {
     "data": {
      "text/plain": [
       "{1: 0.5, 'excellent index': <function math.sin(x, /)>, 0.1: 3}"
      ]
     },
     "execution_count": 7,
     "metadata": {},
     "output_type": "execute_result"
    }
   ],
   "source": [
    "d"
   ]
  },
  {
   "cell_type": "markdown",
   "metadata": {
    "editable": true,
    "slideshow": {
     "slide_type": ""
    },
    "tags": []
   },
   "source": [
    "As you can see, the values of a dictionary can be whatever we like, and need not\n",
    "be the same type of object.\n",
    "\n",
    "You can see that the order of the keys, values and items we get back are not the\n",
    "same as the order we created the dictionary with. If you run the same example on\n",
    "your own you might get a different ordering. This is what we mean when we define\n",
    "dictionaries as _unordered collections_: when you iterate over its content, you\n",
    "cannot rely on the ordering.\n",
    "\n",
    "It is however guaranteed that the _n_-th item returned by `keys()` corresponds\n",
    "to the _n_-th item returned by `values()`. This allows the following example\n",
    "to work flawlessly:"
   ]
  },
  {
   "cell_type": "code",
   "execution_count": 8,
   "metadata": {
    "editable": true,
    "execution": {
     "iopub.execute_input": "2025-02-10T16:39:04.792468Z",
     "iopub.status.busy": "2025-02-10T16:39:04.792307Z",
     "iopub.status.idle": "2025-02-10T16:39:04.795212Z",
     "shell.execute_reply": "2025-02-10T16:39:04.794732Z"
    },
    "slideshow": {
     "slide_type": ""
    },
    "tags": []
   },
   "outputs": [
    {
     "name": "stdout",
     "output_type": "stream",
     "text": [
      "1 : 0.5\n",
      "excellent index : <built-in function sin>\n",
      "0.1 : 3\n"
     ]
    }
   ],
   "source": [
    "for key, value in zip(d.keys(), d.values()):\n",
    "    print(key, ':', value)"
   ]
  },
  {
   "cell_type": "markdown",
   "metadata": {
    "editable": true,
    "slideshow": {
     "slide_type": ""
    },
    "tags": []
   },
   "source": [
    "Of course, this could be considerably simpler just by using `items()`, which\n",
    "gives us _tuples of key-value pairs_."
   ]
  },
  {
   "cell_type": "code",
   "execution_count": 9,
   "metadata": {
    "editable": true,
    "execution": {
     "iopub.execute_input": "2025-02-10T16:39:04.796929Z",
     "iopub.status.busy": "2025-02-10T16:39:04.796773Z",
     "iopub.status.idle": "2025-02-10T16:39:04.799621Z",
     "shell.execute_reply": "2025-02-10T16:39:04.799116Z"
    },
    "slideshow": {
     "slide_type": ""
    },
    "tags": []
   },
   "outputs": [
    {
     "name": "stdout",
     "output_type": "stream",
     "text": [
      "1 : 0.5\n",
      "excellent index : <built-in function sin>\n",
      "0.1 : 3\n"
     ]
    }
   ],
   "source": [
    "for key, value in d.items():\n",
    "    print(key, ':', value)"
   ]
  },
  {
   "cell_type": "markdown",
   "metadata": {
    "editable": true,
    "slideshow": {
     "slide_type": ""
    },
    "tags": []
   },
   "source": [
    "We can create dictionaries from lists of 2-item lists."
   ]
  },
  {
   "cell_type": "code",
   "execution_count": 10,
   "metadata": {
    "editable": true,
    "execution": {
     "iopub.execute_input": "2025-02-10T16:39:04.801563Z",
     "iopub.status.busy": "2025-02-10T16:39:04.801151Z",
     "iopub.status.idle": "2025-02-10T16:39:04.804651Z",
     "shell.execute_reply": "2025-02-10T16:39:04.804174Z"
    },
    "slideshow": {
     "slide_type": ""
    },
    "tags": []
   },
   "outputs": [
    {
     "data": {
      "text/plain": [
       "{0: 'a thing', 1: 'another'}"
      ]
     },
     "execution_count": 10,
     "metadata": {},
     "output_type": "execute_result"
    }
   ],
   "source": [
    "dict(enumerate(['a thing', 'another']))"
   ]
  },
  {
   "cell_type": "markdown",
   "metadata": {
    "editable": true,
    "slideshow": {
     "slide_type": ""
    },
    "tags": []
   },
   "source": [
    "And also with _dictionary comprehensions_, in a similar manner to list\n",
    "comprehensions, with the additional specification of the key."
   ]
  },
  {
   "cell_type": "code",
   "execution_count": 11,
   "metadata": {
    "editable": true,
    "execution": {
     "iopub.execute_input": "2025-02-10T16:39:04.806496Z",
     "iopub.status.busy": "2025-02-10T16:39:04.806123Z",
     "iopub.status.idle": "2025-02-10T16:39:04.809626Z",
     "shell.execute_reply": "2025-02-10T16:39:04.809148Z"
    },
    "slideshow": {
     "slide_type": ""
    },
    "tags": []
   },
   "outputs": [
    {
     "data": {
      "text/plain": [
       "{0: 1, 1: 1, 2: 4, 4: 256}"
      ]
     },
     "execution_count": 11,
     "metadata": {},
     "output_type": "execute_result"
    }
   ],
   "source": [
    "{i: i**i for i in range(5) if i != 3}"
   ]
  },
  {
   "cell_type": "markdown",
   "metadata": {
    "editable": true,
    "slideshow": {
     "slide_type": ""
    },
    "tags": []
   },
   "source": [
    "## Dictionary keys\n",
    "\n",
    "There is no restriction on values a dictionary might hold, but there is on keys."
   ]
  },
  {
   "cell_type": "code",
   "execution_count": 12,
   "metadata": {
    "editable": true,
    "execution": {
     "iopub.execute_input": "2025-02-10T16:39:04.811616Z",
     "iopub.status.busy": "2025-02-10T16:39:04.811448Z",
     "iopub.status.idle": "2025-02-10T16:39:04.813969Z",
     "shell.execute_reply": "2025-02-10T16:39:04.813521Z"
    },
    "slideshow": {
     "slide_type": ""
    },
    "tags": []
   },
   "outputs": [],
   "source": [
    "numbers = [1, 4, 3]"
   ]
  },
  {
   "cell_type": "code",
   "execution_count": 13,
   "metadata": {
    "editable": true,
    "execution": {
     "iopub.execute_input": "2025-02-10T16:39:04.815830Z",
     "iopub.status.busy": "2025-02-10T16:39:04.815468Z",
     "iopub.status.idle": "2025-02-10T16:39:04.817736Z",
     "shell.execute_reply": "2025-02-10T16:39:04.817350Z"
    },
    "slideshow": {
     "slide_type": ""
    },
    "tags": []
   },
   "outputs": [],
   "source": [
    "dd = {}"
   ]
  },
  {
   "cell_type": "code",
   "execution_count": 14,
   "metadata": {
    "execution": {
     "iopub.execute_input": "2025-02-10T16:39:04.819393Z",
     "iopub.status.busy": "2025-02-10T16:39:04.819241Z",
     "iopub.status.idle": "2025-02-10T16:39:04.940544Z",
     "shell.execute_reply": "2025-02-10T16:39:04.940069Z"
    },
    "tags": [
     "raises-exception"
    ]
   },
   "outputs": [
    {
     "ename": "TypeError",
     "evalue": "unhashable type: 'list'",
     "output_type": "error",
     "traceback": [
      "\u001b[0;31m---------------------------------------------------------------------------\u001b[0m",
      "\u001b[0;31mTypeError\u001b[0m                                 Traceback (most recent call last)",
      "Cell \u001b[0;32mIn[14], line 1\u001b[0m\n\u001b[0;32m----> 1\u001b[0m \u001b[43mdd\u001b[49m\u001b[43m[\u001b[49m\u001b[43mnumbers\u001b[49m\u001b[43m]\u001b[49m \u001b[38;5;241m=\u001b[39m \u001b[38;5;241m0\u001b[39m\n",
      "\u001b[0;31mTypeError\u001b[0m: unhashable type: 'list'"
     ]
    }
   ],
   "source": [
    "dd[numbers] = 0"
   ]
  },
  {
   "cell_type": "markdown",
   "metadata": {},
   "source": [
    "In essence, keys must not be mutable. This includes numbers, strings, and\n",
    "tuples, but not lists. This restriction is a trade-off that allows Python to\n",
    "make accessing values in a dictionary by key very fast."
   ]
  },
  {
   "cell_type": "markdown",
   "metadata": {},
   "source": [
    "**Advanced (skip on first read)**\n",
    "Immutable data types in Python have a `__hash__()` function, you can test it\n",
    "yourself:"
   ]
  },
  {
   "cell_type": "code",
   "execution_count": 15,
   "metadata": {
    "editable": true,
    "execution": {
     "iopub.execute_input": "2025-02-10T16:39:04.942458Z",
     "iopub.status.busy": "2025-02-10T16:39:04.942306Z",
     "iopub.status.idle": "2025-02-10T16:39:04.945711Z",
     "shell.execute_reply": "2025-02-10T16:39:04.945307Z"
    },
    "slideshow": {
     "slide_type": ""
    },
    "tags": []
   },
   "outputs": [
    {
     "data": {
      "text/plain": [
       "-1334813307666937343"
      ]
     },
     "execution_count": 15,
     "metadata": {},
     "output_type": "execute_result"
    }
   ],
   "source": [
    "s = \"a string\"\n",
    "s.__hash__()"
   ]
  },
  {
   "cell_type": "markdown",
   "metadata": {
    "editable": true,
    "slideshow": {
     "slide_type": ""
    },
    "tags": []
   },
   "source": [
    "[A hashing function](https://en.wikipedia.org/wiki/Hash_function) creates an\n",
    "encoded (but not unique) representation of the object as a number. When you\n",
    "look up an item in a Python dictionary with `my_dict[\"my_key\"]`, what happens\n",
    "internally is:\n",
    "\n",
    "* hash of `\"my_key\"` is calculated,\n",
    "* this number is compared to every hash of every key in the dictionary, until a\n",
    "  match between the hashes is found,\n",
    "* if two hashes match, _and_ the two objects are really identical, the\n",
    "  corresponding dictionary item is returned.\n",
    "\n",
    "Looking up numbers instead of strings or tuples is considerably faster, but\n",
    "since two different strings can have the same hash, their content has to be\n",
    "compared as well to really tell whether they are equal. If two hashes are\n",
    "different on the other hand we are sure that the objects are different as well."
   ]
  },
  {
   "cell_type": "markdown",
   "metadata": {
    "editable": true,
    "slideshow": {
     "slide_type": ""
    },
    "tags": []
   },
   "source": [
    "Iteration over dictionaries is over their keys."
   ]
  },
  {
   "cell_type": "code",
   "execution_count": 16,
   "metadata": {
    "editable": true,
    "execution": {
     "iopub.execute_input": "2025-02-10T16:39:04.947744Z",
     "iopub.status.busy": "2025-02-10T16:39:04.947357Z",
     "iopub.status.idle": "2025-02-10T16:39:04.950281Z",
     "shell.execute_reply": "2025-02-10T16:39:04.949855Z"
    },
    "slideshow": {
     "slide_type": ""
    },
    "tags": []
   },
   "outputs": [
    {
     "name": "stdout",
     "output_type": "stream",
     "text": [
      "1 : 0.5\n",
      "excellent index : <built-in function sin>\n",
      "0.1 : 3\n"
     ]
    }
   ],
   "source": [
    "for key in d:\n",
    "    print(key, ':', d[key])"
   ]
  },
  {
   "cell_type": "markdown",
   "metadata": {
    "editable": true,
    "slideshow": {
     "slide_type": ""
    },
    "tags": []
   },
   "source": [
    "We have already seen how to iterate over values (using `d.values()`) or keys\n",
    "and values simultaneously (using `d.items()`)."
   ]
  },
  {
   "cell_type": "markdown",
   "metadata": {
    "editable": true,
    "slideshow": {
     "slide_type": ""
    },
    "tags": []
   },
   "source": [
    "**Exercise**\n",
    "Alphabet mapping\n",
    "\n",
    "Map each letter of the alphabet to a number with a dictionary comprehension,\n",
    "starting with `0` for `a` and ending with `25` for `z`.\n",
    "\n",
    "You can get a string containing the letters of the alphabet like this:"
   ]
  },
  {
   "cell_type": "code",
   "execution_count": 17,
   "metadata": {
    "editable": true,
    "execution": {
     "iopub.execute_input": "2025-02-10T16:39:04.952133Z",
     "iopub.status.busy": "2025-02-10T16:39:04.951820Z",
     "iopub.status.idle": "2025-02-10T16:39:04.954224Z",
     "shell.execute_reply": "2025-02-10T16:39:04.953719Z"
    },
    "slideshow": {
     "slide_type": ""
    },
    "tags": []
   },
   "outputs": [],
   "source": [
    "import string"
   ]
  },
  {
   "cell_type": "code",
   "execution_count": 18,
   "metadata": {
    "editable": true,
    "execution": {
     "iopub.execute_input": "2025-02-10T16:39:04.956244Z",
     "iopub.status.busy": "2025-02-10T16:39:04.955856Z",
     "iopub.status.idle": "2025-02-10T16:39:04.959220Z",
     "shell.execute_reply": "2025-02-10T16:39:04.958687Z"
    },
    "slideshow": {
     "slide_type": ""
    },
    "tags": []
   },
   "outputs": [
    {
     "data": {
      "text/plain": [
       "'abcdefghijklmnopqrstuvwxyz'"
      ]
     },
     "execution_count": 18,
     "metadata": {},
     "output_type": "execute_result"
    }
   ],
   "source": [
    "string.ascii_lowercase"
   ]
  },
  {
   "cell_type": "markdown",
   "metadata": {
    "editable": true,
    "slideshow": {
     "slide_type": ""
    },
    "tags": []
   },
   "source": [
    "You can iterate over a string exactly like a list."
   ]
  },
  {
   "cell_type": "code",
   "execution_count": 19,
   "metadata": {
    "editable": true,
    "execution": {
     "iopub.execute_input": "2025-02-10T16:39:04.961177Z",
     "iopub.status.busy": "2025-02-10T16:39:04.960985Z",
     "iopub.status.idle": "2025-02-10T16:39:04.963911Z",
     "shell.execute_reply": "2025-02-10T16:39:04.963426Z"
    },
    "slideshow": {
     "slide_type": ""
    },
    "tags": []
   },
   "outputs": [
    {
     "name": "stdout",
     "output_type": "stream",
     "text": [
      "a\n",
      "b\n",
      "c\n",
      "d\n",
      "e\n",
      "f\n",
      "g\n",
      "h\n",
      "i\n",
      "j\n",
      "k\n",
      "l\n",
      "m\n",
      "n\n",
      "o\n",
      "p\n",
      "q\n",
      "r\n",
      "s\n",
      "t\n",
      "u\n",
      "v\n",
      "w\n",
      "x\n",
      "y\n",
      "z\n"
     ]
    }
   ],
   "source": [
    "for character in string.ascii_lowercase:\n",
    "    print(character)"
   ]
  },
  {
   "cell_type": "markdown",
   "metadata": {
    "editable": true,
    "slideshow": {
     "slide_type": ""
    },
    "tags": []
   },
   "source": [
    "Then, create the \"reverse\" dictionary, again with a comprehension, mapping\n",
    "letters to numbers."
   ]
  },
  {
   "cell_type": "markdown",
   "metadata": {
    "editable": true,
    "slideshow": {
     "slide_type": ""
    },
    "tags": []
   },
   "source": [
    "**Solution**\n",
    "You need to have a list containing one number per letter, and to loop over that\n",
    "list along with the characters in the string. This is exactly the same as\n",
    "looping over items in a list alongside the index, so we can use `enumerate`."
   ]
  },
  {
   "cell_type": "code",
   "execution_count": 20,
   "metadata": {
    "editable": true,
    "execution": {
     "iopub.execute_input": "2025-02-10T16:39:04.965788Z",
     "iopub.status.busy": "2025-02-10T16:39:04.965603Z",
     "iopub.status.idle": "2025-02-10T16:39:04.968423Z",
     "shell.execute_reply": "2025-02-10T16:39:04.967970Z"
    },
    "slideshow": {
     "slide_type": ""
    },
    "tags": []
   },
   "outputs": [],
   "source": [
    "alphabet_map = {i: c for i, c in enumerate(string.ascii_lowercase)}"
   ]
  },
  {
   "cell_type": "markdown",
   "metadata": {
    "editable": true,
    "slideshow": {
     "slide_type": ""
    },
    "tags": []
   },
   "source": [
    "We can create the inverse map by swapping the key and value in the\n",
    "comprehension."
   ]
  },
  {
   "cell_type": "code",
   "execution_count": 21,
   "metadata": {
    "editable": true,
    "execution": {
     "iopub.execute_input": "2025-02-10T16:39:04.970406Z",
     "iopub.status.busy": "2025-02-10T16:39:04.970024Z",
     "iopub.status.idle": "2025-02-10T16:39:04.972589Z",
     "shell.execute_reply": "2025-02-10T16:39:04.972120Z"
    },
    "slideshow": {
     "slide_type": ""
    },
    "tags": []
   },
   "outputs": [],
   "source": [
    "reverse_map = {c: i for i, c in alphabet_map.items()}"
   ]
  }
 ],
 "metadata": {
  "language_info": {
   "codemirror_mode": {
    "name": "ipython",
    "version": 3
   },
   "file_extension": ".py",
   "mimetype": "text/x-python",
   "name": "python",
   "nbconvert_exporter": "python",
   "pygments_lexer": "ipython3",
   "version": "3.11.11"
  }
 },
 "nbformat": 4,
 "nbformat_minor": 4
}
