{
 "cells": [
  {
   "cell_type": "markdown",
   "metadata": {
    "editable": true,
    "slideshow": {
     "slide_type": ""
    },
    "tags": []
   },
   "source": [
    "# Dictionaries\n",
    "\n",
    "You can think of lists as a _mapping_ from indices to values. The indices are\n",
    "always integers and go from `0` to `len(the_list) - 1`, and the values are the\n",
    "items.\n",
    "\n",
    "Dictionaries are collections, just like lists, but they have important\n",
    "differences:\n",
    "\n",
    "* lists map sequential numeric indices to items, whereas dictionaries can map\n",
    "  most object types to any object,\n",
    "* lists are _ordered_ collections of items, whereas dictionaries have no\n",
    "  ordering.\n",
    "\n",
    "Since anything can be used as index for an item, indices must be always\n",
    "specified when creating a dictionary:"
   ]
  },
  {
   "cell_type": "code",
   "execution_count": 1,
   "metadata": {
    "editable": true,
    "execution": {
     "iopub.execute_input": "2025-04-04T10:42:51.521956Z",
     "iopub.status.busy": "2025-04-04T10:42:51.521802Z",
     "iopub.status.idle": "2025-04-04T10:42:51.526398Z",
     "shell.execute_reply": "2025-04-04T10:42:51.526029Z"
    },
    "slideshow": {
     "slide_type": ""
    },
    "tags": []
   },
   "outputs": [],
   "source": [
    "import math"
   ]
  },
  {
   "cell_type": "code",
   "execution_count": 2,
   "metadata": {
    "editable": true,
    "execution": {
     "iopub.execute_input": "2025-04-04T10:42:51.528047Z",
     "iopub.status.busy": "2025-04-04T10:42:51.527893Z",
     "iopub.status.idle": "2025-04-04T10:42:51.532799Z",
     "shell.execute_reply": "2025-04-04T10:42:51.532392Z"
    },
    "slideshow": {
     "slide_type": ""
    },
    "tags": []
   },
   "outputs": [
    {
     "data": {
      "text/plain": [
       "0.5"
      ]
     },
     "execution_count": 2,
     "metadata": {},
     "output_type": "execute_result"
    }
   ],
   "source": [
    "d = {1: 0.5, 'excellent index': math.sin, 0.1: 2}\n",
    "d[1]"
   ]
  },
  {
   "cell_type": "code",
   "execution_count": 3,
   "metadata": {
    "editable": true,
    "execution": {
     "iopub.execute_input": "2025-04-04T10:42:51.534398Z",
     "iopub.status.busy": "2025-04-04T10:42:51.534256Z",
     "iopub.status.idle": "2025-04-04T10:42:51.537463Z",
     "shell.execute_reply": "2025-04-04T10:42:51.537068Z"
    },
    "slideshow": {
     "slide_type": ""
    },
    "tags": []
   },
   "outputs": [
    {
     "data": {
      "text/plain": [
       "<function math.sin(x, /)>"
      ]
     },
     "execution_count": 3,
     "metadata": {},
     "output_type": "execute_result"
    }
   ],
   "source": [
    "d['excellent index']"
   ]
  },
  {
   "cell_type": "code",
   "execution_count": 4,
   "metadata": {
    "editable": true,
    "execution": {
     "iopub.execute_input": "2025-04-04T10:42:51.539379Z",
     "iopub.status.busy": "2025-04-04T10:42:51.538982Z",
     "iopub.status.idle": "2025-04-04T10:42:51.541370Z",
     "shell.execute_reply": "2025-04-04T10:42:51.540989Z"
    },
    "slideshow": {
     "slide_type": ""
    },
    "tags": []
   },
   "outputs": [],
   "source": [
    "d[0.1] = 3"
   ]
  },
  {
   "cell_type": "markdown",
   "metadata": {
    "editable": true,
    "slideshow": {
     "slide_type": ""
    },
    "tags": []
   },
   "source": [
    "The \"indices\" of a dictionary are called **keys**, and the things they map to\n",
    "are **values**. Together, each key-value pair is an **item**."
   ]
  },
  {
   "cell_type": "code",
   "execution_count": 5,
   "metadata": {
    "editable": true,
    "execution": {
     "iopub.execute_input": "2025-04-04T10:42:51.543250Z",
     "iopub.status.busy": "2025-04-04T10:42:51.542884Z",
     "iopub.status.idle": "2025-04-04T10:42:51.546117Z",
     "shell.execute_reply": "2025-04-04T10:42:51.545650Z"
    },
    "slideshow": {
     "slide_type": ""
    },
    "tags": []
   },
   "outputs": [
    {
     "data": {
      "text/plain": [
       "dict_keys([1, 'excellent index', 0.1])"
      ]
     },
     "execution_count": 5,
     "metadata": {},
     "output_type": "execute_result"
    }
   ],
   "source": [
    "d.keys()"
   ]
  },
  {
   "cell_type": "code",
   "execution_count": 6,
   "metadata": {
    "editable": true,
    "execution": {
     "iopub.execute_input": "2025-04-04T10:42:51.547841Z",
     "iopub.status.busy": "2025-04-04T10:42:51.547693Z",
     "iopub.status.idle": "2025-04-04T10:42:51.550869Z",
     "shell.execute_reply": "2025-04-04T10:42:51.550458Z"
    },
    "slideshow": {
     "slide_type": ""
    },
    "tags": []
   },
   "outputs": [
    {
     "data": {
      "text/plain": [
       "dict_values([0.5, <built-in function sin>, 3])"
      ]
     },
     "execution_count": 6,
     "metadata": {},
     "output_type": "execute_result"
    }
   ],
   "source": [
    "d.values()"
   ]
  },
  {
   "cell_type": "code",
   "execution_count": 7,
   "metadata": {
    "editable": true,
    "execution": {
     "iopub.execute_input": "2025-04-04T10:42:51.552449Z",
     "iopub.status.busy": "2025-04-04T10:42:51.552312Z",
     "iopub.status.idle": "2025-04-04T10:42:51.555565Z",
     "shell.execute_reply": "2025-04-04T10:42:51.555085Z"
    },
    "slideshow": {
     "slide_type": ""
    },
    "tags": []
   },
   "outputs": [
    {
     "data": {
      "text/plain": [
       "{1: 0.5, 'excellent index': <function math.sin(x, /)>, 0.1: 3}"
      ]
     },
     "execution_count": 7,
     "metadata": {},
     "output_type": "execute_result"
    }
   ],
   "source": [
    "d"
   ]
  },
  {
   "cell_type": "markdown",
   "metadata": {
    "editable": true,
    "slideshow": {
     "slide_type": ""
    },
    "tags": []
   },
   "source": [
    "As you can see, the values of a dictionary can be whatever we like, and need not\n",
    "be the same type of object.\n",
    "\n",
    "You can see that the order of the keys, values and items we get back are not the\n",
    "same as the order we created the dictionary with. If you run the same example on\n",
    "your own you might get a different ordering. This is what we mean when we define\n",
    "dictionaries as _unordered collections_: when you iterate over its content, you\n",
    "cannot rely on the ordering.\n",
    "\n",
    "It is however guaranteed that the _n_-th item returned by `keys()` corresponds\n",
    "to the _n_-th item returned by `values()`. This allows the following example\n",
    "to work flawlessly:"
   ]
  },
  {
   "cell_type": "code",
   "execution_count": 8,
   "metadata": {
    "editable": true,
    "execution": {
     "iopub.execute_input": "2025-04-04T10:42:51.557499Z",
     "iopub.status.busy": "2025-04-04T10:42:51.557145Z",
     "iopub.status.idle": "2025-04-04T10:42:51.559876Z",
     "shell.execute_reply": "2025-04-04T10:42:51.559427Z"
    },
    "slideshow": {
     "slide_type": ""
    },
    "tags": []
   },
   "outputs": [
    {
     "name": "stdout",
     "output_type": "stream",
     "text": [
      "1 : 0.5\n",
      "excellent index : <built-in function sin>\n",
      "0.1 : 3\n"
     ]
    }
   ],
   "source": [
    "for key, value in zip(d.keys(), d.values()):\n",
    "    print(key, ':', value)"
   ]
  },
  {
   "cell_type": "markdown",
   "metadata": {
    "editable": true,
    "slideshow": {
     "slide_type": ""
    },
    "tags": []
   },
   "source": [
    "Of course, this could be considerably simpler just by using `items()`, which\n",
    "gives us _tuples of key-value pairs_."
   ]
  },
  {
   "cell_type": "code",
   "execution_count": 9,
   "metadata": {
    "editable": true,
    "execution": {
     "iopub.execute_input": "2025-04-04T10:42:51.561870Z",
     "iopub.status.busy": "2025-04-04T10:42:51.561456Z",
     "iopub.status.idle": "2025-04-04T10:42:51.564259Z",
     "shell.execute_reply": "2025-04-04T10:42:51.563888Z"
    },
    "slideshow": {
     "slide_type": ""
    },
    "tags": []
   },
   "outputs": [
    {
     "name": "stdout",
     "output_type": "stream",
     "text": [
      "1 : 0.5\n",
      "excellent index : <built-in function sin>\n",
      "0.1 : 3\n"
     ]
    }
   ],
   "source": [
    "for key, value in d.items():\n",
    "    print(key, ':', value)"
   ]
  },
  {
   "cell_type": "markdown",
   "metadata": {
    "editable": true,
    "slideshow": {
     "slide_type": ""
    },
    "tags": []
   },
   "source": [
    "We can create dictionaries from lists of 2-item lists."
   ]
  },
  {
   "cell_type": "code",
   "execution_count": 10,
   "metadata": {
    "editable": true,
    "execution": {
     "iopub.execute_input": "2025-04-04T10:42:51.566233Z",
     "iopub.status.busy": "2025-04-04T10:42:51.565856Z",
     "iopub.status.idle": "2025-04-04T10:42:51.569335Z",
     "shell.execute_reply": "2025-04-04T10:42:51.568894Z"
    },
    "slideshow": {
     "slide_type": ""
    },
    "tags": []
   },
   "outputs": [
    {
     "data": {
      "text/plain": [
       "{0: 'a thing', 1: 'another'}"
      ]
     },
     "execution_count": 10,
     "metadata": {},
     "output_type": "execute_result"
    }
   ],
   "source": [
    "dict(enumerate(['a thing', 'another']))"
   ]
  },
  {
   "cell_type": "markdown",
   "metadata": {
    "editable": true,
    "slideshow": {
     "slide_type": ""
    },
    "tags": []
   },
   "source": [
    "And also with _dictionary comprehensions_, in a similar manner to list\n",
    "comprehensions, with the additional specification of the key."
   ]
  },
  {
   "cell_type": "code",
   "execution_count": 11,
   "metadata": {
    "editable": true,
    "execution": {
     "iopub.execute_input": "2025-04-04T10:42:51.571285Z",
     "iopub.status.busy": "2025-04-04T10:42:51.570918Z",
     "iopub.status.idle": "2025-04-04T10:42:51.574371Z",
     "shell.execute_reply": "2025-04-04T10:42:51.573897Z"
    },
    "slideshow": {
     "slide_type": ""
    },
    "tags": []
   },
   "outputs": [
    {
     "data": {
      "text/plain": [
       "{0: 1, 1: 1, 2: 4, 4: 256}"
      ]
     },
     "execution_count": 11,
     "metadata": {},
     "output_type": "execute_result"
    }
   ],
   "source": [
    "{i: i**i for i in range(5) if i != 3}"
   ]
  },
  {
   "cell_type": "markdown",
   "metadata": {
    "editable": true,
    "slideshow": {
     "slide_type": ""
    },
    "tags": []
   },
   "source": [
    "## Dictionary keys\n",
    "\n",
    "There is no restriction on values a dictionary might hold, but there is on keys."
   ]
  },
  {
   "cell_type": "code",
   "execution_count": 12,
   "metadata": {
    "editable": true,
    "execution": {
     "iopub.execute_input": "2025-04-04T10:42:51.576080Z",
     "iopub.status.busy": "2025-04-04T10:42:51.575925Z",
     "iopub.status.idle": "2025-04-04T10:42:51.578091Z",
     "shell.execute_reply": "2025-04-04T10:42:51.577719Z"
    },
    "slideshow": {
     "slide_type": ""
    },
    "tags": []
   },
   "outputs": [],
   "source": [
    "numbers = [1, 4, 3]"
   ]
  },
  {
   "cell_type": "code",
   "execution_count": 13,
   "metadata": {
    "editable": true,
    "execution": {
     "iopub.execute_input": "2025-04-04T10:42:51.579709Z",
     "iopub.status.busy": "2025-04-04T10:42:51.579534Z",
     "iopub.status.idle": "2025-04-04T10:42:51.581837Z",
     "shell.execute_reply": "2025-04-04T10:42:51.581433Z"
    },
    "slideshow": {
     "slide_type": ""
    },
    "tags": []
   },
   "outputs": [],
   "source": [
    "dd = {}"
   ]
  },
  {
   "cell_type": "code",
   "execution_count": 14,
   "metadata": {
    "execution": {
     "iopub.execute_input": "2025-04-04T10:42:51.583544Z",
     "iopub.status.busy": "2025-04-04T10:42:51.583393Z",
     "iopub.status.idle": "2025-04-04T10:42:51.708811Z",
     "shell.execute_reply": "2025-04-04T10:42:51.708331Z"
    },
    "tags": [
     "raises-exception"
    ]
   },
   "outputs": [
    {
     "ename": "TypeError",
     "evalue": "unhashable type: 'list'",
     "output_type": "error",
     "traceback": [
      "\u001b[31m---------------------------------------------------------------------------\u001b[39m",
      "\u001b[31mTypeError\u001b[39m                                 Traceback (most recent call last)",
      "\u001b[36mCell\u001b[39m\u001b[36m \u001b[39m\u001b[32mIn[14]\u001b[39m\u001b[32m, line 1\u001b[39m\n\u001b[32m----> \u001b[39m\u001b[32m1\u001b[39m \u001b[43mdd\u001b[49m\u001b[43m[\u001b[49m\u001b[43mnumbers\u001b[49m\u001b[43m]\u001b[49m = \u001b[32m0\u001b[39m\n",
      "\u001b[31mTypeError\u001b[39m: unhashable type: 'list'"
     ]
    }
   ],
   "source": [
    "dd[numbers] = 0"
   ]
  },
  {
   "cell_type": "markdown",
   "metadata": {},
   "source": [
    "In essence, keys must not be mutable. This includes numbers, strings, and\n",
    "tuples, but not lists. This restriction is a trade-off that allows Python to\n",
    "make accessing values in a dictionary by key very fast."
   ]
  },
  {
   "cell_type": "markdown",
   "metadata": {},
   "source": [
    "**Advanced (skip on first read)**\n",
    "Immutable data types in Python have a `__hash__()` function, you can test it\n",
    "yourself:"
   ]
  },
  {
   "cell_type": "code",
   "execution_count": 15,
   "metadata": {
    "editable": true,
    "execution": {
     "iopub.execute_input": "2025-04-04T10:42:51.710667Z",
     "iopub.status.busy": "2025-04-04T10:42:51.710490Z",
     "iopub.status.idle": "2025-04-04T10:42:51.713856Z",
     "shell.execute_reply": "2025-04-04T10:42:51.713440Z"
    },
    "slideshow": {
     "slide_type": ""
    },
    "tags": []
   },
   "outputs": [
    {
     "data": {
      "text/plain": [
       "8868467195768440785"
      ]
     },
     "execution_count": 15,
     "metadata": {},
     "output_type": "execute_result"
    }
   ],
   "source": [
    "s = \"a string\"\n",
    "s.__hash__()"
   ]
  },
  {
   "cell_type": "markdown",
   "metadata": {
    "editable": true,
    "slideshow": {
     "slide_type": ""
    },
    "tags": []
   },
   "source": [
    "[A hashing function](https://en.wikipedia.org/wiki/Hash_function) creates an\n",
    "encoded (but not unique) representation of the object as a number. When you\n",
    "look up an item in a Python dictionary with `my_dict[\"my_key\"]`, what happens\n",
    "internally is:\n",
    "\n",
    "* hash of `\"my_key\"` is calculated,\n",
    "* this number is compared to every hash of every key in the dictionary, until a\n",
    "  match between the hashes is found,\n",
    "* if two hashes match, _and_ the two objects are really identical, the\n",
    "  corresponding dictionary item is returned.\n",
    "\n",
    "Looking up numbers instead of strings or tuples is considerably faster, but\n",
    "since two different strings can have the same hash, their content has to be\n",
    "compared as well to really tell whether they are equal. If two hashes are\n",
    "different on the other hand we are sure that the objects are different as well."
   ]
  },
  {
   "cell_type": "markdown",
   "metadata": {
    "editable": true,
    "slideshow": {
     "slide_type": ""
    },
    "tags": []
   },
   "source": [
    "Iteration over dictionaries is over their keys."
   ]
  },
  {
   "cell_type": "code",
   "execution_count": 16,
   "metadata": {
    "editable": true,
    "execution": {
     "iopub.execute_input": "2025-04-04T10:42:51.715710Z",
     "iopub.status.busy": "2025-04-04T10:42:51.715532Z",
     "iopub.status.idle": "2025-04-04T10:42:51.718156Z",
     "shell.execute_reply": "2025-04-04T10:42:51.717708Z"
    },
    "slideshow": {
     "slide_type": ""
    },
    "tags": []
   },
   "outputs": [
    {
     "name": "stdout",
     "output_type": "stream",
     "text": [
      "1 : 0.5\n",
      "excellent index : <built-in function sin>\n",
      "0.1 : 3\n"
     ]
    }
   ],
   "source": [
    "for key in d:\n",
    "    print(key, ':', d[key])"
   ]
  },
  {
   "cell_type": "markdown",
   "metadata": {
    "editable": true,
    "slideshow": {
     "slide_type": ""
    },
    "tags": []
   },
   "source": [
    "We have already seen how to iterate over values (using `d.values()`) or keys\n",
    "and values simultaneously (using `d.items()`)."
   ]
  },
  {
   "cell_type": "markdown",
   "metadata": {
    "editable": true,
    "slideshow": {
     "slide_type": ""
    },
    "tags": []
   },
   "source": [
    "**Exercise**\n",
    "Alphabet mapping\n",
    "\n",
    "Map each letter of the alphabet to a number with a dictionary comprehension,\n",
    "starting with `0` for `a` and ending with `25` for `z`.\n",
    "\n",
    "You can get a string containing the letters of the alphabet like this:"
   ]
  },
  {
   "cell_type": "code",
   "execution_count": 17,
   "metadata": {
    "editable": true,
    "execution": {
     "iopub.execute_input": "2025-04-04T10:42:51.719881Z",
     "iopub.status.busy": "2025-04-04T10:42:51.719729Z",
     "iopub.status.idle": "2025-04-04T10:42:51.721970Z",
     "shell.execute_reply": "2025-04-04T10:42:51.721595Z"
    },
    "slideshow": {
     "slide_type": ""
    },
    "tags": []
   },
   "outputs": [],
   "source": [
    "import string"
   ]
  },
  {
   "cell_type": "code",
   "execution_count": 18,
   "metadata": {
    "editable": true,
    "execution": {
     "iopub.execute_input": "2025-04-04T10:42:51.723711Z",
     "iopub.status.busy": "2025-04-04T10:42:51.723401Z",
     "iopub.status.idle": "2025-04-04T10:42:51.726657Z",
     "shell.execute_reply": "2025-04-04T10:42:51.726159Z"
    },
    "slideshow": {
     "slide_type": ""
    },
    "tags": []
   },
   "outputs": [
    {
     "data": {
      "text/plain": [
       "'abcdefghijklmnopqrstuvwxyz'"
      ]
     },
     "execution_count": 18,
     "metadata": {},
     "output_type": "execute_result"
    }
   ],
   "source": [
    "string.ascii_lowercase"
   ]
  },
  {
   "cell_type": "markdown",
   "metadata": {
    "editable": true,
    "slideshow": {
     "slide_type": ""
    },
    "tags": []
   },
   "source": [
    "You can iterate over a string exactly like a list."
   ]
  },
  {
   "cell_type": "code",
   "execution_count": 19,
   "metadata": {
    "editable": true,
    "execution": {
     "iopub.execute_input": "2025-04-04T10:42:51.728408Z",
     "iopub.status.busy": "2025-04-04T10:42:51.728253Z",
     "iopub.status.idle": "2025-04-04T10:42:51.730900Z",
     "shell.execute_reply": "2025-04-04T10:42:51.730450Z"
    },
    "slideshow": {
     "slide_type": ""
    },
    "tags": []
   },
   "outputs": [
    {
     "name": "stdout",
     "output_type": "stream",
     "text": [
      "a\n",
      "b\n",
      "c\n",
      "d\n",
      "e\n",
      "f\n",
      "g\n",
      "h\n",
      "i\n",
      "j\n",
      "k\n",
      "l\n",
      "m\n",
      "n\n",
      "o\n",
      "p\n",
      "q\n",
      "r\n",
      "s\n",
      "t\n",
      "u\n",
      "v\n",
      "w\n",
      "x\n",
      "y\n",
      "z\n"
     ]
    }
   ],
   "source": [
    "for character in string.ascii_lowercase:\n",
    "    print(character)"
   ]
  },
  {
   "cell_type": "markdown",
   "metadata": {
    "editable": true,
    "slideshow": {
     "slide_type": ""
    },
    "tags": []
   },
   "source": [
    "Then, create the \"reverse\" dictionary, again with a comprehension, mapping\n",
    "letters to numbers."
   ]
  },
  {
   "cell_type": "markdown",
   "metadata": {
    "editable": true,
    "slideshow": {
     "slide_type": ""
    },
    "tags": []
   },
   "source": [
    "**Solution**\n",
    "You need to have a list containing one number per letter, and to loop over that\n",
    "list along with the characters in the string. This is exactly the same as\n",
    "looping over items in a list alongside the index, so we can use `enumerate`."
   ]
  },
  {
   "cell_type": "code",
   "execution_count": 20,
   "metadata": {
    "editable": true,
    "execution": {
     "iopub.execute_input": "2025-04-04T10:42:51.732644Z",
     "iopub.status.busy": "2025-04-04T10:42:51.732476Z",
     "iopub.status.idle": "2025-04-04T10:42:51.735081Z",
     "shell.execute_reply": "2025-04-04T10:42:51.734589Z"
    },
    "slideshow": {
     "slide_type": ""
    },
    "tags": []
   },
   "outputs": [],
   "source": [
    "alphabet_map = {i: c for i, c in enumerate(string.ascii_lowercase)}"
   ]
  },
  {
   "cell_type": "markdown",
   "metadata": {
    "editable": true,
    "slideshow": {
     "slide_type": ""
    },
    "tags": []
   },
   "source": [
    "We can create the inverse map by swapping the key and value in the\n",
    "comprehension."
   ]
  },
  {
   "cell_type": "code",
   "execution_count": 21,
   "metadata": {
    "editable": true,
    "execution": {
     "iopub.execute_input": "2025-04-04T10:42:51.737080Z",
     "iopub.status.busy": "2025-04-04T10:42:51.736659Z",
     "iopub.status.idle": "2025-04-04T10:42:51.739252Z",
     "shell.execute_reply": "2025-04-04T10:42:51.738766Z"
    },
    "slideshow": {
     "slide_type": ""
    },
    "tags": []
   },
   "outputs": [],
   "source": [
    "reverse_map = {c: i for i, c in alphabet_map.items()}"
   ]
  }
 ],
 "metadata": {
  "language_info": {
   "codemirror_mode": {
    "name": "ipython",
    "version": 3
   },
   "file_extension": ".py",
   "mimetype": "text/x-python",
   "name": "python",
   "nbconvert_exporter": "python",
   "pygments_lexer": "ipython3",
   "version": "3.11.11"
  }
 },
 "nbformat": 4,
 "nbformat_minor": 4
}
