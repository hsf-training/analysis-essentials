{
 "cells": [
  {
   "cell_type": "markdown",
   "metadata": {
    "editable": true,
    "slideshow": {
     "slide_type": ""
    },
    "tags": []
   },
   "source": [
    "# Numbers\n",
    "\n",
    "There’s nothing magical about numbers in Python, and we’ve already discovered \n",
    "how we perform operations on them."
   ]
  },
  {
   "cell_type": "code",
   "execution_count": 1,
   "metadata": {
    "editable": true,
    "execution": {
     "iopub.execute_input": "2025-04-04T10:43:00.601388Z",
     "iopub.status.busy": "2025-04-04T10:43:00.601235Z",
     "iopub.status.idle": "2025-04-04T10:43:00.608435Z",
     "shell.execute_reply": "2025-04-04T10:43:00.607972Z"
    },
    "slideshow": {
     "slide_type": ""
    },
    "tags": []
   },
   "outputs": [
    {
     "data": {
      "text/plain": [
       "6.0"
      ]
     },
     "execution_count": 1,
     "metadata": {},
     "output_type": "execute_result"
    }
   ],
   "source": [
    "(2 * (1 + 3) - 5) / 0.5"
   ]
  },
  {
   "cell_type": "code",
   "execution_count": 2,
   "metadata": {
    "editable": true,
    "execution": {
     "iopub.execute_input": "2025-04-04T10:43:00.610294Z",
     "iopub.status.busy": "2025-04-04T10:43:00.609914Z",
     "iopub.status.idle": "2025-04-04T10:43:00.613207Z",
     "shell.execute_reply": "2025-04-04T10:43:00.612743Z"
    },
    "slideshow": {
     "slide_type": ""
    },
    "tags": []
   },
   "outputs": [
    {
     "data": {
      "text/plain": [
       "3"
      ]
     },
     "execution_count": 2,
     "metadata": {},
     "output_type": "execute_result"
    }
   ],
   "source": [
    "11 % 4"
   ]
  },
  {
   "cell_type": "markdown",
   "metadata": {},
   "source": [
    "Python also lets you manipulate complex numbers, using `j` to represent the \n",
    "complex term."
   ]
  },
  {
   "cell_type": "code",
   "execution_count": 3,
   "metadata": {
    "editable": true,
    "execution": {
     "iopub.execute_input": "2025-04-04T10:43:00.615018Z",
     "iopub.status.busy": "2025-04-04T10:43:00.614712Z",
     "iopub.status.idle": "2025-04-04T10:43:00.617886Z",
     "shell.execute_reply": "2025-04-04T10:43:00.617461Z"
    },
    "slideshow": {
     "slide_type": ""
    },
    "tags": []
   },
   "outputs": [
    {
     "data": {
      "text/plain": [
       "(-3+5j)"
      ]
     },
     "execution_count": 3,
     "metadata": {},
     "output_type": "execute_result"
    }
   ],
   "source": [
    "a = 1 + 4j\n",
    "b = 4 - 1j\n",
    "a - b"
   ]
  },
  {
   "cell_type": "markdown",
   "metadata": {
    "editable": true,
    "slideshow": {
     "slide_type": ""
    },
    "tags": []
   },
   "source": [
    "Complex numbers are objects, of course, and have some useful functions and \n",
    "properties attached to them."
   ]
  },
  {
   "cell_type": "code",
   "execution_count": 4,
   "metadata": {
    "editable": true,
    "execution": {
     "iopub.execute_input": "2025-04-04T10:43:00.619778Z",
     "iopub.status.busy": "2025-04-04T10:43:00.619469Z",
     "iopub.status.idle": "2025-04-04T10:43:00.622494Z",
     "shell.execute_reply": "2025-04-04T10:43:00.622071Z"
    },
    "slideshow": {
     "slide_type": ""
    },
    "tags": []
   },
   "outputs": [
    {
     "data": {
      "text/plain": [
       "(1-4j)"
      ]
     },
     "execution_count": 4,
     "metadata": {},
     "output_type": "execute_result"
    }
   ],
   "source": [
    "a.conjugate()"
   ]
  },
  {
   "cell_type": "code",
   "execution_count": 5,
   "metadata": {
    "editable": true,
    "execution": {
     "iopub.execute_input": "2025-04-04T10:43:00.624151Z",
     "iopub.status.busy": "2025-04-04T10:43:00.624004Z",
     "iopub.status.idle": "2025-04-04T10:43:00.627173Z",
     "shell.execute_reply": "2025-04-04T10:43:00.626775Z"
    },
    "slideshow": {
     "slide_type": ""
    },
    "tags": []
   },
   "outputs": [
    {
     "data": {
      "text/plain": [
       "4.0"
      ]
     },
     "execution_count": 5,
     "metadata": {},
     "output_type": "execute_result"
    }
   ],
   "source": [
    "a.imag"
   ]
  },
  {
   "cell_type": "code",
   "execution_count": 6,
   "metadata": {
    "editable": true,
    "execution": {
     "iopub.execute_input": "2025-04-04T10:43:00.628774Z",
     "iopub.status.busy": "2025-04-04T10:43:00.628633Z",
     "iopub.status.idle": "2025-04-04T10:43:00.631759Z",
     "shell.execute_reply": "2025-04-04T10:43:00.631246Z"
    },
    "slideshow": {
     "slide_type": ""
    },
    "tags": []
   },
   "outputs": [
    {
     "data": {
      "text/plain": [
       "1.0"
      ]
     },
     "execution_count": 6,
     "metadata": {},
     "output_type": "execute_result"
    }
   ],
   "source": [
    "a.real"
   ]
  },
  {
   "cell_type": "markdown",
   "metadata": {
    "editable": true,
    "slideshow": {
     "slide_type": ""
    },
    "tags": []
   },
   "source": [
    "Somewhat confusingly, computing the magnitude of a complex number can be done \n",
    "with the `abs` method, which is available globally."
   ]
  },
  {
   "cell_type": "code",
   "execution_count": 7,
   "metadata": {
    "editable": true,
    "execution": {
     "iopub.execute_input": "2025-04-04T10:43:00.633461Z",
     "iopub.status.busy": "2025-04-04T10:43:00.633318Z",
     "iopub.status.idle": "2025-04-04T10:43:00.636395Z",
     "shell.execute_reply": "2025-04-04T10:43:00.635945Z"
    },
    "slideshow": {
     "slide_type": ""
    },
    "tags": []
   },
   "outputs": [
    {
     "data": {
      "text/plain": [
       "4.123105625617661"
      ]
     },
     "execution_count": 7,
     "metadata": {},
     "output_type": "execute_result"
    }
   ],
   "source": [
    "abs(a)"
   ]
  },
  {
   "cell_type": "code",
   "execution_count": 8,
   "metadata": {
    "editable": true,
    "execution": {
     "iopub.execute_input": "2025-04-04T10:43:00.638107Z",
     "iopub.status.busy": "2025-04-04T10:43:00.637963Z",
     "iopub.status.idle": "2025-04-04T10:43:00.641254Z",
     "shell.execute_reply": "2025-04-04T10:43:00.640766Z"
    },
    "slideshow": {
     "slide_type": ""
    },
    "tags": []
   },
   "outputs": [
    {
     "data": {
      "text/plain": [
       "17.0"
      ]
     },
     "execution_count": 8,
     "metadata": {},
     "output_type": "execute_result"
    }
   ],
   "source": [
    "(a.real**2 + a.imag**2)"
   ]
  },
  {
   "cell_type": "code",
   "execution_count": 9,
   "metadata": {
    "editable": true,
    "execution": {
     "iopub.execute_input": "2025-04-04T10:43:00.642903Z",
     "iopub.status.busy": "2025-04-04T10:43:00.642752Z",
     "iopub.status.idle": "2025-04-04T10:43:00.646031Z",
     "shell.execute_reply": "2025-04-04T10:43:00.645534Z"
    },
    "slideshow": {
     "slide_type": ""
    },
    "tags": []
   },
   "outputs": [
    {
     "data": {
      "text/plain": [
       "4.123105625617661"
      ]
     },
     "execution_count": 9,
     "metadata": {},
     "output_type": "execute_result"
    }
   ],
   "source": [
    "(a.real**2 + a.imag**2) ** 0.5"
   ]
  },
  {
   "cell_type": "markdown",
   "metadata": {
    "editable": true,
    "slideshow": {
     "slide_type": ""
    },
    "tags": []
   },
   "source": [
    "This also demonstrates the `**` operator, which for real numbers corresponds to \n",
    "exponentiation.\n",
    "\n",
    "Each type of number can be created _literally_, like we’ve been doing, by just \n",
    "typing the number into your shell or source code, and by using the correspond \n",
    "methods."
   ]
  },
  {
   "cell_type": "code",
   "execution_count": 10,
   "metadata": {
    "editable": true,
    "execution": {
     "iopub.execute_input": "2025-04-04T10:43:00.647924Z",
     "iopub.status.busy": "2025-04-04T10:43:00.647640Z",
     "iopub.status.idle": "2025-04-04T10:43:00.650849Z",
     "shell.execute_reply": "2025-04-04T10:43:00.650360Z"
    },
    "slideshow": {
     "slide_type": ""
    },
    "tags": []
   },
   "outputs": [
    {
     "data": {
      "text/plain": [
       "0"
      ]
     },
     "execution_count": 10,
     "metadata": {},
     "output_type": "execute_result"
    }
   ],
   "source": [
    "int()"
   ]
  },
  {
   "cell_type": "code",
   "execution_count": 11,
   "metadata": {
    "editable": true,
    "execution": {
     "iopub.execute_input": "2025-04-04T10:43:00.652544Z",
     "iopub.status.busy": "2025-04-04T10:43:00.652387Z",
     "iopub.status.idle": "2025-04-04T10:43:00.655620Z",
     "shell.execute_reply": "2025-04-04T10:43:00.655206Z"
    },
    "slideshow": {
     "slide_type": ""
    },
    "tags": []
   },
   "outputs": [
    {
     "data": {
      "text/plain": [
       "0.0"
      ]
     },
     "execution_count": 11,
     "metadata": {},
     "output_type": "execute_result"
    }
   ],
   "source": [
    "float()"
   ]
  },
  {
   "cell_type": "code",
   "execution_count": 12,
   "metadata": {
    "editable": true,
    "execution": {
     "iopub.execute_input": "2025-04-04T10:43:00.657321Z",
     "iopub.status.busy": "2025-04-04T10:43:00.657166Z",
     "iopub.status.idle": "2025-04-04T10:43:00.660272Z",
     "shell.execute_reply": "2025-04-04T10:43:00.659786Z"
    },
    "slideshow": {
     "slide_type": ""
    },
    "tags": []
   },
   "outputs": [
    {
     "data": {
      "text/plain": [
       "0j"
      ]
     },
     "execution_count": 12,
     "metadata": {},
     "output_type": "execute_result"
    }
   ],
   "source": [
    "complex()"
   ]
  },
  {
   "cell_type": "code",
   "execution_count": null,
   "metadata": {
    "editable": true,
    "slideshow": {
     "slide_type": ""
    },
    "tags": []
   },
   "outputs": [],
   "source": []
  },
  {
   "cell_type": "markdown",
   "metadata": {
    "editable": true,
    "slideshow": {
     "slide_type": ""
    },
    "tags": []
   },
   "source": []
  }
 ],
 "metadata": {
  "language_info": {
   "codemirror_mode": {
    "name": "ipython",
    "version": 3
   },
   "file_extension": ".py",
   "mimetype": "text/x-python",
   "name": "python",
   "nbconvert_exporter": "python",
   "pygments_lexer": "ipython3",
   "version": "3.11.11"
  }
 },
 "nbformat": 4,
 "nbformat_minor": 4
}
