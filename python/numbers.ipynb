{
 "cells": [
  {
   "cell_type": "markdown",
   "metadata": {
    "editable": true,
    "slideshow": {
     "slide_type": ""
    },
    "tags": []
   },
   "source": [
    "# Numbers\n",
    "\n",
    "There’s nothing magical about numbers in Python, and we’ve already discovered \n",
    "how we perform operations on them."
   ]
  },
  {
   "cell_type": "code",
   "execution_count": 1,
   "metadata": {
    "editable": true,
    "execution": {
     "iopub.execute_input": "2025-02-10T17:09:28.375154Z",
     "iopub.status.busy": "2025-02-10T17:09:28.374683Z",
     "iopub.status.idle": "2025-02-10T17:09:28.382272Z",
     "shell.execute_reply": "2025-02-10T17:09:28.381840Z"
    },
    "slideshow": {
     "slide_type": ""
    },
    "tags": []
   },
   "outputs": [
    {
     "data": {
      "text/plain": [
       "6.0"
      ]
     },
     "execution_count": 1,
     "metadata": {},
     "output_type": "execute_result"
    }
   ],
   "source": [
    "(2 * (1 + 3) - 5) / 0.5"
   ]
  },
  {
   "cell_type": "code",
   "execution_count": 2,
   "metadata": {
    "editable": true,
    "execution": {
     "iopub.execute_input": "2025-02-10T17:09:28.384226Z",
     "iopub.status.busy": "2025-02-10T17:09:28.383860Z",
     "iopub.status.idle": "2025-02-10T17:09:28.387014Z",
     "shell.execute_reply": "2025-02-10T17:09:28.386593Z"
    },
    "slideshow": {
     "slide_type": ""
    },
    "tags": []
   },
   "outputs": [
    {
     "data": {
      "text/plain": [
       "3"
      ]
     },
     "execution_count": 2,
     "metadata": {},
     "output_type": "execute_result"
    }
   ],
   "source": [
    "11 % 4"
   ]
  },
  {
   "cell_type": "markdown",
   "metadata": {},
   "source": [
    "Python also lets you manipulate complex numbers, using `j` to represent the \n",
    "complex term."
   ]
  },
  {
   "cell_type": "code",
   "execution_count": 3,
   "metadata": {
    "editable": true,
    "execution": {
     "iopub.execute_input": "2025-02-10T17:09:28.388714Z",
     "iopub.status.busy": "2025-02-10T17:09:28.388573Z",
     "iopub.status.idle": "2025-02-10T17:09:28.391729Z",
     "shell.execute_reply": "2025-02-10T17:09:28.391318Z"
    },
    "slideshow": {
     "slide_type": ""
    },
    "tags": []
   },
   "outputs": [
    {
     "data": {
      "text/plain": [
       "(-3+5j)"
      ]
     },
     "execution_count": 3,
     "metadata": {},
     "output_type": "execute_result"
    }
   ],
   "source": [
    "a = 1 + 4j\n",
    "b = 4 - 1j\n",
    "a - b"
   ]
  },
  {
   "cell_type": "markdown",
   "metadata": {
    "editable": true,
    "slideshow": {
     "slide_type": ""
    },
    "tags": []
   },
   "source": [
    "Complex numbers are objects, of course, and have some useful functions and \n",
    "properties attached to them."
   ]
  },
  {
   "cell_type": "code",
   "execution_count": 4,
   "metadata": {
    "editable": true,
    "execution": {
     "iopub.execute_input": "2025-02-10T17:09:28.393394Z",
     "iopub.status.busy": "2025-02-10T17:09:28.393256Z",
     "iopub.status.idle": "2025-02-10T17:09:28.396461Z",
     "shell.execute_reply": "2025-02-10T17:09:28.396052Z"
    },
    "slideshow": {
     "slide_type": ""
    },
    "tags": []
   },
   "outputs": [
    {
     "data": {
      "text/plain": [
       "(1-4j)"
      ]
     },
     "execution_count": 4,
     "metadata": {},
     "output_type": "execute_result"
    }
   ],
   "source": [
    "a.conjugate()"
   ]
  },
  {
   "cell_type": "code",
   "execution_count": 5,
   "metadata": {
    "editable": true,
    "execution": {
     "iopub.execute_input": "2025-02-10T17:09:28.398141Z",
     "iopub.status.busy": "2025-02-10T17:09:28.397885Z",
     "iopub.status.idle": "2025-02-10T17:09:28.401148Z",
     "shell.execute_reply": "2025-02-10T17:09:28.400736Z"
    },
    "slideshow": {
     "slide_type": ""
    },
    "tags": []
   },
   "outputs": [
    {
     "data": {
      "text/plain": [
       "4.0"
      ]
     },
     "execution_count": 5,
     "metadata": {},
     "output_type": "execute_result"
    }
   ],
   "source": [
    "a.imag"
   ]
  },
  {
   "cell_type": "code",
   "execution_count": 6,
   "metadata": {
    "editable": true,
    "execution": {
     "iopub.execute_input": "2025-02-10T17:09:28.402995Z",
     "iopub.status.busy": "2025-02-10T17:09:28.402627Z",
     "iopub.status.idle": "2025-02-10T17:09:28.405883Z",
     "shell.execute_reply": "2025-02-10T17:09:28.405484Z"
    },
    "slideshow": {
     "slide_type": ""
    },
    "tags": []
   },
   "outputs": [
    {
     "data": {
      "text/plain": [
       "1.0"
      ]
     },
     "execution_count": 6,
     "metadata": {},
     "output_type": "execute_result"
    }
   ],
   "source": [
    "a.real"
   ]
  },
  {
   "cell_type": "markdown",
   "metadata": {
    "editable": true,
    "slideshow": {
     "slide_type": ""
    },
    "tags": []
   },
   "source": [
    "Somewhat confusingly, computing the magnitude of a complex number can be done \n",
    "with the `abs` method, which is available globally."
   ]
  },
  {
   "cell_type": "code",
   "execution_count": 7,
   "metadata": {
    "editable": true,
    "execution": {
     "iopub.execute_input": "2025-02-10T17:09:28.407635Z",
     "iopub.status.busy": "2025-02-10T17:09:28.407480Z",
     "iopub.status.idle": "2025-02-10T17:09:28.410664Z",
     "shell.execute_reply": "2025-02-10T17:09:28.410163Z"
    },
    "slideshow": {
     "slide_type": ""
    },
    "tags": []
   },
   "outputs": [
    {
     "data": {
      "text/plain": [
       "4.123105625617661"
      ]
     },
     "execution_count": 7,
     "metadata": {},
     "output_type": "execute_result"
    }
   ],
   "source": [
    "abs(a)"
   ]
  },
  {
   "cell_type": "code",
   "execution_count": 8,
   "metadata": {
    "editable": true,
    "execution": {
     "iopub.execute_input": "2025-02-10T17:09:28.412371Z",
     "iopub.status.busy": "2025-02-10T17:09:28.412201Z",
     "iopub.status.idle": "2025-02-10T17:09:28.415626Z",
     "shell.execute_reply": "2025-02-10T17:09:28.415238Z"
    },
    "slideshow": {
     "slide_type": ""
    },
    "tags": []
   },
   "outputs": [
    {
     "data": {
      "text/plain": [
       "17.0"
      ]
     },
     "execution_count": 8,
     "metadata": {},
     "output_type": "execute_result"
    }
   ],
   "source": [
    "(a.real**2 + a.imag**2)"
   ]
  },
  {
   "cell_type": "code",
   "execution_count": 9,
   "metadata": {
    "editable": true,
    "execution": {
     "iopub.execute_input": "2025-02-10T17:09:28.417253Z",
     "iopub.status.busy": "2025-02-10T17:09:28.417102Z",
     "iopub.status.idle": "2025-02-10T17:09:28.420396Z",
     "shell.execute_reply": "2025-02-10T17:09:28.419988Z"
    },
    "slideshow": {
     "slide_type": ""
    },
    "tags": []
   },
   "outputs": [
    {
     "data": {
      "text/plain": [
       "4.123105625617661"
      ]
     },
     "execution_count": 9,
     "metadata": {},
     "output_type": "execute_result"
    }
   ],
   "source": [
    "(a.real**2 + a.imag**2) ** 0.5"
   ]
  },
  {
   "cell_type": "markdown",
   "metadata": {
    "editable": true,
    "slideshow": {
     "slide_type": ""
    },
    "tags": []
   },
   "source": [
    "This also demonstrates the `**` operator, which for real numbers corresponds to \n",
    "exponentiation.\n",
    "\n",
    "Each type of number can be created _literally_, like we’ve been doing, by just \n",
    "typing the number into your shell or source code, and by using the correspond \n",
    "methods."
   ]
  },
  {
   "cell_type": "code",
   "execution_count": 10,
   "metadata": {
    "editable": true,
    "execution": {
     "iopub.execute_input": "2025-02-10T17:09:28.422301Z",
     "iopub.status.busy": "2025-02-10T17:09:28.421870Z",
     "iopub.status.idle": "2025-02-10T17:09:28.425154Z",
     "shell.execute_reply": "2025-02-10T17:09:28.424669Z"
    },
    "slideshow": {
     "slide_type": ""
    },
    "tags": []
   },
   "outputs": [
    {
     "data": {
      "text/plain": [
       "0"
      ]
     },
     "execution_count": 10,
     "metadata": {},
     "output_type": "execute_result"
    }
   ],
   "source": [
    "int()"
   ]
  },
  {
   "cell_type": "code",
   "execution_count": 11,
   "metadata": {
    "editable": true,
    "execution": {
     "iopub.execute_input": "2025-02-10T17:09:28.426982Z",
     "iopub.status.busy": "2025-02-10T17:09:28.426602Z",
     "iopub.status.idle": "2025-02-10T17:09:28.429790Z",
     "shell.execute_reply": "2025-02-10T17:09:28.429322Z"
    },
    "slideshow": {
     "slide_type": ""
    },
    "tags": []
   },
   "outputs": [
    {
     "data": {
      "text/plain": [
       "0.0"
      ]
     },
     "execution_count": 11,
     "metadata": {},
     "output_type": "execute_result"
    }
   ],
   "source": [
    "float()"
   ]
  },
  {
   "cell_type": "code",
   "execution_count": 12,
   "metadata": {
    "editable": true,
    "execution": {
     "iopub.execute_input": "2025-02-10T17:09:28.431776Z",
     "iopub.status.busy": "2025-02-10T17:09:28.431373Z",
     "iopub.status.idle": "2025-02-10T17:09:28.434827Z",
     "shell.execute_reply": "2025-02-10T17:09:28.434333Z"
    },
    "slideshow": {
     "slide_type": ""
    },
    "tags": []
   },
   "outputs": [
    {
     "data": {
      "text/plain": [
       "0j"
      ]
     },
     "execution_count": 12,
     "metadata": {},
     "output_type": "execute_result"
    }
   ],
   "source": [
    "complex()"
   ]
  },
  {
   "cell_type": "code",
   "execution_count": null,
   "metadata": {
    "editable": true,
    "slideshow": {
     "slide_type": ""
    },
    "tags": []
   },
   "outputs": [],
   "source": []
  },
  {
   "cell_type": "markdown",
   "metadata": {
    "editable": true,
    "slideshow": {
     "slide_type": ""
    },
    "tags": []
   },
   "source": []
  }
 ],
 "metadata": {
  "language_info": {
   "codemirror_mode": {
    "name": "ipython",
    "version": 3
   },
   "file_extension": ".py",
   "mimetype": "text/x-python",
   "name": "python",
   "nbconvert_exporter": "python",
   "pygments_lexer": "ipython3",
   "version": "3.11.11"
  }
 },
 "nbformat": 4,
 "nbformat_minor": 4
}
