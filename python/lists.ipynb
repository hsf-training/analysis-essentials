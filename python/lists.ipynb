{
 "cells": [
  {
   "cell_type": "markdown",
   "metadata": {
    "editable": true,
    "slideshow": {
     "slide_type": ""
    },
    "tags": []
   },
   "source": [
    "# Lists and looping\n",
    "\n",
    "Now things start to get _really_ interesting! Lists are collections of things \n",
    "stored in a specific order. They can be defined literally by wrapping things in \n",
    "square brackets `[]`, separating items with commas `,`.\n"
   ]
  },
  {
   "cell_type": "code",
   "execution_count": 1,
   "metadata": {
    "editable": true,
    "execution": {
     "iopub.execute_input": "2025-04-04T10:42:53.233198Z",
     "iopub.status.busy": "2025-04-04T10:42:53.233042Z",
     "iopub.status.idle": "2025-04-04T10:42:53.237649Z",
     "shell.execute_reply": "2025-04-04T10:42:53.237241Z"
    },
    "slideshow": {
     "slide_type": ""
    },
    "tags": []
   },
   "outputs": [],
   "source": [
    "import math"
   ]
  },
  {
   "cell_type": "code",
   "execution_count": 2,
   "metadata": {
    "editable": true,
    "execution": {
     "iopub.execute_input": "2025-04-04T10:42:53.239477Z",
     "iopub.status.busy": "2025-04-04T10:42:53.239157Z",
     "iopub.status.idle": "2025-04-04T10:42:53.241491Z",
     "shell.execute_reply": "2025-04-04T10:42:53.241081Z"
    },
    "slideshow": {
     "slide_type": ""
    },
    "tags": []
   },
   "outputs": [],
   "source": [
    "a = [4, 2, 9, 3]"
   ]
  },
  {
   "cell_type": "code",
   "execution_count": 3,
   "metadata": {
    "editable": true,
    "execution": {
     "iopub.execute_input": "2025-04-04T10:42:53.243476Z",
     "iopub.status.busy": "2025-04-04T10:42:53.243116Z",
     "iopub.status.idle": "2025-04-04T10:42:53.247845Z",
     "shell.execute_reply": "2025-04-04T10:42:53.247360Z"
    },
    "slideshow": {
     "slide_type": ""
    },
    "tags": []
   },
   "outputs": [
    {
     "data": {
      "text/plain": [
       "[4, 2, 9, 3]"
      ]
     },
     "execution_count": 3,
     "metadata": {},
     "output_type": "execute_result"
    }
   ],
   "source": [
    "a"
   ]
  },
  {
   "cell_type": "markdown",
   "metadata": {
    "editable": true,
    "slideshow": {
     "slide_type": ""
    },
    "tags": []
   },
   "source": [
    "Python lists can contain collections of whatever you like."
   ]
  },
  {
   "cell_type": "code",
   "execution_count": 4,
   "metadata": {
    "editable": true,
    "execution": {
     "iopub.execute_input": "2025-04-04T10:42:53.249786Z",
     "iopub.status.busy": "2025-04-04T10:42:53.249481Z",
     "iopub.status.idle": "2025-04-04T10:42:53.251932Z",
     "shell.execute_reply": "2025-04-04T10:42:53.251525Z"
    },
    "slideshow": {
     "slide_type": ""
    },
    "tags": []
   },
   "outputs": [],
   "source": [
    "excellent = [41, 'Hello', math.sin]"
   ]
  },
  {
   "cell_type": "markdown",
   "metadata": {
    "editable": true,
    "slideshow": {
     "slide_type": ""
    },
    "tags": []
   },
   "source": [
    "Each item in the list can be accessed by its _index_, its position in the list, \n",
    "which starts at zero for the first item. Indexing by negative numbers starts \n",
    "from the _last_ item of the list."
   ]
  },
  {
   "cell_type": "code",
   "execution_count": 5,
   "metadata": {
    "editable": true,
    "execution": {
     "iopub.execute_input": "2025-04-04T10:42:53.253695Z",
     "iopub.status.busy": "2025-04-04T10:42:53.253371Z",
     "iopub.status.idle": "2025-04-04T10:42:53.256351Z",
     "shell.execute_reply": "2025-04-04T10:42:53.255953Z"
    },
    "slideshow": {
     "slide_type": ""
    },
    "tags": []
   },
   "outputs": [
    {
     "data": {
      "text/plain": [
       "4"
      ]
     },
     "execution_count": 5,
     "metadata": {},
     "output_type": "execute_result"
    }
   ],
   "source": [
    "a[0]"
   ]
  },
  {
   "cell_type": "code",
   "execution_count": 6,
   "metadata": {
    "editable": true,
    "execution": {
     "iopub.execute_input": "2025-04-04T10:42:53.258023Z",
     "iopub.status.busy": "2025-04-04T10:42:53.257879Z",
     "iopub.status.idle": "2025-04-04T10:42:53.260896Z",
     "shell.execute_reply": "2025-04-04T10:42:53.260501Z"
    },
    "slideshow": {
     "slide_type": ""
    },
    "tags": []
   },
   "outputs": [
    {
     "data": {
      "text/plain": [
       "9"
      ]
     },
     "execution_count": 6,
     "metadata": {},
     "output_type": "execute_result"
    }
   ],
   "source": [
    "a[2]"
   ]
  },
  {
   "cell_type": "code",
   "execution_count": 7,
   "metadata": {
    "editable": true,
    "execution": {
     "iopub.execute_input": "2025-04-04T10:42:53.262760Z",
     "iopub.status.busy": "2025-04-04T10:42:53.262433Z",
     "iopub.status.idle": "2025-04-04T10:42:53.265721Z",
     "shell.execute_reply": "2025-04-04T10:42:53.265240Z"
    },
    "slideshow": {
     "slide_type": ""
    },
    "tags": []
   },
   "outputs": [
    {
     "data": {
      "text/plain": [
       "3"
      ]
     },
     "execution_count": 7,
     "metadata": {},
     "output_type": "execute_result"
    }
   ],
   "source": [
    "a[-1]"
   ]
  },
  {
   "cell_type": "markdown",
   "metadata": {
    "editable": true,
    "slideshow": {
     "slide_type": ""
    },
    "tags": []
   },
   "source": [
    "We’ll get an error if we try to access an index that doesn’t exist:"
   ]
  },
  {
   "cell_type": "code",
   "execution_count": 8,
   "metadata": {
    "editable": true,
    "execution": {
     "iopub.execute_input": "2025-04-04T10:42:53.267663Z",
     "iopub.status.busy": "2025-04-04T10:42:53.267348Z",
     "iopub.status.idle": "2025-04-04T10:42:53.394545Z",
     "shell.execute_reply": "2025-04-04T10:42:53.394046Z"
    },
    "slideshow": {
     "slide_type": ""
    },
    "tags": [
     "raises-exception"
    ]
   },
   "outputs": [
    {
     "ename": "IndexError",
     "evalue": "list index out of range",
     "output_type": "error",
     "traceback": [
      "\u001b[31m---------------------------------------------------------------------------\u001b[39m",
      "\u001b[31mIndexError\u001b[39m                                Traceback (most recent call last)",
      "\u001b[36mCell\u001b[39m\u001b[36m \u001b[39m\u001b[32mIn[8]\u001b[39m\u001b[32m, line 1\u001b[39m\n\u001b[32m----> \u001b[39m\u001b[32m1\u001b[39m \u001b[43ma\u001b[49m\u001b[43m[\u001b[49m\u001b[32;43m99\u001b[39;49m\u001b[43m]\u001b[49m\n",
      "\u001b[31mIndexError\u001b[39m: list index out of range"
     ]
    }
   ],
   "source": [
    "a[99]"
   ]
  },
  {
   "cell_type": "markdown",
   "metadata": {
    "editable": true,
    "slideshow": {
     "slide_type": ""
    },
    "tags": []
   },
   "source": [
    "Like strings, lists have a length which can be found with the `len` method."
   ]
  },
  {
   "cell_type": "code",
   "execution_count": 9,
   "metadata": {
    "editable": true,
    "execution": {
     "iopub.execute_input": "2025-04-04T10:42:53.396455Z",
     "iopub.status.busy": "2025-04-04T10:42:53.396163Z",
     "iopub.status.idle": "2025-04-04T10:42:53.399405Z",
     "shell.execute_reply": "2025-04-04T10:42:53.398951Z"
    },
    "slideshow": {
     "slide_type": ""
    },
    "tags": []
   },
   "outputs": [
    {
     "data": {
      "text/plain": [
       "4"
      ]
     },
     "execution_count": 9,
     "metadata": {},
     "output_type": "execute_result"
    }
   ],
   "source": [
    "len(a)"
   ]
  },
  {
   "cell_type": "markdown",
   "metadata": {
    "editable": true,
    "slideshow": {
     "slide_type": ""
    },
    "tags": []
   },
   "source": [
    "Unlike strings, lists are _mutable_, which means we can modify lists in-place, \n",
    "without creating a new one."
   ]
  },
  {
   "cell_type": "code",
   "execution_count": 10,
   "metadata": {
    "editable": true,
    "execution": {
     "iopub.execute_input": "2025-04-04T10:42:53.401311Z",
     "iopub.status.busy": "2025-04-04T10:42:53.400909Z",
     "iopub.status.idle": "2025-04-04T10:42:53.403378Z",
     "shell.execute_reply": "2025-04-04T10:42:53.402906Z"
    },
    "slideshow": {
     "slide_type": ""
    },
    "tags": []
   },
   "outputs": [],
   "source": [
    "a.append(45)"
   ]
  },
  {
   "cell_type": "code",
   "execution_count": 11,
   "metadata": {
    "editable": true,
    "execution": {
     "iopub.execute_input": "2025-04-04T10:42:53.405251Z",
     "iopub.status.busy": "2025-04-04T10:42:53.404885Z",
     "iopub.status.idle": "2025-04-04T10:42:53.408096Z",
     "shell.execute_reply": "2025-04-04T10:42:53.407625Z"
    },
    "slideshow": {
     "slide_type": ""
    },
    "tags": []
   },
   "outputs": [
    {
     "data": {
      "text/plain": [
       "[4, 2, 9, 3, 45]"
      ]
     },
     "execution_count": 11,
     "metadata": {},
     "output_type": "execute_result"
    }
   ],
   "source": [
    "a"
   ]
  },
  {
   "cell_type": "code",
   "execution_count": 12,
   "metadata": {
    "editable": true,
    "execution": {
     "iopub.execute_input": "2025-04-04T10:42:53.410122Z",
     "iopub.status.busy": "2025-04-04T10:42:53.409726Z",
     "iopub.status.idle": "2025-04-04T10:42:53.413111Z",
     "shell.execute_reply": "2025-04-04T10:42:53.412726Z"
    },
    "slideshow": {
     "slide_type": ""
    },
    "tags": []
   },
   "outputs": [
    {
     "data": {
      "text/plain": [
       "5"
      ]
     },
     "execution_count": 12,
     "metadata": {},
     "output_type": "execute_result"
    }
   ],
   "source": [
    "len(a)"
   ]
  },
  {
   "cell_type": "markdown",
   "metadata": {
    "editable": true,
    "slideshow": {
     "slide_type": ""
    },
    "tags": []
   },
   "source": [
    "We can see that lists are mutable because using the `append` method didn’t \n",
    "print anything, and our variable `a` now has a different value.\n",
    "\n",
    "Because lists are mutable, we can use the special `del` keyword to remove \n",
    "specific indices from the list."
   ]
  },
  {
   "cell_type": "code",
   "execution_count": 13,
   "metadata": {
    "editable": true,
    "execution": {
     "iopub.execute_input": "2025-04-04T10:42:53.414954Z",
     "iopub.status.busy": "2025-04-04T10:42:53.414550Z",
     "iopub.status.idle": "2025-04-04T10:42:53.417008Z",
     "shell.execute_reply": "2025-04-04T10:42:53.416517Z"
    },
    "slideshow": {
     "slide_type": ""
    },
    "tags": []
   },
   "outputs": [],
   "source": [
    "del a[-2]"
   ]
  },
  {
   "cell_type": "code",
   "execution_count": 14,
   "metadata": {
    "editable": true,
    "execution": {
     "iopub.execute_input": "2025-04-04T10:42:53.418686Z",
     "iopub.status.busy": "2025-04-04T10:42:53.418526Z",
     "iopub.status.idle": "2025-04-04T10:42:53.421676Z",
     "shell.execute_reply": "2025-04-04T10:42:53.421168Z"
    },
    "slideshow": {
     "slide_type": ""
    },
    "tags": []
   },
   "outputs": [
    {
     "data": {
      "text/plain": [
       "[4, 2, 9, 45]"
      ]
     },
     "execution_count": 14,
     "metadata": {},
     "output_type": "execute_result"
    }
   ],
   "source": [
    "a"
   ]
  },
  {
   "cell_type": "markdown",
   "metadata": {
    "editable": true,
    "slideshow": {
     "slide_type": ""
    },
    "tags": []
   },
   "source": [
    "*Good to know*\n",
    "`del` is a language keyword representing an action, and not a function. The\n",
    "syntactic difference is that functions take their arguments between parentheses,\n",
    "such as `my_function(1, 2, 3)`, whereas `del` does not."
   ]
  },
  {
   "cell_type": "markdown",
   "metadata": {
    "editable": true,
    "slideshow": {
     "slide_type": ""
    },
    "tags": []
   },
   "source": [
    "You can retrieve sub-lists by using _slice_ notation whilst indexing."
   ]
  },
  {
   "cell_type": "code",
   "execution_count": 15,
   "metadata": {
    "editable": true,
    "execution": {
     "iopub.execute_input": "2025-04-04T10:42:53.423657Z",
     "iopub.status.busy": "2025-04-04T10:42:53.423348Z",
     "iopub.status.idle": "2025-04-04T10:42:53.426593Z",
     "shell.execute_reply": "2025-04-04T10:42:53.426115Z"
    },
    "slideshow": {
     "slide_type": ""
    },
    "tags": []
   },
   "outputs": [
    {
     "data": {
      "text/plain": [
       "[2, 9]"
      ]
     },
     "execution_count": 15,
     "metadata": {},
     "output_type": "execute_result"
    }
   ],
   "source": [
    "a[1:-1]"
   ]
  },
  {
   "cell_type": "markdown",
   "metadata": {
    "editable": true,
    "slideshow": {
     "slide_type": ""
    },
    "tags": []
   },
   "source": [
    "This retrieves the part of list `a` starting from index `1` until _just before_ \n",
    "index `-1`. The indexing is ‘exclusive’ in that it excludes the item of the \n",
    "last index. This is the convention of indexing in Python.\n",
    "\n",
    "You can omit a number in the first or second indexing position, and Python will \n",
    "assume you mean the first element (index zero) and last element (index \n",
    "`len(array)`)."
   ]
  },
  {
   "cell_type": "code",
   "execution_count": 16,
   "metadata": {
    "editable": true,
    "execution": {
     "iopub.execute_input": "2025-04-04T10:42:53.428694Z",
     "iopub.status.busy": "2025-04-04T10:42:53.428222Z",
     "iopub.status.idle": "2025-04-04T10:42:53.431715Z",
     "shell.execute_reply": "2025-04-04T10:42:53.431298Z"
    },
    "slideshow": {
     "slide_type": ""
    },
    "tags": []
   },
   "outputs": [
    {
     "data": {
      "text/plain": [
       "[4, 2]"
      ]
     },
     "execution_count": 16,
     "metadata": {},
     "output_type": "execute_result"
    }
   ],
   "source": [
    "a[:-2]"
   ]
  },
  {
   "cell_type": "code",
   "execution_count": 17,
   "metadata": {
    "editable": true,
    "execution": {
     "iopub.execute_input": "2025-04-04T10:42:53.433502Z",
     "iopub.status.busy": "2025-04-04T10:42:53.433203Z",
     "iopub.status.idle": "2025-04-04T10:42:53.436383Z",
     "shell.execute_reply": "2025-04-04T10:42:53.435897Z"
    },
    "slideshow": {
     "slide_type": ""
    },
    "tags": []
   },
   "outputs": [
    {
     "data": {
      "text/plain": [
       "[2, 9, 45]"
      ]
     },
     "execution_count": 17,
     "metadata": {},
     "output_type": "execute_result"
    }
   ],
   "source": [
    "a[1:]"
   ]
  },
  {
   "cell_type": "code",
   "execution_count": 18,
   "metadata": {
    "editable": true,
    "execution": {
     "iopub.execute_input": "2025-04-04T10:42:53.438056Z",
     "iopub.status.busy": "2025-04-04T10:42:53.437904Z",
     "iopub.status.idle": "2025-04-04T10:42:53.441083Z",
     "shell.execute_reply": "2025-04-04T10:42:53.440684Z"
    },
    "slideshow": {
     "slide_type": ""
    },
    "tags": []
   },
   "outputs": [
    {
     "data": {
      "text/plain": [
       "[4, 2, 9, 45]"
      ]
     },
     "execution_count": 18,
     "metadata": {},
     "output_type": "execute_result"
    }
   ],
   "source": [
    "a[:]"
   ]
  },
  {
   "cell_type": "markdown",
   "metadata": {
    "editable": true,
    "slideshow": {
     "slide_type": ""
    },
    "tags": []
   },
   "source": [
    "Slicing returns a copy of the array, so modifying the return value doesn’t \n",
    "affect the original array."
   ]
  },
  {
   "cell_type": "code",
   "execution_count": 19,
   "metadata": {
    "editable": true,
    "execution": {
     "iopub.execute_input": "2025-04-04T10:42:53.442927Z",
     "iopub.status.busy": "2025-04-04T10:42:53.442521Z",
     "iopub.status.idle": "2025-04-04T10:42:53.445462Z",
     "shell.execute_reply": "2025-04-04T10:42:53.445056Z"
    },
    "slideshow": {
     "slide_type": ""
    },
    "tags": []
   },
   "outputs": [
    {
     "name": "stdout",
     "output_type": "stream",
     "text": [
      "[2, 9, 45]\n"
     ]
    }
   ],
   "source": [
    "b = a[1:]\n",
    "print(b)"
   ]
  },
  {
   "cell_type": "code",
   "execution_count": 20,
   "metadata": {
    "editable": true,
    "execution": {
     "iopub.execute_input": "2025-04-04T10:42:53.447089Z",
     "iopub.status.busy": "2025-04-04T10:42:53.446940Z",
     "iopub.status.idle": "2025-04-04T10:42:53.449259Z",
     "shell.execute_reply": "2025-04-04T10:42:53.448860Z"
    },
    "slideshow": {
     "slide_type": ""
    },
    "tags": []
   },
   "outputs": [],
   "source": [
    "b[0] = 3"
   ]
  },
  {
   "cell_type": "code",
   "execution_count": 21,
   "metadata": {
    "editable": true,
    "execution": {
     "iopub.execute_input": "2025-04-04T10:42:53.451175Z",
     "iopub.status.busy": "2025-04-04T10:42:53.450769Z",
     "iopub.status.idle": "2025-04-04T10:42:53.454037Z",
     "shell.execute_reply": "2025-04-04T10:42:53.453546Z"
    },
    "slideshow": {
     "slide_type": ""
    },
    "tags": []
   },
   "outputs": [
    {
     "data": {
      "text/plain": [
       "[3, 9, 45]"
      ]
     },
     "execution_count": 21,
     "metadata": {},
     "output_type": "execute_result"
    }
   ],
   "source": [
    "b"
   ]
  },
  {
   "cell_type": "code",
   "execution_count": 22,
   "metadata": {
    "editable": true,
    "execution": {
     "iopub.execute_input": "2025-04-04T10:42:53.456030Z",
     "iopub.status.busy": "2025-04-04T10:42:53.455654Z",
     "iopub.status.idle": "2025-04-04T10:42:53.458890Z",
     "shell.execute_reply": "2025-04-04T10:42:53.458415Z"
    },
    "slideshow": {
     "slide_type": ""
    },
    "tags": []
   },
   "outputs": [
    {
     "data": {
      "text/plain": [
       "[4, 2, 9, 45]"
      ]
     },
     "execution_count": 22,
     "metadata": {},
     "output_type": "execute_result"
    }
   ],
   "source": [
    "a"
   ]
  },
  {
   "cell_type": "markdown",
   "metadata": {
    "editable": true,
    "slideshow": {
     "slide_type": ""
    },
    "tags": []
   },
   "source": [
    "We did something cool there by assigning a value to a specific index, `b[0] =\n",
    "3`. The same trick works with slices."
   ]
  },
  {
   "cell_type": "code",
   "execution_count": 23,
   "metadata": {
    "editable": true,
    "execution": {
     "iopub.execute_input": "2025-04-04T10:42:53.460836Z",
     "iopub.status.busy": "2025-04-04T10:42:53.460447Z",
     "iopub.status.idle": "2025-04-04T10:42:53.462830Z",
     "shell.execute_reply": "2025-04-04T10:42:53.462445Z"
    },
    "slideshow": {
     "slide_type": ""
    },
    "tags": []
   },
   "outputs": [],
   "source": [
    "b[:2] = [99, 2, 78]"
   ]
  },
  {
   "cell_type": "code",
   "execution_count": 24,
   "metadata": {
    "editable": true,
    "execution": {
     "iopub.execute_input": "2025-04-04T10:42:53.464592Z",
     "iopub.status.busy": "2025-04-04T10:42:53.464291Z",
     "iopub.status.idle": "2025-04-04T10:42:53.467435Z",
     "shell.execute_reply": "2025-04-04T10:42:53.466970Z"
    },
    "slideshow": {
     "slide_type": ""
    },
    "tags": []
   },
   "outputs": [
    {
     "data": {
      "text/plain": [
       "[99, 2, 78, 45]"
      ]
     },
     "execution_count": 24,
     "metadata": {},
     "output_type": "execute_result"
    }
   ],
   "source": [
    "b"
   ]
  },
  {
   "cell_type": "markdown",
   "metadata": {
    "editable": true,
    "slideshow": {
     "slide_type": ""
    },
    "tags": []
   },
   "source": [
    "This is equivalent of _replacing_ a certain range (`:2`, or items at position 0\n",
    "and 1) of the list `b` with other items from another list. Note that in our\n",
    "example we replace 2 elements with 3. The same syntax might be used for\n",
    "inserting elements at an arbitrary position in the list. If we want to insert\n",
    "the number 6 between the 2 and the 78 in the list above, we would use:"
   ]
  },
  {
   "cell_type": "code",
   "execution_count": 25,
   "metadata": {
    "editable": true,
    "execution": {
     "iopub.execute_input": "2025-04-04T10:42:53.469372Z",
     "iopub.status.busy": "2025-04-04T10:42:53.468979Z",
     "iopub.status.idle": "2025-04-04T10:42:53.471394Z",
     "shell.execute_reply": "2025-04-04T10:42:53.470989Z"
    },
    "slideshow": {
     "slide_type": ""
    },
    "tags": []
   },
   "outputs": [],
   "source": [
    "b[2:0] = [6]"
   ]
  },
  {
   "cell_type": "markdown",
   "metadata": {
    "editable": true,
    "slideshow": {
     "slide_type": ""
    },
    "tags": []
   },
   "source": [
    "meaning _take out 0 elements from the list starting a position 2 and insert the\n",
    "content of the list `[6]` in that position_."
   ]
  },
  {
   "cell_type": "markdown",
   "metadata": {
    "editable": true,
    "slideshow": {
     "slide_type": ""
    },
    "tags": []
   },
   "source": [
    "**Exercise**\n",
    "\n",
    "Slicing creates a copy, so what notation could you use to copy the full list?"
   ]
  },
  {
   "cell_type": "markdown",
   "metadata": {},
   "source": [
    "**Solution**\n",
    "You need to slice from the very beginning to the very end of the list."
   ]
  },
  {
   "cell_type": "code",
   "execution_count": 26,
   "metadata": {
    "editable": true,
    "execution": {
     "iopub.execute_input": "2025-04-04T10:42:53.473118Z",
     "iopub.status.busy": "2025-04-04T10:42:53.472977Z",
     "iopub.status.idle": "2025-04-04T10:42:53.476146Z",
     "shell.execute_reply": "2025-04-04T10:42:53.475653Z"
    },
    "slideshow": {
     "slide_type": ""
    },
    "tags": []
   },
   "outputs": [
    {
     "data": {
      "text/plain": [
       "[4, 2, 9, 45]"
      ]
     },
     "execution_count": 26,
     "metadata": {},
     "output_type": "execute_result"
    }
   ],
   "source": [
    "a[:]"
   ]
  },
  {
   "cell_type": "markdown",
   "metadata": {
    "editable": true,
    "slideshow": {
     "slide_type": ""
    },
    "tags": []
   },
   "source": [
    "This is equivalent to specifying the indices explicitly."
   ]
  },
  {
   "cell_type": "code",
   "execution_count": 27,
   "metadata": {
    "editable": true,
    "execution": {
     "iopub.execute_input": "2025-04-04T10:42:53.477874Z",
     "iopub.status.busy": "2025-04-04T10:42:53.477731Z",
     "iopub.status.idle": "2025-04-04T10:42:53.480987Z",
     "shell.execute_reply": "2025-04-04T10:42:53.480484Z"
    },
    "slideshow": {
     "slide_type": ""
    },
    "tags": []
   },
   "outputs": [
    {
     "data": {
      "text/plain": [
       "[4, 2, 9, 45]"
      ]
     },
     "execution_count": 27,
     "metadata": {},
     "output_type": "execute_result"
    }
   ],
   "source": [
    "a[0:len(a)]"
   ]
  },
  {
   "cell_type": "code",
   "execution_count": 28,
   "metadata": {
    "editable": true,
    "execution": {
     "iopub.execute_input": "2025-04-04T10:42:53.482977Z",
     "iopub.status.busy": "2025-04-04T10:42:53.482561Z",
     "iopub.status.idle": "2025-04-04T10:42:53.486073Z",
     "shell.execute_reply": "2025-04-04T10:42:53.485594Z"
    },
    "slideshow": {
     "slide_type": ""
    },
    "tags": []
   },
   "outputs": [
    {
     "data": {
      "text/plain": [
       "True"
      ]
     },
     "execution_count": 28,
     "metadata": {},
     "output_type": "execute_result"
    }
   ],
   "source": [
    "a == a[:]"
   ]
  },
  {
   "cell_type": "code",
   "execution_count": 29,
   "metadata": {
    "editable": true,
    "execution": {
     "iopub.execute_input": "2025-04-04T10:42:53.487971Z",
     "iopub.status.busy": "2025-04-04T10:42:53.487692Z",
     "iopub.status.idle": "2025-04-04T10:42:53.490895Z",
     "shell.execute_reply": "2025-04-04T10:42:53.490413Z"
    },
    "slideshow": {
     "slide_type": ""
    },
    "tags": []
   },
   "outputs": [
    {
     "data": {
      "text/plain": [
       "True"
      ]
     },
     "execution_count": 29,
     "metadata": {},
     "output_type": "execute_result"
    }
   ],
   "source": [
    "a is a"
   ]
  },
  {
   "cell_type": "code",
   "execution_count": 30,
   "metadata": {
    "editable": true,
    "execution": {
     "iopub.execute_input": "2025-04-04T10:42:53.492552Z",
     "iopub.status.busy": "2025-04-04T10:42:53.492399Z",
     "iopub.status.idle": "2025-04-04T10:42:53.495704Z",
     "shell.execute_reply": "2025-04-04T10:42:53.495288Z"
    },
    "slideshow": {
     "slide_type": ""
    },
    "tags": []
   },
   "outputs": [
    {
     "data": {
      "text/plain": [
       "False"
      ]
     },
     "execution_count": 30,
     "metadata": {},
     "output_type": "execute_result"
    }
   ],
   "source": [
    "a is a[:]  # creates a copy!"
   ]
  },
  {
   "cell_type": "markdown",
   "metadata": {
    "editable": true,
    "slideshow": {
     "slide_type": ""
    },
    "tags": []
   },
   "source": [
    "## Looping\n",
    "\n",
    "When you’ve got a collection of things, it’s pretty common to want to access \n",
    "each one sequentially. This is called looping, or iterating, and is super easy."
   ]
  },
  {
   "cell_type": "code",
   "execution_count": 31,
   "metadata": {
    "editable": true,
    "execution": {
     "iopub.execute_input": "2025-04-04T10:42:53.497463Z",
     "iopub.status.busy": "2025-04-04T10:42:53.497167Z",
     "iopub.status.idle": "2025-04-04T10:42:53.499957Z",
     "shell.execute_reply": "2025-04-04T10:42:53.499479Z"
    },
    "slideshow": {
     "slide_type": ""
    },
    "tags": []
   },
   "outputs": [
    {
     "name": "stdout",
     "output_type": "stream",
     "text": [
      "4\n",
      "2\n",
      "9\n",
      "45\n"
     ]
    }
   ],
   "source": [
    "for item in a:\n",
    "    print(item)"
   ]
  },
  {
   "cell_type": "markdown",
   "metadata": {
    "editable": true,
    "slideshow": {
     "slide_type": ""
    },
    "tags": []
   },
   "source": [
    "We have to indent the code inside the `for` loop to tell Python that these\n",
    "lines should be run for every iteration."
   ]
  },
  {
   "cell_type": "markdown",
   "metadata": {
    "editable": true,
    "slideshow": {
     "slide_type": ""
    },
    "tags": []
   },
   "source": [
    "### Indentation\n",
    "\n",
    "The `for` loop is a block, and every Python block requires indentation, unlike\n",
    "other \"free-form\" languages such as C++ or Java. This means that Python will\n",
    "throw an error if you don't indent:"
   ]
  },
  {
   "cell_type": "code",
   "execution_count": 32,
   "metadata": {
    "editable": true,
    "execution": {
     "iopub.execute_input": "2025-04-04T10:42:53.501767Z",
     "iopub.status.busy": "2025-04-04T10:42:53.501618Z",
     "iopub.status.idle": "2025-04-04T10:42:53.504171Z",
     "shell.execute_reply": "2025-04-04T10:42:53.503725Z"
    },
    "slideshow": {
     "slide_type": ""
    },
    "tags": [
     "raises-exception"
    ]
   },
   "outputs": [
    {
     "name": "stdout",
     "output_type": "stream",
     "text": [
      "99\n",
      "2\n",
      "6\n",
      "78\n",
      "45\n"
     ]
    }
   ],
   "source": [
    "for i in b:\n",
    "    print(i)"
   ]
  },
  {
   "cell_type": "markdown",
   "metadata": {
    "editable": true,
    "slideshow": {
     "slide_type": ""
    },
    "tags": []
   },
   "source": [
    "Indentation must be consistent within the same block, so if you indent two lines\n",
    "in the same `for` loop using a different number of spaces, Python will complain\n",
    "once again:"
   ]
  },
  {
   "cell_type": "code",
   "execution_count": 33,
   "metadata": {
    "editable": true,
    "execution": {
     "iopub.execute_input": "2025-04-04T10:42:53.505852Z",
     "iopub.status.busy": "2025-04-04T10:42:53.505709Z",
     "iopub.status.idle": "2025-04-04T10:42:53.508152Z",
     "shell.execute_reply": "2025-04-04T10:42:53.507698Z"
    },
    "slideshow": {
     "slide_type": ""
    },
    "tags": [
     "raises-exception"
    ]
   },
   "outputs": [
    {
     "name": "stdout",
     "output_type": "stream",
     "text": [
      "I am in a loop\n",
      "99\n",
      "I am in a loop\n",
      "2\n",
      "I am in a loop\n",
      "6\n",
      "I am in a loop\n",
      "78\n",
      "I am in a loop\n",
      "45\n"
     ]
    }
   ],
   "source": [
    "for i in b:\n",
    "    print(\"I am in a loop\")\n",
    "    print(i)"
   ]
  },
  {
   "cell_type": "markdown",
   "metadata": {
    "editable": true,
    "slideshow": {
     "slide_type": ""
    },
    "tags": []
   },
   "source": [
    "Indentation is necessary as Python does not use any keyword or symbol to\n",
    "determine the end of a block (_e.g._ there is no `endfor`). As a side effect,\n",
    "indentation forces you to make your code more readable!\n",
    "\n",
    "Note that it does not matter how many spaces you use for indentation. **As a\n",
    "convention, we are using four spaces.**"
   ]
  },
  {
   "cell_type": "markdown",
   "metadata": {
    "editable": true,
    "slideshow": {
     "slide_type": ""
    },
    "tags": []
   },
   "source": [
    "The variable name `item` can be whatever we want, but its value is changed by \n",
    "Python to be the element of the item we’re currently on, starting from the \n",
    "first.\n",
    "\n",
    "Because lists are mutable, we can try to modify the length of the list whilst \n",
    "we’re iterating."
   ]
  },
  {
   "cell_type": "code",
   "execution_count": 34,
   "metadata": {
    "editable": true,
    "execution": {
     "iopub.execute_input": "2025-04-04T10:42:53.509998Z",
     "iopub.status.busy": "2025-04-04T10:42:53.509707Z",
     "iopub.status.idle": "2025-04-04T10:42:53.512185Z",
     "shell.execute_reply": "2025-04-04T10:42:53.511716Z"
    },
    "slideshow": {
     "slide_type": ""
    },
    "tags": []
   },
   "outputs": [],
   "source": [
    "a_copy = a[:]\n",
    "for item in a_copy:\n",
    "    del a_copy[0]"
   ]
  },
  {
   "cell_type": "code",
   "execution_count": 35,
   "metadata": {
    "editable": true,
    "execution": {
     "iopub.execute_input": "2025-04-04T10:42:53.514067Z",
     "iopub.status.busy": "2025-04-04T10:42:53.513787Z",
     "iopub.status.idle": "2025-04-04T10:42:53.516825Z",
     "shell.execute_reply": "2025-04-04T10:42:53.516425Z"
    },
    "slideshow": {
     "slide_type": ""
    },
    "tags": []
   },
   "outputs": [
    {
     "data": {
      "text/plain": [
       "[9, 45]"
      ]
     },
     "execution_count": 35,
     "metadata": {},
     "output_type": "execute_result"
    }
   ],
   "source": [
    "a_copy"
   ]
  },
  {
   "cell_type": "markdown",
   "metadata": {
    "editable": true,
    "slideshow": {
     "slide_type": ""
    },
    "tags": []
   },
   "source": [
    "Intuitively, you might expect `a_copy` to be empty, but it’s not! The technical\n",
    "reasons aren’t important, but this highlights an important rule: **never\n",
    "modify the length of a list whilst iterating over it!** You won’t end up with\n",
    "what you expect.\n",
    "\n",
    "You can, however, freely modify the _values_ of each item in the list whilst \n",
    "looping. This is a very common use case."
   ]
  },
  {
   "cell_type": "code",
   "execution_count": 36,
   "metadata": {
    "editable": true,
    "execution": {
     "iopub.execute_input": "2025-04-04T10:42:53.518508Z",
     "iopub.status.busy": "2025-04-04T10:42:53.518367Z",
     "iopub.status.idle": "2025-04-04T10:42:53.520808Z",
     "shell.execute_reply": "2025-04-04T10:42:53.520421Z"
    },
    "slideshow": {
     "slide_type": ""
    },
    "tags": []
   },
   "outputs": [],
   "source": [
    "a_copy = a[:]\n",
    "i = 0\n",
    "for item in a_copy:\n",
    "    a_copy[i] = 2*item\n",
    "    i += 1"
   ]
  },
  {
   "cell_type": "code",
   "execution_count": 37,
   "metadata": {
    "editable": true,
    "execution": {
     "iopub.execute_input": "2025-04-04T10:42:53.522431Z",
     "iopub.status.busy": "2025-04-04T10:42:53.522293Z",
     "iopub.status.idle": "2025-04-04T10:42:53.525389Z",
     "shell.execute_reply": "2025-04-04T10:42:53.524917Z"
    },
    "slideshow": {
     "slide_type": ""
    },
    "tags": []
   },
   "outputs": [
    {
     "data": {
      "text/plain": [
       "[8, 4, 18, 90]"
      ]
     },
     "execution_count": 37,
     "metadata": {},
     "output_type": "execute_result"
    }
   ],
   "source": [
    "a_copy"
   ]
  },
  {
   "cell_type": "markdown",
   "metadata": {
    "editable": true,
    "slideshow": {
     "slide_type": ""
    },
    "tags": []
   },
   "source": [
    "Keeping track of the current index ourselves, with `i` is annoying, but luckily \n",
    "Python gives us a nicer way of doing that."
   ]
  },
  {
   "cell_type": "code",
   "execution_count": 38,
   "metadata": {
    "editable": true,
    "execution": {
     "iopub.execute_input": "2025-04-04T10:42:53.527149Z",
     "iopub.status.busy": "2025-04-04T10:42:53.526861Z",
     "iopub.status.idle": "2025-04-04T10:42:53.529426Z",
     "shell.execute_reply": "2025-04-04T10:42:53.528958Z"
    },
    "slideshow": {
     "slide_type": ""
    },
    "tags": []
   },
   "outputs": [],
   "source": [
    "a_doubled = a[:]\n",
    "for index, item in enumerate(a_doubled):\n",
    "    a_doubled[index] = 2 * item"
   ]
  },
  {
   "cell_type": "code",
   "execution_count": 39,
   "metadata": {
    "editable": true,
    "execution": {
     "iopub.execute_input": "2025-04-04T10:42:53.531312Z",
     "iopub.status.busy": "2025-04-04T10:42:53.530936Z",
     "iopub.status.idle": "2025-04-04T10:42:53.534138Z",
     "shell.execute_reply": "2025-04-04T10:42:53.533679Z"
    },
    "slideshow": {
     "slide_type": ""
    },
    "tags": []
   },
   "outputs": [
    {
     "data": {
      "text/plain": [
       "[8, 4, 18, 90]"
      ]
     },
     "execution_count": 39,
     "metadata": {},
     "output_type": "execute_result"
    }
   ],
   "source": [
    "a_doubled"
   ]
  },
  {
   "cell_type": "markdown",
   "metadata": {
    "editable": true,
    "slideshow": {
     "slide_type": ""
    },
    "tags": []
   },
   "source": [
    "There’s a lot going on here. Firstly, note that Python lets you assign values \n",
    "to multiple variables at the same time."
   ]
  },
  {
   "cell_type": "code",
   "execution_count": 40,
   "metadata": {
    "editable": true,
    "execution": {
     "iopub.execute_input": "2025-04-04T10:42:53.536046Z",
     "iopub.status.busy": "2025-04-04T10:42:53.535620Z",
     "iopub.status.idle": "2025-04-04T10:42:53.538079Z",
     "shell.execute_reply": "2025-04-04T10:42:53.537597Z"
    },
    "slideshow": {
     "slide_type": ""
    },
    "tags": []
   },
   "outputs": [],
   "source": [
    "one, two = [34, 43]"
   ]
  },
  {
   "cell_type": "code",
   "execution_count": 41,
   "metadata": {
    "editable": true,
    "execution": {
     "iopub.execute_input": "2025-04-04T10:42:53.540109Z",
     "iopub.status.busy": "2025-04-04T10:42:53.539734Z",
     "iopub.status.idle": "2025-04-04T10:42:53.542536Z",
     "shell.execute_reply": "2025-04-04T10:42:53.542058Z"
    },
    "slideshow": {
     "slide_type": ""
    },
    "tags": []
   },
   "outputs": [
    {
     "name": "stdout",
     "output_type": "stream",
     "text": [
      "one: 34, two: 43\n"
     ]
    }
   ],
   "source": [
    "print(f\"one: {one}, two: {two}\")"
   ]
  },
  {
   "cell_type": "markdown",
   "metadata": {
    "editable": true,
    "slideshow": {
     "slide_type": ""
    },
    "tags": []
   },
   "source": [
    "That’s already pretty cool! But then think about what happens if you had a list \n",
    "where each item was another list, each containing two numbers."
   ]
  },
  {
   "cell_type": "code",
   "execution_count": 42,
   "metadata": {
    "editable": true,
    "execution": {
     "iopub.execute_input": "2025-04-04T10:42:53.544395Z",
     "iopub.status.busy": "2025-04-04T10:42:53.544109Z",
     "iopub.status.idle": "2025-04-04T10:42:53.546999Z",
     "shell.execute_reply": "2025-04-04T10:42:53.546519Z"
    },
    "slideshow": {
     "slide_type": ""
    },
    "tags": []
   },
   "outputs": [
    {
     "name": "stdout",
     "output_type": "stream",
     "text": [
      "[20, 29]\n",
      "[30, 34]\n"
     ]
    }
   ],
   "source": [
    "nested = [[20, 29], [30, 34]]\n",
    "for item in nested:\n",
    "    print(item)"
   ]
  },
  {
   "cell_type": "markdown",
   "metadata": {
    "editable": true,
    "slideshow": {
     "slide_type": ""
    },
    "tags": []
   },
   "source": [
    "So, we can just assign each item in the sublist to separate variables in the \n",
    "`for` statement."
   ]
  },
  {
   "cell_type": "code",
   "execution_count": 43,
   "metadata": {
    "editable": true,
    "execution": {
     "iopub.execute_input": "2025-04-04T10:42:53.548887Z",
     "iopub.status.busy": "2025-04-04T10:42:53.548501Z",
     "iopub.status.idle": "2025-04-04T10:42:53.551092Z",
     "shell.execute_reply": "2025-04-04T10:42:53.550608Z"
    },
    "slideshow": {
     "slide_type": ""
    },
    "tags": []
   },
   "outputs": [
    {
     "name": "stdout",
     "output_type": "stream",
     "text": [
      "29 20\n",
      "34 30\n"
     ]
    }
   ],
   "source": [
    "for one, two in nested:\n",
    "    print(two, one)"
   ]
  },
  {
   "cell_type": "markdown",
   "metadata": {
    "editable": true,
    "slideshow": {
     "slide_type": ""
    },
    "tags": []
   },
   "source": [
    "Now we can understand a little better what `enumerate` does: for each item in \n",
    "the list, it returns a new list containing the current index and the item."
   ]
  },
  {
   "cell_type": "code",
   "execution_count": 44,
   "metadata": {
    "editable": true,
    "execution": {
     "iopub.execute_input": "2025-04-04T10:42:53.553034Z",
     "iopub.status.busy": "2025-04-04T10:42:53.552756Z",
     "iopub.status.idle": "2025-04-04T10:42:53.555969Z",
     "shell.execute_reply": "2025-04-04T10:42:53.555558Z"
    },
    "slideshow": {
     "slide_type": ""
    },
    "tags": []
   },
   "outputs": [
    {
     "data": {
      "text/plain": [
       "<enumerate at 0x7fdea8b5b920>"
      ]
     },
     "execution_count": 44,
     "metadata": {},
     "output_type": "execute_result"
    }
   ],
   "source": [
    "enumerate(a)"
   ]
  },
  {
   "cell_type": "code",
   "execution_count": 45,
   "metadata": {
    "editable": true,
    "execution": {
     "iopub.execute_input": "2025-04-04T10:42:53.557797Z",
     "iopub.status.busy": "2025-04-04T10:42:53.557384Z",
     "iopub.status.idle": "2025-04-04T10:42:53.560918Z",
     "shell.execute_reply": "2025-04-04T10:42:53.560417Z"
    },
    "slideshow": {
     "slide_type": ""
    },
    "tags": []
   },
   "outputs": [
    {
     "data": {
      "text/plain": [
       "[(0, 4), (1, 2), (2, 9), (3, 45)]"
      ]
     },
     "execution_count": 45,
     "metadata": {},
     "output_type": "execute_result"
    }
   ],
   "source": [
    "list(enumerate(a))"
   ]
  },
  {
   "cell_type": "markdown",
   "metadata": {
    "editable": true,
    "slideshow": {
     "slide_type": ""
    },
    "tags": []
   },
   "source": [
    "For more advanced reasons `enumerate` doesn’t return a list directly, but instead\n",
    "something that the `for` statement knows how to iterate over (this is called a\n",
    "[generator](https://wiki.python.org/moin/Generators) and for the moment you\n",
    "don't need to know how it works). We can convert it to a list with the `list`\n",
    "method when we want to see what’s it doing.\n",
    "\n",
    "This technique of looping over lists of lists lets us loop over two lists \n",
    "simultaneously, using the `zip` method."
   ]
  },
  {
   "cell_type": "code",
   "execution_count": 46,
   "metadata": {
    "editable": true,
    "execution": {
     "iopub.execute_input": "2025-04-04T10:42:53.562598Z",
     "iopub.status.busy": "2025-04-04T10:42:53.562438Z",
     "iopub.status.idle": "2025-04-04T10:42:53.565083Z",
     "shell.execute_reply": "2025-04-04T10:42:53.564647Z"
    },
    "slideshow": {
     "slide_type": ""
    },
    "tags": []
   },
   "outputs": [
    {
     "name": "stdout",
     "output_type": "stream",
     "text": [
      "8 4\n",
      "4 2\n",
      "18 9\n",
      "90 45\n"
     ]
    }
   ],
   "source": [
    "for item, item2 in zip(a, a_doubled):\n",
    "    print(item2, item)"
   ]
  },
  {
   "cell_type": "markdown",
   "metadata": {
    "editable": true,
    "slideshow": {
     "slide_type": ""
    },
    "tags": []
   },
   "source": [
    "Neat! As before, we can see what `zip` is doing explicitly by using `list`."
   ]
  },
  {
   "cell_type": "code",
   "execution_count": 47,
   "metadata": {
    "editable": true,
    "execution": {
     "iopub.execute_input": "2025-04-04T10:42:53.566789Z",
     "iopub.status.busy": "2025-04-04T10:42:53.566648Z",
     "iopub.status.idle": "2025-04-04T10:42:53.569901Z",
     "shell.execute_reply": "2025-04-04T10:42:53.569426Z"
    },
    "slideshow": {
     "slide_type": ""
    },
    "tags": []
   },
   "outputs": [
    {
     "data": {
      "text/plain": [
       "[(4, 8), (2, 4), (9, 18), (45, 90)]"
      ]
     },
     "execution_count": 47,
     "metadata": {},
     "output_type": "execute_result"
    }
   ],
   "source": [
    "list(zip(a, a_doubled))"
   ]
  },
  {
   "cell_type": "markdown",
   "metadata": {
    "editable": true,
    "slideshow": {
     "slide_type": ""
    },
    "tags": []
   },
   "source": [
    "You can see that the structure of the list that’s iterated over, the output of \n",
    "`zip`, is identical to that for `enumerate`.\n",
    "\n",
    "Finally, we’ll take a quick look at the `range` method."
   ]
  },
  {
   "cell_type": "code",
   "execution_count": 48,
   "metadata": {
    "editable": true,
    "execution": {
     "iopub.execute_input": "2025-04-04T10:42:53.571923Z",
     "iopub.status.busy": "2025-04-04T10:42:53.571518Z",
     "iopub.status.idle": "2025-04-04T10:42:53.574384Z",
     "shell.execute_reply": "2025-04-04T10:42:53.573902Z"
    },
    "slideshow": {
     "slide_type": ""
    },
    "tags": []
   },
   "outputs": [
    {
     "name": "stdout",
     "output_type": "stream",
     "text": [
      "0\n",
      "1\n",
      "2\n",
      "3\n",
      "4\n",
      "5\n",
      "6\n",
      "7\n",
      "8\n",
      "9\n"
     ]
    }
   ],
   "source": [
    "for i in range(0, 10):\n",
    "    print(i)"
   ]
  },
  {
   "cell_type": "markdown",
   "metadata": {
    "editable": true,
    "slideshow": {
     "slide_type": ""
    },
    "tags": []
   },
   "source": [
    "The arguments to `range` work just like slicing, the second argument is treated \n",
    "exclusively, as its value is excluded from the output. Again like slicing, we \n",
    "can specify a third argument as the step size for the iteration."
   ]
  },
  {
   "cell_type": "code",
   "execution_count": 49,
   "metadata": {
    "editable": true,
    "execution": {
     "iopub.execute_input": "2025-04-04T10:42:53.576280Z",
     "iopub.status.busy": "2025-04-04T10:42:53.575908Z",
     "iopub.status.idle": "2025-04-04T10:42:53.578459Z",
     "shell.execute_reply": "2025-04-04T10:42:53.577995Z"
    },
    "slideshow": {
     "slide_type": ""
    },
    "tags": []
   },
   "outputs": [
    {
     "name": "stdout",
     "output_type": "stream",
     "text": [
      "0\n",
      "2\n",
      "4\n",
      "6\n",
      "8\n"
     ]
    }
   ],
   "source": [
    "for i in range(0, 10, 2):\n",
    "    print(i)"
   ]
  },
  {
   "cell_type": "markdown",
   "metadata": {
    "editable": true,
    "slideshow": {
     "slide_type": ""
    },
    "tags": []
   },
   "source": [
    "If you only give a single argument to `range`, it assumes you’ve given the end \n",
    "value, and want a starting value of zero."
   ]
  },
  {
   "cell_type": "code",
   "execution_count": 50,
   "metadata": {
    "editable": true,
    "execution": {
     "iopub.execute_input": "2025-04-04T10:42:53.580349Z",
     "iopub.status.busy": "2025-04-04T10:42:53.580050Z",
     "iopub.status.idle": "2025-04-04T10:42:53.582632Z",
     "shell.execute_reply": "2025-04-04T10:42:53.582150Z"
    },
    "slideshow": {
     "slide_type": ""
    },
    "tags": []
   },
   "outputs": [
    {
     "name": "stdout",
     "output_type": "stream",
     "text": [
      "0\n",
      "1\n",
      "2\n",
      "3\n",
      "4\n"
     ]
    }
   ],
   "source": [
    "for i in range(5):\n",
    "    print(i)"
   ]
  },
  {
   "cell_type": "markdown",
   "metadata": {
    "editable": true,
    "slideshow": {
     "slide_type": ""
    },
    "tags": []
   },
   "source": [
    "This reads “give me a list of length 5, in steps of 1, starting from zero”.\n",
    "\n",
    "Now that we know how to easily generate sequences of numbers, we can write \n",
    "`enumerate` by hand!"
   ]
  },
  {
   "cell_type": "code",
   "execution_count": 51,
   "metadata": {
    "editable": true,
    "execution": {
     "iopub.execute_input": "2025-04-04T10:42:53.584450Z",
     "iopub.status.busy": "2025-04-04T10:42:53.584146Z",
     "iopub.status.idle": "2025-04-04T10:42:53.586875Z",
     "shell.execute_reply": "2025-04-04T10:42:53.586389Z"
    },
    "slideshow": {
     "slide_type": ""
    },
    "tags": []
   },
   "outputs": [
    {
     "name": "stdout",
     "output_type": "stream",
     "text": [
      "0 4\n",
      "1 2\n",
      "2 9\n",
      "3 45\n"
     ]
    }
   ],
   "source": [
    "for index, item in zip(range(len(a)), a):\n",
    "    print(index, item)"
   ]
  },
  {
   "cell_type": "markdown",
   "metadata": {
    "editable": true,
    "slideshow": {
     "slide_type": ""
    },
    "tags": []
   },
   "source": [
    "Just like before! When you see something cool like `enumerate`, it can be fun \n",
    "trying to see how you’d accomplish something similar with different building \n",
    "blocks."
   ]
  },
  {
   "cell_type": "markdown",
   "metadata": {
    "editable": true,
    "slideshow": {
     "slide_type": ""
    },
    "tags": []
   },
   "source": [
    "## List comprehension (Sugar, can be skipped on first read)\n",
    "\n",
    "We’ve already made a new list from an existing one when we created `a_doubled`.\n"
   ]
  },
  {
   "cell_type": "code",
   "execution_count": 52,
   "metadata": {
    "editable": true,
    "execution": {
     "iopub.execute_input": "2025-04-04T10:42:53.588860Z",
     "iopub.status.busy": "2025-04-04T10:42:53.588399Z",
     "iopub.status.idle": "2025-04-04T10:42:53.591131Z",
     "shell.execute_reply": "2025-04-04T10:42:53.590646Z"
    },
    "slideshow": {
     "slide_type": ""
    },
    "tags": []
   },
   "outputs": [],
   "source": [
    "a_doubled = a[:]\n",
    "for index, item in enumerate(a_doubled):\n",
    "    a_doubled[index] = 2*item"
   ]
  },
  {
   "cell_type": "markdown",
   "metadata": {
    "editable": true,
    "slideshow": {
     "slide_type": ""
    },
    "tags": []
   },
   "source": [
    "Creating a new list from an existing one is a common operation, so Python has a \n",
    "shorthand syntax called _list comprehension_."
   ]
  },
  {
   "cell_type": "code",
   "execution_count": 53,
   "metadata": {
    "editable": true,
    "execution": {
     "iopub.execute_input": "2025-04-04T10:42:53.592920Z",
     "iopub.status.busy": "2025-04-04T10:42:53.592637Z",
     "iopub.status.idle": "2025-04-04T10:42:53.595091Z",
     "shell.execute_reply": "2025-04-04T10:42:53.594607Z"
    },
    "slideshow": {
     "slide_type": ""
    },
    "tags": []
   },
   "outputs": [],
   "source": [
    "a_doubled = [2*item for item in a]"
   ]
  },
  {
   "cell_type": "code",
   "execution_count": 54,
   "metadata": {
    "editable": true,
    "execution": {
     "iopub.execute_input": "2025-04-04T10:42:53.596765Z",
     "iopub.status.busy": "2025-04-04T10:42:53.596618Z",
     "iopub.status.idle": "2025-04-04T10:42:53.599727Z",
     "shell.execute_reply": "2025-04-04T10:42:53.599230Z"
    },
    "slideshow": {
     "slide_type": ""
    },
    "tags": []
   },
   "outputs": [
    {
     "data": {
      "text/plain": [
       "[8, 4, 18, 90]"
      ]
     },
     "execution_count": 54,
     "metadata": {},
     "output_type": "execute_result"
    }
   ],
   "source": [
    "a_doubled"
   ]
  },
  {
   "cell_type": "markdown",
   "metadata": {
    "editable": true,
    "slideshow": {
     "slide_type": ""
    },
    "tags": []
   },
   "source": [
    "Isn’t that beautiful?\n",
    "\n",
    "We can use the same multi-variable stuff we learnt whilst looping."
   ]
  },
  {
   "cell_type": "code",
   "execution_count": 55,
   "metadata": {
    "editable": true,
    "execution": {
     "iopub.execute_input": "2025-04-04T10:42:53.601720Z",
     "iopub.status.busy": "2025-04-04T10:42:53.601276Z",
     "iopub.status.idle": "2025-04-04T10:42:53.604700Z",
     "shell.execute_reply": "2025-04-04T10:42:53.604317Z"
    },
    "slideshow": {
     "slide_type": ""
    },
    "tags": []
   },
   "outputs": [
    {
     "data": {
      "text/plain": [
       "[0, 2, 18, 135]"
      ]
     },
     "execution_count": 55,
     "metadata": {},
     "output_type": "execute_result"
    }
   ],
   "source": [
    "[index*item for index, item in enumerate(a)]"
   ]
  },
  {
   "cell_type": "markdown",
   "metadata": {
    "editable": true,
    "slideshow": {
     "slide_type": ""
    },
    "tags": []
   },
   "source": [
    "We’re not restricted to creating new lists with the same structure as the \n",
    "original."
   ]
  },
  {
   "cell_type": "code",
   "execution_count": 56,
   "metadata": {
    "editable": true,
    "execution": {
     "iopub.execute_input": "2025-04-04T10:42:53.606324Z",
     "iopub.status.busy": "2025-04-04T10:42:53.606183Z",
     "iopub.status.idle": "2025-04-04T10:42:53.609509Z",
     "shell.execute_reply": "2025-04-04T10:42:53.609023Z"
    },
    "slideshow": {
     "slide_type": ""
    },
    "tags": []
   },
   "outputs": [
    {
     "data": {
      "text/plain": [
       "[[4, 16], [2, 4], [9, 81], [45, 2025]]"
      ]
     },
     "execution_count": 56,
     "metadata": {},
     "output_type": "execute_result"
    }
   ],
   "source": [
    "[[item, item*item] for item in a]"
   ]
  },
  {
   "cell_type": "markdown",
   "metadata": {
    "editable": true,
    "slideshow": {
     "slide_type": ""
    },
    "tags": []
   },
   "source": [
    "We can even filter out items from the original list using `if`."
   ]
  },
  {
   "cell_type": "code",
   "execution_count": 57,
   "metadata": {
    "editable": true,
    "execution": {
     "iopub.execute_input": "2025-04-04T10:42:53.611500Z",
     "iopub.status.busy": "2025-04-04T10:42:53.611123Z",
     "iopub.status.idle": "2025-04-04T10:42:53.614751Z",
     "shell.execute_reply": "2025-04-04T10:42:53.614326Z"
    },
    "slideshow": {
     "slide_type": ""
    },
    "tags": []
   },
   "outputs": [
    {
     "data": {
      "text/plain": [
       "[[4, 16], [2, 4]]"
      ]
     },
     "execution_count": 57,
     "metadata": {},
     "output_type": "execute_result"
    }
   ],
   "source": [
    "[[item, item*item] for item in a if item % 2 == 0]"
   ]
  },
  {
   "cell_type": "markdown",
   "metadata": {
    "editable": true,
    "slideshow": {
     "slide_type": ""
    },
    "tags": []
   },
   "source": [
    "List comprehensions are a powerful way of succinctly creating new lists. But be \n",
    "responsible; if you find you’re doing something complicated, it’s probably \n",
    "better to write a full `for` loop."
   ]
  },
  {
   "cell_type": "markdown",
   "metadata": {
    "editable": true,
    "slideshow": {
     "slide_type": ""
    },
    "tags": []
   },
   "source": [
    "**Exercise**\n",
    "Write a list comprehension yourself\n",
    "\n",
    "Compute the square of the magnitude of the sum of the following two \n",
    "three-vectors, using a single list comprehension and the global `sum` method.\n",
    "\n",
    "It might help to first think about how you’d compute the quantity for a single \n",
    "vector.\n",
    "\n",
    "Not sure what the `sum` method does? Ask for `help`!"
   ]
  },
  {
   "cell_type": "code",
   "execution_count": 58,
   "metadata": {
    "editable": true,
    "execution": {
     "iopub.execute_input": "2025-04-04T10:42:53.616740Z",
     "iopub.status.busy": "2025-04-04T10:42:53.616250Z",
     "iopub.status.idle": "2025-04-04T10:42:53.619282Z",
     "shell.execute_reply": "2025-04-04T10:42:53.618907Z"
    },
    "slideshow": {
     "slide_type": ""
    },
    "tags": []
   },
   "outputs": [
    {
     "name": "stdout",
     "output_type": "stream",
     "text": [
      "Help on built-in function sum in module builtins:\n",
      "\n",
      "sum(iterable, /, start=0)\n",
      "    Return the sum of a 'start' value (default: 0) plus an iterable of numbers\n",
      "    \n",
      "    When the iterable is empty, return the start value.\n",
      "    This function is intended specifically for use with numeric values and may\n",
      "    reject non-numeric types.\n",
      "\n"
     ]
    }
   ],
   "source": [
    "help(sum)"
   ]
  },
  {
   "cell_type": "code",
   "execution_count": 59,
   "metadata": {
    "editable": true,
    "execution": {
     "iopub.execute_input": "2025-04-04T10:42:53.621111Z",
     "iopub.status.busy": "2025-04-04T10:42:53.620727Z",
     "iopub.status.idle": "2025-04-04T10:42:53.623261Z",
     "shell.execute_reply": "2025-04-04T10:42:53.622770Z"
    },
    "slideshow": {
     "slide_type": ""
    },
    "tags": []
   },
   "outputs": [],
   "source": [
    "kaon = [3.4, 4.3, 20.0]\n",
    "pion = [1.4, 0.9, 19.8]"
   ]
  },
  {
   "cell_type": "markdown",
   "metadata": {
    "editable": true,
    "slideshow": {
     "slide_type": ""
    },
    "tags": []
   },
   "source": [
    "**Solution**"
   ]
  },
  {
   "cell_type": "markdown",
   "metadata": {
    "editable": true,
    "slideshow": {
     "slide_type": ""
    },
    "tags": []
   },
   "source": [
    "The square magnitude is the sum of the squares of the components, where the \n",
    "components are the sum of the two input vectors."
   ]
  },
  {
   "cell_type": "code",
   "execution_count": 60,
   "metadata": {
    "editable": true,
    "execution": {
     "iopub.execute_input": "2025-04-04T10:42:53.625214Z",
     "iopub.status.busy": "2025-04-04T10:42:53.624758Z",
     "iopub.status.idle": "2025-04-04T10:42:53.627537Z",
     "shell.execute_reply": "2025-04-04T10:42:53.627137Z"
    },
    "slideshow": {
     "slide_type": ""
    },
    "tags": []
   },
   "outputs": [],
   "source": [
    "magsq = sum([(k + pi)**2 for k, pi in zip(kaon, pion)])"
   ]
  },
  {
   "cell_type": "markdown",
   "metadata": {
    "editable": true,
    "slideshow": {
     "slide_type": ""
    },
    "tags": []
   },
   "source": [
    "The square root of this is around 40.42."
   ]
  },
  {
   "cell_type": "markdown",
   "metadata": {
    "editable": true,
    "slideshow": {
     "slide_type": ""
    },
    "tags": []
   },
   "source": [
    "## Tuples\n",
    "\n",
    "A close relative of lists are tuples, which differ in that they cannot be \n",
    "mutated after creation.  You can create tuples literally using parentheses, or \n",
    "convert things to tuples using the `tuple` method.\n"
   ]
  },
  {
   "cell_type": "code",
   "execution_count": 61,
   "metadata": {
    "editable": true,
    "execution": {
     "iopub.execute_input": "2025-04-04T10:42:53.629222Z",
     "iopub.status.busy": "2025-04-04T10:42:53.629082Z",
     "iopub.status.idle": "2025-04-04T10:42:53.631266Z",
     "shell.execute_reply": "2025-04-04T10:42:53.630870Z"
    },
    "slideshow": {
     "slide_type": ""
    },
    "tags": []
   },
   "outputs": [],
   "source": [
    "a = (3, 4)"
   ]
  },
  {
   "cell_type": "code",
   "execution_count": 62,
   "metadata": {
    "editable": true,
    "execution": {
     "iopub.execute_input": "2025-04-04T10:42:53.633104Z",
     "iopub.status.busy": "2025-04-04T10:42:53.632802Z",
     "iopub.status.idle": "2025-04-04T10:42:53.647644Z",
     "shell.execute_reply": "2025-04-04T10:42:53.647124Z"
    },
    "slideshow": {
     "slide_type": ""
    },
    "tags": [
     "raises-exception"
    ]
   },
   "outputs": [
    {
     "ename": "TypeError",
     "evalue": "'tuple' object doesn't support item deletion",
     "output_type": "error",
     "traceback": [
      "\u001b[31m---------------------------------------------------------------------------\u001b[39m",
      "\u001b[31mTypeError\u001b[39m                                 Traceback (most recent call last)",
      "\u001b[36mCell\u001b[39m\u001b[36m \u001b[39m\u001b[32mIn[62]\u001b[39m\u001b[32m, line 1\u001b[39m\n\u001b[32m----> \u001b[39m\u001b[32m1\u001b[39m \u001b[38;5;28;01mdel\u001b[39;00m \u001b[43ma\u001b[49m\u001b[43m[\u001b[49m\u001b[32;43m0\u001b[39;49m\u001b[43m]\u001b[49m\n",
      "\u001b[31mTypeError\u001b[39m: 'tuple' object doesn't support item deletion"
     ]
    }
   ],
   "source": [
    "del a[0]"
   ]
  },
  {
   "cell_type": "code",
   "execution_count": 63,
   "metadata": {
    "editable": true,
    "execution": {
     "iopub.execute_input": "2025-04-04T10:42:53.649452Z",
     "iopub.status.busy": "2025-04-04T10:42:53.649155Z",
     "iopub.status.idle": "2025-04-04T10:42:53.663711Z",
     "shell.execute_reply": "2025-04-04T10:42:53.663320Z"
    },
    "slideshow": {
     "slide_type": ""
    },
    "tags": [
     "raises-exception"
    ]
   },
   "outputs": [
    {
     "ename": "AttributeError",
     "evalue": "'tuple' object has no attribute 'append'",
     "output_type": "error",
     "traceback": [
      "\u001b[31m---------------------------------------------------------------------------\u001b[39m",
      "\u001b[31mAttributeError\u001b[39m                            Traceback (most recent call last)",
      "\u001b[36mCell\u001b[39m\u001b[36m \u001b[39m\u001b[32mIn[63]\u001b[39m\u001b[32m, line 1\u001b[39m\n\u001b[32m----> \u001b[39m\u001b[32m1\u001b[39m \u001b[43ma\u001b[49m\u001b[43m.\u001b[49m\u001b[43mappend\u001b[49m(\u001b[32m5\u001b[39m)\n",
      "\u001b[31mAttributeError\u001b[39m: 'tuple' object has no attribute 'append'"
     ]
    }
   ],
   "source": [
    "a.append(5)"
   ]
  },
  {
   "cell_type": "markdown",
   "metadata": {
    "editable": true,
    "slideshow": {
     "slide_type": ""
    },
    "tags": []
   },
   "source": [
    "Tuples are usually used to describe data whose length is meaningful in and of \n",
    "itself. For example, you could express coordinates as a tuple."
   ]
  },
  {
   "cell_type": "code",
   "execution_count": 64,
   "metadata": {
    "editable": true,
    "execution": {
     "iopub.execute_input": "2025-04-04T10:42:53.665334Z",
     "iopub.status.busy": "2025-04-04T10:42:53.665192Z",
     "iopub.status.idle": "2025-04-04T10:42:53.667444Z",
     "shell.execute_reply": "2025-04-04T10:42:53.667060Z"
    },
    "slideshow": {
     "slide_type": ""
    },
    "tags": []
   },
   "outputs": [],
   "source": [
    "coords = (3.2, 0.1)\n",
    "x, y = coords"
   ]
  },
  {
   "cell_type": "markdown",
   "metadata": {
    "editable": true,
    "slideshow": {
     "slide_type": ""
    },
    "tags": []
   },
   "source": [
    "This is nice because it doesn’t make sense to append to an `$ (x, y) $` \n",
    "coordinate, nor to ‘delete’ a dimension. Generally, it can be useful if the \n",
    "data structure you’re using respects the _meaning_ of the data you’re storing.\n",
    "\n",
    "If you can’t think of a use for tuples yourself, its worth keeping in mind that \n",
    "Python creates tuples for groups of things by default. We saw that \n",
    "earlier when we used `enumerate`."
   ]
  },
  {
   "cell_type": "code",
   "execution_count": 65,
   "metadata": {
    "editable": true,
    "execution": {
     "iopub.execute_input": "2025-04-04T10:42:53.669076Z",
     "iopub.status.busy": "2025-04-04T10:42:53.668937Z",
     "iopub.status.idle": "2025-04-04T10:42:53.672164Z",
     "shell.execute_reply": "2025-04-04T10:42:53.671687Z"
    },
    "slideshow": {
     "slide_type": ""
    },
    "tags": []
   },
   "outputs": [
    {
     "data": {
      "text/plain": [
       "[(0, 4), (1, 9)]"
      ]
     },
     "execution_count": 65,
     "metadata": {},
     "output_type": "execute_result"
    }
   ],
   "source": [
    "list(enumerate([4, 9]))"
   ]
  },
  {
   "cell_type": "markdown",
   "metadata": {},
   "source": [
    "Each element of the list is a tuple."
   ]
  }
 ],
 "metadata": {
  "language_info": {
   "codemirror_mode": {
    "name": "ipython",
    "version": 3
   },
   "file_extension": ".py",
   "mimetype": "text/x-python",
   "name": "python",
   "nbconvert_exporter": "python",
   "pygments_lexer": "ipython3",
   "version": "3.11.11"
  }
 },
 "nbformat": 4,
 "nbformat_minor": 4
}
