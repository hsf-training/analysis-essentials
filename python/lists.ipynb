{
 "cells": [
  {
   "cell_type": "markdown",
   "metadata": {
    "editable": true,
    "slideshow": {
     "slide_type": ""
    },
    "tags": []
   },
   "source": [
    "# Lists and looping\n",
    "\n",
    "Now things start to get _really_ interesting! Lists are collections of things \n",
    "stored in a specific order. They can be defined literally by wrapping things in \n",
    "square brackets `[]`, separating items with commas `,`.\n"
   ]
  },
  {
   "cell_type": "code",
   "execution_count": 1,
   "metadata": {
    "editable": true,
    "execution": {
     "iopub.execute_input": "2025-02-10T17:09:20.924584Z",
     "iopub.status.busy": "2025-02-10T17:09:20.924176Z",
     "iopub.status.idle": "2025-02-10T17:09:20.929392Z",
     "shell.execute_reply": "2025-02-10T17:09:20.928975Z"
    },
    "slideshow": {
     "slide_type": ""
    },
    "tags": []
   },
   "outputs": [],
   "source": [
    "import math"
   ]
  },
  {
   "cell_type": "code",
   "execution_count": 2,
   "metadata": {
    "editable": true,
    "execution": {
     "iopub.execute_input": "2025-02-10T17:09:20.931165Z",
     "iopub.status.busy": "2025-02-10T17:09:20.930979Z",
     "iopub.status.idle": "2025-02-10T17:09:20.933494Z",
     "shell.execute_reply": "2025-02-10T17:09:20.933090Z"
    },
    "slideshow": {
     "slide_type": ""
    },
    "tags": []
   },
   "outputs": [],
   "source": [
    "a = [4, 2, 9, 3]"
   ]
  },
  {
   "cell_type": "code",
   "execution_count": 3,
   "metadata": {
    "editable": true,
    "execution": {
     "iopub.execute_input": "2025-02-10T17:09:20.935469Z",
     "iopub.status.busy": "2025-02-10T17:09:20.935050Z",
     "iopub.status.idle": "2025-02-10T17:09:20.940124Z",
     "shell.execute_reply": "2025-02-10T17:09:20.939609Z"
    },
    "slideshow": {
     "slide_type": ""
    },
    "tags": []
   },
   "outputs": [
    {
     "data": {
      "text/plain": [
       "[4, 2, 9, 3]"
      ]
     },
     "execution_count": 3,
     "metadata": {},
     "output_type": "execute_result"
    }
   ],
   "source": [
    "a"
   ]
  },
  {
   "cell_type": "markdown",
   "metadata": {
    "editable": true,
    "slideshow": {
     "slide_type": ""
    },
    "tags": []
   },
   "source": [
    "Python lists can contain collections of whatever you like."
   ]
  },
  {
   "cell_type": "code",
   "execution_count": 4,
   "metadata": {
    "editable": true,
    "execution": {
     "iopub.execute_input": "2025-02-10T17:09:20.942292Z",
     "iopub.status.busy": "2025-02-10T17:09:20.941761Z",
     "iopub.status.idle": "2025-02-10T17:09:20.944618Z",
     "shell.execute_reply": "2025-02-10T17:09:20.944092Z"
    },
    "slideshow": {
     "slide_type": ""
    },
    "tags": []
   },
   "outputs": [],
   "source": [
    "excellent = [41, 'Hello', math.sin]"
   ]
  },
  {
   "cell_type": "markdown",
   "metadata": {
    "editable": true,
    "slideshow": {
     "slide_type": ""
    },
    "tags": []
   },
   "source": [
    "Each item in the list can be accessed by its _index_, its position in the list, \n",
    "which starts at zero for the first item. Indexing by negative numbers starts \n",
    "from the _last_ item of the list."
   ]
  },
  {
   "cell_type": "code",
   "execution_count": 5,
   "metadata": {
    "editable": true,
    "execution": {
     "iopub.execute_input": "2025-02-10T17:09:20.946511Z",
     "iopub.status.busy": "2025-02-10T17:09:20.946353Z",
     "iopub.status.idle": "2025-02-10T17:09:20.949593Z",
     "shell.execute_reply": "2025-02-10T17:09:20.949098Z"
    },
    "slideshow": {
     "slide_type": ""
    },
    "tags": []
   },
   "outputs": [
    {
     "data": {
      "text/plain": [
       "4"
      ]
     },
     "execution_count": 5,
     "metadata": {},
     "output_type": "execute_result"
    }
   ],
   "source": [
    "a[0]"
   ]
  },
  {
   "cell_type": "code",
   "execution_count": 6,
   "metadata": {
    "editable": true,
    "execution": {
     "iopub.execute_input": "2025-02-10T17:09:20.951373Z",
     "iopub.status.busy": "2025-02-10T17:09:20.951211Z",
     "iopub.status.idle": "2025-02-10T17:09:20.954391Z",
     "shell.execute_reply": "2025-02-10T17:09:20.953873Z"
    },
    "slideshow": {
     "slide_type": ""
    },
    "tags": []
   },
   "outputs": [
    {
     "data": {
      "text/plain": [
       "9"
      ]
     },
     "execution_count": 6,
     "metadata": {},
     "output_type": "execute_result"
    }
   ],
   "source": [
    "a[2]"
   ]
  },
  {
   "cell_type": "code",
   "execution_count": 7,
   "metadata": {
    "editable": true,
    "execution": {
     "iopub.execute_input": "2025-02-10T17:09:20.956156Z",
     "iopub.status.busy": "2025-02-10T17:09:20.955857Z",
     "iopub.status.idle": "2025-02-10T17:09:20.959016Z",
     "shell.execute_reply": "2025-02-10T17:09:20.958569Z"
    },
    "slideshow": {
     "slide_type": ""
    },
    "tags": []
   },
   "outputs": [
    {
     "data": {
      "text/plain": [
       "3"
      ]
     },
     "execution_count": 7,
     "metadata": {},
     "output_type": "execute_result"
    }
   ],
   "source": [
    "a[-1]"
   ]
  },
  {
   "cell_type": "markdown",
   "metadata": {
    "editable": true,
    "slideshow": {
     "slide_type": ""
    },
    "tags": []
   },
   "source": [
    "We’ll get an error if we try to access an index that doesn’t exist:"
   ]
  },
  {
   "cell_type": "code",
   "execution_count": 8,
   "metadata": {
    "editable": true,
    "execution": {
     "iopub.execute_input": "2025-02-10T17:09:20.960928Z",
     "iopub.status.busy": "2025-02-10T17:09:20.960635Z",
     "iopub.status.idle": "2025-02-10T17:09:21.083763Z",
     "shell.execute_reply": "2025-02-10T17:09:21.083247Z"
    },
    "slideshow": {
     "slide_type": ""
    },
    "tags": [
     "raises-exception"
    ]
   },
   "outputs": [
    {
     "ename": "IndexError",
     "evalue": "list index out of range",
     "output_type": "error",
     "traceback": [
      "\u001b[0;31m---------------------------------------------------------------------------\u001b[0m",
      "\u001b[0;31mIndexError\u001b[0m                                Traceback (most recent call last)",
      "Cell \u001b[0;32mIn[8], line 1\u001b[0m\n\u001b[0;32m----> 1\u001b[0m \u001b[43ma\u001b[49m\u001b[43m[\u001b[49m\u001b[38;5;241;43m99\u001b[39;49m\u001b[43m]\u001b[49m\n",
      "\u001b[0;31mIndexError\u001b[0m: list index out of range"
     ]
    }
   ],
   "source": [
    "a[99]"
   ]
  },
  {
   "cell_type": "markdown",
   "metadata": {
    "editable": true,
    "slideshow": {
     "slide_type": ""
    },
    "tags": []
   },
   "source": [
    "Like strings, lists have a length which can be found with the `len` method."
   ]
  },
  {
   "cell_type": "code",
   "execution_count": 9,
   "metadata": {
    "editable": true,
    "execution": {
     "iopub.execute_input": "2025-02-10T17:09:21.085812Z",
     "iopub.status.busy": "2025-02-10T17:09:21.085501Z",
     "iopub.status.idle": "2025-02-10T17:09:21.088957Z",
     "shell.execute_reply": "2025-02-10T17:09:21.088558Z"
    },
    "slideshow": {
     "slide_type": ""
    },
    "tags": []
   },
   "outputs": [
    {
     "data": {
      "text/plain": [
       "4"
      ]
     },
     "execution_count": 9,
     "metadata": {},
     "output_type": "execute_result"
    }
   ],
   "source": [
    "len(a)"
   ]
  },
  {
   "cell_type": "markdown",
   "metadata": {
    "editable": true,
    "slideshow": {
     "slide_type": ""
    },
    "tags": []
   },
   "source": [
    "Unlike strings, lists are _mutable_, which means we can modify lists in-place, \n",
    "without creating a new one."
   ]
  },
  {
   "cell_type": "code",
   "execution_count": 10,
   "metadata": {
    "editable": true,
    "execution": {
     "iopub.execute_input": "2025-02-10T17:09:21.090651Z",
     "iopub.status.busy": "2025-02-10T17:09:21.090505Z",
     "iopub.status.idle": "2025-02-10T17:09:21.092730Z",
     "shell.execute_reply": "2025-02-10T17:09:21.092368Z"
    },
    "slideshow": {
     "slide_type": ""
    },
    "tags": []
   },
   "outputs": [],
   "source": [
    "a.append(45)"
   ]
  },
  {
   "cell_type": "code",
   "execution_count": 11,
   "metadata": {
    "editable": true,
    "execution": {
     "iopub.execute_input": "2025-02-10T17:09:21.094390Z",
     "iopub.status.busy": "2025-02-10T17:09:21.094229Z",
     "iopub.status.idle": "2025-02-10T17:09:21.097328Z",
     "shell.execute_reply": "2025-02-10T17:09:21.096922Z"
    },
    "slideshow": {
     "slide_type": ""
    },
    "tags": []
   },
   "outputs": [
    {
     "data": {
      "text/plain": [
       "[4, 2, 9, 3, 45]"
      ]
     },
     "execution_count": 11,
     "metadata": {},
     "output_type": "execute_result"
    }
   ],
   "source": [
    "a"
   ]
  },
  {
   "cell_type": "code",
   "execution_count": 12,
   "metadata": {
    "editable": true,
    "execution": {
     "iopub.execute_input": "2025-02-10T17:09:21.099175Z",
     "iopub.status.busy": "2025-02-10T17:09:21.098855Z",
     "iopub.status.idle": "2025-02-10T17:09:21.102050Z",
     "shell.execute_reply": "2025-02-10T17:09:21.101574Z"
    },
    "slideshow": {
     "slide_type": ""
    },
    "tags": []
   },
   "outputs": [
    {
     "data": {
      "text/plain": [
       "5"
      ]
     },
     "execution_count": 12,
     "metadata": {},
     "output_type": "execute_result"
    }
   ],
   "source": [
    "len(a)"
   ]
  },
  {
   "cell_type": "markdown",
   "metadata": {
    "editable": true,
    "slideshow": {
     "slide_type": ""
    },
    "tags": []
   },
   "source": [
    "We can see that lists are mutable because using the `append` method didn’t \n",
    "print anything, and our variable `a` now has a different value.\n",
    "\n",
    "Because lists are mutable, we can use the special `del` keyword to remove \n",
    "specific indices from the list."
   ]
  },
  {
   "cell_type": "code",
   "execution_count": 13,
   "metadata": {
    "editable": true,
    "execution": {
     "iopub.execute_input": "2025-02-10T17:09:21.103946Z",
     "iopub.status.busy": "2025-02-10T17:09:21.103654Z",
     "iopub.status.idle": "2025-02-10T17:09:21.105832Z",
     "shell.execute_reply": "2025-02-10T17:09:21.105474Z"
    },
    "slideshow": {
     "slide_type": ""
    },
    "tags": []
   },
   "outputs": [],
   "source": [
    "del a[-2]"
   ]
  },
  {
   "cell_type": "code",
   "execution_count": 14,
   "metadata": {
    "editable": true,
    "execution": {
     "iopub.execute_input": "2025-02-10T17:09:21.107638Z",
     "iopub.status.busy": "2025-02-10T17:09:21.107340Z",
     "iopub.status.idle": "2025-02-10T17:09:21.110690Z",
     "shell.execute_reply": "2025-02-10T17:09:21.110189Z"
    },
    "slideshow": {
     "slide_type": ""
    },
    "tags": []
   },
   "outputs": [
    {
     "data": {
      "text/plain": [
       "[4, 2, 9, 45]"
      ]
     },
     "execution_count": 14,
     "metadata": {},
     "output_type": "execute_result"
    }
   ],
   "source": [
    "a"
   ]
  },
  {
   "cell_type": "markdown",
   "metadata": {
    "editable": true,
    "slideshow": {
     "slide_type": ""
    },
    "tags": []
   },
   "source": [
    "*Good to know*\n",
    "`del` is a language keyword representing an action, and not a function. The\n",
    "syntactic difference is that functions take their arguments between parentheses,\n",
    "such as `my_function(1, 2, 3)`, whereas `del` does not."
   ]
  },
  {
   "cell_type": "markdown",
   "metadata": {
    "editable": true,
    "slideshow": {
     "slide_type": ""
    },
    "tags": []
   },
   "source": [
    "You can retrieve sub-lists by using _slice_ notation whilst indexing."
   ]
  },
  {
   "cell_type": "code",
   "execution_count": 15,
   "metadata": {
    "editable": true,
    "execution": {
     "iopub.execute_input": "2025-02-10T17:09:21.112697Z",
     "iopub.status.busy": "2025-02-10T17:09:21.112303Z",
     "iopub.status.idle": "2025-02-10T17:09:21.115725Z",
     "shell.execute_reply": "2025-02-10T17:09:21.115242Z"
    },
    "slideshow": {
     "slide_type": ""
    },
    "tags": []
   },
   "outputs": [
    {
     "data": {
      "text/plain": [
       "[2, 9]"
      ]
     },
     "execution_count": 15,
     "metadata": {},
     "output_type": "execute_result"
    }
   ],
   "source": [
    "a[1:-1]"
   ]
  },
  {
   "cell_type": "markdown",
   "metadata": {
    "editable": true,
    "slideshow": {
     "slide_type": ""
    },
    "tags": []
   },
   "source": [
    "This retrieves the part of list `a` starting from index `1` until _just before_ \n",
    "index `-1`. The indexing is ‘exclusive’ in that it excludes the item of the \n",
    "last index. This is the convention of indexing in Python.\n",
    "\n",
    "You can omit a number in the first or second indexing position, and Python will \n",
    "assume you mean the first element (index zero) and last element (index \n",
    "`len(array)`)."
   ]
  },
  {
   "cell_type": "code",
   "execution_count": 16,
   "metadata": {
    "editable": true,
    "execution": {
     "iopub.execute_input": "2025-02-10T17:09:21.117460Z",
     "iopub.status.busy": "2025-02-10T17:09:21.117321Z",
     "iopub.status.idle": "2025-02-10T17:09:21.120509Z",
     "shell.execute_reply": "2025-02-10T17:09:21.120013Z"
    },
    "slideshow": {
     "slide_type": ""
    },
    "tags": []
   },
   "outputs": [
    {
     "data": {
      "text/plain": [
       "[4, 2]"
      ]
     },
     "execution_count": 16,
     "metadata": {},
     "output_type": "execute_result"
    }
   ],
   "source": [
    "a[:-2]"
   ]
  },
  {
   "cell_type": "code",
   "execution_count": 17,
   "metadata": {
    "editable": true,
    "execution": {
     "iopub.execute_input": "2025-02-10T17:09:21.122507Z",
     "iopub.status.busy": "2025-02-10T17:09:21.122114Z",
     "iopub.status.idle": "2025-02-10T17:09:21.125455Z",
     "shell.execute_reply": "2025-02-10T17:09:21.124958Z"
    },
    "slideshow": {
     "slide_type": ""
    },
    "tags": []
   },
   "outputs": [
    {
     "data": {
      "text/plain": [
       "[2, 9, 45]"
      ]
     },
     "execution_count": 17,
     "metadata": {},
     "output_type": "execute_result"
    }
   ],
   "source": [
    "a[1:]"
   ]
  },
  {
   "cell_type": "code",
   "execution_count": 18,
   "metadata": {
    "editable": true,
    "execution": {
     "iopub.execute_input": "2025-02-10T17:09:21.127188Z",
     "iopub.status.busy": "2025-02-10T17:09:21.127018Z",
     "iopub.status.idle": "2025-02-10T17:09:21.130168Z",
     "shell.execute_reply": "2025-02-10T17:09:21.129677Z"
    },
    "slideshow": {
     "slide_type": ""
    },
    "tags": []
   },
   "outputs": [
    {
     "data": {
      "text/plain": [
       "[4, 2, 9, 45]"
      ]
     },
     "execution_count": 18,
     "metadata": {},
     "output_type": "execute_result"
    }
   ],
   "source": [
    "a[:]"
   ]
  },
  {
   "cell_type": "markdown",
   "metadata": {
    "editable": true,
    "slideshow": {
     "slide_type": ""
    },
    "tags": []
   },
   "source": [
    "Slicing returns a copy of the array, so modifying the return value doesn’t \n",
    "affect the original array."
   ]
  },
  {
   "cell_type": "code",
   "execution_count": 19,
   "metadata": {
    "editable": true,
    "execution": {
     "iopub.execute_input": "2025-02-10T17:09:21.132020Z",
     "iopub.status.busy": "2025-02-10T17:09:21.131721Z",
     "iopub.status.idle": "2025-02-10T17:09:21.134450Z",
     "shell.execute_reply": "2025-02-10T17:09:21.133960Z"
    },
    "slideshow": {
     "slide_type": ""
    },
    "tags": []
   },
   "outputs": [
    {
     "name": "stdout",
     "output_type": "stream",
     "text": [
      "[2, 9, 45]\n"
     ]
    }
   ],
   "source": [
    "b = a[1:]\n",
    "print(b)"
   ]
  },
  {
   "cell_type": "code",
   "execution_count": 20,
   "metadata": {
    "editable": true,
    "execution": {
     "iopub.execute_input": "2025-02-10T17:09:21.136374Z",
     "iopub.status.busy": "2025-02-10T17:09:21.136049Z",
     "iopub.status.idle": "2025-02-10T17:09:21.138470Z",
     "shell.execute_reply": "2025-02-10T17:09:21.137986Z"
    },
    "slideshow": {
     "slide_type": ""
    },
    "tags": []
   },
   "outputs": [],
   "source": [
    "b[0] = 3"
   ]
  },
  {
   "cell_type": "code",
   "execution_count": 21,
   "metadata": {
    "editable": true,
    "execution": {
     "iopub.execute_input": "2025-02-10T17:09:21.140353Z",
     "iopub.status.busy": "2025-02-10T17:09:21.140051Z",
     "iopub.status.idle": "2025-02-10T17:09:21.143090Z",
     "shell.execute_reply": "2025-02-10T17:09:21.142706Z"
    },
    "slideshow": {
     "slide_type": ""
    },
    "tags": []
   },
   "outputs": [
    {
     "data": {
      "text/plain": [
       "[3, 9, 45]"
      ]
     },
     "execution_count": 21,
     "metadata": {},
     "output_type": "execute_result"
    }
   ],
   "source": [
    "b"
   ]
  },
  {
   "cell_type": "code",
   "execution_count": 22,
   "metadata": {
    "editable": true,
    "execution": {
     "iopub.execute_input": "2025-02-10T17:09:21.144709Z",
     "iopub.status.busy": "2025-02-10T17:09:21.144570Z",
     "iopub.status.idle": "2025-02-10T17:09:21.147739Z",
     "shell.execute_reply": "2025-02-10T17:09:21.147345Z"
    },
    "slideshow": {
     "slide_type": ""
    },
    "tags": []
   },
   "outputs": [
    {
     "data": {
      "text/plain": [
       "[4, 2, 9, 45]"
      ]
     },
     "execution_count": 22,
     "metadata": {},
     "output_type": "execute_result"
    }
   ],
   "source": [
    "a"
   ]
  },
  {
   "cell_type": "markdown",
   "metadata": {
    "editable": true,
    "slideshow": {
     "slide_type": ""
    },
    "tags": []
   },
   "source": [
    "We did something cool there by assigning a value to a specific index, `b[0] =\n",
    "3`. The same trick works with slices."
   ]
  },
  {
   "cell_type": "code",
   "execution_count": 23,
   "metadata": {
    "editable": true,
    "execution": {
     "iopub.execute_input": "2025-02-10T17:09:21.149354Z",
     "iopub.status.busy": "2025-02-10T17:09:21.149216Z",
     "iopub.status.idle": "2025-02-10T17:09:21.151444Z",
     "shell.execute_reply": "2025-02-10T17:09:21.151057Z"
    },
    "slideshow": {
     "slide_type": ""
    },
    "tags": []
   },
   "outputs": [],
   "source": [
    "b[:2] = [99, 2, 78]"
   ]
  },
  {
   "cell_type": "code",
   "execution_count": 24,
   "metadata": {
    "editable": true,
    "execution": {
     "iopub.execute_input": "2025-02-10T17:09:21.153136Z",
     "iopub.status.busy": "2025-02-10T17:09:21.152874Z",
     "iopub.status.idle": "2025-02-10T17:09:21.156036Z",
     "shell.execute_reply": "2025-02-10T17:09:21.155550Z"
    },
    "slideshow": {
     "slide_type": ""
    },
    "tags": []
   },
   "outputs": [
    {
     "data": {
      "text/plain": [
       "[99, 2, 78, 45]"
      ]
     },
     "execution_count": 24,
     "metadata": {},
     "output_type": "execute_result"
    }
   ],
   "source": [
    "b"
   ]
  },
  {
   "cell_type": "markdown",
   "metadata": {
    "editable": true,
    "slideshow": {
     "slide_type": ""
    },
    "tags": []
   },
   "source": [
    "This is equivalent of _replacing_ a certain range (`:2`, or items at position 0\n",
    "and 1) of the list `b` with other items from another list. Note that in our\n",
    "example we replace 2 elements with 3. The same syntax might be used for\n",
    "inserting elements at an arbitrary position in the list. If we want to insert\n",
    "the number 6 between the 2 and the 78 in the list above, we would use:"
   ]
  },
  {
   "cell_type": "code",
   "execution_count": 25,
   "metadata": {
    "editable": true,
    "execution": {
     "iopub.execute_input": "2025-02-10T17:09:21.157824Z",
     "iopub.status.busy": "2025-02-10T17:09:21.157534Z",
     "iopub.status.idle": "2025-02-10T17:09:21.159998Z",
     "shell.execute_reply": "2025-02-10T17:09:21.159517Z"
    },
    "slideshow": {
     "slide_type": ""
    },
    "tags": []
   },
   "outputs": [],
   "source": [
    "b[2:0] = [6]"
   ]
  },
  {
   "cell_type": "markdown",
   "metadata": {
    "editable": true,
    "slideshow": {
     "slide_type": ""
    },
    "tags": []
   },
   "source": [
    "meaning _take out 0 elements from the list starting a position 2 and insert the\n",
    "content of the list `[6]` in that position_."
   ]
  },
  {
   "cell_type": "markdown",
   "metadata": {
    "editable": true,
    "slideshow": {
     "slide_type": ""
    },
    "tags": []
   },
   "source": [
    "**Exercise**\n",
    "\n",
    "Slicing creates a copy, so what notation could you use to copy the full list?"
   ]
  },
  {
   "cell_type": "markdown",
   "metadata": {},
   "source": [
    "**Solution**\n",
    "You need to slice from the very beginning to the very end of the list."
   ]
  },
  {
   "cell_type": "code",
   "execution_count": 26,
   "metadata": {
    "editable": true,
    "execution": {
     "iopub.execute_input": "2025-02-10T17:09:21.162191Z",
     "iopub.status.busy": "2025-02-10T17:09:21.161760Z",
     "iopub.status.idle": "2025-02-10T17:09:21.165324Z",
     "shell.execute_reply": "2025-02-10T17:09:21.164922Z"
    },
    "slideshow": {
     "slide_type": ""
    },
    "tags": []
   },
   "outputs": [
    {
     "data": {
      "text/plain": [
       "[4, 2, 9, 45]"
      ]
     },
     "execution_count": 26,
     "metadata": {},
     "output_type": "execute_result"
    }
   ],
   "source": [
    "a[:]"
   ]
  },
  {
   "cell_type": "markdown",
   "metadata": {
    "editable": true,
    "slideshow": {
     "slide_type": ""
    },
    "tags": []
   },
   "source": [
    "This is equivalent to specifying the indices explicitly."
   ]
  },
  {
   "cell_type": "code",
   "execution_count": 27,
   "metadata": {
    "editable": true,
    "execution": {
     "iopub.execute_input": "2025-02-10T17:09:21.166981Z",
     "iopub.status.busy": "2025-02-10T17:09:21.166839Z",
     "iopub.status.idle": "2025-02-10T17:09:21.170181Z",
     "shell.execute_reply": "2025-02-10T17:09:21.169767Z"
    },
    "slideshow": {
     "slide_type": ""
    },
    "tags": []
   },
   "outputs": [
    {
     "data": {
      "text/plain": [
       "[4, 2, 9, 45]"
      ]
     },
     "execution_count": 27,
     "metadata": {},
     "output_type": "execute_result"
    }
   ],
   "source": [
    "a[0:len(a)]"
   ]
  },
  {
   "cell_type": "code",
   "execution_count": 28,
   "metadata": {
    "editable": true,
    "execution": {
     "iopub.execute_input": "2025-02-10T17:09:21.171799Z",
     "iopub.status.busy": "2025-02-10T17:09:21.171661Z",
     "iopub.status.idle": "2025-02-10T17:09:21.174808Z",
     "shell.execute_reply": "2025-02-10T17:09:21.174328Z"
    },
    "slideshow": {
     "slide_type": ""
    },
    "tags": []
   },
   "outputs": [
    {
     "data": {
      "text/plain": [
       "True"
      ]
     },
     "execution_count": 28,
     "metadata": {},
     "output_type": "execute_result"
    }
   ],
   "source": [
    "a == a[:]"
   ]
  },
  {
   "cell_type": "code",
   "execution_count": 29,
   "metadata": {
    "editable": true,
    "execution": {
     "iopub.execute_input": "2025-02-10T17:09:21.176674Z",
     "iopub.status.busy": "2025-02-10T17:09:21.176428Z",
     "iopub.status.idle": "2025-02-10T17:09:21.179673Z",
     "shell.execute_reply": "2025-02-10T17:09:21.179280Z"
    },
    "slideshow": {
     "slide_type": ""
    },
    "tags": []
   },
   "outputs": [
    {
     "data": {
      "text/plain": [
       "True"
      ]
     },
     "execution_count": 29,
     "metadata": {},
     "output_type": "execute_result"
    }
   ],
   "source": [
    "a is a"
   ]
  },
  {
   "cell_type": "code",
   "execution_count": 30,
   "metadata": {
    "editable": true,
    "execution": {
     "iopub.execute_input": "2025-02-10T17:09:21.181288Z",
     "iopub.status.busy": "2025-02-10T17:09:21.181148Z",
     "iopub.status.idle": "2025-02-10T17:09:21.184316Z",
     "shell.execute_reply": "2025-02-10T17:09:21.183822Z"
    },
    "slideshow": {
     "slide_type": ""
    },
    "tags": []
   },
   "outputs": [
    {
     "data": {
      "text/plain": [
       "False"
      ]
     },
     "execution_count": 30,
     "metadata": {},
     "output_type": "execute_result"
    }
   ],
   "source": [
    "a is a[:]  # creates a copy!"
   ]
  },
  {
   "cell_type": "markdown",
   "metadata": {
    "editable": true,
    "slideshow": {
     "slide_type": ""
    },
    "tags": []
   },
   "source": [
    "## Looping\n",
    "\n",
    "When you’ve got a collection of things, it’s pretty common to want to access \n",
    "each one sequentially. This is called looping, or iterating, and is super easy."
   ]
  },
  {
   "cell_type": "code",
   "execution_count": 31,
   "metadata": {
    "editable": true,
    "execution": {
     "iopub.execute_input": "2025-02-10T17:09:21.186389Z",
     "iopub.status.busy": "2025-02-10T17:09:21.185929Z",
     "iopub.status.idle": "2025-02-10T17:09:21.188915Z",
     "shell.execute_reply": "2025-02-10T17:09:21.188440Z"
    },
    "slideshow": {
     "slide_type": ""
    },
    "tags": []
   },
   "outputs": [
    {
     "name": "stdout",
     "output_type": "stream",
     "text": [
      "4\n",
      "2\n",
      "9\n",
      "45\n"
     ]
    }
   ],
   "source": [
    "for item in a:\n",
    "    print(item)"
   ]
  },
  {
   "cell_type": "markdown",
   "metadata": {
    "editable": true,
    "slideshow": {
     "slide_type": ""
    },
    "tags": []
   },
   "source": [
    "We have to indent the code inside the `for` loop to tell Python that these\n",
    "lines should be run for every iteration."
   ]
  },
  {
   "cell_type": "markdown",
   "metadata": {
    "editable": true,
    "slideshow": {
     "slide_type": ""
    },
    "tags": []
   },
   "source": [
    "### Indentation\n",
    "\n",
    "The `for` loop is a block, and every Python block requires indentation, unlike\n",
    "other \"free-form\" languages such as C++ or Java. This means that Python will\n",
    "throw an error if you don't indent:"
   ]
  },
  {
   "cell_type": "code",
   "execution_count": 32,
   "metadata": {
    "editable": true,
    "execution": {
     "iopub.execute_input": "2025-02-10T17:09:21.190762Z",
     "iopub.status.busy": "2025-02-10T17:09:21.190607Z",
     "iopub.status.idle": "2025-02-10T17:09:21.193273Z",
     "shell.execute_reply": "2025-02-10T17:09:21.192832Z"
    },
    "slideshow": {
     "slide_type": ""
    },
    "tags": [
     "raises-exception"
    ]
   },
   "outputs": [
    {
     "name": "stdout",
     "output_type": "stream",
     "text": [
      "99\n",
      "2\n",
      "6\n",
      "78\n",
      "45\n"
     ]
    }
   ],
   "source": [
    "for i in b:\n",
    "    print(i)"
   ]
  },
  {
   "cell_type": "markdown",
   "metadata": {
    "editable": true,
    "slideshow": {
     "slide_type": ""
    },
    "tags": []
   },
   "source": [
    "Indentation must be consistent within the same block, so if you indent two lines\n",
    "in the same `for` loop using a different number of spaces, Python will complain\n",
    "once again:"
   ]
  },
  {
   "cell_type": "code",
   "execution_count": 33,
   "metadata": {
    "editable": true,
    "execution": {
     "iopub.execute_input": "2025-02-10T17:09:21.194902Z",
     "iopub.status.busy": "2025-02-10T17:09:21.194750Z",
     "iopub.status.idle": "2025-02-10T17:09:21.197432Z",
     "shell.execute_reply": "2025-02-10T17:09:21.196984Z"
    },
    "slideshow": {
     "slide_type": ""
    },
    "tags": [
     "raises-exception"
    ]
   },
   "outputs": [
    {
     "name": "stdout",
     "output_type": "stream",
     "text": [
      "I am in a loop\n",
      "99\n",
      "I am in a loop\n",
      "2\n",
      "I am in a loop\n",
      "6\n",
      "I am in a loop\n",
      "78\n",
      "I am in a loop\n",
      "45\n"
     ]
    }
   ],
   "source": [
    "for i in b:\n",
    "    print(\"I am in a loop\")\n",
    "    print(i)"
   ]
  },
  {
   "cell_type": "markdown",
   "metadata": {
    "editable": true,
    "slideshow": {
     "slide_type": ""
    },
    "tags": []
   },
   "source": [
    "Indentation is necessary as Python does not use any keyword or symbol to\n",
    "determine the end of a block (_e.g._ there is no `endfor`). As a side effect,\n",
    "indentation forces you to make your code more readable!\n",
    "\n",
    "Note that it does not matter how many spaces you use for indentation. **As a\n",
    "convention, we are using four spaces.**"
   ]
  },
  {
   "cell_type": "markdown",
   "metadata": {
    "editable": true,
    "slideshow": {
     "slide_type": ""
    },
    "tags": []
   },
   "source": [
    "The variable name `item` can be whatever we want, but its value is changed by \n",
    "Python to be the element of the item we’re currently on, starting from the \n",
    "first.\n",
    "\n",
    "Because lists are mutable, we can try to modify the length of the list whilst \n",
    "we’re iterating."
   ]
  },
  {
   "cell_type": "code",
   "execution_count": 34,
   "metadata": {
    "editable": true,
    "execution": {
     "iopub.execute_input": "2025-02-10T17:09:21.199099Z",
     "iopub.status.busy": "2025-02-10T17:09:21.198926Z",
     "iopub.status.idle": "2025-02-10T17:09:21.201468Z",
     "shell.execute_reply": "2025-02-10T17:09:21.201061Z"
    },
    "slideshow": {
     "slide_type": ""
    },
    "tags": []
   },
   "outputs": [],
   "source": [
    "a_copy = a[:]\n",
    "for item in a_copy:\n",
    "    del a_copy[0]"
   ]
  },
  {
   "cell_type": "code",
   "execution_count": 35,
   "metadata": {
    "editable": true,
    "execution": {
     "iopub.execute_input": "2025-02-10T17:09:21.203348Z",
     "iopub.status.busy": "2025-02-10T17:09:21.202889Z",
     "iopub.status.idle": "2025-02-10T17:09:21.206181Z",
     "shell.execute_reply": "2025-02-10T17:09:21.205687Z"
    },
    "slideshow": {
     "slide_type": ""
    },
    "tags": []
   },
   "outputs": [
    {
     "data": {
      "text/plain": [
       "[9, 45]"
      ]
     },
     "execution_count": 35,
     "metadata": {},
     "output_type": "execute_result"
    }
   ],
   "source": [
    "a_copy"
   ]
  },
  {
   "cell_type": "markdown",
   "metadata": {
    "editable": true,
    "slideshow": {
     "slide_type": ""
    },
    "tags": []
   },
   "source": [
    "Intuitively, you might expect `a_copy` to be empty, but it’s not! The technical\n",
    "reasons aren’t important, but this highlights an important rule: **never\n",
    "modify the length of a list whilst iterating over it!** You won’t end up with\n",
    "what you expect.\n",
    "\n",
    "You can, however, freely modify the _values_ of each item in the list whilst \n",
    "looping. This is a very common use case."
   ]
  },
  {
   "cell_type": "code",
   "execution_count": 36,
   "metadata": {
    "editable": true,
    "execution": {
     "iopub.execute_input": "2025-02-10T17:09:21.207919Z",
     "iopub.status.busy": "2025-02-10T17:09:21.207673Z",
     "iopub.status.idle": "2025-02-10T17:09:21.210302Z",
     "shell.execute_reply": "2025-02-10T17:09:21.209833Z"
    },
    "slideshow": {
     "slide_type": ""
    },
    "tags": []
   },
   "outputs": [],
   "source": [
    "a_copy = a[:]\n",
    "i = 0\n",
    "for item in a_copy:\n",
    "    a_copy[i] = 2*item\n",
    "    i += 1"
   ]
  },
  {
   "cell_type": "code",
   "execution_count": 37,
   "metadata": {
    "editable": true,
    "execution": {
     "iopub.execute_input": "2025-02-10T17:09:21.212022Z",
     "iopub.status.busy": "2025-02-10T17:09:21.211865Z",
     "iopub.status.idle": "2025-02-10T17:09:21.215255Z",
     "shell.execute_reply": "2025-02-10T17:09:21.214837Z"
    },
    "slideshow": {
     "slide_type": ""
    },
    "tags": []
   },
   "outputs": [
    {
     "data": {
      "text/plain": [
       "[8, 4, 18, 90]"
      ]
     },
     "execution_count": 37,
     "metadata": {},
     "output_type": "execute_result"
    }
   ],
   "source": [
    "a_copy"
   ]
  },
  {
   "cell_type": "markdown",
   "metadata": {
    "editable": true,
    "slideshow": {
     "slide_type": ""
    },
    "tags": []
   },
   "source": [
    "Keeping track of the current index ourselves, with `i` is annoying, but luckily \n",
    "Python gives us a nicer way of doing that."
   ]
  },
  {
   "cell_type": "code",
   "execution_count": 38,
   "metadata": {
    "editable": true,
    "execution": {
     "iopub.execute_input": "2025-02-10T17:09:21.217051Z",
     "iopub.status.busy": "2025-02-10T17:09:21.216757Z",
     "iopub.status.idle": "2025-02-10T17:09:21.219407Z",
     "shell.execute_reply": "2025-02-10T17:09:21.218955Z"
    },
    "slideshow": {
     "slide_type": ""
    },
    "tags": []
   },
   "outputs": [],
   "source": [
    "a_doubled = a[:]\n",
    "for index, item in enumerate(a_doubled):\n",
    "    a_doubled[index] = 2 * item"
   ]
  },
  {
   "cell_type": "code",
   "execution_count": 39,
   "metadata": {
    "editable": true,
    "execution": {
     "iopub.execute_input": "2025-02-10T17:09:21.221046Z",
     "iopub.status.busy": "2025-02-10T17:09:21.220892Z",
     "iopub.status.idle": "2025-02-10T17:09:21.224183Z",
     "shell.execute_reply": "2025-02-10T17:09:21.223780Z"
    },
    "slideshow": {
     "slide_type": ""
    },
    "tags": []
   },
   "outputs": [
    {
     "data": {
      "text/plain": [
       "[8, 4, 18, 90]"
      ]
     },
     "execution_count": 39,
     "metadata": {},
     "output_type": "execute_result"
    }
   ],
   "source": [
    "a_doubled"
   ]
  },
  {
   "cell_type": "markdown",
   "metadata": {
    "editable": true,
    "slideshow": {
     "slide_type": ""
    },
    "tags": []
   },
   "source": [
    "There’s a lot going on here. Firstly, note that Python lets you assign values \n",
    "to multiple variables at the same time."
   ]
  },
  {
   "cell_type": "code",
   "execution_count": 40,
   "metadata": {
    "editable": true,
    "execution": {
     "iopub.execute_input": "2025-02-10T17:09:21.225928Z",
     "iopub.status.busy": "2025-02-10T17:09:21.225775Z",
     "iopub.status.idle": "2025-02-10T17:09:21.227962Z",
     "shell.execute_reply": "2025-02-10T17:09:21.227601Z"
    },
    "slideshow": {
     "slide_type": ""
    },
    "tags": []
   },
   "outputs": [],
   "source": [
    "one, two = [34, 43]"
   ]
  },
  {
   "cell_type": "code",
   "execution_count": 41,
   "metadata": {
    "editable": true,
    "execution": {
     "iopub.execute_input": "2025-02-10T17:09:21.229699Z",
     "iopub.status.busy": "2025-02-10T17:09:21.229548Z",
     "iopub.status.idle": "2025-02-10T17:09:21.232291Z",
     "shell.execute_reply": "2025-02-10T17:09:21.231781Z"
    },
    "slideshow": {
     "slide_type": ""
    },
    "tags": []
   },
   "outputs": [
    {
     "name": "stdout",
     "output_type": "stream",
     "text": [
      "one: 34, two: 43\n"
     ]
    }
   ],
   "source": [
    "print(f\"one: {one}, two: {two}\")"
   ]
  },
  {
   "cell_type": "markdown",
   "metadata": {
    "editable": true,
    "slideshow": {
     "slide_type": ""
    },
    "tags": []
   },
   "source": [
    "That’s already pretty cool! But then think about what happens if you had a list \n",
    "where each item was another list, each containing two numbers."
   ]
  },
  {
   "cell_type": "code",
   "execution_count": 42,
   "metadata": {
    "editable": true,
    "execution": {
     "iopub.execute_input": "2025-02-10T17:09:21.234014Z",
     "iopub.status.busy": "2025-02-10T17:09:21.233860Z",
     "iopub.status.idle": "2025-02-10T17:09:21.236600Z",
     "shell.execute_reply": "2025-02-10T17:09:21.236162Z"
    },
    "slideshow": {
     "slide_type": ""
    },
    "tags": []
   },
   "outputs": [
    {
     "name": "stdout",
     "output_type": "stream",
     "text": [
      "[20, 29]\n",
      "[30, 34]\n"
     ]
    }
   ],
   "source": [
    "nested = [[20, 29], [30, 34]]\n",
    "for item in nested:\n",
    "    print(item)"
   ]
  },
  {
   "cell_type": "markdown",
   "metadata": {
    "editable": true,
    "slideshow": {
     "slide_type": ""
    },
    "tags": []
   },
   "source": [
    "So, we can just assign each item in the sublist to separate variables in the \n",
    "`for` statement."
   ]
  },
  {
   "cell_type": "code",
   "execution_count": 43,
   "metadata": {
    "editable": true,
    "execution": {
     "iopub.execute_input": "2025-02-10T17:09:21.238310Z",
     "iopub.status.busy": "2025-02-10T17:09:21.238159Z",
     "iopub.status.idle": "2025-02-10T17:09:21.240900Z",
     "shell.execute_reply": "2025-02-10T17:09:21.240422Z"
    },
    "slideshow": {
     "slide_type": ""
    },
    "tags": []
   },
   "outputs": [
    {
     "name": "stdout",
     "output_type": "stream",
     "text": [
      "29 20\n",
      "34 30\n"
     ]
    }
   ],
   "source": [
    "for one, two in nested:\n",
    "    print(two, one)"
   ]
  },
  {
   "cell_type": "markdown",
   "metadata": {
    "editable": true,
    "slideshow": {
     "slide_type": ""
    },
    "tags": []
   },
   "source": [
    "Now we can understand a little better what `enumerate` does: for each item in \n",
    "the list, it returns a new list containing the current index and the item."
   ]
  },
  {
   "cell_type": "code",
   "execution_count": 44,
   "metadata": {
    "editable": true,
    "execution": {
     "iopub.execute_input": "2025-02-10T17:09:21.242624Z",
     "iopub.status.busy": "2025-02-10T17:09:21.242471Z",
     "iopub.status.idle": "2025-02-10T17:09:21.245627Z",
     "shell.execute_reply": "2025-02-10T17:09:21.245171Z"
    },
    "slideshow": {
     "slide_type": ""
    },
    "tags": []
   },
   "outputs": [
    {
     "data": {
      "text/plain": [
       "<enumerate at 0x7f547c84b6f0>"
      ]
     },
     "execution_count": 44,
     "metadata": {},
     "output_type": "execute_result"
    }
   ],
   "source": [
    "enumerate(a)"
   ]
  },
  {
   "cell_type": "code",
   "execution_count": 45,
   "metadata": {
    "editable": true,
    "execution": {
     "iopub.execute_input": "2025-02-10T17:09:21.247522Z",
     "iopub.status.busy": "2025-02-10T17:09:21.247144Z",
     "iopub.status.idle": "2025-02-10T17:09:21.250518Z",
     "shell.execute_reply": "2025-02-10T17:09:21.250043Z"
    },
    "slideshow": {
     "slide_type": ""
    },
    "tags": []
   },
   "outputs": [
    {
     "data": {
      "text/plain": [
       "[(0, 4), (1, 2), (2, 9), (3, 45)]"
      ]
     },
     "execution_count": 45,
     "metadata": {},
     "output_type": "execute_result"
    }
   ],
   "source": [
    "list(enumerate(a))"
   ]
  },
  {
   "cell_type": "markdown",
   "metadata": {
    "editable": true,
    "slideshow": {
     "slide_type": ""
    },
    "tags": []
   },
   "source": [
    "For more advanced reasons `enumerate` doesn’t return a list directly, but instead\n",
    "something that the `for` statement knows how to iterate over (this is called a\n",
    "[generator](https://wiki.python.org/moin/Generators) and for the moment you\n",
    "don't need to know how it works). We can convert it to a list with the `list`\n",
    "method when we want to see what’s it doing.\n",
    "\n",
    "This technique of looping over lists of lists lets us loop over two lists \n",
    "simultaneously, using the `zip` method."
   ]
  },
  {
   "cell_type": "code",
   "execution_count": 46,
   "metadata": {
    "editable": true,
    "execution": {
     "iopub.execute_input": "2025-02-10T17:09:21.252341Z",
     "iopub.status.busy": "2025-02-10T17:09:21.252028Z",
     "iopub.status.idle": "2025-02-10T17:09:21.254838Z",
     "shell.execute_reply": "2025-02-10T17:09:21.254371Z"
    },
    "slideshow": {
     "slide_type": ""
    },
    "tags": []
   },
   "outputs": [
    {
     "name": "stdout",
     "output_type": "stream",
     "text": [
      "8 4\n",
      "4 2\n",
      "18 9\n",
      "90 45\n"
     ]
    }
   ],
   "source": [
    "for item, item2 in zip(a, a_doubled):\n",
    "    print(item2, item)"
   ]
  },
  {
   "cell_type": "markdown",
   "metadata": {
    "editable": true,
    "slideshow": {
     "slide_type": ""
    },
    "tags": []
   },
   "source": [
    "Neat! As before, we can see what `zip` is doing explicitly by using `list`."
   ]
  },
  {
   "cell_type": "code",
   "execution_count": 47,
   "metadata": {
    "editable": true,
    "execution": {
     "iopub.execute_input": "2025-02-10T17:09:21.256720Z",
     "iopub.status.busy": "2025-02-10T17:09:21.256406Z",
     "iopub.status.idle": "2025-02-10T17:09:21.259701Z",
     "shell.execute_reply": "2025-02-10T17:09:21.259233Z"
    },
    "slideshow": {
     "slide_type": ""
    },
    "tags": []
   },
   "outputs": [
    {
     "data": {
      "text/plain": [
       "[(4, 8), (2, 4), (9, 18), (45, 90)]"
      ]
     },
     "execution_count": 47,
     "metadata": {},
     "output_type": "execute_result"
    }
   ],
   "source": [
    "list(zip(a, a_doubled))"
   ]
  },
  {
   "cell_type": "markdown",
   "metadata": {
    "editable": true,
    "slideshow": {
     "slide_type": ""
    },
    "tags": []
   },
   "source": [
    "You can see that the structure of the list that’s iterated over, the output of \n",
    "`zip`, is identical to that for `enumerate`.\n",
    "\n",
    "Finally, we’ll take a quick look at the `range` method."
   ]
  },
  {
   "cell_type": "code",
   "execution_count": 48,
   "metadata": {
    "editable": true,
    "execution": {
     "iopub.execute_input": "2025-02-10T17:09:21.261651Z",
     "iopub.status.busy": "2025-02-10T17:09:21.261353Z",
     "iopub.status.idle": "2025-02-10T17:09:21.264224Z",
     "shell.execute_reply": "2025-02-10T17:09:21.263728Z"
    },
    "slideshow": {
     "slide_type": ""
    },
    "tags": []
   },
   "outputs": [
    {
     "name": "stdout",
     "output_type": "stream",
     "text": [
      "0\n",
      "1\n",
      "2\n",
      "3\n",
      "4\n",
      "5\n",
      "6\n",
      "7\n",
      "8\n",
      "9\n"
     ]
    }
   ],
   "source": [
    "for i in range(0, 10):\n",
    "    print(i)"
   ]
  },
  {
   "cell_type": "markdown",
   "metadata": {
    "editable": true,
    "slideshow": {
     "slide_type": ""
    },
    "tags": []
   },
   "source": [
    "The arguments to `range` work just like slicing, the second argument is treated \n",
    "exclusively, as its value is excluded from the output. Again like slicing, we \n",
    "can specify a third argument as the step size for the iteration."
   ]
  },
  {
   "cell_type": "code",
   "execution_count": 49,
   "metadata": {
    "editable": true,
    "execution": {
     "iopub.execute_input": "2025-02-10T17:09:21.266314Z",
     "iopub.status.busy": "2025-02-10T17:09:21.265838Z",
     "iopub.status.idle": "2025-02-10T17:09:21.268683Z",
     "shell.execute_reply": "2025-02-10T17:09:21.268315Z"
    },
    "slideshow": {
     "slide_type": ""
    },
    "tags": []
   },
   "outputs": [
    {
     "name": "stdout",
     "output_type": "stream",
     "text": [
      "0\n",
      "2\n",
      "4\n",
      "6\n",
      "8\n"
     ]
    }
   ],
   "source": [
    "for i in range(0, 10, 2):\n",
    "    print(i)"
   ]
  },
  {
   "cell_type": "markdown",
   "metadata": {
    "editable": true,
    "slideshow": {
     "slide_type": ""
    },
    "tags": []
   },
   "source": [
    "If you only give a single argument to `range`, it assumes you’ve given the end \n",
    "value, and want a starting value of zero."
   ]
  },
  {
   "cell_type": "code",
   "execution_count": 50,
   "metadata": {
    "editable": true,
    "execution": {
     "iopub.execute_input": "2025-02-10T17:09:21.270300Z",
     "iopub.status.busy": "2025-02-10T17:09:21.270159Z",
     "iopub.status.idle": "2025-02-10T17:09:21.272900Z",
     "shell.execute_reply": "2025-02-10T17:09:21.272500Z"
    },
    "slideshow": {
     "slide_type": ""
    },
    "tags": []
   },
   "outputs": [
    {
     "name": "stdout",
     "output_type": "stream",
     "text": [
      "0\n",
      "1\n",
      "2\n",
      "3\n",
      "4\n"
     ]
    }
   ],
   "source": [
    "for i in range(5):\n",
    "    print(i)"
   ]
  },
  {
   "cell_type": "markdown",
   "metadata": {
    "editable": true,
    "slideshow": {
     "slide_type": ""
    },
    "tags": []
   },
   "source": [
    "This reads “give me a list of length 5, in steps of 1, starting from zero”.\n",
    "\n",
    "Now that we know how to easily generate sequences of numbers, we can write \n",
    "`enumerate` by hand!"
   ]
  },
  {
   "cell_type": "code",
   "execution_count": 51,
   "metadata": {
    "editable": true,
    "execution": {
     "iopub.execute_input": "2025-02-10T17:09:21.274562Z",
     "iopub.status.busy": "2025-02-10T17:09:21.274406Z",
     "iopub.status.idle": "2025-02-10T17:09:21.277404Z",
     "shell.execute_reply": "2025-02-10T17:09:21.276978Z"
    },
    "slideshow": {
     "slide_type": ""
    },
    "tags": []
   },
   "outputs": [
    {
     "name": "stdout",
     "output_type": "stream",
     "text": [
      "0 4\n",
      "1 2\n",
      "2 9\n",
      "3 45\n"
     ]
    }
   ],
   "source": [
    "for index, item in zip(range(len(a)), a):\n",
    "    print(index, item)"
   ]
  },
  {
   "cell_type": "markdown",
   "metadata": {
    "editable": true,
    "slideshow": {
     "slide_type": ""
    },
    "tags": []
   },
   "source": [
    "Just like before! When you see something cool like `enumerate`, it can be fun \n",
    "trying to see how you’d accomplish something similar with different building \n",
    "blocks."
   ]
  },
  {
   "cell_type": "markdown",
   "metadata": {
    "editable": true,
    "slideshow": {
     "slide_type": ""
    },
    "tags": []
   },
   "source": [
    "## List comprehension (Sugar, can be skipped on first read)\n",
    "\n",
    "We’ve already made a new list from an existing one when we created `a_doubled`.\n"
   ]
  },
  {
   "cell_type": "code",
   "execution_count": 52,
   "metadata": {
    "editable": true,
    "execution": {
     "iopub.execute_input": "2025-02-10T17:09:21.279315Z",
     "iopub.status.busy": "2025-02-10T17:09:21.278918Z",
     "iopub.status.idle": "2025-02-10T17:09:21.281375Z",
     "shell.execute_reply": "2025-02-10T17:09:21.280973Z"
    },
    "slideshow": {
     "slide_type": ""
    },
    "tags": []
   },
   "outputs": [],
   "source": [
    "a_doubled = a[:]\n",
    "for index, item in enumerate(a_doubled):\n",
    "    a_doubled[index] = 2*item"
   ]
  },
  {
   "cell_type": "markdown",
   "metadata": {
    "editable": true,
    "slideshow": {
     "slide_type": ""
    },
    "tags": []
   },
   "source": [
    "Creating a new list from an existing one is a common operation, so Python has a \n",
    "shorthand syntax called _list comprehension_."
   ]
  },
  {
   "cell_type": "code",
   "execution_count": 53,
   "metadata": {
    "editable": true,
    "execution": {
     "iopub.execute_input": "2025-02-10T17:09:21.283016Z",
     "iopub.status.busy": "2025-02-10T17:09:21.282863Z",
     "iopub.status.idle": "2025-02-10T17:09:21.285451Z",
     "shell.execute_reply": "2025-02-10T17:09:21.284939Z"
    },
    "slideshow": {
     "slide_type": ""
    },
    "tags": []
   },
   "outputs": [],
   "source": [
    "a_doubled = [2*item for item in a]"
   ]
  },
  {
   "cell_type": "code",
   "execution_count": 54,
   "metadata": {
    "editable": true,
    "execution": {
     "iopub.execute_input": "2025-02-10T17:09:21.287515Z",
     "iopub.status.busy": "2025-02-10T17:09:21.287034Z",
     "iopub.status.idle": "2025-02-10T17:09:21.290550Z",
     "shell.execute_reply": "2025-02-10T17:09:21.290055Z"
    },
    "slideshow": {
     "slide_type": ""
    },
    "tags": []
   },
   "outputs": [
    {
     "data": {
      "text/plain": [
       "[8, 4, 18, 90]"
      ]
     },
     "execution_count": 54,
     "metadata": {},
     "output_type": "execute_result"
    }
   ],
   "source": [
    "a_doubled"
   ]
  },
  {
   "cell_type": "markdown",
   "metadata": {
    "editable": true,
    "slideshow": {
     "slide_type": ""
    },
    "tags": []
   },
   "source": [
    "Isn’t that beautiful?\n",
    "\n",
    "We can use the same multi-variable stuff we learnt whilst looping."
   ]
  },
  {
   "cell_type": "code",
   "execution_count": 55,
   "metadata": {
    "editable": true,
    "execution": {
     "iopub.execute_input": "2025-02-10T17:09:21.292344Z",
     "iopub.status.busy": "2025-02-10T17:09:21.292189Z",
     "iopub.status.idle": "2025-02-10T17:09:21.295550Z",
     "shell.execute_reply": "2025-02-10T17:09:21.295048Z"
    },
    "slideshow": {
     "slide_type": ""
    },
    "tags": []
   },
   "outputs": [
    {
     "data": {
      "text/plain": [
       "[0, 2, 18, 135]"
      ]
     },
     "execution_count": 55,
     "metadata": {},
     "output_type": "execute_result"
    }
   ],
   "source": [
    "[index*item for index, item in enumerate(a)]"
   ]
  },
  {
   "cell_type": "markdown",
   "metadata": {
    "editable": true,
    "slideshow": {
     "slide_type": ""
    },
    "tags": []
   },
   "source": [
    "We’re not restricted to creating new lists with the same structure as the \n",
    "original."
   ]
  },
  {
   "cell_type": "code",
   "execution_count": 56,
   "metadata": {
    "editable": true,
    "execution": {
     "iopub.execute_input": "2025-02-10T17:09:21.297182Z",
     "iopub.status.busy": "2025-02-10T17:09:21.297012Z",
     "iopub.status.idle": "2025-02-10T17:09:21.300486Z",
     "shell.execute_reply": "2025-02-10T17:09:21.300090Z"
    },
    "slideshow": {
     "slide_type": ""
    },
    "tags": []
   },
   "outputs": [
    {
     "data": {
      "text/plain": [
       "[[4, 16], [2, 4], [9, 81], [45, 2025]]"
      ]
     },
     "execution_count": 56,
     "metadata": {},
     "output_type": "execute_result"
    }
   ],
   "source": [
    "[[item, item*item] for item in a]"
   ]
  },
  {
   "cell_type": "markdown",
   "metadata": {
    "editable": true,
    "slideshow": {
     "slide_type": ""
    },
    "tags": []
   },
   "source": [
    "We can even filter out items from the original list using `if`."
   ]
  },
  {
   "cell_type": "code",
   "execution_count": 57,
   "metadata": {
    "editable": true,
    "execution": {
     "iopub.execute_input": "2025-02-10T17:09:21.302326Z",
     "iopub.status.busy": "2025-02-10T17:09:21.302011Z",
     "iopub.status.idle": "2025-02-10T17:09:21.305529Z",
     "shell.execute_reply": "2025-02-10T17:09:21.305134Z"
    },
    "slideshow": {
     "slide_type": ""
    },
    "tags": []
   },
   "outputs": [
    {
     "data": {
      "text/plain": [
       "[[4, 16], [2, 4]]"
      ]
     },
     "execution_count": 57,
     "metadata": {},
     "output_type": "execute_result"
    }
   ],
   "source": [
    "[[item, item*item] for item in a if item % 2 == 0]"
   ]
  },
  {
   "cell_type": "markdown",
   "metadata": {
    "editable": true,
    "slideshow": {
     "slide_type": ""
    },
    "tags": []
   },
   "source": [
    "List comprehensions are a powerful way of succinctly creating new lists. But be \n",
    "responsible; if you find you’re doing something complicated, it’s probably \n",
    "better to write a full `for` loop."
   ]
  },
  {
   "cell_type": "markdown",
   "metadata": {
    "editable": true,
    "slideshow": {
     "slide_type": ""
    },
    "tags": []
   },
   "source": [
    "**Exercise**\n",
    "Write a list comprehension yourself\n",
    "\n",
    "Compute the square of the magnitude of the sum of the following two \n",
    "three-vectors, using a single list comprehension and the global `sum` method.\n",
    "\n",
    "It might help to first think about how you’d compute the quantity for a single \n",
    "vector.\n",
    "\n",
    "Not sure what the `sum` method does? Ask for `help`!"
   ]
  },
  {
   "cell_type": "code",
   "execution_count": 58,
   "metadata": {
    "editable": true,
    "execution": {
     "iopub.execute_input": "2025-02-10T17:09:21.307472Z",
     "iopub.status.busy": "2025-02-10T17:09:21.307085Z",
     "iopub.status.idle": "2025-02-10T17:09:21.310252Z",
     "shell.execute_reply": "2025-02-10T17:09:21.309770Z"
    },
    "slideshow": {
     "slide_type": ""
    },
    "tags": []
   },
   "outputs": [
    {
     "name": "stdout",
     "output_type": "stream",
     "text": [
      "Help on built-in function sum in module builtins:\n",
      "\n",
      "sum(iterable, /, start=0)\n",
      "    Return the sum of a 'start' value (default: 0) plus an iterable of numbers\n",
      "    \n",
      "    When the iterable is empty, return the start value.\n",
      "    This function is intended specifically for use with numeric values and may\n",
      "    reject non-numeric types.\n",
      "\n"
     ]
    }
   ],
   "source": [
    "help(sum)"
   ]
  },
  {
   "cell_type": "code",
   "execution_count": 59,
   "metadata": {
    "editable": true,
    "execution": {
     "iopub.execute_input": "2025-02-10T17:09:21.312173Z",
     "iopub.status.busy": "2025-02-10T17:09:21.311780Z",
     "iopub.status.idle": "2025-02-10T17:09:21.314218Z",
     "shell.execute_reply": "2025-02-10T17:09:21.313818Z"
    },
    "slideshow": {
     "slide_type": ""
    },
    "tags": []
   },
   "outputs": [],
   "source": [
    "kaon = [3.4, 4.3, 20.0]\n",
    "pion = [1.4, 0.9, 19.8]"
   ]
  },
  {
   "cell_type": "markdown",
   "metadata": {
    "editable": true,
    "slideshow": {
     "slide_type": ""
    },
    "tags": []
   },
   "source": [
    "**Solution**"
   ]
  },
  {
   "cell_type": "markdown",
   "metadata": {
    "editable": true,
    "slideshow": {
     "slide_type": ""
    },
    "tags": []
   },
   "source": [
    "The square magnitude is the sum of the squares of the components, where the \n",
    "components are the sum of the two input vectors."
   ]
  },
  {
   "cell_type": "code",
   "execution_count": 60,
   "metadata": {
    "editable": true,
    "execution": {
     "iopub.execute_input": "2025-02-10T17:09:21.316092Z",
     "iopub.status.busy": "2025-02-10T17:09:21.315765Z",
     "iopub.status.idle": "2025-02-10T17:09:21.318206Z",
     "shell.execute_reply": "2025-02-10T17:09:21.317815Z"
    },
    "slideshow": {
     "slide_type": ""
    },
    "tags": []
   },
   "outputs": [],
   "source": [
    "magsq = sum([(k + pi)**2 for k, pi in zip(kaon, pion)])"
   ]
  },
  {
   "cell_type": "markdown",
   "metadata": {
    "editable": true,
    "slideshow": {
     "slide_type": ""
    },
    "tags": []
   },
   "source": [
    "The square root of this is around 40.42."
   ]
  },
  {
   "cell_type": "markdown",
   "metadata": {
    "editable": true,
    "slideshow": {
     "slide_type": ""
    },
    "tags": []
   },
   "source": [
    "## Tuples\n",
    "\n",
    "A close relative of lists are tuples, which differ in that they cannot be \n",
    "mutated after creation.  You can create tuples literally using parentheses, or \n",
    "convert things to tuples using the `tuple` method.\n"
   ]
  },
  {
   "cell_type": "code",
   "execution_count": 61,
   "metadata": {
    "editable": true,
    "execution": {
     "iopub.execute_input": "2025-02-10T17:09:21.319832Z",
     "iopub.status.busy": "2025-02-10T17:09:21.319693Z",
     "iopub.status.idle": "2025-02-10T17:09:21.321867Z",
     "shell.execute_reply": "2025-02-10T17:09:21.321497Z"
    },
    "slideshow": {
     "slide_type": ""
    },
    "tags": []
   },
   "outputs": [],
   "source": [
    "a = (3, 4)"
   ]
  },
  {
   "cell_type": "code",
   "execution_count": 62,
   "metadata": {
    "editable": true,
    "execution": {
     "iopub.execute_input": "2025-02-10T17:09:21.323512Z",
     "iopub.status.busy": "2025-02-10T17:09:21.323355Z",
     "iopub.status.idle": "2025-02-10T17:09:21.333295Z",
     "shell.execute_reply": "2025-02-10T17:09:21.332846Z"
    },
    "slideshow": {
     "slide_type": ""
    },
    "tags": [
     "raises-exception"
    ]
   },
   "outputs": [
    {
     "ename": "TypeError",
     "evalue": "'tuple' object doesn't support item deletion",
     "output_type": "error",
     "traceback": [
      "\u001b[0;31m---------------------------------------------------------------------------\u001b[0m",
      "\u001b[0;31mTypeError\u001b[0m                                 Traceback (most recent call last)",
      "Cell \u001b[0;32mIn[62], line 1\u001b[0m\n\u001b[0;32m----> 1\u001b[0m \u001b[38;5;28;01mdel\u001b[39;00m \u001b[43ma\u001b[49m\u001b[43m[\u001b[49m\u001b[38;5;241;43m0\u001b[39;49m\u001b[43m]\u001b[49m\n",
      "\u001b[0;31mTypeError\u001b[0m: 'tuple' object doesn't support item deletion"
     ]
    }
   ],
   "source": [
    "del a[0]"
   ]
  },
  {
   "cell_type": "code",
   "execution_count": 63,
   "metadata": {
    "editable": true,
    "execution": {
     "iopub.execute_input": "2025-02-10T17:09:21.334958Z",
     "iopub.status.busy": "2025-02-10T17:09:21.334803Z",
     "iopub.status.idle": "2025-02-10T17:09:21.343892Z",
     "shell.execute_reply": "2025-02-10T17:09:21.343416Z"
    },
    "slideshow": {
     "slide_type": ""
    },
    "tags": [
     "raises-exception"
    ]
   },
   "outputs": [
    {
     "ename": "AttributeError",
     "evalue": "'tuple' object has no attribute 'append'",
     "output_type": "error",
     "traceback": [
      "\u001b[0;31m---------------------------------------------------------------------------\u001b[0m",
      "\u001b[0;31mAttributeError\u001b[0m                            Traceback (most recent call last)",
      "Cell \u001b[0;32mIn[63], line 1\u001b[0m\n\u001b[0;32m----> 1\u001b[0m \u001b[43ma\u001b[49m\u001b[38;5;241;43m.\u001b[39;49m\u001b[43mappend\u001b[49m(\u001b[38;5;241m5\u001b[39m)\n",
      "\u001b[0;31mAttributeError\u001b[0m: 'tuple' object has no attribute 'append'"
     ]
    }
   ],
   "source": [
    "a.append(5)"
   ]
  },
  {
   "cell_type": "markdown",
   "metadata": {
    "editable": true,
    "slideshow": {
     "slide_type": ""
    },
    "tags": []
   },
   "source": [
    "Tuples are usually used to describe data whose length is meaningful in and of \n",
    "itself. For example, you could express coordinates as a tuple."
   ]
  },
  {
   "cell_type": "code",
   "execution_count": 64,
   "metadata": {
    "editable": true,
    "execution": {
     "iopub.execute_input": "2025-02-10T17:09:21.345728Z",
     "iopub.status.busy": "2025-02-10T17:09:21.345421Z",
     "iopub.status.idle": "2025-02-10T17:09:21.347898Z",
     "shell.execute_reply": "2025-02-10T17:09:21.347423Z"
    },
    "slideshow": {
     "slide_type": ""
    },
    "tags": []
   },
   "outputs": [],
   "source": [
    "coords = (3.2, 0.1)\n",
    "x, y = coords"
   ]
  },
  {
   "cell_type": "markdown",
   "metadata": {
    "editable": true,
    "slideshow": {
     "slide_type": ""
    },
    "tags": []
   },
   "source": [
    "This is nice because it doesn’t make sense to append to an `$ (x, y) $` \n",
    "coordinate, nor to ‘delete’ a dimension. Generally, it can be useful if the \n",
    "data structure you’re using respects the _meaning_ of the data you’re storing.\n",
    "\n",
    "If you can’t think of a use for tuples yourself, its worth keeping in mind that \n",
    "Python creates tuples for groups of things by default. We saw that \n",
    "earlier when we used `enumerate`."
   ]
  },
  {
   "cell_type": "code",
   "execution_count": 65,
   "metadata": {
    "editable": true,
    "execution": {
     "iopub.execute_input": "2025-02-10T17:09:21.349813Z",
     "iopub.status.busy": "2025-02-10T17:09:21.349522Z",
     "iopub.status.idle": "2025-02-10T17:09:21.352929Z",
     "shell.execute_reply": "2025-02-10T17:09:21.352463Z"
    },
    "slideshow": {
     "slide_type": ""
    },
    "tags": []
   },
   "outputs": [
    {
     "data": {
      "text/plain": [
       "[(0, 4), (1, 9)]"
      ]
     },
     "execution_count": 65,
     "metadata": {},
     "output_type": "execute_result"
    }
   ],
   "source": [
    "list(enumerate([4, 9]))"
   ]
  },
  {
   "cell_type": "markdown",
   "metadata": {},
   "source": [
    "Each element of the list is a tuple."
   ]
  }
 ],
 "metadata": {
  "language_info": {
   "codemirror_mode": {
    "name": "ipython",
    "version": 3
   },
   "file_extension": ".py",
   "mimetype": "text/x-python",
   "name": "python",
   "nbconvert_exporter": "python",
   "pygments_lexer": "ipython3",
   "version": "3.11.11"
  }
 },
 "nbformat": 4,
 "nbformat_minor": 4
}
