{
 "cells": [
  {
   "cell_type": "markdown",
   "metadata": {
    "slideshow": {
     "slide_type": "slide"
    }
   },
   "source": [
    "# 1: Basics"
   ]
  },
  {
   "cell_type": "markdown",
   "metadata": {
    "slideshow": {
     "slide_type": "subslide"
    }
   },
   "source": [
    "This Python tutorial will cover the basics of\n",
    " - Jupyter Notebooks\n",
    " - basic types in Python\n",
    " - container types\n",
    " - control flow"
   ]
  },
  {
   "cell_type": "markdown",
   "metadata": {
    "slideshow": {
     "slide_type": "slide"
    }
   },
   "source": [
    "# Jupyter\n",
    "\n",
    "A Jupyter Notebook consists of cells that can be executed. There are two fundamental different types of cells, markdown or code cells. The former renders the text as markdown while the latter runs the Python interpreter.\n",
    "\n",
    "Notebooks can be converted to Python scripts.\n",
    "\n",
    "Be aware that notebooks are stateful. E.g. executing a cell again is like adding this line two times in a script.\n",
    "\n",
    "Useful commands:\n",
    " - to run a cell and go to the next one, press Shift + Enter\n",
    " - to move from editing mode to navigation (move up and down in cells), press Esc\n",
    " - to enter editing mode from navigation, press Enter\n",
    " \n",
    "Let's start! Execute the lines below"
   ]
  },
  {
   "cell_type": "code",
   "execution_count": 1,
   "metadata": {
    "execution": {
     "iopub.execute_input": "2024-02-14T16:31:01.924548Z",
     "iopub.status.busy": "2024-02-14T16:31:01.924389Z",
     "iopub.status.idle": "2024-02-14T16:31:01.929099Z",
     "shell.execute_reply": "2024-02-14T16:31:01.928718Z"
    },
    "slideshow": {
     "slide_type": "subslide"
    }
   },
   "outputs": [],
   "source": [
    "a = 0"
   ]
  },
  {
   "cell_type": "code",
   "execution_count": 2,
   "metadata": {
    "execution": {
     "iopub.execute_input": "2024-02-14T16:31:01.930826Z",
     "iopub.status.busy": "2024-02-14T16:31:01.930525Z",
     "iopub.status.idle": "2024-02-14T16:31:01.933261Z",
     "shell.execute_reply": "2024-02-14T16:31:01.932874Z"
    },
    "slideshow": {
     "slide_type": "subslide"
    }
   },
   "outputs": [
    {
     "name": "stdout",
     "output_type": "stream",
     "text": [
      "1\n"
     ]
    }
   ],
   "source": [
    "a = a + 1\n",
    "print(a)"
   ]
  },
  {
   "cell_type": "markdown",
   "metadata": {
    "slideshow": {
     "slide_type": "subslide"
    }
   },
   "source": [
    "If we rerun the cell above, `a` will have changed again! If you want to rerun everythin, restart the kernel first."
   ]
  },
  {
   "cell_type": "markdown",
   "metadata": {
    "slideshow": {
     "slide_type": "subslide"
    }
   },
   "source": [
    "Notebooks offer convenient functionality, similar to IPython:\n",
    " - can use `!command` to execute bash\n",
    " - has tab-completion\n",
    " - prints automatically return value if it is not assigned to a variable\n",
    " - magic commands like %timeit\n",
    " \n",
    "We will use them later on more"
   ]
  },
  {
   "cell_type": "markdown",
   "metadata": {
    "slideshow": {
     "slide_type": "slide"
    }
   },
   "source": [
    "## Basic types and operations\n",
    "\n",
    "Python has several basic types\n",
    " - numerical (float, int, complex)\n",
    " - string\n",
    " - bool\n",
    " \n",
    "There are several operations defined on them, as we have already seen in examples.\n"
   ]
  },
  {
   "cell_type": "code",
   "execution_count": 3,
   "metadata": {
    "execution": {
     "iopub.execute_input": "2024-02-14T16:31:01.934969Z",
     "iopub.status.busy": "2024-02-14T16:31:01.934728Z",
     "iopub.status.idle": "2024-02-14T16:31:01.937482Z",
     "shell.execute_reply": "2024-02-14T16:31:01.937103Z"
    },
    "slideshow": {
     "slide_type": "subslide"
    }
   },
   "outputs": [],
   "source": [
    "a = 1  # creates an integer\n",
    "\n",
    "b = 3.4  # float\n",
    "\n",
    "# several ways for strings\n",
    "c = \"hello\"\n",
    "d = 'world'\n",
    "cd = \"welcome to this 'world' here\"  # we can now use '' inside (or vice versa)\n",
    "e = \"\"\"hello world\"\"\"  # which we can also wrap\n",
    "e2 = \"\"\"hello\n",
    "world\n",
    "come here!\"\"\"\n",
    "\n",
    "g = True"
   ]
  },
  {
   "cell_type": "code",
   "execution_count": 4,
   "metadata": {
    "execution": {
     "iopub.execute_input": "2024-02-14T16:31:01.938997Z",
     "iopub.status.busy": "2024-02-14T16:31:01.938859Z",
     "iopub.status.idle": "2024-02-14T16:31:01.943304Z",
     "shell.execute_reply": "2024-02-14T16:31:01.942936Z"
    },
    "slideshow": {
     "slide_type": "subslide"
    }
   },
   "outputs": [
    {
     "data": {
      "text/plain": [
       "int"
      ]
     },
     "execution_count": 4,
     "metadata": {},
     "output_type": "execute_result"
    }
   ],
   "source": [
    "type(a)"
   ]
  },
  {
   "cell_type": "markdown",
   "metadata": {
    "slideshow": {
     "slide_type": "subslide"
    }
   },
   "source": [
    "With `type(...)`, we can determine the type of an object."
   ]
  },
  {
   "cell_type": "markdown",
   "metadata": {
    "slideshow": {
     "slide_type": "slide"
    }
   },
   "source": [
    "## strong typing\n",
    "\n",
    "Python is **strongly typed** (as opposed to weakly typed). This means that the type of the variable _matters_ and some interactions between certain types are not directly possible."
   ]
  },
  {
   "cell_type": "code",
   "execution_count": 5,
   "metadata": {
    "execution": {
     "iopub.execute_input": "2024-02-14T16:31:01.944967Z",
     "iopub.status.busy": "2024-02-14T16:31:01.944811Z",
     "iopub.status.idle": "2024-02-14T16:31:01.947128Z",
     "shell.execute_reply": "2024-02-14T16:31:01.946738Z"
    },
    "slideshow": {
     "slide_type": "subslide"
    }
   },
   "outputs": [],
   "source": [
    "a = 1\n",
    "b = 2"
   ]
  },
  {
   "cell_type": "code",
   "execution_count": 6,
   "metadata": {
    "execution": {
     "iopub.execute_input": "2024-02-14T16:31:01.948675Z",
     "iopub.status.busy": "2024-02-14T16:31:01.948526Z",
     "iopub.status.idle": "2024-02-14T16:31:01.951417Z",
     "shell.execute_reply": "2024-02-14T16:31:01.951046Z"
    },
    "slideshow": {
     "slide_type": "subslide"
    }
   },
   "outputs": [
    {
     "data": {
      "text/plain": [
       "3"
      ]
     },
     "execution_count": 6,
     "metadata": {},
     "output_type": "execute_result"
    }
   ],
   "source": [
    "a + b"
   ]
  },
  {
   "cell_type": "markdown",
   "metadata": {
    "slideshow": {
     "slide_type": "subslide"
    }
   },
   "source": [
    "These are two integers. We are not surprised that this works. What about the following?"
   ]
  },
  {
   "cell_type": "code",
   "execution_count": 7,
   "metadata": {
    "execution": {
     "iopub.execute_input": "2024-02-14T16:31:01.952980Z",
     "iopub.status.busy": "2024-02-14T16:31:01.952830Z",
     "iopub.status.idle": "2024-02-14T16:31:02.072168Z",
     "shell.execute_reply": "2024-02-14T16:31:02.071746Z"
    },
    "slideshow": {
     "slide_type": "subslide"
    },
    "tags": [
     "raises-exception"
    ]
   },
   "outputs": [
    {
     "ename": "TypeError",
     "evalue": "unsupported operand type(s) for +: 'int' and 'str'",
     "output_type": "error",
     "traceback": [
      "\u001b[0;31m---------------------------------------------------------------------------\u001b[0m",
      "\u001b[0;31mTypeError\u001b[0m                                 Traceback (most recent call last)",
      "Cell \u001b[0;32mIn[7], line 1\u001b[0m\n\u001b[0;32m----> 1\u001b[0m mix_str_int \u001b[38;5;241m=\u001b[39m \u001b[43ma\u001b[49m\u001b[43m \u001b[49m\u001b[38;5;241;43m+\u001b[39;49m\u001b[43m \u001b[49m\u001b[38;5;124;43m\"\u001b[39;49m\u001b[38;5;124;43mfoo\u001b[39;49m\u001b[38;5;124;43m\"\u001b[39;49m\n",
      "\u001b[0;31mTypeError\u001b[0m: unsupported operand type(s) for +: 'int' and 'str'"
     ]
    }
   ],
   "source": [
    "mix_str_int = a + \"foo\""
   ]
  },
  {
   "cell_type": "markdown",
   "metadata": {
    "slideshow": {
     "slide_type": "subslide"
    }
   },
   "source": [
    "Maybe the following works?"
   ]
  },
  {
   "cell_type": "code",
   "execution_count": 8,
   "metadata": {
    "execution": {
     "iopub.execute_input": "2024-02-14T16:31:02.074090Z",
     "iopub.status.busy": "2024-02-14T16:31:02.073718Z",
     "iopub.status.idle": "2024-02-14T16:31:02.083019Z",
     "shell.execute_reply": "2024-02-14T16:31:02.082646Z"
    },
    "slideshow": {
     "slide_type": "subslide"
    },
    "tags": [
     "raises-exception"
    ]
   },
   "outputs": [
    {
     "ename": "TypeError",
     "evalue": "unsupported operand type(s) for +: 'int' and 'str'",
     "output_type": "error",
     "traceback": [
      "\u001b[0;31m---------------------------------------------------------------------------\u001b[0m",
      "\u001b[0;31mTypeError\u001b[0m                                 Traceback (most recent call last)",
      "Cell \u001b[0;32mIn[8], line 1\u001b[0m\n\u001b[0;32m----> 1\u001b[0m mix_str_int2 \u001b[38;5;241m=\u001b[39m \u001b[43ma\u001b[49m\u001b[43m \u001b[49m\u001b[38;5;241;43m+\u001b[39;49m\u001b[43m \u001b[49m\u001b[38;5;124;43m\"\u001b[39;49m\u001b[38;5;124;43m5\u001b[39;49m\u001b[38;5;124;43m\"\u001b[39;49m\n",
      "\u001b[0;31mTypeError\u001b[0m: unsupported operand type(s) for +: 'int' and 'str'"
     ]
    }
   ],
   "source": [
    "mix_str_int2 = a + \"5\""
   ]
  },
  {
   "cell_type": "markdown",
   "metadata": {
    "slideshow": {
     "slide_type": "subslide"
    }
   },
   "source": [
    "Python is strict on the types, but we can sometimes convert from one type to another, explicitly:"
   ]
  },
  {
   "cell_type": "code",
   "execution_count": 9,
   "metadata": {
    "execution": {
     "iopub.execute_input": "2024-02-14T16:31:02.084759Z",
     "iopub.status.busy": "2024-02-14T16:31:02.084458Z",
     "iopub.status.idle": "2024-02-14T16:31:02.087447Z",
     "shell.execute_reply": "2024-02-14T16:31:02.087057Z"
    },
    "slideshow": {
     "slide_type": "subslide"
    }
   },
   "outputs": [
    {
     "data": {
      "text/plain": [
       "6"
      ]
     },
     "execution_count": 9,
     "metadata": {},
     "output_type": "execute_result"
    }
   ],
   "source": [
    "a + int(\"5\")"
   ]
  },
  {
   "cell_type": "markdown",
   "metadata": {
    "slideshow": {
     "slide_type": "subslide"
    }
   },
   "source": [
    "...which works because `int(\"5\") -> 5`.\n",
    "\n",
    "There are though some implicit conversions in Python, let's look at the following:"
   ]
  },
  {
   "cell_type": "code",
   "execution_count": 10,
   "metadata": {
    "execution": {
     "iopub.execute_input": "2024-02-14T16:31:02.089212Z",
     "iopub.status.busy": "2024-02-14T16:31:02.088914Z",
     "iopub.status.idle": "2024-02-14T16:31:02.091528Z",
     "shell.execute_reply": "2024-02-14T16:31:02.091142Z"
    },
    "slideshow": {
     "slide_type": "subslide"
    }
   },
   "outputs": [
    {
     "name": "stdout",
     "output_type": "stream",
     "text": [
      "<class 'float'>\n"
     ]
    }
   ],
   "source": [
    "f = 1.2\n",
    "print(type(f))"
   ]
  },
  {
   "cell_type": "code",
   "execution_count": 11,
   "metadata": {
    "execution": {
     "iopub.execute_input": "2024-02-14T16:31:02.093315Z",
     "iopub.status.busy": "2024-02-14T16:31:02.093015Z",
     "iopub.status.idle": "2024-02-14T16:31:02.095492Z",
     "shell.execute_reply": "2024-02-14T16:31:02.095066Z"
    },
    "slideshow": {
     "slide_type": "subslide"
    }
   },
   "outputs": [
    {
     "name": "stdout",
     "output_type": "stream",
     "text": [
      "<class 'float'>\n"
     ]
    }
   ],
   "source": [
    "int_plus_float = a + f\n",
    "print(type(int_plus_float))"
   ]
  },
  {
   "cell_type": "markdown",
   "metadata": {
    "slideshow": {
     "slide_type": "subslide"
    }
   },
   "source": [
    "This is one of the few examples, where Python automatically converts the integer type to a float. The above addition _actually_ reads as"
   ]
  },
  {
   "cell_type": "code",
   "execution_count": 12,
   "metadata": {
    "execution": {
     "iopub.execute_input": "2024-02-14T16:31:02.097054Z",
     "iopub.status.busy": "2024-02-14T16:31:02.096913Z",
     "iopub.status.idle": "2024-02-14T16:31:02.099144Z",
     "shell.execute_reply": "2024-02-14T16:31:02.098769Z"
    },
    "slideshow": {
     "slide_type": "subslide"
    }
   },
   "outputs": [],
   "source": [
    "int_plus_float = float(a) + f"
   ]
  },
  {
   "cell_type": "markdown",
   "metadata": {
    "slideshow": {
     "slide_type": "subslide"
    }
   },
   "source": [
    "Similar with booleans as they are in principle 1 (`True`) and 0 (`False`)"
   ]
  },
  {
   "cell_type": "code",
   "execution_count": 13,
   "metadata": {
    "execution": {
     "iopub.execute_input": "2024-02-14T16:31:02.100675Z",
     "iopub.status.busy": "2024-02-14T16:31:02.100538Z",
     "iopub.status.idle": "2024-02-14T16:31:02.103343Z",
     "shell.execute_reply": "2024-02-14T16:31:02.102933Z"
    },
    "slideshow": {
     "slide_type": "subslide"
    }
   },
   "outputs": [
    {
     "data": {
      "text/plain": [
       "6"
      ]
     },
     "execution_count": 13,
     "metadata": {},
     "output_type": "execute_result"
    }
   ],
   "source": [
    "True + 5"
   ]
  },
  {
   "cell_type": "markdown",
   "metadata": {
    "slideshow": {
     "slide_type": "subslide"
    }
   },
   "source": [
    "For readability, it is usually better to write an explicit conversion."
   ]
  },
  {
   "cell_type": "markdown",
   "metadata": {
    "slideshow": {
     "slide_type": "slide"
    }
   },
   "source": [
    "## Container types\n",
    "\n",
    "Python has several container types as also found in other languages. The most important ones are:\n",
    " - list  (~array in other languages)\n",
    " - dict  (~hash table in other languages)\n",
    " \n",
    "They can contain other objects which can then be assigned and accessed via the `[]` operator _(we will have a closer look at operators later on)_\n",
    "\n",
    "A list stores elements by indices, which are integers, while a dict stores elements by a `key`, which can be \"any basic type\" (to be precise: by their \"hash\", it can be any immutable type).\n",
    "\n",
    "Let's look at examples!"
   ]
  },
  {
   "cell_type": "code",
   "execution_count": 14,
   "metadata": {
    "execution": {
     "iopub.execute_input": "2024-02-14T16:31:02.104905Z",
     "iopub.status.busy": "2024-02-14T16:31:02.104768Z",
     "iopub.status.idle": "2024-02-14T16:31:02.107381Z",
     "shell.execute_reply": "2024-02-14T16:31:02.107002Z"
    },
    "slideshow": {
     "slide_type": "subslide"
    }
   },
   "outputs": [
    {
     "name": "stdout",
     "output_type": "stream",
     "text": [
      "[1, 2, 3]\n"
     ]
    }
   ],
   "source": [
    "# creating a list\n",
    "list1 = [1, 2, 3]\n",
    "print(list1)"
   ]
  },
  {
   "cell_type": "markdown",
   "metadata": {
    "slideshow": {
     "slide_type": "subslide"
    }
   },
   "source": [
    "We can access these element by indices, starting from 0"
   ]
  },
  {
   "cell_type": "code",
   "execution_count": 15,
   "metadata": {
    "execution": {
     "iopub.execute_input": "2024-02-14T16:31:02.109222Z",
     "iopub.status.busy": "2024-02-14T16:31:02.108885Z",
     "iopub.status.idle": "2024-02-14T16:31:02.111798Z",
     "shell.execute_reply": "2024-02-14T16:31:02.111432Z"
    },
    "slideshow": {
     "slide_type": "subslide"
    }
   },
   "outputs": [
    {
     "data": {
      "text/plain": [
       "1"
      ]
     },
     "execution_count": 15,
     "metadata": {},
     "output_type": "execute_result"
    }
   ],
   "source": [
    "list1[0]"
   ]
  },
  {
   "cell_type": "markdown",
   "metadata": {
    "slideshow": {
     "slide_type": "subslide"
    }
   },
   "source": [
    "We can also assign a value to an place in the list"
   ]
  },
  {
   "cell_type": "code",
   "execution_count": 16,
   "metadata": {
    "execution": {
     "iopub.execute_input": "2024-02-14T16:31:02.113615Z",
     "iopub.status.busy": "2024-02-14T16:31:02.113282Z",
     "iopub.status.idle": "2024-02-14T16:31:02.115766Z",
     "shell.execute_reply": "2024-02-14T16:31:02.115339Z"
    },
    "slideshow": {
     "slide_type": "subslide"
    }
   },
   "outputs": [
    {
     "name": "stdout",
     "output_type": "stream",
     "text": [
      "[1, 42, 3]\n"
     ]
    }
   ],
   "source": [
    "list1[1] = 42\n",
    "print(list1)"
   ]
  },
  {
   "cell_type": "markdown",
   "metadata": {
    "slideshow": {
     "slide_type": "subslide"
    }
   },
   "source": [
    "and it can be extended with elements"
   ]
  },
  {
   "cell_type": "code",
   "execution_count": 17,
   "metadata": {
    "execution": {
     "iopub.execute_input": "2024-02-14T16:31:02.117509Z",
     "iopub.status.busy": "2024-02-14T16:31:02.117166Z",
     "iopub.status.idle": "2024-02-14T16:31:02.119887Z",
     "shell.execute_reply": "2024-02-14T16:31:02.119418Z"
    },
    "slideshow": {
     "slide_type": "subslide"
    }
   },
   "outputs": [
    {
     "name": "stdout",
     "output_type": "stream",
     "text": [
      "[1, 42, 3, -5]\n"
     ]
    }
   ],
   "source": [
    "list1.append(-5)\n",
    "print(list1)"
   ]
  },
  {
   "cell_type": "markdown",
   "metadata": {
    "slideshow": {
     "slide_type": "subslide"
    }
   },
   "source": [
    "Choosing a value that is not contained in the list raises an error. It is verbose, read and understand it.\n",
    "\n",
    "Being able to understand and interpret errors correctly is a key to becoming better in coding."
   ]
  },
  {
   "cell_type": "code",
   "execution_count": 18,
   "metadata": {
    "execution": {
     "iopub.execute_input": "2024-02-14T16:31:02.121498Z",
     "iopub.status.busy": "2024-02-14T16:31:02.121342Z",
     "iopub.status.idle": "2024-02-14T16:31:02.130216Z",
     "shell.execute_reply": "2024-02-14T16:31:02.129830Z"
    },
    "slideshow": {
     "slide_type": "subslide"
    },
    "tags": [
     "raises-exception"
    ]
   },
   "outputs": [
    {
     "ename": "IndexError",
     "evalue": "list index out of range",
     "output_type": "error",
     "traceback": [
      "\u001b[0;31m---------------------------------------------------------------------------\u001b[0m",
      "\u001b[0;31mIndexError\u001b[0m                                Traceback (most recent call last)",
      "Cell \u001b[0;32mIn[18], line 1\u001b[0m\n\u001b[0;32m----> 1\u001b[0m \u001b[43mlist1\u001b[49m\u001b[43m[\u001b[49m\u001b[38;5;241;43m14\u001b[39;49m\u001b[43m]\u001b[49m\n",
      "\u001b[0;31mIndexError\u001b[0m: list index out of range"
     ]
    }
   ],
   "source": [
    "list1[14]"
   ]
  },
  {
   "cell_type": "markdown",
   "metadata": {
    "slideshow": {
     "slide_type": "subslide"
    }
   },
   "source": [
    "We can play a similar game with dicts"
   ]
  },
  {
   "cell_type": "code",
   "execution_count": 19,
   "metadata": {
    "execution": {
     "iopub.execute_input": "2024-02-14T16:31:02.131755Z",
     "iopub.status.busy": "2024-02-14T16:31:02.131618Z",
     "iopub.status.idle": "2024-02-14T16:31:02.134216Z",
     "shell.execute_reply": "2024-02-14T16:31:02.133815Z"
    },
    "slideshow": {
     "slide_type": "subslide"
    }
   },
   "outputs": [
    {
     "name": "stdout",
     "output_type": "stream",
     "text": [
      "{'name': 'Jonas Eschle', 'age': 42, 5: True, 11: 'hi'}\n"
     ]
    }
   ],
   "source": [
    "person = {'name': \"Jonas Eschle\", 'age': 42, 5: True, 11: \"hi\"}  # we can use strings but also other elements\n",
    "print(person)"
   ]
  },
  {
   "cell_type": "code",
   "execution_count": 20,
   "metadata": {
    "execution": {
     "iopub.execute_input": "2024-02-14T16:31:02.135957Z",
     "iopub.status.busy": "2024-02-14T16:31:02.135682Z",
     "iopub.status.idle": "2024-02-14T16:31:02.138150Z",
     "shell.execute_reply": "2024-02-14T16:31:02.137697Z"
    },
    "slideshow": {
     "slide_type": "subslide"
    }
   },
   "outputs": [
    {
     "name": "stdout",
     "output_type": "stream",
     "text": [
      "Jonas Eschle\n",
      "True\n",
      "hi\n"
     ]
    }
   ],
   "source": [
    "print(person['name'])\n",
    "print(person[5])\n",
    "print(person[11])"
   ]
  },
  {
   "cell_type": "markdown",
   "metadata": {
    "slideshow": {
     "slide_type": "subslide"
    }
   },
   "source": [
    "We can also assign a new value to a key."
   ]
  },
  {
   "cell_type": "code",
   "execution_count": 21,
   "metadata": {
    "execution": {
     "iopub.execute_input": "2024-02-14T16:31:02.139938Z",
     "iopub.status.busy": "2024-02-14T16:31:02.139799Z",
     "iopub.status.idle": "2024-02-14T16:31:02.141911Z",
     "shell.execute_reply": "2024-02-14T16:31:02.141514Z"
    },
    "slideshow": {
     "slide_type": "subslide"
    }
   },
   "outputs": [],
   "source": [
    "person['age'] = '42.00001'"
   ]
  },
  {
   "cell_type": "markdown",
   "metadata": {
    "slideshow": {
     "slide_type": "subslide"
    }
   },
   "source": [
    "... or even extend it by assigning to a key that did not yet exists in the dict"
   ]
  },
  {
   "cell_type": "code",
   "execution_count": 22,
   "metadata": {
    "execution": {
     "iopub.execute_input": "2024-02-14T16:31:02.143692Z",
     "iopub.status.busy": "2024-02-14T16:31:02.143405Z",
     "iopub.status.idle": "2024-02-14T16:31:02.145879Z",
     "shell.execute_reply": "2024-02-14T16:31:02.145416Z"
    },
    "slideshow": {
     "slide_type": "subslide"
    }
   },
   "outputs": [
    {
     "name": "stdout",
     "output_type": "stream",
     "text": [
      "{'name': 'Jonas Eschle', 'age': '42.00001', 5: True, 11: 'hi', 'alias': 'Mayou36'}\n"
     ]
    }
   ],
   "source": [
    "person['alias'] = \"Mayou36\"\n",
    "print(person)"
   ]
  },
  {
   "cell_type": "markdown",
   "metadata": {
    "slideshow": {
     "slide_type": "subslide"
    }
   },
   "source": [
    "As we see this works. Notice, that the dict has changed, same as the list before.\n",
    "\n",
    "Again, selecting a key that is not contained in the dict raises an error."
   ]
  },
  {
   "cell_type": "code",
   "execution_count": 23,
   "metadata": {
    "execution": {
     "iopub.execute_input": "2024-02-14T16:31:02.147427Z",
     "iopub.status.busy": "2024-02-14T16:31:02.147290Z",
     "iopub.status.idle": "2024-02-14T16:31:02.156147Z",
     "shell.execute_reply": "2024-02-14T16:31:02.155758Z"
    },
    "slideshow": {
     "slide_type": "subslide"
    },
    "tags": [
     "raises-exception"
    ]
   },
   "outputs": [
    {
     "ename": "KeyError",
     "evalue": "'nationality'",
     "output_type": "error",
     "traceback": [
      "\u001b[0;31m---------------------------------------------------------------------------\u001b[0m",
      "\u001b[0;31mKeyError\u001b[0m                                  Traceback (most recent call last)",
      "Cell \u001b[0;32mIn[23], line 1\u001b[0m\n\u001b[0;32m----> 1\u001b[0m \u001b[43mperson\u001b[49m\u001b[43m[\u001b[49m\u001b[38;5;124;43m'\u001b[39;49m\u001b[38;5;124;43mnationality\u001b[39;49m\u001b[38;5;124;43m'\u001b[39;49m\u001b[43m]\u001b[49m\n",
      "\u001b[0;31mKeyError\u001b[0m: 'nationality'"
     ]
    }
   ],
   "source": [
    "person['nationality']"
   ]
  },
  {
   "cell_type": "markdown",
   "metadata": {
    "slideshow": {
     "slide_type": "subslide"
    }
   },
   "source": [
    "As any object in Python, there are many useful methods on `list` and `dict` that help you accomplish things. For example, what if we want to retrieve a value from a dict _only_ if the key is there and otherwise return a default value? We can use `get`:"
   ]
  },
  {
   "cell_type": "code",
   "execution_count": 24,
   "metadata": {
    "execution": {
     "iopub.execute_input": "2024-02-14T16:31:02.157716Z",
     "iopub.status.busy": "2024-02-14T16:31:02.157558Z",
     "iopub.status.idle": "2024-02-14T16:31:02.160242Z",
     "shell.execute_reply": "2024-02-14T16:31:02.159820Z"
    },
    "slideshow": {
     "slide_type": "subslide"
    }
   },
   "outputs": [
    {
     "name": "stdout",
     "output_type": "stream",
     "text": [
      "unknown color\n"
     ]
    }
   ],
   "source": [
    "hair_color = person.get('hair_color', 'unknown color')  # the second argument gets returned if key is not in dict\n",
    "print(hair_color)"
   ]
  },
  {
   "cell_type": "markdown",
   "metadata": {
    "slideshow": {
     "slide_type": "slide"
    }
   },
   "source": [
    "## Mutability\n",
    "\n",
    "Python has a fundamental distinction between mutable and immutable types.\n",
    "\n",
    "Mutable means, an object can be changed\n",
    "Immutable means, an object can not be changed\n",
    "\n",
    "As an example, `5` can not change; in general the basic types we looked at cannot change. We can change the value that is assigned to a variable, but the object `5` remains the same. The list and dicts we have seen above on the other hand are mutable, they have changed over the course of execution.\n",
    "\n",
    "Every mutable object has an immutable counterpart (but not vice-versa):\n",
    " - list -> tuple\n",
    " - dict -> frozendict\n",
    " - set -> frozenset\n",
    " - etc."
   ]
  },
  {
   "cell_type": "code",
   "execution_count": 25,
   "metadata": {
    "execution": {
     "iopub.execute_input": "2024-02-14T16:31:02.161799Z",
     "iopub.status.busy": "2024-02-14T16:31:02.161626Z",
     "iopub.status.idle": "2024-02-14T16:31:02.164014Z",
     "shell.execute_reply": "2024-02-14T16:31:02.163626Z"
    },
    "slideshow": {
     "slide_type": "subslide"
    }
   },
   "outputs": [],
   "source": [
    "# creating a tuple\n",
    "tuple1 = (1, 3, 5)\n",
    "# or from a list\n",
    "tuple_from_list = tuple(list1)"
   ]
  },
  {
   "cell_type": "code",
   "execution_count": 26,
   "metadata": {
    "execution": {
     "iopub.execute_input": "2024-02-14T16:31:02.165531Z",
     "iopub.status.busy": "2024-02-14T16:31:02.165381Z",
     "iopub.status.idle": "2024-02-14T16:31:02.167629Z",
     "shell.execute_reply": "2024-02-14T16:31:02.167268Z"
    }
   },
   "outputs": [],
   "source": [
    "list2 = [4, 5]\n",
    "tuple2 = (3, 4)\n",
    "list3 = list(tuple2)"
   ]
  },
  {
   "cell_type": "code",
   "execution_count": null,
   "metadata": {},
   "outputs": [],
   "source": []
  },
  {
   "cell_type": "markdown",
   "metadata": {
    "slideshow": {
     "slide_type": "subslide"
    }
   },
   "source": [
    "While we can access the elements as we can for a list, we can neither _assign_ nor _append_ (or in generate _mutate_ the object:"
   ]
  },
  {
   "cell_type": "code",
   "execution_count": 27,
   "metadata": {
    "execution": {
     "iopub.execute_input": "2024-02-14T16:31:02.169282Z",
     "iopub.status.busy": "2024-02-14T16:31:02.169130Z",
     "iopub.status.idle": "2024-02-14T16:31:02.171609Z",
     "shell.execute_reply": "2024-02-14T16:31:02.171187Z"
    },
    "slideshow": {
     "slide_type": "subslide"
    }
   },
   "outputs": [
    {
     "name": "stdout",
     "output_type": "stream",
     "text": [
      "3\n"
     ]
    }
   ],
   "source": [
    "print(tuple1[1])  # access works!"
   ]
  },
  {
   "cell_type": "code",
   "execution_count": 28,
   "metadata": {
    "execution": {
     "iopub.execute_input": "2024-02-14T16:31:02.173181Z",
     "iopub.status.busy": "2024-02-14T16:31:02.173031Z",
     "iopub.status.idle": "2024-02-14T16:31:02.181716Z",
     "shell.execute_reply": "2024-02-14T16:31:02.181337Z"
    },
    "slideshow": {
     "slide_type": "subslide"
    },
    "tags": [
     "raises-exception"
    ]
   },
   "outputs": [
    {
     "ename": "TypeError",
     "evalue": "'tuple' object does not support item assignment",
     "output_type": "error",
     "traceback": [
      "\u001b[0;31m---------------------------------------------------------------------------\u001b[0m",
      "\u001b[0;31mTypeError\u001b[0m                                 Traceback (most recent call last)",
      "Cell \u001b[0;32mIn[28], line 1\u001b[0m\n\u001b[0;32m----> 1\u001b[0m \u001b[43mtuple1\u001b[49m\u001b[43m[\u001b[49m\u001b[38;5;241;43m0\u001b[39;49m\u001b[43m]\u001b[49m \u001b[38;5;241m=\u001b[39m \u001b[38;5;241m5\u001b[39m\n",
      "\u001b[0;31mTypeError\u001b[0m: 'tuple' object does not support item assignment"
     ]
    }
   ],
   "source": [
    "tuple1[0] = 5"
   ]
  },
  {
   "cell_type": "markdown",
   "metadata": {
    "slideshow": {
     "slide_type": "subslide"
    }
   },
   "source": [
    "We will soon see the effects and needs for this..."
   ]
  },
  {
   "cell_type": "markdown",
   "metadata": {
    "slideshow": {
     "slide_type": "slide"
    }
   },
   "source": [
    "## dynamic typing\n",
    "\n",
    "Python is dynamically typed (as opposed to statically typed). This means that a variable, which once was an int, such as `a`, can be assigned a value of another type."
   ]
  },
  {
   "cell_type": "code",
   "execution_count": 29,
   "metadata": {
    "execution": {
     "iopub.execute_input": "2024-02-14T16:31:02.183500Z",
     "iopub.status.busy": "2024-02-14T16:31:02.183126Z",
     "iopub.status.idle": "2024-02-14T16:31:02.185352Z",
     "shell.execute_reply": "2024-02-14T16:31:02.184976Z"
    },
    "slideshow": {
     "slide_type": "subslide"
    }
   },
   "outputs": [],
   "source": [
    "a = 1"
   ]
  },
  {
   "cell_type": "code",
   "execution_count": 30,
   "metadata": {
    "execution": {
     "iopub.execute_input": "2024-02-14T16:31:02.186933Z",
     "iopub.status.busy": "2024-02-14T16:31:02.186785Z",
     "iopub.status.idle": "2024-02-14T16:31:02.188848Z",
     "shell.execute_reply": "2024-02-14T16:31:02.188489Z"
    },
    "slideshow": {
     "slide_type": "subslide"
    }
   },
   "outputs": [],
   "source": [
    "a = \"one\""
   ]
  },
  {
   "cell_type": "code",
   "execution_count": 31,
   "metadata": {
    "execution": {
     "iopub.execute_input": "2024-02-14T16:31:02.190458Z",
     "iopub.status.busy": "2024-02-14T16:31:02.190307Z",
     "iopub.status.idle": "2024-02-14T16:31:02.192558Z",
     "shell.execute_reply": "2024-02-14T16:31:02.192178Z"
    },
    "slideshow": {
     "slide_type": "subslide"
    }
   },
   "outputs": [],
   "source": [
    "a = list1"
   ]
  },
  {
   "cell_type": "markdown",
   "metadata": {
    "slideshow": {
     "slide_type": "subslide"
    }
   },
   "source": [
    "... and so on"
   ]
  },
  {
   "cell_type": "markdown",
   "metadata": {
    "slideshow": {
     "slide_type": "slide"
    }
   },
   "source": [
    "# Assignement and variables\n",
    "\n",
    "We've seen a few things up to now but have not really looked at the assignement and variables itself. Understanding Pythons variable is crucial to understand e.g. the following:"
   ]
  },
  {
   "cell_type": "code",
   "execution_count": 32,
   "metadata": {
    "execution": {
     "iopub.execute_input": "2024-02-14T16:31:02.194300Z",
     "iopub.status.busy": "2024-02-14T16:31:02.193949Z",
     "iopub.status.idle": "2024-02-14T16:31:02.196576Z",
     "shell.execute_reply": "2024-02-14T16:31:02.196115Z"
    },
    "slideshow": {
     "slide_type": "subslide"
    }
   },
   "outputs": [
    {
     "name": "stdout",
     "output_type": "stream",
     "text": [
      "5 5\n"
     ]
    }
   ],
   "source": [
    "a = 5\n",
    "b = a\n",
    "print(a, b)"
   ]
  },
  {
   "cell_type": "code",
   "execution_count": 33,
   "metadata": {
    "execution": {
     "iopub.execute_input": "2024-02-14T16:31:02.198161Z",
     "iopub.status.busy": "2024-02-14T16:31:02.198018Z",
     "iopub.status.idle": "2024-02-14T16:31:02.200609Z",
     "shell.execute_reply": "2024-02-14T16:31:02.200135Z"
    },
    "slideshow": {
     "slide_type": "subslide"
    }
   },
   "outputs": [
    {
     "name": "stdout",
     "output_type": "stream",
     "text": [
      "3 5\n"
     ]
    }
   ],
   "source": [
    "a = 3\n",
    "print(a, b)"
   ]
  },
  {
   "cell_type": "markdown",
   "metadata": {
    "slideshow": {
     "slide_type": "subslide"
    }
   },
   "source": [
    "So far so good, no surprize here."
   ]
  },
  {
   "cell_type": "code",
   "execution_count": 34,
   "metadata": {
    "execution": {
     "iopub.execute_input": "2024-02-14T16:31:02.202406Z",
     "iopub.status.busy": "2024-02-14T16:31:02.202167Z",
     "iopub.status.idle": "2024-02-14T16:31:02.204901Z",
     "shell.execute_reply": "2024-02-14T16:31:02.204495Z"
    },
    "slideshow": {
     "slide_type": "subslide"
    }
   },
   "outputs": [
    {
     "name": "stdout",
     "output_type": "stream",
     "text": [
      "[1, 3] [1, 3]\n"
     ]
    }
   ],
   "source": [
    "list1 = [1, 3]\n",
    "list2 = list1\n",
    "print(list1, list2)"
   ]
  },
  {
   "cell_type": "code",
   "execution_count": 35,
   "metadata": {
    "execution": {
     "iopub.execute_input": "2024-02-14T16:31:02.206556Z",
     "iopub.status.busy": "2024-02-14T16:31:02.206415Z",
     "iopub.status.idle": "2024-02-14T16:31:02.208896Z",
     "shell.execute_reply": "2024-02-14T16:31:02.208460Z"
    },
    "slideshow": {
     "slide_type": "subslide"
    }
   },
   "outputs": [
    {
     "name": "stdout",
     "output_type": "stream",
     "text": [
      "[99, 3] [99, 3]\n"
     ]
    }
   ],
   "source": [
    "list2[0] = 99\n",
    "print(list1, list2)"
   ]
  },
  {
   "cell_type": "markdown",
   "metadata": {
    "slideshow": {
     "slide_type": "subslide"
    }
   },
   "source": [
    "...but that was probably unexpected! Let's have a look at Pythons variable assignement."
   ]
  },
  {
   "cell_type": "markdown",
   "metadata": {
    "slideshow": {
     "slide_type": "slide"
    }
   },
   "source": [
    "## Python variable assignement\n",
    "\n",
    "Assigning something to a variable in Python makes a name point to an actual object, so the name is only a reference. For example creating the variable `a` and assigning it the object `5` looks like this:\n",
    "![assignements1](figs/python_references1.jpg)"
   ]
  },
  {
   "cell_type": "code",
   "execution_count": 36,
   "metadata": {
    "execution": {
     "iopub.execute_input": "2024-02-14T16:31:02.210799Z",
     "iopub.status.busy": "2024-02-14T16:31:02.210427Z",
     "iopub.status.idle": "2024-02-14T16:31:02.212688Z",
     "shell.execute_reply": "2024-02-14T16:31:02.212312Z"
    },
    "slideshow": {
     "slide_type": "subslide"
    }
   },
   "outputs": [],
   "source": [
    "a = 3\n",
    "list_a = [1, 2]"
   ]
  },
  {
   "cell_type": "markdown",
   "metadata": {
    "slideshow": {
     "slide_type": "subslide"
    }
   },
   "source": [
    "![reference2](figs/python_references2.jpg)"
   ]
  },
  {
   "cell_type": "code",
   "execution_count": 37,
   "metadata": {
    "execution": {
     "iopub.execute_input": "2024-02-14T16:31:02.214409Z",
     "iopub.status.busy": "2024-02-14T16:31:02.214117Z",
     "iopub.status.idle": "2024-02-14T16:31:02.216380Z",
     "shell.execute_reply": "2024-02-14T16:31:02.215893Z"
    },
    "slideshow": {
     "slide_type": "subslide"
    }
   },
   "outputs": [],
   "source": [
    "b = a  # this assigns the reference of a to b\n",
    "list_b = list_a"
   ]
  },
  {
   "cell_type": "markdown",
   "metadata": {
    "slideshow": {
     "slide_type": "subslide"
    }
   },
   "source": [
    "Both objects, `b` and `list_b` point now to the same objects in memory as `a` and `list_a` respectively. Re-assigning a variable let's it point to a different object\n",
    "![reference3](figs/python_references3.jpg)"
   ]
  },
  {
   "cell_type": "code",
   "execution_count": 38,
   "metadata": {
    "execution": {
     "iopub.execute_input": "2024-02-14T16:31:02.218021Z",
     "iopub.status.busy": "2024-02-14T16:31:02.217873Z",
     "iopub.status.idle": "2024-02-14T16:31:02.220681Z",
     "shell.execute_reply": "2024-02-14T16:31:02.220291Z"
    },
    "slideshow": {
     "slide_type": "subslide"
    }
   },
   "outputs": [
    {
     "name": "stdout",
     "output_type": "stream",
     "text": [
      "spam 3\n",
      "[1, 5, 2, 'world', 1] [1, 2]\n"
     ]
    }
   ],
   "source": [
    "a = 'spam'\n",
    "list_a = [1, 5, 2, 'world', 1]\n",
    "print(a, b)\n",
    "print(list_a, list_b)"
   ]
  },
  {
   "cell_type": "markdown",
   "metadata": {
    "slideshow": {
     "slide_type": "subslide"
    }
   },
   "source": [
    "Let's make them point to the same object again:"
   ]
  },
  {
   "cell_type": "code",
   "execution_count": 39,
   "metadata": {
    "execution": {
     "iopub.execute_input": "2024-02-14T16:31:02.222253Z",
     "iopub.status.busy": "2024-02-14T16:31:02.222115Z",
     "iopub.status.idle": "2024-02-14T16:31:02.224810Z",
     "shell.execute_reply": "2024-02-14T16:31:02.224422Z"
    },
    "slideshow": {
     "slide_type": "subslide"
    }
   },
   "outputs": [
    {
     "name": "stdout",
     "output_type": "stream",
     "text": [
      "spam spam\n",
      "[1, 5, 2, 'world', 1] [1, 5, 2, 'world', 1]\n"
     ]
    }
   ],
   "source": [
    "b = a\n",
    "list_b = list_a\n",
    "print(a, b)\n",
    "print(list_a, list_b)"
   ]
  },
  {
   "cell_type": "code",
   "execution_count": 40,
   "metadata": {
    "execution": {
     "iopub.execute_input": "2024-02-14T16:31:02.226617Z",
     "iopub.status.busy": "2024-02-14T16:31:02.226247Z",
     "iopub.status.idle": "2024-02-14T16:31:02.228889Z",
     "shell.execute_reply": "2024-02-14T16:31:02.228486Z"
    },
    "slideshow": {
     "slide_type": "subslide"
    }
   },
   "outputs": [
    {
     "name": "stdout",
     "output_type": "stream",
     "text": [
      "[1, 'hello', 2, 'world', 1] [1, 'hello', 2, 'world', 1]\n"
     ]
    }
   ],
   "source": [
    "list_a[1] = 'hello'\n",
    "print(list_a, list_b)"
   ]
  },
  {
   "cell_type": "markdown",
   "metadata": {
    "slideshow": {
     "slide_type": "subslide"
    }
   },
   "source": [
    "Now we understand what happend: the object that both variables are pointing to simply changed. This is impossible with immutable objects (such as `3`), since they are immutable.\n",
    "\n",
    "Mutable objects usually offer the ability to create a copy."
   ]
  },
  {
   "cell_type": "code",
   "execution_count": 41,
   "metadata": {
    "execution": {
     "iopub.execute_input": "2024-02-14T16:31:02.230648Z",
     "iopub.status.busy": "2024-02-14T16:31:02.230363Z",
     "iopub.status.idle": "2024-02-14T16:31:02.232691Z",
     "shell.execute_reply": "2024-02-14T16:31:02.232221Z"
    },
    "slideshow": {
     "slide_type": "subslide"
    }
   },
   "outputs": [],
   "source": [
    "list_c = list_a.copy()  # now there are two identical lists in the memory"
   ]
  },
  {
   "cell_type": "code",
   "execution_count": 42,
   "metadata": {
    "execution": {
     "iopub.execute_input": "2024-02-14T16:31:02.234303Z",
     "iopub.status.busy": "2024-02-14T16:31:02.234161Z",
     "iopub.status.idle": "2024-02-14T16:31:02.236738Z",
     "shell.execute_reply": "2024-02-14T16:31:02.236298Z"
    },
    "slideshow": {
     "slide_type": "subslide"
    }
   },
   "outputs": [
    {
     "name": "stdout",
     "output_type": "stream",
     "text": [
      "[1, 'hello', 'my', 'world', 1]\n",
      "[1, 'hello', 'my', 'world', 1]\n",
      "[1, 'hello', 2, 'world', 1]\n"
     ]
    }
   ],
   "source": [
    "list_a[2] = 'my'\n",
    "print(list_a)\n",
    "print(list_b)\n",
    "print(list_c)"
   ]
  },
  {
   "cell_type": "markdown",
   "metadata": {
    "slideshow": {
     "slide_type": "subslide"
    }
   },
   "source": [
    "`list_a` and `list_b`, pointing to the same object that was mutated, have changed, while `list_c`, pointing to a different object, remained the same.\n",
    "\n",
    "Let's have a look at two operators: the \"trivial\" `==` and the `is`:\n",
    "we know `==` pretty well, it tells whether the left and the right side are the same. More specific, it tells whether both sides have/represent the same _value_, not whether they are in fact the same object!\n",
    "The operator `is` tells us, whether two objects _are_ the same object (compare our assignement model above!)."
   ]
  },
  {
   "cell_type": "code",
   "execution_count": 43,
   "metadata": {
    "execution": {
     "iopub.execute_input": "2024-02-14T16:31:02.238350Z",
     "iopub.status.busy": "2024-02-14T16:31:02.238212Z",
     "iopub.status.idle": "2024-02-14T16:31:02.240819Z",
     "shell.execute_reply": "2024-02-14T16:31:02.240437Z"
    },
    "slideshow": {
     "slide_type": "subslide"
    }
   },
   "outputs": [
    {
     "name": "stdout",
     "output_type": "stream",
     "text": [
      "False\n",
      "True\n"
     ]
    }
   ],
   "source": [
    "print(list_a == list_c)  # not the same\n",
    "print(list_a == list_b)  # the same"
   ]
  },
  {
   "cell_type": "code",
   "execution_count": 44,
   "metadata": {
    "execution": {
     "iopub.execute_input": "2024-02-14T16:31:02.242393Z",
     "iopub.status.busy": "2024-02-14T16:31:02.242255Z",
     "iopub.status.idle": "2024-02-14T16:31:02.244841Z",
     "shell.execute_reply": "2024-02-14T16:31:02.244456Z"
    },
    "slideshow": {
     "slide_type": "subslide"
    }
   },
   "outputs": [
    {
     "name": "stdout",
     "output_type": "stream",
     "text": [
      "True\n"
     ]
    }
   ],
   "source": [
    "list_c[2] = 'my'  # make it the same as the other lists\n",
    "print(list_a == list_c)"
   ]
  },
  {
   "cell_type": "markdown",
   "metadata": {
    "slideshow": {
     "slide_type": "subslide"
    }
   },
   "source": [
    "But, as we learned before, they are _not the same objects_!"
   ]
  },
  {
   "cell_type": "code",
   "execution_count": 45,
   "metadata": {
    "execution": {
     "iopub.execute_input": "2024-02-14T16:31:02.246344Z",
     "iopub.status.busy": "2024-02-14T16:31:02.246206Z",
     "iopub.status.idle": "2024-02-14T16:31:02.248580Z",
     "shell.execute_reply": "2024-02-14T16:31:02.248133Z"
    },
    "slideshow": {
     "slide_type": "subslide"
    }
   },
   "outputs": [
    {
     "name": "stdout",
     "output_type": "stream",
     "text": [
      "False\n",
      "True\n"
     ]
    }
   ],
   "source": [
    "print(list_a is list_c)  # nope!\n",
    "print(list_a is list_b)  # yes!"
   ]
  },
  {
   "cell_type": "markdown",
   "metadata": {
    "slideshow": {
     "slide_type": "subslide"
    }
   },
   "source": [
    "Normally, we are only interested to compare the values, using `==`."
   ]
  },
  {
   "cell_type": "markdown",
   "metadata": {
    "slideshow": {
     "slide_type": "slide"
    }
   },
   "source": [
    "## Sugar: comprehensions\n",
    "\n",
    "(taken from advanced Python lecture)"
   ]
  },
  {
   "cell_type": "markdown",
   "metadata": {
    "slideshow": {
     "slide_type": "subslide"
    }
   },
   "source": [
    "**List comprehensions**"
   ]
  },
  {
   "cell_type": "code",
   "execution_count": 46,
   "metadata": {
    "execution": {
     "iopub.execute_input": "2024-02-14T16:31:02.250418Z",
     "iopub.status.busy": "2024-02-14T16:31:02.250123Z",
     "iopub.status.idle": "2024-02-14T16:31:02.253019Z",
     "shell.execute_reply": "2024-02-14T16:31:02.252634Z"
    },
    "slideshow": {
     "slide_type": "subslide"
    }
   },
   "outputs": [
    {
     "name": "stdout",
     "output_type": "stream",
     "text": [
      "Sum of squares for 10 is 285\n"
     ]
    }
   ],
   "source": [
    "N = 10\n",
    "\n",
    "list_of_squares = [i**2 for i in range(N)]\n",
    "sum_of_squares = sum(list_of_squares)\n",
    "\n",
    "print('Sum of squares for', N, 'is', sum_of_squares)"
   ]
  },
  {
   "cell_type": "code",
   "execution_count": 47,
   "metadata": {
    "execution": {
     "iopub.execute_input": "2024-02-14T16:31:02.254705Z",
     "iopub.status.busy": "2024-02-14T16:31:02.254412Z",
     "iopub.status.idle": "2024-02-14T16:31:02.257646Z",
     "shell.execute_reply": "2024-02-14T16:31:02.257187Z"
    }
   },
   "outputs": [
    {
     "data": {
      "text/plain": [
       "[1, 3, 5, 7, 9]"
      ]
     },
     "execution_count": 47,
     "metadata": {},
     "output_type": "execute_result"
    }
   ],
   "source": [
    "# [obj_to_return if ... else ... for i in ... for j in ... if ...]\n",
    "[i for i in range(10) if i % 2]"
   ]
  },
  {
   "cell_type": "code",
   "execution_count": 48,
   "metadata": {
    "execution": {
     "iopub.execute_input": "2024-02-14T16:31:02.259441Z",
     "iopub.status.busy": "2024-02-14T16:31:02.259101Z",
     "iopub.status.idle": "2024-02-14T16:31:02.262100Z",
     "shell.execute_reply": "2024-02-14T16:31:02.261611Z"
    }
   },
   "outputs": [
    {
     "data": {
      "text/plain": [
       "'spam'"
      ]
     },
     "execution_count": 48,
     "metadata": {},
     "output_type": "execute_result"
    }
   ],
   "source": [
    "a"
   ]
  },
  {
   "cell_type": "markdown",
   "metadata": {
    "slideshow": {
     "slide_type": "subslide"
    }
   },
   "source": [
    "**Dictionary comprehensions**"
   ]
  },
  {
   "cell_type": "code",
   "execution_count": 49,
   "metadata": {
    "execution": {
     "iopub.execute_input": "2024-02-14T16:31:02.263872Z",
     "iopub.status.busy": "2024-02-14T16:31:02.263493Z",
     "iopub.status.idle": "2024-02-14T16:31:02.266478Z",
     "shell.execute_reply": "2024-02-14T16:31:02.265986Z"
    },
    "slideshow": {
     "slide_type": "subslide"
    }
   },
   "outputs": [
    {
     "name": "stdout",
     "output_type": "stream",
     "text": [
      "{0: 0, 1: 1, 2: 4, 3: 9, 4: 16, 5: 25, 6: 36, 7: 49, 8: 64, 9: 81}\n"
     ]
    }
   ],
   "source": [
    "squares = {i: i**2 for i in range(10)}\n",
    "print(squares)"
   ]
  },
  {
   "cell_type": "code",
   "execution_count": 50,
   "metadata": {
    "execution": {
     "iopub.execute_input": "2024-02-14T16:31:02.268398Z",
     "iopub.status.busy": "2024-02-14T16:31:02.267999Z",
     "iopub.status.idle": "2024-02-14T16:31:02.270655Z",
     "shell.execute_reply": "2024-02-14T16:31:02.270283Z"
    },
    "slideshow": {
     "slide_type": "subslide"
    }
   },
   "outputs": [
    {
     "name": "stdout",
     "output_type": "stream",
     "text": [
      "The square of 5 is 25\n"
     ]
    }
   ],
   "source": [
    "N = 5\n",
    "print('The square of', N, 'is', squares[N])"
   ]
  },
  {
   "cell_type": "markdown",
   "metadata": {
    "slideshow": {
     "slide_type": "slide"
    }
   },
   "source": [
    "## Sugar: using Markdown"
   ]
  },
  {
   "cell_type": "markdown",
   "metadata": {
    "slideshow": {
     "slide_type": "subslide"
    }
   },
   "source": [
    "Write comments inline about your code:\n",
    "\n",
    "Use LaTeX:\n",
    "\n",
    "$A = \\frac{1}{B+C}$\n",
    "\n",
    "Show lists:\n",
    "\n",
    "* A wonderful\n",
    "* List\n",
    "* This is\n",
    "\n",
    "Show code with syntax highlighting:\n",
    "\n",
    "**Python:** (but in a sad grey world)\n",
    "\n",
    "```\n",
    "print('Hello world')\n",
    "```\n",
    "\n",
    "**Python:**\n",
    "\n",
    "```python\n",
    "print('Hello world')\n",
    "```\n",
    "\n",
    "**C++:**\n",
    "\n",
    "```cpp\n",
    "#include <iostream>\n",
    "\n",
    "std::cout << \"Hello world\" << std::endl;\n",
    "```\n",
    "\n",
    "**Bash:**\n",
    "\n",
    "```bash\n",
    "echo \"Hello world\"\n",
    "```"
   ]
  },
  {
   "cell_type": "markdown",
   "metadata": {
    "slideshow": {
     "slide_type": "subslide"
    }
   },
   "source": [
    "**f-strings**"
   ]
  },
  {
   "cell_type": "code",
   "execution_count": 51,
   "metadata": {
    "execution": {
     "iopub.execute_input": "2024-02-14T16:31:02.272389Z",
     "iopub.status.busy": "2024-02-14T16:31:02.272093Z",
     "iopub.status.idle": "2024-02-14T16:31:02.274907Z",
     "shell.execute_reply": "2024-02-14T16:31:02.274468Z"
    },
    "slideshow": {
     "slide_type": "subslide"
    }
   },
   "outputs": [
    {
     "name": "stdout",
     "output_type": "stream",
     "text": [
      "(PT > 1789.23) & (2 < ETA < 5)\n"
     ]
    }
   ],
   "source": [
    "pt_cut = 1789.234567890987654\n",
    "eta_low = 2\n",
    "eta_high = 5\n",
    "\n",
    "cut_string = f'(PT > {pt_cut:.2f}) & ({eta_low} < ETA < {eta_high})'\n",
    "print(cut_string)"
   ]
  }
 ],
 "metadata": {
  "celltoolbar": "Tags",
  "kernelspec": {
   "display_name": "Python 3",
   "language": "python",
   "name": "python3"
  },
  "language_info": {
   "codemirror_mode": {
    "name": "ipython",
    "version": 3
   },
   "file_extension": ".py",
   "mimetype": "text/x-python",
   "name": "python",
   "nbconvert_exporter": "python",
   "pygments_lexer": "ipython3",
   "version": "3.11.7"
  },
  "nbsphinx": {
   "execute": "auto"
  }
 },
 "nbformat": 4,
 "nbformat_minor": 4
}
