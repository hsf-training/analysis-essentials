{
 "cells": [
  {
   "cell_type": "markdown",
   "metadata": {
    "editable": true,
    "slideshow": {
     "slide_type": ""
    },
    "tags": []
   },
   "source": [
    "# Strings\n",
    "\n",
    "Number objects are useful for storing values which are, well, numbers. But what \n",
    "if we want to store a sentence? Enter _strings_!"
   ]
  },
  {
   "cell_type": "code",
   "execution_count": 1,
   "metadata": {
    "editable": true,
    "execution": {
     "iopub.execute_input": "2025-02-10T16:39:15.113148Z",
     "iopub.status.busy": "2025-02-10T16:39:15.112967Z",
     "iopub.status.idle": "2025-02-10T16:39:15.117854Z",
     "shell.execute_reply": "2025-02-10T16:39:15.117486Z"
    },
    "slideshow": {
     "slide_type": ""
    },
    "tags": []
   },
   "outputs": [],
   "source": [
    "a = \"What's orange and sounds like a parrot?\""
   ]
  },
  {
   "cell_type": "markdown",
   "metadata": {
    "editable": true,
    "slideshow": {
     "slide_type": ""
    },
    "tags": []
   },
   "source": [
    "Strings can be joined with `+`."
   ]
  },
  {
   "cell_type": "code",
   "execution_count": 2,
   "metadata": {
    "editable": true,
    "execution": {
     "iopub.execute_input": "2025-02-10T16:39:15.119524Z",
     "iopub.status.busy": "2025-02-10T16:39:15.119381Z",
     "iopub.status.idle": "2025-02-10T16:39:15.124239Z",
     "shell.execute_reply": "2025-02-10T16:39:15.123834Z"
    },
    "slideshow": {
     "slide_type": ""
    },
    "tags": []
   },
   "outputs": [
    {
     "data": {
      "text/plain": [
       "\"What's orange and sounds like a parrot? A carrot\""
      ]
     },
     "execution_count": 2,
     "metadata": {},
     "output_type": "execute_result"
    }
   ],
   "source": [
    "b = 'A carrot'\n",
    "a + ' ' + b"
   ]
  },
  {
   "cell_type": "markdown",
   "metadata": {
    "editable": true,
    "slideshow": {
     "slide_type": ""
    },
    "tags": []
   },
   "source": [
    "And they can be multiplied by numbers, amazingly."
   ]
  },
  {
   "cell_type": "code",
   "execution_count": 3,
   "metadata": {
    "editable": true,
    "execution": {
     "iopub.execute_input": "2025-02-10T16:39:15.125851Z",
     "iopub.status.busy": "2025-02-10T16:39:15.125712Z",
     "iopub.status.idle": "2025-02-10T16:39:15.128766Z",
     "shell.execute_reply": "2025-02-10T16:39:15.128362Z"
    },
    "slideshow": {
     "slide_type": ""
    },
    "tags": []
   },
   "outputs": [
    {
     "data": {
      "text/plain": [
       "'omgomgomgomgomgomgomgomgomgomg'"
      ]
     },
     "execution_count": 3,
     "metadata": {},
     "output_type": "execute_result"
    }
   ],
   "source": [
    "c = 'omg'\n",
    "10 * c"
   ]
  },
  {
   "cell_type": "markdown",
   "metadata": {
    "editable": true,
    "slideshow": {
     "slide_type": ""
    },
    "tags": []
   },
   "source": [
    "We’ve specified strings _literally_, _in_ the source code, by wrapping the text \n",
    "with singles quotes or double quotes. There’s no difference; most people choose \n",
    "one and stick with it.\n",
    "\n",
    "It can be useful to change if your text contains the quote character. If it \n",
    "contains both, you can _escape_ the quote mark by preceding it with a \n",
    "backslash. This tells Python that the quote is part of the string you want, and \n",
    "not the ending quote."
   ]
  },
  {
   "cell_type": "code",
   "execution_count": 4,
   "metadata": {
    "editable": true,
    "execution": {
     "iopub.execute_input": "2025-02-10T16:39:15.130415Z",
     "iopub.status.busy": "2025-02-10T16:39:15.130275Z",
     "iopub.status.idle": "2025-02-10T16:39:15.133272Z",
     "shell.execute_reply": "2025-02-10T16:39:15.132839Z"
    },
    "slideshow": {
     "slide_type": ""
    },
    "tags": []
   },
   "outputs": [
    {
     "data": {
      "text/plain": [
       "'Gary\\'s favourite word is \"python\".'"
      ]
     },
     "execution_count": 4,
     "metadata": {},
     "output_type": "execute_result"
    }
   ],
   "source": [
    "fact = \"Gary's favourite word is \\\"python\\\".\"\n",
    "fact"
   ]
  },
  {
   "cell_type": "markdown",
   "metadata": {
    "editable": true,
    "slideshow": {
     "slide_type": ""
    },
    "tags": []
   },
   "source": [
    "Python prints strings by surrounding them with _single_ quotes, so it escapes \n",
    "the single quotes in our string. This is useful because we can copy-paste the \n",
    "string into some Python code to use it somewhere else, without having to worry \n",
    "about escaping things.\n",
    "\n",
    "We can create multi-line strings by using three quotation marks. \n",
    "Conventionally, double quotations are usually used for these."
   ]
  },
  {
   "cell_type": "code",
   "execution_count": 5,
   "metadata": {
    "editable": true,
    "execution": {
     "iopub.execute_input": "2025-02-10T16:39:15.134884Z",
     "iopub.status.busy": "2025-02-10T16:39:15.134744Z",
     "iopub.status.idle": "2025-02-10T16:39:15.137184Z",
     "shell.execute_reply": "2025-02-10T16:39:15.136778Z"
    },
    "slideshow": {
     "slide_type": ""
    },
    "tags": []
   },
   "outputs": [],
   "source": [
    "long_fact = \"\"\"This is a long string.\n",
    "Quite long indeed.\n",
    "\"\"\""
   ]
  },
  {
   "cell_type": "code",
   "execution_count": 6,
   "metadata": {
    "editable": true,
    "execution": {
     "iopub.execute_input": "2025-02-10T16:39:15.138833Z",
     "iopub.status.busy": "2025-02-10T16:39:15.138692Z",
     "iopub.status.idle": "2025-02-10T16:39:15.141453Z",
     "shell.execute_reply": "2025-02-10T16:39:15.141035Z"
    },
    "slideshow": {
     "slide_type": ""
    },
    "tags": []
   },
   "outputs": [
    {
     "name": "stdout",
     "output_type": "stream",
     "text": [
      "This is a long string.\n",
      "Quite long indeed.\n",
      "\n"
     ]
    }
   ],
   "source": [
    "print(long_fact)"
   ]
  },
  {
   "cell_type": "markdown",
   "metadata": {
    "editable": true,
    "slideshow": {
     "slide_type": ""
    },
    "tags": []
   },
   "source": [
    "Creating strings like this is useful when you want to include line breaks in \n",
    "your string. You can also use `\\n` in strings to insert line breaks."
   ]
  },
  {
   "cell_type": "code",
   "execution_count": 7,
   "metadata": {
    "editable": true,
    "execution": {
     "iopub.execute_input": "2025-02-10T16:39:15.143175Z",
     "iopub.status.busy": "2025-02-10T16:39:15.142915Z",
     "iopub.status.idle": "2025-02-10T16:39:15.146166Z",
     "shell.execute_reply": "2025-02-10T16:39:15.145657Z"
    },
    "slideshow": {
     "slide_type": ""
    },
    "tags": []
   },
   "outputs": [
    {
     "data": {
      "text/plain": [
       "'This is a long string\\n\\nQuite long indeed.\\n'"
      ]
     },
     "execution_count": 7,
     "metadata": {},
     "output_type": "execute_result"
    }
   ],
   "source": [
    "'This is a long string\\n\\nQuite long indeed.\\n'"
   ]
  },
  {
   "cell_type": "markdown",
   "metadata": {
    "editable": true,
    "slideshow": {
     "slide_type": ""
    },
    "tags": []
   },
   "source": [
    "We can convert things to strings by using the `str` method, which can also \n",
    "create an _empty_ string for us."
   ]
  },
  {
   "cell_type": "code",
   "execution_count": 8,
   "metadata": {
    "editable": true,
    "execution": {
     "iopub.execute_input": "2025-02-10T16:39:15.148195Z",
     "iopub.status.busy": "2025-02-10T16:39:15.147805Z",
     "iopub.status.idle": "2025-02-10T16:39:15.151035Z",
     "shell.execute_reply": "2025-02-10T16:39:15.150570Z"
    },
    "slideshow": {
     "slide_type": ""
    },
    "tags": []
   },
   "outputs": [
    {
     "data": {
      "text/plain": [
       "''"
      ]
     },
     "execution_count": 8,
     "metadata": {},
     "output_type": "execute_result"
    }
   ],
   "source": [
    "''"
   ]
  },
  {
   "cell_type": "code",
   "execution_count": 9,
   "metadata": {
    "editable": true,
    "execution": {
     "iopub.execute_input": "2025-02-10T16:39:15.152977Z",
     "iopub.status.busy": "2025-02-10T16:39:15.152590Z",
     "iopub.status.idle": "2025-02-10T16:39:15.156126Z",
     "shell.execute_reply": "2025-02-10T16:39:15.155727Z"
    },
    "slideshow": {
     "slide_type": ""
    },
    "tags": []
   },
   "outputs": [
    {
     "data": {
      "text/plain": [
       "'A number: 998'"
      ]
     },
     "execution_count": 9,
     "metadata": {},
     "output_type": "execute_result"
    }
   ],
   "source": [
    "'A number: ' + str(999 - 1)"
   ]
  },
  {
   "cell_type": "markdown",
   "metadata": {
    "editable": true,
    "slideshow": {
     "slide_type": ""
    },
    "tags": []
   },
   "source": [
    "Strings are objects, and have lots of useful methods attached to them. If you \n",
    "want to know how many characters are in a string, you use the global `len` \n",
    "method."
   ]
  },
  {
   "cell_type": "code",
   "execution_count": 10,
   "metadata": {
    "editable": true,
    "execution": {
     "iopub.execute_input": "2025-02-10T16:39:15.157997Z",
     "iopub.status.busy": "2025-02-10T16:39:15.157564Z",
     "iopub.status.idle": "2025-02-10T16:39:15.160860Z",
     "shell.execute_reply": "2025-02-10T16:39:15.160402Z"
    },
    "slideshow": {
     "slide_type": ""
    },
    "tags": []
   },
   "outputs": [
    {
     "data": {
      "text/plain": [
       "'A CARROT'"
      ]
     },
     "execution_count": 10,
     "metadata": {},
     "output_type": "execute_result"
    }
   ],
   "source": [
    "b.upper()"
   ]
  },
  {
   "cell_type": "code",
   "execution_count": 11,
   "metadata": {
    "editable": true,
    "execution": {
     "iopub.execute_input": "2025-02-10T16:39:15.162681Z",
     "iopub.status.busy": "2025-02-10T16:39:15.162313Z",
     "iopub.status.idle": "2025-02-10T16:39:15.165607Z",
     "shell.execute_reply": "2025-02-10T16:39:15.165121Z"
    },
    "slideshow": {
     "slide_type": ""
    },
    "tags": []
   },
   "outputs": [
    {
     "data": {
      "text/plain": [
       "'a carrot'"
      ]
     },
     "execution_count": 11,
     "metadata": {},
     "output_type": "execute_result"
    }
   ],
   "source": [
    "b.upper().lower()"
   ]
  },
  {
   "cell_type": "code",
   "execution_count": 12,
   "metadata": {
    "editable": true,
    "execution": {
     "iopub.execute_input": "2025-02-10T16:39:15.167327Z",
     "iopub.status.busy": "2025-02-10T16:39:15.167033Z",
     "iopub.status.idle": "2025-02-10T16:39:15.170307Z",
     "shell.execute_reply": "2025-02-10T16:39:15.169906Z"
    },
    "slideshow": {
     "slide_type": ""
    },
    "tags": []
   },
   "outputs": [
    {
     "data": {
      "text/plain": [
       "'A_parrot'"
      ]
     },
     "execution_count": 12,
     "metadata": {},
     "output_type": "execute_result"
    }
   ],
   "source": [
    "b.replace('carrot', 'parrot').replace(' ', '_')"
   ]
  },
  {
   "cell_type": "code",
   "execution_count": 13,
   "metadata": {
    "editable": true,
    "execution": {
     "iopub.execute_input": "2025-02-10T16:39:15.171978Z",
     "iopub.status.busy": "2025-02-10T16:39:15.171829Z",
     "iopub.status.idle": "2025-02-10T16:39:15.175054Z",
     "shell.execute_reply": "2025-02-10T16:39:15.174656Z"
    },
    "slideshow": {
     "slide_type": ""
    },
    "tags": []
   },
   "outputs": [
    {
     "data": {
      "text/plain": [
       "8"
      ]
     },
     "execution_count": 13,
     "metadata": {},
     "output_type": "execute_result"
    }
   ],
   "source": [
    "len(b)"
   ]
  },
  {
   "cell_type": "code",
   "execution_count": 14,
   "metadata": {
    "editable": true,
    "execution": {
     "iopub.execute_input": "2025-02-10T16:39:15.176659Z",
     "iopub.status.busy": "2025-02-10T16:39:15.176521Z",
     "iopub.status.idle": "2025-02-10T16:39:15.179583Z",
     "shell.execute_reply": "2025-02-10T16:39:15.179111Z"
    },
    "slideshow": {
     "slide_type": ""
    },
    "tags": []
   },
   "outputs": [
    {
     "data": {
      "text/plain": [
       "'A carrot'"
      ]
     },
     "execution_count": 14,
     "metadata": {},
     "output_type": "execute_result"
    }
   ],
   "source": [
    "b"
   ]
  },
  {
   "cell_type": "markdown",
   "metadata": {
    "editable": true,
    "slideshow": {
     "slide_type": ""
    },
    "tags": []
   },
   "source": [
    "Notice that none of these operations _modify_ the value of the `b` variable. \n",
    "Operations on strings _always_ return _new_ strings. Strings are said to be \n",
    "_immutable_ for this reason: you can never change a string, just make new ones."
   ]
  },
  {
   "cell_type": "markdown",
   "metadata": {
    "editable": true,
    "slideshow": {
     "slide_type": ""
    },
    "tags": []
   },
   "source": [
    "## Formatting\n",
    "\n",
    "One of the most common things you’ll find yourself doing with strings is \n",
    "interleaving values into them. For example, you’ve finished an amazing \n",
    "analysis, and want to print the results."
   ]
  },
  {
   "cell_type": "code",
   "execution_count": 15,
   "metadata": {
    "editable": true,
    "execution": {
     "iopub.execute_input": "2025-02-10T16:39:15.181501Z",
     "iopub.status.busy": "2025-02-10T16:39:15.181214Z",
     "iopub.status.idle": "2025-02-10T16:39:15.184170Z",
     "shell.execute_reply": "2025-02-10T16:39:15.183745Z"
    },
    "slideshow": {
     "slide_type": ""
    },
    "tags": []
   },
   "outputs": [
    {
     "name": "stdout",
     "output_type": "stream",
     "text": [
      "My results are: 42.0, 123.21\n"
     ]
    }
   ],
   "source": [
    "result1 = 42.0\n",
    "result2 = 123.21\n",
    "print('My results are: ' + str(result1) + ', ' + str(result2))"
   ]
  },
  {
   "cell_type": "markdown",
   "metadata": {
    "editable": true,
    "slideshow": {
     "slide_type": ""
    },
    "tags": []
   },
   "source": [
    "\n",
    "This is already quite ugly, and will only get worse with more results. We can \n",
    "instead use the `f-string` and use the \n",
    "special `{}` placeholders to say where we want the values to go in the string by placing an `f` in front of the string (a \"formatted\" string)."
   ]
  },
  {
   "cell_type": "code",
   "execution_count": 16,
   "metadata": {
    "editable": true,
    "execution": {
     "iopub.execute_input": "2025-02-10T16:39:15.185843Z",
     "iopub.status.busy": "2025-02-10T16:39:15.185694Z",
     "iopub.status.idle": "2025-02-10T16:39:15.187998Z",
     "shell.execute_reply": "2025-02-10T16:39:15.187511Z"
    },
    "slideshow": {
     "slide_type": ""
    },
    "tags": []
   },
   "outputs": [],
   "source": [
    "output = f'My results are: {result1} {result2}'"
   ]
  },
  {
   "cell_type": "markdown",
   "metadata": {
    "editable": true,
    "slideshow": {
     "slide_type": ""
    },
    "tags": []
   },
   "source": [
    "Instead, we can also just create a string withouth the `f` in front and later insert values. This is not only the more historical method, it also provides the ability to template a string and then use the `format` method that’s available on strings."
   ]
  },
  {
   "cell_type": "code",
   "execution_count": 17,
   "metadata": {
    "editable": true,
    "execution": {
     "iopub.execute_input": "2025-02-10T16:39:15.189884Z",
     "iopub.status.busy": "2025-02-10T16:39:15.189595Z",
     "iopub.status.idle": "2025-02-10T16:39:15.191953Z",
     "shell.execute_reply": "2025-02-10T16:39:15.191467Z"
    },
    "slideshow": {
     "slide_type": ""
    },
    "tags": []
   },
   "outputs": [],
   "source": [
    "template = 'My results are: {}, {}'"
   ]
  },
  {
   "cell_type": "code",
   "execution_count": 18,
   "metadata": {
    "editable": true,
    "execution": {
     "iopub.execute_input": "2025-02-10T16:39:15.193839Z",
     "iopub.status.busy": "2025-02-10T16:39:15.193452Z",
     "iopub.status.idle": "2025-02-10T16:39:15.196427Z",
     "shell.execute_reply": "2025-02-10T16:39:15.195929Z"
    },
    "slideshow": {
     "slide_type": ""
    },
    "tags": []
   },
   "outputs": [
    {
     "name": "stdout",
     "output_type": "stream",
     "text": [
      "My results are: 42.0, 123.21\n"
     ]
    }
   ],
   "source": [
    "print(template.format(result1, result2))"
   ]
  },
  {
   "cell_type": "markdown",
   "metadata": {
    "editable": true,
    "slideshow": {
     "slide_type": ""
    },
    "tags": []
   },
   "source": [
    "Much better! We define the whole string at once, and then place the missing \n",
    "values in later.\n",
    "\n",
    "We can add  numbers inside the placeholders, `{0}` and `{1}`, which correspond to the indices \n",
    "of the arguments passed to the `format` method, where `0` is the first \n",
    "argument, `1` is the second, and so on. By referencing positions like this, we \n",
    "can easily repeat placeholders in the string, but only pass the values once to \n",
    "`format`."
   ]
  },
  {
   "cell_type": "code",
   "execution_count": 19,
   "metadata": {
    "editable": true,
    "execution": {
     "iopub.execute_input": "2025-02-10T16:39:15.198237Z",
     "iopub.status.busy": "2025-02-10T16:39:15.198059Z",
     "iopub.status.idle": "2025-02-10T16:39:15.200529Z",
     "shell.execute_reply": "2025-02-10T16:39:15.200012Z"
    },
    "slideshow": {
     "slide_type": ""
    },
    "tags": []
   },
   "outputs": [],
   "source": [
    "template = 'My results are: {1}, {0}. The best is {0}, obviously.'  # no need to start with 0 here"
   ]
  },
  {
   "cell_type": "code",
   "execution_count": 20,
   "metadata": {
    "editable": true,
    "execution": {
     "iopub.execute_input": "2025-02-10T16:39:15.202531Z",
     "iopub.status.busy": "2025-02-10T16:39:15.202163Z",
     "iopub.status.idle": "2025-02-10T16:39:15.204964Z",
     "shell.execute_reply": "2025-02-10T16:39:15.204409Z"
    },
    "slideshow": {
     "slide_type": ""
    },
    "tags": []
   },
   "outputs": [
    {
     "name": "stdout",
     "output_type": "stream",
     "text": [
      "My results are: 123.21, 42.0. The best is 42.0, obviously.\n"
     ]
    }
   ],
   "source": [
    "print(template.format(result1, result2))"
   ]
  },
  {
   "cell_type": "markdown",
   "metadata": {
    "editable": true,
    "slideshow": {
     "slide_type": ""
    },
    "tags": []
   },
   "source": [
    "You can also use _named_ placeholders, then passing the values to `format` \n",
    "using the same name."
   ]
  },
  {
   "cell_type": "code",
   "execution_count": 21,
   "metadata": {
    "editable": true,
    "execution": {
     "iopub.execute_input": "2025-02-10T16:39:15.206900Z",
     "iopub.status.busy": "2025-02-10T16:39:15.206537Z",
     "iopub.status.idle": "2025-02-10T16:39:15.208911Z",
     "shell.execute_reply": "2025-02-10T16:39:15.208441Z"
    },
    "slideshow": {
     "slide_type": ""
    },
    "tags": []
   },
   "outputs": [],
   "source": [
    "template3 = 'My results are: {best}, {worst}. But the best is {best}, obviously.'"
   ]
  },
  {
   "cell_type": "code",
   "execution_count": 22,
   "metadata": {
    "editable": true,
    "execution": {
     "iopub.execute_input": "2025-02-10T16:39:15.210755Z",
     "iopub.status.busy": "2025-02-10T16:39:15.210391Z",
     "iopub.status.idle": "2025-02-10T16:39:15.213265Z",
     "shell.execute_reply": "2025-02-10T16:39:15.212758Z"
    },
    "slideshow": {
     "slide_type": ""
    },
    "tags": []
   },
   "outputs": [
    {
     "name": "stdout",
     "output_type": "stream",
     "text": [
      "My results are: 42.0, 123.21. But the best is 42.0, obviously.\n"
     ]
    }
   ],
   "source": [
    "print(template3.format(best=result1, worst=result2))"
   ]
  },
  {
   "cell_type": "markdown",
   "metadata": {
    "editable": true,
    "slideshow": {
     "slide_type": ""
    },
    "tags": []
   },
   "source": [
    "But remember the `f-string`, if we don't need to do something fancy, it's a lot more convenient to use it (and the 99% use-case)"
   ]
  },
  {
   "cell_type": "code",
   "execution_count": 23,
   "metadata": {
    "editable": true,
    "execution": {
     "iopub.execute_input": "2025-02-10T16:39:15.215066Z",
     "iopub.status.busy": "2025-02-10T16:39:15.214780Z",
     "iopub.status.idle": "2025-02-10T16:39:15.218013Z",
     "shell.execute_reply": "2025-02-10T16:39:15.217546Z"
    },
    "slideshow": {
     "slide_type": ""
    },
    "tags": []
   },
   "outputs": [
    {
     "data": {
      "text/plain": [
       "'My results are: 42.0, 123.21. But the best is 42.0, obviously.'"
      ]
     },
     "execution_count": 23,
     "metadata": {},
     "output_type": "execute_result"
    }
   ],
   "source": [
    "f'My results are: {result1}, {result2}. But the best is {result1}, obviously.'"
   ]
  },
  {
   "cell_type": "code",
   "execution_count": 24,
   "metadata": {
    "editable": true,
    "execution": {
     "iopub.execute_input": "2025-02-10T16:39:15.219718Z",
     "iopub.status.busy": "2025-02-10T16:39:15.219562Z",
     "iopub.status.idle": "2025-02-10T16:39:15.221950Z",
     "shell.execute_reply": "2025-02-10T16:39:15.221494Z"
    },
    "slideshow": {
     "slide_type": ""
    },
    "tags": []
   },
   "outputs": [
    {
     "name": "stdout",
     "output_type": "stream",
     "text": [
      "My results are: {best}, {worst}. But the best is {best}, obviously.\n"
     ]
    }
   ],
   "source": [
    "print(template3)"
   ]
  },
  {
   "cell_type": "markdown",
   "metadata": {
    "editable": true,
    "slideshow": {
     "slide_type": ""
    },
    "tags": []
   },
   "source": [
    "This is nice because it gives more meaning to what the placeholders are for.\n",
    "\n",
    "There’s [a lot you can do inside the placeholders](https://docs.python.org/3/tutorial/inputoutput.html#the-string-format-method), such as specifying that you want to format a number with a certain number of decimal places."
   ]
  },
  {
   "cell_type": "code",
   "execution_count": 25,
   "metadata": {
    "editable": true,
    "execution": {
     "iopub.execute_input": "2025-02-10T16:39:15.223692Z",
     "iopub.status.busy": "2025-02-10T16:39:15.223534Z",
     "iopub.status.idle": "2025-02-10T16:39:15.226061Z",
     "shell.execute_reply": "2025-02-10T16:39:15.225608Z"
    },
    "slideshow": {
     "slide_type": ""
    },
    "tags": []
   },
   "outputs": [
    {
     "name": "stdout",
     "output_type": "stream",
     "text": [
      "This number is great: 42.000\n"
     ]
    }
   ],
   "source": [
    "print(f'This number is great: {result1:.3f}')"
   ]
  },
  {
   "cell_type": "markdown",
   "metadata": {
    "editable": true,
    "slideshow": {
     "slide_type": ""
    },
    "tags": []
   },
   "source": [
    "If you want to print a literal curly brace using `format`, you will need to\n",
    "escape it by doubling it, so that `{{` will become `{` and `}}` will become `}`.\n",
    "Here's an example:"
   ]
  },
  {
   "cell_type": "code",
   "execution_count": 26,
   "metadata": {
    "editable": true,
    "execution": {
     "iopub.execute_input": "2025-02-10T16:39:15.227689Z",
     "iopub.status.busy": "2025-02-10T16:39:15.227553Z",
     "iopub.status.idle": "2025-02-10T16:39:15.230301Z",
     "shell.execute_reply": "2025-02-10T16:39:15.229784Z"
    },
    "slideshow": {
     "slide_type": ""
    },
    "tags": []
   },
   "outputs": [
    {
     "name": "stdout",
     "output_type": "stream",
     "text": [
      "This number will be surrounded by curly braces: {42.0}\n"
     ]
    }
   ],
   "source": [
    "print(f'This number will be surrounded by curly braces: {{{result1}}}')"
   ]
  },
  {
   "cell_type": "markdown",
   "metadata": {
    "editable": true,
    "slideshow": {
     "slide_type": ""
    },
    "tags": []
   },
   "source": [
    "The innermost `{0}` is replaced with the number, and `{{...}}` becomes `{...}`."
   ]
  }
 ],
 "metadata": {
  "language_info": {
   "codemirror_mode": {
    "name": "ipython",
    "version": 3
   },
   "file_extension": ".py",
   "mimetype": "text/x-python",
   "name": "python",
   "nbconvert_exporter": "python",
   "pygments_lexer": "ipython3",
   "version": "3.11.11"
  }
 },
 "nbformat": 4,
 "nbformat_minor": 4
}
