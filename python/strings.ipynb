{
 "cells": [
  {
   "cell_type": "markdown",
   "metadata": {
    "editable": true,
    "slideshow": {
     "slide_type": ""
    },
    "tags": []
   },
   "source": [
    "# Strings\n",
    "\n",
    "Number objects are useful for storing values which are, well, numbers. But what \n",
    "if we want to store a sentence? Enter _strings_!"
   ]
  },
  {
   "cell_type": "code",
   "execution_count": 1,
   "metadata": {
    "editable": true,
    "execution": {
     "iopub.execute_input": "2025-04-04T10:43:02.008045Z",
     "iopub.status.busy": "2025-04-04T10:43:02.007887Z",
     "iopub.status.idle": "2025-04-04T10:43:02.012531Z",
     "shell.execute_reply": "2025-04-04T10:43:02.012080Z"
    },
    "slideshow": {
     "slide_type": ""
    },
    "tags": []
   },
   "outputs": [],
   "source": [
    "a = \"What's orange and sounds like a parrot?\""
   ]
  },
  {
   "cell_type": "markdown",
   "metadata": {
    "editable": true,
    "slideshow": {
     "slide_type": ""
    },
    "tags": []
   },
   "source": [
    "Strings can be joined with `+`."
   ]
  },
  {
   "cell_type": "code",
   "execution_count": 2,
   "metadata": {
    "editable": true,
    "execution": {
     "iopub.execute_input": "2025-04-04T10:43:02.014486Z",
     "iopub.status.busy": "2025-04-04T10:43:02.014128Z",
     "iopub.status.idle": "2025-04-04T10:43:02.018877Z",
     "shell.execute_reply": "2025-04-04T10:43:02.018379Z"
    },
    "slideshow": {
     "slide_type": ""
    },
    "tags": []
   },
   "outputs": [
    {
     "data": {
      "text/plain": [
       "\"What's orange and sounds like a parrot? A carrot\""
      ]
     },
     "execution_count": 2,
     "metadata": {},
     "output_type": "execute_result"
    }
   ],
   "source": [
    "b = 'A carrot'\n",
    "a + ' ' + b"
   ]
  },
  {
   "cell_type": "markdown",
   "metadata": {
    "editable": true,
    "slideshow": {
     "slide_type": ""
    },
    "tags": []
   },
   "source": [
    "And they can be multiplied by numbers, amazingly."
   ]
  },
  {
   "cell_type": "code",
   "execution_count": 3,
   "metadata": {
    "editable": true,
    "execution": {
     "iopub.execute_input": "2025-04-04T10:43:02.020893Z",
     "iopub.status.busy": "2025-04-04T10:43:02.020494Z",
     "iopub.status.idle": "2025-04-04T10:43:02.023767Z",
     "shell.execute_reply": "2025-04-04T10:43:02.023279Z"
    },
    "slideshow": {
     "slide_type": ""
    },
    "tags": []
   },
   "outputs": [
    {
     "data": {
      "text/plain": [
       "'omgomgomgomgomgomgomgomgomgomg'"
      ]
     },
     "execution_count": 3,
     "metadata": {},
     "output_type": "execute_result"
    }
   ],
   "source": [
    "c = 'omg'\n",
    "10 * c"
   ]
  },
  {
   "cell_type": "markdown",
   "metadata": {
    "editable": true,
    "slideshow": {
     "slide_type": ""
    },
    "tags": []
   },
   "source": [
    "We’ve specified strings _literally_, _in_ the source code, by wrapping the text \n",
    "with singles quotes or double quotes. There’s no difference; most people choose \n",
    "one and stick with it.\n",
    "\n",
    "It can be useful to change if your text contains the quote character. If it \n",
    "contains both, you can _escape_ the quote mark by preceding it with a \n",
    "backslash. This tells Python that the quote is part of the string you want, and \n",
    "not the ending quote."
   ]
  },
  {
   "cell_type": "code",
   "execution_count": 4,
   "metadata": {
    "editable": true,
    "execution": {
     "iopub.execute_input": "2025-04-04T10:43:02.025815Z",
     "iopub.status.busy": "2025-04-04T10:43:02.025410Z",
     "iopub.status.idle": "2025-04-04T10:43:02.028733Z",
     "shell.execute_reply": "2025-04-04T10:43:02.028254Z"
    },
    "slideshow": {
     "slide_type": ""
    },
    "tags": []
   },
   "outputs": [
    {
     "data": {
      "text/plain": [
       "'Gary\\'s favourite word is \"python\".'"
      ]
     },
     "execution_count": 4,
     "metadata": {},
     "output_type": "execute_result"
    }
   ],
   "source": [
    "fact = \"Gary's favourite word is \\\"python\\\".\"\n",
    "fact"
   ]
  },
  {
   "cell_type": "markdown",
   "metadata": {
    "editable": true,
    "slideshow": {
     "slide_type": ""
    },
    "tags": []
   },
   "source": [
    "Python prints strings by surrounding them with _single_ quotes, so it escapes \n",
    "the single quotes in our string. This is useful because we can copy-paste the \n",
    "string into some Python code to use it somewhere else, without having to worry \n",
    "about escaping things.\n",
    "\n",
    "We can create multi-line strings by using three quotation marks. \n",
    "Conventionally, double quotations are usually used for these."
   ]
  },
  {
   "cell_type": "code",
   "execution_count": 5,
   "metadata": {
    "editable": true,
    "execution": {
     "iopub.execute_input": "2025-04-04T10:43:02.030482Z",
     "iopub.status.busy": "2025-04-04T10:43:02.030322Z",
     "iopub.status.idle": "2025-04-04T10:43:02.032936Z",
     "shell.execute_reply": "2025-04-04T10:43:02.032418Z"
    },
    "slideshow": {
     "slide_type": ""
    },
    "tags": []
   },
   "outputs": [],
   "source": [
    "long_fact = \"\"\"This is a long string.\n",
    "Quite long indeed.\n",
    "\"\"\""
   ]
  },
  {
   "cell_type": "code",
   "execution_count": 6,
   "metadata": {
    "editable": true,
    "execution": {
     "iopub.execute_input": "2025-04-04T10:43:02.034636Z",
     "iopub.status.busy": "2025-04-04T10:43:02.034472Z",
     "iopub.status.idle": "2025-04-04T10:43:02.037176Z",
     "shell.execute_reply": "2025-04-04T10:43:02.036701Z"
    },
    "slideshow": {
     "slide_type": ""
    },
    "tags": []
   },
   "outputs": [
    {
     "name": "stdout",
     "output_type": "stream",
     "text": [
      "This is a long string.\n",
      "Quite long indeed.\n",
      "\n"
     ]
    }
   ],
   "source": [
    "print(long_fact)"
   ]
  },
  {
   "cell_type": "markdown",
   "metadata": {
    "editable": true,
    "slideshow": {
     "slide_type": ""
    },
    "tags": []
   },
   "source": [
    "Creating strings like this is useful when you want to include line breaks in \n",
    "your string. You can also use `\\n` in strings to insert line breaks."
   ]
  },
  {
   "cell_type": "code",
   "execution_count": 7,
   "metadata": {
    "editable": true,
    "execution": {
     "iopub.execute_input": "2025-04-04T10:43:02.038919Z",
     "iopub.status.busy": "2025-04-04T10:43:02.038656Z",
     "iopub.status.idle": "2025-04-04T10:43:02.041819Z",
     "shell.execute_reply": "2025-04-04T10:43:02.041423Z"
    },
    "slideshow": {
     "slide_type": ""
    },
    "tags": []
   },
   "outputs": [
    {
     "data": {
      "text/plain": [
       "'This is a long string\\n\\nQuite long indeed.\\n'"
      ]
     },
     "execution_count": 7,
     "metadata": {},
     "output_type": "execute_result"
    }
   ],
   "source": [
    "'This is a long string\\n\\nQuite long indeed.\\n'"
   ]
  },
  {
   "cell_type": "markdown",
   "metadata": {
    "editable": true,
    "slideshow": {
     "slide_type": ""
    },
    "tags": []
   },
   "source": [
    "We can convert things to strings by using the `str` method, which can also \n",
    "create an _empty_ string for us."
   ]
  },
  {
   "cell_type": "code",
   "execution_count": 8,
   "metadata": {
    "editable": true,
    "execution": {
     "iopub.execute_input": "2025-04-04T10:43:02.043752Z",
     "iopub.status.busy": "2025-04-04T10:43:02.043322Z",
     "iopub.status.idle": "2025-04-04T10:43:02.046642Z",
     "shell.execute_reply": "2025-04-04T10:43:02.046143Z"
    },
    "slideshow": {
     "slide_type": ""
    },
    "tags": []
   },
   "outputs": [
    {
     "data": {
      "text/plain": [
       "''"
      ]
     },
     "execution_count": 8,
     "metadata": {},
     "output_type": "execute_result"
    }
   ],
   "source": [
    "''"
   ]
  },
  {
   "cell_type": "code",
   "execution_count": 9,
   "metadata": {
    "editable": true,
    "execution": {
     "iopub.execute_input": "2025-04-04T10:43:02.048635Z",
     "iopub.status.busy": "2025-04-04T10:43:02.048241Z",
     "iopub.status.idle": "2025-04-04T10:43:02.051643Z",
     "shell.execute_reply": "2025-04-04T10:43:02.051142Z"
    },
    "slideshow": {
     "slide_type": ""
    },
    "tags": []
   },
   "outputs": [
    {
     "data": {
      "text/plain": [
       "'A number: 998'"
      ]
     },
     "execution_count": 9,
     "metadata": {},
     "output_type": "execute_result"
    }
   ],
   "source": [
    "'A number: ' + str(999 - 1)"
   ]
  },
  {
   "cell_type": "markdown",
   "metadata": {
    "editable": true,
    "slideshow": {
     "slide_type": ""
    },
    "tags": []
   },
   "source": [
    "Strings are objects, and have lots of useful methods attached to them. If you \n",
    "want to know how many characters are in a string, you use the global `len` \n",
    "method."
   ]
  },
  {
   "cell_type": "code",
   "execution_count": 10,
   "metadata": {
    "editable": true,
    "execution": {
     "iopub.execute_input": "2025-04-04T10:43:02.053668Z",
     "iopub.status.busy": "2025-04-04T10:43:02.053271Z",
     "iopub.status.idle": "2025-04-04T10:43:02.056541Z",
     "shell.execute_reply": "2025-04-04T10:43:02.056061Z"
    },
    "slideshow": {
     "slide_type": ""
    },
    "tags": []
   },
   "outputs": [
    {
     "data": {
      "text/plain": [
       "'A CARROT'"
      ]
     },
     "execution_count": 10,
     "metadata": {},
     "output_type": "execute_result"
    }
   ],
   "source": [
    "b.upper()"
   ]
  },
  {
   "cell_type": "code",
   "execution_count": 11,
   "metadata": {
    "editable": true,
    "execution": {
     "iopub.execute_input": "2025-04-04T10:43:02.058343Z",
     "iopub.status.busy": "2025-04-04T10:43:02.058041Z",
     "iopub.status.idle": "2025-04-04T10:43:02.061285Z",
     "shell.execute_reply": "2025-04-04T10:43:02.060898Z"
    },
    "slideshow": {
     "slide_type": ""
    },
    "tags": []
   },
   "outputs": [
    {
     "data": {
      "text/plain": [
       "'a carrot'"
      ]
     },
     "execution_count": 11,
     "metadata": {},
     "output_type": "execute_result"
    }
   ],
   "source": [
    "b.upper().lower()"
   ]
  },
  {
   "cell_type": "code",
   "execution_count": 12,
   "metadata": {
    "editable": true,
    "execution": {
     "iopub.execute_input": "2025-04-04T10:43:02.063037Z",
     "iopub.status.busy": "2025-04-04T10:43:02.062733Z",
     "iopub.status.idle": "2025-04-04T10:43:02.065880Z",
     "shell.execute_reply": "2025-04-04T10:43:02.065455Z"
    },
    "slideshow": {
     "slide_type": ""
    },
    "tags": []
   },
   "outputs": [
    {
     "data": {
      "text/plain": [
       "'A_parrot'"
      ]
     },
     "execution_count": 12,
     "metadata": {},
     "output_type": "execute_result"
    }
   ],
   "source": [
    "b.replace('carrot', 'parrot').replace(' ', '_')"
   ]
  },
  {
   "cell_type": "code",
   "execution_count": 13,
   "metadata": {
    "editable": true,
    "execution": {
     "iopub.execute_input": "2025-04-04T10:43:02.067660Z",
     "iopub.status.busy": "2025-04-04T10:43:02.067338Z",
     "iopub.status.idle": "2025-04-04T10:43:02.070452Z",
     "shell.execute_reply": "2025-04-04T10:43:02.069973Z"
    },
    "slideshow": {
     "slide_type": ""
    },
    "tags": []
   },
   "outputs": [
    {
     "data": {
      "text/plain": [
       "8"
      ]
     },
     "execution_count": 13,
     "metadata": {},
     "output_type": "execute_result"
    }
   ],
   "source": [
    "len(b)"
   ]
  },
  {
   "cell_type": "code",
   "execution_count": 14,
   "metadata": {
    "editable": true,
    "execution": {
     "iopub.execute_input": "2025-04-04T10:43:02.072341Z",
     "iopub.status.busy": "2025-04-04T10:43:02.072045Z",
     "iopub.status.idle": "2025-04-04T10:43:02.075027Z",
     "shell.execute_reply": "2025-04-04T10:43:02.074662Z"
    },
    "slideshow": {
     "slide_type": ""
    },
    "tags": []
   },
   "outputs": [
    {
     "data": {
      "text/plain": [
       "'A carrot'"
      ]
     },
     "execution_count": 14,
     "metadata": {},
     "output_type": "execute_result"
    }
   ],
   "source": [
    "b"
   ]
  },
  {
   "cell_type": "markdown",
   "metadata": {
    "editable": true,
    "slideshow": {
     "slide_type": ""
    },
    "tags": []
   },
   "source": [
    "Notice that none of these operations _modify_ the value of the `b` variable. \n",
    "Operations on strings _always_ return _new_ strings. Strings are said to be \n",
    "_immutable_ for this reason: you can never change a string, just make new ones."
   ]
  },
  {
   "cell_type": "markdown",
   "metadata": {
    "editable": true,
    "slideshow": {
     "slide_type": ""
    },
    "tags": []
   },
   "source": [
    "## Formatting\n",
    "\n",
    "One of the most common things you’ll find yourself doing with strings is \n",
    "interleaving values into them. For example, you’ve finished an amazing \n",
    "analysis, and want to print the results."
   ]
  },
  {
   "cell_type": "code",
   "execution_count": 15,
   "metadata": {
    "editable": true,
    "execution": {
     "iopub.execute_input": "2025-04-04T10:43:02.076711Z",
     "iopub.status.busy": "2025-04-04T10:43:02.076529Z",
     "iopub.status.idle": "2025-04-04T10:43:02.079553Z",
     "shell.execute_reply": "2025-04-04T10:43:02.079152Z"
    },
    "slideshow": {
     "slide_type": ""
    },
    "tags": []
   },
   "outputs": [
    {
     "name": "stdout",
     "output_type": "stream",
     "text": [
      "My results are: 42.0, 123.21\n"
     ]
    }
   ],
   "source": [
    "result1 = 42.0\n",
    "result2 = 123.21\n",
    "print('My results are: ' + str(result1) + ', ' + str(result2))"
   ]
  },
  {
   "cell_type": "markdown",
   "metadata": {
    "editable": true,
    "slideshow": {
     "slide_type": ""
    },
    "tags": []
   },
   "source": [
    "\n",
    "This is already quite ugly, and will only get worse with more results. We can \n",
    "instead use the `f-string` and use the \n",
    "special `{}` placeholders to say where we want the values to go in the string by placing an `f` in front of the string (a \"formatted\" string)."
   ]
  },
  {
   "cell_type": "code",
   "execution_count": 16,
   "metadata": {
    "editable": true,
    "execution": {
     "iopub.execute_input": "2025-04-04T10:43:02.081176Z",
     "iopub.status.busy": "2025-04-04T10:43:02.081022Z",
     "iopub.status.idle": "2025-04-04T10:43:02.083491Z",
     "shell.execute_reply": "2025-04-04T10:43:02.082998Z"
    },
    "slideshow": {
     "slide_type": ""
    },
    "tags": []
   },
   "outputs": [],
   "source": [
    "output = f'My results are: {result1} {result2}'"
   ]
  },
  {
   "cell_type": "markdown",
   "metadata": {
    "editable": true,
    "slideshow": {
     "slide_type": ""
    },
    "tags": []
   },
   "source": [
    "Instead, we can also just create a string withouth the `f` in front and later insert values. This is not only the more historical method, it also provides the ability to template a string and then use the `format` method that’s available on strings."
   ]
  },
  {
   "cell_type": "code",
   "execution_count": 17,
   "metadata": {
    "editable": true,
    "execution": {
     "iopub.execute_input": "2025-04-04T10:43:02.085229Z",
     "iopub.status.busy": "2025-04-04T10:43:02.084977Z",
     "iopub.status.idle": "2025-04-04T10:43:02.087171Z",
     "shell.execute_reply": "2025-04-04T10:43:02.086783Z"
    },
    "slideshow": {
     "slide_type": ""
    },
    "tags": []
   },
   "outputs": [],
   "source": [
    "template = 'My results are: {}, {}'"
   ]
  },
  {
   "cell_type": "code",
   "execution_count": 18,
   "metadata": {
    "editable": true,
    "execution": {
     "iopub.execute_input": "2025-04-04T10:43:02.088974Z",
     "iopub.status.busy": "2025-04-04T10:43:02.088670Z",
     "iopub.status.idle": "2025-04-04T10:43:02.091011Z",
     "shell.execute_reply": "2025-04-04T10:43:02.090625Z"
    },
    "slideshow": {
     "slide_type": ""
    },
    "tags": []
   },
   "outputs": [
    {
     "name": "stdout",
     "output_type": "stream",
     "text": [
      "My results are: 42.0, 123.21\n"
     ]
    }
   ],
   "source": [
    "print(template.format(result1, result2))"
   ]
  },
  {
   "cell_type": "markdown",
   "metadata": {
    "editable": true,
    "slideshow": {
     "slide_type": ""
    },
    "tags": []
   },
   "source": [
    "Much better! We define the whole string at once, and then place the missing \n",
    "values in later.\n",
    "\n",
    "We can add  numbers inside the placeholders, `{0}` and `{1}`, which correspond to the indices \n",
    "of the arguments passed to the `format` method, where `0` is the first \n",
    "argument, `1` is the second, and so on. By referencing positions like this, we \n",
    "can easily repeat placeholders in the string, but only pass the values once to \n",
    "`format`."
   ]
  },
  {
   "cell_type": "code",
   "execution_count": 19,
   "metadata": {
    "editable": true,
    "execution": {
     "iopub.execute_input": "2025-04-04T10:43:02.093030Z",
     "iopub.status.busy": "2025-04-04T10:43:02.092559Z",
     "iopub.status.idle": "2025-04-04T10:43:02.095095Z",
     "shell.execute_reply": "2025-04-04T10:43:02.094602Z"
    },
    "slideshow": {
     "slide_type": ""
    },
    "tags": []
   },
   "outputs": [],
   "source": [
    "template = 'My results are: {1}, {0}. The best is {0}, obviously.'  # no need to start with 0 here"
   ]
  },
  {
   "cell_type": "code",
   "execution_count": 20,
   "metadata": {
    "editable": true,
    "execution": {
     "iopub.execute_input": "2025-04-04T10:43:02.096950Z",
     "iopub.status.busy": "2025-04-04T10:43:02.096705Z",
     "iopub.status.idle": "2025-04-04T10:43:02.099408Z",
     "shell.execute_reply": "2025-04-04T10:43:02.098922Z"
    },
    "slideshow": {
     "slide_type": ""
    },
    "tags": []
   },
   "outputs": [
    {
     "name": "stdout",
     "output_type": "stream",
     "text": [
      "My results are: 123.21, 42.0. The best is 42.0, obviously.\n"
     ]
    }
   ],
   "source": [
    "print(template.format(result1, result2))"
   ]
  },
  {
   "cell_type": "markdown",
   "metadata": {
    "editable": true,
    "slideshow": {
     "slide_type": ""
    },
    "tags": []
   },
   "source": [
    "You can also use _named_ placeholders, then passing the values to `format` \n",
    "using the same name."
   ]
  },
  {
   "cell_type": "code",
   "execution_count": 21,
   "metadata": {
    "editable": true,
    "execution": {
     "iopub.execute_input": "2025-04-04T10:43:02.101166Z",
     "iopub.status.busy": "2025-04-04T10:43:02.100908Z",
     "iopub.status.idle": "2025-04-04T10:43:02.103291Z",
     "shell.execute_reply": "2025-04-04T10:43:02.102884Z"
    },
    "slideshow": {
     "slide_type": ""
    },
    "tags": []
   },
   "outputs": [],
   "source": [
    "template3 = 'My results are: {best}, {worst}. But the best is {best}, obviously.'"
   ]
  },
  {
   "cell_type": "code",
   "execution_count": 22,
   "metadata": {
    "editable": true,
    "execution": {
     "iopub.execute_input": "2025-04-04T10:43:02.105057Z",
     "iopub.status.busy": "2025-04-04T10:43:02.104765Z",
     "iopub.status.idle": "2025-04-04T10:43:02.107673Z",
     "shell.execute_reply": "2025-04-04T10:43:02.107236Z"
    },
    "slideshow": {
     "slide_type": ""
    },
    "tags": []
   },
   "outputs": [
    {
     "name": "stdout",
     "output_type": "stream",
     "text": [
      "My results are: 42.0, 123.21. But the best is 42.0, obviously.\n"
     ]
    }
   ],
   "source": [
    "print(template3.format(best=result1, worst=result2))"
   ]
  },
  {
   "cell_type": "markdown",
   "metadata": {
    "editable": true,
    "slideshow": {
     "slide_type": ""
    },
    "tags": []
   },
   "source": [
    "But remember the `f-string`, if we don't need to do something fancy, it's a lot more convenient to use it (and the 99% use-case)"
   ]
  },
  {
   "cell_type": "code",
   "execution_count": 23,
   "metadata": {
    "editable": true,
    "execution": {
     "iopub.execute_input": "2025-04-04T10:43:02.109468Z",
     "iopub.status.busy": "2025-04-04T10:43:02.109177Z",
     "iopub.status.idle": "2025-04-04T10:43:02.112356Z",
     "shell.execute_reply": "2025-04-04T10:43:02.111894Z"
    },
    "slideshow": {
     "slide_type": ""
    },
    "tags": []
   },
   "outputs": [
    {
     "data": {
      "text/plain": [
       "'My results are: 42.0, 123.21. But the best is 42.0, obviously.'"
      ]
     },
     "execution_count": 23,
     "metadata": {},
     "output_type": "execute_result"
    }
   ],
   "source": [
    "f'My results are: {result1}, {result2}. But the best is {result1}, obviously.'"
   ]
  },
  {
   "cell_type": "code",
   "execution_count": 24,
   "metadata": {
    "editable": true,
    "execution": {
     "iopub.execute_input": "2025-04-04T10:43:02.114307Z",
     "iopub.status.busy": "2025-04-04T10:43:02.113934Z",
     "iopub.status.idle": "2025-04-04T10:43:02.116747Z",
     "shell.execute_reply": "2025-04-04T10:43:02.116316Z"
    },
    "slideshow": {
     "slide_type": ""
    },
    "tags": []
   },
   "outputs": [
    {
     "name": "stdout",
     "output_type": "stream",
     "text": [
      "My results are: {best}, {worst}. But the best is {best}, obviously.\n"
     ]
    }
   ],
   "source": [
    "print(template3)"
   ]
  },
  {
   "cell_type": "markdown",
   "metadata": {
    "editable": true,
    "slideshow": {
     "slide_type": ""
    },
    "tags": []
   },
   "source": [
    "This is nice because it gives more meaning to what the placeholders are for.\n",
    "\n",
    "There’s [a lot you can do inside the placeholders](https://docs.python.org/3/tutorial/inputoutput.html#the-string-format-method), such as specifying that you want to format a number with a certain number of decimal places."
   ]
  },
  {
   "cell_type": "code",
   "execution_count": 25,
   "metadata": {
    "editable": true,
    "execution": {
     "iopub.execute_input": "2025-04-04T10:43:02.118485Z",
     "iopub.status.busy": "2025-04-04T10:43:02.118332Z",
     "iopub.status.idle": "2025-04-04T10:43:02.120811Z",
     "shell.execute_reply": "2025-04-04T10:43:02.120335Z"
    },
    "slideshow": {
     "slide_type": ""
    },
    "tags": []
   },
   "outputs": [
    {
     "name": "stdout",
     "output_type": "stream",
     "text": [
      "This number is great: 42.000\n"
     ]
    }
   ],
   "source": [
    "print(f'This number is great: {result1:.3f}')"
   ]
  },
  {
   "cell_type": "markdown",
   "metadata": {
    "editable": true,
    "slideshow": {
     "slide_type": ""
    },
    "tags": []
   },
   "source": [
    "If you want to print a literal curly brace using `format`, you will need to\n",
    "escape it by doubling it, so that `{{` will become `{` and `}}` will become `}`.\n",
    "Here's an example:"
   ]
  },
  {
   "cell_type": "code",
   "execution_count": 26,
   "metadata": {
    "editable": true,
    "execution": {
     "iopub.execute_input": "2025-04-04T10:43:02.122435Z",
     "iopub.status.busy": "2025-04-04T10:43:02.122284Z",
     "iopub.status.idle": "2025-04-04T10:43:02.125014Z",
     "shell.execute_reply": "2025-04-04T10:43:02.124614Z"
    },
    "slideshow": {
     "slide_type": ""
    },
    "tags": []
   },
   "outputs": [
    {
     "name": "stdout",
     "output_type": "stream",
     "text": [
      "This number will be surrounded by curly braces: {42.0}\n"
     ]
    }
   ],
   "source": [
    "print(f'This number will be surrounded by curly braces: {{{result1}}}')"
   ]
  },
  {
   "cell_type": "markdown",
   "metadata": {
    "editable": true,
    "slideshow": {
     "slide_type": ""
    },
    "tags": []
   },
   "source": [
    "The innermost `{0}` is replaced with the number, and `{{...}}` becomes `{...}`."
   ]
  }
 ],
 "metadata": {
  "language_info": {
   "codemirror_mode": {
    "name": "ipython",
    "version": 3
   },
   "file_extension": ".py",
   "mimetype": "text/x-python",
   "name": "python",
   "nbconvert_exporter": "python",
   "pygments_lexer": "ipython3",
   "version": "3.11.11"
  }
 },
 "nbformat": 4,
 "nbformat_minor": 4
}
