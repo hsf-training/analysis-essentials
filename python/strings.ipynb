{
 "cells": [
  {
   "cell_type": "markdown",
   "metadata": {
    "editable": true,
    "slideshow": {
     "slide_type": ""
    },
    "tags": []
   },
   "source": [
    "# Strings\n",
    "\n",
    "Number objects are useful for storing values which are, well, numbers. But what \n",
    "if we want to store a sentence? Enter _strings_!"
   ]
  },
  {
   "cell_type": "code",
   "execution_count": 1,
   "metadata": {
    "editable": true,
    "execution": {
     "iopub.execute_input": "2025-02-10T17:09:29.665433Z",
     "iopub.status.busy": "2025-02-10T17:09:29.665266Z",
     "iopub.status.idle": "2025-02-10T17:09:29.670235Z",
     "shell.execute_reply": "2025-02-10T17:09:29.669737Z"
    },
    "slideshow": {
     "slide_type": ""
    },
    "tags": []
   },
   "outputs": [],
   "source": [
    "a = \"What's orange and sounds like a parrot?\""
   ]
  },
  {
   "cell_type": "markdown",
   "metadata": {
    "editable": true,
    "slideshow": {
     "slide_type": ""
    },
    "tags": []
   },
   "source": [
    "Strings can be joined with `+`."
   ]
  },
  {
   "cell_type": "code",
   "execution_count": 2,
   "metadata": {
    "editable": true,
    "execution": {
     "iopub.execute_input": "2025-02-10T17:09:29.672160Z",
     "iopub.status.busy": "2025-02-10T17:09:29.671767Z",
     "iopub.status.idle": "2025-02-10T17:09:29.676626Z",
     "shell.execute_reply": "2025-02-10T17:09:29.676151Z"
    },
    "slideshow": {
     "slide_type": ""
    },
    "tags": []
   },
   "outputs": [
    {
     "data": {
      "text/plain": [
       "\"What's orange and sounds like a parrot? A carrot\""
      ]
     },
     "execution_count": 2,
     "metadata": {},
     "output_type": "execute_result"
    }
   ],
   "source": [
    "b = 'A carrot'\n",
    "a + ' ' + b"
   ]
  },
  {
   "cell_type": "markdown",
   "metadata": {
    "editable": true,
    "slideshow": {
     "slide_type": ""
    },
    "tags": []
   },
   "source": [
    "And they can be multiplied by numbers, amazingly."
   ]
  },
  {
   "cell_type": "code",
   "execution_count": 3,
   "metadata": {
    "editable": true,
    "execution": {
     "iopub.execute_input": "2025-02-10T17:09:29.678579Z",
     "iopub.status.busy": "2025-02-10T17:09:29.678158Z",
     "iopub.status.idle": "2025-02-10T17:09:29.681633Z",
     "shell.execute_reply": "2025-02-10T17:09:29.681241Z"
    },
    "slideshow": {
     "slide_type": ""
    },
    "tags": []
   },
   "outputs": [
    {
     "data": {
      "text/plain": [
       "'omgomgomgomgomgomgomgomgomgomg'"
      ]
     },
     "execution_count": 3,
     "metadata": {},
     "output_type": "execute_result"
    }
   ],
   "source": [
    "c = 'omg'\n",
    "10 * c"
   ]
  },
  {
   "cell_type": "markdown",
   "metadata": {
    "editable": true,
    "slideshow": {
     "slide_type": ""
    },
    "tags": []
   },
   "source": [
    "We’ve specified strings _literally_, _in_ the source code, by wrapping the text \n",
    "with singles quotes or double quotes. There’s no difference; most people choose \n",
    "one and stick with it.\n",
    "\n",
    "It can be useful to change if your text contains the quote character. If it \n",
    "contains both, you can _escape_ the quote mark by preceding it with a \n",
    "backslash. This tells Python that the quote is part of the string you want, and \n",
    "not the ending quote."
   ]
  },
  {
   "cell_type": "code",
   "execution_count": 4,
   "metadata": {
    "editable": true,
    "execution": {
     "iopub.execute_input": "2025-02-10T17:09:29.683506Z",
     "iopub.status.busy": "2025-02-10T17:09:29.683119Z",
     "iopub.status.idle": "2025-02-10T17:09:29.686446Z",
     "shell.execute_reply": "2025-02-10T17:09:29.686019Z"
    },
    "slideshow": {
     "slide_type": ""
    },
    "tags": []
   },
   "outputs": [
    {
     "data": {
      "text/plain": [
       "'Gary\\'s favourite word is \"python\".'"
      ]
     },
     "execution_count": 4,
     "metadata": {},
     "output_type": "execute_result"
    }
   ],
   "source": [
    "fact = \"Gary's favourite word is \\\"python\\\".\"\n",
    "fact"
   ]
  },
  {
   "cell_type": "markdown",
   "metadata": {
    "editable": true,
    "slideshow": {
     "slide_type": ""
    },
    "tags": []
   },
   "source": [
    "Python prints strings by surrounding them with _single_ quotes, so it escapes \n",
    "the single quotes in our string. This is useful because we can copy-paste the \n",
    "string into some Python code to use it somewhere else, without having to worry \n",
    "about escaping things.\n",
    "\n",
    "We can create multi-line strings by using three quotation marks. \n",
    "Conventionally, double quotations are usually used for these."
   ]
  },
  {
   "cell_type": "code",
   "execution_count": 5,
   "metadata": {
    "editable": true,
    "execution": {
     "iopub.execute_input": "2025-02-10T17:09:29.688160Z",
     "iopub.status.busy": "2025-02-10T17:09:29.687995Z",
     "iopub.status.idle": "2025-02-10T17:09:29.690269Z",
     "shell.execute_reply": "2025-02-10T17:09:29.689871Z"
    },
    "slideshow": {
     "slide_type": ""
    },
    "tags": []
   },
   "outputs": [],
   "source": [
    "long_fact = \"\"\"This is a long string.\n",
    "Quite long indeed.\n",
    "\"\"\""
   ]
  },
  {
   "cell_type": "code",
   "execution_count": 6,
   "metadata": {
    "editable": true,
    "execution": {
     "iopub.execute_input": "2025-02-10T17:09:29.692028Z",
     "iopub.status.busy": "2025-02-10T17:09:29.691733Z",
     "iopub.status.idle": "2025-02-10T17:09:29.694518Z",
     "shell.execute_reply": "2025-02-10T17:09:29.694019Z"
    },
    "slideshow": {
     "slide_type": ""
    },
    "tags": []
   },
   "outputs": [
    {
     "name": "stdout",
     "output_type": "stream",
     "text": [
      "This is a long string.\n",
      "Quite long indeed.\n",
      "\n"
     ]
    }
   ],
   "source": [
    "print(long_fact)"
   ]
  },
  {
   "cell_type": "markdown",
   "metadata": {
    "editable": true,
    "slideshow": {
     "slide_type": ""
    },
    "tags": []
   },
   "source": [
    "Creating strings like this is useful when you want to include line breaks in \n",
    "your string. You can also use `\\n` in strings to insert line breaks."
   ]
  },
  {
   "cell_type": "code",
   "execution_count": 7,
   "metadata": {
    "editable": true,
    "execution": {
     "iopub.execute_input": "2025-02-10T17:09:29.696416Z",
     "iopub.status.busy": "2025-02-10T17:09:29.696172Z",
     "iopub.status.idle": "2025-02-10T17:09:29.699456Z",
     "shell.execute_reply": "2025-02-10T17:09:29.699044Z"
    },
    "slideshow": {
     "slide_type": ""
    },
    "tags": []
   },
   "outputs": [
    {
     "data": {
      "text/plain": [
       "'This is a long string\\n\\nQuite long indeed.\\n'"
      ]
     },
     "execution_count": 7,
     "metadata": {},
     "output_type": "execute_result"
    }
   ],
   "source": [
    "'This is a long string\\n\\nQuite long indeed.\\n'"
   ]
  },
  {
   "cell_type": "markdown",
   "metadata": {
    "editable": true,
    "slideshow": {
     "slide_type": ""
    },
    "tags": []
   },
   "source": [
    "We can convert things to strings by using the `str` method, which can also \n",
    "create an _empty_ string for us."
   ]
  },
  {
   "cell_type": "code",
   "execution_count": 8,
   "metadata": {
    "editable": true,
    "execution": {
     "iopub.execute_input": "2025-02-10T17:09:29.701300Z",
     "iopub.status.busy": "2025-02-10T17:09:29.700978Z",
     "iopub.status.idle": "2025-02-10T17:09:29.704155Z",
     "shell.execute_reply": "2025-02-10T17:09:29.703622Z"
    },
    "slideshow": {
     "slide_type": ""
    },
    "tags": []
   },
   "outputs": [
    {
     "data": {
      "text/plain": [
       "''"
      ]
     },
     "execution_count": 8,
     "metadata": {},
     "output_type": "execute_result"
    }
   ],
   "source": [
    "''"
   ]
  },
  {
   "cell_type": "code",
   "execution_count": 9,
   "metadata": {
    "editable": true,
    "execution": {
     "iopub.execute_input": "2025-02-10T17:09:29.705993Z",
     "iopub.status.busy": "2025-02-10T17:09:29.705625Z",
     "iopub.status.idle": "2025-02-10T17:09:29.708922Z",
     "shell.execute_reply": "2025-02-10T17:09:29.708450Z"
    },
    "slideshow": {
     "slide_type": ""
    },
    "tags": []
   },
   "outputs": [
    {
     "data": {
      "text/plain": [
       "'A number: 998'"
      ]
     },
     "execution_count": 9,
     "metadata": {},
     "output_type": "execute_result"
    }
   ],
   "source": [
    "'A number: ' + str(999 - 1)"
   ]
  },
  {
   "cell_type": "markdown",
   "metadata": {
    "editable": true,
    "slideshow": {
     "slide_type": ""
    },
    "tags": []
   },
   "source": [
    "Strings are objects, and have lots of useful methods attached to them. If you \n",
    "want to know how many characters are in a string, you use the global `len` \n",
    "method."
   ]
  },
  {
   "cell_type": "code",
   "execution_count": 10,
   "metadata": {
    "editable": true,
    "execution": {
     "iopub.execute_input": "2025-02-10T17:09:29.710838Z",
     "iopub.status.busy": "2025-02-10T17:09:29.710471Z",
     "iopub.status.idle": "2025-02-10T17:09:29.713709Z",
     "shell.execute_reply": "2025-02-10T17:09:29.713233Z"
    },
    "slideshow": {
     "slide_type": ""
    },
    "tags": []
   },
   "outputs": [
    {
     "data": {
      "text/plain": [
       "'A CARROT'"
      ]
     },
     "execution_count": 10,
     "metadata": {},
     "output_type": "execute_result"
    }
   ],
   "source": [
    "b.upper()"
   ]
  },
  {
   "cell_type": "code",
   "execution_count": 11,
   "metadata": {
    "editable": true,
    "execution": {
     "iopub.execute_input": "2025-02-10T17:09:29.715385Z",
     "iopub.status.busy": "2025-02-10T17:09:29.715242Z",
     "iopub.status.idle": "2025-02-10T17:09:29.718326Z",
     "shell.execute_reply": "2025-02-10T17:09:29.717907Z"
    },
    "slideshow": {
     "slide_type": ""
    },
    "tags": []
   },
   "outputs": [
    {
     "data": {
      "text/plain": [
       "'a carrot'"
      ]
     },
     "execution_count": 11,
     "metadata": {},
     "output_type": "execute_result"
    }
   ],
   "source": [
    "b.upper().lower()"
   ]
  },
  {
   "cell_type": "code",
   "execution_count": 12,
   "metadata": {
    "editable": true,
    "execution": {
     "iopub.execute_input": "2025-02-10T17:09:29.720144Z",
     "iopub.status.busy": "2025-02-10T17:09:29.719752Z",
     "iopub.status.idle": "2025-02-10T17:09:29.723216Z",
     "shell.execute_reply": "2025-02-10T17:09:29.722727Z"
    },
    "slideshow": {
     "slide_type": ""
    },
    "tags": []
   },
   "outputs": [
    {
     "data": {
      "text/plain": [
       "'A_parrot'"
      ]
     },
     "execution_count": 12,
     "metadata": {},
     "output_type": "execute_result"
    }
   ],
   "source": [
    "b.replace('carrot', 'parrot').replace(' ', '_')"
   ]
  },
  {
   "cell_type": "code",
   "execution_count": 13,
   "metadata": {
    "editable": true,
    "execution": {
     "iopub.execute_input": "2025-02-10T17:09:29.725029Z",
     "iopub.status.busy": "2025-02-10T17:09:29.724759Z",
     "iopub.status.idle": "2025-02-10T17:09:29.727911Z",
     "shell.execute_reply": "2025-02-10T17:09:29.727422Z"
    },
    "slideshow": {
     "slide_type": ""
    },
    "tags": []
   },
   "outputs": [
    {
     "data": {
      "text/plain": [
       "8"
      ]
     },
     "execution_count": 13,
     "metadata": {},
     "output_type": "execute_result"
    }
   ],
   "source": [
    "len(b)"
   ]
  },
  {
   "cell_type": "code",
   "execution_count": 14,
   "metadata": {
    "editable": true,
    "execution": {
     "iopub.execute_input": "2025-02-10T17:09:29.729727Z",
     "iopub.status.busy": "2025-02-10T17:09:29.729420Z",
     "iopub.status.idle": "2025-02-10T17:09:29.732566Z",
     "shell.execute_reply": "2025-02-10T17:09:29.732085Z"
    },
    "slideshow": {
     "slide_type": ""
    },
    "tags": []
   },
   "outputs": [
    {
     "data": {
      "text/plain": [
       "'A carrot'"
      ]
     },
     "execution_count": 14,
     "metadata": {},
     "output_type": "execute_result"
    }
   ],
   "source": [
    "b"
   ]
  },
  {
   "cell_type": "markdown",
   "metadata": {
    "editable": true,
    "slideshow": {
     "slide_type": ""
    },
    "tags": []
   },
   "source": [
    "Notice that none of these operations _modify_ the value of the `b` variable. \n",
    "Operations on strings _always_ return _new_ strings. Strings are said to be \n",
    "_immutable_ for this reason: you can never change a string, just make new ones."
   ]
  },
  {
   "cell_type": "markdown",
   "metadata": {
    "editable": true,
    "slideshow": {
     "slide_type": ""
    },
    "tags": []
   },
   "source": [
    "## Formatting\n",
    "\n",
    "One of the most common things you’ll find yourself doing with strings is \n",
    "interleaving values into them. For example, you’ve finished an amazing \n",
    "analysis, and want to print the results."
   ]
  },
  {
   "cell_type": "code",
   "execution_count": 15,
   "metadata": {
    "editable": true,
    "execution": {
     "iopub.execute_input": "2025-02-10T17:09:29.734423Z",
     "iopub.status.busy": "2025-02-10T17:09:29.734177Z",
     "iopub.status.idle": "2025-02-10T17:09:29.737123Z",
     "shell.execute_reply": "2025-02-10T17:09:29.736626Z"
    },
    "slideshow": {
     "slide_type": ""
    },
    "tags": []
   },
   "outputs": [
    {
     "name": "stdout",
     "output_type": "stream",
     "text": [
      "My results are: 42.0, 123.21\n"
     ]
    }
   ],
   "source": [
    "result1 = 42.0\n",
    "result2 = 123.21\n",
    "print('My results are: ' + str(result1) + ', ' + str(result2))"
   ]
  },
  {
   "cell_type": "markdown",
   "metadata": {
    "editable": true,
    "slideshow": {
     "slide_type": ""
    },
    "tags": []
   },
   "source": [
    "\n",
    "This is already quite ugly, and will only get worse with more results. We can \n",
    "instead use the `f-string` and use the \n",
    "special `{}` placeholders to say where we want the values to go in the string by placing an `f` in front of the string (a \"formatted\" string)."
   ]
  },
  {
   "cell_type": "code",
   "execution_count": 16,
   "metadata": {
    "editable": true,
    "execution": {
     "iopub.execute_input": "2025-02-10T17:09:29.738988Z",
     "iopub.status.busy": "2025-02-10T17:09:29.738620Z",
     "iopub.status.idle": "2025-02-10T17:09:29.740902Z",
     "shell.execute_reply": "2025-02-10T17:09:29.740518Z"
    },
    "slideshow": {
     "slide_type": ""
    },
    "tags": []
   },
   "outputs": [],
   "source": [
    "output = f'My results are: {result1} {result2}'"
   ]
  },
  {
   "cell_type": "markdown",
   "metadata": {
    "editable": true,
    "slideshow": {
     "slide_type": ""
    },
    "tags": []
   },
   "source": [
    "Instead, we can also just create a string withouth the `f` in front and later insert values. This is not only the more historical method, it also provides the ability to template a string and then use the `format` method that’s available on strings."
   ]
  },
  {
   "cell_type": "code",
   "execution_count": 17,
   "metadata": {
    "editable": true,
    "execution": {
     "iopub.execute_input": "2025-02-10T17:09:29.742603Z",
     "iopub.status.busy": "2025-02-10T17:09:29.742451Z",
     "iopub.status.idle": "2025-02-10T17:09:29.744823Z",
     "shell.execute_reply": "2025-02-10T17:09:29.744340Z"
    },
    "slideshow": {
     "slide_type": ""
    },
    "tags": []
   },
   "outputs": [],
   "source": [
    "template = 'My results are: {}, {}'"
   ]
  },
  {
   "cell_type": "code",
   "execution_count": 18,
   "metadata": {
    "editable": true,
    "execution": {
     "iopub.execute_input": "2025-02-10T17:09:29.746498Z",
     "iopub.status.busy": "2025-02-10T17:09:29.746253Z",
     "iopub.status.idle": "2025-02-10T17:09:29.748714Z",
     "shell.execute_reply": "2025-02-10T17:09:29.748233Z"
    },
    "slideshow": {
     "slide_type": ""
    },
    "tags": []
   },
   "outputs": [
    {
     "name": "stdout",
     "output_type": "stream",
     "text": [
      "My results are: 42.0, 123.21\n"
     ]
    }
   ],
   "source": [
    "print(template.format(result1, result2))"
   ]
  },
  {
   "cell_type": "markdown",
   "metadata": {
    "editable": true,
    "slideshow": {
     "slide_type": ""
    },
    "tags": []
   },
   "source": [
    "Much better! We define the whole string at once, and then place the missing \n",
    "values in later.\n",
    "\n",
    "We can add  numbers inside the placeholders, `{0}` and `{1}`, which correspond to the indices \n",
    "of the arguments passed to the `format` method, where `0` is the first \n",
    "argument, `1` is the second, and so on. By referencing positions like this, we \n",
    "can easily repeat placeholders in the string, but only pass the values once to \n",
    "`format`."
   ]
  },
  {
   "cell_type": "code",
   "execution_count": 19,
   "metadata": {
    "editable": true,
    "execution": {
     "iopub.execute_input": "2025-02-10T17:09:29.750515Z",
     "iopub.status.busy": "2025-02-10T17:09:29.750217Z",
     "iopub.status.idle": "2025-02-10T17:09:29.752595Z",
     "shell.execute_reply": "2025-02-10T17:09:29.752129Z"
    },
    "slideshow": {
     "slide_type": ""
    },
    "tags": []
   },
   "outputs": [],
   "source": [
    "template = 'My results are: {1}, {0}. The best is {0}, obviously.'  # no need to start with 0 here"
   ]
  },
  {
   "cell_type": "code",
   "execution_count": 20,
   "metadata": {
    "editable": true,
    "execution": {
     "iopub.execute_input": "2025-02-10T17:09:29.754402Z",
     "iopub.status.busy": "2025-02-10T17:09:29.754010Z",
     "iopub.status.idle": "2025-02-10T17:09:29.756771Z",
     "shell.execute_reply": "2025-02-10T17:09:29.756307Z"
    },
    "slideshow": {
     "slide_type": ""
    },
    "tags": []
   },
   "outputs": [
    {
     "name": "stdout",
     "output_type": "stream",
     "text": [
      "My results are: 123.21, 42.0. The best is 42.0, obviously.\n"
     ]
    }
   ],
   "source": [
    "print(template.format(result1, result2))"
   ]
  },
  {
   "cell_type": "markdown",
   "metadata": {
    "editable": true,
    "slideshow": {
     "slide_type": ""
    },
    "tags": []
   },
   "source": [
    "You can also use _named_ placeholders, then passing the values to `format` \n",
    "using the same name."
   ]
  },
  {
   "cell_type": "code",
   "execution_count": 21,
   "metadata": {
    "editable": true,
    "execution": {
     "iopub.execute_input": "2025-02-10T17:09:29.758662Z",
     "iopub.status.busy": "2025-02-10T17:09:29.758291Z",
     "iopub.status.idle": "2025-02-10T17:09:29.760563Z",
     "shell.execute_reply": "2025-02-10T17:09:29.760180Z"
    },
    "slideshow": {
     "slide_type": ""
    },
    "tags": []
   },
   "outputs": [],
   "source": [
    "template3 = 'My results are: {best}, {worst}. But the best is {best}, obviously.'"
   ]
  },
  {
   "cell_type": "code",
   "execution_count": 22,
   "metadata": {
    "editable": true,
    "execution": {
     "iopub.execute_input": "2025-02-10T17:09:29.762238Z",
     "iopub.status.busy": "2025-02-10T17:09:29.762061Z",
     "iopub.status.idle": "2025-02-10T17:09:29.764888Z",
     "shell.execute_reply": "2025-02-10T17:09:29.764482Z"
    },
    "slideshow": {
     "slide_type": ""
    },
    "tags": []
   },
   "outputs": [
    {
     "name": "stdout",
     "output_type": "stream",
     "text": [
      "My results are: 42.0, 123.21. But the best is 42.0, obviously.\n"
     ]
    }
   ],
   "source": [
    "print(template3.format(best=result1, worst=result2))"
   ]
  },
  {
   "cell_type": "markdown",
   "metadata": {
    "editable": true,
    "slideshow": {
     "slide_type": ""
    },
    "tags": []
   },
   "source": [
    "But remember the `f-string`, if we don't need to do something fancy, it's a lot more convenient to use it (and the 99% use-case)"
   ]
  },
  {
   "cell_type": "code",
   "execution_count": 23,
   "metadata": {
    "editable": true,
    "execution": {
     "iopub.execute_input": "2025-02-10T17:09:29.766751Z",
     "iopub.status.busy": "2025-02-10T17:09:29.766458Z",
     "iopub.status.idle": "2025-02-10T17:09:29.769794Z",
     "shell.execute_reply": "2025-02-10T17:09:29.769313Z"
    },
    "slideshow": {
     "slide_type": ""
    },
    "tags": []
   },
   "outputs": [
    {
     "data": {
      "text/plain": [
       "'My results are: 42.0, 123.21. But the best is 42.0, obviously.'"
      ]
     },
     "execution_count": 23,
     "metadata": {},
     "output_type": "execute_result"
    }
   ],
   "source": [
    "f'My results are: {result1}, {result2}. But the best is {result1}, obviously.'"
   ]
  },
  {
   "cell_type": "code",
   "execution_count": 24,
   "metadata": {
    "editable": true,
    "execution": {
     "iopub.execute_input": "2025-02-10T17:09:29.771666Z",
     "iopub.status.busy": "2025-02-10T17:09:29.771366Z",
     "iopub.status.idle": "2025-02-10T17:09:29.773855Z",
     "shell.execute_reply": "2025-02-10T17:09:29.773413Z"
    },
    "slideshow": {
     "slide_type": ""
    },
    "tags": []
   },
   "outputs": [
    {
     "name": "stdout",
     "output_type": "stream",
     "text": [
      "My results are: {best}, {worst}. But the best is {best}, obviously.\n"
     ]
    }
   ],
   "source": [
    "print(template3)"
   ]
  },
  {
   "cell_type": "markdown",
   "metadata": {
    "editable": true,
    "slideshow": {
     "slide_type": ""
    },
    "tags": []
   },
   "source": [
    "This is nice because it gives more meaning to what the placeholders are for.\n",
    "\n",
    "There’s [a lot you can do inside the placeholders](https://docs.python.org/3/tutorial/inputoutput.html#the-string-format-method), such as specifying that you want to format a number with a certain number of decimal places."
   ]
  },
  {
   "cell_type": "code",
   "execution_count": 25,
   "metadata": {
    "editable": true,
    "execution": {
     "iopub.execute_input": "2025-02-10T17:09:29.775769Z",
     "iopub.status.busy": "2025-02-10T17:09:29.775334Z",
     "iopub.status.idle": "2025-02-10T17:09:29.777961Z",
     "shell.execute_reply": "2025-02-10T17:09:29.777572Z"
    },
    "slideshow": {
     "slide_type": ""
    },
    "tags": []
   },
   "outputs": [
    {
     "name": "stdout",
     "output_type": "stream",
     "text": [
      "This number is great: 42.000\n"
     ]
    }
   ],
   "source": [
    "print(f'This number is great: {result1:.3f}')"
   ]
  },
  {
   "cell_type": "markdown",
   "metadata": {
    "editable": true,
    "slideshow": {
     "slide_type": ""
    },
    "tags": []
   },
   "source": [
    "If you want to print a literal curly brace using `format`, you will need to\n",
    "escape it by doubling it, so that `{{` will become `{` and `}}` will become `}`.\n",
    "Here's an example:"
   ]
  },
  {
   "cell_type": "code",
   "execution_count": 26,
   "metadata": {
    "editable": true,
    "execution": {
     "iopub.execute_input": "2025-02-10T17:09:29.779645Z",
     "iopub.status.busy": "2025-02-10T17:09:29.779493Z",
     "iopub.status.idle": "2025-02-10T17:09:29.782229Z",
     "shell.execute_reply": "2025-02-10T17:09:29.781804Z"
    },
    "slideshow": {
     "slide_type": ""
    },
    "tags": []
   },
   "outputs": [
    {
     "name": "stdout",
     "output_type": "stream",
     "text": [
      "This number will be surrounded by curly braces: {42.0}\n"
     ]
    }
   ],
   "source": [
    "print(f'This number will be surrounded by curly braces: {{{result1}}}')"
   ]
  },
  {
   "cell_type": "markdown",
   "metadata": {
    "editable": true,
    "slideshow": {
     "slide_type": ""
    },
    "tags": []
   },
   "source": [
    "The innermost `{0}` is replaced with the number, and `{{...}}` becomes `{...}`."
   ]
  }
 ],
 "metadata": {
  "language_info": {
   "codemirror_mode": {
    "name": "ipython",
    "version": 3
   },
   "file_extension": ".py",
   "mimetype": "text/x-python",
   "name": "python",
   "nbconvert_exporter": "python",
   "pygments_lexer": "ipython3",
   "version": "3.11.11"
  }
 },
 "nbformat": 4,
 "nbformat_minor": 4
}
